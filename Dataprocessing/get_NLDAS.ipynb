{
 "cells": [
  {
   "cell_type": "markdown",
   "metadata": {},
   "source": [
    "# Next steps \n",
    "- connect precip to DF,\n",
    "- add new sites (e.g., regionval) to training DF with all the respective spatial resolution information\n",
    "- connect regional data together to train model\n",
    "- connect different regions\n",
    "- add precipitation phase features (seasonal accumulated rain precip, seasonal accumulated snow precip as a function of temperature)\n",
    "- explore adding other features stemming from SNOTEL, remote sensing (LULC), Snow Classifications (Sturms), energy balance\n",
    "\n",
    "Put all units in SI, while it should not matter for model training since they are being normalized, they will be more interpretable."
   ]
  },
  {
   "cell_type": "code",
   "execution_count": 57,
   "metadata": {},
   "outputs": [
    {
     "data": {
      "text/plain": [
       "['GeoObsdfs_20170816.parquet',\n",
       " 'GeoObsdfs_20180304.parquet',\n",
       " 'GeoObsdfs_20180422.parquet',\n",
       " 'GeoObsdfs_20180423.parquet',\n",
       " 'GeoObsdfs_20180425.parquet',\n",
       " 'GeoObsdfs_20180426.parquet',\n",
       " 'GeoObsdfs_20180528.parquet',\n",
       " 'GeoObsdfs_20180601.parquet',\n",
       " 'GeoObsdfs_20180602.parquet',\n",
       " 'GeoObsdfs_20190309.parquet',\n",
       " 'GeoObsdfs_20190315.parquet',\n",
       " 'GeoObsdfs_20190316.parquet',\n",
       " 'GeoObsdfs_20190317.parquet',\n",
       " 'GeoObsdfs_20190324.parquet',\n",
       " 'GeoObsdfs_20190325.parquet',\n",
       " 'GeoObsdfs_20190326.parquet',\n",
       " 'GeoObsdfs_20190329.parquet',\n",
       " 'GeoObsdfs_20190417.parquet',\n",
       " 'GeoObsdfs_20190418.parquet',\n",
       " 'GeoObsdfs_20190421.parquet',\n",
       " 'GeoObsdfs_20190427.parquet',\n",
       " 'GeoObsdfs_20190428.parquet',\n",
       " 'GeoObsdfs_20190501.parquet',\n",
       " 'GeoObsdfs_20190502.parquet',\n",
       " 'GeoObsdfs_20190503.parquet',\n",
       " 'GeoObsdfs_20190604.parquet',\n",
       " 'GeoObsdfs_20190605.parquet',\n",
       " 'GeoObsdfs_20190608.parquet',\n",
       " 'GeoObsdfs_20190609.parquet',\n",
       " 'GeoObsdfs_20190611.parquet',\n",
       " 'GeoObsdfs_20190613.parquet',\n",
       " 'GeoObsdfs_20190614.parquet',\n",
       " 'GeoObsdfs_20190703.parquet',\n",
       " 'GeoObsdfs_20190704.parquet',\n",
       " 'GeoObsdfs_20190705.parquet',\n",
       " 'GeoObsdfs_20190713.parquet',\n",
       " 'GeoObsdfs_20190714.parquet',\n",
       " 'GeoObsdfs_20190715.parquet',\n",
       " 'GeoObsdfs_20190716.parquet']"
      ]
     },
     "execution_count": 57,
     "metadata": {},
     "output_type": "execute_result"
    }
   ],
   "source": [
    "region = 'S_Sierras'\n",
    "output_res = 300\n",
    "folder_path = f\"{HOME}/SWEMLv2.0/data/TrainingDFs/{region}/{output_res}M_Resolution/GeoObsDFs\"\n",
    "files = [file for file in os.listdir(folder_path)]\n",
    "files.sort()\n",
    "\n",
    "files[60:]"
   ]
  },
  {
   "cell_type": "code",
   "execution_count": 58,
   "metadata": {},
   "outputs": [
    {
     "data": {
      "text/plain": [
       "99"
      ]
     },
     "execution_count": 58,
     "metadata": {},
     "output_type": "execute_result"
    }
   ],
   "source": [
    "Vfiles = [file for file in os.listdir(folder_path)]\n",
    "Vfiles.sort()\n",
    "len(Vfiles)"
   ]
  },
  {
   "cell_type": "code",
   "execution_count": 51,
   "metadata": {},
   "outputs": [
    {
     "data": {
      "text/plain": [
       "91"
      ]
     },
     "execution_count": 51,
     "metadata": {},
     "output_type": "execute_result"
    }
   ],
   "source": [
    "# find out why throwing NaNs\n",
    "# make sure all files are done\n",
    "\n",
    "import os\n",
    "import pandas as pd\n",
    "from tqdm import tqdm\n",
    "import numpy as np\n",
    "\n",
    "HOME = os.path.expanduser('~')\n",
    "\n",
    "\n",
    "region = 'S_Sierras'\n",
    "output_res = 300\n",
    "folder_path = f\"{HOME}/SWEMLv2.0/data/TrainingDFs/{region}/{output_res}M_Resolution/VIIRSGeoObsDFs/20_fSCA_Thresh\"\n",
    "Vfiles = [file for file in os.listdir(folder_path)]\n",
    "Vfiles.sort()\n",
    "#Vfiles\n",
    "\n",
    "len(Vfiles)\n",
    "\n",
    "# for file in Vfiles:\n",
    "#     x = pd.read_parquet(os.path.join(folder_path, file), engine='fastparquet')\n",
    "#     print(file)\n",
    "\n"
   ]
  },
  {
   "cell_type": "code",
   "execution_count": 52,
   "metadata": {},
   "outputs": [
    {
     "data": {
      "text/plain": [
       "[]"
      ]
     },
     "execution_count": 52,
     "metadata": {},
     "output_type": "execute_result"
    }
   ],
   "source": [
    "Vfiles[91:]"
   ]
  },
  {
   "cell_type": "code",
   "execution_count": 27,
   "metadata": {},
   "outputs": [
    {
     "data": {
      "text/html": [
       "<div>\n",
       "<style scoped>\n",
       "    .dataframe tbody tr th:only-of-type {\n",
       "        vertical-align: middle;\n",
       "    }\n",
       "\n",
       "    .dataframe tbody tr th {\n",
       "        vertical-align: top;\n",
       "    }\n",
       "\n",
       "    .dataframe thead th {\n",
       "        text-align: right;\n",
       "    }\n",
       "</style>\n",
       "<table border=\"1\" class=\"dataframe\">\n",
       "  <thead>\n",
       "    <tr style=\"text-align: right;\">\n",
       "      <th></th>\n",
       "      <th>cell_id</th>\n",
       "      <th>Date</th>\n",
       "      <th>cen_lat</th>\n",
       "      <th>cen_lon</th>\n",
       "      <th>Elevation_m</th>\n",
       "      <th>Slope_Deg</th>\n",
       "      <th>Aspect_Deg</th>\n",
       "      <th>swe_m</th>\n",
       "      <th>nearest_site_1</th>\n",
       "      <th>nearest_site_2</th>\n",
       "      <th>nearest_site_3</th>\n",
       "      <th>nearest_site_4</th>\n",
       "      <th>nearest_site_5</th>\n",
       "      <th>nearest_site_6</th>\n",
       "      <th>VIIRS_SCA</th>\n",
       "      <th>hasSnow</th>\n",
       "    </tr>\n",
       "  </thead>\n",
       "  <tbody>\n",
       "    <tr>\n",
       "      <th>0</th>\n",
       "      <td>S_Sierras_300M_37.74_-119.189</td>\n",
       "      <td>2019-03-15</td>\n",
       "      <td>37.740</td>\n",
       "      <td>-119.189</td>\n",
       "      <td>3023</td>\n",
       "      <td>9</td>\n",
       "      <td>199</td>\n",
       "      <td>0.0</td>\n",
       "      <td>7.65006</td>\n",
       "      <td>29.98</td>\n",
       "      <td>37.88</td>\n",
       "      <td>36.86</td>\n",
       "      <td>48.720000</td>\n",
       "      <td>32.95</td>\n",
       "      <td>NaN</td>\n",
       "      <td>False</td>\n",
       "    </tr>\n",
       "    <tr>\n",
       "      <th>1</th>\n",
       "      <td>S_Sierras_300M_37.737_-119.192</td>\n",
       "      <td>2019-03-15</td>\n",
       "      <td>37.737</td>\n",
       "      <td>-119.192</td>\n",
       "      <td>3047</td>\n",
       "      <td>17</td>\n",
       "      <td>183</td>\n",
       "      <td>0.0</td>\n",
       "      <td>7.65006</td>\n",
       "      <td>29.98</td>\n",
       "      <td>37.88</td>\n",
       "      <td>36.86</td>\n",
       "      <td>48.720000</td>\n",
       "      <td>32.95</td>\n",
       "      <td>NaN</td>\n",
       "      <td>False</td>\n",
       "    </tr>\n",
       "    <tr>\n",
       "      <th>2</th>\n",
       "      <td>S_Sierras_300M_37.737_-119.189</td>\n",
       "      <td>2019-03-15</td>\n",
       "      <td>37.737</td>\n",
       "      <td>-119.189</td>\n",
       "      <td>3023</td>\n",
       "      <td>9</td>\n",
       "      <td>199</td>\n",
       "      <td>0.0</td>\n",
       "      <td>7.65006</td>\n",
       "      <td>29.98</td>\n",
       "      <td>37.88</td>\n",
       "      <td>36.86</td>\n",
       "      <td>48.720000</td>\n",
       "      <td>32.95</td>\n",
       "      <td>NaN</td>\n",
       "      <td>False</td>\n",
       "    </tr>\n",
       "    <tr>\n",
       "      <th>3</th>\n",
       "      <td>S_Sierras_300M_37.737_-119.186</td>\n",
       "      <td>2019-03-15</td>\n",
       "      <td>37.737</td>\n",
       "      <td>-119.186</td>\n",
       "      <td>2994</td>\n",
       "      <td>13</td>\n",
       "      <td>162</td>\n",
       "      <td>0.0</td>\n",
       "      <td>7.65006</td>\n",
       "      <td>29.98</td>\n",
       "      <td>37.88</td>\n",
       "      <td>36.86</td>\n",
       "      <td>48.720000</td>\n",
       "      <td>32.95</td>\n",
       "      <td>NaN</td>\n",
       "      <td>False</td>\n",
       "    </tr>\n",
       "    <tr>\n",
       "      <th>4</th>\n",
       "      <td>S_Sierras_300M_37.737_-119.184</td>\n",
       "      <td>2019-03-15</td>\n",
       "      <td>37.737</td>\n",
       "      <td>-119.184</td>\n",
       "      <td>2926</td>\n",
       "      <td>33</td>\n",
       "      <td>175</td>\n",
       "      <td>0.0</td>\n",
       "      <td>7.65006</td>\n",
       "      <td>29.98</td>\n",
       "      <td>37.88</td>\n",
       "      <td>36.86</td>\n",
       "      <td>48.720000</td>\n",
       "      <td>32.95</td>\n",
       "      <td>NaN</td>\n",
       "      <td>False</td>\n",
       "    </tr>\n",
       "    <tr>\n",
       "      <th>...</th>\n",
       "      <td>...</td>\n",
       "      <td>...</td>\n",
       "      <td>...</td>\n",
       "      <td>...</td>\n",
       "      <td>...</td>\n",
       "      <td>...</td>\n",
       "      <td>...</td>\n",
       "      <td>...</td>\n",
       "      <td>...</td>\n",
       "      <td>...</td>\n",
       "      <td>...</td>\n",
       "      <td>...</td>\n",
       "      <td>...</td>\n",
       "      <td>...</td>\n",
       "      <td>...</td>\n",
       "      <td>...</td>\n",
       "    </tr>\n",
       "    <tr>\n",
       "      <th>59031</th>\n",
       "      <td>S_Sierras_300M_36.992_-119.64</td>\n",
       "      <td>2019-03-15</td>\n",
       "      <td>36.992</td>\n",
       "      <td>-119.640</td>\n",
       "      <td>300</td>\n",
       "      <td>28</td>\n",
       "      <td>83</td>\n",
       "      <td>0.0</td>\n",
       "      <td>46.44000</td>\n",
       "      <td>33.36</td>\n",
       "      <td>55.20</td>\n",
       "      <td>39.24</td>\n",
       "      <td>8.787872</td>\n",
       "      <td>48.66</td>\n",
       "      <td>0.0</td>\n",
       "      <td>False</td>\n",
       "    </tr>\n",
       "    <tr>\n",
       "      <th>59032</th>\n",
       "      <td>S_Sierras_300M_36.992_-119.637</td>\n",
       "      <td>2019-03-15</td>\n",
       "      <td>36.992</td>\n",
       "      <td>-119.637</td>\n",
       "      <td>300</td>\n",
       "      <td>25</td>\n",
       "      <td>88</td>\n",
       "      <td>0.0</td>\n",
       "      <td>46.44000</td>\n",
       "      <td>33.36</td>\n",
       "      <td>55.20</td>\n",
       "      <td>39.24</td>\n",
       "      <td>8.787872</td>\n",
       "      <td>48.66</td>\n",
       "      <td>NaN</td>\n",
       "      <td>False</td>\n",
       "    </tr>\n",
       "    <tr>\n",
       "      <th>59033</th>\n",
       "      <td>S_Sierras_300M_36.992_-119.634</td>\n",
       "      <td>2019-03-15</td>\n",
       "      <td>36.992</td>\n",
       "      <td>-119.634</td>\n",
       "      <td>301</td>\n",
       "      <td>19</td>\n",
       "      <td>72</td>\n",
       "      <td>0.0</td>\n",
       "      <td>46.44000</td>\n",
       "      <td>33.36</td>\n",
       "      <td>55.20</td>\n",
       "      <td>39.24</td>\n",
       "      <td>8.787872</td>\n",
       "      <td>48.66</td>\n",
       "      <td>0.0</td>\n",
       "      <td>False</td>\n",
       "    </tr>\n",
       "    <tr>\n",
       "      <th>59034</th>\n",
       "      <td>S_Sierras_300M_36.992_-119.632</td>\n",
       "      <td>2019-03-15</td>\n",
       "      <td>36.992</td>\n",
       "      <td>-119.632</td>\n",
       "      <td>303</td>\n",
       "      <td>25</td>\n",
       "      <td>90</td>\n",
       "      <td>0.0</td>\n",
       "      <td>46.44000</td>\n",
       "      <td>33.36</td>\n",
       "      <td>55.20</td>\n",
       "      <td>39.24</td>\n",
       "      <td>8.787872</td>\n",
       "      <td>48.66</td>\n",
       "      <td>0.0</td>\n",
       "      <td>False</td>\n",
       "    </tr>\n",
       "    <tr>\n",
       "      <th>59035</th>\n",
       "      <td>S_Sierras_300M_36.989_-119.64</td>\n",
       "      <td>2019-03-15</td>\n",
       "      <td>36.989</td>\n",
       "      <td>-119.640</td>\n",
       "      <td>300</td>\n",
       "      <td>28</td>\n",
       "      <td>83</td>\n",
       "      <td>0.0</td>\n",
       "      <td>46.44000</td>\n",
       "      <td>33.36</td>\n",
       "      <td>55.20</td>\n",
       "      <td>39.24</td>\n",
       "      <td>8.787872</td>\n",
       "      <td>48.66</td>\n",
       "      <td>0.0</td>\n",
       "      <td>False</td>\n",
       "    </tr>\n",
       "  </tbody>\n",
       "</table>\n",
       "<p>59036 rows × 16 columns</p>\n",
       "</div>"
      ],
      "text/plain": [
       "                              cell_id       Date  cen_lat  cen_lon  \\\n",
       "0       S_Sierras_300M_37.74_-119.189 2019-03-15   37.740 -119.189   \n",
       "1      S_Sierras_300M_37.737_-119.192 2019-03-15   37.737 -119.192   \n",
       "2      S_Sierras_300M_37.737_-119.189 2019-03-15   37.737 -119.189   \n",
       "3      S_Sierras_300M_37.737_-119.186 2019-03-15   37.737 -119.186   \n",
       "4      S_Sierras_300M_37.737_-119.184 2019-03-15   37.737 -119.184   \n",
       "...                               ...        ...      ...      ...   \n",
       "59031   S_Sierras_300M_36.992_-119.64 2019-03-15   36.992 -119.640   \n",
       "59032  S_Sierras_300M_36.992_-119.637 2019-03-15   36.992 -119.637   \n",
       "59033  S_Sierras_300M_36.992_-119.634 2019-03-15   36.992 -119.634   \n",
       "59034  S_Sierras_300M_36.992_-119.632 2019-03-15   36.992 -119.632   \n",
       "59035   S_Sierras_300M_36.989_-119.64 2019-03-15   36.989 -119.640   \n",
       "\n",
       "       Elevation_m  Slope_Deg  Aspect_Deg  swe_m  nearest_site_1  \\\n",
       "0             3023          9         199    0.0         7.65006   \n",
       "1             3047         17         183    0.0         7.65006   \n",
       "2             3023          9         199    0.0         7.65006   \n",
       "3             2994         13         162    0.0         7.65006   \n",
       "4             2926         33         175    0.0         7.65006   \n",
       "...            ...        ...         ...    ...             ...   \n",
       "59031          300         28          83    0.0        46.44000   \n",
       "59032          300         25          88    0.0        46.44000   \n",
       "59033          301         19          72    0.0        46.44000   \n",
       "59034          303         25          90    0.0        46.44000   \n",
       "59035          300         28          83    0.0        46.44000   \n",
       "\n",
       "       nearest_site_2  nearest_site_3  nearest_site_4  nearest_site_5  \\\n",
       "0               29.98           37.88           36.86       48.720000   \n",
       "1               29.98           37.88           36.86       48.720000   \n",
       "2               29.98           37.88           36.86       48.720000   \n",
       "3               29.98           37.88           36.86       48.720000   \n",
       "4               29.98           37.88           36.86       48.720000   \n",
       "...               ...             ...             ...             ...   \n",
       "59031           33.36           55.20           39.24        8.787872   \n",
       "59032           33.36           55.20           39.24        8.787872   \n",
       "59033           33.36           55.20           39.24        8.787872   \n",
       "59034           33.36           55.20           39.24        8.787872   \n",
       "59035           33.36           55.20           39.24        8.787872   \n",
       "\n",
       "       nearest_site_6  VIIRS_SCA  hasSnow  \n",
       "0               32.95        NaN    False  \n",
       "1               32.95        NaN    False  \n",
       "2               32.95        NaN    False  \n",
       "3               32.95        NaN    False  \n",
       "4               32.95        NaN    False  \n",
       "...               ...        ...      ...  \n",
       "59031           48.66        0.0    False  \n",
       "59032           48.66        NaN    False  \n",
       "59033           48.66        0.0    False  \n",
       "59034           48.66        0.0    False  \n",
       "59035           48.66        0.0    False  \n",
       "\n",
       "[59036 rows x 16 columns]"
      ]
     },
     "execution_count": 27,
     "metadata": {},
     "output_type": "execute_result"
    }
   ],
   "source": [
    "x['cen_lon'] =np.round(x['cen_lon'], 3)\n",
    "x['cen_lat'] =np.round(x['cen_lat'], 3)\n",
    "x"
   ]
  },
  {
   "cell_type": "code",
   "execution_count": 15,
   "metadata": {},
   "outputs": [
    {
     "name": "stdout",
     "output_type": "stream",
     "text": [
      "Loading 300M resolution grids for S_Sierras region\n"
     ]
    }
   ],
   "source": [
    "import pickle as pkl\n",
    "nearest_snotel_dict_path = f\"{HOME}/SWEMLv2.0/data/TrainingDFs/{region}/{output_res}M_Resolution\"\n",
    "\n",
    "#Load dictionary of nearest sites\n",
    "print(f\"Loading {output_res}M resolution grids for {region} region\")\n",
    "with open(f\"{nearest_snotel_dict_path}/nearest_SNOTEL.pkl\", 'rb') as handle:\n",
    "    nearest_snotel = pkl.load(handle)"
   ]
  },
  {
   "cell_type": "code",
   "execution_count": 19,
   "metadata": {},
   "outputs": [
    {
     "ename": "KeyError",
     "evalue": "'S_Sierras_300M_36.994_-119.624'",
     "output_type": "error",
     "traceback": [
      "\u001b[0;31m---------------------------------------------------------------------------\u001b[0m",
      "\u001b[0;31mKeyError\u001b[0m                                  Traceback (most recent call last)",
      "Cell \u001b[0;32mIn[19], line 1\u001b[0m\n\u001b[0;32m----> 1\u001b[0m \u001b[43mnearest_snotel\u001b[49m\u001b[43m[\u001b[49m\u001b[38;5;124;43m'\u001b[39;49m\u001b[38;5;124;43mS_Sierras_300M_36.994_-119.624\u001b[39;49m\u001b[38;5;124;43m'\u001b[39;49m\u001b[43m]\u001b[49m\n",
      "\u001b[0;31mKeyError\u001b[0m: 'S_Sierras_300M_36.994_-119.624'"
     ]
    }
   ],
   "source": [
    "nearest_snotel['S_Sierras_300M_36.994_-119.624']"
   ]
  },
  {
   "cell_type": "code",
   "execution_count": null,
   "metadata": {},
   "outputs": [],
   "source": []
  },
  {
   "cell_type": "code",
   "execution_count": 3,
   "metadata": {},
   "outputs": [
    {
     "name": "stdout",
     "output_type": "stream",
     "text": [
      "Getting unique cell ids and taking the spatial average to get 300 m resolution\n"
     ]
    },
    {
     "name": "stderr",
     "output_type": "stream",
     "text": []
    },
    {
     "name": "stderr",
     "output_type": "stream",
     "text": [
      "100%|██████████| 5/5 [00:00<00:00, 15.71it/s]\n"
     ]
    },
    {
     "data": {
      "text/plain": [
       "[None, None, None, None, None]"
      ]
     },
     "execution_count": 3,
     "metadata": {},
     "output_type": "execute_result"
    }
   ],
   "source": [
    "cell_ids = aso_file.cell_id.unique()\n",
    "siteave_dic = {}\n",
    "from tqdm import tqdm\n",
    "\n",
    "print(f\"Getting unique cell ids and taking the spatial average to get {output_res} m resolution\")\n",
    "[average_duplicates(cell_id, aso_file, siteave_dic) for cell_id in tqdm(cell_ids[:5])]"
   ]
  },
  {
   "cell_type": "code",
   "execution_count": 5,
   "metadata": {},
   "outputs": [
    {
     "data": {
      "text/html": [
       "<div>\n",
       "<style scoped>\n",
       "    .dataframe tbody tr th:only-of-type {\n",
       "        vertical-align: middle;\n",
       "    }\n",
       "\n",
       "    .dataframe tbody tr th {\n",
       "        vertical-align: top;\n",
       "    }\n",
       "\n",
       "    .dataframe thead th {\n",
       "        text-align: right;\n",
       "    }\n",
       "</style>\n",
       "<table border=\"1\" class=\"dataframe\">\n",
       "  <thead>\n",
       "    <tr style=\"text-align: right;\">\n",
       "      <th></th>\n",
       "      <th></th>\n",
       "      <th>cell_id</th>\n",
       "      <th>cen_lat</th>\n",
       "      <th>cen_lon</th>\n",
       "      <th>swe_m</th>\n",
       "    </tr>\n",
       "  </thead>\n",
       "  <tbody>\n",
       "    <tr>\n",
       "      <th>S_Sierras_300M_38.186_-119.59</th>\n",
       "      <th>S_Sierras_300M_38.186_-119.59</th>\n",
       "      <td>S_Sierras_300M_38.186_-119.59</td>\n",
       "      <td>38.186</td>\n",
       "      <td>-119.590</td>\n",
       "      <td>0.80</td>\n",
       "    </tr>\n",
       "    <tr>\n",
       "      <th>S_Sierras_300M_38.186_-119.589</th>\n",
       "      <th>S_Sierras_300M_38.186_-119.589</th>\n",
       "      <td>S_Sierras_300M_38.186_-119.589</td>\n",
       "      <td>38.186</td>\n",
       "      <td>-119.589</td>\n",
       "      <td>0.42</td>\n",
       "    </tr>\n",
       "    <tr>\n",
       "      <th>S_Sierras_300M_38.186_-119.591</th>\n",
       "      <th>S_Sierras_300M_38.186_-119.591</th>\n",
       "      <td>S_Sierras_300M_38.186_-119.591</td>\n",
       "      <td>38.186</td>\n",
       "      <td>-119.591</td>\n",
       "      <td>1.21</td>\n",
       "    </tr>\n",
       "    <tr>\n",
       "      <th>S_Sierras_300M_38.186_-119.588</th>\n",
       "      <th>S_Sierras_300M_38.186_-119.588</th>\n",
       "      <td>S_Sierras_300M_38.186_-119.588</td>\n",
       "      <td>38.186</td>\n",
       "      <td>-119.588</td>\n",
       "      <td>0.31</td>\n",
       "    </tr>\n",
       "    <tr>\n",
       "      <th>S_Sierras_300M_38.185_-119.592</th>\n",
       "      <th>S_Sierras_300M_38.185_-119.592</th>\n",
       "      <td>S_Sierras_300M_38.185_-119.592</td>\n",
       "      <td>38.185</td>\n",
       "      <td>-119.592</td>\n",
       "      <td>0.56</td>\n",
       "    </tr>\n",
       "  </tbody>\n",
       "</table>\n",
       "</div>"
      ],
      "text/plain": [
       "                                                                                      cell_id  \\\n",
       "S_Sierras_300M_38.186_-119.59  S_Sierras_300M_38.186_-119.59    S_Sierras_300M_38.186_-119.59   \n",
       "S_Sierras_300M_38.186_-119.589 S_Sierras_300M_38.186_-119.589  S_Sierras_300M_38.186_-119.589   \n",
       "S_Sierras_300M_38.186_-119.591 S_Sierras_300M_38.186_-119.591  S_Sierras_300M_38.186_-119.591   \n",
       "S_Sierras_300M_38.186_-119.588 S_Sierras_300M_38.186_-119.588  S_Sierras_300M_38.186_-119.588   \n",
       "S_Sierras_300M_38.185_-119.592 S_Sierras_300M_38.185_-119.592  S_Sierras_300M_38.185_-119.592   \n",
       "\n",
       "                                                               cen_lat  \\\n",
       "S_Sierras_300M_38.186_-119.59  S_Sierras_300M_38.186_-119.59    38.186   \n",
       "S_Sierras_300M_38.186_-119.589 S_Sierras_300M_38.186_-119.589   38.186   \n",
       "S_Sierras_300M_38.186_-119.591 S_Sierras_300M_38.186_-119.591   38.186   \n",
       "S_Sierras_300M_38.186_-119.588 S_Sierras_300M_38.186_-119.588   38.186   \n",
       "S_Sierras_300M_38.185_-119.592 S_Sierras_300M_38.185_-119.592   38.185   \n",
       "\n",
       "                                                               cen_lon  swe_m  \n",
       "S_Sierras_300M_38.186_-119.59  S_Sierras_300M_38.186_-119.59  -119.590   0.80  \n",
       "S_Sierras_300M_38.186_-119.589 S_Sierras_300M_38.186_-119.589 -119.589   0.42  \n",
       "S_Sierras_300M_38.186_-119.591 S_Sierras_300M_38.186_-119.591 -119.591   1.21  \n",
       "S_Sierras_300M_38.186_-119.588 S_Sierras_300M_38.186_-119.588 -119.588   0.31  \n",
       "S_Sierras_300M_38.185_-119.592 S_Sierras_300M_38.185_-119.592 -119.592   0.56  "
      ]
     },
     "execution_count": 5,
     "metadata": {},
     "output_type": "execute_result"
    }
   ],
   "source": [
    "pd.concat(siteave_dic)"
   ]
  },
  {
   "cell_type": "code",
   "execution_count": null,
   "metadata": {},
   "outputs": [],
   "source": [
    "aso_file.drop_duplicates(subset=['cell_id'], inplace=True)\n",
    "aso_file"
   ]
  },
  {
   "cell_type": "code",
   "execution_count": null,
   "metadata": {},
   "outputs": [],
   "source": [
    "cols = ['cen_lat', 'cen_lon']\n",
    "ASO_meta_loc_DF = ASO_meta_loc_DF[cols]\n",
    "ASO_meta_loc_DF[~ASO_meta_loc_DF.index.duplicated(keep='first')]\n"
   ]
  },
  {
   "cell_type": "code",
   "execution_count": null,
   "metadata": {},
   "outputs": [],
   "source": [
    "round(37.080205, -3)"
   ]
  },
  {
   "cell_type": "code",
   "execution_count": null,
   "metadata": {},
   "outputs": [],
   "source": [
    "Precippath = f\"{HOME}/SWEMLv2.0/data/Precipitation/{region}/{output_res}M_NLDAS_Precip\"\n",
    "ppt = pd.read_hdf(f\"{Precippath}/WY{year}.h5\", key = '11N_cell_-119.59073383567106_38.18624284828164')\n",
    "ppt.head()"
   ]
  },
  {
   "cell_type": "code",
   "execution_count": null,
   "metadata": {},
   "outputs": [],
   "source": [
    "aso_gdf"
   ]
  },
  {
   "cell_type": "code",
   "execution_count": null,
   "metadata": {},
   "outputs": [],
   "source": []
  },
  {
   "cell_type": "code",
   "execution_count": null,
   "metadata": {},
   "outputs": [],
   "source": []
  },
  {
   "cell_type": "code",
   "execution_count": null,
   "metadata": {},
   "outputs": [],
   "source": []
  },
  {
   "cell_type": "code",
   "execution_count": null,
   "metadata": {},
   "outputs": [],
   "source": [
    "\n",
    "import os\n",
    "import pandas as pd\n",
    "\n",
    "HOME = os.path.expanduser('~')\n",
    "\n",
    "region = 'S_Sierras'\n",
    "\n",
    "#ASO observations\n",
    "aso_swe_files_folder_path = f\"{HOME}/SWEMLv2.0/data/TrainingDFs/{region}/Obsdf\"\n",
    "\n",
    "obs1 = pd.read_csv(f\"{aso_swe_files_folder_path}/20130403_ObsDF.parquet\")\n",
    "\n",
    "obs1"
   ]
  },
  {
   "cell_type": "code",
   "execution_count": null,
   "metadata": {},
   "outputs": [],
   "source": [
    "cols = [\n",
    "    'cell_id', 'Date',  'cen_lat', 'cen_lon', 'geometry', 'Elevation_m', 'Slope_Deg',\n",
    "    'Aspect_Deg', 'swe', 'nearest_site_1', 'nearest_site_2', 'nearest_site_3', 'nearest_site_4', \n",
    "    'nearest_site_5', 'nearest_site_6'\n",
    "    ]"
   ]
  }
 ],
 "metadata": {
  "kernelspec": {
   "display_name": "SWEML_env2",
   "language": "python",
   "name": "python3"
  },
  "language_info": {
   "codemirror_mode": {
    "name": "ipython",
    "version": 3
   },
   "file_extension": ".py",
   "mimetype": "text/x-python",
   "name": "python",
   "nbconvert_exporter": "python",
   "pygments_lexer": "ipython3",
   "version": "3.9.18"
  }
 },
 "nbformat": 4,
 "nbformat_minor": 2
}

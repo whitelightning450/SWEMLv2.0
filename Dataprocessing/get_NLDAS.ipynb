{
 "cells": [
  {
   "cell_type": "markdown",
   "metadata": {},
   "source": [
    "# Next steps \n",
    "- connect precip to DF,\n",
    "- add new sites (e.g., regionval) to training DF with all the respective spatial resolution information\n",
    "- connect regional data together to train model\n",
    "- connect different regions\n",
    "- add precipitation phase features (seasonal accumulated rain precip, seasonal accumulated snow precip as a function of temperature)\n",
    "- explore adding other features stemming from SNOTEL, remote sensing (LULC), Snow Classifications (Sturms), energy balance\n",
    "\n",
    "Put all units in SI, while it should not matter for model training since they are being normalized, they will be more interpretable."
   ]
  },
  {
   "cell_type": "code",
   "execution_count": 1,
   "metadata": {},
   "outputs": [
    {
     "data": {
      "text/plain": [
       "1084383"
      ]
     },
     "execution_count": 1,
     "metadata": {},
     "output_type": "execute_result"
    }
   ],
   "source": [
    "import os\n",
    "import pandas as pd\n",
    "from tqdm import tqdm\n",
    "import numpy as np\n",
    "\n",
    "HOME = os.path.expanduser('~')\n",
    "\n",
    "\n",
    "def average_duplicates(cell_id, aso_file, siteave_dic):\n",
    "    sitex = aso_file[aso_file['cell_id'] == cell_id]\n",
    "    mean_lat = np.round(np.mean(sitex['cen_lat']),3)\n",
    "    mean_lon = np.round(np.mean(sitex['cen_lon']),3)\n",
    "    mean_swe = np.round(np.mean(sitex['swe_m']),2)\n",
    "\n",
    "    tempdic = {'cell_id': cell_id,\n",
    "            'cen_lat': mean_lat,\n",
    "            'cen_lon': mean_lon,\n",
    "            'swe_m': mean_swe\n",
    "    }\n",
    "\n",
    "    sitedf = pd.DataFrame(tempdic, index = [cell_id])\n",
    "    siteave_dic[cell_id] = sitedf\n",
    "\n",
    "region = 'S_Sierras'\n",
    "output_res = 300\n",
    "aso_swe_files_folder_path = f\"{HOME}/SWEMLv2.0/data/ASO/{region}/{output_res}M_SWE_parquet\"\n",
    "aso_swe_file= f\"ASO_300M_SWE_20130403.parquet\"\n",
    "\n",
    "aso_file = pd.read_parquet(os.path.join(aso_swe_files_folder_path, aso_swe_file), engine='fastparquet')\n",
    "\n",
    "len(aso_file)\n"
   ]
  },
  {
   "cell_type": "code",
   "execution_count": 3,
   "metadata": {},
   "outputs": [
    {
     "data": {
      "text/plain": [
       "array(['S_Sierras_300M_38.186_-119.59', 'S_Sierras_300M_38.186_-119.589',\n",
       "       'S_Sierras_300M_38.186_-119.591', 'S_Sierras_300M_38.186_-119.588',\n",
       "       'S_Sierras_300M_38.185_-119.592'], dtype=object)"
      ]
     },
     "execution_count": 3,
     "metadata": {},
     "output_type": "execute_result"
    }
   ],
   "source": [
    "cell_ids = aso_file.cell_id.unique()\n",
    "cell_ids[:5]"
   ]
  },
  {
   "cell_type": "code",
   "execution_count": 3,
   "metadata": {},
   "outputs": [
    {
     "name": "stdout",
     "output_type": "stream",
     "text": [
      "Getting unique cell ids and taking the spatial average to get 300 m resolution\n"
     ]
    },
    {
     "name": "stderr",
     "output_type": "stream",
     "text": []
    },
    {
     "name": "stderr",
     "output_type": "stream",
     "text": [
      "100%|██████████| 5/5 [00:00<00:00, 15.71it/s]\n"
     ]
    },
    {
     "data": {
      "text/plain": [
       "[None, None, None, None, None]"
      ]
     },
     "execution_count": 3,
     "metadata": {},
     "output_type": "execute_result"
    }
   ],
   "source": [
    "cell_ids = aso_file.cell_id.unique()\n",
    "siteave_dic = {}\n",
    "from tqdm import tqdm\n",
    "\n",
    "print(f\"Getting unique cell ids and taking the spatial average to get {output_res} m resolution\")\n",
    "[average_duplicates(cell_id, aso_file, siteave_dic) for cell_id in tqdm(cell_ids[:5])]"
   ]
  },
  {
   "cell_type": "code",
   "execution_count": 5,
   "metadata": {},
   "outputs": [
    {
     "data": {
      "text/html": [
       "<div>\n",
       "<style scoped>\n",
       "    .dataframe tbody tr th:only-of-type {\n",
       "        vertical-align: middle;\n",
       "    }\n",
       "\n",
       "    .dataframe tbody tr th {\n",
       "        vertical-align: top;\n",
       "    }\n",
       "\n",
       "    .dataframe thead th {\n",
       "        text-align: right;\n",
       "    }\n",
       "</style>\n",
       "<table border=\"1\" class=\"dataframe\">\n",
       "  <thead>\n",
       "    <tr style=\"text-align: right;\">\n",
       "      <th></th>\n",
       "      <th></th>\n",
       "      <th>cell_id</th>\n",
       "      <th>cen_lat</th>\n",
       "      <th>cen_lon</th>\n",
       "      <th>swe_m</th>\n",
       "    </tr>\n",
       "  </thead>\n",
       "  <tbody>\n",
       "    <tr>\n",
       "      <th>S_Sierras_300M_38.186_-119.59</th>\n",
       "      <th>S_Sierras_300M_38.186_-119.59</th>\n",
       "      <td>S_Sierras_300M_38.186_-119.59</td>\n",
       "      <td>38.186</td>\n",
       "      <td>-119.590</td>\n",
       "      <td>0.80</td>\n",
       "    </tr>\n",
       "    <tr>\n",
       "      <th>S_Sierras_300M_38.186_-119.589</th>\n",
       "      <th>S_Sierras_300M_38.186_-119.589</th>\n",
       "      <td>S_Sierras_300M_38.186_-119.589</td>\n",
       "      <td>38.186</td>\n",
       "      <td>-119.589</td>\n",
       "      <td>0.42</td>\n",
       "    </tr>\n",
       "    <tr>\n",
       "      <th>S_Sierras_300M_38.186_-119.591</th>\n",
       "      <th>S_Sierras_300M_38.186_-119.591</th>\n",
       "      <td>S_Sierras_300M_38.186_-119.591</td>\n",
       "      <td>38.186</td>\n",
       "      <td>-119.591</td>\n",
       "      <td>1.21</td>\n",
       "    </tr>\n",
       "    <tr>\n",
       "      <th>S_Sierras_300M_38.186_-119.588</th>\n",
       "      <th>S_Sierras_300M_38.186_-119.588</th>\n",
       "      <td>S_Sierras_300M_38.186_-119.588</td>\n",
       "      <td>38.186</td>\n",
       "      <td>-119.588</td>\n",
       "      <td>0.31</td>\n",
       "    </tr>\n",
       "    <tr>\n",
       "      <th>S_Sierras_300M_38.185_-119.592</th>\n",
       "      <th>S_Sierras_300M_38.185_-119.592</th>\n",
       "      <td>S_Sierras_300M_38.185_-119.592</td>\n",
       "      <td>38.185</td>\n",
       "      <td>-119.592</td>\n",
       "      <td>0.56</td>\n",
       "    </tr>\n",
       "  </tbody>\n",
       "</table>\n",
       "</div>"
      ],
      "text/plain": [
       "                                                                                      cell_id  \\\n",
       "S_Sierras_300M_38.186_-119.59  S_Sierras_300M_38.186_-119.59    S_Sierras_300M_38.186_-119.59   \n",
       "S_Sierras_300M_38.186_-119.589 S_Sierras_300M_38.186_-119.589  S_Sierras_300M_38.186_-119.589   \n",
       "S_Sierras_300M_38.186_-119.591 S_Sierras_300M_38.186_-119.591  S_Sierras_300M_38.186_-119.591   \n",
       "S_Sierras_300M_38.186_-119.588 S_Sierras_300M_38.186_-119.588  S_Sierras_300M_38.186_-119.588   \n",
       "S_Sierras_300M_38.185_-119.592 S_Sierras_300M_38.185_-119.592  S_Sierras_300M_38.185_-119.592   \n",
       "\n",
       "                                                               cen_lat  \\\n",
       "S_Sierras_300M_38.186_-119.59  S_Sierras_300M_38.186_-119.59    38.186   \n",
       "S_Sierras_300M_38.186_-119.589 S_Sierras_300M_38.186_-119.589   38.186   \n",
       "S_Sierras_300M_38.186_-119.591 S_Sierras_300M_38.186_-119.591   38.186   \n",
       "S_Sierras_300M_38.186_-119.588 S_Sierras_300M_38.186_-119.588   38.186   \n",
       "S_Sierras_300M_38.185_-119.592 S_Sierras_300M_38.185_-119.592   38.185   \n",
       "\n",
       "                                                               cen_lon  swe_m  \n",
       "S_Sierras_300M_38.186_-119.59  S_Sierras_300M_38.186_-119.59  -119.590   0.80  \n",
       "S_Sierras_300M_38.186_-119.589 S_Sierras_300M_38.186_-119.589 -119.589   0.42  \n",
       "S_Sierras_300M_38.186_-119.591 S_Sierras_300M_38.186_-119.591 -119.591   1.21  \n",
       "S_Sierras_300M_38.186_-119.588 S_Sierras_300M_38.186_-119.588 -119.588   0.31  \n",
       "S_Sierras_300M_38.185_-119.592 S_Sierras_300M_38.185_-119.592 -119.592   0.56  "
      ]
     },
     "execution_count": 5,
     "metadata": {},
     "output_type": "execute_result"
    }
   ],
   "source": [
    "pd.concat(siteave_dic)"
   ]
  },
  {
   "cell_type": "code",
   "execution_count": null,
   "metadata": {},
   "outputs": [],
   "source": [
    "aso_file.drop_duplicates(subset=['cell_id'], inplace=True)\n",
    "aso_file"
   ]
  },
  {
   "cell_type": "code",
   "execution_count": null,
   "metadata": {},
   "outputs": [],
   "source": [
    "cols = ['cen_lat', 'cen_lon']\n",
    "ASO_meta_loc_DF = ASO_meta_loc_DF[cols]\n",
    "ASO_meta_loc_DF[~ASO_meta_loc_DF.index.duplicated(keep='first')]\n"
   ]
  },
  {
   "cell_type": "code",
   "execution_count": null,
   "metadata": {},
   "outputs": [],
   "source": [
    "round(37.080205, -3)"
   ]
  },
  {
   "cell_type": "code",
   "execution_count": null,
   "metadata": {},
   "outputs": [],
   "source": [
    "Precippath = f\"{HOME}/SWEMLv2.0/data/Precipitation/{region}/{output_res}M_NLDAS_Precip\"\n",
    "ppt = pd.read_hdf(f\"{Precippath}/WY{year}.h5\", key = '11N_cell_-119.59073383567106_38.18624284828164')\n",
    "ppt.head()"
   ]
  },
  {
   "cell_type": "code",
   "execution_count": null,
   "metadata": {},
   "outputs": [],
   "source": [
    "aso_gdf"
   ]
  },
  {
   "cell_type": "code",
   "execution_count": null,
   "metadata": {},
   "outputs": [],
   "source": []
  },
  {
   "cell_type": "code",
   "execution_count": null,
   "metadata": {},
   "outputs": [],
   "source": []
  },
  {
   "cell_type": "code",
   "execution_count": null,
   "metadata": {},
   "outputs": [],
   "source": []
  },
  {
   "cell_type": "code",
   "execution_count": null,
   "metadata": {},
   "outputs": [],
   "source": [
    "\n",
    "import os\n",
    "import pandas as pd\n",
    "\n",
    "HOME = os.path.expanduser('~')\n",
    "\n",
    "region = 'S_Sierras'\n",
    "\n",
    "#ASO observations\n",
    "aso_swe_files_folder_path = f\"{HOME}/SWEMLv2.0/data/TrainingDFs/{region}/Obsdf\"\n",
    "\n",
    "obs1 = pd.read_csv(f\"{aso_swe_files_folder_path}/20130403_ObsDF.parquet\")\n",
    "\n",
    "obs1"
   ]
  },
  {
   "cell_type": "code",
   "execution_count": null,
   "metadata": {},
   "outputs": [],
   "source": [
    "cols = [\n",
    "    'cell_id', 'Date',  'cen_lat', 'cen_lon', 'geometry', 'Elevation_m', 'Slope_Deg',\n",
    "    'Aspect_Deg', 'swe', 'nearest_site_1', 'nearest_site_2', 'nearest_site_3', 'nearest_site_4', \n",
    "    'nearest_site_5', 'nearest_site_6'\n",
    "    ]"
   ]
  }
 ],
 "metadata": {
  "kernelspec": {
   "display_name": "SWEML_env2",
   "language": "python",
   "name": "python3"
  },
  "language_info": {
   "codemirror_mode": {
    "name": "ipython",
    "version": 3
   },
   "file_extension": ".py",
   "mimetype": "text/x-python",
   "name": "python",
   "nbconvert_exporter": "python",
   "pygments_lexer": "ipython3",
   "version": "3.9.18"
  }
 },
 "nbformat": 4,
 "nbformat_minor": 2
}

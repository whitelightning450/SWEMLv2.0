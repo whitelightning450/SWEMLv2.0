{
 "cells": [
  {
   "cell_type": "markdown",
   "id": "ef6013e9-9391-4185-9455-6ea28ea45f6a",
   "metadata": {},
   "source": [
    "# Vegetation Processer"
   ]
  },
  {
   "cell_type": "code",
   "execution_count": 12,
   "id": "4bebe89e-ea6c-4c1e-a727-dbb2358af1c6",
   "metadata": {},
   "outputs": [],
   "source": [
    "import pyarrow.parquet as pq\n",
    "import pandas as pd\n",
    "from shapely.geometry import Point\n",
    "import rasterio\n",
    "import os\n",
    "from tqdm import tqdm\n",
    "\n",
    "# Path to the directory containing the Parquet files\n",
    "HOME = os.path.expanduser('~')\n",
    "parquet_dir = f\"{HOME}/SWEMLv2.0/data/TrainingDFs/Northwest/300M_Resolution/Vegetation_Seasonality_PrecipVIIRSGeoObsDFs/20_fSCA_Thresh\"\n",
    "parquet_file = f\"{HOME}/SWEMLv2.0/data/TrainingDFs/Northwest/300M_Resolution/Vegetation_Seasonality_PrecipVIIRSGeoObsDFs/20_fSCA_Thresh/Vegetation_Season_Precip_VIIRS_GeoObsDF_20160208.parquet\"\n",
    "geotiff_file = f\"{HOME}/SWEMLv2.0/USA_NALCMS_landcover_2020_120m.tif\"\n"
   ]
  },
  {
   "cell_type": "code",
   "execution_count": 13,
   "id": "cc920f9a-4e7d-4141-b723-8608ae1de7d9",
   "metadata": {},
   "outputs": [
    {
     "name": "stdout",
     "output_type": "stream",
     "text": [
      "Reading Parquet file...\n"
     ]
    },
    {
     "name": "stderr",
     "output_type": "stream",
     "text": [
      "Reading Parquet file: 100%|██████████| 1/1 [00:00<00:00, 18.06it/s]\n",
      "Retrieving GeoTIFF values:   0%|          | 216/85185 [01:30<9:54:27,  2.38it/s]\n"
     ]
    },
    {
     "ename": "KeyboardInterrupt",
     "evalue": "",
     "output_type": "error",
     "traceback": [
      "\u001b[0;31m---------------------------------------------------------------------------\u001b[0m",
      "\u001b[0;31mKeyboardInterrupt\u001b[0m                         Traceback (most recent call last)",
      "Cell \u001b[0;32mIn[13], line 21\u001b[0m\n\u001b[1;32m     18\u001b[0m lat_list \u001b[38;5;241m=\u001b[39m df[\u001b[38;5;124m'\u001b[39m\u001b[38;5;124mcen_lat\u001b[39m\u001b[38;5;124m'\u001b[39m]\u001b[38;5;241m.\u001b[39mtolist()\n\u001b[1;32m     20\u001b[0m \u001b[38;5;66;03m# Retrieving GeoTIFF values with progress bar\u001b[39;00m\n\u001b[0;32m---> 21\u001b[0m df[\u001b[38;5;124m'\u001b[39m\u001b[38;5;124mvegetation_class\u001b[39m\u001b[38;5;124m'\u001b[39m] \u001b[38;5;241m=\u001b[39m \u001b[43mget_values_from_geotiff\u001b[49m\u001b[43m(\u001b[49m\u001b[43mgeotiff_file\u001b[49m\u001b[43m,\u001b[49m\u001b[43m \u001b[49m\u001b[43mlon_list\u001b[49m\u001b[43m,\u001b[49m\u001b[43m \u001b[49m\u001b[43mlat_list\u001b[49m\u001b[43m)\u001b[49m\n\u001b[1;32m     23\u001b[0m \u001b[38;5;66;03m# Save updated DataFrame to new Parquet file with progress bar\u001b[39;00m\n\u001b[1;32m     24\u001b[0m updated_parquet_file \u001b[38;5;241m=\u001b[39m \u001b[38;5;124mf\u001b[39m\u001b[38;5;124m\"\u001b[39m\u001b[38;5;124mupdated_\u001b[39m\u001b[38;5;132;01m{\u001b[39;00mos\u001b[38;5;241m.\u001b[39mpath\u001b[38;5;241m.\u001b[39mbasename(parquet_file)\u001b[38;5;132;01m}\u001b[39;00m\u001b[38;5;124m\"\u001b[39m\n",
      "Cell \u001b[0;32mIn[13], line 7\u001b[0m, in \u001b[0;36mget_values_from_geotiff\u001b[0;34m(geotiff, lon_list, lat_list)\u001b[0m\n\u001b[1;32m      5\u001b[0m \u001b[38;5;28;01mfor\u001b[39;00m lon, lat \u001b[38;5;129;01min\u001b[39;00m tqdm(\u001b[38;5;28mzip\u001b[39m(lon_list, lat_list), total\u001b[38;5;241m=\u001b[39m\u001b[38;5;28mlen\u001b[39m(lon_list), desc\u001b[38;5;241m=\u001b[39m\u001b[38;5;124m\"\u001b[39m\u001b[38;5;124mRetrieving GeoTIFF values\u001b[39m\u001b[38;5;124m\"\u001b[39m):\n\u001b[1;32m      6\u001b[0m     row, col \u001b[38;5;241m=\u001b[39m src\u001b[38;5;241m.\u001b[39mindex(lon, lat)\n\u001b[0;32m----> 7\u001b[0m     values\u001b[38;5;241m.\u001b[39mappend(\u001b[43msrc\u001b[49m\u001b[38;5;241;43m.\u001b[39;49m\u001b[43mread\u001b[49m\u001b[43m(\u001b[49m\u001b[38;5;241;43m1\u001b[39;49m\u001b[43m)\u001b[49m[row, col])\n\u001b[1;32m      8\u001b[0m \u001b[38;5;28;01mreturn\u001b[39;00m values\n",
      "\u001b[0;31mKeyboardInterrupt\u001b[0m: "
     ]
    }
   ],
   "source": [
    "# Function to get the values from GeoTIFF for a list of points\n",
    "def get_values_from_geotiff(geotiff, lon_list, lat_list):\n",
    "    with rasterio.open(geotiff) as src:\n",
    "        values = []\n",
    "        for lon, lat in tqdm(zip(lon_list, lat_list), total=len(lon_list), desc=\"Retrieving GeoTIFF values\"):\n",
    "            row, col = src.index(lon, lat)\n",
    "            values.append(src.read(1)[row, col])\n",
    "        return values\n",
    "\n",
    "# Read Parquet file into DataFrame with progress bar\n",
    "print(\"Reading Parquet file...\")\n",
    "with tqdm(total=1, desc=\"Reading Parquet file\") as pbar:\n",
    "    df = pq.read_table(parquet_file).to_pandas()\n",
    "    pbar.update(1)\n",
    "\n",
    "# Get GeoTIFF values at centroids\n",
    "lon_list = df['cen_lon'].tolist()\n",
    "lat_list = df['cen_lat'].tolist()\n",
    "\n",
    "# Retrieving GeoTIFF values with progress bar\n",
    "df['vegetation_class'] = get_values_from_geotiff(geotiff_file, lon_list, lat_list)\n",
    "\n",
    "# Save updated DataFrame to new Parquet file with progress bar\n",
    "updated_parquet_file = f\"updated_{os.path.basename(parquet_file)}\"\n",
    "print(\"Writing updated Parquet file...\")\n",
    "with tqdm(total=1, desc=\"Writing updated Parquet file\") as pbar:\n",
    "    table = pq.Table.from_pandas(df)\n",
    "    pq.write_table(table, updated_parquet_file)\n",
    "    pbar.update(1)\n",
    "\n",
    "print(f\"Processed and saved: {updated_parquet_file}\")\n",
    "print(\"Processing complete.\")\n"
   ]
  },
  {
   "cell_type": "code",
   "execution_count": null,
   "id": "0f52776e-9c90-48c3-962c-ee6ae5573845",
   "metadata": {},
   "outputs": [],
   "source": []
  },
  {
   "cell_type": "code",
   "execution_count": null,
   "id": "26a510d8-ce49-4834-abcb-c2c777e51a4a",
   "metadata": {},
   "outputs": [],
   "source": []
  }
 ],
 "metadata": {
  "kernelspec": {
   "display_name": "SWEML_310",
   "language": "python",
   "name": "sweml_310"
  },
  "language_info": {
   "codemirror_mode": {
    "name": "ipython",
    "version": 3
   },
   "file_extension": ".py",
   "mimetype": "text/x-python",
   "name": "python",
   "nbconvert_exporter": "python",
   "pygments_lexer": "ipython3",
   "version": "3.10.13"
  }
 },
 "nbformat": 4,
 "nbformat_minor": 5
}

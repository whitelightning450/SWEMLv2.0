{
 "cells": [
  {
   "cell_type": "markdown",
   "id": "9685d109",
   "metadata": {},
   "source": [
    "# Data Processing script for the NSM/SWEML v2.0\n",
    "This .ipynb script uses python module for retrieving NASA ASO observations, locating nearest SNOTEL sites, connecting SNOTEL obs with ASO obs, and add geospatial features to the ML training/testing/hindcast dataframes."
   ]
  },
  {
   "cell_type": "markdown",
   "id": "55e8bd58",
   "metadata": {},
   "source": [
    "# Next steps \n",
    "\n",
    "- the SE and SW rockies have the same number of sites, make sure they are not the same...\n",
    "- process ASO data, e.g. swe_m < 0.1 = 0, convert to cm to be consistent with monitoring sites and traditional mesurement. \n",
    "- document scripts\n",
    "- add new sites (e.g., regionval) to training DF with all the respective spatial resolution information\n",
    "- add precipitation phase features (seasonal accumulated rain precip, seasonal accumulated snow precip as a function of temperature)\n",
    "- explore adding other features stemming from SNOTEL, remote sensing (LULC), Snow Classifications (Sturms), energy balance"
   ]
  },
  {
   "cell_type": "code",
   "execution_count": 1,
   "id": "c2b1ee8b",
   "metadata": {},
   "outputs": [
    {
     "data": {
      "text/plain": [
       "['Northwest', 'SouthernRockies', 'Southwest']"
      ]
     },
     "execution_count": 1,
     "metadata": {},
     "output_type": "execute_result"
    }
   ],
   "source": [
    "import os\n",
    "import model_Domain\n",
    "HOME = os.path.expanduser('~')\n",
    "\n",
    "#make SWEMLv2.0 modeling domain for western USA\n",
    "region_list = model_Domain.modeldomain()\n",
    "region_list.remove('NorthernRockies') # There is no ASO data for this region\n",
    "region_list = ['Northwest', 'SouthernRockies', 'Southwest']\n",
    "region_list"
   ]
  },
  {
   "cell_type": "code",
   "execution_count": null,
   "id": "13469889",
   "metadata": {},
   "outputs": [],
   "source": [
    "from ASOget import ASODownload, ASODataProcessing\n",
    "\n",
    "# Inputs for fetching ASO data for a region\n",
    "short_name = 'ASO_50M_SWE'\n",
    "version = '1'\n",
    "time_start = '2013-04-02T00:00:00Z'\n",
    "time_end = '2019-07-19T23:59:59Z'\n",
    "output_res = 300 #desired spatial resoultion in meters (m)\n",
    "directory = \"Raw_ASO_Data\"\n",
    "\n",
    "#Get ASO data\n",
    "for region in region_list:\n",
    "    print(region)\n",
    "    folder_name = f\"{region}/{directory}\"\n",
    "    data_tool = ASODownload(short_name, version)\n",
    "    b_box = data_tool.BoundingBox(region)  \n",
    "    url_list = data_tool.cmr_search(time_start, time_end, region, b_box)\n",
    "    data_tool.cmr_download(directory, region)\n",
    "\n",
    "    #Convert ASO tifs to parquet\n",
    "    data_processor = ASODataProcessing()\n",
    "    data_processor.convert_tiff_to_parquet_multiprocess(folder_name, output_res, region) "
   ]
  },
  {
   "cell_type": "markdown",
   "id": "d01e0597",
   "metadata": {},
   "source": [
    "## Get Snotel and CDEC in situ observations\n",
    "- clean in situ observations, specifically the CDEC sites, need a data processing method to remove outtliers and nan/0 obs\n",
    "- Ideas - add nearest sites elevation, distance from cell, then can bypass sites with bad data. "
   ]
  },
  {
   "cell_type": "code",
   "execution_count": null,
   "id": "52a2a3c8",
   "metadata": {},
   "outputs": [],
   "source": [
    "# Get in situ observations\n",
    "import get_InSitu_obs\n",
    "import numpy as np\n",
    "\n",
    "#make a list of dates to aligns with the ASO observations (they go as early as Jan-29 and as far out as the July-17)\n",
    "years = np.arange(2013,2020,1)\n",
    "start_month_day = '10-01'\n",
    "end_month_day = '08-31'\n",
    "#datelist = get_InSitu_obs.make_dates(years, start_month_day, end_month_day, WY = True)\n",
    "\n",
    "# observations \n",
    "get_InSitu_obs.Get_Monitoring_Data_Threaded_dp(years, start_month_day, end_month_day, WY = True)\n",
    "\n",
    "#combine years\n",
    "get_InSitu_obs.combine_dfs(years)"
   ]
  },
  {
   "cell_type": "markdown",
   "id": "a329ea64",
   "metadata": {},
   "source": [
    "# Code for generating ML dataframe using nearest in situ monitoring sites"
   ]
  },
  {
   "cell_type": "code",
   "execution_count": null,
   "id": "aacde450",
   "metadata": {},
   "outputs": [],
   "source": [
    "import GeoDF\n",
    "output_res = 300\n",
    "\n",
    "# GeoDF used to create a dataframe for ML model development. Its function is to connect in situ observations to gridded locations\n",
    "for region in region_list:\n",
    "    path = f\"{HOME}/SWEMLv2.0/data/ASO/{region}/{output_res}M_SWE_parquet\"\n",
    "    if os.path.isdir(path) == True:\n",
    "        print(region)\n",
    "        #load snotel meta location data, use haversive function\n",
    "        GeoDF.fetch_snotel_sites_for_cellids(region, output_res) # Using known up to date sites\n",
    "\n",
    "        # Get geophysical attributes for each site, need to see how to add output resolution\n",
    "        gdf = GeoDF.GeoSpatial(region, output_res)\n",
    "\n",
    "        #use geodataframe with lat/long meta of all sites to determine slope, aspect, and elevation\n",
    "        metadf = GeoDF.extract_terrain_data_threaded(gdf, region, output_res)\n",
    "    else:\n",
    "        print(f\"No ASO data for {region}\")\n",
    "\n",
    "\n"
   ]
  },
  {
   "cell_type": "markdown",
   "id": "72349ac4",
   "metadata": {},
   "source": [
    "## Connect Snotel to each ASO obs\n",
    "\n",
    "- change nearest_sites name to ns"
   ]
  },
  {
   "cell_type": "code",
   "execution_count": null,
   "id": "573a5df6",
   "metadata": {},
   "outputs": [],
   "source": [
    "import Obs_to_DF\n",
    "output_res = 300\n",
    "\n",
    "#Connect nearest snotel observations with ASO data, makes a parquet file for each date  -  test to see if this works - need to just load the SNOTEL file, not collect them as in the function\n",
    "for region in region_list:\n",
    "    path = f\"{HOME}/SWEMLv2.0/data/ASO/{region}/{output_res}M_SWE_parquet\"\n",
    "    if os.path.isdir(path) == True:\n",
    "        print(region)\n",
    "        dates = []\n",
    "        manual = False\n",
    "        Obs_to_DF.Nearest_Snotel_2_obs_MultiProcess(region, output_res, manual, dates) \n",
    "    else:\n",
    "        print(f\"No ASO data for {region}\")\n"
   ]
  },
  {
   "cell_type": "code",
   "execution_count": null,
   "id": "3b7816b1",
   "metadata": {},
   "outputs": [],
   "source": [
    "import GeoDF\n",
    "\n",
    "output_res = 300\n",
    "\n",
    "#Connect cell ids with ASO obs and snotel obs to geospatial features\n",
    "for region in region_list:\n",
    "    path = f\"{HOME}/SWEMLv2.0/data/ASO/{region}/{output_res}M_SWE_parquet\"\n",
    "    if os.path.isdir(path) == True:\n",
    "        print(region)\n",
    "        GeoDF.add_geospatial_threaded(region, output_res)\n",
    "    else:\n",
    "        print(f\"No ASO data for {region}\")"
   ]
  },
  {
   "cell_type": "markdown",
   "id": "facee8dc",
   "metadata": {},
   "source": [
    "# Get NASA VIIRS fraction snow covered area for each location \n",
    "\n",
    "* Make sure the code grabs all dates for each region\n"
   ]
  },
  {
   "cell_type": "code",
   "execution_count": null,
   "id": "8e5fe64b",
   "metadata": {},
   "outputs": [],
   "source": [
    "import get_VIIRS_SCA\n",
    "output_res = 300\n",
    "threshold = 20\n",
    "\n",
    "#check to see if the VIIRS data is available locally, if not, get from CIROH AWS - I think all of this data is for the incorrect year...\n",
    "#get_VIIRS_SCA.get_VIIRS_from_AWS()\n",
    "\n",
    "#Connect VIIRS data to dataframes\n",
    "for region in region_list:\n",
    "    path = f\"{HOME}/SWEMLv2.0/data/ASO/{region}/{output_res}M_SWE_parquet\"\n",
    "    if os.path.isdir(path) == True:\n",
    "        print(region)\n",
    "        get_VIIRS_SCA.augment_SCA_mutliprocessing(region, output_res, threshold)\n",
    "    else:\n",
    "        print(f\"No ASO data for {region}\")\n"
   ]
  },
  {
   "cell_type": "code",
   "execution_count": null,
   "id": "45a59828",
   "metadata": {},
   "outputs": [],
   "source": [
    "import get_Precip\n",
    "\n",
    "'''\n",
    "note*, if using python > 3.9, you will likely need to change the ee package to from io import StringIO\n",
    "'''\n",
    "\n",
    "import os\n",
    "HOME = os.path.expanduser('~')\n",
    "\n",
    "#gets precipitation for each location, accumulates it through the water year\n",
    "\n",
    "#set start/end date for a water year\n",
    "years = [2013, 2014, 2015, 2016, 2017, 2018, 2019]\n",
    "output_res = 300\n",
    "threshold = 20\n",
    "\n",
    "for region in region_list:\n",
    "    path = f\"{HOME}/SWEMLv2.0/data/ASO/{region}/{output_res}M_SWE_parquet\"\n",
    "    if os.path.isdir(path) == True:\n",
    "        print(region)\n",
    "        get_Precip.get_precip_threaded(region, output_res, years)\n",
    "    else:\n",
    "        print(f\"No ASO data for {region}\")\n",
    "\n",
    "    #Connect precipitation to processed DFs\n",
    "    get_Precip.Make_Precip_DF(region, output_res, threshold)\n"
   ]
  },
  {
   "cell_type": "code",
   "execution_count": 3,
   "id": "30f2e5ef",
   "metadata": {},
   "outputs": [
    {
     "data": {
      "text/plain": [
       "<module 'get_Seasonality' from '/home/rjohnson18/SWEMLv2.0/Dataprocessing/get_Seasonality.py'>"
      ]
     },
     "execution_count": 3,
     "metadata": {},
     "output_type": "execute_result"
    }
   ],
   "source": [
    "import importlib\n",
    "importlib.reload(get_Seasonality)"
   ]
  },
  {
   "cell_type": "code",
   "execution_count": 2,
   "id": "b840e511",
   "metadata": {
    "scrolled": true
   },
   "outputs": [
    {
     "ename": "FileNotFoundError",
     "evalue": "[Errno 2] No such file or directory: '/home/jovyan/SWEMLv2.0/data/SNOTEL_Data/ground_measures.parquet'",
     "output_type": "error",
     "traceback": [
      "\u001b[0;31m---------------------------------------------------------------------------\u001b[0m",
      "\u001b[0;31mFileNotFoundError\u001b[0m                         Traceback (most recent call last)",
      "Cell \u001b[0;32mIn[2], line 7\u001b[0m\n\u001b[1;32m      4\u001b[0m threshold \u001b[38;5;241m=\u001b[39m \u001b[38;5;241m20\u001b[39m\n\u001b[1;32m      5\u001b[0m \u001b[38;5;28;01mfor\u001b[39;00m region \u001b[38;5;129;01min\u001b[39;00m region_list:\n\u001b[1;32m      6\u001b[0m     \u001b[38;5;66;03m#process snotel sites to make \"snow hydrograph features\" to determine above/below average WY conditions\u001b[39;00m\n\u001b[0;32m----> 7\u001b[0m     \u001b[43mget_Seasonality\u001b[49m\u001b[38;5;241;43m.\u001b[39;49m\u001b[43mseasonal_snotel\u001b[49m\u001b[43m(\u001b[49m\u001b[43m)\u001b[49m\n\u001b[1;32m     10\u001b[0m     \u001b[38;5;66;03m#get the Day of season metric for each dataframe\u001b[39;00m\n\u001b[1;32m     11\u001b[0m     get_Seasonality\u001b[38;5;241m.\u001b[39madd_Seasonality(region, output_res, threshold)\n",
      "File \u001b[0;32m~/SWEMLv2.0/Dataprocessing/get_Seasonality.py:158\u001b[0m, in \u001b[0;36mseasonal_snotel\u001b[0;34m()\u001b[0m\n\u001b[1;32m    155\u001b[0m \u001b[38;5;28;01mdef\u001b[39;00m \u001b[38;5;21mseasonal_snotel\u001b[39m():\n\u001b[1;32m    157\u001b[0m     DFpath \u001b[38;5;241m=\u001b[39m \u001b[38;5;124mf\u001b[39m\u001b[38;5;124m'\u001b[39m\u001b[38;5;132;01m{\u001b[39;00mHOME\u001b[38;5;132;01m}\u001b[39;00m\u001b[38;5;124m/SWEMLv2.0/data/SNOTEL_Data\u001b[39m\u001b[38;5;124m'\u001b[39m\n\u001b[0;32m--> 158\u001b[0m     snotel \u001b[38;5;241m=\u001b[39m \u001b[43mpd\u001b[49m\u001b[38;5;241;43m.\u001b[39;49m\u001b[43mread_parquet\u001b[49m\u001b[43m(\u001b[49m\u001b[38;5;124;43mf\u001b[39;49m\u001b[38;5;124;43m\"\u001b[39;49m\u001b[38;5;132;43;01m{\u001b[39;49;00m\u001b[43mDFpath\u001b[49m\u001b[38;5;132;43;01m}\u001b[39;49;00m\u001b[38;5;124;43m/ground_measures.parquet\u001b[39;49m\u001b[38;5;124;43m\"\u001b[39;49m\u001b[43m)\u001b[49m\n\u001b[1;32m    159\u001b[0m     snotel \u001b[38;5;241m=\u001b[39m snotel\u001b[38;5;241m.\u001b[39mT\n\u001b[1;32m    160\u001b[0m     snotel\u001b[38;5;241m.\u001b[39mreset_index(inplace \u001b[38;5;241m=\u001b[39m \u001b[38;5;28;01mTrue\u001b[39;00m)\n",
      "File \u001b[0;32m/srv/conda/envs/notebook/lib/python3.11/site-packages/pandas/io/parquet.py:667\u001b[0m, in \u001b[0;36mread_parquet\u001b[0;34m(path, engine, columns, storage_options, use_nullable_dtypes, dtype_backend, filesystem, filters, **kwargs)\u001b[0m\n\u001b[1;32m    664\u001b[0m     use_nullable_dtypes \u001b[38;5;241m=\u001b[39m \u001b[38;5;28;01mFalse\u001b[39;00m\n\u001b[1;32m    665\u001b[0m check_dtype_backend(dtype_backend)\n\u001b[0;32m--> 667\u001b[0m \u001b[38;5;28;01mreturn\u001b[39;00m \u001b[43mimpl\u001b[49m\u001b[38;5;241;43m.\u001b[39;49m\u001b[43mread\u001b[49m\u001b[43m(\u001b[49m\n\u001b[1;32m    668\u001b[0m \u001b[43m    \u001b[49m\u001b[43mpath\u001b[49m\u001b[43m,\u001b[49m\n\u001b[1;32m    669\u001b[0m \u001b[43m    \u001b[49m\u001b[43mcolumns\u001b[49m\u001b[38;5;241;43m=\u001b[39;49m\u001b[43mcolumns\u001b[49m\u001b[43m,\u001b[49m\n\u001b[1;32m    670\u001b[0m \u001b[43m    \u001b[49m\u001b[43mfilters\u001b[49m\u001b[38;5;241;43m=\u001b[39;49m\u001b[43mfilters\u001b[49m\u001b[43m,\u001b[49m\n\u001b[1;32m    671\u001b[0m \u001b[43m    \u001b[49m\u001b[43mstorage_options\u001b[49m\u001b[38;5;241;43m=\u001b[39;49m\u001b[43mstorage_options\u001b[49m\u001b[43m,\u001b[49m\n\u001b[1;32m    672\u001b[0m \u001b[43m    \u001b[49m\u001b[43muse_nullable_dtypes\u001b[49m\u001b[38;5;241;43m=\u001b[39;49m\u001b[43muse_nullable_dtypes\u001b[49m\u001b[43m,\u001b[49m\n\u001b[1;32m    673\u001b[0m \u001b[43m    \u001b[49m\u001b[43mdtype_backend\u001b[49m\u001b[38;5;241;43m=\u001b[39;49m\u001b[43mdtype_backend\u001b[49m\u001b[43m,\u001b[49m\n\u001b[1;32m    674\u001b[0m \u001b[43m    \u001b[49m\u001b[43mfilesystem\u001b[49m\u001b[38;5;241;43m=\u001b[39;49m\u001b[43mfilesystem\u001b[49m\u001b[43m,\u001b[49m\n\u001b[1;32m    675\u001b[0m \u001b[43m    \u001b[49m\u001b[38;5;241;43m*\u001b[39;49m\u001b[38;5;241;43m*\u001b[39;49m\u001b[43mkwargs\u001b[49m\u001b[43m,\u001b[49m\n\u001b[1;32m    676\u001b[0m \u001b[43m\u001b[49m\u001b[43m)\u001b[49m\n",
      "File \u001b[0;32m/srv/conda/envs/notebook/lib/python3.11/site-packages/pandas/io/parquet.py:267\u001b[0m, in \u001b[0;36mPyArrowImpl.read\u001b[0;34m(self, path, columns, filters, use_nullable_dtypes, dtype_backend, storage_options, filesystem, **kwargs)\u001b[0m\n\u001b[1;32m    264\u001b[0m \u001b[38;5;28;01mif\u001b[39;00m manager \u001b[38;5;241m==\u001b[39m \u001b[38;5;124m\"\u001b[39m\u001b[38;5;124marray\u001b[39m\u001b[38;5;124m\"\u001b[39m:\n\u001b[1;32m    265\u001b[0m     to_pandas_kwargs[\u001b[38;5;124m\"\u001b[39m\u001b[38;5;124msplit_blocks\u001b[39m\u001b[38;5;124m\"\u001b[39m] \u001b[38;5;241m=\u001b[39m \u001b[38;5;28;01mTrue\u001b[39;00m  \u001b[38;5;66;03m# type: ignore[assignment]\u001b[39;00m\n\u001b[0;32m--> 267\u001b[0m path_or_handle, handles, filesystem \u001b[38;5;241m=\u001b[39m \u001b[43m_get_path_or_handle\u001b[49m\u001b[43m(\u001b[49m\n\u001b[1;32m    268\u001b[0m \u001b[43m    \u001b[49m\u001b[43mpath\u001b[49m\u001b[43m,\u001b[49m\n\u001b[1;32m    269\u001b[0m \u001b[43m    \u001b[49m\u001b[43mfilesystem\u001b[49m\u001b[43m,\u001b[49m\n\u001b[1;32m    270\u001b[0m \u001b[43m    \u001b[49m\u001b[43mstorage_options\u001b[49m\u001b[38;5;241;43m=\u001b[39;49m\u001b[43mstorage_options\u001b[49m\u001b[43m,\u001b[49m\n\u001b[1;32m    271\u001b[0m \u001b[43m    \u001b[49m\u001b[43mmode\u001b[49m\u001b[38;5;241;43m=\u001b[39;49m\u001b[38;5;124;43m\"\u001b[39;49m\u001b[38;5;124;43mrb\u001b[39;49m\u001b[38;5;124;43m\"\u001b[39;49m\u001b[43m,\u001b[49m\n\u001b[1;32m    272\u001b[0m \u001b[43m\u001b[49m\u001b[43m)\u001b[49m\n\u001b[1;32m    273\u001b[0m \u001b[38;5;28;01mtry\u001b[39;00m:\n\u001b[1;32m    274\u001b[0m     pa_table \u001b[38;5;241m=\u001b[39m \u001b[38;5;28mself\u001b[39m\u001b[38;5;241m.\u001b[39mapi\u001b[38;5;241m.\u001b[39mparquet\u001b[38;5;241m.\u001b[39mread_table(\n\u001b[1;32m    275\u001b[0m         path_or_handle,\n\u001b[1;32m    276\u001b[0m         columns\u001b[38;5;241m=\u001b[39mcolumns,\n\u001b[0;32m   (...)\u001b[0m\n\u001b[1;32m    279\u001b[0m         \u001b[38;5;241m*\u001b[39m\u001b[38;5;241m*\u001b[39mkwargs,\n\u001b[1;32m    280\u001b[0m     )\n",
      "File \u001b[0;32m/srv/conda/envs/notebook/lib/python3.11/site-packages/pandas/io/parquet.py:140\u001b[0m, in \u001b[0;36m_get_path_or_handle\u001b[0;34m(path, fs, storage_options, mode, is_dir)\u001b[0m\n\u001b[1;32m    130\u001b[0m handles \u001b[38;5;241m=\u001b[39m \u001b[38;5;28;01mNone\u001b[39;00m\n\u001b[1;32m    131\u001b[0m \u001b[38;5;28;01mif\u001b[39;00m (\n\u001b[1;32m    132\u001b[0m     \u001b[38;5;129;01mnot\u001b[39;00m fs\n\u001b[1;32m    133\u001b[0m     \u001b[38;5;129;01mand\u001b[39;00m \u001b[38;5;129;01mnot\u001b[39;00m is_dir\n\u001b[0;32m   (...)\u001b[0m\n\u001b[1;32m    138\u001b[0m     \u001b[38;5;66;03m# fsspec resources can also point to directories\u001b[39;00m\n\u001b[1;32m    139\u001b[0m     \u001b[38;5;66;03m# this branch is used for example when reading from non-fsspec URLs\u001b[39;00m\n\u001b[0;32m--> 140\u001b[0m     handles \u001b[38;5;241m=\u001b[39m \u001b[43mget_handle\u001b[49m\u001b[43m(\u001b[49m\n\u001b[1;32m    141\u001b[0m \u001b[43m        \u001b[49m\u001b[43mpath_or_handle\u001b[49m\u001b[43m,\u001b[49m\u001b[43m \u001b[49m\u001b[43mmode\u001b[49m\u001b[43m,\u001b[49m\u001b[43m \u001b[49m\u001b[43mis_text\u001b[49m\u001b[38;5;241;43m=\u001b[39;49m\u001b[38;5;28;43;01mFalse\u001b[39;49;00m\u001b[43m,\u001b[49m\u001b[43m \u001b[49m\u001b[43mstorage_options\u001b[49m\u001b[38;5;241;43m=\u001b[39;49m\u001b[43mstorage_options\u001b[49m\n\u001b[1;32m    142\u001b[0m \u001b[43m    \u001b[49m\u001b[43m)\u001b[49m\n\u001b[1;32m    143\u001b[0m     fs \u001b[38;5;241m=\u001b[39m \u001b[38;5;28;01mNone\u001b[39;00m\n\u001b[1;32m    144\u001b[0m     path_or_handle \u001b[38;5;241m=\u001b[39m handles\u001b[38;5;241m.\u001b[39mhandle\n",
      "File \u001b[0;32m/srv/conda/envs/notebook/lib/python3.11/site-packages/pandas/io/common.py:882\u001b[0m, in \u001b[0;36mget_handle\u001b[0;34m(path_or_buf, mode, encoding, compression, memory_map, is_text, errors, storage_options)\u001b[0m\n\u001b[1;32m    873\u001b[0m         handle \u001b[38;5;241m=\u001b[39m \u001b[38;5;28mopen\u001b[39m(\n\u001b[1;32m    874\u001b[0m             handle,\n\u001b[1;32m    875\u001b[0m             ioargs\u001b[38;5;241m.\u001b[39mmode,\n\u001b[0;32m   (...)\u001b[0m\n\u001b[1;32m    878\u001b[0m             newline\u001b[38;5;241m=\u001b[39m\u001b[38;5;124m\"\u001b[39m\u001b[38;5;124m\"\u001b[39m,\n\u001b[1;32m    879\u001b[0m         )\n\u001b[1;32m    880\u001b[0m     \u001b[38;5;28;01melse\u001b[39;00m:\n\u001b[1;32m    881\u001b[0m         \u001b[38;5;66;03m# Binary mode\u001b[39;00m\n\u001b[0;32m--> 882\u001b[0m         handle \u001b[38;5;241m=\u001b[39m \u001b[38;5;28;43mopen\u001b[39;49m\u001b[43m(\u001b[49m\u001b[43mhandle\u001b[49m\u001b[43m,\u001b[49m\u001b[43m \u001b[49m\u001b[43mioargs\u001b[49m\u001b[38;5;241;43m.\u001b[39;49m\u001b[43mmode\u001b[49m\u001b[43m)\u001b[49m\n\u001b[1;32m    883\u001b[0m     handles\u001b[38;5;241m.\u001b[39mappend(handle)\n\u001b[1;32m    885\u001b[0m \u001b[38;5;66;03m# Convert BytesIO or file objects passed with an encoding\u001b[39;00m\n",
      "\u001b[0;31mFileNotFoundError\u001b[0m: [Errno 2] No such file or directory: '/home/jovyan/SWEMLv2.0/data/SNOTEL_Data/ground_measures.parquet'"
     ]
    }
   ],
   "source": [
    "import get_Seasonality\n",
    "\n",
    "output_res = 300\n",
    "threshold = 20\n",
    "for region in region_list:\n",
    "    #process snotel sites to make \"snow hydrograph features\" to determine above/below average WY conditions\n",
    "    get_Seasonality.seasonal_snotel()\n",
    "\n",
    "\n",
    "    #get the Day of season metric for each dataframe\n",
    "    get_Seasonality.add_Seasonality(region, output_res, threshold)"
   ]
  },
  {
   "cell_type": "code",
   "execution_count": 12,
   "id": "3b9779fd-d010-413c-935c-80e0defeb71a",
   "metadata": {},
   "outputs": [
    {
     "data": {
      "text/plain": [
       "<module 'get_Sturm' from '/home/jovyan/SWEMLv2.0/Dataprocessing/get_Sturm.py'>"
      ]
     },
     "execution_count": 12,
     "metadata": {},
     "output_type": "execute_result"
    }
   ],
   "source": [
    "import importlib\n",
    "importlib.reload(get_Sturm)"
   ]
  },
  {
   "cell_type": "code",
   "execution_count": 13,
   "id": "a2627e92-1dc1-47b6-9aba-d1efc31cc8b7",
   "metadata": {},
   "outputs": [
    {
     "name": "stderr",
     "output_type": "stream",
     "text": [
      "100%|██████████| 85185/85185 [00:08<00:00, 9802.63it/s]\n"
     ]
    },
    {
     "name": "stdout",
     "output_type": "stream",
     "text": [
      "Processed and saved /home/jovyan/SWEMLv2.0/data/TrainingDFs/Northwest/300M_Resolution/Sturm_Seasonality_PrecipVIIRSGeoObsDFs/20_fSCA_Thresh/Sturm_Season_Precip_VIIRS_GeoObsDF_20160329.parquet\n"
     ]
    },
    {
     "name": "stderr",
     "output_type": "stream",
     "text": [
      "100%|██████████| 85185/85185 [00:08<00:00, 9815.14it/s]\n"
     ]
    },
    {
     "name": "stdout",
     "output_type": "stream",
     "text": [
      "Processed and saved /home/jovyan/SWEMLv2.0/data/TrainingDFs/Northwest/300M_Resolution/Sturm_Seasonality_PrecipVIIRSGeoObsDFs/20_fSCA_Thresh/Sturm_Season_Precip_VIIRS_GeoObsDF_20160208.parquet\n"
     ]
    },
    {
     "name": "stderr",
     "output_type": "stream",
     "text": [
      "100%|██████████| 47402/47402 [00:04<00:00, 9844.63it/s]\n"
     ]
    },
    {
     "name": "stdout",
     "output_type": "stream",
     "text": [
      "Processed and saved /home/jovyan/SWEMLv2.0/data/TrainingDFs/SouthernRockies/300M_Resolution/Sturm_Seasonality_PrecipVIIRSGeoObsDFs/20_fSCA_Thresh/Sturm_Season_Precip_VIIRS_GeoObsDF_20150602.parquet\n"
     ]
    },
    {
     "name": "stderr",
     "output_type": "stream",
     "text": [
      "100%|██████████| 9378/9378 [00:00<00:00, 9885.87it/s]\n"
     ]
    },
    {
     "name": "stdout",
     "output_type": "stream",
     "text": [
      "Processed and saved /home/jovyan/SWEMLv2.0/data/TrainingDFs/SouthernRockies/300M_Resolution/Sturm_Seasonality_PrecipVIIRSGeoObsDFs/20_fSCA_Thresh/Sturm_Season_Precip_VIIRS_GeoObsDF_20190408.parquet\n"
     ]
    },
    {
     "name": "stderr",
     "output_type": "stream",
     "text": [
      "100%|██████████| 9378/9378 [00:00<00:00, 9749.67it/s]\n"
     ]
    },
    {
     "name": "stdout",
     "output_type": "stream",
     "text": [
      "Processed and saved /home/jovyan/SWEMLv2.0/data/TrainingDFs/SouthernRockies/300M_Resolution/Sturm_Seasonality_PrecipVIIRSGeoObsDFs/20_fSCA_Thresh/Sturm_Season_Precip_VIIRS_GeoObsDF_20180330.parquet\n"
     ]
    },
    {
     "name": "stderr",
     "output_type": "stream",
     "text": [
      "100%|██████████| 23791/23791 [00:02<00:00, 9827.38it/s]\n"
     ]
    },
    {
     "name": "stdout",
     "output_type": "stream",
     "text": [
      "Processed and saved /home/jovyan/SWEMLv2.0/data/TrainingDFs/SouthernRockies/300M_Resolution/Sturm_Seasonality_PrecipVIIRSGeoObsDFs/20_fSCA_Thresh/Sturm_Season_Precip_VIIRS_GeoObsDF_20180331.parquet\n"
     ]
    },
    {
     "name": "stderr",
     "output_type": "stream",
     "text": [
      "100%|██████████| 28353/28353 [00:02<00:00, 9754.34it/s]\n"
     ]
    },
    {
     "name": "stdout",
     "output_type": "stream",
     "text": [
      "Processed and saved /home/jovyan/SWEMLv2.0/data/TrainingDFs/SouthernRockies/300M_Resolution/Sturm_Seasonality_PrecipVIIRSGeoObsDFs/20_fSCA_Thresh/Sturm_Season_Precip_VIIRS_GeoObsDF_20160403.parquet\n"
     ]
    },
    {
     "name": "stderr",
     "output_type": "stream",
     "text": [
      "100%|██████████| 12458/12458 [00:01<00:00, 9810.50it/s]\n"
     ]
    },
    {
     "name": "stdout",
     "output_type": "stream",
     "text": [
      "Processed and saved /home/jovyan/SWEMLv2.0/data/TrainingDFs/SouthernRockies/300M_Resolution/Sturm_Seasonality_PrecipVIIRSGeoObsDFs/20_fSCA_Thresh/Sturm_Season_Precip_VIIRS_GeoObsDF_20190624.parquet\n"
     ]
    },
    {
     "name": "stderr",
     "output_type": "stream",
     "text": [
      "100%|██████████| 12317/12317 [00:01<00:00, 9648.80it/s]\n"
     ]
    },
    {
     "name": "stdout",
     "output_type": "stream",
     "text": [
      "Processed and saved /home/jovyan/SWEMLv2.0/data/TrainingDFs/SouthernRockies/300M_Resolution/Sturm_Seasonality_PrecipVIIRSGeoObsDFs/20_fSCA_Thresh/Sturm_Season_Precip_VIIRS_GeoObsDF_20190419.parquet\n"
     ]
    },
    {
     "name": "stderr",
     "output_type": "stream",
     "text": [
      "100%|██████████| 16241/16241 [00:01<00:00, 9910.08it/s]\n"
     ]
    },
    {
     "name": "stdout",
     "output_type": "stream",
     "text": [
      "Processed and saved /home/jovyan/SWEMLv2.0/data/TrainingDFs/SouthernRockies/300M_Resolution/Sturm_Seasonality_PrecipVIIRSGeoObsDFs/20_fSCA_Thresh/Sturm_Season_Precip_VIIRS_GeoObsDF_20190610.parquet\n"
     ]
    },
    {
     "name": "stderr",
     "output_type": "stream",
     "text": [
      "100%|██████████| 33987/33987 [00:03<00:00, 9687.46it/s]\n"
     ]
    },
    {
     "name": "stdout",
     "output_type": "stream",
     "text": [
      "Processed and saved /home/jovyan/SWEMLv2.0/data/TrainingDFs/SouthernRockies/300M_Resolution/Sturm_Seasonality_PrecipVIIRSGeoObsDFs/20_fSCA_Thresh/Sturm_Season_Precip_VIIRS_GeoObsDF_20190407.parquet\n"
     ]
    },
    {
     "name": "stderr",
     "output_type": "stream",
     "text": [
      "100%|██████████| 23791/23791 [00:02<00:00, 9859.62it/s]\n"
     ]
    },
    {
     "name": "stdout",
     "output_type": "stream",
     "text": [
      "Processed and saved /home/jovyan/SWEMLv2.0/data/TrainingDFs/SouthernRockies/300M_Resolution/Sturm_Seasonality_PrecipVIIRSGeoObsDFs/20_fSCA_Thresh/Sturm_Season_Precip_VIIRS_GeoObsDF_20180524.parquet\n"
     ]
    },
    {
     "name": "stderr",
     "output_type": "stream",
     "text": [
      "100%|██████████| 29145/29145 [00:02<00:00, 9802.93it/s]\n"
     ]
    },
    {
     "name": "stdout",
     "output_type": "stream",
     "text": [
      "Processed and saved /home/jovyan/SWEMLv2.0/data/TrainingDFs/SouthernRockies/300M_Resolution/Sturm_Seasonality_PrecipVIIRSGeoObsDFs/20_fSCA_Thresh/Sturm_Season_Precip_VIIRS_GeoObsDF_20150406.parquet\n"
     ]
    },
    {
     "name": "stderr",
     "output_type": "stream",
     "text": [
      "100%|██████████| 9378/9378 [00:00<00:00, 9853.51it/s]\n"
     ]
    },
    {
     "name": "stdout",
     "output_type": "stream",
     "text": [
      "Processed and saved /home/jovyan/SWEMLv2.0/data/TrainingDFs/SouthernRockies/300M_Resolution/Sturm_Seasonality_PrecipVIIRSGeoObsDFs/20_fSCA_Thresh/Sturm_Season_Precip_VIIRS_GeoObsDF_20190609.parquet\n"
     ]
    },
    {
     "name": "stderr",
     "output_type": "stream",
     "text": [
      "100%|██████████| 2545/2545 [00:00<00:00, 9560.76it/s]\n"
     ]
    },
    {
     "name": "stdout",
     "output_type": "stream",
     "text": [
      "Processed and saved /home/jovyan/SWEMLv2.0/data/TrainingDFs/SouthernRockies/300M_Resolution/Sturm_Seasonality_PrecipVIIRSGeoObsDFs/20_fSCA_Thresh/Sturm_Season_Precip_VIIRS_GeoObsDF_20160404.parquet\n"
     ]
    },
    {
     "name": "stderr",
     "output_type": "stream",
     "text": [
      "100%|██████████| 47402/47402 [00:04<00:00, 9828.28it/s]\n"
     ]
    },
    {
     "name": "stdout",
     "output_type": "stream",
     "text": [
      "Processed and saved /home/jovyan/SWEMLv2.0/data/TrainingDFs/SouthernRockies/300M_Resolution/Sturm_Seasonality_PrecipVIIRSGeoObsDFs/20_fSCA_Thresh/Sturm_Season_Precip_VIIRS_GeoObsDF_20150407.parquet\n"
     ]
    },
    {
     "name": "stderr",
     "output_type": "stream",
     "text": [
      "100%|██████████| 22693/22693 [00:02<00:00, 9914.86it/s]\n"
     ]
    },
    {
     "name": "stdout",
     "output_type": "stream",
     "text": [
      "Processed and saved /home/jovyan/SWEMLv2.0/data/TrainingDFs/Southwest/300M_Resolution/Sturm_Seasonality_PrecipVIIRSGeoObsDFs/20_fSCA_Thresh/Sturm_Season_Precip_VIIRS_GeoObsDF_20190614.parquet\n"
     ]
    },
    {
     "name": "stderr",
     "output_type": "stream",
     "text": [
      "100%|██████████| 13586/13586 [00:01<00:00, 9949.71it/s]\n"
     ]
    },
    {
     "name": "stdout",
     "output_type": "stream",
     "text": [
      "Processed and saved /home/jovyan/SWEMLv2.0/data/TrainingDFs/Southwest/300M_Resolution/Sturm_Seasonality_PrecipVIIRSGeoObsDFs/20_fSCA_Thresh/Sturm_Season_Precip_VIIRS_GeoObsDF_20190714.parquet\n"
     ]
    },
    {
     "name": "stderr",
     "output_type": "stream",
     "text": [
      "100%|██████████| 13586/13586 [00:01<00:00, 9778.88it/s]\n"
     ]
    },
    {
     "name": "stdout",
     "output_type": "stream",
     "text": [
      "Processed and saved /home/jovyan/SWEMLv2.0/data/TrainingDFs/Southwest/300M_Resolution/Sturm_Seasonality_PrecipVIIRSGeoObsDFs/20_fSCA_Thresh/Sturm_Season_Precip_VIIRS_GeoObsDF_20190502.parquet\n"
     ]
    },
    {
     "name": "stderr",
     "output_type": "stream",
     "text": [
      "100%|██████████| 39617/39617 [00:03<00:00, 9912.29it/s] \n"
     ]
    },
    {
     "name": "stdout",
     "output_type": "stream",
     "text": [
      "Processed and saved /home/jovyan/SWEMLv2.0/data/TrainingDFs/Southwest/300M_Resolution/Sturm_Seasonality_PrecipVIIRSGeoObsDFs/20_fSCA_Thresh/Sturm_Season_Precip_VIIRS_GeoObsDF_20140605.parquet\n"
     ]
    },
    {
     "name": "stderr",
     "output_type": "stream",
     "text": [
      "100%|██████████| 20022/20022 [00:02<00:00, 9830.11it/s]\n"
     ]
    },
    {
     "name": "stdout",
     "output_type": "stream",
     "text": [
      "Processed and saved /home/jovyan/SWEMLv2.0/data/TrainingDFs/Southwest/300M_Resolution/Sturm_Seasonality_PrecipVIIRSGeoObsDFs/20_fSCA_Thresh/Sturm_Season_Precip_VIIRS_GeoObsDF_20190317.parquet\n"
     ]
    },
    {
     "name": "stderr",
     "output_type": "stream",
     "text": [
      "100%|██████████| 15824/15824 [00:01<00:00, 9917.54it/s]\n"
     ]
    },
    {
     "name": "stdout",
     "output_type": "stream",
     "text": [
      "Processed and saved /home/jovyan/SWEMLv2.0/data/TrainingDFs/Southwest/300M_Resolution/Sturm_Seasonality_PrecipVIIRSGeoObsDFs/20_fSCA_Thresh/Sturm_Season_Precip_VIIRS_GeoObsDF_20160426.parquet\n"
     ]
    },
    {
     "name": "stderr",
     "output_type": "stream",
     "text": [
      "100%|██████████| 16508/16508 [00:01<00:00, 9930.83it/s] \n"
     ]
    },
    {
     "name": "stdout",
     "output_type": "stream",
     "text": [
      "Processed and saved /home/jovyan/SWEMLv2.0/data/TrainingDFs/Southwest/300M_Resolution/Sturm_Seasonality_PrecipVIIRSGeoObsDFs/20_fSCA_Thresh/Sturm_Season_Precip_VIIRS_GeoObsDF_20170129.parquet\n"
     ]
    },
    {
     "name": "stderr",
     "output_type": "stream",
     "text": [
      "100%|██████████| 9056/9056 [00:00<00:00, 9824.51it/s]\n"
     ]
    },
    {
     "name": "stdout",
     "output_type": "stream",
     "text": [
      "Processed and saved /home/jovyan/SWEMLv2.0/data/TrainingDFs/Southwest/300M_Resolution/Sturm_Seasonality_PrecipVIIRSGeoObsDFs/20_fSCA_Thresh/Sturm_Season_Precip_VIIRS_GeoObsDF_20190611.parquet\n"
     ]
    },
    {
     "name": "stderr",
     "output_type": "stream",
     "text": [
      "100%|██████████| 20022/20022 [00:02<00:00, 8656.25it/s]\n"
     ]
    },
    {
     "name": "stdout",
     "output_type": "stream",
     "text": [
      "Processed and saved /home/jovyan/SWEMLv2.0/data/TrainingDFs/Southwest/300M_Resolution/Sturm_Seasonality_PrecipVIIRSGeoObsDFs/20_fSCA_Thresh/Sturm_Season_Precip_VIIRS_GeoObsDF_20190324.parquet\n"
     ]
    },
    {
     "name": "stderr",
     "output_type": "stream",
     "text": [
      "100%|██████████| 18240/18240 [00:01<00:00, 9817.78it/s]\n"
     ]
    },
    {
     "name": "stdout",
     "output_type": "stream",
     "text": [
      "Processed and saved /home/jovyan/SWEMLv2.0/data/TrainingDFs/Southwest/300M_Resolution/Sturm_Seasonality_PrecipVIIRSGeoObsDFs/20_fSCA_Thresh/Sturm_Season_Precip_VIIRS_GeoObsDF_20140320.parquet\n"
     ]
    },
    {
     "name": "stderr",
     "output_type": "stream",
     "text": [
      "100%|██████████| 21472/21472 [00:02<00:00, 9898.55it/s]\n"
     ]
    },
    {
     "name": "stdout",
     "output_type": "stream",
     "text": [
      "Processed and saved /home/jovyan/SWEMLv2.0/data/TrainingDFs/Southwest/300M_Resolution/Sturm_Seasonality_PrecipVIIRSGeoObsDFs/20_fSCA_Thresh/Sturm_Season_Precip_VIIRS_GeoObsDF_20140324.parquet\n"
     ]
    },
    {
     "name": "stderr",
     "output_type": "stream",
     "text": [
      "100%|██████████| 16523/16523 [00:01<00:00, 9692.43it/s]\n"
     ]
    },
    {
     "name": "stdout",
     "output_type": "stream",
     "text": [
      "Processed and saved /home/jovyan/SWEMLv2.0/data/TrainingDFs/Southwest/300M_Resolution/Sturm_Seasonality_PrecipVIIRSGeoObsDFs/20_fSCA_Thresh/Sturm_Season_Precip_VIIRS_GeoObsDF_20130601.parquet\n"
     ]
    },
    {
     "name": "stderr",
     "output_type": "stream",
     "text": [
      "100%|██████████| 3741/3741 [00:00<00:00, 9661.02it/s]\n"
     ]
    },
    {
     "name": "stdout",
     "output_type": "stream",
     "text": [
      "Processed and saved /home/jovyan/SWEMLv2.0/data/TrainingDFs/Southwest/300M_Resolution/Sturm_Seasonality_PrecipVIIRSGeoObsDFs/20_fSCA_Thresh/Sturm_Season_Precip_VIIRS_GeoObsDF_20150326.parquet\n"
     ]
    },
    {
     "name": "stderr",
     "output_type": "stream",
     "text": [
      "100%|██████████| 16523/16523 [00:01<00:00, 9752.08it/s]\n"
     ]
    },
    {
     "name": "stdout",
     "output_type": "stream",
     "text": [
      "Processed and saved /home/jovyan/SWEMLv2.0/data/TrainingDFs/Southwest/300M_Resolution/Sturm_Seasonality_PrecipVIIRSGeoObsDFs/20_fSCA_Thresh/Sturm_Season_Precip_VIIRS_GeoObsDF_20130503.parquet\n"
     ]
    },
    {
     "name": "stderr",
     "output_type": "stream",
     "text": [
      "100%|██████████| 22693/22693 [00:02<00:00, 9878.32it/s]\n"
     ]
    },
    {
     "name": "stdout",
     "output_type": "stream",
     "text": [
      "Processed and saved /home/jovyan/SWEMLv2.0/data/TrainingDFs/Southwest/300M_Resolution/Sturm_Seasonality_PrecipVIIRSGeoObsDFs/20_fSCA_Thresh/Sturm_Season_Precip_VIIRS_GeoObsDF_20190704.parquet\n"
     ]
    },
    {
     "name": "stderr",
     "output_type": "stream",
     "text": [
      "100%|██████████| 39617/39617 [00:04<00:00, 9883.00it/s]\n"
     ]
    },
    {
     "name": "stdout",
     "output_type": "stream",
     "text": [
      "Processed and saved /home/jovyan/SWEMLv2.0/data/TrainingDFs/Southwest/300M_Resolution/Sturm_Seasonality_PrecipVIIRSGeoObsDFs/20_fSCA_Thresh/Sturm_Season_Precip_VIIRS_GeoObsDF_20150305.parquet\n"
     ]
    },
    {
     "name": "stderr",
     "output_type": "stream",
     "text": [
      "100%|██████████| 389/389 [00:00<00:00, 9440.67it/s]\n"
     ]
    },
    {
     "name": "stdout",
     "output_type": "stream",
     "text": [
      "Processed and saved /home/jovyan/SWEMLv2.0/data/TrainingDFs/Southwest/300M_Resolution/Sturm_Seasonality_PrecipVIIRSGeoObsDFs/20_fSCA_Thresh/Sturm_Season_Precip_VIIRS_GeoObsDF_20170718.parquet\n"
     ]
    },
    {
     "name": "stderr",
     "output_type": "stream",
     "text": [
      "100%|██████████| 21472/21472 [00:02<00:00, 9831.31it/s]\n"
     ]
    },
    {
     "name": "stdout",
     "output_type": "stream",
     "text": [
      "Processed and saved /home/jovyan/SWEMLv2.0/data/TrainingDFs/Southwest/300M_Resolution/Sturm_Seasonality_PrecipVIIRSGeoObsDFs/20_fSCA_Thresh/Sturm_Season_Precip_VIIRS_GeoObsDF_20140414.parquet\n"
     ]
    },
    {
     "name": "stderr",
     "output_type": "stream",
     "text": [
      "100%|██████████| 389/389 [00:00<00:00, 8933.73it/s]\n"
     ]
    },
    {
     "name": "stdout",
     "output_type": "stream",
     "text": [
      "Processed and saved /home/jovyan/SWEMLv2.0/data/TrainingDFs/Southwest/300M_Resolution/Sturm_Seasonality_PrecipVIIRSGeoObsDFs/20_fSCA_Thresh/Sturm_Season_Precip_VIIRS_GeoObsDF_20160621.parquet\n"
     ]
    },
    {
     "name": "stderr",
     "output_type": "stream",
     "text": [
      "100%|██████████| 22693/22693 [00:02<00:00, 9826.63it/s]\n"
     ]
    },
    {
     "name": "stdout",
     "output_type": "stream",
     "text": [
      "Processed and saved /home/jovyan/SWEMLv2.0/data/TrainingDFs/Southwest/300M_Resolution/Sturm_Seasonality_PrecipVIIRSGeoObsDFs/20_fSCA_Thresh/Sturm_Season_Precip_VIIRS_GeoObsDF_20190713.parquet\n"
     ]
    },
    {
     "name": "stderr",
     "output_type": "stream",
     "text": [
      "100%|██████████| 49436/49436 [00:04<00:00, 9947.26it/s] \n"
     ]
    },
    {
     "name": "stdout",
     "output_type": "stream",
     "text": [
      "Processed and saved /home/jovyan/SWEMLv2.0/data/TrainingDFs/Southwest/300M_Resolution/Sturm_Seasonality_PrecipVIIRSGeoObsDFs/20_fSCA_Thresh/Sturm_Season_Precip_VIIRS_GeoObsDF_20190316.parquet\n"
     ]
    },
    {
     "name": "stderr",
     "output_type": "stream",
     "text": [
      "100%|██████████| 59036/59036 [00:05<00:00, 9880.67it/s] \n"
     ]
    },
    {
     "name": "stdout",
     "output_type": "stream",
     "text": [
      "Processed and saved /home/jovyan/SWEMLv2.0/data/TrainingDFs/Southwest/300M_Resolution/Sturm_Seasonality_PrecipVIIRSGeoObsDFs/20_fSCA_Thresh/Sturm_Season_Precip_VIIRS_GeoObsDF_20190315.parquet\n"
     ]
    },
    {
     "name": "stderr",
     "output_type": "stream",
     "text": [
      "100%|██████████| 23547/23547 [00:02<00:00, 9904.30it/s] \n"
     ]
    },
    {
     "name": "stdout",
     "output_type": "stream",
     "text": [
      "Processed and saved /home/jovyan/SWEMLv2.0/data/TrainingDFs/Southwest/300M_Resolution/Sturm_Seasonality_PrecipVIIRSGeoObsDFs/20_fSCA_Thresh/Sturm_Season_Precip_VIIRS_GeoObsDF_20190417.parquet\n"
     ]
    },
    {
     "name": "stderr",
     "output_type": "stream",
     "text": [
      "100%|██████████| 39617/39617 [00:04<00:00, 9888.65it/s]\n"
     ]
    },
    {
     "name": "stdout",
     "output_type": "stream",
     "text": [
      "Processed and saved /home/jovyan/SWEMLv2.0/data/TrainingDFs/Southwest/300M_Resolution/Sturm_Seasonality_PrecipVIIRSGeoObsDFs/20_fSCA_Thresh/Sturm_Season_Precip_VIIRS_GeoObsDF_20140502.parquet\n"
     ]
    },
    {
     "name": "stderr",
     "output_type": "stream",
     "text": [
      "100%|██████████| 39617/39617 [00:03<00:00, 9910.87it/s] \n"
     ]
    },
    {
     "name": "stdout",
     "output_type": "stream",
     "text": [
      "Processed and saved /home/jovyan/SWEMLv2.0/data/TrainingDFs/Southwest/300M_Resolution/Sturm_Seasonality_PrecipVIIRSGeoObsDFs/20_fSCA_Thresh/Sturm_Season_Precip_VIIRS_GeoObsDF_20150217.parquet\n"
     ]
    },
    {
     "name": "stderr",
     "output_type": "stream",
     "text": [
      "100%|██████████| 22474/22474 [00:02<00:00, 9924.24it/s]\n"
     ]
    },
    {
     "name": "stdout",
     "output_type": "stream",
     "text": [
      "Processed and saved /home/jovyan/SWEMLv2.0/data/TrainingDFs/Southwest/300M_Resolution/Sturm_Seasonality_PrecipVIIRSGeoObsDFs/20_fSCA_Thresh/Sturm_Season_Precip_VIIRS_GeoObsDF_20190605.parquet\n"
     ]
    },
    {
     "name": "stderr",
     "output_type": "stream",
     "text": [
      "100%|██████████| 26356/26356 [00:02<00:00, 9699.84it/s]\n"
     ]
    },
    {
     "name": "stdout",
     "output_type": "stream",
     "text": [
      "Processed and saved /home/jovyan/SWEMLv2.0/data/TrainingDFs/Southwest/300M_Resolution/Sturm_Seasonality_PrecipVIIRSGeoObsDFs/20_fSCA_Thresh/Sturm_Season_Precip_VIIRS_GeoObsDF_20180423.parquet\n"
     ]
    },
    {
     "name": "stderr",
     "output_type": "stream",
     "text": [
      "100%|██████████| 49436/49436 [00:05<00:00, 9804.73it/s]\n"
     ]
    },
    {
     "name": "stdout",
     "output_type": "stream",
     "text": [
      "Processed and saved /home/jovyan/SWEMLv2.0/data/TrainingDFs/Southwest/300M_Resolution/Sturm_Seasonality_PrecipVIIRSGeoObsDFs/20_fSCA_Thresh/Sturm_Season_Precip_VIIRS_GeoObsDF_20190428.parquet\n"
     ]
    },
    {
     "name": "stderr",
     "output_type": "stream",
     "text": [
      "100%|██████████| 19140/19140 [00:01<00:00, 9868.73it/s]\n"
     ]
    },
    {
     "name": "stdout",
     "output_type": "stream",
     "text": [
      "Processed and saved /home/jovyan/SWEMLv2.0/data/TrainingDFs/Southwest/300M_Resolution/Sturm_Seasonality_PrecipVIIRSGeoObsDFs/20_fSCA_Thresh/Sturm_Season_Precip_VIIRS_GeoObsDF_20180422.parquet\n"
     ]
    },
    {
     "name": "stderr",
     "output_type": "stream",
     "text": [
      "100%|██████████| 39617/39617 [00:04<00:00, 9761.72it/s]\n"
     ]
    },
    {
     "name": "stdout",
     "output_type": "stream",
     "text": [
      "Processed and saved /home/jovyan/SWEMLv2.0/data/TrainingDFs/Southwest/300M_Resolution/Sturm_Seasonality_PrecipVIIRSGeoObsDFs/20_fSCA_Thresh/Sturm_Season_Precip_VIIRS_GeoObsDF_20150409.parquet\n"
     ]
    },
    {
     "name": "stderr",
     "output_type": "stream",
     "text": [
      "100%|██████████| 20022/20022 [00:02<00:00, 9865.14it/s]\n"
     ]
    },
    {
     "name": "stdout",
     "output_type": "stream",
     "text": [
      "Processed and saved /home/jovyan/SWEMLv2.0/data/TrainingDFs/Southwest/300M_Resolution/Sturm_Seasonality_PrecipVIIRSGeoObsDFs/20_fSCA_Thresh/Sturm_Season_Precip_VIIRS_GeoObsDF_20190421.parquet\n"
     ]
    },
    {
     "name": "stderr",
     "output_type": "stream",
     "text": [
      "100%|██████████| 39617/39617 [00:04<00:00, 9747.40it/s]\n"
     ]
    },
    {
     "name": "stdout",
     "output_type": "stream",
     "text": [
      "Processed and saved /home/jovyan/SWEMLv2.0/data/TrainingDFs/Southwest/300M_Resolution/Sturm_Seasonality_PrecipVIIRSGeoObsDFs/20_fSCA_Thresh/Sturm_Season_Precip_VIIRS_GeoObsDF_20150415.parquet\n"
     ]
    },
    {
     "name": "stderr",
     "output_type": "stream",
     "text": [
      "100%|██████████| 39617/39617 [00:04<00:00, 9774.76it/s]\n"
     ]
    },
    {
     "name": "stdout",
     "output_type": "stream",
     "text": [
      "Processed and saved /home/jovyan/SWEMLv2.0/data/TrainingDFs/Southwest/300M_Resolution/Sturm_Seasonality_PrecipVIIRSGeoObsDFs/20_fSCA_Thresh/Sturm_Season_Precip_VIIRS_GeoObsDF_20140517.parquet\n"
     ]
    },
    {
     "name": "stderr",
     "output_type": "stream",
     "text": [
      "100%|██████████| 14404/14404 [00:01<00:00, 9081.87it/s]\n"
     ]
    },
    {
     "name": "stdout",
     "output_type": "stream",
     "text": [
      "Processed and saved /home/jovyan/SWEMLv2.0/data/TrainingDFs/Southwest/300M_Resolution/Sturm_Seasonality_PrecipVIIRSGeoObsDFs/20_fSCA_Thresh/Sturm_Season_Precip_VIIRS_GeoObsDF_20190703.parquet\n"
     ]
    },
    {
     "name": "stderr",
     "output_type": "stream",
     "text": [
      "100%|██████████| 21472/21472 [00:02<00:00, 9907.07it/s]\n"
     ]
    },
    {
     "name": "stdout",
     "output_type": "stream",
     "text": [
      "Processed and saved /home/jovyan/SWEMLv2.0/data/TrainingDFs/Southwest/300M_Resolution/Sturm_Seasonality_PrecipVIIRSGeoObsDFs/20_fSCA_Thresh/Sturm_Season_Precip_VIIRS_GeoObsDF_20140512.parquet\n"
     ]
    },
    {
     "name": "stderr",
     "output_type": "stream",
     "text": [
      "100%|██████████| 19140/19140 [00:01<00:00, 9882.69it/s]\n"
     ]
    },
    {
     "name": "stdout",
     "output_type": "stream",
     "text": [
      "Processed and saved /home/jovyan/SWEMLv2.0/data/TrainingDFs/Southwest/300M_Resolution/Sturm_Seasonality_PrecipVIIRSGeoObsDFs/20_fSCA_Thresh/Sturm_Season_Precip_VIIRS_GeoObsDF_20180304.parquet\n"
     ]
    },
    {
     "name": "stderr",
     "output_type": "stream",
     "text": [
      "100%|██████████| 23547/23547 [00:02<00:00, 9851.35it/s]\n"
     ]
    },
    {
     "name": "stdout",
     "output_type": "stream",
     "text": [
      "Processed and saved /home/jovyan/SWEMLv2.0/data/TrainingDFs/Southwest/300M_Resolution/Sturm_Seasonality_PrecipVIIRSGeoObsDFs/20_fSCA_Thresh/Sturm_Season_Precip_VIIRS_GeoObsDF_20190613.parquet\n"
     ]
    },
    {
     "name": "stderr",
     "output_type": "stream",
     "text": [
      "100%|██████████| 16508/16508 [00:01<00:00, 9852.64it/s]\n"
     ]
    },
    {
     "name": "stdout",
     "output_type": "stream",
     "text": [
      "Processed and saved /home/jovyan/SWEMLv2.0/data/TrainingDFs/Southwest/300M_Resolution/Sturm_Seasonality_PrecipVIIRSGeoObsDFs/20_fSCA_Thresh/Sturm_Season_Precip_VIIRS_GeoObsDF_20170717.parquet\n"
     ]
    },
    {
     "name": "stderr",
     "output_type": "stream",
     "text": [
      "100%|██████████| 14404/14404 [00:01<00:00, 9801.41it/s]\n"
     ]
    },
    {
     "name": "stdout",
     "output_type": "stream",
     "text": [
      "Processed and saved /home/jovyan/SWEMLv2.0/data/TrainingDFs/Southwest/300M_Resolution/Sturm_Seasonality_PrecipVIIRSGeoObsDFs/20_fSCA_Thresh/Sturm_Season_Precip_VIIRS_GeoObsDF_20190716.parquet\n"
     ]
    },
    {
     "name": "stderr",
     "output_type": "stream",
     "text": [
      "100%|██████████| 39617/39617 [00:04<00:00, 9677.17it/s]\n"
     ]
    },
    {
     "name": "stdout",
     "output_type": "stream",
     "text": [
      "Processed and saved /home/jovyan/SWEMLv2.0/data/TrainingDFs/Southwest/300M_Resolution/Sturm_Seasonality_PrecipVIIRSGeoObsDFs/20_fSCA_Thresh/Sturm_Season_Precip_VIIRS_GeoObsDF_20140407.parquet\n"
     ]
    },
    {
     "name": "stderr",
     "output_type": "stream",
     "text": [
      "100%|██████████| 19140/19140 [00:01<00:00, 9784.04it/s]\n"
     ]
    },
    {
     "name": "stdout",
     "output_type": "stream",
     "text": [
      "Processed and saved /home/jovyan/SWEMLv2.0/data/TrainingDFs/Southwest/300M_Resolution/Sturm_Seasonality_PrecipVIIRSGeoObsDFs/20_fSCA_Thresh/Sturm_Season_Precip_VIIRS_GeoObsDF_20170719.parquet\n"
     ]
    },
    {
     "name": "stderr",
     "output_type": "stream",
     "text": [
      "100%|██████████| 3741/3741 [00:00<00:00, 9844.09it/s]\n"
     ]
    },
    {
     "name": "stdout",
     "output_type": "stream",
     "text": [
      "Processed and saved /home/jovyan/SWEMLv2.0/data/TrainingDFs/Southwest/300M_Resolution/Sturm_Seasonality_PrecipVIIRSGeoObsDFs/20_fSCA_Thresh/Sturm_Season_Precip_VIIRS_GeoObsDF_20150609.parquet\n"
     ]
    },
    {
     "name": "stderr",
     "output_type": "stream",
     "text": [
      "100%|██████████| 9169/9169 [00:00<00:00, 9920.52it/s]\n"
     ]
    },
    {
     "name": "stdout",
     "output_type": "stream",
     "text": [
      "Processed and saved /home/jovyan/SWEMLv2.0/data/TrainingDFs/Southwest/300M_Resolution/Sturm_Seasonality_PrecipVIIRSGeoObsDFs/20_fSCA_Thresh/Sturm_Season_Precip_VIIRS_GeoObsDF_20180426.parquet\n"
     ]
    },
    {
     "name": "stderr",
     "output_type": "stream",
     "text": [
      "100%|██████████| 15817/15817 [00:01<00:00, 9819.22it/s]\n"
     ]
    },
    {
     "name": "stdout",
     "output_type": "stream",
     "text": [
      "Processed and saved /home/jovyan/SWEMLv2.0/data/TrainingDFs/Southwest/300M_Resolution/Sturm_Seasonality_PrecipVIIRSGeoObsDFs/20_fSCA_Thresh/Sturm_Season_Precip_VIIRS_GeoObsDF_20160416.parquet\n"
     ]
    },
    {
     "name": "stderr",
     "output_type": "stream",
     "text": [
      "100%|██████████| 21472/21472 [00:02<00:00, 9821.87it/s]\n"
     ]
    },
    {
     "name": "stdout",
     "output_type": "stream",
     "text": [
      "Processed and saved /home/jovyan/SWEMLv2.0/data/TrainingDFs/Southwest/300M_Resolution/Sturm_Seasonality_PrecipVIIRSGeoObsDFs/20_fSCA_Thresh/Sturm_Season_Precip_VIIRS_GeoObsDF_20140503.parquet\n"
     ]
    },
    {
     "name": "stderr",
     "output_type": "stream",
     "text": [
      "100%|██████████| 39617/39617 [00:03<00:00, 9909.52it/s] \n"
     ]
    },
    {
     "name": "stdout",
     "output_type": "stream",
     "text": [
      "Processed and saved /home/jovyan/SWEMLv2.0/data/TrainingDFs/Southwest/300M_Resolution/Sturm_Seasonality_PrecipVIIRSGeoObsDFs/20_fSCA_Thresh/Sturm_Season_Precip_VIIRS_GeoObsDF_20150608.parquet\n"
     ]
    },
    {
     "name": "stderr",
     "output_type": "stream",
     "text": [
      "100%|██████████| 39617/39617 [00:04<00:00, 9588.76it/s]\n"
     ]
    },
    {
     "name": "stdout",
     "output_type": "stream",
     "text": [
      "Processed and saved /home/jovyan/SWEMLv2.0/data/TrainingDFs/Southwest/300M_Resolution/Sturm_Seasonality_PrecipVIIRSGeoObsDFs/20_fSCA_Thresh/Sturm_Season_Precip_VIIRS_GeoObsDF_20140531.parquet\n"
     ]
    },
    {
     "name": "stderr",
     "output_type": "stream",
     "text": [
      "100%|██████████| 11690/11690 [00:01<00:00, 8839.17it/s]\n"
     ]
    },
    {
     "name": "stdout",
     "output_type": "stream",
     "text": [
      "Processed and saved /home/jovyan/SWEMLv2.0/data/TrainingDFs/Southwest/300M_Resolution/Sturm_Seasonality_PrecipVIIRSGeoObsDFs/20_fSCA_Thresh/Sturm_Season_Precip_VIIRS_GeoObsDF_20190329.parquet\n"
     ]
    },
    {
     "name": "stderr",
     "output_type": "stream",
     "text": [
      "100%|██████████| 39617/39617 [00:04<00:00, 9731.33it/s]\n"
     ]
    },
    {
     "name": "stdout",
     "output_type": "stream",
     "text": [
      "Processed and saved /home/jovyan/SWEMLv2.0/data/TrainingDFs/Southwest/300M_Resolution/Sturm_Seasonality_PrecipVIIRSGeoObsDFs/20_fSCA_Thresh/Sturm_Season_Precip_VIIRS_GeoObsDF_20140428.parquet\n"
     ]
    },
    {
     "name": "stderr",
     "output_type": "stream",
     "text": [
      "100%|██████████| 389/389 [00:00<00:00, 9565.48it/s]\n"
     ]
    },
    {
     "name": "stdout",
     "output_type": "stream",
     "text": [
      "Processed and saved /home/jovyan/SWEMLv2.0/data/TrainingDFs/Southwest/300M_Resolution/Sturm_Seasonality_PrecipVIIRSGeoObsDFs/20_fSCA_Thresh/Sturm_Season_Precip_VIIRS_GeoObsDF_20160614.parquet\n"
     ]
    },
    {
     "name": "stderr",
     "output_type": "stream",
     "text": [
      "100%|██████████| 3741/3741 [00:00<00:00, 9877.21it/s]\n"
     ]
    },
    {
     "name": "stdout",
     "output_type": "stream",
     "text": [
      "Processed and saved /home/jovyan/SWEMLv2.0/data/TrainingDFs/Southwest/300M_Resolution/Sturm_Seasonality_PrecipVIIRSGeoObsDFs/20_fSCA_Thresh/Sturm_Season_Precip_VIIRS_GeoObsDF_20150527.parquet\n"
     ]
    },
    {
     "name": "stderr",
     "output_type": "stream",
     "text": [
      "100%|██████████| 16508/16508 [00:01<00:00, 9881.53it/s]\n"
     ]
    },
    {
     "name": "stdout",
     "output_type": "stream",
     "text": [
      "Processed and saved /home/jovyan/SWEMLv2.0/data/TrainingDFs/Southwest/300M_Resolution/Sturm_Seasonality_PrecipVIIRSGeoObsDFs/20_fSCA_Thresh/Sturm_Season_Precip_VIIRS_GeoObsDF_20160326.parquet\n"
     ]
    },
    {
     "name": "stderr",
     "output_type": "stream",
     "text": [
      "100%|██████████| 16523/16523 [00:01<00:00, 9925.43it/s]\n"
     ]
    },
    {
     "name": "stdout",
     "output_type": "stream",
     "text": [
      "Processed and saved /home/jovyan/SWEMLv2.0/data/TrainingDFs/Southwest/300M_Resolution/Sturm_Seasonality_PrecipVIIRSGeoObsDFs/20_fSCA_Thresh/Sturm_Season_Precip_VIIRS_GeoObsDF_20130429.parquet\n"
     ]
    },
    {
     "name": "stderr",
     "output_type": "stream",
     "text": [
      "100%|██████████| 390/390 [00:00<00:00, 9335.68it/s]\n"
     ]
    },
    {
     "name": "stdout",
     "output_type": "stream",
     "text": [
      "Processed and saved /home/jovyan/SWEMLv2.0/data/TrainingDFs/Southwest/300M_Resolution/Sturm_Seasonality_PrecipVIIRSGeoObsDFs/20_fSCA_Thresh/Sturm_Season_Precip_VIIRS_GeoObsDF_20190715.parquet\n"
     ]
    },
    {
     "name": "stderr",
     "output_type": "stream",
     "text": [
      "100%|██████████| 39617/39617 [00:04<00:00, 9878.50it/s] \n"
     ]
    },
    {
     "name": "stdout",
     "output_type": "stream",
     "text": [
      "Processed and saved /home/jovyan/SWEMLv2.0/data/TrainingDFs/Southwest/300M_Resolution/Sturm_Seasonality_PrecipVIIRSGeoObsDFs/20_fSCA_Thresh/Sturm_Season_Precip_VIIRS_GeoObsDF_20150403.parquet\n"
     ]
    },
    {
     "name": "stderr",
     "output_type": "stream",
     "text": [
      "100%|██████████| 22693/22693 [00:02<00:00, 9141.04it/s]\n"
     ]
    },
    {
     "name": "stdout",
     "output_type": "stream",
     "text": [
      "Processed and saved /home/jovyan/SWEMLv2.0/data/TrainingDFs/Southwest/300M_Resolution/Sturm_Seasonality_PrecipVIIRSGeoObsDFs/20_fSCA_Thresh/Sturm_Season_Precip_VIIRS_GeoObsDF_20190501.parquet\n"
     ]
    },
    {
     "name": "stderr",
     "output_type": "stream",
     "text": [
      "100%|██████████| 16508/16508 [00:01<00:00, 9534.64it/s]\n"
     ]
    },
    {
     "name": "stdout",
     "output_type": "stream",
     "text": [
      "Processed and saved /home/jovyan/SWEMLv2.0/data/TrainingDFs/Southwest/300M_Resolution/Sturm_Seasonality_PrecipVIIRSGeoObsDFs/20_fSCA_Thresh/Sturm_Season_Precip_VIIRS_GeoObsDF_20160509.parquet\n"
     ]
    },
    {
     "name": "stderr",
     "output_type": "stream",
     "text": [
      "100%|██████████| 17033/17033 [00:01<00:00, 9793.52it/s]\n"
     ]
    },
    {
     "name": "stdout",
     "output_type": "stream",
     "text": [
      "Processed and saved /home/jovyan/SWEMLv2.0/data/TrainingDFs/Southwest/300M_Resolution/Sturm_Seasonality_PrecipVIIRSGeoObsDFs/20_fSCA_Thresh/Sturm_Season_Precip_VIIRS_GeoObsDF_20190427.parquet\n"
     ]
    },
    {
     "name": "stderr",
     "output_type": "stream",
     "text": [
      "100%|██████████| 39617/39617 [00:04<00:00, 9863.39it/s] \n"
     ]
    },
    {
     "name": "stdout",
     "output_type": "stream",
     "text": [
      "Processed and saved /home/jovyan/SWEMLv2.0/data/TrainingDFs/Southwest/300M_Resolution/Sturm_Seasonality_PrecipVIIRSGeoObsDFs/20_fSCA_Thresh/Sturm_Season_Precip_VIIRS_GeoObsDF_20150325.parquet\n"
     ]
    },
    {
     "name": "stderr",
     "output_type": "stream",
     "text": [
      "100%|██████████| 16508/16508 [00:01<00:00, 9800.14it/s]\n"
     ]
    },
    {
     "name": "stdout",
     "output_type": "stream",
     "text": [
      "Processed and saved /home/jovyan/SWEMLv2.0/data/TrainingDFs/Southwest/300M_Resolution/Sturm_Seasonality_PrecipVIIRSGeoObsDFs/20_fSCA_Thresh/Sturm_Season_Precip_VIIRS_GeoObsDF_20170816.parquet\n"
     ]
    },
    {
     "name": "stderr",
     "output_type": "stream",
     "text": [
      "100%|██████████| 16523/16523 [00:01<00:00, 9951.71it/s]\n"
     ]
    },
    {
     "name": "stdout",
     "output_type": "stream",
     "text": [
      "Processed and saved /home/jovyan/SWEMLv2.0/data/TrainingDFs/Southwest/300M_Resolution/Sturm_Seasonality_PrecipVIIRSGeoObsDFs/20_fSCA_Thresh/Sturm_Season_Precip_VIIRS_GeoObsDF_20130608.parquet\n"
     ]
    },
    {
     "name": "stderr",
     "output_type": "stream",
     "text": [
      "100%|██████████| 16508/16508 [00:01<00:00, 9801.57it/s]\n"
     ]
    },
    {
     "name": "stdout",
     "output_type": "stream",
     "text": [
      "Processed and saved /home/jovyan/SWEMLv2.0/data/TrainingDFs/Southwest/300M_Resolution/Sturm_Seasonality_PrecipVIIRSGeoObsDFs/20_fSCA_Thresh/Sturm_Season_Precip_VIIRS_GeoObsDF_20170727.parquet\n"
     ]
    },
    {
     "name": "stderr",
     "output_type": "stream",
     "text": [
      "100%|██████████| 16508/16508 [00:01<00:00, 9835.24it/s]\n"
     ]
    },
    {
     "name": "stdout",
     "output_type": "stream",
     "text": [
      "Processed and saved /home/jovyan/SWEMLv2.0/data/TrainingDFs/Southwest/300M_Resolution/Sturm_Seasonality_PrecipVIIRSGeoObsDFs/20_fSCA_Thresh/Sturm_Season_Precip_VIIRS_GeoObsDF_20160401.parquet\n"
     ]
    },
    {
     "name": "stderr",
     "output_type": "stream",
     "text": [
      "100%|██████████| 21472/21472 [00:02<00:00, 9882.59it/s]\n"
     ]
    },
    {
     "name": "stdout",
     "output_type": "stream",
     "text": [
      "Processed and saved /home/jovyan/SWEMLv2.0/data/TrainingDFs/Southwest/300M_Resolution/Sturm_Seasonality_PrecipVIIRSGeoObsDFs/20_fSCA_Thresh/Sturm_Season_Precip_VIIRS_GeoObsDF_20140423.parquet\n"
     ]
    },
    {
     "name": "stderr",
     "output_type": "stream",
     "text": [
      "100%|██████████| 18780/18780 [00:01<00:00, 9782.81it/s]\n"
     ]
    },
    {
     "name": "stdout",
     "output_type": "stream",
     "text": [
      "Processed and saved /home/jovyan/SWEMLv2.0/data/TrainingDFs/Southwest/300M_Resolution/Sturm_Seasonality_PrecipVIIRSGeoObsDFs/20_fSCA_Thresh/Sturm_Season_Precip_VIIRS_GeoObsDF_20190326.parquet\n"
     ]
    },
    {
     "name": "stderr",
     "output_type": "stream",
     "text": [
      "100%|██████████| 390/390 [00:00<00:00, 9436.39it/s]\n"
     ]
    },
    {
     "name": "stdout",
     "output_type": "stream",
     "text": [
      "Processed and saved /home/jovyan/SWEMLv2.0/data/TrainingDFs/Southwest/300M_Resolution/Sturm_Seasonality_PrecipVIIRSGeoObsDFs/20_fSCA_Thresh/Sturm_Season_Precip_VIIRS_GeoObsDF_20190309.parquet\n"
     ]
    },
    {
     "name": "stderr",
     "output_type": "stream",
     "text": [
      "100%|██████████| 389/389 [00:00<00:00, 9594.17it/s]\n"
     ]
    },
    {
     "name": "stdout",
     "output_type": "stream",
     "text": [
      "Processed and saved /home/jovyan/SWEMLv2.0/data/TrainingDFs/Southwest/300M_Resolution/Sturm_Seasonality_PrecipVIIRSGeoObsDFs/20_fSCA_Thresh/Sturm_Season_Precip_VIIRS_GeoObsDF_20160626.parquet\n"
     ]
    },
    {
     "name": "stderr",
     "output_type": "stream",
     "text": [
      "100%|██████████| 39617/39617 [00:04<00:00, 9781.22it/s]\n"
     ]
    },
    {
     "name": "stdout",
     "output_type": "stream",
     "text": [
      "Processed and saved /home/jovyan/SWEMLv2.0/data/TrainingDFs/Southwest/300M_Resolution/Sturm_Seasonality_PrecipVIIRSGeoObsDFs/20_fSCA_Thresh/Sturm_Season_Precip_VIIRS_GeoObsDF_20140420.parquet\n"
     ]
    },
    {
     "name": "stderr",
     "output_type": "stream",
     "text": [
      "100%|██████████| 16523/16523 [00:01<00:00, 9941.29it/s]\n"
     ]
    },
    {
     "name": "stdout",
     "output_type": "stream",
     "text": [
      "Processed and saved /home/jovyan/SWEMLv2.0/data/TrainingDFs/Southwest/300M_Resolution/Sturm_Seasonality_PrecipVIIRSGeoObsDFs/20_fSCA_Thresh/Sturm_Season_Precip_VIIRS_GeoObsDF_20130525.parquet\n"
     ]
    },
    {
     "name": "stderr",
     "output_type": "stream",
     "text": [
      "100%|██████████| 21472/21472 [00:02<00:00, 9838.96it/s]\n"
     ]
    },
    {
     "name": "stdout",
     "output_type": "stream",
     "text": [
      "Processed and saved /home/jovyan/SWEMLv2.0/data/TrainingDFs/Southwest/300M_Resolution/Sturm_Seasonality_PrecipVIIRSGeoObsDFs/20_fSCA_Thresh/Sturm_Season_Precip_VIIRS_GeoObsDF_20140406.parquet\n"
     ]
    },
    {
     "name": "stderr",
     "output_type": "stream",
     "text": [
      "100%|██████████| 26356/26356 [00:02<00:00, 9898.58it/s]\n"
     ]
    },
    {
     "name": "stdout",
     "output_type": "stream",
     "text": [
      "Processed and saved /home/jovyan/SWEMLv2.0/data/TrainingDFs/Southwest/300M_Resolution/Sturm_Seasonality_PrecipVIIRSGeoObsDFs/20_fSCA_Thresh/Sturm_Season_Precip_VIIRS_GeoObsDF_20180602.parquet\n"
     ]
    },
    {
     "name": "stderr",
     "output_type": "stream",
     "text": [
      "100%|██████████| 16523/16523 [00:01<00:00, 9889.73it/s]\n"
     ]
    },
    {
     "name": "stdout",
     "output_type": "stream",
     "text": [
      "Processed and saved /home/jovyan/SWEMLv2.0/data/TrainingDFs/Southwest/300M_Resolution/Sturm_Seasonality_PrecipVIIRSGeoObsDFs/20_fSCA_Thresh/Sturm_Season_Precip_VIIRS_GeoObsDF_20160527.parquet\n"
     ]
    },
    {
     "name": "stderr",
     "output_type": "stream",
     "text": [
      "100%|██████████| 13569/13569 [00:01<00:00, 9798.96it/s]\n"
     ]
    },
    {
     "name": "stdout",
     "output_type": "stream",
     "text": [
      "Processed and saved /home/jovyan/SWEMLv2.0/data/TrainingDFs/Southwest/300M_Resolution/Sturm_Seasonality_PrecipVIIRSGeoObsDFs/20_fSCA_Thresh/Sturm_Season_Precip_VIIRS_GeoObsDF_20180601.parquet\n"
     ]
    },
    {
     "name": "stderr",
     "output_type": "stream",
     "text": [
      "100%|██████████| 39617/39617 [00:03<00:00, 9920.23it/s] \n"
     ]
    },
    {
     "name": "stdout",
     "output_type": "stream",
     "text": [
      "Processed and saved /home/jovyan/SWEMLv2.0/data/TrainingDFs/Southwest/300M_Resolution/Sturm_Seasonality_PrecipVIIRSGeoObsDFs/20_fSCA_Thresh/Sturm_Season_Precip_VIIRS_GeoObsDF_20140323.parquet\n"
     ]
    },
    {
     "name": "stderr",
     "output_type": "stream",
     "text": [
      "100%|██████████| 21472/21472 [00:02<00:00, 9854.13it/s]\n"
     ]
    },
    {
     "name": "stdout",
     "output_type": "stream",
     "text": [
      "Processed and saved /home/jovyan/SWEMLv2.0/data/TrainingDFs/Southwest/300M_Resolution/Sturm_Seasonality_PrecipVIIRSGeoObsDFs/20_fSCA_Thresh/Sturm_Season_Precip_VIIRS_GeoObsDF_20150428.parquet\n"
     ]
    },
    {
     "name": "stderr",
     "output_type": "stream",
     "text": [
      "100%|██████████| 39617/39617 [00:04<00:00, 9456.42it/s]\n"
     ]
    },
    {
     "name": "stdout",
     "output_type": "stream",
     "text": [
      "Processed and saved /home/jovyan/SWEMLv2.0/data/TrainingDFs/Southwest/300M_Resolution/Sturm_Seasonality_PrecipVIIRSGeoObsDFs/20_fSCA_Thresh/Sturm_Season_Precip_VIIRS_GeoObsDF_20150528.parquet\n"
     ]
    },
    {
     "name": "stderr",
     "output_type": "stream",
     "text": [
      "100%|██████████| 39617/39617 [00:03<00:00, 9914.95it/s] \n"
     ]
    },
    {
     "name": "stdout",
     "output_type": "stream",
     "text": [
      "Processed and saved /home/jovyan/SWEMLv2.0/data/TrainingDFs/Southwest/300M_Resolution/Sturm_Seasonality_PrecipVIIRSGeoObsDFs/20_fSCA_Thresh/Sturm_Season_Precip_VIIRS_GeoObsDF_20140511.parquet\n"
     ]
    },
    {
     "name": "stderr",
     "output_type": "stream",
     "text": [
      "100%|██████████| 23547/23547 [00:02<00:00, 9719.28it/s]\n"
     ]
    },
    {
     "name": "stdout",
     "output_type": "stream",
     "text": [
      "Processed and saved /home/jovyan/SWEMLv2.0/data/TrainingDFs/Southwest/300M_Resolution/Sturm_Seasonality_PrecipVIIRSGeoObsDFs/20_fSCA_Thresh/Sturm_Season_Precip_VIIRS_GeoObsDF_20190503.parquet\n"
     ]
    },
    {
     "name": "stderr",
     "output_type": "stream",
     "text": [
      "100%|██████████| 22693/22693 [00:02<00:00, 9640.74it/s]\n"
     ]
    },
    {
     "name": "stdout",
     "output_type": "stream",
     "text": [
      "Processed and saved /home/jovyan/SWEMLv2.0/data/TrainingDFs/Southwest/300M_Resolution/Sturm_Seasonality_PrecipVIIRSGeoObsDFs/20_fSCA_Thresh/Sturm_Season_Precip_VIIRS_GeoObsDF_20190325.parquet\n"
     ]
    },
    {
     "name": "stderr",
     "output_type": "stream",
     "text": [
      "100%|██████████| 23547/23547 [00:02<00:00, 9736.39it/s]\n"
     ]
    },
    {
     "name": "stdout",
     "output_type": "stream",
     "text": [
      "Processed and saved /home/jovyan/SWEMLv2.0/data/TrainingDFs/Southwest/300M_Resolution/Sturm_Seasonality_PrecipVIIRSGeoObsDFs/20_fSCA_Thresh/Sturm_Season_Precip_VIIRS_GeoObsDF_20190705.parquet\n"
     ]
    },
    {
     "name": "stderr",
     "output_type": "stream",
     "text": [
      "100%|██████████| 389/389 [00:00<00:00, 9582.62it/s]\n"
     ]
    },
    {
     "name": "stdout",
     "output_type": "stream",
     "text": [
      "Processed and saved /home/jovyan/SWEMLv2.0/data/TrainingDFs/Southwest/300M_Resolution/Sturm_Seasonality_PrecipVIIRSGeoObsDFs/20_fSCA_Thresh/Sturm_Season_Precip_VIIRS_GeoObsDF_20170128.parquet\n"
     ]
    },
    {
     "name": "stderr",
     "output_type": "stream",
     "text": [
      "100%|██████████| 21472/21472 [00:02<00:00, 9746.94it/s]\n"
     ]
    },
    {
     "name": "stdout",
     "output_type": "stream",
     "text": [
      "Processed and saved /home/jovyan/SWEMLv2.0/data/TrainingDFs/Southwest/300M_Resolution/Sturm_Seasonality_PrecipVIIRSGeoObsDFs/20_fSCA_Thresh/Sturm_Season_Precip_VIIRS_GeoObsDF_20140429.parquet\n"
     ]
    },
    {
     "name": "stderr",
     "output_type": "stream",
     "text": [
      "100%|██████████| 13586/13586 [00:01<00:00, 9447.20it/s]\n"
     ]
    },
    {
     "name": "stdout",
     "output_type": "stream",
     "text": [
      "Processed and saved /home/jovyan/SWEMLv2.0/data/TrainingDFs/Southwest/300M_Resolution/Sturm_Seasonality_PrecipVIIRSGeoObsDFs/20_fSCA_Thresh/Sturm_Season_Precip_VIIRS_GeoObsDF_20190609.parquet\n"
     ]
    },
    {
     "name": "stderr",
     "output_type": "stream",
     "text": [
      "100%|██████████| 30146/30146 [00:03<00:00, 9828.95it/s]\n"
     ]
    },
    {
     "name": "stdout",
     "output_type": "stream",
     "text": [
      "Processed and saved /home/jovyan/SWEMLv2.0/data/TrainingDFs/Southwest/300M_Resolution/Sturm_Seasonality_PrecipVIIRSGeoObsDFs/20_fSCA_Thresh/Sturm_Season_Precip_VIIRS_GeoObsDF_20190608.parquet\n"
     ]
    },
    {
     "name": "stderr",
     "output_type": "stream",
     "text": [
      "100%|██████████| 39617/39617 [00:04<00:00, 9823.80it/s]\n"
     ]
    },
    {
     "name": "stdout",
     "output_type": "stream",
     "text": [
      "Processed and saved /home/jovyan/SWEMLv2.0/data/TrainingDFs/Southwest/300M_Resolution/Sturm_Seasonality_PrecipVIIRSGeoObsDFs/20_fSCA_Thresh/Sturm_Season_Precip_VIIRS_GeoObsDF_20150427.parquet\n"
     ]
    },
    {
     "name": "stderr",
     "output_type": "stream",
     "text": [
      "100%|██████████| 3741/3741 [00:00<00:00, 9740.18it/s]\n"
     ]
    },
    {
     "name": "stdout",
     "output_type": "stream",
     "text": [
      "Processed and saved /home/jovyan/SWEMLv2.0/data/TrainingDFs/Southwest/300M_Resolution/Sturm_Seasonality_PrecipVIIRSGeoObsDFs/20_fSCA_Thresh/Sturm_Season_Precip_VIIRS_GeoObsDF_20150503.parquet\n"
     ]
    },
    {
     "name": "stderr",
     "output_type": "stream",
     "text": [
      "100%|██████████| 16308/16308 [00:01<00:00, 9839.67it/s]\n"
     ]
    },
    {
     "name": "stdout",
     "output_type": "stream",
     "text": [
      "Processed and saved /home/jovyan/SWEMLv2.0/data/TrainingDFs/Southwest/300M_Resolution/Sturm_Seasonality_PrecipVIIRSGeoObsDFs/20_fSCA_Thresh/Sturm_Season_Precip_VIIRS_GeoObsDF_20180528.parquet\n"
     ]
    },
    {
     "name": "stderr",
     "output_type": "stream",
     "text": [
      "100%|██████████| 12384/12384 [00:01<00:00, 9754.37it/s]\n"
     ]
    },
    {
     "name": "stdout",
     "output_type": "stream",
     "text": [
      "Processed and saved /home/jovyan/SWEMLv2.0/data/TrainingDFs/Southwest/300M_Resolution/Sturm_Seasonality_PrecipVIIRSGeoObsDFs/20_fSCA_Thresh/Sturm_Season_Precip_VIIRS_GeoObsDF_20180425.parquet\n"
     ]
    },
    {
     "name": "stderr",
     "output_type": "stream",
     "text": [
      "100%|██████████| 14404/14404 [00:01<00:00, 9927.30it/s]\n"
     ]
    },
    {
     "name": "stdout",
     "output_type": "stream",
     "text": [
      "Processed and saved /home/jovyan/SWEMLv2.0/data/TrainingDFs/Southwest/300M_Resolution/Sturm_Seasonality_PrecipVIIRSGeoObsDFs/20_fSCA_Thresh/Sturm_Season_Precip_VIIRS_GeoObsDF_20190604.parquet\n"
     ]
    },
    {
     "name": "stderr",
     "output_type": "stream",
     "text": [
      "100%|██████████| 49436/49436 [00:04<00:00, 9895.84it/s]\n"
     ]
    },
    {
     "name": "stdout",
     "output_type": "stream",
     "text": [
      "Processed and saved /home/jovyan/SWEMLv2.0/data/TrainingDFs/Southwest/300M_Resolution/Sturm_Seasonality_PrecipVIIRSGeoObsDFs/20_fSCA_Thresh/Sturm_Season_Precip_VIIRS_GeoObsDF_20190418.parquet\n"
     ]
    },
    {
     "name": "stderr",
     "output_type": "stream",
     "text": [
      "100%|██████████| 19140/19140 [00:01<00:00, 9857.57it/s]\n"
     ]
    },
    {
     "name": "stdout",
     "output_type": "stream",
     "text": [
      "Processed and saved /home/jovyan/SWEMLv2.0/data/TrainingDFs/Southwest/300M_Resolution/Sturm_Seasonality_PrecipVIIRSGeoObsDFs/20_fSCA_Thresh/Sturm_Season_Precip_VIIRS_GeoObsDF_20170815.parquet\n"
     ]
    },
    {
     "name": "stderr",
     "output_type": "stream",
     "text": [
      "100%|██████████| 47970/47970 [00:04<00:00, 9860.42it/s]\n"
     ]
    },
    {
     "name": "stdout",
     "output_type": "stream",
     "text": [
      "Processed and saved /home/jovyan/SWEMLv2.0/data/TrainingDFs/Southwest/300M_Resolution/Sturm_Seasonality_PrecipVIIRSGeoObsDFs/20_fSCA_Thresh/Sturm_Season_Precip_VIIRS_GeoObsDF_20150426.parquet\n"
     ]
    },
    {
     "name": "stderr",
     "output_type": "stream",
     "text": [
      "100%|██████████| 16523/16523 [00:01<00:00, 9885.68it/s]\n"
     ]
    },
    {
     "name": "stdout",
     "output_type": "stream",
     "text": [
      "Processed and saved /home/jovyan/SWEMLv2.0/data/TrainingDFs/Southwest/300M_Resolution/Sturm_Seasonality_PrecipVIIRSGeoObsDFs/20_fSCA_Thresh/Sturm_Season_Precip_VIIRS_GeoObsDF_20160708.parquet\n"
     ]
    },
    {
     "name": "stderr",
     "output_type": "stream",
     "text": [
      "100%|██████████| 47970/47970 [00:04<00:00, 9700.22it/s]\n"
     ]
    },
    {
     "name": "stdout",
     "output_type": "stream",
     "text": [
      "Processed and saved /home/jovyan/SWEMLv2.0/data/TrainingDFs/Southwest/300M_Resolution/Sturm_Seasonality_PrecipVIIRSGeoObsDFs/20_fSCA_Thresh/Sturm_Season_Precip_VIIRS_GeoObsDF_20150412.parquet\n"
     ]
    },
    {
     "name": "stderr",
     "output_type": "stream",
     "text": [
      "100%|██████████| 39617/39617 [00:04<00:00, 9847.89it/s]\n"
     ]
    },
    {
     "name": "stdout",
     "output_type": "stream",
     "text": [
      "Processed and saved /home/jovyan/SWEMLv2.0/data/TrainingDFs/Southwest/300M_Resolution/Sturm_Seasonality_PrecipVIIRSGeoObsDFs/20_fSCA_Thresh/Sturm_Season_Precip_VIIRS_GeoObsDF_20140527.parquet\n"
     ]
    },
    {
     "name": "stderr",
     "output_type": "stream",
     "text": [
      "100%|██████████| 399/399 [00:00<00:00, 8310.83it/s]\n"
     ]
    },
    {
     "name": "stdout",
     "output_type": "stream",
     "text": [
      "Processed and saved /home/jovyan/SWEMLv2.0/data/TrainingDFs/Southwest/300M_Resolution/Sturm_Seasonality_PrecipVIIRSGeoObsDFs/20_fSCA_Thresh/Sturm_Season_Precip_VIIRS_GeoObsDF_20160607.parquet\n"
     ]
    },
    {
     "name": "stderr",
     "output_type": "stream",
     "text": [
      "100%|██████████| 6830/6830 [00:00<00:00, 9990.38it/s] \n"
     ]
    },
    {
     "name": "stdout",
     "output_type": "stream",
     "text": [
      "Processed and saved /home/jovyan/SWEMLv2.0/data/TrainingDFs/Southwest/300M_Resolution/Sturm_Seasonality_PrecipVIIRSGeoObsDFs/20_fSCA_Thresh/Sturm_Season_Precip_VIIRS_GeoObsDF_20160407.parquet\n"
     ]
    },
    {
     "name": "stderr",
     "output_type": "stream",
     "text": [
      "100%|██████████| 16523/16523 [00:01<00:00, 9817.73it/s]\n"
     ]
    },
    {
     "name": "stdout",
     "output_type": "stream",
     "text": [
      "Processed and saved /home/jovyan/SWEMLv2.0/data/TrainingDFs/Southwest/300M_Resolution/Sturm_Seasonality_PrecipVIIRSGeoObsDFs/20_fSCA_Thresh/Sturm_Season_Precip_VIIRS_GeoObsDF_20130403.parquet\n"
     ]
    },
    {
     "name": "stderr",
     "output_type": "stream",
     "text": [
      "100%|██████████| 30561/30561 [00:03<00:00, 9788.90it/s]\n"
     ]
    },
    {
     "name": "stdout",
     "output_type": "stream",
     "text": [
      "Processed and saved /home/jovyan/SWEMLv2.0/data/TrainingDFs/Southwest/300M_Resolution/Sturm_Seasonality_PrecipVIIRSGeoObsDFs/20_fSCA_Thresh/Sturm_Season_Precip_VIIRS_GeoObsDF_20150531.parquet\n"
     ]
    }
   ],
   "source": [
    "import get_Sturm\n",
    "\n",
    "output_res = 300\n",
    "threshold = 20\n",
    "for region in region_list:\n",
    "    get_Sturm.add_Sturm(region, output_res, threshold)"
   ]
  },
  {
   "cell_type": "code",
   "execution_count": 20,
   "id": "489b62a9-960e-4d4e-a426-9114ca7a2a62",
   "metadata": {},
   "outputs": [
    {
     "data": {
      "text/plain": [
       "<module 'get_Vegetation' from '/home/jovyan/SWEMLv2.0/Dataprocessing/get_Vegetation.py'>"
      ]
     },
     "execution_count": 20,
     "metadata": {},
     "output_type": "execute_result"
    }
   ],
   "source": [
    "import importlib\n",
    "importlib.reload(get_Vegetation)"
   ]
  },
  {
   "cell_type": "code",
   "execution_count": null,
   "id": "aa5440de-fe4a-41dd-88ed-125864a54954",
   "metadata": {},
   "outputs": [
    {
     "name": "stdout",
     "output_type": "stream",
     "text": [
      "Vegetation file bounds: BoundingBox(left=-2043060.0, bottom=-2113120.0, right=2529540.0, top=732440.0)\n",
      "Vegetation CRS: PROJCS[\"WGS_1984_Lambert_Azimuthal_Equal_Area\",GEOGCS[\"WGS 84\",DATUM[\"WGS_1984\",SPHEROID[\"WGS 84\",6378137,298.257223563,AUTHORITY[\"EPSG\",\"7030\"]],AUTHORITY[\"EPSG\",\"6326\"]],PRIMEM[\"Greenwich\",0],UNIT[\"degree\",0.0174532925199433,AUTHORITY[\"EPSG\",\"9122\"]],AUTHORITY[\"EPSG\",\"4326\"]],PROJECTION[\"Lambert_Azimuthal_Equal_Area\"],PARAMETER[\"latitude_of_center\",45],PARAMETER[\"longitude_of_center\",-100],PARAMETER[\"false_easting\",0],PARAMETER[\"false_northing\",0],UNIT[\"metre\",1],AXIS[\"Easting\",EAST],AXIS[\"Northing\",NORTH]]\n"
     ]
    },
    {
     "name": "stderr",
     "output_type": "stream",
     "text": [
      "Processing Parquet Files:   0%|          | 0/2 [00:00<?, ?it/s]\n",
      "Sampling Vegetation Data:   0%|          | 0/85185 [00:00<?, ?it/s]\u001b[A\n",
      "Sampling Vegetation Data:   1%|▏         | 1148/85185 [00:00<00:07, 11472.05it/s]\u001b[A\n",
      "Sampling Vegetation Data:   3%|▎         | 2304/85185 [00:00<00:07, 11521.24it/s]\u001b[A\n",
      "Sampling Vegetation Data:   4%|▍         | 3476/85185 [00:00<00:07, 11611.17it/s]\u001b[A\n",
      "Sampling Vegetation Data:   5%|▌         | 4671/85185 [00:00<00:06, 11743.63it/s]\u001b[A\n",
      "Sampling Vegetation Data:   7%|▋         | 5867/85185 [00:00<00:06, 11819.20it/s]\u001b[A\n",
      "Sampling Vegetation Data:   8%|▊         | 7061/85185 [00:00<00:06, 11859.15it/s]\u001b[A\n",
      "Sampling Vegetation Data:  10%|▉         | 8262/85185 [00:00<00:06, 11907.52it/s]\u001b[A\n",
      "Sampling Vegetation Data:  11%|█         | 9456/85185 [00:00<00:06, 11915.33it/s]\u001b[A\n",
      "Sampling Vegetation Data:  13%|█▎        | 10653/85185 [00:00<00:06, 11929.97it/s]\u001b[A\n",
      "Sampling Vegetation Data:  14%|█▍        | 11846/85185 [00:01<00:06, 11852.67it/s]\u001b[A\n",
      "Sampling Vegetation Data:  15%|█▌        | 13032/85185 [00:01<00:06, 11806.92it/s]\u001b[A\n",
      "Sampling Vegetation Data:  17%|█▋        | 14214/85185 [00:01<00:06, 11808.23it/s]\u001b[A\n",
      "Sampling Vegetation Data:  18%|█▊        | 15395/85185 [00:01<00:05, 11672.51it/s]\u001b[A\n",
      "Sampling Vegetation Data:  19%|█▉        | 16596/85185 [00:01<00:05, 11771.97it/s]\u001b[A\n",
      "Sampling Vegetation Data:  21%|██        | 17790/85185 [00:01<00:05, 11820.24it/s]\u001b[A\n",
      "Sampling Vegetation Data:  22%|██▏       | 18989/85185 [00:01<00:05, 11869.25it/s]\u001b[A\n",
      "Sampling Vegetation Data:  24%|██▎       | 20188/85185 [00:01<00:05, 11903.57it/s]\u001b[A\n",
      "Sampling Vegetation Data:  25%|██▌       | 21381/85185 [00:01<00:05, 11909.19it/s]\u001b[A\n",
      "Sampling Vegetation Data:  26%|██▋       | 22573/85185 [00:01<00:05, 11862.88it/s]\u001b[A\n",
      "Sampling Vegetation Data:  28%|██▊       | 23760/85185 [00:02<00:05, 11816.45it/s]\u001b[A\n",
      "Sampling Vegetation Data:  29%|██▉       | 24942/85185 [00:02<00:05, 11803.62it/s]\u001b[A\n",
      "Sampling Vegetation Data:  31%|███       | 26123/85185 [00:02<00:05, 11784.09it/s]\u001b[A\n",
      "Sampling Vegetation Data:  32%|███▏      | 27302/85185 [00:02<00:04, 11684.65it/s]\u001b[A\n",
      "Sampling Vegetation Data:  33%|███▎      | 28471/85185 [00:02<00:04, 11685.90it/s]\u001b[A\n",
      "Sampling Vegetation Data:  35%|███▍      | 29641/85185 [00:02<00:04, 11687.78it/s]\u001b[A\n",
      "Sampling Vegetation Data:  36%|███▌      | 30811/85185 [00:02<00:04, 11689.73it/s]\u001b[A\n",
      "Sampling Vegetation Data:  38%|███▊      | 31986/85185 [00:02<00:04, 11706.03it/s]\u001b[A\n",
      "Sampling Vegetation Data:  39%|███▉      | 33157/85185 [00:02<00:04, 11673.75it/s]\u001b[A\n",
      "Sampling Vegetation Data:  40%|████      | 34325/85185 [00:02<00:04, 11671.10it/s]\u001b[A\n",
      "Sampling Vegetation Data:  42%|████▏     | 35495/85185 [00:03<00:04, 11678.88it/s]\u001b[A\n",
      "Sampling Vegetation Data:  43%|████▎     | 36670/85185 [00:03<00:04, 11699.08it/s]\u001b[A\n",
      "Sampling Vegetation Data:  44%|████▍     | 37845/85185 [00:03<00:04, 11712.50it/s]\u001b[A\n",
      "Sampling Vegetation Data:  46%|████▌     | 39017/85185 [00:03<00:03, 11710.48it/s]\u001b[A\n",
      "Sampling Vegetation Data:  47%|████▋     | 40189/85185 [00:03<00:03, 11712.02it/s]\u001b[A\n",
      "Sampling Vegetation Data:  49%|████▊     | 41365/85185 [00:03<00:03, 11723.21it/s]\u001b[A\n",
      "Sampling Vegetation Data:  50%|████▉     | 42550/85185 [00:03<00:03, 11760.80it/s]\u001b[A\n",
      "Sampling Vegetation Data:  51%|█████▏    | 43745/85185 [00:03<00:03, 11815.88it/s]\u001b[A\n",
      "Sampling Vegetation Data:  53%|█████▎    | 44927/85185 [00:03<00:03, 11807.19it/s]\u001b[A\n",
      "Sampling Vegetation Data:  54%|█████▍    | 46108/85185 [00:03<00:03, 11802.37it/s]\u001b[A\n",
      "Sampling Vegetation Data:  56%|█████▌    | 47295/85185 [00:04<00:03, 11820.48it/s]\u001b[A\n",
      "Sampling Vegetation Data:  57%|█████▋    | 48482/85185 [00:04<00:03, 11832.84it/s]\u001b[A\n",
      "Sampling Vegetation Data:  58%|█████▊    | 49670/85185 [00:04<00:02, 11844.86it/s]\u001b[A\n",
      "Sampling Vegetation Data:  60%|█████▉    | 50855/85185 [00:04<00:02, 11706.65it/s]\u001b[A\n",
      "Sampling Vegetation Data:  61%|██████    | 52034/85185 [00:04<00:02, 11730.89it/s]\u001b[A\n",
      "Sampling Vegetation Data:  62%|██████▏   | 53208/85185 [00:04<00:02, 11671.85it/s]\u001b[A\n",
      "Sampling Vegetation Data:  64%|██████▍   | 54384/85185 [00:04<00:02, 11697.85it/s]\u001b[A\n",
      "Sampling Vegetation Data:  65%|██████▌   | 55568/85185 [00:04<00:02, 11739.73it/s]\u001b[A\n",
      "Sampling Vegetation Data:  67%|██████▋   | 56743/85185 [00:04<00:02, 11704.37it/s]\u001b[A\n",
      "Sampling Vegetation Data:  68%|██████▊   | 57921/85185 [00:04<00:02, 11724.30it/s]\u001b[A\n",
      "Sampling Vegetation Data:  69%|██████▉   | 59094/85185 [00:05<00:02, 11705.87it/s]\u001b[A\n",
      "Sampling Vegetation Data:  71%|███████   | 60266/85185 [00:05<00:02, 11709.29it/s]\u001b[A\n",
      "Sampling Vegetation Data:  72%|███████▏  | 61437/85185 [00:05<00:02, 11707.01it/s]\u001b[A\n",
      "Sampling Vegetation Data:  73%|███████▎  | 62608/85185 [00:05<00:01, 11681.02it/s]\u001b[A\n",
      "Sampling Vegetation Data:  75%|███████▍  | 63799/85185 [00:05<00:01, 11748.50it/s]\u001b[A\n",
      "Sampling Vegetation Data:  76%|███████▋  | 64989/85185 [00:05<00:01, 11792.02it/s]\u001b[A\n",
      "Sampling Vegetation Data:  78%|███████▊  | 66185/85185 [00:05<00:01, 11839.91it/s]\u001b[A\n",
      "Sampling Vegetation Data:  79%|███████▉  | 67381/85185 [00:05<00:01, 11874.29it/s]\u001b[A\n",
      "Sampling Vegetation Data:  81%|████████  | 68576/85185 [00:05<00:01, 11895.39it/s]\u001b[A\n",
      "Sampling Vegetation Data:  82%|████████▏ | 69777/85185 [00:05<00:01, 11927.95it/s]\u001b[A\n",
      "Sampling Vegetation Data:  83%|████████▎ | 70970/85185 [00:06<00:01, 11926.78it/s]\u001b[A\n",
      "Sampling Vegetation Data:  85%|████████▍ | 72163/85185 [00:06<00:01, 11846.34it/s]\u001b[A\n",
      "Sampling Vegetation Data:  86%|████████▌ | 73348/85185 [00:06<00:01, 11790.05it/s]\u001b[A\n",
      "Sampling Vegetation Data:  87%|████████▋ | 74528/85185 [00:06<00:00, 11763.81it/s]\u001b[A\n",
      "Sampling Vegetation Data:  89%|████████▉ | 75705/85185 [00:06<00:00, 11744.04it/s]\u001b[A\n",
      "Sampling Vegetation Data:  90%|█████████ | 76880/85185 [00:06<00:00, 11708.26it/s]\u001b[A\n",
      "Sampling Vegetation Data:  92%|█████████▏| 78060/85185 [00:06<00:00, 11732.26it/s]\u001b[A\n",
      "Sampling Vegetation Data:  93%|█████████▎| 79244/85185 [00:06<00:00, 11763.86it/s]\u001b[A\n",
      "Sampling Vegetation Data:  94%|█████████▍| 80426/85185 [00:06<00:00, 11779.31it/s]\u001b[A\n",
      "Sampling Vegetation Data:  96%|█████████▌| 81608/85185 [00:06<00:00, 11790.57it/s]\u001b[A\n",
      "Sampling Vegetation Data:  97%|█████████▋| 82788/85185 [00:07<00:00, 11757.54it/s]\u001b[A\n",
      "Sampling Vegetation Data:  99%|█████████▊| 83977/85185 [00:07<00:00, 11796.57it/s]\u001b[A\n",
      "Sampling Vegetation Data: 100%|██████████| 85185/85185 [00:07<00:00, 11773.08it/s]\u001b[A\n",
      "Processing Parquet Files:  50%|█████     | 1/2 [00:11<00:11, 11.71s/it]\n",
      "Sampling Vegetation Data:   0%|          | 0/85185 [00:00<?, ?it/s]\u001b[A\n",
      "Sampling Vegetation Data:   1%|▏         | 1226/85185 [00:00<00:06, 12256.07it/s]\u001b[A\n",
      "Sampling Vegetation Data:   3%|▎         | 2458/85185 [00:00<00:06, 12286.35it/s]\u001b[A\n",
      "Sampling Vegetation Data:   4%|▍         | 3691/85185 [00:00<00:06, 12304.63it/s]\u001b[A\n",
      "Sampling Vegetation Data:   6%|▌         | 4922/85185 [00:00<00:06, 12209.27it/s]\u001b[A\n",
      "Sampling Vegetation Data:   7%|▋         | 6144/85185 [00:00<00:06, 12084.36it/s]\u001b[A\n",
      "Sampling Vegetation Data:   9%|▊         | 7353/85185 [00:00<00:06, 12018.56it/s]\u001b[A\n",
      "Sampling Vegetation Data:  10%|█         | 8563/85185 [00:00<00:06, 12044.24it/s]\u001b[A\n",
      "Sampling Vegetation Data:  11%|█▏        | 9781/85185 [00:00<00:06, 12085.45it/s]\u001b[A\n",
      "Sampling Vegetation Data:  13%|█▎        | 11001/85185 [00:00<00:06, 12119.75it/s]\u001b[A\n",
      "Sampling Vegetation Data:  14%|█▍        | 12215/85185 [00:01<00:06, 12125.33it/s]\u001b[A\n",
      "Sampling Vegetation Data:  16%|█▌        | 13428/85185 [00:01<00:05, 12105.19it/s]\u001b[A\n",
      "Sampling Vegetation Data:  17%|█▋        | 14639/85185 [00:01<00:05, 12101.81it/s]\u001b[A\n",
      "Sampling Vegetation Data:  19%|█▊        | 15850/85185 [00:01<00:05, 12083.62it/s]\u001b[A\n",
      "Sampling Vegetation Data:  20%|██        | 17059/85185 [00:01<00:05, 12060.78it/s]\u001b[A\n",
      "Sampling Vegetation Data:  21%|██▏       | 18266/85185 [00:01<00:05, 11992.06it/s]\u001b[A\n",
      "Sampling Vegetation Data:  23%|██▎       | 19484/85185 [00:01<00:05, 12047.54it/s]\u001b[A\n",
      "Sampling Vegetation Data:  24%|██▍       | 20702/85185 [00:01<00:05, 12085.40it/s]\u001b[A\n",
      "Sampling Vegetation Data:  26%|██▌       | 21911/85185 [00:01<00:05, 12086.14it/s]\u001b[A\n",
      "Sampling Vegetation Data:  27%|██▋       | 23120/85185 [00:01<00:05, 12000.37it/s]\u001b[A\n",
      "Sampling Vegetation Data:  29%|██▊       | 24340/85185 [00:02<00:05, 12058.68it/s]\u001b[A\n",
      "Sampling Vegetation Data:  30%|██▉       | 25555/85185 [00:02<00:04, 12084.96it/s]\u001b[A\n",
      "Sampling Vegetation Data:  31%|███▏      | 26767/85185 [00:02<00:04, 12094.56it/s]\u001b[A\n",
      "Sampling Vegetation Data:  33%|███▎      | 27985/85185 [00:02<00:04, 12118.46it/s]\u001b[A\n",
      "Sampling Vegetation Data:  34%|███▍      | 29199/85185 [00:02<00:04, 12122.76it/s]\u001b[A\n",
      "Sampling Vegetation Data:  36%|███▌      | 30412/85185 [00:02<00:04, 12103.96it/s]\u001b[A\n",
      "Sampling Vegetation Data:  37%|███▋      | 31623/85185 [00:02<00:04, 12015.05it/s]\u001b[A\n",
      "Sampling Vegetation Data:  39%|███▊      | 32825/85185 [00:02<00:04, 12010.93it/s]\u001b[A\n",
      "Sampling Vegetation Data:  40%|███▉      | 34027/85185 [00:02<00:04, 12010.33it/s]\u001b[A\n",
      "Sampling Vegetation Data:  41%|████▏     | 35240/85185 [00:02<00:04, 12042.74it/s]\u001b[A\n",
      "Sampling Vegetation Data:  43%|████▎     | 36445/85185 [00:03<00:04, 11929.92it/s]\u001b[A\n",
      "Sampling Vegetation Data:  44%|████▍     | 37664/85185 [00:03<00:03, 12006.43it/s]\u001b[A\n",
      "Sampling Vegetation Data:  46%|████▌     | 38891/85185 [00:03<00:03, 12082.69it/s]\u001b[A\n",
      "Sampling Vegetation Data:  47%|████▋     | 40116/85185 [00:03<00:03, 12131.23it/s]\u001b[A\n",
      "Sampling Vegetation Data:  49%|████▊     | 41330/85185 [00:03<00:03, 12129.00it/s]\u001b[A\n",
      "Sampling Vegetation Data:  50%|████▉     | 42549/85185 [00:03<00:03, 12145.94it/s]\u001b[A\n",
      "Sampling Vegetation Data:  51%|█████▏    | 43771/85185 [00:03<00:03, 12167.29it/s]\u001b[A\n",
      "Sampling Vegetation Data:  53%|█████▎    | 44988/85185 [00:03<00:03, 12040.66it/s]\u001b[A\n",
      "Sampling Vegetation Data:  54%|█████▍    | 46193/85185 [00:03<00:03, 11984.94it/s]\u001b[A\n",
      "Sampling Vegetation Data:  56%|█████▌    | 47395/85185 [00:03<00:03, 11995.14it/s]\u001b[A\n",
      "Sampling Vegetation Data:  57%|█████▋    | 48621/85185 [00:04<00:03, 12071.20it/s]\u001b[A\n",
      "Sampling Vegetation Data:  59%|█████▊    | 49847/85185 [00:04<00:02, 12125.43it/s]\u001b[A\n",
      "Sampling Vegetation Data:  60%|█████▉    | 51074/85185 [00:04<00:02, 12166.30it/s]\u001b[A\n",
      "Sampling Vegetation Data:  61%|██████▏   | 52297/85185 [00:04<00:02, 12184.23it/s]\u001b[A\n",
      "Sampling Vegetation Data:  63%|██████▎   | 53517/85185 [00:04<00:02, 12188.83it/s]\u001b[A\n",
      "Sampling Vegetation Data:  64%|██████▍   | 54736/85185 [00:04<00:02, 12153.25it/s]\u001b[A\n",
      "Sampling Vegetation Data:  66%|██████▌   | 55959/85185 [00:04<00:02, 12175.60it/s]\u001b[A\n",
      "Sampling Vegetation Data:  67%|██████▋   | 57179/85185 [00:04<00:02, 12181.57it/s]\u001b[A\n",
      "Sampling Vegetation Data:  69%|██████▊   | 58401/85185 [00:04<00:02, 12190.01it/s]\u001b[A\n",
      "Sampling Vegetation Data:  70%|██████▉   | 59626/85185 [00:04<00:02, 12206.54it/s]\u001b[A\n",
      "Sampling Vegetation Data:  71%|███████▏  | 60847/85185 [00:05<00:01, 12191.65it/s]\u001b[A\n",
      "Sampling Vegetation Data:  73%|███████▎  | 62068/85185 [00:05<00:01, 12195.81it/s]\u001b[A\n",
      "Sampling Vegetation Data:  74%|███████▍  | 63289/85185 [00:05<00:01, 12198.78it/s]\u001b[A\n",
      "Sampling Vegetation Data:  76%|███████▌  | 64509/85185 [00:05<00:01, 12179.03it/s]\u001b[A\n",
      "Sampling Vegetation Data:  77%|███████▋  | 65728/85185 [00:05<00:01, 12177.63it/s]\u001b[A\n",
      "Sampling Vegetation Data:  79%|███████▊  | 66946/85185 [00:05<00:01, 12157.20it/s]\u001b[A\n",
      "Sampling Vegetation Data:  80%|████████  | 68162/85185 [00:05<00:01, 12128.56it/s]\u001b[A\n",
      "Sampling Vegetation Data:  81%|████████▏ | 69375/85185 [00:05<00:01, 12127.23it/s]\u001b[A\n",
      "Sampling Vegetation Data:  83%|████████▎ | 70595/85185 [00:05<00:01, 12146.35it/s]\u001b[A\n",
      "Sampling Vegetation Data:  84%|████████▍ | 71818/85185 [00:05<00:01, 12168.65it/s]\u001b[A\n",
      "Sampling Vegetation Data:  86%|████████▌ | 73037/85185 [00:06<00:00, 12173.77it/s]\u001b[A\n",
      "Sampling Vegetation Data:  87%|████████▋ | 74257/85185 [00:06<00:00, 12179.10it/s]\u001b[A\n",
      "Sampling Vegetation Data:  89%|████████▊ | 75483/85185 [00:06<00:00, 12203.21it/s]\u001b[A\n",
      "Sampling Vegetation Data:  90%|█████████ | 76704/85185 [00:06<00:00, 12194.23it/s]\u001b[A\n",
      "Sampling Vegetation Data:  91%|█████████▏| 77924/85185 [00:06<00:00, 12170.25it/s]\u001b[A\n",
      "Sampling Vegetation Data:  93%|█████████▎| 79142/85185 [00:06<00:00, 12167.26it/s]\u001b[A\n",
      "Sampling Vegetation Data:  94%|█████████▍| 80364/85185 [00:06<00:00, 12180.68it/s]\u001b[A\n",
      "Sampling Vegetation Data:  96%|█████████▌| 81583/85185 [00:06<00:00, 12165.21it/s]\u001b[A\n",
      "Sampling Vegetation Data:  97%|█████████▋| 82800/85185 [00:06<00:00, 12114.59it/s]\u001b[A\n",
      "Sampling Vegetation Data: 100%|██████████| 85185/85185 [00:07<00:00, 12116.06it/s]\u001b[A\n",
      "Processing Parquet Files: 100%|██████████| 2/2 [00:22<00:00, 11.18s/it]\n"
     ]
    },
    {
     "name": "stdout",
     "output_type": "stream",
     "text": [
      "Vegetation file bounds: BoundingBox(left=-2043060.0, bottom=-2113120.0, right=2529540.0, top=732440.0)\n",
      "Vegetation CRS: PROJCS[\"WGS_1984_Lambert_Azimuthal_Equal_Area\",GEOGCS[\"WGS 84\",DATUM[\"WGS_1984\",SPHEROID[\"WGS 84\",6378137,298.257223563,AUTHORITY[\"EPSG\",\"7030\"]],AUTHORITY[\"EPSG\",\"6326\"]],PRIMEM[\"Greenwich\",0],UNIT[\"degree\",0.0174532925199433,AUTHORITY[\"EPSG\",\"9122\"]],AUTHORITY[\"EPSG\",\"4326\"]],PROJECTION[\"Lambert_Azimuthal_Equal_Area\"],PARAMETER[\"latitude_of_center\",45],PARAMETER[\"longitude_of_center\",-100],PARAMETER[\"false_easting\",0],PARAMETER[\"false_northing\",0],UNIT[\"metre\",1],AXIS[\"Easting\",EAST],AXIS[\"Northing\",NORTH]]\n"
     ]
    },
    {
     "name": "stderr",
     "output_type": "stream",
     "text": [
      "Processing Parquet Files:   0%|          | 0/14 [00:00<?, ?it/s]\n",
      "Sampling Vegetation Data:   0%|          | 0/2545 [00:00<?, ?it/s]\u001b[A\n",
      "Sampling Vegetation Data:  48%|████▊     | 1233/2545 [00:00<00:00, 12327.78it/s]\u001b[A\n",
      "Sampling Vegetation Data: 100%|██████████| 2545/2545 [00:00<00:00, 12159.40it/s]\u001b[A\n",
      "Processing Parquet Files:   7%|▋         | 1/14 [00:02<00:27,  2.14s/it]\n",
      "Sampling Vegetation Data:   0%|          | 0/9378 [00:00<?, ?it/s]\u001b[A\n",
      "Sampling Vegetation Data:  13%|█▎        | 1191/9378 [00:00<00:00, 11907.57it/s]\u001b[A\n",
      "Sampling Vegetation Data:  26%|██▌       | 2395/9378 [00:00<00:00, 11983.37it/s]\u001b[A\n",
      "Sampling Vegetation Data:  38%|███▊      | 3604/9378 [00:00<00:00, 12028.73it/s]\u001b[A\n",
      "Sampling Vegetation Data:  51%|█████▏    | 4807/9378 [00:00<00:00, 12025.49it/s]\u001b[A\n",
      "Sampling Vegetation Data:  64%|██████▍   | 6018/9378 [00:00<00:00, 12055.40it/s]\u001b[A\n",
      "Sampling Vegetation Data:  77%|███████▋  | 7234/9378 [00:00<00:00, 12088.36it/s]\u001b[A\n",
      "Sampling Vegetation Data: 100%|██████████| 9378/9378 [00:00<00:00, 12048.40it/s]\u001b[A\n",
      "Processing Parquet Files:  14%|█▍        | 2/14 [00:04<00:30,  2.54s/it]\n",
      "Sampling Vegetation Data:   0%|          | 0/23791 [00:00<?, ?it/s]\u001b[A\n",
      "Sampling Vegetation Data:   5%|▌         | 1226/23791 [00:00<00:01, 12259.49it/s]\u001b[A\n",
      "Sampling Vegetation Data:  10%|█         | 2452/23791 [00:00<00:01, 12087.58it/s]\u001b[A\n",
      "Sampling Vegetation Data:  15%|█▌        | 3661/23791 [00:00<00:01, 12085.26it/s]\u001b[A\n",
      "Sampling Vegetation Data:  20%|██        | 4870/23791 [00:00<00:01, 12055.49it/s]\u001b[A\n",
      "Sampling Vegetation Data:  26%|██▌       | 6078/23791 [00:00<00:01, 12061.76it/s]\u001b[A\n",
      "Sampling Vegetation Data:  31%|███       | 7286/23791 [00:00<00:01, 12064.82it/s]\u001b[A\n",
      "Sampling Vegetation Data:  36%|███▌      | 8501/23791 [00:00<00:01, 12089.64it/s]\u001b[A\n",
      "Sampling Vegetation Data:  41%|████      | 9725/23791 [00:00<00:01, 12136.84it/s]\u001b[A\n",
      "Sampling Vegetation Data:  46%|████▌     | 10939/23791 [00:00<00:01, 12115.64it/s]\u001b[A\n",
      "Sampling Vegetation Data:  51%|█████     | 12161/23791 [00:01<00:00, 12146.09it/s]\u001b[A\n",
      "Sampling Vegetation Data:  56%|█████▌    | 13376/23791 [00:01<00:00, 12070.36it/s]\u001b[A\n",
      "Sampling Vegetation Data:  61%|██████▏   | 14600/23791 [00:01<00:00, 12119.28it/s]\u001b[A\n",
      "Sampling Vegetation Data:  67%|██████▋   | 15822/23791 [00:01<00:00, 12147.33it/s]\u001b[A\n",
      "Sampling Vegetation Data:  72%|███████▏  | 17040/23791 [00:01<00:00, 12157.01it/s]\u001b[A\n",
      "Sampling Vegetation Data:  77%|███████▋  | 18256/23791 [00:01<00:00, 12063.14it/s]\u001b[A\n",
      "Sampling Vegetation Data:  82%|████████▏ | 19473/23791 [00:01<00:00, 12092.85it/s]\u001b[A\n",
      "Sampling Vegetation Data:  87%|████████▋ | 20685/23791 [00:01<00:00, 12100.69it/s]\u001b[A\n",
      "Sampling Vegetation Data:  92%|█████████▏| 21896/23791 [00:01<00:00, 12062.02it/s]\u001b[A\n",
      "Sampling Vegetation Data: 100%|██████████| 23791/23791 [00:01<00:00, 12063.27it/s]\u001b[A\n",
      "Processing Parquet Files:  21%|██▏       | 3/14 [00:09<00:36,  3.34s/it]\n",
      "Sampling Vegetation Data:   0%|          | 0/33987 [00:00<?, ?it/s]\u001b[A\n",
      "Sampling Vegetation Data:   4%|▎         | 1201/33987 [00:00<00:02, 12002.66it/s]\u001b[A\n",
      "Sampling Vegetation Data:   7%|▋         | 2407/33987 [00:00<00:02, 12031.11it/s]\u001b[A\n",
      "Sampling Vegetation Data:  11%|█         | 3611/33987 [00:00<00:02, 11982.49it/s]\u001b[A\n",
      "Sampling Vegetation Data:  14%|█▍        | 4816/33987 [00:00<00:02, 12005.27it/s]\u001b[A\n",
      "Sampling Vegetation Data:  18%|█▊        | 6019/33987 [00:00<00:02, 12013.81it/s]\u001b[A\n",
      "Sampling Vegetation Data:  21%|██▏       | 7230/33987 [00:00<00:02, 12044.71it/s]\u001b[A\n",
      "Sampling Vegetation Data:  25%|██▍       | 8435/33987 [00:00<00:02, 11923.97it/s]\u001b[A\n",
      "Sampling Vegetation Data:  28%|██▊       | 9634/33987 [00:00<00:02, 11944.19it/s]\u001b[A\n",
      "Sampling Vegetation Data:  32%|███▏      | 10843/33987 [00:00<00:01, 11988.01it/s]\u001b[A\n",
      "Sampling Vegetation Data:  35%|███▌      | 12045/33987 [00:01<00:01, 11996.16it/s]\u001b[A\n",
      "Sampling Vegetation Data:  39%|███▉      | 13245/33987 [00:01<00:01, 11959.86it/s]\u001b[A\n",
      "Sampling Vegetation Data:  42%|████▏     | 14442/33987 [00:01<00:01, 11862.17it/s]\u001b[A\n",
      "Sampling Vegetation Data:  46%|████▌     | 15629/33987 [00:01<00:01, 11855.37it/s]\u001b[A\n",
      "Sampling Vegetation Data:  50%|████▉     | 16828/33987 [00:01<00:01, 11894.69it/s]\u001b[A\n",
      "Sampling Vegetation Data:  53%|█████▎    | 18033/33987 [00:01<00:01, 11939.89it/s]\u001b[A\n",
      "Sampling Vegetation Data:  57%|█████▋    | 19228/33987 [00:01<00:01, 11927.14it/s]\u001b[A\n",
      "Sampling Vegetation Data:  60%|██████    | 20421/33987 [00:01<00:01, 11904.73it/s]\u001b[A\n",
      "Sampling Vegetation Data:  64%|██████▎   | 21618/33987 [00:01<00:01, 11923.38it/s]\u001b[A\n",
      "Sampling Vegetation Data:  67%|██████▋   | 22811/33987 [00:01<00:00, 11907.65it/s]\u001b[A\n",
      "Sampling Vegetation Data:  71%|███████   | 24013/33987 [00:02<00:00, 11939.10it/s]\u001b[A\n",
      "Sampling Vegetation Data:  74%|███████▍  | 25210/33987 [00:02<00:00, 11946.43it/s]\u001b[A\n",
      "Sampling Vegetation Data:  78%|███████▊  | 26405/33987 [00:02<00:00, 11930.41it/s]\u001b[A\n",
      "Sampling Vegetation Data:  81%|████████  | 27599/33987 [00:02<00:00, 11885.59it/s]\u001b[A\n",
      "Sampling Vegetation Data:  85%|████████▍ | 28813/33987 [00:02<00:00, 11958.58it/s]\u001b[A\n",
      "Sampling Vegetation Data:  88%|████████▊ | 30015/33987 [00:02<00:00, 11975.79it/s]\u001b[A\n",
      "Sampling Vegetation Data:  92%|█████████▏| 31229/33987 [00:02<00:00, 12023.08it/s]\u001b[A\n",
      "Sampling Vegetation Data:  95%|█████████▌| 32433/33987 [00:02<00:00, 12026.17it/s]\u001b[A\n",
      "Sampling Vegetation Data: 100%|██████████| 33987/33987 [00:02<00:00, 11957.28it/s]\u001b[A\n",
      "Processing Parquet Files:  29%|██▊       | 4/14 [00:14<00:41,  4.13s/it]\n",
      "Sampling Vegetation Data:   0%|          | 0/9378 [00:00<?, ?it/s]\u001b[A\n",
      "Sampling Vegetation Data:  13%|█▎        | 1228/9378 [00:00<00:00, 12270.71it/s]\u001b[A\n",
      "Sampling Vegetation Data:  26%|██▌       | 2456/9378 [00:00<00:00, 12217.12it/s]\u001b[A\n",
      "Sampling Vegetation Data:  39%|███▉      | 3678/9378 [00:00<00:00, 12204.52it/s]\u001b[A\n",
      "Sampling Vegetation Data:  52%|█████▏    | 4899/9378 [00:00<00:00, 12120.88it/s]\u001b[A\n",
      "Sampling Vegetation Data:  65%|██████▌   | 6112/9378 [00:00<00:00, 12104.75it/s]\u001b[A\n",
      "Sampling Vegetation Data:  78%|███████▊  | 7323/9378 [00:00<00:00, 12054.30it/s]\u001b[A\n",
      "Sampling Vegetation Data: 100%|██████████| 9378/9378 [00:00<00:00, 12074.99it/s]\u001b[A\n",
      "Processing Parquet Files:  36%|███▌      | 5/14 [00:17<00:32,  3.66s/it]\n",
      "Sampling Vegetation Data:   0%|          | 0/9378 [00:00<?, ?it/s]\u001b[A\n",
      "Sampling Vegetation Data:  13%|█▎        | 1234/9378 [00:00<00:00, 12333.43it/s]\u001b[A\n",
      "Sampling Vegetation Data:  26%|██▋       | 2468/9378 [00:00<00:00, 12178.34it/s]\u001b[A\n",
      "Sampling Vegetation Data:  39%|███▉      | 3689/9378 [00:00<00:00, 12188.52it/s]\u001b[A\n",
      "Sampling Vegetation Data:  52%|█████▏    | 4908/9378 [00:00<00:00, 12156.41it/s]\u001b[A\n",
      "Sampling Vegetation Data:  65%|██████▌   | 6124/9378 [00:00<00:00, 12152.21it/s]\u001b[A\n",
      "Sampling Vegetation Data:  78%|███████▊  | 7348/9378 [00:00<00:00, 12181.62it/s]\u001b[A\n",
      "Sampling Vegetation Data: 100%|██████████| 9378/9378 [00:00<00:00, 12174.41it/s]\u001b[A\n",
      "Processing Parquet Files:  43%|████▎     | 6/14 [00:20<00:26,  3.37s/it]\n",
      "Sampling Vegetation Data:   0%|          | 0/47402 [00:00<?, ?it/s]\u001b[A\n",
      "Sampling Vegetation Data:   3%|▎         | 1209/47402 [00:00<00:03, 12080.71it/s]\u001b[A\n",
      "Sampling Vegetation Data:   5%|▌         | 2420/47402 [00:00<00:03, 12096.67it/s]\u001b[A\n",
      "Sampling Vegetation Data:   8%|▊         | 3636/47402 [00:00<00:03, 12121.67it/s]\u001b[A\n",
      "Sampling Vegetation Data:  10%|█         | 4865/47402 [00:00<00:03, 12184.71it/s]\u001b[A\n",
      "Sampling Vegetation Data:  13%|█▎        | 6101/47402 [00:00<00:03, 12246.13it/s]\u001b[A\n",
      "Sampling Vegetation Data:  15%|█▌        | 7326/47402 [00:00<00:03, 12239.75it/s]\u001b[A\n",
      "Sampling Vegetation Data:  18%|█▊        | 8550/47402 [00:00<00:03, 12084.42it/s]\u001b[A\n",
      "Sampling Vegetation Data:  21%|██        | 9769/47402 [00:00<00:03, 12115.51it/s]\u001b[A\n",
      "Sampling Vegetation Data:  23%|██▎       | 10993/47402 [00:00<00:02, 12153.94it/s]\u001b[A\n",
      "Sampling Vegetation Data:  26%|██▌       | 12209/47402 [00:01<00:02, 12141.23it/s]\u001b[A\n",
      "Sampling Vegetation Data:  28%|██▊       | 13424/47402 [00:01<00:02, 12052.84it/s]\u001b[A\n",
      "Sampling Vegetation Data:  31%|███       | 14634/47402 [00:01<00:02, 12064.50it/s]\u001b[A\n",
      "Sampling Vegetation Data:  33%|███▎      | 15855/47402 [00:01<00:02, 12106.50it/s]\u001b[A\n",
      "Sampling Vegetation Data:  36%|███▌      | 17066/47402 [00:01<00:02, 12090.01it/s]\u001b[A\n",
      "Sampling Vegetation Data:  39%|███▊      | 18276/47402 [00:01<00:02, 12004.48it/s]\u001b[A\n",
      "Sampling Vegetation Data:  41%|████      | 19491/47402 [00:01<00:02, 12047.75it/s]\u001b[A\n",
      "Sampling Vegetation Data:  44%|████▎     | 20698/47402 [00:01<00:02, 12051.77it/s]\u001b[A\n",
      "Sampling Vegetation Data:  46%|████▌     | 21904/47402 [00:01<00:02, 12052.48it/s]\u001b[A\n",
      "Sampling Vegetation Data:  49%|████▉     | 23110/47402 [00:01<00:02, 12037.15it/s]\u001b[A\n",
      "Sampling Vegetation Data:  51%|█████▏    | 24319/47402 [00:02<00:01, 12051.66it/s]\u001b[A\n",
      "Sampling Vegetation Data:  54%|█████▍    | 25535/47402 [00:02<00:01, 12081.73it/s]\u001b[A\n",
      "Sampling Vegetation Data:  56%|█████▋    | 26744/47402 [00:02<00:01, 12057.61it/s]\u001b[A\n",
      "Sampling Vegetation Data:  59%|█████▉    | 27965/47402 [00:02<00:01, 12100.69it/s]\u001b[A\n",
      "Sampling Vegetation Data:  62%|██████▏   | 29196/47402 [00:02<00:01, 12162.24it/s]\u001b[A\n",
      "Sampling Vegetation Data:  64%|██████▍   | 30413/47402 [00:02<00:01, 12121.69it/s]\u001b[A\n",
      "Sampling Vegetation Data:  67%|██████▋   | 31626/47402 [00:02<00:01, 12084.82it/s]\u001b[A\n",
      "Sampling Vegetation Data:  69%|██████▉   | 32841/47402 [00:02<00:01, 12102.09it/s]\u001b[A\n",
      "Sampling Vegetation Data:  72%|███████▏  | 34060/47402 [00:02<00:01, 12126.74it/s]\u001b[A\n",
      "Sampling Vegetation Data:  74%|███████▍  | 35273/47402 [00:02<00:01, 12112.49it/s]\u001b[A\n",
      "Sampling Vegetation Data:  77%|███████▋  | 36491/47402 [00:03<00:00, 12131.17it/s]\u001b[A\n",
      "Sampling Vegetation Data:  80%|███████▉  | 37705/47402 [00:03<00:00, 12087.75it/s]\u001b[A\n",
      "Sampling Vegetation Data:  82%|████████▏ | 38917/47402 [00:03<00:00, 12097.17it/s]\u001b[A\n",
      "Sampling Vegetation Data:  85%|████████▍ | 40127/47402 [00:03<00:00, 12079.43it/s]\u001b[A\n",
      "Sampling Vegetation Data:  87%|████████▋ | 41335/47402 [00:03<00:00, 11960.07it/s]\u001b[A\n",
      "Sampling Vegetation Data:  90%|████████▉ | 42557/47402 [00:03<00:00, 12036.17it/s]\u001b[A\n",
      "Sampling Vegetation Data:  92%|█████████▏| 43788/47402 [00:03<00:00, 12117.32it/s]\u001b[A\n",
      "Sampling Vegetation Data:  95%|█████████▍| 45013/47402 [00:03<00:00, 12155.01it/s]\u001b[A\n",
      "Sampling Vegetation Data: 100%|██████████| 47402/47402 [00:03<00:00, 12100.63it/s]\u001b[A\n",
      "Processing Parquet Files:  50%|█████     | 7/14 [00:27<00:31,  4.49s/it]\n",
      "Sampling Vegetation Data:   0%|          | 0/28353 [00:00<?, ?it/s]\u001b[A\n",
      "Sampling Vegetation Data:   4%|▍         | 1235/28353 [00:00<00:02, 12345.92it/s]\u001b[A\n",
      "Sampling Vegetation Data:   9%|▊         | 2470/28353 [00:00<00:02, 12305.07it/s]\u001b[A\n",
      "Sampling Vegetation Data:  13%|█▎        | 3701/28353 [00:00<00:02, 12284.06it/s]\u001b[A\n",
      "Sampling Vegetation Data:  17%|█▋        | 4930/28353 [00:00<00:01, 12264.57it/s]\u001b[A\n",
      "Sampling Vegetation Data:  22%|██▏       | 6157/28353 [00:00<00:01, 12215.95it/s]\u001b[A\n",
      "Sampling Vegetation Data:  26%|██▌       | 7379/28353 [00:00<00:01, 12167.33it/s]\u001b[A\n",
      "Sampling Vegetation Data:  30%|███       | 8601/28353 [00:00<00:01, 12182.23it/s]\u001b[A\n",
      "Sampling Vegetation Data:  35%|███▍      | 9826/28353 [00:00<00:01, 12201.04it/s]\u001b[A\n",
      "Sampling Vegetation Data:  39%|███▉      | 11047/28353 [00:00<00:01, 12191.41it/s]\u001b[A\n",
      "Sampling Vegetation Data:  43%|████▎     | 12272/28353 [00:01<00:01, 12206.65it/s]\u001b[A\n",
      "Sampling Vegetation Data:  48%|████▊     | 13493/28353 [00:01<00:01, 12164.34it/s]\u001b[A\n",
      "Sampling Vegetation Data:  52%|█████▏    | 14710/28353 [00:01<00:01, 12129.58it/s]\u001b[A\n",
      "Sampling Vegetation Data:  56%|█████▌    | 15923/28353 [00:01<00:01, 12081.36it/s]\u001b[A\n",
      "Sampling Vegetation Data:  60%|██████    | 17141/28353 [00:01<00:00, 12110.39it/s]\u001b[A\n",
      "Sampling Vegetation Data:  65%|██████▍   | 18358/28353 [00:01<00:00, 12126.46it/s]\u001b[A\n",
      "Sampling Vegetation Data:  69%|██████▉   | 19584/28353 [00:01<00:00, 12164.57it/s]\u001b[A\n",
      "Sampling Vegetation Data:  73%|███████▎  | 20801/28353 [00:01<00:00, 11919.99it/s]\u001b[A\n",
      "Sampling Vegetation Data:  78%|███████▊  | 22022/28353 [00:01<00:00, 12003.42it/s]\u001b[A\n",
      "Sampling Vegetation Data:  82%|████████▏ | 23244/28353 [00:01<00:00, 12067.56it/s]\u001b[A\n",
      "Sampling Vegetation Data:  86%|████████▋ | 24479/28353 [00:02<00:00, 12149.41it/s]\u001b[A\n",
      "Sampling Vegetation Data:  91%|█████████ | 25695/28353 [00:02<00:00, 12138.82it/s]\u001b[A\n",
      "Sampling Vegetation Data:  95%|█████████▍| 26918/28353 [00:02<00:00, 12163.48it/s]\u001b[A\n",
      "Sampling Vegetation Data: 100%|██████████| 28353/28353 [00:02<00:00, 12137.91it/s]\u001b[A\n",
      "Processing Parquet Files:  57%|█████▋    | 8/14 [00:31<00:27,  4.63s/it]\n",
      "Sampling Vegetation Data:   0%|          | 0/16241 [00:00<?, ?it/s]\u001b[A\n",
      "Sampling Vegetation Data:   7%|▋         | 1212/16241 [00:00<00:01, 12116.63it/s]\u001b[A\n",
      "Sampling Vegetation Data:  15%|█▍        | 2424/16241 [00:00<00:01, 11943.80it/s]\u001b[A\n",
      "Sampling Vegetation Data:  22%|██▏       | 3633/16241 [00:00<00:01, 12006.18it/s]\u001b[A\n",
      "Sampling Vegetation Data:  30%|██▉       | 4847/16241 [00:00<00:00, 12058.48it/s]\u001b[A\n",
      "Sampling Vegetation Data:  37%|███▋      | 6068/16241 [00:00<00:00, 12111.50it/s]\u001b[A\n",
      "Sampling Vegetation Data:  45%|████▍     | 7286/16241 [00:00<00:00, 12133.06it/s]\u001b[A\n",
      "Sampling Vegetation Data:  52%|█████▏    | 8500/16241 [00:00<00:00, 12121.90it/s]\u001b[A\n",
      "Sampling Vegetation Data:  60%|█████▉    | 9713/16241 [00:00<00:00, 12113.19it/s]\u001b[A\n",
      "Sampling Vegetation Data:  67%|██████▋   | 10925/16241 [00:00<00:00, 12073.57it/s]\u001b[A\n",
      "Sampling Vegetation Data:  75%|███████▍  | 12148/16241 [00:01<00:00, 12118.83it/s]\u001b[A\n",
      "Sampling Vegetation Data:  82%|████████▏ | 13362/16241 [00:01<00:00, 12124.54it/s]\u001b[A\n",
      "Sampling Vegetation Data:  90%|████████▉ | 14584/16241 [00:01<00:00, 12151.74it/s]\u001b[A\n",
      "Sampling Vegetation Data: 100%|██████████| 16241/16241 [00:01<00:00, 12094.14it/s]\u001b[A\n",
      "Processing Parquet Files:  64%|██████▍   | 9/14 [00:35<00:21,  4.30s/it]\n",
      "Sampling Vegetation Data:   0%|          | 0/12458 [00:00<?, ?it/s]\u001b[A\n",
      "Sampling Vegetation Data:  10%|▉         | 1218/12458 [00:00<00:00, 12173.02it/s]\u001b[A\n",
      "Sampling Vegetation Data:  20%|█▉        | 2441/12458 [00:00<00:00, 12203.01it/s]\u001b[A\n",
      "Sampling Vegetation Data:  29%|██▉       | 3662/12458 [00:00<00:00, 12176.23it/s]\u001b[A\n",
      "Sampling Vegetation Data:  39%|███▉      | 4880/12458 [00:00<00:00, 12158.88it/s]\u001b[A\n",
      "Sampling Vegetation Data:  49%|████▉     | 6106/12458 [00:00<00:00, 12192.88it/s]\u001b[A\n",
      "Sampling Vegetation Data:  59%|█████▉    | 7340/12458 [00:00<00:00, 12240.45it/s]\u001b[A\n",
      "Sampling Vegetation Data:  69%|██████▉   | 8571/12458 [00:00<00:00, 12261.15it/s]\u001b[A\n",
      "Sampling Vegetation Data:  79%|███████▊  | 9798/12458 [00:00<00:00, 12237.74it/s]\u001b[A\n",
      "Sampling Vegetation Data:  88%|████████▊ | 11022/12458 [00:00<00:00, 12209.79it/s]\u001b[A\n",
      "Sampling Vegetation Data: 100%|██████████| 12458/12458 [00:01<00:00, 12187.74it/s]\u001b[A\n",
      "Processing Parquet Files:  71%|███████▏  | 10/14 [00:38<00:15,  3.95s/it]\n",
      "Sampling Vegetation Data:   0%|          | 0/23791 [00:00<?, ?it/s]\u001b[A\n",
      "Sampling Vegetation Data:   5%|▌         | 1228/23791 [00:00<00:01, 12278.78it/s]\u001b[A\n",
      "Sampling Vegetation Data:  10%|█         | 2456/23791 [00:00<00:01, 12259.87it/s]\u001b[A\n",
      "Sampling Vegetation Data:  15%|█▌        | 3682/23791 [00:00<00:01, 12229.82it/s]\u001b[A\n",
      "Sampling Vegetation Data:  21%|██        | 4905/23791 [00:00<00:01, 12169.26it/s]\u001b[A\n",
      "Sampling Vegetation Data:  26%|██▌       | 6125/23791 [00:00<00:01, 12177.02it/s]\u001b[A\n",
      "Sampling Vegetation Data:  31%|███       | 7343/23791 [00:00<00:01, 12139.20it/s]\u001b[A\n",
      "Sampling Vegetation Data:  36%|███▌      | 8560/23791 [00:00<00:01, 12148.43it/s]\u001b[A\n",
      "Sampling Vegetation Data:  41%|████      | 9775/23791 [00:00<00:01, 11998.06it/s]\u001b[A\n",
      "Sampling Vegetation Data:  46%|████▌     | 10984/23791 [00:00<00:01, 12025.06it/s]\u001b[A\n",
      "Sampling Vegetation Data:  51%|█████▏    | 12202/23791 [00:01<00:00, 12071.50it/s]\u001b[A\n",
      "Sampling Vegetation Data:  56%|█████▋    | 13429/23791 [00:01<00:00, 12129.19it/s]\u001b[A\n",
      "Sampling Vegetation Data:  62%|██████▏   | 14650/23791 [00:01<00:00, 12152.89it/s]\u001b[A\n",
      "Sampling Vegetation Data:  67%|██████▋   | 15872/23791 [00:01<00:00, 12171.04it/s]\u001b[A\n",
      "Sampling Vegetation Data:  72%|███████▏  | 17099/23791 [00:01<00:00, 12198.74it/s]\u001b[A\n",
      "Sampling Vegetation Data:  77%|███████▋  | 18327/23791 [00:01<00:00, 12222.31it/s]\u001b[A\n",
      "Sampling Vegetation Data:  82%|████████▏ | 19550/23791 [00:01<00:00, 12219.29it/s]\u001b[A\n",
      "Sampling Vegetation Data:  87%|████████▋ | 20772/23791 [00:01<00:00, 12173.68it/s]\u001b[A\n",
      "Sampling Vegetation Data:  92%|█████████▏| 21990/23791 [00:01<00:00, 12137.37it/s]\u001b[A\n",
      "Sampling Vegetation Data: 100%|██████████| 23791/23791 [00:01<00:00, 12124.25it/s]\u001b[A\n",
      "Processing Parquet Files:  79%|███████▊  | 11/14 [00:43<00:12,  4.07s/it]\n",
      "Sampling Vegetation Data:   0%|          | 0/47402 [00:00<?, ?it/s]\u001b[A\n",
      "Sampling Vegetation Data:   2%|▏         | 1165/47402 [00:00<00:03, 11643.76it/s]\u001b[A\n",
      "Sampling Vegetation Data:   5%|▍         | 2338/47402 [00:00<00:03, 11690.88it/s]\u001b[A\n",
      "Sampling Vegetation Data:   7%|▋         | 3542/47402 [00:00<00:03, 11850.07it/s]\u001b[A\n",
      "Sampling Vegetation Data:  10%|█         | 4764/47402 [00:00<00:03, 11994.06it/s]\u001b[A\n",
      "Sampling Vegetation Data:  13%|█▎        | 5992/47402 [00:00<00:03, 12096.59it/s]\u001b[A\n",
      "Sampling Vegetation Data:  15%|█▌        | 7202/47402 [00:00<00:03, 12073.40it/s]\u001b[A\n",
      "Sampling Vegetation Data:  18%|█▊        | 8429/47402 [00:00<00:03, 12135.01it/s]\u001b[A\n",
      "Sampling Vegetation Data:  20%|██        | 9653/47402 [00:00<00:03, 12167.98it/s]\u001b[A\n",
      "Sampling Vegetation Data:  23%|██▎       | 10879/47402 [00:00<00:02, 12196.30it/s]\u001b[A\n",
      "Sampling Vegetation Data:  26%|██▌       | 12122/47402 [00:01<00:02, 12265.52it/s]\u001b[A\n",
      "Sampling Vegetation Data:  28%|██▊       | 13353/47402 [00:01<00:02, 12277.83it/s]\u001b[A\n",
      "Sampling Vegetation Data:  31%|███       | 14581/47402 [00:01<00:02, 12245.17it/s]\u001b[A\n",
      "Sampling Vegetation Data:  33%|███▎      | 15810/47402 [00:01<00:02, 12256.82it/s]\u001b[A\n",
      "Sampling Vegetation Data:  36%|███▌      | 17037/47402 [00:01<00:02, 12260.07it/s]\u001b[A\n",
      "Sampling Vegetation Data:  39%|███▊      | 18269/47402 [00:01<00:02, 12277.78it/s]\u001b[A\n",
      "Sampling Vegetation Data:  41%|████      | 19497/47402 [00:01<00:02, 12263.12it/s]\u001b[A\n",
      "Sampling Vegetation Data:  44%|████▎     | 20724/47402 [00:01<00:02, 12193.60it/s]\u001b[A\n",
      "Sampling Vegetation Data:  46%|████▋     | 21954/47402 [00:01<00:02, 12224.23it/s]\u001b[A\n",
      "Sampling Vegetation Data:  49%|████▉     | 23194/47402 [00:01<00:01, 12276.50it/s]\u001b[A\n",
      "Sampling Vegetation Data:  52%|█████▏    | 24423/47402 [00:02<00:01, 12279.78it/s]\u001b[A\n",
      "Sampling Vegetation Data:  54%|█████▍    | 25652/47402 [00:02<00:01, 12267.33it/s]\u001b[A\n",
      "Sampling Vegetation Data:  57%|█████▋    | 26893/47402 [00:02<00:01, 12307.49it/s]\u001b[A\n",
      "Sampling Vegetation Data:  59%|█████▉    | 28126/47402 [00:02<00:01, 12313.21it/s]\u001b[A\n",
      "Sampling Vegetation Data:  62%|██████▏   | 29358/47402 [00:02<00:01, 12295.19it/s]\u001b[A\n",
      "Sampling Vegetation Data:  65%|██████▍   | 30589/47402 [00:02<00:01, 12297.69it/s]\u001b[A\n",
      "Sampling Vegetation Data:  67%|██████▋   | 31822/47402 [00:02<00:01, 12305.95it/s]\u001b[A\n",
      "Sampling Vegetation Data:  70%|██████▉   | 33060/47402 [00:02<00:01, 12326.50it/s]\u001b[A\n",
      "Sampling Vegetation Data:  72%|███████▏  | 34293/47402 [00:02<00:01, 12310.86it/s]\u001b[A\n",
      "Sampling Vegetation Data:  75%|███████▍  | 35525/47402 [00:02<00:00, 12297.95it/s]\u001b[A\n",
      "Sampling Vegetation Data:  78%|███████▊  | 36765/47402 [00:03<00:00, 12328.22it/s]\u001b[A\n",
      "Sampling Vegetation Data:  80%|████████  | 37998/47402 [00:03<00:00, 12273.48it/s]\u001b[A\n",
      "Sampling Vegetation Data:  83%|████████▎ | 39226/47402 [00:03<00:00, 12237.65it/s]\u001b[A\n",
      "Sampling Vegetation Data:  85%|████████▌ | 40450/47402 [00:03<00:00, 12168.61it/s]\u001b[A\n",
      "Sampling Vegetation Data:  88%|████████▊ | 41667/47402 [00:03<00:00, 12117.43it/s]\u001b[A\n",
      "Sampling Vegetation Data:  90%|█████████ | 42881/47402 [00:03<00:00, 12122.92it/s]\u001b[A\n",
      "Sampling Vegetation Data:  93%|█████████▎| 44094/47402 [00:03<00:00, 12123.55it/s]\u001b[A\n",
      "Sampling Vegetation Data:  96%|█████████▌| 45307/47402 [00:03<00:00, 12032.65it/s]\u001b[A\n",
      "Sampling Vegetation Data: 100%|██████████| 47402/47402 [00:03<00:00, 12196.90it/s]\u001b[A\n",
      "Processing Parquet Files:  86%|████████▌ | 12/14 [00:49<00:09,  4.87s/it]\n",
      "Sampling Vegetation Data:   0%|          | 0/12317 [00:00<?, ?it/s]\u001b[A\n",
      "Sampling Vegetation Data:   9%|▉         | 1153/12317 [00:00<00:00, 11528.80it/s]\u001b[A\n",
      "Sampling Vegetation Data:  19%|█▉        | 2364/12317 [00:00<00:00, 11870.24it/s]\u001b[A\n",
      "Sampling Vegetation Data:  29%|██▉       | 3578/12317 [00:00<00:00, 11989.24it/s]\u001b[A\n",
      "Sampling Vegetation Data:  39%|███▉      | 4777/12317 [00:00<00:00, 11856.58it/s]\u001b[A\n",
      "Sampling Vegetation Data:  49%|████▊     | 5974/12317 [00:00<00:00, 11896.74it/s]\u001b[A\n",
      "Sampling Vegetation Data:  58%|█████▊    | 7187/12317 [00:00<00:00, 11973.80it/s]\u001b[A\n",
      "Sampling Vegetation Data:  68%|██████▊   | 8393/12317 [00:00<00:00, 11999.46it/s]\u001b[A\n",
      "Sampling Vegetation Data:  78%|███████▊  | 9600/12317 [00:00<00:00, 12019.84it/s]\u001b[A\n",
      "Sampling Vegetation Data:  88%|████████▊ | 10803/12317 [00:00<00:00, 11944.12it/s]\u001b[A\n",
      "Sampling Vegetation Data: 100%|██████████| 12317/12317 [00:01<00:00, 11888.16it/s]\u001b[A\n",
      "Processing Parquet Files:  93%|█████████▎| 13/14 [00:52<00:04,  4.35s/it]\n",
      "Sampling Vegetation Data:   0%|          | 0/29145 [00:00<?, ?it/s]\u001b[A\n",
      "Sampling Vegetation Data:   4%|▍         | 1227/29145 [00:00<00:02, 12268.20it/s]\u001b[A\n",
      "Sampling Vegetation Data:   8%|▊         | 2454/29145 [00:00<00:02, 12185.73it/s]\u001b[A\n",
      "Sampling Vegetation Data:  13%|█▎        | 3673/29145 [00:00<00:02, 12129.53it/s]\u001b[A\n",
      "Sampling Vegetation Data:  17%|█▋        | 4886/29145 [00:00<00:02, 11955.83it/s]\u001b[A\n",
      "Sampling Vegetation Data:  21%|██        | 6082/29145 [00:00<00:01, 11946.37it/s]\u001b[A\n",
      "Sampling Vegetation Data:  25%|██▌       | 7292/29145 [00:00<00:01, 11995.07it/s]\u001b[A\n",
      "Sampling Vegetation Data:  29%|██▉       | 8510/29145 [00:00<00:01, 12052.71it/s]\u001b[A\n",
      "Sampling Vegetation Data:  33%|███▎      | 9716/29145 [00:00<00:01, 12011.20it/s]\u001b[A\n",
      "Sampling Vegetation Data:  37%|███▋      | 10918/29145 [00:00<00:01, 12004.65it/s]\u001b[A\n",
      "Sampling Vegetation Data:  42%|████▏     | 12119/29145 [00:01<00:01, 11950.82it/s]\u001b[A\n",
      "Sampling Vegetation Data:  46%|████▌     | 13339/29145 [00:01<00:01, 12024.59it/s]\u001b[A\n",
      "Sampling Vegetation Data:  50%|████▉     | 14552/29145 [00:01<00:01, 12054.07it/s]\u001b[A\n",
      "Sampling Vegetation Data:  54%|█████▍    | 15768/29145 [00:01<00:01, 12083.69it/s]\u001b[A\n",
      "Sampling Vegetation Data:  58%|█████▊    | 16977/29145 [00:01<00:01, 12007.59it/s]\u001b[A\n",
      "Sampling Vegetation Data:  62%|██████▏   | 18195/29145 [00:01<00:00, 12058.06it/s]\u001b[A\n",
      "Sampling Vegetation Data:  67%|██████▋   | 19401/29145 [00:01<00:00, 12007.72it/s]\u001b[A\n",
      "Sampling Vegetation Data:  71%|███████   | 20604/29145 [00:01<00:00, 12012.50it/s]\u001b[A\n",
      "Sampling Vegetation Data:  75%|███████▍  | 21811/29145 [00:01<00:00, 12028.80it/s]\u001b[A\n",
      "Sampling Vegetation Data:  79%|███████▉  | 23017/29145 [00:01<00:00, 12036.92it/s]\u001b[A\n",
      "Sampling Vegetation Data:  83%|████████▎ | 24221/29145 [00:02<00:00, 12028.29it/s]\u001b[A\n",
      "Sampling Vegetation Data:  87%|████████▋ | 25424/29145 [00:02<00:00, 12023.23it/s]\u001b[A\n",
      "Sampling Vegetation Data:  91%|█████████▏| 26631/29145 [00:02<00:00, 12036.35it/s]\u001b[A\n",
      "Sampling Vegetation Data:  96%|█████████▌| 27835/29145 [00:02<00:00, 12027.18it/s]\u001b[A\n",
      "Sampling Vegetation Data: 100%|██████████| 29145/29145 [00:02<00:00, 11993.55it/s]\u001b[A\n",
      "Processing Parquet Files: 100%|██████████| 14/14 [00:57<00:00,  4.13s/it]\n"
     ]
    },
    {
     "name": "stdout",
     "output_type": "stream",
     "text": [
      "Vegetation file bounds: BoundingBox(left=-2043060.0, bottom=-2113120.0, right=2529540.0, top=732440.0)\n",
      "Vegetation CRS: PROJCS[\"WGS_1984_Lambert_Azimuthal_Equal_Area\",GEOGCS[\"WGS 84\",DATUM[\"WGS_1984\",SPHEROID[\"WGS 84\",6378137,298.257223563,AUTHORITY[\"EPSG\",\"7030\"]],AUTHORITY[\"EPSG\",\"6326\"]],PRIMEM[\"Greenwich\",0],UNIT[\"degree\",0.0174532925199433,AUTHORITY[\"EPSG\",\"9122\"]],AUTHORITY[\"EPSG\",\"4326\"]],PROJECTION[\"Lambert_Azimuthal_Equal_Area\"],PARAMETER[\"latitude_of_center\",45],PARAMETER[\"longitude_of_center\",-100],PARAMETER[\"false_easting\",0],PARAMETER[\"false_northing\",0],UNIT[\"metre\",1],AXIS[\"Easting\",EAST],AXIS[\"Northing\",NORTH]]\n"
     ]
    },
    {
     "name": "stderr",
     "output_type": "stream",
     "text": [
      "Processing Parquet Files:   0%|          | 0/99 [00:00<?, ?it/s]\n",
      "Sampling Vegetation Data:   0%|          | 0/23547 [00:00<?, ?it/s]\u001b[A\n",
      "Sampling Vegetation Data:   5%|▌         | 1231/23547 [00:00<00:01, 12306.11it/s]\u001b[A\n",
      "Sampling Vegetation Data:  10%|█         | 2462/23547 [00:00<00:01, 12299.33it/s]\u001b[A\n",
      "Sampling Vegetation Data:  16%|█▌        | 3692/23547 [00:00<00:01, 12218.96it/s]\u001b[A\n",
      "Sampling Vegetation Data:  21%|██        | 4914/23547 [00:00<00:01, 12202.44it/s]\u001b[A\n",
      "Sampling Vegetation Data:  26%|██▌       | 6135/23547 [00:00<00:01, 12194.38it/s]\u001b[A\n",
      "Sampling Vegetation Data:  31%|███       | 7355/23547 [00:00<00:01, 12189.49it/s]\u001b[A\n",
      "Sampling Vegetation Data:  36%|███▋      | 8574/23547 [00:00<00:01, 12158.51it/s]\u001b[A\n",
      "Sampling Vegetation Data:  42%|████▏     | 9791/23547 [00:00<00:01, 12159.44it/s]\u001b[A\n",
      "Sampling Vegetation Data:  47%|████▋     | 11010/23547 [00:00<00:01, 12168.84it/s]\u001b[A\n",
      "Sampling Vegetation Data:  52%|█████▏    | 12231/23547 [00:01<00:00, 12179.78it/s]\u001b[A\n",
      "Sampling Vegetation Data:  57%|█████▋    | 13452/23547 [00:01<00:00, 12188.00it/s]\u001b[A\n",
      "Sampling Vegetation Data:  62%|██████▏   | 14671/23547 [00:01<00:00, 12188.34it/s]\u001b[A\n",
      "Sampling Vegetation Data:  67%|██████▋   | 15890/23547 [00:01<00:00, 12140.69it/s]\u001b[A\n",
      "Sampling Vegetation Data:  73%|███████▎  | 17105/23547 [00:01<00:00, 12128.90it/s]\u001b[A\n",
      "Sampling Vegetation Data:  78%|███████▊  | 18318/23547 [00:01<00:00, 12106.05it/s]\u001b[A\n",
      "Sampling Vegetation Data:  83%|████████▎ | 19529/23547 [00:01<00:00, 12084.96it/s]\u001b[A\n",
      "Sampling Vegetation Data:  88%|████████▊ | 20738/23547 [00:01<00:00, 12067.80it/s]\u001b[A\n",
      "Sampling Vegetation Data:  93%|█████████▎| 21945/23547 [00:01<00:00, 12059.60it/s]\u001b[A\n",
      "Sampling Vegetation Data: 100%|██████████| 23547/23547 [00:01<00:00, 12141.86it/s]\u001b[A\n",
      "Processing Parquet Files:   1%|          | 1/99 [00:04<06:55,  4.24s/it]\n",
      "Sampling Vegetation Data:   0%|          | 0/39617 [00:00<?, ?it/s]\u001b[A\n",
      "Sampling Vegetation Data:   3%|▎         | 1233/39617 [00:00<00:03, 12327.01it/s]\u001b[A\n",
      "Sampling Vegetation Data:   6%|▌         | 2466/39617 [00:00<00:03, 12269.78it/s]\u001b[A\n",
      "Sampling Vegetation Data:   9%|▉         | 3693/39617 [00:00<00:02, 12265.29it/s]\u001b[A\n",
      "Sampling Vegetation Data:  12%|█▏        | 4922/39617 [00:00<00:02, 12272.48it/s]\u001b[A\n",
      "Sampling Vegetation Data:  16%|█▌        | 6153/39617 [00:00<00:02, 12282.94it/s]\u001b[A\n",
      "Sampling Vegetation Data:  19%|█▊        | 7385/39617 [00:00<00:02, 12294.27it/s]\u001b[A\n",
      "Sampling Vegetation Data:  22%|██▏       | 8615/39617 [00:00<00:02, 12291.95it/s]\u001b[A\n",
      "Sampling Vegetation Data:  25%|██▍       | 9846/39617 [00:00<00:02, 12296.78it/s]\u001b[A\n",
      "Sampling Vegetation Data:  28%|██▊       | 11076/39617 [00:00<00:02, 12276.51it/s]\u001b[A\n",
      "Sampling Vegetation Data:  31%|███       | 12308/39617 [00:01<00:02, 12288.48it/s]\u001b[A\n",
      "Sampling Vegetation Data:  34%|███▍      | 13537/39617 [00:01<00:02, 12272.31it/s]\u001b[A\n",
      "Sampling Vegetation Data:  37%|███▋      | 14765/39617 [00:01<00:02, 12270.30it/s]\u001b[A\n",
      "Sampling Vegetation Data:  40%|████      | 15994/39617 [00:01<00:01, 12273.57it/s]\u001b[A\n",
      "Sampling Vegetation Data:  43%|████▎     | 17222/39617 [00:01<00:01, 12260.25it/s]\u001b[A\n",
      "Sampling Vegetation Data:  47%|████▋     | 18456/39617 [00:01<00:01, 12282.10it/s]\u001b[A\n",
      "Sampling Vegetation Data:  50%|████▉     | 19685/39617 [00:01<00:01, 12198.92it/s]\u001b[A\n",
      "Sampling Vegetation Data:  53%|█████▎    | 20906/39617 [00:01<00:01, 12147.45it/s]\u001b[A\n",
      "Sampling Vegetation Data:  56%|█████▌    | 22128/39617 [00:01<00:01, 12168.09it/s]\u001b[A\n",
      "Sampling Vegetation Data:  59%|█████▉    | 23352/39617 [00:01<00:01, 12188.33it/s]\u001b[A\n",
      "Sampling Vegetation Data:  62%|██████▏   | 24583/39617 [00:02<00:01, 12224.54it/s]\u001b[A\n",
      "Sampling Vegetation Data:  65%|██████▌   | 25811/39617 [00:02<00:01, 12240.20it/s]\u001b[A\n",
      "Sampling Vegetation Data:  68%|██████▊   | 27036/39617 [00:02<00:01, 12215.42it/s]\u001b[A\n",
      "Sampling Vegetation Data:  71%|███████▏  | 28258/39617 [00:02<00:00, 12211.80it/s]\u001b[A\n",
      "Sampling Vegetation Data:  74%|███████▍  | 29482/39617 [00:02<00:00, 12219.88it/s]\u001b[A\n",
      "Sampling Vegetation Data:  78%|███████▊  | 30705/39617 [00:02<00:00, 12184.31it/s]\u001b[A\n",
      "Sampling Vegetation Data:  81%|████████  | 31940/39617 [00:02<00:00, 12233.76it/s]\u001b[A\n",
      "Sampling Vegetation Data:  84%|████████▎ | 33164/39617 [00:02<00:00, 12219.91it/s]\u001b[A\n",
      "Sampling Vegetation Data:  87%|████████▋ | 34387/39617 [00:02<00:00, 12200.94it/s]\u001b[A\n",
      "Sampling Vegetation Data:  90%|████████▉ | 35617/39617 [00:02<00:00, 12228.04it/s]\u001b[A\n",
      "Sampling Vegetation Data:  93%|█████████▎| 36840/39617 [00:03<00:00, 12219.20it/s]\u001b[A\n",
      "Sampling Vegetation Data:  96%|█████████▌| 38063/39617 [00:03<00:00, 12219.52it/s]\u001b[A\n",
      "Sampling Vegetation Data: 100%|██████████| 39617/39617 [00:03<00:00, 12221.73it/s]\u001b[A\n",
      "Processing Parquet Files:   2%|▏         | 2/99 [00:10<08:27,  5.23s/it]\n",
      "Sampling Vegetation Data: 100%|██████████| 399/399 [00:00<00:00, 12069.81it/s]\n",
      "Processing Parquet Files:   3%|▎         | 3/99 [00:12<05:56,  3.72s/it]\n",
      "Sampling Vegetation Data:   0%|          | 0/39617 [00:00<?, ?it/s]\u001b[A\n",
      "Sampling Vegetation Data:   3%|▎         | 1218/39617 [00:00<00:03, 12170.70it/s]\u001b[A\n",
      "Sampling Vegetation Data:   6%|▌         | 2436/39617 [00:00<00:03, 12127.04it/s]\u001b[A\n",
      "Sampling Vegetation Data:   9%|▉         | 3649/39617 [00:00<00:03, 11777.66it/s]\u001b[A\n",
      "Sampling Vegetation Data:  12%|█▏        | 4828/39617 [00:00<00:02, 11771.31it/s]\u001b[A\n",
      "Sampling Vegetation Data:  15%|█▌        | 6032/39617 [00:00<00:02, 11866.80it/s]\u001b[A\n",
      "Sampling Vegetation Data:  18%|█▊        | 7243/39617 [00:00<00:02, 11948.46it/s]\u001b[A\n",
      "Sampling Vegetation Data:  21%|██▏       | 8454/39617 [00:00<00:02, 12000.37it/s]\u001b[A\n",
      "Sampling Vegetation Data:  24%|██▍       | 9675/39617 [00:00<00:02, 12066.69it/s]\u001b[A\n",
      "Sampling Vegetation Data:  27%|██▋       | 10886/39617 [00:00<00:02, 12079.95it/s]\u001b[A\n",
      "Sampling Vegetation Data:  31%|███       | 12095/39617 [00:01<00:02, 12081.23it/s]\u001b[A\n",
      "Sampling Vegetation Data:  34%|███▎      | 13308/39617 [00:01<00:02, 12095.23it/s]\u001b[A\n",
      "Sampling Vegetation Data:  37%|███▋      | 14518/39617 [00:01<00:02, 12094.62it/s]\u001b[A\n",
      "Sampling Vegetation Data:  40%|███▉      | 15728/39617 [00:01<00:02, 11919.51it/s]\u001b[A\n",
      "Sampling Vegetation Data:  43%|████▎     | 16921/39617 [00:01<00:01, 11915.33it/s]\u001b[A\n",
      "Sampling Vegetation Data:  46%|████▌     | 18114/39617 [00:01<00:01, 11919.58it/s]\u001b[A\n",
      "Sampling Vegetation Data:  49%|████▉     | 19319/39617 [00:01<00:01, 11956.34it/s]\u001b[A\n",
      "Sampling Vegetation Data:  52%|█████▏    | 20535/39617 [00:01<00:01, 12014.48it/s]\u001b[A\n",
      "Sampling Vegetation Data:  55%|█████▍    | 21766/39617 [00:01<00:01, 12099.37it/s]\u001b[A\n",
      "Sampling Vegetation Data:  58%|█████▊    | 22984/39617 [00:01<00:01, 12121.49it/s]\u001b[A\n",
      "Sampling Vegetation Data:  61%|██████    | 24201/39617 [00:02<00:01, 12134.18it/s]\u001b[A\n",
      "Sampling Vegetation Data:  64%|██████▍   | 25415/39617 [00:02<00:01, 12134.19it/s]\u001b[A\n",
      "Sampling Vegetation Data:  67%|██████▋   | 26629/39617 [00:02<00:01, 12110.62it/s]\u001b[A\n",
      "Sampling Vegetation Data:  70%|███████   | 27841/39617 [00:02<00:00, 11933.42it/s]\u001b[A\n",
      "Sampling Vegetation Data:  73%|███████▎  | 29041/39617 [00:02<00:00, 11952.25it/s]\u001b[A\n",
      "Sampling Vegetation Data:  76%|███████▋  | 30248/39617 [00:02<00:00, 11986.92it/s]\u001b[A\n",
      "Sampling Vegetation Data:  79%|███████▉  | 31457/39617 [00:02<00:00, 12015.31it/s]\u001b[A\n",
      "Sampling Vegetation Data:  82%|████████▏ | 32661/39617 [00:02<00:00, 12022.47it/s]\u001b[A\n",
      "Sampling Vegetation Data:  86%|████████▌ | 33881/39617 [00:02<00:00, 12074.28it/s]\u001b[A\n",
      "Sampling Vegetation Data:  89%|████████▊ | 35097/39617 [00:02<00:00, 12097.34it/s]\u001b[A\n",
      "Sampling Vegetation Data:  92%|█████████▏| 36307/39617 [00:03<00:00, 12006.27it/s]\u001b[A\n",
      "Sampling Vegetation Data:  95%|█████████▍| 37508/39617 [00:03<00:00, 11965.54it/s]\u001b[A\n",
      "Sampling Vegetation Data: 100%|██████████| 39617/39617 [00:03<00:00, 11995.75it/s]\u001b[A\n",
      "Processing Parquet Files:   4%|▍         | 4/99 [00:18<07:15,  4.59s/it]\n",
      "Sampling Vegetation Data:   0%|          | 0/3741 [00:00<?, ?it/s]\u001b[A\n",
      "Sampling Vegetation Data:  32%|███▏      | 1201/3741 [00:00<00:00, 12007.43it/s]\u001b[A\n",
      "Sampling Vegetation Data:  65%|██████▍   | 2422/3741 [00:00<00:00, 12123.56it/s]\u001b[A\n",
      "Sampling Vegetation Data: 100%|██████████| 3741/3741 [00:00<00:00, 12081.96it/s]\u001b[A\n",
      "Processing Parquet Files:   5%|▌         | 5/99 [00:20<05:54,  3.78s/it]\n",
      "Sampling Vegetation Data: 100%|██████████| 390/390 [00:00<00:00, 12059.97it/s]\n",
      "Processing Parquet Files:   6%|▌         | 6/99 [00:22<04:52,  3.15s/it]\n",
      "Sampling Vegetation Data:   0%|          | 0/3741 [00:00<?, ?it/s]\u001b[A\n",
      "Sampling Vegetation Data:  33%|███▎      | 1218/3741 [00:00<00:00, 12178.36it/s]\u001b[A\n",
      "Sampling Vegetation Data:  65%|██████▌   | 2436/3741 [00:00<00:00, 12067.43it/s]\u001b[A\n",
      "Sampling Vegetation Data: 100%|██████████| 3741/3741 [00:00<00:00, 12022.06it/s]\u001b[A\n",
      "Processing Parquet Files:   7%|▋         | 7/99 [00:24<04:22,  2.86s/it]\n",
      "Sampling Vegetation Data:   0%|          | 0/39617 [00:00<?, ?it/s]\u001b[A\n",
      "Sampling Vegetation Data:   3%|▎         | 1196/39617 [00:00<00:03, 11952.55it/s]\u001b[A\n",
      "Sampling Vegetation Data:   6%|▌         | 2406/39617 [00:00<00:03, 12035.89it/s]\u001b[A\n",
      "Sampling Vegetation Data:   9%|▉         | 3626/39617 [00:00<00:02, 12110.06it/s]\u001b[A\n",
      "Sampling Vegetation Data:  12%|█▏        | 4847/39617 [00:00<00:02, 12148.17it/s]\u001b[A\n",
      "Sampling Vegetation Data:  15%|█▌        | 6070/39617 [00:00<00:02, 12176.77it/s]\u001b[A\n",
      "Sampling Vegetation Data:  18%|█▊        | 7288/39617 [00:00<00:02, 12148.20it/s]\u001b[A\n",
      "Sampling Vegetation Data:  21%|██▏       | 8509/39617 [00:00<00:02, 12166.88it/s]\u001b[A\n",
      "Sampling Vegetation Data:  25%|██▍       | 9730/39617 [00:00<00:02, 12178.83it/s]\u001b[A\n",
      "Sampling Vegetation Data:  28%|██▊       | 10948/39617 [00:00<00:02, 12140.62it/s]\u001b[A\n",
      "Sampling Vegetation Data:  31%|███       | 12163/39617 [00:01<00:02, 12072.17it/s]\u001b[A\n",
      "Sampling Vegetation Data:  34%|███▍      | 13371/39617 [00:01<00:02, 12013.14it/s]\u001b[A\n",
      "Sampling Vegetation Data:  37%|███▋      | 14573/39617 [00:01<00:02, 12004.60it/s]\u001b[A\n",
      "Sampling Vegetation Data:  40%|███▉      | 15780/39617 [00:01<00:01, 12023.08it/s]\u001b[A\n",
      "Sampling Vegetation Data:  43%|████▎     | 16993/39617 [00:01<00:01, 12053.75it/s]\u001b[A\n",
      "Sampling Vegetation Data:  46%|████▌     | 18199/39617 [00:01<00:01, 11993.98it/s]\u001b[A\n",
      "Sampling Vegetation Data:  49%|████▉     | 19402/39617 [00:01<00:01, 12002.57it/s]\u001b[A\n",
      "Sampling Vegetation Data:  52%|█████▏    | 20614/39617 [00:01<00:01, 12036.70it/s]\u001b[A\n",
      "Sampling Vegetation Data:  55%|█████▌    | 21825/39617 [00:01<00:01, 12058.18it/s]\u001b[A\n",
      "Sampling Vegetation Data:  58%|█████▊    | 23031/39617 [00:01<00:01, 12033.45it/s]\u001b[A\n",
      "Sampling Vegetation Data:  61%|██████    | 24244/39617 [00:02<00:01, 12061.47it/s]\u001b[A\n",
      "Sampling Vegetation Data:  64%|██████▍   | 25467/39617 [00:02<00:01, 12108.88it/s]\u001b[A\n",
      "Sampling Vegetation Data:  67%|██████▋   | 26678/39617 [00:02<00:01, 12094.22it/s]\u001b[A\n",
      "Sampling Vegetation Data:  70%|███████   | 27889/39617 [00:02<00:00, 12098.34it/s]\u001b[A\n",
      "Sampling Vegetation Data:  73%|███████▎  | 29112/39617 [00:02<00:00, 12135.06it/s]\u001b[A\n",
      "Sampling Vegetation Data:  77%|███████▋  | 30326/39617 [00:02<00:00, 12131.51it/s]\u001b[A\n",
      "Sampling Vegetation Data:  80%|███████▉  | 31542/39617 [00:02<00:00, 12138.58it/s]\u001b[A\n",
      "Sampling Vegetation Data:  83%|████████▎ | 32759/39617 [00:02<00:00, 12146.94it/s]\u001b[A\n",
      "Sampling Vegetation Data:  86%|████████▌ | 33981/39617 [00:02<00:00, 12166.85it/s]\u001b[A\n",
      "Sampling Vegetation Data:  89%|████████▉ | 35198/39617 [00:02<00:00, 12119.35it/s]\u001b[A\n",
      "Sampling Vegetation Data:  92%|█████████▏| 36410/39617 [00:03<00:00, 12077.81it/s]\u001b[A\n",
      "Sampling Vegetation Data:  95%|█████████▍| 37618/39617 [00:03<00:00, 12041.46it/s]\u001b[A\n",
      "Sampling Vegetation Data: 100%|██████████| 39617/39617 [00:03<00:00, 12073.41it/s]\u001b[A\n",
      "Processing Parquet Files:   8%|▊         | 8/99 [00:30<05:48,  3.83s/it]\n",
      "Sampling Vegetation Data:   0%|          | 0/22693 [00:00<?, ?it/s]\u001b[A\n",
      "Sampling Vegetation Data:   5%|▌         | 1213/22693 [00:00<00:01, 12129.64it/s]\u001b[A\n",
      "Sampling Vegetation Data:  11%|█         | 2434/22693 [00:00<00:01, 12172.46it/s]\u001b[A\n",
      "Sampling Vegetation Data:  16%|█▌        | 3652/22693 [00:00<00:01, 12174.85it/s]\u001b[A\n",
      "Sampling Vegetation Data:  21%|██▏       | 4870/22693 [00:00<00:01, 12053.72it/s]\u001b[A\n",
      "Sampling Vegetation Data:  27%|██▋       | 6076/22693 [00:00<00:01, 12005.05it/s]\u001b[A\n",
      "Sampling Vegetation Data:  32%|███▏      | 7297/22693 [00:00<00:01, 12071.89it/s]\u001b[A\n",
      "Sampling Vegetation Data:  38%|███▊      | 8513/22693 [00:00<00:01, 12099.71it/s]\u001b[A\n",
      "Sampling Vegetation Data:  43%|████▎     | 9724/22693 [00:00<00:01, 12091.03it/s]\u001b[A\n",
      "Sampling Vegetation Data:  48%|████▊     | 10935/22693 [00:00<00:00, 12096.35it/s]\u001b[A\n",
      "Sampling Vegetation Data:  54%|█████▎    | 12153/22693 [00:01<00:00, 12118.51it/s]\u001b[A\n",
      "Sampling Vegetation Data:  59%|█████▉    | 13379/22693 [00:01<00:00, 12159.53it/s]\u001b[A\n",
      "Sampling Vegetation Data:  64%|██████▍   | 14595/22693 [00:01<00:00, 12150.63it/s]\u001b[A\n",
      "Sampling Vegetation Data:  70%|██████▉   | 15820/22693 [00:01<00:00, 12179.15it/s]\u001b[A\n",
      "Sampling Vegetation Data:  75%|███████▌  | 17044/22693 [00:01<00:00, 12196.33it/s]\u001b[A\n",
      "Sampling Vegetation Data:  80%|████████  | 18264/22693 [00:01<00:00, 12184.91it/s]\u001b[A\n",
      "Sampling Vegetation Data:  86%|████████▌ | 19487/22693 [00:01<00:00, 12195.73it/s]\u001b[A\n",
      "Sampling Vegetation Data:  91%|█████████▏| 20716/22693 [00:01<00:00, 12221.81it/s]\u001b[A\n",
      "Sampling Vegetation Data: 100%|██████████| 22693/22693 [00:01<00:00, 12155.52it/s]\u001b[A\n",
      "Processing Parquet Files:   9%|▉         | 9/99 [00:34<05:53,  3.93s/it]\n",
      "Sampling Vegetation Data:   0%|          | 0/21472 [00:00<?, ?it/s]\u001b[A\n",
      "Sampling Vegetation Data:   6%|▌         | 1205/21472 [00:00<00:01, 12043.24it/s]\u001b[A\n",
      "Sampling Vegetation Data:  11%|█         | 2413/21472 [00:00<00:01, 12060.23it/s]\u001b[A\n",
      "Sampling Vegetation Data:  17%|█▋        | 3620/21472 [00:00<00:01, 12057.92it/s]\u001b[A\n",
      "Sampling Vegetation Data:  22%|██▏       | 4826/21472 [00:00<00:01, 12025.06it/s]\u001b[A\n",
      "Sampling Vegetation Data:  28%|██▊       | 6032/21472 [00:00<00:01, 12035.67it/s]\u001b[A\n",
      "Sampling Vegetation Data:  34%|███▎      | 7245/21472 [00:00<00:01, 12065.59it/s]\u001b[A\n",
      "Sampling Vegetation Data:  39%|███▉      | 8460/21472 [00:00<00:01, 12090.67it/s]\u001b[A\n",
      "Sampling Vegetation Data:  45%|████▌     | 9670/21472 [00:00<00:00, 12091.41it/s]\u001b[A\n",
      "Sampling Vegetation Data:  51%|█████     | 10880/21472 [00:00<00:00, 12083.95it/s]\u001b[A\n",
      "Sampling Vegetation Data:  56%|█████▋    | 12089/21472 [00:01<00:00, 12024.58it/s]\u001b[A\n",
      "Sampling Vegetation Data:  62%|██████▏   | 13295/21472 [00:01<00:00, 12033.37it/s]\u001b[A\n",
      "Sampling Vegetation Data:  68%|██████▊   | 14499/21472 [00:01<00:00, 12015.05it/s]\u001b[A\n",
      "Sampling Vegetation Data:  73%|███████▎  | 15711/21472 [00:01<00:00, 12045.25it/s]\u001b[A\n",
      "Sampling Vegetation Data:  79%|███████▉  | 16926/21472 [00:01<00:00, 12075.25it/s]\u001b[A\n",
      "Sampling Vegetation Data:  84%|████████▍ | 18141/21472 [00:01<00:00, 12095.43it/s]\u001b[A\n",
      "Sampling Vegetation Data:  90%|█████████ | 19351/21472 [00:01<00:00, 12090.47it/s]\u001b[A\n",
      "Sampling Vegetation Data: 100%|██████████| 21472/21472 [00:01<00:00, 12009.54it/s]\u001b[A\n",
      "Processing Parquet Files:  10%|█         | 10/99 [00:38<05:52,  3.97s/it]\n",
      "Sampling Vegetation Data:   0%|          | 0/19140 [00:00<?, ?it/s]\u001b[A\n",
      "Sampling Vegetation Data:   6%|▋         | 1216/19140 [00:00<00:01, 12155.64it/s]\u001b[A\n",
      "Sampling Vegetation Data:  13%|█▎        | 2432/19140 [00:00<00:01, 12122.97it/s]\u001b[A\n",
      "Sampling Vegetation Data:  19%|█▉        | 3647/19140 [00:00<00:01, 12131.58it/s]\u001b[A\n",
      "Sampling Vegetation Data:  25%|██▌       | 4861/19140 [00:00<00:01, 12061.84it/s]\u001b[A\n",
      "Sampling Vegetation Data:  32%|███▏      | 6068/19140 [00:00<00:01, 11924.81it/s]\u001b[A\n",
      "Sampling Vegetation Data:  38%|███▊      | 7274/19140 [00:00<00:00, 11967.47it/s]\u001b[A\n",
      "Sampling Vegetation Data:  44%|████▍     | 8490/19140 [00:00<00:00, 12027.71it/s]\u001b[A\n",
      "Sampling Vegetation Data:  51%|█████     | 9706/19140 [00:00<00:00, 12067.78it/s]\u001b[A\n",
      "Sampling Vegetation Data:  57%|█████▋    | 10913/19140 [00:00<00:00, 12065.70it/s]\u001b[A\n",
      "Sampling Vegetation Data:  63%|██████▎   | 12120/19140 [00:01<00:00, 12043.11it/s]\u001b[A\n",
      "Sampling Vegetation Data:  70%|██████▉   | 13336/19140 [00:01<00:00, 12075.83it/s]\u001b[A\n",
      "Sampling Vegetation Data:  76%|███████▌  | 14544/19140 [00:01<00:00, 12073.43it/s]\u001b[A\n",
      "Sampling Vegetation Data:  82%|████████▏ | 15762/19140 [00:01<00:00, 12103.56it/s]\u001b[A\n",
      "Sampling Vegetation Data:  89%|████████▊ | 16973/19140 [00:01<00:00, 12088.27it/s]\u001b[A\n",
      "Sampling Vegetation Data: 100%|██████████| 19140/19140 [00:01<00:00, 12070.91it/s]\u001b[A\n",
      "Processing Parquet Files:  11%|█         | 11/99 [00:42<05:47,  3.94s/it]\n",
      "Sampling Vegetation Data:   0%|          | 0/59036 [00:00<?, ?it/s]\u001b[A\n",
      "Sampling Vegetation Data:   2%|▏         | 1232/59036 [00:00<00:04, 12316.81it/s]\u001b[A\n",
      "Sampling Vegetation Data:   4%|▍         | 2464/59036 [00:00<00:04, 12177.64it/s]\u001b[A\n",
      "Sampling Vegetation Data:   6%|▌         | 3682/59036 [00:00<00:04, 12166.71it/s]\u001b[A\n",
      "Sampling Vegetation Data:   8%|▊         | 4899/59036 [00:00<00:04, 12117.00it/s]\u001b[A\n",
      "Sampling Vegetation Data:  10%|█         | 6120/59036 [00:00<00:04, 12149.41it/s]\u001b[A\n",
      "Sampling Vegetation Data:  12%|█▏        | 7352/59036 [00:00<00:04, 12206.65it/s]\u001b[A\n",
      "Sampling Vegetation Data:  15%|█▍        | 8573/59036 [00:00<00:04, 12157.66it/s]\u001b[A\n",
      "Sampling Vegetation Data:  17%|█▋        | 9789/59036 [00:00<00:04, 12110.34it/s]\u001b[A\n",
      "Sampling Vegetation Data:  19%|█▊        | 11013/59036 [00:00<00:03, 12148.30it/s]\u001b[A\n",
      "Sampling Vegetation Data:  21%|██        | 12243/59036 [00:01<00:03, 12192.74it/s]\u001b[A\n",
      "Sampling Vegetation Data:  23%|██▎       | 13463/59036 [00:01<00:03, 12155.43it/s]\u001b[A\n",
      "Sampling Vegetation Data:  25%|██▍       | 14679/59036 [00:01<00:03, 12146.66it/s]\u001b[A\n",
      "Sampling Vegetation Data:  27%|██▋       | 15906/59036 [00:01<00:03, 12181.37it/s]\u001b[A\n",
      "Sampling Vegetation Data:  29%|██▉       | 17136/59036 [00:01<00:03, 12214.60it/s]\u001b[A\n",
      "Sampling Vegetation Data:  31%|███       | 18360/59036 [00:01<00:03, 12219.86it/s]\u001b[A\n",
      "Sampling Vegetation Data:  33%|███▎      | 19584/59036 [00:01<00:03, 12224.87it/s]\u001b[A\n",
      "Sampling Vegetation Data:  35%|███▌      | 20815/59036 [00:01<00:03, 12248.34it/s]\u001b[A\n",
      "Sampling Vegetation Data:  37%|███▋      | 22042/59036 [00:01<00:03, 12253.72it/s]\u001b[A\n",
      "Sampling Vegetation Data:  39%|███▉      | 23268/59036 [00:01<00:02, 12237.63it/s]\u001b[A\n",
      "Sampling Vegetation Data:  41%|████▏     | 24493/59036 [00:02<00:02, 12239.18it/s]\u001b[A\n",
      "Sampling Vegetation Data:  44%|████▎     | 25724/59036 [00:02<00:02, 12258.15it/s]\u001b[A\n",
      "Sampling Vegetation Data:  46%|████▌     | 26950/59036 [00:02<00:02, 12227.51it/s]\u001b[A\n",
      "Sampling Vegetation Data:  48%|████▊     | 28173/59036 [00:02<00:02, 12169.80it/s]\u001b[A\n",
      "Sampling Vegetation Data:  50%|████▉     | 29401/59036 [00:02<00:02, 12201.51it/s]\u001b[A\n",
      "Sampling Vegetation Data:  52%|█████▏    | 30622/59036 [00:02<00:02, 12195.50it/s]\u001b[A\n",
      "Sampling Vegetation Data:  54%|█████▍    | 31842/59036 [00:02<00:02, 12156.93it/s]\u001b[A\n",
      "Sampling Vegetation Data:  56%|█████▌    | 33058/59036 [00:02<00:02, 12124.53it/s]\u001b[A\n",
      "Sampling Vegetation Data:  58%|█████▊    | 34271/59036 [00:02<00:02, 12113.24it/s]\u001b[A\n",
      "Sampling Vegetation Data:  60%|██████    | 35498/59036 [00:02<00:01, 12159.47it/s]\u001b[A\n",
      "Sampling Vegetation Data:  62%|██████▏   | 36716/59036 [00:03<00:01, 12161.93it/s]\u001b[A\n",
      "Sampling Vegetation Data:  64%|██████▍   | 37933/59036 [00:03<00:01, 12118.56it/s]\u001b[A\n",
      "Sampling Vegetation Data:  66%|██████▋   | 39145/59036 [00:03<00:01, 11920.97it/s]\u001b[A\n",
      "Sampling Vegetation Data:  68%|██████▊   | 40354/59036 [00:03<00:01, 11969.49it/s]\u001b[A\n",
      "Sampling Vegetation Data:  70%|███████   | 41568/59036 [00:03<00:01, 12017.65it/s]\u001b[A\n",
      "Sampling Vegetation Data:  72%|███████▏  | 42783/59036 [00:03<00:01, 12054.22it/s]\u001b[A\n",
      "Sampling Vegetation Data:  75%|███████▍  | 44009/59036 [00:03<00:01, 12114.70it/s]\u001b[A\n",
      "Sampling Vegetation Data:  77%|███████▋  | 45224/59036 [00:03<00:01, 12122.82it/s]\u001b[A\n",
      "Sampling Vegetation Data:  79%|███████▊  | 46437/59036 [00:03<00:01, 12101.97it/s]\u001b[A\n",
      "Sampling Vegetation Data:  81%|████████  | 47652/59036 [00:03<00:00, 12113.88it/s]\u001b[A\n",
      "Sampling Vegetation Data:  83%|████████▎ | 48882/59036 [00:04<00:00, 12167.37it/s]\u001b[A\n",
      "Sampling Vegetation Data:  85%|████████▍ | 50099/59036 [00:04<00:00, 12162.40it/s]\u001b[A\n",
      "Sampling Vegetation Data:  87%|████████▋ | 51322/59036 [00:04<00:00, 12182.42it/s]\u001b[A\n",
      "Sampling Vegetation Data:  89%|████████▉ | 52541/59036 [00:04<00:00, 12179.42it/s]\u001b[A\n",
      "Sampling Vegetation Data:  91%|█████████ | 53774/59036 [00:04<00:00, 12224.46it/s]\u001b[A\n",
      "Sampling Vegetation Data:  93%|█████████▎| 55005/59036 [00:04<00:00, 12247.52it/s]\u001b[A\n",
      "Sampling Vegetation Data:  95%|█████████▌| 56230/59036 [00:04<00:00, 12214.11it/s]\u001b[A\n",
      "Sampling Vegetation Data:  97%|█████████▋| 57452/59036 [00:04<00:00, 12133.42it/s]\u001b[A\n",
      "Sampling Vegetation Data: 100%|██████████| 59036/59036 [00:04<00:00, 12158.47it/s]\u001b[A\n",
      "Processing Parquet Files:  12%|█▏        | 12/99 [00:50<07:30,  5.18s/it]\n",
      "Sampling Vegetation Data:   0%|          | 0/16523 [00:00<?, ?it/s]\u001b[A\n",
      "Sampling Vegetation Data:   7%|▋         | 1215/16523 [00:00<00:01, 12144.45it/s]\u001b[A\n",
      "Sampling Vegetation Data:  15%|█▍        | 2430/16523 [00:00<00:01, 12090.02it/s]\u001b[A\n",
      "Sampling Vegetation Data:  22%|██▏       | 3641/16523 [00:00<00:01, 12094.96it/s]\u001b[A\n",
      "Sampling Vegetation Data:  29%|██▉       | 4861/16523 [00:00<00:00, 12134.00it/s]\u001b[A\n",
      "Sampling Vegetation Data:  37%|███▋      | 6075/16523 [00:00<00:00, 12097.90it/s]\u001b[A\n",
      "Sampling Vegetation Data:  44%|████▍     | 7289/16523 [00:00<00:00, 12111.92it/s]\u001b[A\n",
      "Sampling Vegetation Data:  51%|█████▏    | 8501/16523 [00:00<00:00, 12086.83it/s]\u001b[A\n",
      "Sampling Vegetation Data:  59%|█████▉    | 9710/16523 [00:00<00:00, 12065.45it/s]\u001b[A\n",
      "Sampling Vegetation Data:  66%|██████▌   | 10919/16523 [00:00<00:00, 12072.37it/s]\u001b[A\n",
      "Sampling Vegetation Data:  73%|███████▎  | 12127/16523 [00:01<00:00, 12040.22it/s]\u001b[A\n",
      "Sampling Vegetation Data:  81%|████████  | 13335/16523 [00:01<00:00, 12050.41it/s]\u001b[A\n",
      "Sampling Vegetation Data:  88%|████████▊ | 14549/16523 [00:01<00:00, 12076.46it/s]\u001b[A\n",
      "Sampling Vegetation Data: 100%|██████████| 16523/16523 [00:01<00:00, 12059.86it/s]\u001b[A\n",
      "Processing Parquet Files:  13%|█▎        | 13/99 [00:54<06:42,  4.69s/it]\n",
      "Sampling Vegetation Data:   0%|          | 0/13586 [00:00<?, ?it/s]\u001b[A\n",
      "Sampling Vegetation Data:   9%|▉         | 1228/13586 [00:00<00:01, 12278.34it/s]\u001b[A\n",
      "Sampling Vegetation Data:  18%|█▊        | 2456/13586 [00:00<00:00, 12245.70it/s]\u001b[A\n",
      "Sampling Vegetation Data:  27%|██▋       | 3681/13586 [00:00<00:00, 12238.06it/s]\u001b[A\n",
      "Sampling Vegetation Data:  36%|███▌      | 4905/13586 [00:00<00:00, 12214.25it/s]\u001b[A\n",
      "Sampling Vegetation Data:  45%|████▌     | 6127/13586 [00:00<00:00, 12212.22it/s]\u001b[A\n",
      "Sampling Vegetation Data:  54%|█████▍    | 7355/13586 [00:00<00:00, 12232.41it/s]\u001b[A\n",
      "Sampling Vegetation Data:  63%|██████▎   | 8584/13586 [00:00<00:00, 12248.26it/s]\u001b[A\n",
      "Sampling Vegetation Data:  72%|███████▏  | 9809/13586 [00:00<00:00, 12245.73it/s]\u001b[A\n",
      "Sampling Vegetation Data:  81%|████████  | 11034/13586 [00:00<00:00, 12242.51it/s]\u001b[A\n",
      "Sampling Vegetation Data:  90%|█████████ | 12260/13586 [00:01<00:00, 12247.00it/s]\u001b[A\n",
      "Sampling Vegetation Data: 100%|██████████| 13586/13586 [00:01<00:00, 12221.55it/s]\u001b[A\n",
      "Processing Parquet Files:  14%|█▍        | 14/99 [00:57<06:00,  4.25s/it]\n",
      "Sampling Vegetation Data:   0%|          | 0/39617 [00:00<?, ?it/s]\u001b[A\n",
      "Sampling Vegetation Data:   3%|▎         | 1219/39617 [00:00<00:03, 12187.02it/s]\u001b[A\n",
      "Sampling Vegetation Data:   6%|▌         | 2438/39617 [00:00<00:03, 12128.62it/s]\u001b[A\n",
      "Sampling Vegetation Data:   9%|▉         | 3651/39617 [00:00<00:02, 12107.46it/s]\u001b[A\n",
      "Sampling Vegetation Data:  12%|█▏        | 4862/39617 [00:00<00:02, 12108.11it/s]\u001b[A\n",
      "Sampling Vegetation Data:  15%|█▌        | 6073/39617 [00:00<00:02, 12104.12it/s]\u001b[A\n",
      "Sampling Vegetation Data:  18%|█▊        | 7284/39617 [00:00<00:02, 12091.26it/s]\u001b[A\n",
      "Sampling Vegetation Data:  21%|██▏       | 8494/39617 [00:00<00:02, 12065.43it/s]\u001b[A\n",
      "Sampling Vegetation Data:  24%|██▍       | 9703/39617 [00:00<00:02, 12069.93it/s]\u001b[A\n",
      "Sampling Vegetation Data:  28%|██▊       | 10918/39617 [00:00<00:02, 12092.50it/s]\u001b[A\n",
      "Sampling Vegetation Data:  31%|███       | 12130/39617 [00:01<00:02, 12098.54it/s]\u001b[A\n",
      "Sampling Vegetation Data:  34%|███▎      | 13340/39617 [00:01<00:02, 12022.84it/s]\u001b[A\n",
      "Sampling Vegetation Data:  37%|███▋      | 14554/39617 [00:01<00:02, 12057.79it/s]\u001b[A\n",
      "Sampling Vegetation Data:  40%|███▉      | 15765/39617 [00:01<00:01, 12071.49it/s]\u001b[A\n",
      "Sampling Vegetation Data:  43%|████▎     | 16976/39617 [00:01<00:01, 12081.35it/s]\u001b[A\n",
      "Sampling Vegetation Data:  46%|████▌     | 18189/39617 [00:01<00:01, 12094.63it/s]\u001b[A\n",
      "Sampling Vegetation Data:  49%|████▉     | 19399/39617 [00:01<00:01, 12070.43it/s]\u001b[A\n",
      "Sampling Vegetation Data:  52%|█████▏    | 20615/39617 [00:01<00:01, 12095.44it/s]\u001b[A\n",
      "Sampling Vegetation Data:  55%|█████▌    | 21829/39617 [00:01<00:01, 12108.04it/s]\u001b[A\n",
      "Sampling Vegetation Data:  58%|█████▊    | 23040/39617 [00:01<00:01, 12039.27it/s]\u001b[A\n",
      "Sampling Vegetation Data:  61%|██████    | 24245/39617 [00:02<00:01, 12039.15it/s]\u001b[A\n",
      "Sampling Vegetation Data:  64%|██████▍   | 25449/39617 [00:02<00:01, 12037.14it/s]\u001b[A\n",
      "Sampling Vegetation Data:  67%|██████▋   | 26654/39617 [00:02<00:01, 12040.75it/s]\u001b[A\n",
      "Sampling Vegetation Data:  70%|███████   | 27872/39617 [00:02<00:00, 12080.66it/s]\u001b[A\n",
      "Sampling Vegetation Data:  73%|███████▎  | 29084/39617 [00:02<00:00, 12090.67it/s]\u001b[A\n",
      "Sampling Vegetation Data:  76%|███████▋  | 30294/39617 [00:02<00:00, 12092.85it/s]\u001b[A\n",
      "Sampling Vegetation Data:  80%|███████▉  | 31504/39617 [00:02<00:00, 12088.20it/s]\u001b[A\n",
      "Sampling Vegetation Data:  83%|████████▎ | 32725/39617 [00:02<00:00, 12124.24it/s]\u001b[A\n",
      "Sampling Vegetation Data:  86%|████████▌ | 33949/39617 [00:02<00:00, 12158.59it/s]\u001b[A\n",
      "Sampling Vegetation Data:  89%|████████▉ | 35165/39617 [00:02<00:00, 12137.91it/s]\u001b[A\n",
      "Sampling Vegetation Data:  92%|█████████▏| 36380/39617 [00:03<00:00, 12139.37it/s]\u001b[A\n",
      "Sampling Vegetation Data:  95%|█████████▍| 37601/39617 [00:03<00:00, 12159.76it/s]\u001b[A\n",
      "Sampling Vegetation Data: 100%|██████████| 39617/39617 [00:03<00:00, 12090.91it/s]\u001b[A\n",
      "Processing Parquet Files:  15%|█▌        | 15/99 [01:03<06:39,  4.76s/it]\n",
      "Sampling Vegetation Data:   0%|          | 0/20022 [00:00<?, ?it/s]\u001b[A\n",
      "Sampling Vegetation Data:   6%|▌         | 1226/20022 [00:00<00:01, 12250.90it/s]\u001b[A\n",
      "Sampling Vegetation Data:  12%|█▏        | 2452/20022 [00:00<00:01, 12208.42it/s]\u001b[A\n",
      "Sampling Vegetation Data:  18%|█▊        | 3673/20022 [00:00<00:01, 12187.35it/s]\u001b[A\n",
      "Sampling Vegetation Data:  24%|██▍       | 4892/20022 [00:00<00:01, 12117.77it/s]\u001b[A\n",
      "Sampling Vegetation Data:  30%|███       | 6104/20022 [00:00<00:01, 11965.42it/s]\u001b[A\n",
      "Sampling Vegetation Data:  36%|███▋      | 7301/20022 [00:00<00:01, 11934.43it/s]\u001b[A\n",
      "Sampling Vegetation Data:  43%|████▎     | 8518/20022 [00:00<00:00, 12007.71it/s]\u001b[A\n",
      "Sampling Vegetation Data:  49%|████▊     | 9729/20022 [00:00<00:00, 12038.82it/s]\u001b[A\n",
      "Sampling Vegetation Data:  55%|█████▍    | 10934/20022 [00:00<00:00, 11954.03it/s]\u001b[A\n",
      "Sampling Vegetation Data:  61%|██████    | 12154/20022 [00:01<00:00, 12028.39it/s]\u001b[A\n",
      "Sampling Vegetation Data:  67%|██████▋   | 13372/20022 [00:01<00:00, 12072.63it/s]\u001b[A\n",
      "Sampling Vegetation Data:  73%|███████▎  | 14582/20022 [00:01<00:00, 12079.28it/s]\u001b[A\n",
      "Sampling Vegetation Data:  79%|███████▉  | 15791/20022 [00:01<00:00, 12055.37it/s]\u001b[A\n",
      "Sampling Vegetation Data:  85%|████████▍ | 16997/20022 [00:01<00:00, 12051.92it/s]\u001b[A\n",
      "Sampling Vegetation Data:  91%|█████████ | 18203/20022 [00:01<00:00, 12033.80it/s]\u001b[A\n",
      "Sampling Vegetation Data: 100%|██████████| 20022/20022 [00:01<00:00, 12046.25it/s]\u001b[A\n",
      "Processing Parquet Files:  16%|█▌        | 16/99 [01:07<06:12,  4.49s/it]\n",
      "Sampling Vegetation Data:   0%|          | 0/16508 [00:00<?, ?it/s]\u001b[A\n",
      "Sampling Vegetation Data:   7%|▋         | 1224/16508 [00:00<00:01, 12237.33it/s]\u001b[A\n",
      "Sampling Vegetation Data:  15%|█▍        | 2448/16508 [00:00<00:01, 12221.41it/s]\u001b[A\n",
      "Sampling Vegetation Data:  22%|██▏       | 3676/16508 [00:00<00:01, 12246.05it/s]\u001b[A\n",
      "Sampling Vegetation Data:  30%|██▉       | 4901/16508 [00:00<00:00, 12219.96it/s]\u001b[A\n",
      "Sampling Vegetation Data:  37%|███▋      | 6124/16508 [00:00<00:00, 12109.74it/s]\u001b[A\n",
      "Sampling Vegetation Data:  44%|████▍     | 7341/16508 [00:00<00:00, 12129.22it/s]\u001b[A\n",
      "Sampling Vegetation Data:  52%|█████▏    | 8567/16508 [00:00<00:00, 12170.44it/s]\u001b[A\n",
      "Sampling Vegetation Data:  59%|█████▉    | 9795/16508 [00:00<00:00, 12202.34it/s]\u001b[A\n",
      "Sampling Vegetation Data:  67%|██████▋   | 11016/16508 [00:00<00:00, 12161.22it/s]\u001b[A\n",
      "Sampling Vegetation Data:  74%|███████▍  | 12233/16508 [00:01<00:00, 12101.88it/s]\u001b[A\n",
      "Sampling Vegetation Data:  81%|████████▏ | 13444/16508 [00:01<00:00, 12006.24it/s]\u001b[A\n",
      "Sampling Vegetation Data:  89%|████████▉ | 14662/16508 [00:01<00:00, 12057.48it/s]\u001b[A\n",
      "Sampling Vegetation Data: 100%|██████████| 16508/16508 [00:01<00:00, 12117.63it/s]\u001b[A\n",
      "Processing Parquet Files:  17%|█▋        | 17/99 [01:10<05:45,  4.21s/it]\n",
      "Sampling Vegetation Data:   0%|          | 0/23547 [00:00<?, ?it/s]\u001b[A\n",
      "Sampling Vegetation Data:   5%|▌         | 1222/23547 [00:00<00:01, 12213.23it/s]\u001b[A\n",
      "Sampling Vegetation Data:  10%|█         | 2444/23547 [00:00<00:01, 12187.67it/s]\u001b[A\n",
      "Sampling Vegetation Data:  16%|█▌        | 3663/23547 [00:00<00:01, 12180.51it/s]\u001b[A\n",
      "Sampling Vegetation Data:  21%|██        | 4882/23547 [00:00<00:01, 12159.33it/s]\u001b[A\n",
      "Sampling Vegetation Data:  26%|██▌       | 6109/23547 [00:00<00:01, 12196.04it/s]\u001b[A\n",
      "Sampling Vegetation Data:  31%|███       | 7331/23547 [00:00<00:01, 12203.77it/s]\u001b[A\n",
      "Sampling Vegetation Data:  36%|███▋      | 8552/23547 [00:00<00:01, 12185.08it/s]\u001b[A\n",
      "Sampling Vegetation Data:  41%|████▏     | 9771/23547 [00:00<00:01, 12147.05it/s]\u001b[A\n",
      "Sampling Vegetation Data:  47%|████▋     | 10986/23547 [00:00<00:01, 12107.74it/s]\u001b[A\n",
      "Sampling Vegetation Data:  52%|█████▏    | 12198/23547 [00:01<00:00, 12109.05it/s]\u001b[A\n",
      "Sampling Vegetation Data:  57%|█████▋    | 13413/23547 [00:01<00:00, 12120.82it/s]\u001b[A\n",
      "Sampling Vegetation Data:  62%|██████▏   | 14626/23547 [00:01<00:00, 12060.83it/s]\u001b[A\n",
      "Sampling Vegetation Data:  67%|██████▋   | 15833/23547 [00:01<00:00, 12052.92it/s]\u001b[A\n",
      "Sampling Vegetation Data:  72%|███████▏  | 17050/23547 [00:01<00:00, 12085.37it/s]\u001b[A\n",
      "Sampling Vegetation Data:  78%|███████▊  | 18264/23547 [00:01<00:00, 12099.23it/s]\u001b[A\n",
      "Sampling Vegetation Data:  83%|████████▎ | 19480/23547 [00:01<00:00, 12116.35it/s]\u001b[A\n",
      "Sampling Vegetation Data:  88%|████████▊ | 20692/23547 [00:01<00:00, 12100.05it/s]\u001b[A\n",
      "Sampling Vegetation Data:  93%|█████████▎| 21921/23547 [00:01<00:00, 12156.31it/s]\u001b[A\n",
      "Sampling Vegetation Data: 100%|██████████| 23547/23547 [00:01<00:00, 12109.62it/s]\u001b[A\n",
      "Processing Parquet Files:  18%|█▊        | 18/99 [01:14<05:42,  4.23s/it]\n",
      "Sampling Vegetation Data:   0%|          | 0/16523 [00:00<?, ?it/s]\u001b[A\n",
      "Sampling Vegetation Data:   7%|▋         | 1212/16523 [00:00<00:01, 12117.82it/s]\u001b[A\n",
      "Sampling Vegetation Data:  15%|█▍        | 2424/16523 [00:00<00:01, 12080.04it/s]\u001b[A\n",
      "Sampling Vegetation Data:  22%|██▏       | 3637/16523 [00:00<00:01, 12098.30it/s]\u001b[A\n",
      "Sampling Vegetation Data:  29%|██▉       | 4850/16523 [00:00<00:00, 12108.66it/s]\u001b[A\n",
      "Sampling Vegetation Data:  37%|███▋      | 6061/16523 [00:00<00:00, 12083.52it/s]\u001b[A\n",
      "Sampling Vegetation Data:  44%|████▍     | 7270/16523 [00:00<00:00, 12071.38it/s]\u001b[A\n",
      "Sampling Vegetation Data:  51%|█████▏    | 8478/16523 [00:00<00:00, 12036.78it/s]\u001b[A\n",
      "Sampling Vegetation Data:  59%|█████▊    | 9695/16523 [00:00<00:00, 12077.62it/s]\u001b[A\n",
      "Sampling Vegetation Data:  66%|██████▌   | 10903/16523 [00:00<00:00, 12066.45it/s]\u001b[A\n",
      "Sampling Vegetation Data:  73%|███████▎  | 12115/16523 [00:01<00:00, 12082.67it/s]\u001b[A\n",
      "Sampling Vegetation Data:  81%|████████  | 13328/16523 [00:01<00:00, 12095.11it/s]\u001b[A\n",
      "Sampling Vegetation Data:  88%|████████▊ | 14539/16523 [00:01<00:00, 12097.94it/s]\u001b[A\n",
      "Sampling Vegetation Data: 100%|██████████| 16523/16523 [00:01<00:00, 12060.27it/s]\u001b[A\n",
      "Processing Parquet Files:  19%|█▉        | 19/99 [01:18<05:24,  4.06s/it]\n",
      "Sampling Vegetation Data:   0%|          | 0/22693 [00:00<?, ?it/s]\u001b[A\n",
      "Sampling Vegetation Data:   5%|▌         | 1215/22693 [00:00<00:01, 12141.93it/s]\u001b[A\n",
      "Sampling Vegetation Data:  11%|█         | 2430/22693 [00:00<00:01, 12131.89it/s]\u001b[A\n",
      "Sampling Vegetation Data:  16%|█▌        | 3652/22693 [00:00<00:01, 12169.51it/s]\u001b[A\n",
      "Sampling Vegetation Data:  21%|██▏       | 4869/22693 [00:00<00:01, 12107.43it/s]\u001b[A\n",
      "Sampling Vegetation Data:  27%|██▋       | 6080/22693 [00:00<00:01, 12059.08it/s]\u001b[A\n",
      "Sampling Vegetation Data:  32%|███▏      | 7286/22693 [00:00<00:01, 11953.45it/s]\u001b[A\n",
      "Sampling Vegetation Data:  37%|███▋      | 8500/22693 [00:00<00:01, 12011.77it/s]\u001b[A\n",
      "Sampling Vegetation Data:  43%|████▎     | 9706/22693 [00:00<00:01, 12026.56it/s]\u001b[A\n",
      "Sampling Vegetation Data:  48%|████▊     | 10909/22693 [00:00<00:00, 12023.46it/s]\u001b[A\n",
      "Sampling Vegetation Data:  53%|█████▎    | 12112/22693 [00:01<00:00, 12014.84it/s]\u001b[A\n",
      "Sampling Vegetation Data:  59%|█████▊    | 13320/22693 [00:01<00:00, 12034.05it/s]\u001b[A\n",
      "Sampling Vegetation Data:  64%|██████▍   | 14535/22693 [00:01<00:00, 12067.53it/s]\u001b[A\n",
      "Sampling Vegetation Data:  69%|██████▉   | 15743/22693 [00:01<00:00, 12070.45it/s]\u001b[A\n",
      "Sampling Vegetation Data:  75%|███████▍  | 16960/22693 [00:01<00:00, 12100.23it/s]\u001b[A\n",
      "Sampling Vegetation Data:  80%|████████  | 18183/22693 [00:01<00:00, 12135.77it/s]\u001b[A\n",
      "Sampling Vegetation Data:  85%|████████▌ | 19397/22693 [00:01<00:00, 12127.85it/s]\u001b[A\n",
      "Sampling Vegetation Data:  91%|█████████ | 20614/22693 [00:01<00:00, 12137.50it/s]\u001b[A\n",
      "Sampling Vegetation Data: 100%|██████████| 22693/22693 [00:01<00:00, 12086.31it/s]\u001b[A\n",
      "Processing Parquet Files:  20%|██        | 20/99 [01:22<05:23,  4.10s/it]\n",
      "Sampling Vegetation Data:   0%|          | 0/18780 [00:00<?, ?it/s]\u001b[A\n",
      "Sampling Vegetation Data:   7%|▋         | 1222/18780 [00:00<00:01, 12219.08it/s]\u001b[A\n",
      "Sampling Vegetation Data:  13%|█▎        | 2444/18780 [00:00<00:01, 12209.83it/s]\u001b[A\n",
      "Sampling Vegetation Data:  20%|█▉        | 3667/18780 [00:00<00:01, 12218.23it/s]\u001b[A\n",
      "Sampling Vegetation Data:  26%|██▌       | 4889/18780 [00:00<00:01, 12195.22it/s]\u001b[A\n",
      "Sampling Vegetation Data:  33%|███▎      | 6109/18780 [00:00<00:01, 12193.89it/s]\u001b[A\n",
      "Sampling Vegetation Data:  39%|███▉      | 7329/18780 [00:00<00:00, 12168.22it/s]\u001b[A\n",
      "Sampling Vegetation Data:  46%|████▌     | 8547/18780 [00:00<00:00, 12171.46it/s]\u001b[A\n",
      "Sampling Vegetation Data:  52%|█████▏    | 9765/18780 [00:00<00:00, 12124.44it/s]\u001b[A\n",
      "Sampling Vegetation Data:  58%|█████▊    | 10978/18780 [00:00<00:00, 12105.14it/s]\u001b[A\n",
      "Sampling Vegetation Data:  65%|██████▍   | 12189/18780 [00:01<00:00, 12096.40it/s]\u001b[A\n",
      "Sampling Vegetation Data:  71%|███████▏  | 13399/18780 [00:01<00:00, 12082.45it/s]\u001b[A\n",
      "Sampling Vegetation Data:  78%|███████▊  | 14608/18780 [00:01<00:00, 12065.31it/s]\u001b[A\n",
      "Sampling Vegetation Data:  84%|████████▍ | 15815/18780 [00:01<00:00, 12040.63it/s]\u001b[A\n",
      "Sampling Vegetation Data:  91%|█████████ | 17020/18780 [00:01<00:00, 12035.04it/s]\u001b[A\n",
      "Sampling Vegetation Data: 100%|██████████| 18780/18780 [00:01<00:00, 12094.65it/s]\u001b[A\n",
      "Processing Parquet Files:  21%|██        | 21/99 [01:26<05:12,  4.00s/it]\n",
      "Sampling Vegetation Data:   0%|          | 0/14404 [00:00<?, ?it/s]\u001b[A\n",
      "Sampling Vegetation Data:   8%|▊         | 1223/14404 [00:00<00:01, 12225.70it/s]\u001b[A\n",
      "Sampling Vegetation Data:  17%|█▋        | 2454/14404 [00:00<00:00, 12269.83it/s]\u001b[A\n",
      "Sampling Vegetation Data:  26%|██▌       | 3682/14404 [00:00<00:00, 12273.82it/s]\u001b[A\n",
      "Sampling Vegetation Data:  34%|███▍      | 4910/14404 [00:00<00:00, 12230.46it/s]\u001b[A\n",
      "Sampling Vegetation Data:  43%|████▎     | 6134/14404 [00:00<00:00, 12192.79it/s]\u001b[A\n",
      "Sampling Vegetation Data:  51%|█████     | 7354/14404 [00:00<00:00, 12184.84it/s]\u001b[A\n",
      "Sampling Vegetation Data:  60%|█████▉    | 8575/14404 [00:00<00:00, 12192.90it/s]\u001b[A\n",
      "Sampling Vegetation Data:  68%|██████▊   | 9803/14404 [00:00<00:00, 12217.63it/s]\u001b[A\n",
      "Sampling Vegetation Data:  77%|███████▋  | 11025/14404 [00:00<00:00, 12203.52it/s]\u001b[A\n",
      "Sampling Vegetation Data:  85%|████████▌ | 12246/14404 [00:01<00:00, 12192.32it/s]\u001b[A\n",
      "Sampling Vegetation Data: 100%|██████████| 14404/14404 [00:01<00:00, 12188.58it/s]\u001b[A\n",
      "Processing Parquet Files:  22%|██▏       | 22/99 [01:29<04:52,  3.80s/it]\n",
      "Sampling Vegetation Data:   0%|          | 0/23547 [00:00<?, ?it/s]\u001b[A\n",
      "Sampling Vegetation Data:   5%|▌         | 1216/23547 [00:00<00:01, 12150.42it/s]\u001b[A\n",
      "Sampling Vegetation Data:  10%|█         | 2445/23547 [00:00<00:01, 12229.01it/s]\u001b[A\n",
      "Sampling Vegetation Data:  16%|█▌        | 3671/23547 [00:00<00:01, 12239.23it/s]\u001b[A\n",
      "Sampling Vegetation Data:  21%|██        | 4895/23547 [00:00<00:01, 12226.28it/s]\u001b[A\n",
      "Sampling Vegetation Data:  26%|██▌       | 6118/23547 [00:00<00:01, 12218.02it/s]\u001b[A\n",
      "Sampling Vegetation Data:  31%|███       | 7340/23547 [00:00<00:01, 12213.19it/s]\u001b[A\n",
      "Sampling Vegetation Data:  36%|███▋      | 8562/23547 [00:00<00:01, 12177.27it/s]\u001b[A\n",
      "Sampling Vegetation Data:  42%|████▏     | 9780/23547 [00:00<00:01, 12090.40it/s]\u001b[A\n",
      "Sampling Vegetation Data:  47%|████▋     | 10993/23547 [00:00<00:01, 12100.18it/s]\u001b[A\n",
      "Sampling Vegetation Data:  52%|█████▏    | 12204/23547 [00:01<00:00, 12103.00it/s]\u001b[A\n",
      "Sampling Vegetation Data:  57%|█████▋    | 13415/23547 [00:01<00:00, 12088.24it/s]\u001b[A\n",
      "Sampling Vegetation Data:  62%|██████▏   | 14624/23547 [00:01<00:00, 12015.06it/s]\u001b[A\n",
      "Sampling Vegetation Data:  67%|██████▋   | 15826/23547 [00:01<00:00, 12001.01it/s]\u001b[A\n",
      "Sampling Vegetation Data:  72%|███████▏  | 17027/23547 [00:01<00:00, 11999.58it/s]\u001b[A\n",
      "Sampling Vegetation Data:  77%|███████▋  | 18234/23547 [00:01<00:00, 12017.25it/s]\u001b[A\n",
      "Sampling Vegetation Data:  83%|████████▎ | 19436/23547 [00:01<00:00, 11992.61it/s]\u001b[A\n",
      "Sampling Vegetation Data:  88%|████████▊ | 20636/23547 [00:01<00:00, 11952.74it/s]\u001b[A\n",
      "Sampling Vegetation Data:  93%|█████████▎| 21852/23547 [00:01<00:00, 12012.73it/s]\u001b[A\n",
      "Sampling Vegetation Data: 100%|██████████| 23547/23547 [00:01<00:00, 12079.42it/s]\u001b[A\n",
      "Processing Parquet Files:  23%|██▎       | 23/99 [01:34<05:01,  3.96s/it]\n",
      "Sampling Vegetation Data:   0%|          | 0/39617 [00:00<?, ?it/s]\u001b[A\n",
      "Sampling Vegetation Data:   3%|▎         | 1197/39617 [00:00<00:03, 11968.41it/s]\u001b[A\n",
      "Sampling Vegetation Data:   6%|▌         | 2396/39617 [00:00<00:03, 11978.78it/s]\u001b[A\n",
      "Sampling Vegetation Data:   9%|▉         | 3606/39617 [00:00<00:02, 12033.14it/s]\u001b[A\n",
      "Sampling Vegetation Data:  12%|█▏        | 4810/39617 [00:00<00:02, 12007.39it/s]\u001b[A\n",
      "Sampling Vegetation Data:  15%|█▌        | 6029/39617 [00:00<00:02, 12069.19it/s]\u001b[A\n",
      "Sampling Vegetation Data:  18%|█▊        | 7252/39617 [00:00<00:02, 12120.62it/s]\u001b[A\n",
      "Sampling Vegetation Data:  21%|██▏       | 8465/39617 [00:00<00:02, 12103.91it/s]\u001b[A\n",
      "Sampling Vegetation Data:  24%|██▍       | 9677/39617 [00:00<00:02, 12107.62it/s]\u001b[A\n",
      "Sampling Vegetation Data:  28%|██▊       | 10903/39617 [00:00<00:02, 12154.74it/s]\u001b[A\n",
      "Sampling Vegetation Data:  31%|███       | 12123/39617 [00:01<00:02, 12167.92it/s]\u001b[A\n",
      "Sampling Vegetation Data:  34%|███▎      | 13340/39617 [00:01<00:02, 12123.20it/s]\u001b[A\n",
      "Sampling Vegetation Data:  37%|███▋      | 14553/39617 [00:01<00:02, 12084.93it/s]\u001b[A\n",
      "Sampling Vegetation Data:  40%|███▉      | 15776/39617 [00:01<00:01, 12126.84it/s]\u001b[A\n",
      "Sampling Vegetation Data:  43%|████▎     | 16995/39617 [00:01<00:01, 12145.67it/s]\u001b[A\n",
      "Sampling Vegetation Data:  46%|████▌     | 18210/39617 [00:01<00:01, 12146.87it/s]\u001b[A\n",
      "Sampling Vegetation Data:  49%|████▉     | 19428/39617 [00:01<00:01, 12154.25it/s]\u001b[A\n",
      "Sampling Vegetation Data:  52%|█████▏    | 20650/39617 [00:01<00:01, 12171.69it/s]\u001b[A\n",
      "Sampling Vegetation Data:  55%|█████▌    | 21879/39617 [00:01<00:01, 12204.97it/s]\u001b[A\n",
      "Sampling Vegetation Data:  58%|█████▊    | 23100/39617 [00:01<00:01, 11948.47it/s]\u001b[A\n",
      "Sampling Vegetation Data:  61%|██████▏   | 24297/39617 [00:02<00:01, 11918.28it/s]\u001b[A\n",
      "Sampling Vegetation Data:  64%|██████▍   | 25513/39617 [00:02<00:01, 11988.19it/s]\u001b[A\n",
      "Sampling Vegetation Data:  67%|██████▋   | 26713/39617 [00:02<00:01, 11957.07it/s]\u001b[A\n",
      "Sampling Vegetation Data:  70%|███████   | 27921/39617 [00:02<00:00, 11992.21it/s]\u001b[A\n",
      "Sampling Vegetation Data:  74%|███████▎  | 29122/39617 [00:02<00:00, 11996.96it/s]\u001b[A\n",
      "Sampling Vegetation Data:  77%|███████▋  | 30322/39617 [00:02<00:00, 11986.79it/s]\u001b[A\n",
      "Sampling Vegetation Data:  80%|███████▉  | 31545/39617 [00:02<00:00, 12057.01it/s]\u001b[A\n",
      "Sampling Vegetation Data:  83%|████████▎ | 32759/39617 [00:02<00:00, 12081.06it/s]\u001b[A\n",
      "Sampling Vegetation Data:  86%|████████▌ | 33975/39617 [00:02<00:00, 12102.45it/s]\u001b[A\n",
      "Sampling Vegetation Data:  89%|████████▉ | 35192/39617 [00:02<00:00, 12119.88it/s]\u001b[A\n",
      "Sampling Vegetation Data:  92%|█████████▏| 36417/39617 [00:03<00:00, 12156.68it/s]\u001b[A\n",
      "Sampling Vegetation Data:  95%|█████████▍| 37633/39617 [00:03<00:00, 12119.84it/s]\u001b[A\n",
      "Sampling Vegetation Data: 100%|██████████| 39617/39617 [00:03<00:00, 12077.39it/s]\u001b[A\n",
      "Processing Parquet Files:  24%|██▍       | 24/99 [01:40<05:40,  4.54s/it]\n",
      "Sampling Vegetation Data:   0%|          | 0/16523 [00:00<?, ?it/s]\u001b[A\n",
      "Sampling Vegetation Data:   7%|▋         | 1223/16523 [00:00<00:01, 12226.72it/s]\u001b[A\n",
      "Sampling Vegetation Data:  15%|█▍        | 2446/16523 [00:00<00:01, 12184.64it/s]\u001b[A\n",
      "Sampling Vegetation Data:  22%|██▏       | 3666/16523 [00:00<00:01, 12191.02it/s]\u001b[A\n",
      "Sampling Vegetation Data:  30%|██▉       | 4886/16523 [00:00<00:00, 11819.96it/s]\u001b[A\n",
      "Sampling Vegetation Data:  37%|███▋      | 6080/16523 [00:00<00:00, 11859.09it/s]\u001b[A\n",
      "Sampling Vegetation Data:  44%|████▍     | 7298/16523 [00:00<00:00, 11963.96it/s]\u001b[A\n",
      "Sampling Vegetation Data:  52%|█████▏    | 8514/16523 [00:00<00:00, 12024.30it/s]\u001b[A\n",
      "Sampling Vegetation Data:  59%|█████▉    | 9735/16523 [00:00<00:00, 12080.96it/s]\u001b[A\n",
      "Sampling Vegetation Data:  66%|██████▋   | 10948/16523 [00:00<00:00, 12094.42it/s]\u001b[A\n",
      "Sampling Vegetation Data:  74%|███████▎  | 12166/16523 [00:01<00:00, 12120.03it/s]\u001b[A\n",
      "Sampling Vegetation Data:  81%|████████  | 13380/16523 [00:01<00:00, 12123.06it/s]\u001b[A\n",
      "Sampling Vegetation Data:  88%|████████▊ | 14596/16523 [00:01<00:00, 12132.11it/s]\u001b[A\n",
      "Sampling Vegetation Data: 100%|██████████| 16523/16523 [00:01<00:00, 12030.83it/s]\u001b[A\n",
      "Processing Parquet Files:  25%|██▌       | 25/99 [01:43<05:15,  4.27s/it]\n",
      "Sampling Vegetation Data:   0%|          | 0/26356 [00:00<?, ?it/s]\u001b[A\n",
      "Sampling Vegetation Data:   5%|▍         | 1228/26356 [00:00<00:02, 12266.53it/s]\u001b[A\n",
      "Sampling Vegetation Data:   9%|▉         | 2455/26356 [00:00<00:01, 12241.79it/s]\u001b[A\n",
      "Sampling Vegetation Data:  14%|█▍        | 3680/26356 [00:00<00:01, 12215.23it/s]\u001b[A\n",
      "Sampling Vegetation Data:  19%|█▊        | 4902/26356 [00:00<00:01, 12170.11it/s]\u001b[A\n",
      "Sampling Vegetation Data:  23%|██▎       | 6122/26356 [00:00<00:01, 12177.59it/s]\u001b[A\n",
      "Sampling Vegetation Data:  28%|██▊       | 7344/26356 [00:00<00:01, 12189.68it/s]\u001b[A\n",
      "Sampling Vegetation Data:  32%|███▏      | 8563/26356 [00:00<00:01, 12095.24it/s]\u001b[A\n",
      "Sampling Vegetation Data:  37%|███▋      | 9773/26356 [00:00<00:01, 12051.24it/s]\u001b[A\n",
      "Sampling Vegetation Data:  42%|████▏     | 10979/26356 [00:00<00:01, 12036.91it/s]\u001b[A\n",
      "Sampling Vegetation Data:  46%|████▌     | 12185/26356 [00:01<00:01, 12042.54it/s]\u001b[A\n",
      "Sampling Vegetation Data:  51%|█████     | 13390/26356 [00:01<00:01, 12018.75it/s]\u001b[A\n",
      "Sampling Vegetation Data:  55%|█████▌    | 14592/26356 [00:01<00:00, 12003.52it/s]\u001b[A\n",
      "Sampling Vegetation Data:  60%|█████▉    | 15805/26356 [00:01<00:00, 12039.10it/s]\u001b[A\n",
      "Sampling Vegetation Data:  65%|██████▍   | 17014/26356 [00:01<00:00, 12051.62it/s]\u001b[A\n",
      "Sampling Vegetation Data:  69%|██████▉   | 18220/26356 [00:01<00:00, 12015.17it/s]\u001b[A\n",
      "Sampling Vegetation Data:  74%|███████▎  | 19423/26356 [00:01<00:00, 12019.52it/s]\u001b[A\n",
      "Sampling Vegetation Data:  78%|███████▊  | 20625/26356 [00:01<00:00, 12005.45it/s]\u001b[A\n",
      "Sampling Vegetation Data:  83%|████████▎ | 21826/26356 [00:01<00:00, 12000.91it/s]\u001b[A\n",
      "Sampling Vegetation Data:  87%|████████▋ | 23027/26356 [00:01<00:00, 11974.51it/s]\u001b[A\n",
      "Sampling Vegetation Data:  92%|█████████▏| 24228/26356 [00:02<00:00, 11983.70it/s]\u001b[A\n",
      "Sampling Vegetation Data: 100%|██████████| 26356/26356 [00:02<00:00, 12059.46it/s]\u001b[A\n",
      "Processing Parquet Files:  26%|██▋       | 26/99 [01:48<05:19,  4.37s/it]\n",
      "Sampling Vegetation Data:   0%|          | 0/47970 [00:00<?, ?it/s]\u001b[A\n",
      "Sampling Vegetation Data:   3%|▎         | 1223/47970 [00:00<00:03, 12222.20it/s]\u001b[A\n",
      "Sampling Vegetation Data:   5%|▌         | 2451/47970 [00:00<00:03, 12255.01it/s]\u001b[A\n",
      "Sampling Vegetation Data:   8%|▊         | 3677/47970 [00:00<00:03, 12235.35it/s]\u001b[A\n",
      "Sampling Vegetation Data:  10%|█         | 4901/47970 [00:00<00:03, 12199.19it/s]\u001b[A\n",
      "Sampling Vegetation Data:  13%|█▎        | 6121/47970 [00:00<00:03, 12062.60it/s]\u001b[A\n",
      "Sampling Vegetation Data:  15%|█▌        | 7329/47970 [00:00<00:03, 12066.60it/s]\u001b[A\n",
      "Sampling Vegetation Data:  18%|█▊        | 8536/47970 [00:00<00:03, 12026.46it/s]\u001b[A\n",
      "Sampling Vegetation Data:  20%|██        | 9752/47970 [00:00<00:03, 12065.82it/s]\u001b[A\n",
      "Sampling Vegetation Data:  23%|██▎       | 10959/47970 [00:00<00:03, 12010.79it/s]\u001b[A\n",
      "Sampling Vegetation Data:  25%|██▌       | 12180/47970 [00:01<00:02, 12069.29it/s]\u001b[A\n",
      "Sampling Vegetation Data:  28%|██▊       | 13390/47970 [00:01<00:02, 12078.12it/s]\u001b[A\n",
      "Sampling Vegetation Data:  30%|███       | 14604/47970 [00:01<00:02, 12095.91it/s]\u001b[A\n",
      "Sampling Vegetation Data:  33%|███▎      | 15814/47970 [00:01<00:02, 12076.06it/s]\u001b[A\n",
      "Sampling Vegetation Data:  35%|███▌      | 17022/47970 [00:01<00:02, 11969.27it/s]\u001b[A\n",
      "Sampling Vegetation Data:  38%|███▊      | 18239/47970 [00:01<00:02, 12026.87it/s]\u001b[A\n",
      "Sampling Vegetation Data:  41%|████      | 19458/47970 [00:01<00:02, 12073.32it/s]\u001b[A\n",
      "Sampling Vegetation Data:  43%|████▎     | 20669/47970 [00:01<00:02, 12083.50it/s]\u001b[A\n",
      "Sampling Vegetation Data:  46%|████▌     | 21878/47970 [00:01<00:02, 12042.87it/s]\u001b[A\n",
      "Sampling Vegetation Data:  48%|████▊     | 23089/47970 [00:01<00:02, 12061.03it/s]\u001b[A\n",
      "Sampling Vegetation Data:  51%|█████     | 24311/47970 [00:02<00:01, 12106.79it/s]\u001b[A\n",
      "Sampling Vegetation Data:  53%|█████▎    | 25527/47970 [00:02<00:01, 12120.75it/s]\u001b[A\n",
      "Sampling Vegetation Data:  56%|█████▌    | 26740/47970 [00:02<00:01, 12113.25it/s]\u001b[A\n",
      "Sampling Vegetation Data:  58%|█████▊    | 27959/47970 [00:02<00:01, 12136.10it/s]\u001b[A\n",
      "Sampling Vegetation Data:  61%|██████    | 29173/47970 [00:02<00:01, 12108.01it/s]\u001b[A\n",
      "Sampling Vegetation Data:  63%|██████▎   | 30392/47970 [00:02<00:01, 12130.83it/s]\u001b[A\n",
      "Sampling Vegetation Data:  66%|██████▌   | 31606/47970 [00:02<00:01, 12129.76it/s]\u001b[A\n",
      "Sampling Vegetation Data:  68%|██████▊   | 32824/47970 [00:02<00:01, 12144.17it/s]\u001b[A\n",
      "Sampling Vegetation Data:  71%|███████   | 34048/47970 [00:02<00:01, 12170.49it/s]\u001b[A\n",
      "Sampling Vegetation Data:  74%|███████▎  | 35266/47970 [00:02<00:01, 12159.76it/s]\u001b[A\n",
      "Sampling Vegetation Data:  76%|███████▌  | 36501/47970 [00:03<00:00, 12216.50it/s]\u001b[A\n",
      "Sampling Vegetation Data:  79%|███████▊  | 37724/47970 [00:03<00:00, 12219.85it/s]\u001b[A\n",
      "Sampling Vegetation Data:  81%|████████  | 38958/47970 [00:03<00:00, 12253.64it/s]\u001b[A\n",
      "Sampling Vegetation Data:  84%|████████▍ | 40185/47970 [00:03<00:00, 12256.37it/s]\u001b[A\n",
      "Sampling Vegetation Data:  86%|████████▋ | 41411/47970 [00:03<00:00, 12255.67it/s]\u001b[A\n",
      "Sampling Vegetation Data:  89%|████████▉ | 42639/47970 [00:03<00:00, 12262.64it/s]\u001b[A\n",
      "Sampling Vegetation Data:  91%|█████████▏| 43866/47970 [00:03<00:00, 12238.45it/s]\u001b[A\n",
      "Sampling Vegetation Data:  94%|█████████▍| 45095/47970 [00:03<00:00, 12252.17it/s]\u001b[A\n",
      "Sampling Vegetation Data:  97%|█████████▋| 46330/47970 [00:03<00:00, 12279.72it/s]\u001b[A\n",
      "Sampling Vegetation Data: 100%|██████████| 47970/47970 [00:03<00:00, 12133.82it/s]\u001b[A\n",
      "Processing Parquet Files:  27%|██▋       | 27/99 [01:55<06:06,  5.09s/it]\n",
      "Sampling Vegetation Data:   0%|          | 0/13586 [00:00<?, ?it/s]\u001b[A\n",
      "Sampling Vegetation Data:   9%|▉         | 1212/13586 [00:00<00:01, 12117.35it/s]\u001b[A\n",
      "Sampling Vegetation Data:  18%|█▊        | 2426/13586 [00:00<00:00, 12125.97it/s]\u001b[A\n",
      "Sampling Vegetation Data:  27%|██▋       | 3652/13586 [00:00<00:00, 12183.83it/s]\u001b[A\n",
      "Sampling Vegetation Data:  36%|███▌      | 4871/13586 [00:00<00:00, 12136.31it/s]\u001b[A\n",
      "Sampling Vegetation Data:  45%|████▍     | 6085/13586 [00:00<00:00, 11884.79it/s]\u001b[A\n",
      "Sampling Vegetation Data:  54%|█████▎    | 7294/13586 [00:00<00:00, 11950.60it/s]\u001b[A\n",
      "Sampling Vegetation Data:  63%|██████▎   | 8516/13586 [00:00<00:00, 12036.00it/s]\u001b[A\n",
      "Sampling Vegetation Data:  72%|███████▏  | 9725/13586 [00:00<00:00, 12050.71it/s]\u001b[A\n",
      "Sampling Vegetation Data:  80%|████████  | 10934/13586 [00:00<00:00, 12061.35it/s]\u001b[A\n",
      "Sampling Vegetation Data:  89%|████████▉ | 12141/13586 [00:01<00:00, 12028.65it/s]\u001b[A\n",
      "Sampling Vegetation Data: 100%|██████████| 13586/13586 [00:01<00:00, 11989.80it/s]\u001b[A\n",
      "Processing Parquet Files:  28%|██▊       | 28/99 [01:58<05:22,  4.55s/it]\n",
      "Sampling Vegetation Data:   0%|          | 0/16508 [00:00<?, ?it/s]\u001b[A\n",
      "Sampling Vegetation Data:   7%|▋         | 1230/16508 [00:00<00:01, 12293.68it/s]\u001b[A\n",
      "Sampling Vegetation Data:  15%|█▍        | 2460/16508 [00:00<00:01, 12200.61it/s]\u001b[A\n",
      "Sampling Vegetation Data:  22%|██▏       | 3681/16508 [00:00<00:01, 12200.06it/s]\u001b[A\n",
      "Sampling Vegetation Data:  30%|██▉       | 4902/16508 [00:00<00:00, 12194.13it/s]\u001b[A\n",
      "Sampling Vegetation Data:  37%|███▋      | 6122/16508 [00:00<00:00, 12181.52it/s]\u001b[A\n",
      "Sampling Vegetation Data:  45%|████▍     | 7348/16508 [00:00<00:00, 12207.05it/s]\u001b[A\n",
      "Sampling Vegetation Data:  52%|█████▏    | 8576/16508 [00:00<00:00, 12230.64it/s]\u001b[A\n",
      "Sampling Vegetation Data:  59%|█████▉    | 9800/16508 [00:00<00:00, 12127.30it/s]\u001b[A\n",
      "Sampling Vegetation Data:  67%|██████▋   | 11013/16508 [00:00<00:00, 12036.67it/s]\u001b[A\n",
      "Sampling Vegetation Data:  74%|███████▍  | 12230/16508 [00:01<00:00, 12074.82it/s]\u001b[A\n",
      "Sampling Vegetation Data:  81%|████████▏ | 13438/16508 [00:01<00:00, 12073.82it/s]\u001b[A\n",
      "Sampling Vegetation Data:  89%|████████▉ | 14654/16508 [00:01<00:00, 12099.70it/s]\u001b[A\n",
      "Sampling Vegetation Data: 100%|██████████| 16508/16508 [00:01<00:00, 12124.73it/s]\u001b[A\n",
      "Processing Parquet Files:  29%|██▉       | 29/99 [02:01<04:56,  4.24s/it]\n",
      "Sampling Vegetation Data: 100%|██████████| 389/389 [00:00<00:00, 11859.25it/s]\n",
      "Processing Parquet Files:  30%|███       | 30/99 [02:03<04:04,  3.54s/it]\n",
      "Sampling Vegetation Data:   0%|          | 0/49436 [00:00<?, ?it/s]\u001b[A\n",
      "Sampling Vegetation Data:   2%|▏         | 1212/49436 [00:00<00:03, 12114.38it/s]\u001b[A\n",
      "Sampling Vegetation Data:   5%|▍         | 2424/49436 [00:00<00:03, 12050.04it/s]\u001b[A\n",
      "Sampling Vegetation Data:   7%|▋         | 3630/49436 [00:00<00:03, 12027.21it/s]\u001b[A\n",
      "Sampling Vegetation Data:  10%|▉         | 4838/49436 [00:00<00:03, 12044.87it/s]\u001b[A\n",
      "Sampling Vegetation Data:  12%|█▏        | 6049/49436 [00:00<00:03, 12065.70it/s]\u001b[A\n",
      "Sampling Vegetation Data:  15%|█▍        | 7256/49436 [00:00<00:03, 12062.58it/s]\u001b[A\n",
      "Sampling Vegetation Data:  17%|█▋        | 8463/49436 [00:00<00:03, 12025.40it/s]\u001b[A\n",
      "Sampling Vegetation Data:  20%|█▉        | 9666/49436 [00:00<00:03, 11973.67it/s]\u001b[A\n",
      "Sampling Vegetation Data:  22%|██▏       | 10868/49436 [00:00<00:03, 11985.18it/s]\u001b[A\n",
      "Sampling Vegetation Data:  24%|██▍       | 12073/49436 [00:01<00:03, 12003.97it/s]\u001b[A\n",
      "Sampling Vegetation Data:  27%|██▋       | 13289/49436 [00:01<00:02, 12050.05it/s]\u001b[A\n",
      "Sampling Vegetation Data:  29%|██▉       | 14495/49436 [00:01<00:02, 12037.43it/s]\u001b[A\n",
      "Sampling Vegetation Data:  32%|███▏      | 15699/49436 [00:01<00:02, 12031.47it/s]\u001b[A\n",
      "Sampling Vegetation Data:  34%|███▍      | 16903/49436 [00:01<00:02, 12033.46it/s]\u001b[A\n",
      "Sampling Vegetation Data:  37%|███▋      | 18107/49436 [00:01<00:02, 12000.35it/s]\u001b[A\n",
      "Sampling Vegetation Data:  39%|███▉      | 19308/49436 [00:01<00:02, 11971.90it/s]\u001b[A\n",
      "Sampling Vegetation Data:  41%|████▏     | 20512/49436 [00:01<00:02, 11989.74it/s]\u001b[A\n",
      "Sampling Vegetation Data:  44%|████▍     | 21721/49436 [00:01<00:02, 12017.28it/s]\u001b[A\n",
      "Sampling Vegetation Data:  46%|████▋     | 22927/49436 [00:01<00:02, 12028.70it/s]\u001b[A\n",
      "Sampling Vegetation Data:  49%|████▉     | 24130/49436 [00:02<00:02, 12028.13it/s]\u001b[A\n",
      "Sampling Vegetation Data:  51%|█████▏    | 25338/49436 [00:02<00:02, 12043.05it/s]\u001b[A\n",
      "Sampling Vegetation Data:  54%|█████▎    | 26543/49436 [00:02<00:01, 11965.35it/s]\u001b[A\n",
      "Sampling Vegetation Data:  56%|█████▌    | 27743/49436 [00:02<00:01, 11974.07it/s]\u001b[A\n",
      "Sampling Vegetation Data:  59%|█████▊    | 28941/49436 [00:02<00:01, 11937.13it/s]\u001b[A\n",
      "Sampling Vegetation Data:  61%|██████    | 30135/49436 [00:02<00:01, 11924.76it/s]\u001b[A\n",
      "Sampling Vegetation Data:  63%|██████▎   | 31331/49436 [00:02<00:01, 11934.49it/s]\u001b[A\n",
      "Sampling Vegetation Data:  66%|██████▌   | 32525/49436 [00:02<00:01, 11876.91it/s]\u001b[A\n",
      "Sampling Vegetation Data:  68%|██████▊   | 33713/49436 [00:02<00:01, 11870.66it/s]\u001b[A\n",
      "Sampling Vegetation Data:  71%|███████   | 34905/49436 [00:02<00:01, 11882.92it/s]\u001b[A\n",
      "Sampling Vegetation Data:  73%|███████▎  | 36119/49436 [00:03<00:01, 11959.56it/s]\u001b[A\n",
      "Sampling Vegetation Data:  76%|███████▌  | 37327/49436 [00:03<00:01, 11993.23it/s]\u001b[A\n",
      "Sampling Vegetation Data:  78%|███████▊  | 38527/49436 [00:03<00:00, 11994.69it/s]\u001b[A\n",
      "Sampling Vegetation Data:  80%|████████  | 39727/49436 [00:03<00:00, 11986.82it/s]\u001b[A\n",
      "Sampling Vegetation Data:  83%|████████▎ | 40926/49436 [00:03<00:00, 11981.92it/s]\u001b[A\n",
      "Sampling Vegetation Data:  85%|████████▌ | 42125/49436 [00:03<00:00, 11980.70it/s]\u001b[A\n",
      "Sampling Vegetation Data:  88%|████████▊ | 43336/49436 [00:03<00:00, 12018.15it/s]\u001b[A\n",
      "Sampling Vegetation Data:  90%|█████████ | 44538/49436 [00:03<00:00, 11955.86it/s]\u001b[A\n",
      "Sampling Vegetation Data:  93%|█████████▎| 45734/49436 [00:03<00:00, 11939.66it/s]\u001b[A\n",
      "Sampling Vegetation Data:  95%|█████████▍| 46929/49436 [00:03<00:00, 11922.20it/s]\u001b[A\n",
      "Sampling Vegetation Data:  97%|█████████▋| 48140/49436 [00:04<00:00, 11975.24it/s]\u001b[A\n",
      "Sampling Vegetation Data: 100%|██████████| 49436/49436 [00:04<00:00, 11981.64it/s]\u001b[A\n",
      "Processing Parquet Files:  31%|███▏      | 31/99 [02:10<05:10,  4.57s/it]\n",
      "Sampling Vegetation Data: 100%|██████████| 390/390 [00:00<00:00, 11863.18it/s]\n",
      "Processing Parquet Files:  32%|███▏      | 32/99 [02:12<04:12,  3.77s/it]\n",
      "Sampling Vegetation Data:   0%|          | 0/16523 [00:00<?, ?it/s]\u001b[A\n",
      "Sampling Vegetation Data:   7%|▋         | 1225/16523 [00:00<00:01, 12242.92it/s]\u001b[A\n",
      "Sampling Vegetation Data:  15%|█▍        | 2450/16523 [00:00<00:01, 12200.71it/s]\u001b[A\n",
      "Sampling Vegetation Data:  22%|██▏       | 3671/16523 [00:00<00:01, 12125.96it/s]\u001b[A\n",
      "Sampling Vegetation Data:  30%|██▉       | 4884/16523 [00:00<00:00, 12098.46it/s]\u001b[A\n",
      "Sampling Vegetation Data:  37%|███▋      | 6094/16523 [00:00<00:00, 12082.76it/s]\u001b[A\n",
      "Sampling Vegetation Data:  44%|████▍     | 7308/16523 [00:00<00:00, 12101.97it/s]\u001b[A\n",
      "Sampling Vegetation Data:  52%|█████▏    | 8519/16523 [00:00<00:00, 12079.25it/s]\u001b[A\n",
      "Sampling Vegetation Data:  59%|█████▉    | 9727/16523 [00:00<00:00, 12049.12it/s]\u001b[A\n",
      "Sampling Vegetation Data:  66%|██████▌   | 10932/16523 [00:00<00:00, 12000.35it/s]\u001b[A\n",
      "Sampling Vegetation Data:  73%|███████▎  | 12133/16523 [00:01<00:00, 11990.80it/s]\u001b[A\n",
      "Sampling Vegetation Data:  81%|████████  | 13340/16523 [00:01<00:00, 12014.58it/s]\u001b[A\n",
      "Sampling Vegetation Data:  88%|████████▊ | 14544/16523 [00:01<00:00, 12019.68it/s]\u001b[A\n",
      "Sampling Vegetation Data: 100%|██████████| 16523/16523 [00:01<00:00, 12031.27it/s]\u001b[A\n",
      "Processing Parquet Files:  33%|███▎      | 33/99 [02:16<04:04,  3.71s/it]\n",
      "Sampling Vegetation Data:   0%|          | 0/16523 [00:00<?, ?it/s]\u001b[A\n",
      "Sampling Vegetation Data:   7%|▋         | 1227/16523 [00:00<00:01, 12269.46it/s]\u001b[A\n",
      "Sampling Vegetation Data:  15%|█▍        | 2454/16523 [00:00<00:01, 12058.38it/s]\u001b[A\n",
      "Sampling Vegetation Data:  22%|██▏       | 3681/16523 [00:00<00:01, 12151.62it/s]\u001b[A\n",
      "Sampling Vegetation Data:  30%|██▉       | 4914/16523 [00:00<00:00, 12220.37it/s]\u001b[A\n",
      "Sampling Vegetation Data:  37%|███▋      | 6137/16523 [00:00<00:00, 12146.62it/s]\u001b[A\n",
      "Sampling Vegetation Data:  45%|████▍     | 7355/16523 [00:00<00:00, 12155.51it/s]\u001b[A\n",
      "Sampling Vegetation Data:  52%|█████▏    | 8579/16523 [00:00<00:00, 12180.18it/s]\u001b[A\n",
      "Sampling Vegetation Data:  59%|█████▉    | 9801/16523 [00:00<00:00, 12192.31it/s]\u001b[A\n",
      "Sampling Vegetation Data:  67%|██████▋   | 11021/16523 [00:00<00:00, 12140.81it/s]\u001b[A\n",
      "Sampling Vegetation Data:  74%|███████▍  | 12240/16523 [00:01<00:00, 12154.55it/s]\u001b[A\n",
      "Sampling Vegetation Data:  81%|████████▏ | 13460/16523 [00:01<00:00, 12166.94it/s]\u001b[A\n",
      "Sampling Vegetation Data:  89%|████████▉ | 14683/16523 [00:01<00:00, 12184.99it/s]\u001b[A\n",
      "Sampling Vegetation Data: 100%|██████████| 16523/16523 [00:01<00:00, 12160.91it/s]\u001b[A\n",
      "Processing Parquet Files:  34%|███▍      | 34/99 [02:19<03:58,  3.67s/it]\n",
      "Sampling Vegetation Data:   0%|          | 0/20022 [00:00<?, ?it/s]\u001b[A\n",
      "Sampling Vegetation Data:   6%|▌         | 1218/20022 [00:00<00:01, 12170.87it/s]\u001b[A\n",
      "Sampling Vegetation Data:  12%|█▏        | 2441/20022 [00:00<00:01, 12201.41it/s]\u001b[A\n",
      "Sampling Vegetation Data:  18%|█▊        | 3662/20022 [00:00<00:01, 12182.50it/s]\u001b[A\n",
      "Sampling Vegetation Data:  24%|██▍       | 4881/20022 [00:00<00:01, 12145.42it/s]\u001b[A\n",
      "Sampling Vegetation Data:  30%|███       | 6104/20022 [00:00<00:01, 12175.16it/s]\u001b[A\n",
      "Sampling Vegetation Data:  37%|███▋      | 7322/20022 [00:00<00:01, 12138.09it/s]\u001b[A\n",
      "Sampling Vegetation Data:  43%|████▎     | 8536/20022 [00:00<00:00, 12109.08it/s]\u001b[A\n",
      "Sampling Vegetation Data:  49%|████▊     | 9747/20022 [00:00<00:00, 12075.30it/s]\u001b[A\n",
      "Sampling Vegetation Data:  55%|█████▍    | 10962/20022 [00:00<00:00, 12095.29it/s]\u001b[A\n",
      "Sampling Vegetation Data:  61%|██████    | 12180/20022 [00:01<00:00, 12120.53it/s]\u001b[A\n",
      "Sampling Vegetation Data:  67%|██████▋   | 13393/20022 [00:01<00:00, 12108.59it/s]\u001b[A\n",
      "Sampling Vegetation Data:  73%|███████▎  | 14604/20022 [00:01<00:00, 12078.63it/s]\u001b[A\n",
      "Sampling Vegetation Data:  79%|███████▉  | 15821/20022 [00:01<00:00, 12103.78it/s]\u001b[A\n",
      "Sampling Vegetation Data:  85%|████████▌ | 17032/20022 [00:01<00:00, 12038.18it/s]\u001b[A\n",
      "Sampling Vegetation Data:  91%|█████████ | 18243/20022 [00:01<00:00, 12058.12it/s]\u001b[A\n",
      "Sampling Vegetation Data: 100%|██████████| 20022/20022 [00:01<00:00, 12097.87it/s]\u001b[A\n",
      "Processing Parquet Files:  35%|███▌      | 35/99 [02:23<04:01,  3.78s/it]\n",
      "Sampling Vegetation Data:   0%|          | 0/13569 [00:00<?, ?it/s]\u001b[A\n",
      "Sampling Vegetation Data:   9%|▉         | 1213/13569 [00:00<00:01, 12126.48it/s]\u001b[A\n",
      "Sampling Vegetation Data:  18%|█▊        | 2443/13569 [00:00<00:00, 12226.23it/s]\u001b[A\n",
      "Sampling Vegetation Data:  27%|██▋       | 3666/13569 [00:00<00:00, 12200.23it/s]\u001b[A\n",
      "Sampling Vegetation Data:  36%|███▌      | 4887/13569 [00:00<00:00, 12202.18it/s]\u001b[A\n",
      "Sampling Vegetation Data:  45%|████▌     | 6110/13569 [00:00<00:00, 12208.84it/s]\u001b[A\n",
      "Sampling Vegetation Data:  54%|█████▍    | 7335/13569 [00:00<00:00, 12219.86it/s]\u001b[A\n",
      "Sampling Vegetation Data:  63%|██████▎   | 8557/13569 [00:00<00:00, 12210.86it/s]\u001b[A\n",
      "Sampling Vegetation Data:  72%|███████▏  | 9781/13569 [00:00<00:00, 12219.23it/s]\u001b[A\n",
      "Sampling Vegetation Data:  81%|████████  | 11003/13569 [00:00<00:00, 12180.33it/s]\u001b[A\n",
      "Sampling Vegetation Data:  90%|█████████ | 12222/13569 [00:01<00:00, 12175.72it/s]\u001b[A\n",
      "Sampling Vegetation Data: 100%|██████████| 13569/13569 [00:01<00:00, 12182.32it/s]\u001b[A\n",
      "Processing Parquet Files:  36%|███▋      | 36/99 [02:27<03:48,  3.62s/it]\n",
      "Sampling Vegetation Data:   0%|          | 0/21472 [00:00<?, ?it/s]\u001b[A\n",
      "Sampling Vegetation Data:   6%|▌         | 1229/21472 [00:00<00:01, 12288.31it/s]\u001b[A\n",
      "Sampling Vegetation Data:  11%|█▏        | 2458/21472 [00:00<00:01, 12240.20it/s]\u001b[A\n",
      "Sampling Vegetation Data:  17%|█▋        | 3683/21472 [00:00<00:01, 12203.68it/s]\u001b[A\n",
      "Sampling Vegetation Data:  23%|██▎       | 4904/21472 [00:00<00:01, 12109.50it/s]\u001b[A\n",
      "Sampling Vegetation Data:  28%|██▊       | 6119/21472 [00:00<00:01, 12121.37it/s]\u001b[A\n",
      "Sampling Vegetation Data:  34%|███▍      | 7336/21472 [00:00<00:01, 12137.32it/s]\u001b[A\n",
      "Sampling Vegetation Data:  40%|███▉      | 8550/21472 [00:00<00:01, 12132.71it/s]\u001b[A\n",
      "Sampling Vegetation Data:  46%|████▌     | 9772/21472 [00:00<00:00, 12157.35it/s]\u001b[A\n",
      "Sampling Vegetation Data:  51%|█████     | 10988/21472 [00:00<00:00, 12135.22it/s]\u001b[A\n",
      "Sampling Vegetation Data:  57%|█████▋    | 12202/21472 [00:01<00:00, 12089.37it/s]\u001b[A\n",
      "Sampling Vegetation Data:  62%|██████▏   | 13412/21472 [00:01<00:00, 12090.50it/s]\u001b[A\n",
      "Sampling Vegetation Data:  68%|██████▊   | 14629/21472 [00:01<00:00, 12113.62it/s]\u001b[A\n",
      "Sampling Vegetation Data:  74%|███████▍  | 15841/21472 [00:01<00:00, 12050.82it/s]\u001b[A\n",
      "Sampling Vegetation Data:  79%|███████▉  | 17047/21472 [00:01<00:00, 11993.35it/s]\u001b[A\n",
      "Sampling Vegetation Data:  85%|████████▌ | 18256/21472 [00:01<00:00, 12020.23it/s]\u001b[A\n",
      "Sampling Vegetation Data:  91%|█████████ | 19476/21472 [00:01<00:00, 12071.24it/s]\u001b[A\n",
      "Sampling Vegetation Data: 100%|██████████| 21472/21472 [00:01<00:00, 12099.93it/s]\u001b[A\n",
      "Processing Parquet Files:  37%|███▋      | 37/99 [02:31<03:52,  3.75s/it]\n",
      "Sampling Vegetation Data:   0%|          | 0/16523 [00:00<?, ?it/s]\u001b[A\n",
      "Sampling Vegetation Data:   7%|▋         | 1215/16523 [00:00<00:01, 12143.53it/s]\u001b[A\n",
      "Sampling Vegetation Data:  15%|█▍        | 2434/16523 [00:00<00:01, 12165.63it/s]\u001b[A\n",
      "Sampling Vegetation Data:  22%|██▏       | 3652/16523 [00:00<00:01, 12170.86it/s]\u001b[A\n",
      "Sampling Vegetation Data:  29%|██▉       | 4870/16523 [00:00<00:00, 11993.60it/s]\u001b[A\n",
      "Sampling Vegetation Data:  37%|███▋      | 6072/16523 [00:00<00:00, 11999.74it/s]\u001b[A\n",
      "Sampling Vegetation Data:  44%|████▍     | 7273/16523 [00:00<00:00, 11977.96it/s]\u001b[A\n",
      "Sampling Vegetation Data:  51%|█████▏    | 8481/16523 [00:00<00:00, 12008.25it/s]\u001b[A\n",
      "Sampling Vegetation Data:  59%|█████▊    | 9692/16523 [00:00<00:00, 12037.66it/s]\u001b[A\n",
      "Sampling Vegetation Data:  66%|██████▌   | 10904/16523 [00:00<00:00, 12062.78it/s]\u001b[A\n",
      "Sampling Vegetation Data:  73%|███████▎  | 12117/16523 [00:01<00:00, 12082.89it/s]\u001b[A\n",
      "Sampling Vegetation Data:  81%|████████  | 13335/16523 [00:01<00:00, 12109.90it/s]\u001b[A\n",
      "Sampling Vegetation Data:  88%|████████▊ | 14547/16523 [00:01<00:00, 12108.98it/s]\u001b[A\n",
      "Sampling Vegetation Data: 100%|██████████| 16523/16523 [00:01<00:00, 12039.13it/s]\u001b[A\n",
      "Processing Parquet Files:  38%|███▊      | 38/99 [02:34<03:45,  3.70s/it]\n",
      "Sampling Vegetation Data:   0%|          | 0/26356 [00:00<?, ?it/s]\u001b[A\n",
      "Sampling Vegetation Data:   5%|▍         | 1229/26356 [00:00<00:02, 12285.15it/s]\u001b[A\n",
      "Sampling Vegetation Data:   9%|▉         | 2458/26356 [00:00<00:01, 12168.80it/s]\u001b[A\n",
      "Sampling Vegetation Data:  14%|█▍        | 3675/26356 [00:00<00:01, 12116.56it/s]\u001b[A\n",
      "Sampling Vegetation Data:  19%|█▊        | 4893/26356 [00:00<00:01, 12138.41it/s]\u001b[A\n",
      "Sampling Vegetation Data:  23%|██▎       | 6118/26356 [00:00<00:01, 12176.21it/s]\u001b[A\n",
      "Sampling Vegetation Data:  28%|██▊       | 7336/26356 [00:00<00:01, 11968.39it/s]\u001b[A\n",
      "Sampling Vegetation Data:  32%|███▏      | 8541/26356 [00:00<00:01, 11990.35it/s]\u001b[A\n",
      "Sampling Vegetation Data:  37%|███▋      | 9745/26356 [00:00<00:01, 12003.62it/s]\u001b[A\n",
      "Sampling Vegetation Data:  42%|████▏     | 10965/26356 [00:00<00:01, 12063.37it/s]\u001b[A\n",
      "Sampling Vegetation Data:  46%|████▌     | 12180/26356 [00:01<00:01, 12087.06it/s]\u001b[A\n",
      "Sampling Vegetation Data:  51%|█████     | 13398/26356 [00:01<00:01, 12113.20it/s]\u001b[A\n",
      "Sampling Vegetation Data:  55%|█████▌    | 14621/26356 [00:01<00:00, 12145.97it/s]\u001b[A\n",
      "Sampling Vegetation Data:  60%|██████    | 15842/26356 [00:01<00:00, 12163.99it/s]\u001b[A\n",
      "Sampling Vegetation Data:  65%|██████▍   | 17059/26356 [00:01<00:00, 12164.73it/s]\u001b[A\n",
      "Sampling Vegetation Data:  69%|██████▉   | 18279/26356 [00:01<00:00, 12174.72it/s]\u001b[A\n",
      "Sampling Vegetation Data:  74%|███████▍  | 19497/26356 [00:01<00:00, 11805.26it/s]\u001b[A\n",
      "Sampling Vegetation Data:  79%|███████▊  | 20706/26356 [00:01<00:00, 11888.87it/s]\u001b[A\n",
      "Sampling Vegetation Data:  83%|████████▎ | 21901/26356 [00:01<00:00, 11905.63it/s]\u001b[A\n",
      "Sampling Vegetation Data:  88%|████████▊ | 23121/26356 [00:01<00:00, 11991.04it/s]\u001b[A\n",
      "Sampling Vegetation Data:  92%|█████████▏| 24322/26356 [00:02<00:00, 11885.05it/s]\u001b[A\n",
      "Sampling Vegetation Data: 100%|██████████| 26356/26356 [00:02<00:00, 12018.27it/s]\u001b[A\n",
      "Processing Parquet Files:  39%|███▉      | 39/99 [02:39<03:59,  3.98s/it]\n",
      "Sampling Vegetation Data:   0%|          | 0/11690 [00:00<?, ?it/s]\u001b[A\n",
      "Sampling Vegetation Data:  11%|█         | 1232/11690 [00:00<00:00, 12314.26it/s]\u001b[A\n",
      "Sampling Vegetation Data:  21%|██        | 2464/11690 [00:00<00:00, 12153.92it/s]\u001b[A\n",
      "Sampling Vegetation Data:  31%|███▏      | 3680/11690 [00:00<00:00, 12141.77it/s]\u001b[A\n",
      "Sampling Vegetation Data:  42%|████▏     | 4895/11690 [00:00<00:00, 12116.99it/s]\u001b[A\n",
      "Sampling Vegetation Data:  52%|█████▏    | 6107/11690 [00:00<00:00, 12094.23it/s]\u001b[A\n",
      "Sampling Vegetation Data:  63%|██████▎   | 7323/11690 [00:00<00:00, 12114.00it/s]\u001b[A\n",
      "Sampling Vegetation Data:  73%|███████▎  | 8535/11690 [00:00<00:00, 12047.05it/s]\u001b[A\n",
      "Sampling Vegetation Data:  83%|████████▎ | 9740/11690 [00:00<00:00, 12011.14it/s]\u001b[A\n",
      "Sampling Vegetation Data: 100%|██████████| 11690/11690 [00:00<00:00, 12049.43it/s]\u001b[A\n",
      "Processing Parquet Files:  40%|████      | 40/99 [02:42<03:40,  3.74s/it]\n",
      "Sampling Vegetation Data: 100%|██████████| 389/389 [00:00<00:00, 11438.88it/s]\n",
      "Processing Parquet Files:  41%|████▏     | 41/99 [02:44<03:05,  3.20s/it]\n",
      "Sampling Vegetation Data:   0%|          | 0/18240 [00:00<?, ?it/s]\u001b[A\n",
      "Sampling Vegetation Data:   7%|▋         | 1203/18240 [00:00<00:01, 12029.12it/s]\u001b[A\n",
      "Sampling Vegetation Data:  13%|█▎        | 2406/18240 [00:00<00:01, 11980.78it/s]\u001b[A\n",
      "Sampling Vegetation Data:  20%|█▉        | 3605/18240 [00:00<00:01, 11969.30it/s]\u001b[A\n",
      "Sampling Vegetation Data:  26%|██▋       | 4802/18240 [00:00<00:01, 11942.01it/s]\u001b[A\n",
      "Sampling Vegetation Data:  33%|███▎      | 6001/18240 [00:00<00:01, 11957.89it/s]\u001b[A\n",
      "Sampling Vegetation Data:  39%|███▉      | 7197/18240 [00:00<00:00, 11932.71it/s]\u001b[A\n",
      "Sampling Vegetation Data:  46%|████▌     | 8403/18240 [00:00<00:00, 11972.97it/s]\u001b[A\n",
      "Sampling Vegetation Data:  53%|█████▎    | 9601/18240 [00:00<00:00, 11952.75it/s]\u001b[A\n",
      "Sampling Vegetation Data:  59%|█████▉    | 10798/18240 [00:00<00:00, 11955.80it/s]\u001b[A\n",
      "Sampling Vegetation Data:  66%|██████▌   | 11994/18240 [00:01<00:00, 11908.23it/s]\u001b[A\n",
      "Sampling Vegetation Data:  72%|███████▏  | 13185/18240 [00:01<00:00, 11888.61it/s]\u001b[A\n",
      "Sampling Vegetation Data:  79%|███████▉  | 14374/18240 [00:01<00:00, 11719.15it/s]\u001b[A\n",
      "Sampling Vegetation Data:  85%|████████▌ | 15572/18240 [00:01<00:00, 11794.18it/s]\u001b[A\n",
      "Sampling Vegetation Data:  92%|█████████▏| 16784/18240 [00:01<00:00, 11889.20it/s]\u001b[A\n",
      "Sampling Vegetation Data: 100%|██████████| 18240/18240 [00:01<00:00, 11916.91it/s]\u001b[A\n",
      "Processing Parquet Files:  42%|████▏     | 42/99 [02:48<03:12,  3.37s/it]\n",
      "Sampling Vegetation Data:   0%|          | 0/14404 [00:00<?, ?it/s]\u001b[A\n",
      "Sampling Vegetation Data:   8%|▊         | 1213/14404 [00:00<00:01, 12122.29it/s]\u001b[A\n",
      "Sampling Vegetation Data:  17%|█▋        | 2426/14404 [00:00<00:00, 12016.31it/s]\u001b[A\n",
      "Sampling Vegetation Data:  25%|██▌       | 3628/14404 [00:00<00:00, 11932.68it/s]\u001b[A\n",
      "Sampling Vegetation Data:  33%|███▎      | 4825/14404 [00:00<00:00, 11946.17it/s]\u001b[A\n",
      "Sampling Vegetation Data:  42%|████▏     | 6027/14404 [00:00<00:00, 11971.59it/s]\u001b[A\n",
      "Sampling Vegetation Data:  50%|█████     | 7239/14404 [00:00<00:00, 12019.49it/s]\u001b[A\n",
      "Sampling Vegetation Data:  59%|█████▊    | 8445/14404 [00:00<00:00, 12031.49it/s]\u001b[A\n",
      "Sampling Vegetation Data:  67%|██████▋   | 9658/14404 [00:00<00:00, 12061.33it/s]\u001b[A\n",
      "Sampling Vegetation Data:  75%|███████▌  | 10865/14404 [00:00<00:00, 11997.03it/s]\u001b[A\n",
      "Sampling Vegetation Data:  84%|████████▍ | 12065/14404 [00:01<00:00, 11962.04it/s]\u001b[A\n",
      "Sampling Vegetation Data: 100%|██████████| 14404/14404 [00:01<00:00, 12018.07it/s]\u001b[A\n",
      "Processing Parquet Files:  43%|████▎     | 43/99 [02:51<03:09,  3.38s/it]\n",
      "Sampling Vegetation Data:   0%|          | 0/21472 [00:00<?, ?it/s]\u001b[A\n",
      "Sampling Vegetation Data:   5%|▌         | 1179/21472 [00:00<00:01, 11782.82it/s]\u001b[A\n",
      "Sampling Vegetation Data:  11%|█         | 2363/21472 [00:00<00:01, 11811.50it/s]\u001b[A\n",
      "Sampling Vegetation Data:  17%|█▋        | 3545/21472 [00:00<00:01, 11747.47it/s]\u001b[A\n",
      "Sampling Vegetation Data:  22%|██▏       | 4720/21472 [00:00<00:01, 11647.33it/s]\u001b[A\n",
      "Sampling Vegetation Data:  28%|██▊       | 5921/21472 [00:00<00:01, 11776.49it/s]\u001b[A\n",
      "Sampling Vegetation Data:  33%|███▎      | 7099/21472 [00:00<00:01, 11742.36it/s]\u001b[A\n",
      "Sampling Vegetation Data:  39%|███▊      | 8298/21472 [00:00<00:01, 11820.58it/s]\u001b[A\n",
      "Sampling Vegetation Data:  44%|████▍     | 9494/21472 [00:00<00:01, 11863.08it/s]\u001b[A\n",
      "Sampling Vegetation Data:  50%|████▉     | 10681/21472 [00:00<00:00, 11750.02it/s]\u001b[A\n",
      "Sampling Vegetation Data:  55%|█████▌    | 11881/21472 [00:01<00:00, 11825.36it/s]\u001b[A\n",
      "Sampling Vegetation Data:  61%|██████    | 13094/21472 [00:01<00:00, 11917.45it/s]\u001b[A\n",
      "Sampling Vegetation Data:  67%|██████▋   | 14286/21472 [00:01<00:00, 11904.59it/s]\u001b[A\n",
      "Sampling Vegetation Data:  72%|███████▏  | 15477/21472 [00:01<00:00, 11845.91it/s]\u001b[A\n",
      "Sampling Vegetation Data:  78%|███████▊  | 16669/21472 [00:01<00:00, 11867.26it/s]\u001b[A\n",
      "Sampling Vegetation Data:  83%|████████▎ | 17856/21472 [00:01<00:00, 11864.62it/s]\u001b[A\n",
      "Sampling Vegetation Data:  89%|████████▊ | 19043/21472 [00:01<00:00, 11758.85it/s]\u001b[A\n",
      "Sampling Vegetation Data:  94%|█████████▍| 20245/21472 [00:01<00:00, 11834.61it/s]\u001b[A\n",
      "Sampling Vegetation Data: 100%|██████████| 21472/21472 [00:01<00:00, 11805.22it/s]\u001b[A\n",
      "Processing Parquet Files:  44%|████▍     | 44/99 [02:55<03:19,  3.62s/it]\n",
      "Sampling Vegetation Data:   0%|          | 0/39617 [00:00<?, ?it/s]\u001b[A\n",
      "Sampling Vegetation Data:   3%|▎         | 1215/39617 [00:00<00:03, 12146.97it/s]\u001b[A\n",
      "Sampling Vegetation Data:   6%|▌         | 2430/39617 [00:00<00:03, 12007.32it/s]\u001b[A\n",
      "Sampling Vegetation Data:   9%|▉         | 3631/39617 [00:00<00:02, 12007.72it/s]\u001b[A\n",
      "Sampling Vegetation Data:  12%|█▏        | 4832/39617 [00:00<00:02, 11834.11it/s]\u001b[A\n",
      "Sampling Vegetation Data:  15%|█▌        | 6047/39617 [00:00<00:02, 11946.43it/s]\u001b[A\n",
      "Sampling Vegetation Data:  18%|█▊        | 7263/39617 [00:00<00:02, 12017.97it/s]\u001b[A\n",
      "Sampling Vegetation Data:  21%|██▏       | 8470/39617 [00:00<00:02, 12031.74it/s]\u001b[A\n",
      "Sampling Vegetation Data:  24%|██▍       | 9691/39617 [00:00<00:02, 12087.49it/s]\u001b[A\n",
      "Sampling Vegetation Data:  28%|██▊       | 10908/39617 [00:00<00:02, 12111.27it/s]\u001b[A\n",
      "Sampling Vegetation Data:  31%|███       | 12120/39617 [00:01<00:02, 12112.43it/s]\u001b[A\n",
      "Sampling Vegetation Data:  34%|███▎      | 13335/39617 [00:01<00:02, 12123.00it/s]\u001b[A\n",
      "Sampling Vegetation Data:  37%|███▋      | 14551/39617 [00:01<00:02, 12133.42it/s]\u001b[A\n",
      "Sampling Vegetation Data:  40%|███▉      | 15768/39617 [00:01<00:01, 12143.17it/s]\u001b[A\n",
      "Sampling Vegetation Data:  43%|████▎     | 16983/39617 [00:01<00:01, 12119.00it/s]\u001b[A\n",
      "Sampling Vegetation Data:  46%|████▌     | 18199/39617 [00:01<00:01, 12128.83it/s]\u001b[A\n",
      "Sampling Vegetation Data:  49%|████▉     | 19412/39617 [00:01<00:01, 12107.43it/s]\u001b[A\n",
      "Sampling Vegetation Data:  52%|█████▏    | 20627/39617 [00:01<00:01, 12118.79it/s]\u001b[A\n",
      "Sampling Vegetation Data:  55%|█████▌    | 21839/39617 [00:01<00:01, 12093.66it/s]\u001b[A\n",
      "Sampling Vegetation Data:  58%|█████▊    | 23056/39617 [00:01<00:01, 12114.96it/s]\u001b[A\n",
      "Sampling Vegetation Data:  61%|██████▏   | 24268/39617 [00:02<00:01, 12114.75it/s]\u001b[A\n",
      "Sampling Vegetation Data:  64%|██████▍   | 25480/39617 [00:02<00:01, 12065.38it/s]\u001b[A\n",
      "Sampling Vegetation Data:  67%|██████▋   | 26695/39617 [00:02<00:01, 12090.15it/s]\u001b[A\n",
      "Sampling Vegetation Data:  70%|███████   | 27908/39617 [00:02<00:00, 12101.05it/s]\u001b[A\n",
      "Sampling Vegetation Data:  74%|███████▎  | 29135/39617 [00:02<00:00, 12149.97it/s]\u001b[A\n",
      "Sampling Vegetation Data:  77%|███████▋  | 30351/39617 [00:02<00:00, 12150.52it/s]\u001b[A\n",
      "Sampling Vegetation Data:  80%|███████▉  | 31567/39617 [00:02<00:00, 12128.37it/s]\u001b[A\n",
      "Sampling Vegetation Data:  83%|████████▎ | 32780/39617 [00:02<00:00, 12111.66it/s]\u001b[A\n",
      "Sampling Vegetation Data:  86%|████████▌ | 33992/39617 [00:02<00:00, 12048.79it/s]\u001b[A\n",
      "Sampling Vegetation Data:  89%|████████▉ | 35197/39617 [00:02<00:00, 12043.09it/s]\u001b[A\n",
      "Sampling Vegetation Data:  92%|█████████▏| 36402/39617 [00:03<00:00, 12037.19it/s]\u001b[A\n",
      "Sampling Vegetation Data:  95%|█████████▍| 37614/39617 [00:03<00:00, 12059.68it/s]\u001b[A\n",
      "Sampling Vegetation Data: 100%|██████████| 39617/39617 [00:03<00:00, 12077.76it/s]\u001b[A\n",
      "Processing Parquet Files:  45%|████▌     | 45/99 [03:01<03:52,  4.30s/it]\n",
      "Sampling Vegetation Data:   0%|          | 0/21472 [00:00<?, ?it/s]\u001b[A\n",
      "Sampling Vegetation Data:   6%|▌         | 1209/21472 [00:00<00:01, 12083.87it/s]\u001b[A\n",
      "Sampling Vegetation Data:  11%|█▏        | 2418/21472 [00:00<00:01, 11806.31it/s]\u001b[A\n",
      "Sampling Vegetation Data:  17%|█▋        | 3607/21472 [00:00<00:01, 11842.30it/s]\u001b[A\n",
      "Sampling Vegetation Data:  22%|██▏       | 4800/21472 [00:00<00:01, 11874.30it/s]\u001b[A\n",
      "Sampling Vegetation Data:  28%|██▊       | 6013/21472 [00:00<00:01, 11963.22it/s]\u001b[A\n",
      "Sampling Vegetation Data:  34%|███▎      | 7228/21472 [00:00<00:01, 12025.04it/s]\u001b[A\n",
      "Sampling Vegetation Data:  39%|███▉      | 8431/21472 [00:00<00:01, 12022.92it/s]\u001b[A\n",
      "Sampling Vegetation Data:  45%|████▍     | 9634/21472 [00:00<00:00, 11898.63it/s]\u001b[A\n",
      "Sampling Vegetation Data:  50%|█████     | 10837/21472 [00:00<00:00, 11936.60it/s]\u001b[A\n",
      "Sampling Vegetation Data:  56%|█████▌    | 12055/21472 [00:01<00:00, 12008.52it/s]\u001b[A\n",
      "Sampling Vegetation Data:  62%|██████▏   | 13257/21472 [00:01<00:00, 11995.46it/s]\u001b[A\n",
      "Sampling Vegetation Data:  67%|██████▋   | 14461/21472 [00:01<00:00, 12008.19it/s]\u001b[A\n",
      "Sampling Vegetation Data:  73%|███████▎  | 15662/21472 [00:01<00:00, 11993.87it/s]\u001b[A\n",
      "Sampling Vegetation Data:  79%|███████▊  | 16871/21472 [00:01<00:00, 12020.93it/s]\u001b[A\n",
      "Sampling Vegetation Data:  84%|████████▍ | 18074/21472 [00:01<00:00, 11973.45it/s]\u001b[A\n",
      "Sampling Vegetation Data:  90%|████████▉ | 19272/21472 [00:01<00:00, 11924.66it/s]\u001b[A\n",
      "Sampling Vegetation Data: 100%|██████████| 21472/21472 [00:01<00:00, 11958.64it/s]\u001b[A\n",
      "Processing Parquet Files:  46%|████▋     | 46/99 [03:05<03:45,  4.26s/it]\n",
      "Sampling Vegetation Data:   0%|          | 0/22693 [00:00<?, ?it/s]\u001b[A\n",
      "Sampling Vegetation Data:   5%|▌         | 1202/22693 [00:00<00:01, 12015.40it/s]\u001b[A\n",
      "Sampling Vegetation Data:  11%|█         | 2409/22693 [00:00<00:01, 12046.66it/s]\u001b[A\n",
      "Sampling Vegetation Data:  16%|█▌        | 3619/22693 [00:00<00:01, 12068.36it/s]\u001b[A\n",
      "Sampling Vegetation Data:  21%|██▏       | 4827/22693 [00:00<00:01, 12071.67it/s]\u001b[A\n",
      "Sampling Vegetation Data:  27%|██▋       | 6035/22693 [00:00<00:01, 11994.00it/s]\u001b[A\n",
      "Sampling Vegetation Data:  32%|███▏      | 7235/22693 [00:00<00:01, 11982.66it/s]\u001b[A\n",
      "Sampling Vegetation Data:  37%|███▋      | 8434/22693 [00:00<00:01, 11951.99it/s]\u001b[A\n",
      "Sampling Vegetation Data:  42%|████▏     | 9644/22693 [00:00<00:01, 11996.00it/s]\u001b[A\n",
      "Sampling Vegetation Data:  48%|████▊     | 10847/22693 [00:00<00:00, 12003.74it/s]\u001b[A\n",
      "Sampling Vegetation Data:  53%|█████▎    | 12048/22693 [00:01<00:00, 11998.69it/s]\u001b[A\n",
      "Sampling Vegetation Data:  58%|█████▊    | 13273/22693 [00:01<00:00, 12073.27it/s]\u001b[A\n",
      "Sampling Vegetation Data:  64%|██████▍   | 14492/22693 [00:01<00:00, 12107.12it/s]\u001b[A\n",
      "Sampling Vegetation Data:  69%|██████▉   | 15710/22693 [00:01<00:00, 12126.38it/s]\u001b[A\n",
      "Sampling Vegetation Data:  75%|███████▍  | 16933/22693 [00:01<00:00, 12157.10it/s]\u001b[A\n",
      "Sampling Vegetation Data:  80%|████████  | 18164/22693 [00:01<00:00, 12200.40it/s]\u001b[A\n",
      "Sampling Vegetation Data:  85%|████████▌ | 19385/22693 [00:01<00:00, 12174.18it/s]\u001b[A\n",
      "Sampling Vegetation Data:  91%|█████████ | 20603/22693 [00:01<00:00, 12132.70it/s]\u001b[A\n",
      "Sampling Vegetation Data: 100%|██████████| 22693/22693 [00:01<00:00, 12094.69it/s]\u001b[A\n",
      "Processing Parquet Files:  47%|████▋     | 47/99 [03:10<03:41,  4.26s/it]\n",
      "Sampling Vegetation Data:   0%|          | 0/30146 [00:00<?, ?it/s]\u001b[A\n",
      "Sampling Vegetation Data:   4%|▍         | 1226/30146 [00:00<00:02, 12256.48it/s]\u001b[A\n",
      "Sampling Vegetation Data:   8%|▊         | 2452/30146 [00:00<00:02, 12218.82it/s]\u001b[A\n",
      "Sampling Vegetation Data:  12%|█▏        | 3674/30146 [00:00<00:02, 12108.62it/s]\u001b[A\n",
      "Sampling Vegetation Data:  16%|█▌        | 4885/30146 [00:00<00:02, 12092.92it/s]\u001b[A\n",
      "Sampling Vegetation Data:  20%|██        | 6100/30146 [00:00<00:01, 12113.10it/s]\u001b[A\n",
      "Sampling Vegetation Data:  24%|██▍       | 7318/30146 [00:00<00:01, 12133.58it/s]\u001b[A\n",
      "Sampling Vegetation Data:  28%|██▊       | 8532/30146 [00:00<00:01, 12112.45it/s]\u001b[A\n",
      "Sampling Vegetation Data:  32%|███▏      | 9744/30146 [00:00<00:01, 12099.20it/s]\u001b[A\n",
      "Sampling Vegetation Data:  36%|███▋      | 10954/30146 [00:00<00:01, 12094.36it/s]\u001b[A\n",
      "Sampling Vegetation Data:  40%|████      | 12174/30146 [00:01<00:01, 12125.65it/s]\u001b[A\n",
      "Sampling Vegetation Data:  44%|████▍     | 13395/30146 [00:01<00:01, 12149.80it/s]\u001b[A\n",
      "Sampling Vegetation Data:  48%|████▊     | 14619/30146 [00:01<00:01, 12175.00it/s]\u001b[A\n",
      "Sampling Vegetation Data:  53%|█████▎    | 15837/30146 [00:01<00:01, 12170.65it/s]\u001b[A\n",
      "Sampling Vegetation Data:  57%|█████▋    | 17055/30146 [00:01<00:01, 12151.35it/s]\u001b[A\n",
      "Sampling Vegetation Data:  61%|██████    | 18271/30146 [00:01<00:00, 12138.79it/s]\u001b[A\n",
      "Sampling Vegetation Data:  65%|██████▍   | 19490/30146 [00:01<00:00, 12153.73it/s]\u001b[A\n",
      "Sampling Vegetation Data:  69%|██████▊   | 20722/30146 [00:01<00:00, 12200.90it/s]\u001b[A\n",
      "Sampling Vegetation Data:  73%|███████▎  | 21943/30146 [00:01<00:00, 12197.01it/s]\u001b[A\n",
      "Sampling Vegetation Data:  77%|███████▋  | 23163/30146 [00:01<00:00, 12157.43it/s]\u001b[A\n",
      "Sampling Vegetation Data:  81%|████████  | 24379/30146 [00:02<00:00, 12127.15it/s]\u001b[A\n",
      "Sampling Vegetation Data:  85%|████████▍ | 25594/30146 [00:02<00:00, 12132.81it/s]\u001b[A\n",
      "Sampling Vegetation Data:  89%|████████▉ | 26808/30146 [00:02<00:00, 12134.65it/s]\u001b[A\n",
      "Sampling Vegetation Data:  93%|█████████▎| 28023/30146 [00:02<00:00, 12136.62it/s]\u001b[A\n",
      "Sampling Vegetation Data: 100%|██████████| 30146/30146 [00:02<00:00, 12132.55it/s]\u001b[A\n",
      "Processing Parquet Files:  48%|████▊     | 48/99 [03:15<03:47,  4.46s/it]\n",
      "Sampling Vegetation Data:   0%|          | 0/22693 [00:00<?, ?it/s]\u001b[A\n",
      "Sampling Vegetation Data:   5%|▌         | 1229/22693 [00:00<00:01, 12283.36it/s]\u001b[A\n",
      "Sampling Vegetation Data:  11%|█         | 2458/22693 [00:00<00:01, 12198.62it/s]\u001b[A\n",
      "Sampling Vegetation Data:  16%|█▌        | 3678/22693 [00:00<00:01, 12188.56it/s]\u001b[A\n",
      "Sampling Vegetation Data:  22%|██▏       | 4897/22693 [00:00<00:01, 12121.27it/s]\u001b[A\n",
      "Sampling Vegetation Data:  27%|██▋       | 6110/22693 [00:00<00:01, 12014.73it/s]\u001b[A\n",
      "Sampling Vegetation Data:  32%|███▏      | 7323/22693 [00:00<00:01, 12050.62it/s]\u001b[A\n",
      "Sampling Vegetation Data:  38%|███▊      | 8535/22693 [00:00<00:01, 12070.10it/s]\u001b[A\n",
      "Sampling Vegetation Data:  43%|████▎     | 9743/22693 [00:00<00:01, 12070.99it/s]\u001b[A\n",
      "Sampling Vegetation Data:  48%|████▊     | 10964/22693 [00:00<00:00, 12113.57it/s]\u001b[A\n",
      "Sampling Vegetation Data:  54%|█████▎    | 12191/22693 [00:01<00:00, 12158.75it/s]\u001b[A\n",
      "Sampling Vegetation Data:  59%|█████▉    | 13413/22693 [00:01<00:00, 12174.67it/s]\u001b[A\n",
      "Sampling Vegetation Data:  64%|██████▍   | 14634/22693 [00:01<00:00, 12181.51it/s]\u001b[A\n",
      "Sampling Vegetation Data:  70%|██████▉   | 15853/22693 [00:01<00:00, 12022.41it/s]\u001b[A\n",
      "Sampling Vegetation Data:  75%|███████▌  | 17070/22693 [00:01<00:00, 12065.70it/s]\u001b[A\n",
      "Sampling Vegetation Data:  81%|████████  | 18277/22693 [00:01<00:00, 12054.95it/s]\u001b[A\n",
      "Sampling Vegetation Data:  86%|████████▌ | 19500/22693 [00:01<00:00, 12106.81it/s]\u001b[A\n",
      "Sampling Vegetation Data:  91%|█████████▏| 20719/22693 [00:01<00:00, 12130.22it/s]\u001b[A\n",
      "Sampling Vegetation Data: 100%|██████████| 22693/22693 [00:01<00:00, 12105.52it/s]\u001b[A\n",
      "Processing Parquet Files:  49%|████▉     | 49/99 [03:19<03:39,  4.39s/it]\n",
      "Sampling Vegetation Data:   0%|          | 0/39617 [00:00<?, ?it/s]\u001b[A\n",
      "Sampling Vegetation Data:   3%|▎         | 1222/39617 [00:00<00:03, 12217.77it/s]\u001b[A\n",
      "Sampling Vegetation Data:   6%|▌         | 2449/39617 [00:00<00:03, 12244.79it/s]\u001b[A\n",
      "Sampling Vegetation Data:   9%|▉         | 3674/39617 [00:00<00:02, 12208.24it/s]\u001b[A\n",
      "Sampling Vegetation Data:  12%|█▏        | 4895/39617 [00:00<00:02, 12194.10it/s]\u001b[A\n",
      "Sampling Vegetation Data:  15%|█▌        | 6125/39617 [00:00<00:02, 12230.92it/s]\u001b[A\n",
      "Sampling Vegetation Data:  19%|█▊        | 7349/39617 [00:00<00:02, 12224.84it/s]\u001b[A\n",
      "Sampling Vegetation Data:  22%|██▏       | 8572/39617 [00:00<00:02, 12207.22it/s]\u001b[A\n",
      "Sampling Vegetation Data:  25%|██▍       | 9794/39617 [00:00<00:02, 12208.50it/s]\u001b[A\n",
      "Sampling Vegetation Data:  28%|██▊       | 11015/39617 [00:00<00:02, 12160.01it/s]\u001b[A\n",
      "Sampling Vegetation Data:  31%|███       | 12232/39617 [00:01<00:02, 12079.36it/s]\u001b[A\n",
      "Sampling Vegetation Data:  34%|███▍      | 13442/39617 [00:01<00:02, 12084.70it/s]\u001b[A\n",
      "Sampling Vegetation Data:  37%|███▋      | 14662/39617 [00:01<00:02, 12116.79it/s]\u001b[A\n",
      "Sampling Vegetation Data:  40%|████      | 15887/39617 [00:01<00:01, 12154.96it/s]\u001b[A\n",
      "Sampling Vegetation Data:  43%|████▎     | 17110/39617 [00:01<00:01, 12174.78it/s]\u001b[A\n",
      "Sampling Vegetation Data:  46%|████▋     | 18328/39617 [00:01<00:01, 12152.30it/s]\u001b[A\n",
      "Sampling Vegetation Data:  49%|████▉     | 19552/39617 [00:01<00:01, 12176.20it/s]\u001b[A\n",
      "Sampling Vegetation Data:  52%|█████▏    | 20779/39617 [00:01<00:01, 12204.12it/s]\u001b[A\n",
      "Sampling Vegetation Data:  56%|█████▌    | 22000/39617 [00:01<00:01, 12203.78it/s]\u001b[A\n",
      "Sampling Vegetation Data:  59%|█████▊    | 23221/39617 [00:01<00:01, 12103.78it/s]\u001b[A\n",
      "Sampling Vegetation Data:  62%|██████▏   | 24432/39617 [00:02<00:01, 12097.98it/s]\u001b[A\n",
      "Sampling Vegetation Data:  65%|██████▍   | 25653/39617 [00:02<00:01, 12130.21it/s]\u001b[A\n",
      "Sampling Vegetation Data:  68%|██████▊   | 26867/39617 [00:02<00:01, 12126.13it/s]\u001b[A\n",
      "Sampling Vegetation Data:  71%|███████   | 28080/39617 [00:02<00:00, 12104.55it/s]\u001b[A\n",
      "Sampling Vegetation Data:  74%|███████▍  | 29302/39617 [00:02<00:00, 12137.25it/s]\u001b[A\n",
      "Sampling Vegetation Data:  77%|███████▋  | 30525/39617 [00:02<00:00, 12164.75it/s]\u001b[A\n",
      "Sampling Vegetation Data:  80%|████████  | 31742/39617 [00:02<00:00, 12140.40it/s]\u001b[A\n",
      "Sampling Vegetation Data:  83%|████████▎ | 32957/39617 [00:02<00:00, 12133.82it/s]\u001b[A\n",
      "Sampling Vegetation Data:  86%|████████▋ | 34176/39617 [00:02<00:00, 12150.42it/s]\u001b[A\n",
      "Sampling Vegetation Data:  89%|████████▉ | 35392/39617 [00:02<00:00, 12034.31it/s]\u001b[A\n",
      "Sampling Vegetation Data:  92%|█████████▏| 36596/39617 [00:03<00:00, 11948.47it/s]\u001b[A\n",
      "Sampling Vegetation Data:  95%|█████████▌| 37792/39617 [00:03<00:00, 11896.79it/s]\u001b[A\n",
      "Sampling Vegetation Data: 100%|██████████| 39617/39617 [00:03<00:00, 12113.38it/s]\u001b[A\n",
      "Processing Parquet Files:  51%|█████     | 50/99 [03:25<03:57,  4.84s/it]\n",
      "Sampling Vegetation Data:   0%|          | 0/22474 [00:00<?, ?it/s]\u001b[A\n",
      "Sampling Vegetation Data:   6%|▌         | 1240/22474 [00:00<00:01, 12395.05it/s]\u001b[A\n",
      "Sampling Vegetation Data:  11%|█         | 2480/22474 [00:00<00:01, 11969.50it/s]\u001b[A\n",
      "Sampling Vegetation Data:  16%|█▋        | 3694/22474 [00:00<00:01, 12035.28it/s]\u001b[A\n",
      "Sampling Vegetation Data:  22%|██▏       | 4906/22474 [00:00<00:01, 12065.32it/s]\u001b[A\n",
      "Sampling Vegetation Data:  27%|██▋       | 6133/22474 [00:00<00:01, 12138.30it/s]\u001b[A\n",
      "Sampling Vegetation Data:  33%|███▎      | 7358/22474 [00:00<00:01, 12174.88it/s]\u001b[A\n",
      "Sampling Vegetation Data:  38%|███▊      | 8582/22474 [00:00<00:01, 12193.46it/s]\u001b[A\n",
      "Sampling Vegetation Data:  44%|████▎     | 9802/22474 [00:00<00:01, 12184.17it/s]\u001b[A\n",
      "Sampling Vegetation Data:  49%|████▉     | 11033/22474 [00:00<00:00, 12220.43it/s]\u001b[A\n",
      "Sampling Vegetation Data:  55%|█████▍    | 12264/22474 [00:01<00:00, 12247.13it/s]\u001b[A\n",
      "Sampling Vegetation Data:  60%|██████    | 13489/22474 [00:01<00:00, 12247.84it/s]\u001b[A\n",
      "Sampling Vegetation Data:  65%|██████▌   | 14714/22474 [00:01<00:00, 11965.55it/s]\u001b[A\n",
      "Sampling Vegetation Data:  71%|███████   | 15933/22474 [00:01<00:00, 12030.54it/s]\u001b[A\n",
      "Sampling Vegetation Data:  76%|███████▋  | 17159/22474 [00:01<00:00, 12098.54it/s]\u001b[A\n",
      "Sampling Vegetation Data:  82%|████████▏ | 18383/22474 [00:01<00:00, 12139.49it/s]\u001b[A\n",
      "Sampling Vegetation Data:  87%|████████▋ | 19598/22474 [00:01<00:00, 12134.05it/s]\u001b[A\n",
      "Sampling Vegetation Data:  93%|█████████▎| 20824/22474 [00:01<00:00, 12169.13it/s]\u001b[A\n",
      "Sampling Vegetation Data: 100%|██████████| 22474/22474 [00:01<00:00, 12139.94it/s]\u001b[A\n",
      "Processing Parquet Files:  52%|█████▏    | 51/99 [03:29<03:44,  4.67s/it]\n",
      "Sampling Vegetation Data:   0%|          | 0/3741 [00:00<?, ?it/s]\u001b[A\n",
      "Sampling Vegetation Data:  33%|███▎      | 1230/3741 [00:00<00:00, 12296.02it/s]\u001b[A\n",
      "Sampling Vegetation Data:  66%|██████▌   | 2460/3741 [00:00<00:00, 12216.57it/s]\u001b[A\n",
      "Sampling Vegetation Data: 100%|██████████| 3741/3741 [00:00<00:00, 12120.43it/s]\u001b[A\n",
      "Processing Parquet Files:  53%|█████▎    | 52/99 [03:31<03:05,  3.95s/it]\n",
      "Sampling Vegetation Data:   0%|          | 0/6830 [00:00<?, ?it/s]\u001b[A\n",
      "Sampling Vegetation Data:  18%|█▊        | 1204/6830 [00:00<00:00, 12031.66it/s]\u001b[A\n",
      "Sampling Vegetation Data:  35%|███▌      | 2413/6830 [00:00<00:00, 12060.95it/s]\u001b[A\n",
      "Sampling Vegetation Data:  53%|█████▎    | 3620/6830 [00:00<00:00, 11985.26it/s]\u001b[A\n",
      "Sampling Vegetation Data:  71%|███████   | 4827/6830 [00:00<00:00, 12018.16it/s]\u001b[A\n",
      "Sampling Vegetation Data: 100%|██████████| 6830/6830 [00:00<00:00, 12007.07it/s]\u001b[A\n",
      "Processing Parquet Files:  54%|█████▎    | 53/99 [03:34<02:42,  3.54s/it]\n",
      "Sampling Vegetation Data:   0%|          | 0/39617 [00:00<?, ?it/s]\u001b[A\n",
      "Sampling Vegetation Data:   3%|▎         | 1213/39617 [00:00<00:03, 12121.11it/s]\u001b[A\n",
      "Sampling Vegetation Data:   6%|▌         | 2426/39617 [00:00<00:03, 12112.89it/s]\u001b[A\n",
      "Sampling Vegetation Data:   9%|▉         | 3638/39617 [00:00<00:02, 12096.32it/s]\u001b[A\n",
      "Sampling Vegetation Data:  12%|█▏        | 4861/39617 [00:00<00:02, 12148.69it/s]\u001b[A\n",
      "Sampling Vegetation Data:  15%|█▌        | 6093/39617 [00:00<00:02, 12207.78it/s]\u001b[A\n",
      "Sampling Vegetation Data:  18%|█▊        | 7314/39617 [00:00<00:02, 12171.31it/s]\u001b[A\n",
      "Sampling Vegetation Data:  22%|██▏       | 8532/39617 [00:00<00:02, 12144.27it/s]\u001b[A\n",
      "Sampling Vegetation Data:  25%|██▍       | 9761/39617 [00:00<00:02, 12187.54it/s]\u001b[A\n",
      "Sampling Vegetation Data:  28%|██▊       | 10980/39617 [00:00<00:02, 12182.30it/s]\u001b[A\n",
      "Sampling Vegetation Data:  31%|███       | 12199/39617 [00:01<00:02, 12179.94it/s]\u001b[A\n",
      "Sampling Vegetation Data:  34%|███▍      | 13418/39617 [00:01<00:02, 12139.38it/s]\u001b[A\n",
      "Sampling Vegetation Data:  37%|███▋      | 14632/39617 [00:01<00:02, 12118.47it/s]\u001b[A\n",
      "Sampling Vegetation Data:  40%|████      | 15852/39617 [00:01<00:01, 12141.67it/s]\u001b[A\n",
      "Sampling Vegetation Data:  43%|████▎     | 17067/39617 [00:01<00:01, 12105.07it/s]\u001b[A\n",
      "Sampling Vegetation Data:  46%|████▌     | 18289/39617 [00:01<00:01, 12138.91it/s]\u001b[A\n",
      "Sampling Vegetation Data:  49%|████▉     | 19503/39617 [00:01<00:01, 12099.25it/s]\u001b[A\n",
      "Sampling Vegetation Data:  52%|█████▏    | 20721/39617 [00:01<00:01, 12121.80it/s]\u001b[A\n",
      "Sampling Vegetation Data:  55%|█████▌    | 21935/39617 [00:01<00:01, 12126.58it/s]\u001b[A\n",
      "Sampling Vegetation Data:  58%|█████▊    | 23148/39617 [00:01<00:01, 12108.76it/s]\u001b[A\n",
      "Sampling Vegetation Data:  61%|██████▏   | 24359/39617 [00:02<00:01, 11984.13it/s]\u001b[A\n",
      "Sampling Vegetation Data:  65%|██████▍   | 25558/39617 [00:02<00:01, 11958.27it/s]\u001b[A\n",
      "Sampling Vegetation Data:  68%|██████▊   | 26772/39617 [00:02<00:01, 12011.76it/s]\u001b[A\n",
      "Sampling Vegetation Data:  71%|███████   | 27994/39617 [00:02<00:00, 12073.48it/s]\u001b[A\n",
      "Sampling Vegetation Data:  74%|███████▎  | 29202/39617 [00:02<00:00, 12004.34it/s]\u001b[A\n",
      "Sampling Vegetation Data:  77%|███████▋  | 30408/39617 [00:02<00:00, 12020.65it/s]\u001b[A\n",
      "Sampling Vegetation Data:  80%|███████▉  | 31636/39617 [00:02<00:00, 12097.23it/s]\u001b[A\n",
      "Sampling Vegetation Data:  83%|████████▎ | 32862/39617 [00:02<00:00, 12144.81it/s]\u001b[A\n",
      "Sampling Vegetation Data:  86%|████████▌ | 34081/39617 [00:02<00:00, 12157.92it/s]\u001b[A\n",
      "Sampling Vegetation Data:  89%|████████▉ | 35310/39617 [00:02<00:00, 12194.86it/s]\u001b[A\n",
      "Sampling Vegetation Data:  92%|█████████▏| 36534/39617 [00:03<00:00, 12206.87it/s]\u001b[A\n",
      "Sampling Vegetation Data:  95%|█████████▌| 37757/39617 [00:03<00:00, 12212.99it/s]\u001b[A\n",
      "Sampling Vegetation Data: 100%|██████████| 39617/39617 [00:03<00:00, 12126.00it/s]\u001b[A\n",
      "Processing Parquet Files:  55%|█████▍    | 54/99 [03:40<03:10,  4.24s/it]\n",
      "Sampling Vegetation Data:   0%|          | 0/21472 [00:00<?, ?it/s]\u001b[A\n",
      "Sampling Vegetation Data:   6%|▌         | 1218/21472 [00:00<00:01, 12172.58it/s]\u001b[A\n",
      "Sampling Vegetation Data:  11%|█▏        | 2436/21472 [00:00<00:01, 12113.53it/s]\u001b[A\n",
      "Sampling Vegetation Data:  17%|█▋        | 3651/21472 [00:00<00:01, 12126.31it/s]\u001b[A\n",
      "Sampling Vegetation Data:  23%|██▎       | 4864/21472 [00:00<00:01, 12060.04it/s]\u001b[A\n",
      "Sampling Vegetation Data:  28%|██▊       | 6075/21472 [00:00<00:01, 12075.64it/s]\u001b[A\n",
      "Sampling Vegetation Data:  34%|███▍      | 7289/21472 [00:00<00:01, 12097.34it/s]\u001b[A\n",
      "Sampling Vegetation Data:  40%|███▉      | 8511/21472 [00:00<00:01, 12136.28it/s]\u001b[A\n",
      "Sampling Vegetation Data:  45%|████▌     | 9727/21472 [00:00<00:00, 12143.17it/s]\u001b[A\n",
      "Sampling Vegetation Data:  51%|█████     | 10951/21472 [00:00<00:00, 12173.03it/s]\u001b[A\n",
      "Sampling Vegetation Data:  57%|█████▋    | 12169/21472 [00:01<00:00, 12164.78it/s]\u001b[A\n",
      "Sampling Vegetation Data:  62%|██████▏   | 13386/21472 [00:01<00:00, 12140.20it/s]\u001b[A\n",
      "Sampling Vegetation Data:  68%|██████▊   | 14608/21472 [00:01<00:00, 12163.73it/s]\u001b[A\n",
      "Sampling Vegetation Data:  74%|███████▎  | 15835/21472 [00:01<00:00, 12192.94it/s]\u001b[A\n",
      "Sampling Vegetation Data:  79%|███████▉  | 17067/21472 [00:01<00:00, 12228.57it/s]\u001b[A\n",
      "Sampling Vegetation Data:  85%|████████▌ | 18290/21472 [00:01<00:00, 12220.30it/s]\u001b[A\n",
      "Sampling Vegetation Data:  91%|█████████ | 19517/21472 [00:01<00:00, 12234.43it/s]\u001b[A\n",
      "Sampling Vegetation Data: 100%|██████████| 21472/21472 [00:01<00:00, 12177.93it/s]\u001b[A\n",
      "Processing Parquet Files:  56%|█████▌    | 55/99 [03:44<03:04,  4.20s/it]\n",
      "Sampling Vegetation Data:   0%|          | 0/20022 [00:00<?, ?it/s]\u001b[A\n",
      "Sampling Vegetation Data:   6%|▌         | 1225/20022 [00:00<00:01, 12247.85it/s]\u001b[A\n",
      "Sampling Vegetation Data:  12%|█▏        | 2450/20022 [00:00<00:01, 12219.36it/s]\u001b[A\n",
      "Sampling Vegetation Data:  18%|█▊        | 3672/20022 [00:00<00:01, 12166.64it/s]\u001b[A\n",
      "Sampling Vegetation Data:  24%|██▍       | 4889/20022 [00:00<00:01, 12088.22it/s]\u001b[A\n",
      "Sampling Vegetation Data:  31%|███       | 6114/20022 [00:00<00:01, 12142.87it/s]\u001b[A\n",
      "Sampling Vegetation Data:  37%|███▋      | 7339/20022 [00:00<00:01, 12178.08it/s]\u001b[A\n",
      "Sampling Vegetation Data:  43%|████▎     | 8557/20022 [00:00<00:00, 12163.48it/s]\u001b[A\n",
      "Sampling Vegetation Data:  49%|████▉     | 9776/20022 [00:00<00:00, 12171.59it/s]\u001b[A\n",
      "Sampling Vegetation Data:  55%|█████▍    | 10994/20022 [00:00<00:00, 12165.41it/s]\u001b[A\n",
      "Sampling Vegetation Data:  61%|██████    | 12216/20022 [00:01<00:00, 12181.37it/s]\u001b[A\n",
      "Sampling Vegetation Data:  67%|██████▋   | 13435/20022 [00:01<00:00, 12155.54it/s]\u001b[A\n",
      "Sampling Vegetation Data:  73%|███████▎  | 14654/20022 [00:01<00:00, 12163.30it/s]\u001b[A\n",
      "Sampling Vegetation Data:  79%|███████▉  | 15871/20022 [00:01<00:00, 12086.19it/s]\u001b[A\n",
      "Sampling Vegetation Data:  85%|████████▌ | 17080/20022 [00:01<00:00, 11939.52it/s]\u001b[A\n",
      "Sampling Vegetation Data:  91%|█████████▏| 18275/20022 [00:01<00:00, 11835.93it/s]\u001b[A\n",
      "Sampling Vegetation Data: 100%|██████████| 20022/20022 [00:01<00:00, 12061.43it/s]\u001b[A\n",
      "Processing Parquet Files:  57%|█████▋    | 56/99 [03:48<02:57,  4.13s/it]\n",
      "Sampling Vegetation Data:   0%|          | 0/39617 [00:00<?, ?it/s]\u001b[A\n",
      "Sampling Vegetation Data:   3%|▎         | 1222/39617 [00:00<00:03, 12216.95it/s]\u001b[A\n",
      "Sampling Vegetation Data:   6%|▌         | 2450/39617 [00:00<00:03, 12248.60it/s]\u001b[A\n",
      "Sampling Vegetation Data:   9%|▉         | 3675/39617 [00:00<00:02, 12241.77it/s]\u001b[A\n",
      "Sampling Vegetation Data:  12%|█▏        | 4900/39617 [00:00<00:02, 11941.73it/s]\u001b[A\n",
      "Sampling Vegetation Data:  15%|█▌        | 6129/39617 [00:00<00:02, 12062.68it/s]\u001b[A\n",
      "Sampling Vegetation Data:  19%|█▊        | 7337/39617 [00:00<00:02, 12002.27it/s]\u001b[A\n",
      "Sampling Vegetation Data:  22%|██▏       | 8557/39617 [00:00<00:02, 12064.62it/s]\u001b[A\n",
      "Sampling Vegetation Data:  25%|██▍       | 9790/39617 [00:00<00:02, 12146.78it/s]\u001b[A\n",
      "Sampling Vegetation Data:  28%|██▊       | 11006/39617 [00:00<00:02, 12087.30it/s]\u001b[A\n",
      "Sampling Vegetation Data:  31%|███       | 12216/39617 [00:01<00:02, 11894.98it/s]\u001b[A\n",
      "Sampling Vegetation Data:  34%|███▍      | 13428/39617 [00:01<00:02, 11961.48it/s]\u001b[A\n",
      "Sampling Vegetation Data:  37%|███▋      | 14650/39617 [00:01<00:02, 12037.93it/s]\u001b[A\n",
      "Sampling Vegetation Data:  40%|████      | 15864/39617 [00:01<00:01, 12065.86it/s]\u001b[A\n",
      "Sampling Vegetation Data:  43%|████▎     | 17071/39617 [00:01<00:01, 11864.42it/s]\u001b[A\n",
      "Sampling Vegetation Data:  46%|████▌     | 18298/39617 [00:01<00:01, 11983.14it/s]\u001b[A\n",
      "Sampling Vegetation Data:  49%|████▉     | 19518/39617 [00:01<00:01, 12045.77it/s]\u001b[A\n",
      "Sampling Vegetation Data:  52%|█████▏    | 20743/39617 [00:01<00:01, 12105.22it/s]\u001b[A\n",
      "Sampling Vegetation Data:  55%|█████▌    | 21974/39617 [00:01<00:01, 12165.61it/s]\u001b[A\n",
      "Sampling Vegetation Data:  59%|█████▊    | 23191/39617 [00:01<00:01, 12014.78it/s]\u001b[A\n",
      "Sampling Vegetation Data:  62%|██████▏   | 24394/39617 [00:02<00:01, 11990.03it/s]\u001b[A\n",
      "Sampling Vegetation Data:  65%|██████▍   | 25606/39617 [00:02<00:01, 12027.67it/s]\u001b[A\n",
      "Sampling Vegetation Data:  68%|██████▊   | 26829/39617 [00:02<00:01, 12085.08it/s]\u001b[A\n",
      "Sampling Vegetation Data:  71%|███████   | 28038/39617 [00:02<00:00, 12071.14it/s]\u001b[A\n",
      "Sampling Vegetation Data:  74%|███████▍  | 29246/39617 [00:02<00:00, 11917.97it/s]\u001b[A\n",
      "Sampling Vegetation Data:  77%|███████▋  | 30464/39617 [00:02<00:00, 11993.35it/s]\u001b[A\n",
      "Sampling Vegetation Data:  80%|███████▉  | 31680/39617 [00:02<00:00, 12040.67it/s]\u001b[A\n",
      "Sampling Vegetation Data:  83%|████████▎ | 32887/39617 [00:02<00:00, 12048.77it/s]\u001b[A\n",
      "Sampling Vegetation Data:  86%|████████▌ | 34115/39617 [00:02<00:00, 12117.00it/s]\u001b[A\n",
      "Sampling Vegetation Data:  89%|████████▉ | 35327/39617 [00:02<00:00, 11119.10it/s]\u001b[A\n",
      "Sampling Vegetation Data:  92%|█████████▏| 36524/39617 [00:03<00:00, 11358.27it/s]\u001b[A\n",
      "Sampling Vegetation Data:  95%|█████████▌| 37738/39617 [00:03<00:00, 11581.29it/s]\u001b[A\n",
      "Sampling Vegetation Data: 100%|██████████| 39617/39617 [00:03<00:00, 11940.94it/s]\u001b[A\n",
      "Processing Parquet Files:  58%|█████▊    | 57/99 [03:54<03:17,  4.70s/it]\n",
      "Sampling Vegetation Data:   0%|          | 0/9056 [00:00<?, ?it/s]\u001b[A\n",
      "Sampling Vegetation Data:  14%|█▎        | 1230/9056 [00:00<00:00, 12287.33it/s]\u001b[A\n",
      "Sampling Vegetation Data:  27%|██▋       | 2459/9056 [00:00<00:00, 12271.00it/s]\u001b[A\n",
      "Sampling Vegetation Data:  41%|████      | 3687/9056 [00:00<00:00, 12179.08it/s]\u001b[A\n",
      "Sampling Vegetation Data:  54%|█████▍    | 4905/9056 [00:00<00:00, 12120.42it/s]\u001b[A\n",
      "Sampling Vegetation Data:  68%|██████▊   | 6134/9056 [00:00<00:00, 12179.29it/s]\u001b[A\n",
      "Sampling Vegetation Data:  81%|████████  | 7356/9056 [00:00<00:00, 12191.96it/s]\u001b[A\n",
      "Sampling Vegetation Data: 100%|██████████| 9056/9056 [00:00<00:00, 12181.08it/s]\u001b[A\n",
      "Processing Parquet Files:  59%|█████▊    | 58/99 [03:57<02:50,  4.16s/it]\n",
      "Sampling Vegetation Data:   0%|          | 0/17033 [00:00<?, ?it/s]\u001b[A\n",
      "Sampling Vegetation Data:   7%|▋         | 1236/17033 [00:00<00:01, 12351.82it/s]\u001b[A\n",
      "Sampling Vegetation Data:  15%|█▍        | 2472/17033 [00:00<00:01, 12304.23it/s]\u001b[A\n",
      "Sampling Vegetation Data:  22%|██▏       | 3703/17033 [00:00<00:01, 12203.37it/s]\u001b[A\n",
      "Sampling Vegetation Data:  29%|██▉       | 4924/17033 [00:00<00:00, 12165.76it/s]\u001b[A\n",
      "Sampling Vegetation Data:  36%|███▌      | 6142/17033 [00:00<00:00, 12170.64it/s]\u001b[A\n",
      "Sampling Vegetation Data:  43%|████▎     | 7367/17033 [00:00<00:00, 12195.73it/s]\u001b[A\n",
      "Sampling Vegetation Data:  50%|█████     | 8587/17033 [00:00<00:00, 12192.10it/s]\u001b[A\n",
      "Sampling Vegetation Data:  58%|█████▊    | 9807/17033 [00:00<00:00, 12173.48it/s]\u001b[A\n",
      "Sampling Vegetation Data:  65%|██████▍   | 11025/17033 [00:00<00:00, 12169.14it/s]\u001b[A\n",
      "Sampling Vegetation Data:  72%|███████▏  | 12242/17033 [00:01<00:00, 12120.76it/s]\u001b[A\n",
      "Sampling Vegetation Data:  79%|███████▉  | 13465/17033 [00:01<00:00, 12152.54it/s]\u001b[A\n",
      "Sampling Vegetation Data:  86%|████████▌ | 14681/17033 [00:01<00:00, 12091.17it/s]\u001b[A\n",
      "Sampling Vegetation Data: 100%|██████████| 17033/17033 [00:01<00:00, 12156.34it/s]\u001b[A\n",
      "Processing Parquet Files:  60%|█████▉    | 59/99 [04:00<02:39,  3.99s/it]\n",
      "Sampling Vegetation Data:   0%|          | 0/12384 [00:00<?, ?it/s]\u001b[A\n",
      "Sampling Vegetation Data:  10%|▉         | 1215/12384 [00:00<00:00, 12146.62it/s]\u001b[A\n",
      "Sampling Vegetation Data:  20%|█▉        | 2430/12384 [00:00<00:00, 11710.53it/s]\u001b[A\n",
      "Sampling Vegetation Data:  29%|██▉       | 3641/12384 [00:00<00:00, 11886.37it/s]\u001b[A\n",
      "Sampling Vegetation Data:  39%|███▉      | 4855/12384 [00:00<00:00, 11984.88it/s]\u001b[A\n",
      "Sampling Vegetation Data:  49%|████▉     | 6084/12384 [00:00<00:00, 12093.20it/s]\u001b[A\n",
      "Sampling Vegetation Data:  59%|█████▉    | 7297/12384 [00:00<00:00, 12104.84it/s]\u001b[A\n",
      "Sampling Vegetation Data:  69%|██████▊   | 8508/12384 [00:00<00:00, 12087.41it/s]\u001b[A\n",
      "Sampling Vegetation Data:  78%|███████▊  | 9717/12384 [00:00<00:00, 12052.77it/s]\u001b[A\n",
      "Sampling Vegetation Data:  88%|████████▊ | 10923/12384 [00:00<00:00, 12048.89it/s]\u001b[A\n",
      "Sampling Vegetation Data: 100%|██████████| 12384/12384 [00:01<00:00, 12018.83it/s]\u001b[A\n",
      "Processing Parquet Files:  61%|██████    | 60/99 [04:04<02:25,  3.74s/it]\n",
      "Sampling Vegetation Data: 100%|██████████| 389/389 [00:00<00:00, 12017.44it/s]\n",
      "Processing Parquet Files:  62%|██████▏   | 61/99 [04:05<02:01,  3.19s/it]\n",
      "Sampling Vegetation Data:   0%|          | 0/16508 [00:00<?, ?it/s]\u001b[A\n",
      "Sampling Vegetation Data:   7%|▋         | 1224/16508 [00:00<00:01, 12235.52it/s]\u001b[A\n",
      "Sampling Vegetation Data:  15%|█▍        | 2450/16508 [00:00<00:01, 12248.40it/s]\u001b[A\n",
      "Sampling Vegetation Data:  22%|██▏       | 3675/16508 [00:00<00:01, 12137.39it/s]\u001b[A\n",
      "Sampling Vegetation Data:  30%|██▉       | 4889/16508 [00:00<00:00, 12135.75it/s]\u001b[A\n",
      "Sampling Vegetation Data:  37%|███▋      | 6109/16508 [00:00<00:00, 12156.21it/s]\u001b[A\n",
      "Sampling Vegetation Data:  44%|████▍     | 7325/16508 [00:00<00:00, 12135.30it/s]\u001b[A\n",
      "Sampling Vegetation Data:  52%|█████▏    | 8545/16508 [00:00<00:00, 12153.50it/s]\u001b[A\n",
      "Sampling Vegetation Data:  59%|█████▉    | 9761/16508 [00:00<00:00, 12114.34it/s]\u001b[A\n",
      "Sampling Vegetation Data:  66%|██████▋   | 10973/16508 [00:00<00:00, 12044.94it/s]\u001b[A\n",
      "Sampling Vegetation Data:  74%|███████▍  | 12193/16508 [00:01<00:00, 12090.24it/s]\u001b[A\n",
      "Sampling Vegetation Data:  81%|████████  | 13403/16508 [00:01<00:00, 12091.02it/s]\u001b[A\n",
      "Sampling Vegetation Data:  89%|████████▊ | 14613/16508 [00:01<00:00, 12078.06it/s]\u001b[A\n",
      "Sampling Vegetation Data: 100%|██████████| 16508/16508 [00:01<00:00, 12112.63it/s]\u001b[A\n",
      "Processing Parquet Files:  63%|██████▎   | 62/99 [04:09<02:02,  3.30s/it]\n",
      "Sampling Vegetation Data:   0%|          | 0/39617 [00:00<?, ?it/s]\u001b[A\n",
      "Sampling Vegetation Data:   3%|▎         | 1212/39617 [00:00<00:03, 12116.23it/s]\u001b[A\n",
      "Sampling Vegetation Data:   6%|▌         | 2427/39617 [00:00<00:03, 12134.48it/s]\u001b[A\n",
      "Sampling Vegetation Data:   9%|▉         | 3641/39617 [00:00<00:02, 12136.46it/s]\u001b[A\n",
      "Sampling Vegetation Data:  12%|█▏        | 4855/39617 [00:00<00:02, 12137.29it/s]\u001b[A\n",
      "Sampling Vegetation Data:  15%|█▌        | 6087/39617 [00:00<00:02, 12201.62it/s]\u001b[A\n",
      "Sampling Vegetation Data:  18%|█▊        | 7308/39617 [00:00<00:02, 12169.81it/s]\u001b[A\n",
      "Sampling Vegetation Data:  22%|██▏       | 8535/39617 [00:00<00:02, 12201.29it/s]\u001b[A\n",
      "Sampling Vegetation Data:  25%|██▍       | 9761/39617 [00:00<00:02, 12217.91it/s]\u001b[A\n",
      "Sampling Vegetation Data:  28%|██▊       | 10983/39617 [00:00<00:02, 12184.66it/s]\u001b[A\n",
      "Sampling Vegetation Data:  31%|███       | 12202/39617 [00:01<00:02, 12168.49it/s]\u001b[A\n",
      "Sampling Vegetation Data:  34%|███▍      | 13421/39617 [00:01<00:02, 12172.19it/s]\u001b[A\n",
      "Sampling Vegetation Data:  37%|███▋      | 14639/39617 [00:01<00:02, 12121.17it/s]\u001b[A\n",
      "Sampling Vegetation Data:  40%|████      | 15852/39617 [00:01<00:01, 12118.54it/s]\u001b[A\n",
      "Sampling Vegetation Data:  43%|████▎     | 17064/39617 [00:01<00:01, 12113.12it/s]\u001b[A\n",
      "Sampling Vegetation Data:  46%|████▌     | 18276/39617 [00:01<00:01, 12093.75it/s]\u001b[A\n",
      "Sampling Vegetation Data:  49%|████▉     | 19490/39617 [00:01<00:01, 12106.17it/s]\u001b[A\n",
      "Sampling Vegetation Data:  52%|█████▏    | 20704/39617 [00:01<00:01, 12114.43it/s]\u001b[A\n",
      "Sampling Vegetation Data:  55%|█████▌    | 21916/39617 [00:01<00:01, 12097.01it/s]\u001b[A\n",
      "Sampling Vegetation Data:  58%|█████▊    | 23126/39617 [00:01<00:01, 12061.94it/s]\u001b[A\n",
      "Sampling Vegetation Data:  61%|██████▏   | 24336/39617 [00:02<00:01, 12072.52it/s]\u001b[A\n",
      "Sampling Vegetation Data:  64%|██████▍   | 25544/39617 [00:02<00:01, 12067.89it/s]\u001b[A\n",
      "Sampling Vegetation Data:  68%|██████▊   | 26775/39617 [00:02<00:01, 12139.34it/s]\u001b[A\n",
      "Sampling Vegetation Data:  71%|███████   | 28003/39617 [00:02<00:00, 12178.53it/s]\u001b[A\n",
      "Sampling Vegetation Data:  74%|███████▍  | 29221/39617 [00:02<00:00, 12098.70it/s]\u001b[A\n",
      "Sampling Vegetation Data:  77%|███████▋  | 30449/39617 [00:02<00:00, 12150.09it/s]\u001b[A\n",
      "Sampling Vegetation Data:  80%|███████▉  | 31666/39617 [00:02<00:00, 12153.50it/s]\u001b[A\n",
      "Sampling Vegetation Data:  83%|████████▎ | 32882/39617 [00:02<00:00, 12145.14it/s]\u001b[A\n",
      "Sampling Vegetation Data:  86%|████████▌ | 34105/39617 [00:02<00:00, 12168.34it/s]\u001b[A\n",
      "Sampling Vegetation Data:  89%|████████▉ | 35322/39617 [00:02<00:00, 12102.72it/s]\u001b[A\n",
      "Sampling Vegetation Data:  92%|█████████▏| 36533/39617 [00:03<00:00, 12074.10it/s]\u001b[A\n",
      "Sampling Vegetation Data:  95%|█████████▌| 37759/39617 [00:03<00:00, 12127.47it/s]\u001b[A\n",
      "Sampling Vegetation Data: 100%|██████████| 39617/39617 [00:03<00:00, 12133.10it/s]\u001b[A\n",
      "Processing Parquet Files:  64%|██████▎   | 63/99 [04:15<02:27,  4.10s/it]\n",
      "Sampling Vegetation Data:   0%|          | 0/16523 [00:00<?, ?it/s]\u001b[A\n",
      "Sampling Vegetation Data:   7%|▋         | 1239/16523 [00:00<00:01, 12383.10it/s]\u001b[A\n",
      "Sampling Vegetation Data:  15%|█▍        | 2478/16523 [00:00<00:01, 12321.15it/s]\u001b[A\n",
      "Sampling Vegetation Data:  22%|██▏       | 3711/16523 [00:00<00:01, 12199.58it/s]\u001b[A\n",
      "Sampling Vegetation Data:  30%|██▉       | 4932/16523 [00:00<00:00, 12201.76it/s]\u001b[A\n",
      "Sampling Vegetation Data:  37%|███▋      | 6153/16523 [00:00<00:00, 12180.88it/s]\u001b[A\n",
      "Sampling Vegetation Data:  45%|████▍     | 7372/16523 [00:00<00:00, 12146.37it/s]\u001b[A\n",
      "Sampling Vegetation Data:  52%|█████▏    | 8587/16523 [00:00<00:00, 12137.47it/s]\u001b[A\n",
      "Sampling Vegetation Data:  59%|█████▉    | 9814/16523 [00:00<00:00, 12176.72it/s]\u001b[A\n",
      "Sampling Vegetation Data:  67%|██████▋   | 11044/16523 [00:00<00:00, 12214.10it/s]\u001b[A\n",
      "Sampling Vegetation Data:  74%|███████▍  | 12271/16523 [00:01<00:00, 12230.00it/s]\u001b[A\n",
      "Sampling Vegetation Data:  82%|████████▏ | 13495/16523 [00:01<00:00, 12192.33it/s]\u001b[A\n",
      "Sampling Vegetation Data:  89%|████████▉ | 14723/16523 [00:01<00:00, 12218.60it/s]\u001b[A\n",
      "Sampling Vegetation Data: 100%|██████████| 16523/16523 [00:01<00:00, 12174.38it/s]\u001b[A\n",
      "Processing Parquet Files:  65%|██████▍   | 64/99 [04:19<02:17,  3.93s/it]\n",
      "Sampling Vegetation Data:   0%|          | 0/16308 [00:00<?, ?it/s]\u001b[A\n",
      "Sampling Vegetation Data:   8%|▊         | 1231/16308 [00:00<00:01, 12300.42it/s]\u001b[A\n",
      "Sampling Vegetation Data:  15%|█▌        | 2462/16308 [00:00<00:01, 12265.02it/s]\u001b[A\n",
      "Sampling Vegetation Data:  23%|██▎       | 3689/16308 [00:00<00:01, 12141.59it/s]\u001b[A\n",
      "Sampling Vegetation Data:  30%|███       | 4904/16308 [00:00<00:00, 12112.29it/s]\u001b[A\n",
      "Sampling Vegetation Data:  38%|███▊      | 6117/16308 [00:00<00:00, 12116.13it/s]\u001b[A\n",
      "Sampling Vegetation Data:  45%|████▍     | 7329/16308 [00:00<00:00, 12099.13it/s]\u001b[A\n",
      "Sampling Vegetation Data:  52%|█████▏    | 8539/16308 [00:00<00:00, 12077.15it/s]\u001b[A\n",
      "Sampling Vegetation Data:  60%|█████▉    | 9747/16308 [00:00<00:00, 12047.32it/s]\u001b[A\n",
      "Sampling Vegetation Data:  67%|██████▋   | 10971/16308 [00:00<00:00, 12105.16it/s]\u001b[A\n",
      "Sampling Vegetation Data:  75%|███████▍  | 12187/16308 [00:01<00:00, 12119.04it/s]\u001b[A\n",
      "Sampling Vegetation Data:  82%|████████▏ | 13406/16308 [00:01<00:00, 12138.22it/s]\u001b[A\n",
      "Sampling Vegetation Data:  90%|████████▉ | 14620/16308 [00:01<00:00, 12118.64it/s]\u001b[A\n",
      "Sampling Vegetation Data: 100%|██████████| 16308/16308 [00:01<00:00, 12106.15it/s]\u001b[A\n",
      "Processing Parquet Files:  66%|██████▌   | 65/99 [04:22<02:09,  3.81s/it]\n",
      "Sampling Vegetation Data: 100%|██████████| 389/389 [00:00<00:00, 11905.29it/s]\n",
      "Processing Parquet Files:  67%|██████▋   | 66/99 [04:24<01:47,  3.24s/it]\n",
      "Sampling Vegetation Data:   0%|          | 0/16508 [00:00<?, ?it/s]\u001b[A\n",
      "Sampling Vegetation Data:   7%|▋         | 1231/16508 [00:00<00:01, 12300.33it/s]\u001b[A\n",
      "Sampling Vegetation Data:  15%|█▍        | 2462/16508 [00:00<00:01, 12260.88it/s]\u001b[A\n",
      "Sampling Vegetation Data:  22%|██▏       | 3689/16508 [00:00<00:01, 12168.70it/s]\u001b[A\n",
      "Sampling Vegetation Data:  30%|██▉       | 4906/16508 [00:00<00:00, 12078.32it/s]\u001b[A\n",
      "Sampling Vegetation Data:  37%|███▋      | 6114/16508 [00:00<00:00, 12047.36it/s]\u001b[A\n",
      "Sampling Vegetation Data:  44%|████▍     | 7324/16508 [00:00<00:00, 12064.55it/s]\u001b[A\n",
      "Sampling Vegetation Data:  52%|█████▏    | 8533/16508 [00:00<00:00, 12071.86it/s]\u001b[A\n",
      "Sampling Vegetation Data:  59%|█████▉    | 9741/16508 [00:00<00:00, 12065.01it/s]\u001b[A\n",
      "Sampling Vegetation Data:  66%|██████▋   | 10960/16508 [00:00<00:00, 12102.91it/s]\u001b[A\n",
      "Sampling Vegetation Data:  74%|███████▎  | 12171/16508 [00:01<00:00, 12090.33it/s]\u001b[A\n",
      "Sampling Vegetation Data:  81%|████████  | 13381/16508 [00:01<00:00, 12072.00it/s]\u001b[A\n",
      "Sampling Vegetation Data:  88%|████████▊ | 14589/16508 [00:01<00:00, 12073.97it/s]\u001b[A\n",
      "Sampling Vegetation Data: 100%|██████████| 16508/16508 [00:01<00:00, 12081.30it/s]\u001b[A\n",
      "Processing Parquet Files:  68%|██████▊   | 67/99 [04:28<01:47,  3.36s/it]\n",
      "Sampling Vegetation Data:   0%|          | 0/14404 [00:00<?, ?it/s]\u001b[A\n",
      "Sampling Vegetation Data:   9%|▊         | 1227/14404 [00:00<00:01, 12263.67it/s]\u001b[A\n",
      "Sampling Vegetation Data:  17%|█▋        | 2454/14404 [00:00<00:00, 12222.55it/s]\u001b[A\n",
      "Sampling Vegetation Data:  26%|██▌       | 3677/14404 [00:00<00:00, 12216.17it/s]\u001b[A\n",
      "Sampling Vegetation Data:  34%|███▍      | 4899/14404 [00:00<00:00, 12188.46it/s]\u001b[A\n",
      "Sampling Vegetation Data:  42%|████▏     | 6118/14404 [00:00<00:00, 12188.08it/s]\u001b[A\n",
      "Sampling Vegetation Data:  51%|█████     | 7337/14404 [00:00<00:00, 12131.55it/s]\u001b[A\n",
      "Sampling Vegetation Data:  59%|█████▉    | 8551/14404 [00:00<00:00, 12098.99it/s]\u001b[A\n",
      "Sampling Vegetation Data:  68%|██████▊   | 9767/14404 [00:00<00:00, 12115.33it/s]\u001b[A\n",
      "Sampling Vegetation Data:  76%|███████▋  | 10986/14404 [00:00<00:00, 12136.76it/s]\u001b[A\n",
      "Sampling Vegetation Data:  85%|████████▍ | 12204/14404 [00:01<00:00, 12149.87it/s]\u001b[A\n",
      "Sampling Vegetation Data: 100%|██████████| 14404/14404 [00:01<00:00, 12130.31it/s]\u001b[A\n",
      "Processing Parquet Files:  69%|██████▊   | 68/99 [04:31<01:43,  3.35s/it]\n",
      "Sampling Vegetation Data:   0%|          | 0/39617 [00:00<?, ?it/s]\u001b[A\n",
      "Sampling Vegetation Data:   3%|▎         | 1232/39617 [00:00<00:03, 12316.90it/s]\u001b[A\n",
      "Sampling Vegetation Data:   6%|▌         | 2464/39617 [00:00<00:03, 12276.33it/s]\u001b[A\n",
      "Sampling Vegetation Data:   9%|▉         | 3692/39617 [00:00<00:02, 12228.19it/s]\u001b[A\n",
      "Sampling Vegetation Data:  12%|█▏        | 4915/39617 [00:00<00:02, 12213.22it/s]\u001b[A\n",
      "Sampling Vegetation Data:  15%|█▌        | 6137/39617 [00:00<00:02, 12215.29it/s]\u001b[A\n",
      "Sampling Vegetation Data:  19%|█▊        | 7359/39617 [00:00<00:02, 12177.14it/s]\u001b[A\n",
      "Sampling Vegetation Data:  22%|██▏       | 8577/39617 [00:00<00:02, 12138.07it/s]\u001b[A\n",
      "Sampling Vegetation Data:  25%|██▍       | 9791/39617 [00:00<00:02, 12127.72it/s]\u001b[A\n",
      "Sampling Vegetation Data:  28%|██▊       | 11004/39617 [00:00<00:02, 12100.01it/s]\u001b[A\n",
      "Sampling Vegetation Data:  31%|███       | 12215/39617 [00:01<00:02, 11953.85it/s]\u001b[A\n",
      "Sampling Vegetation Data:  34%|███▍      | 13411/39617 [00:01<00:02, 11941.40it/s]\u001b[A\n",
      "Sampling Vegetation Data:  37%|███▋      | 14622/39617 [00:01<00:02, 11989.97it/s]\u001b[A\n",
      "Sampling Vegetation Data:  40%|███▉      | 15830/39617 [00:01<00:01, 12015.45it/s]\u001b[A\n",
      "Sampling Vegetation Data:  43%|████▎     | 17032/39617 [00:01<00:01, 11999.67it/s]\u001b[A\n",
      "Sampling Vegetation Data:  46%|████▌     | 18233/39617 [00:01<00:01, 12002.04it/s]\u001b[A\n",
      "Sampling Vegetation Data:  49%|████▉     | 19439/39617 [00:01<00:01, 12017.87it/s]\u001b[A\n",
      "Sampling Vegetation Data:  52%|█████▏    | 20646/39617 [00:01<00:01, 12031.21it/s]\u001b[A\n",
      "Sampling Vegetation Data:  55%|█████▌    | 21850/39617 [00:01<00:01, 11981.82it/s]\u001b[A\n",
      "Sampling Vegetation Data:  58%|█████▊    | 23049/39617 [00:01<00:01, 11942.25it/s]\u001b[A\n",
      "Sampling Vegetation Data:  61%|██████    | 24244/39617 [00:02<00:01, 11942.15it/s]\u001b[A\n",
      "Sampling Vegetation Data:  64%|██████▍   | 25439/39617 [00:02<00:01, 11885.39it/s]\u001b[A\n",
      "Sampling Vegetation Data:  67%|██████▋   | 26636/39617 [00:02<00:01, 11909.15it/s]\u001b[A\n",
      "Sampling Vegetation Data:  70%|███████   | 27840/39617 [00:02<00:00, 11946.62it/s]\u001b[A\n",
      "Sampling Vegetation Data:  73%|███████▎  | 29052/39617 [00:02<00:00, 11996.43it/s]\u001b[A\n",
      "Sampling Vegetation Data:  76%|███████▋  | 30252/39617 [00:02<00:00, 11980.52it/s]\u001b[A\n",
      "Sampling Vegetation Data:  79%|███████▉  | 31455/39617 [00:02<00:00, 11993.62it/s]\u001b[A\n",
      "Sampling Vegetation Data:  82%|████████▏ | 32664/39617 [00:02<00:00, 12020.48it/s]\u001b[A\n",
      "Sampling Vegetation Data:  85%|████████▌ | 33869/39617 [00:02<00:00, 12029.06it/s]\u001b[A\n",
      "Sampling Vegetation Data:  89%|████████▊ | 35072/39617 [00:02<00:00, 11978.57it/s]\u001b[A\n",
      "Sampling Vegetation Data:  92%|█████████▏| 36270/39617 [00:03<00:00, 11963.29it/s]\u001b[A\n",
      "Sampling Vegetation Data:  95%|█████████▍| 37482/39617 [00:03<00:00, 12010.02it/s]\u001b[A\n",
      "Sampling Vegetation Data: 100%|██████████| 39617/39617 [00:03<00:00, 12022.44it/s]\u001b[A\n",
      "Processing Parquet Files:  70%|██████▉   | 69/99 [04:37<02:04,  4.13s/it]\n",
      "Sampling Vegetation Data: 100%|██████████| 389/389 [00:00<00:00, 11897.48it/s]\n",
      "Processing Parquet Files:  71%|███████   | 70/99 [04:39<01:40,  3.48s/it]\n",
      "Sampling Vegetation Data:   0%|          | 0/21472 [00:00<?, ?it/s]\u001b[A\n",
      "Sampling Vegetation Data:   6%|▌         | 1229/21472 [00:00<00:01, 12289.25it/s]\u001b[A\n",
      "Sampling Vegetation Data:  11%|█▏        | 2458/21472 [00:00<00:01, 12181.37it/s]\u001b[A\n",
      "Sampling Vegetation Data:  17%|█▋        | 3677/21472 [00:00<00:01, 12131.78it/s]\u001b[A\n",
      "Sampling Vegetation Data:  23%|██▎       | 4891/21472 [00:00<00:01, 12101.04it/s]\u001b[A\n",
      "Sampling Vegetation Data:  28%|██▊       | 6117/21472 [00:00<00:01, 12156.33it/s]\u001b[A\n",
      "Sampling Vegetation Data:  34%|███▍      | 7342/21472 [00:00<00:01, 12187.84it/s]\u001b[A\n",
      "Sampling Vegetation Data:  40%|███▉      | 8561/21472 [00:00<00:01, 12115.21it/s]\u001b[A\n",
      "Sampling Vegetation Data:  46%|████▌     | 9773/21472 [00:00<00:00, 12083.32it/s]\u001b[A\n",
      "Sampling Vegetation Data:  51%|█████     | 10990/21472 [00:00<00:00, 12108.03it/s]\u001b[A\n",
      "Sampling Vegetation Data:  57%|█████▋    | 12209/21472 [00:01<00:00, 12132.08it/s]\u001b[A\n",
      "Sampling Vegetation Data:  63%|██████▎   | 13423/21472 [00:01<00:00, 12107.37it/s]\u001b[A\n",
      "Sampling Vegetation Data:  68%|██████▊   | 14636/21472 [00:01<00:00, 12111.56it/s]\u001b[A\n",
      "Sampling Vegetation Data:  74%|███████▍  | 15853/21472 [00:01<00:00, 12128.82it/s]\u001b[A\n",
      "Sampling Vegetation Data:  80%|███████▉  | 17072/21472 [00:01<00:00, 12145.00it/s]\u001b[A\n",
      "Sampling Vegetation Data:  85%|████████▌ | 18287/21472 [00:01<00:00, 12139.73it/s]\u001b[A\n",
      "Sampling Vegetation Data:  91%|█████████ | 19505/21472 [00:01<00:00, 12151.64it/s]\u001b[A\n",
      "Sampling Vegetation Data: 100%|██████████| 21472/21472 [00:01<00:00, 12140.81it/s]\u001b[A\n",
      "Processing Parquet Files:  72%|███████▏  | 71/99 [04:43<01:42,  3.65s/it]\n",
      "Sampling Vegetation Data:   0%|          | 0/39617 [00:00<?, ?it/s]\u001b[A\n",
      "Sampling Vegetation Data:   3%|▎         | 1221/39617 [00:00<00:03, 12208.00it/s]\u001b[A\n",
      "Sampling Vegetation Data:   6%|▌         | 2442/39617 [00:00<00:03, 12040.98it/s]\u001b[A\n",
      "Sampling Vegetation Data:   9%|▉         | 3650/39617 [00:00<00:02, 12056.65it/s]\u001b[A\n",
      "Sampling Vegetation Data:  12%|█▏        | 4856/39617 [00:00<00:02, 11964.96it/s]\u001b[A\n",
      "Sampling Vegetation Data:  15%|█▌        | 6070/39617 [00:00<00:02, 12024.53it/s]\u001b[A\n",
      "Sampling Vegetation Data:  18%|█▊        | 7275/39617 [00:00<00:02, 12032.71it/s]\u001b[A\n",
      "Sampling Vegetation Data:  21%|██▏       | 8486/39617 [00:00<00:02, 12057.30it/s]\u001b[A\n",
      "Sampling Vegetation Data:  24%|██▍       | 9692/39617 [00:00<00:02, 12036.13it/s]\u001b[A\n",
      "Sampling Vegetation Data:  28%|██▊       | 10911/39617 [00:00<00:02, 12081.78it/s]\u001b[A\n",
      "Sampling Vegetation Data:  31%|███       | 12130/39617 [00:01<00:02, 12114.99it/s]\u001b[A\n",
      "Sampling Vegetation Data:  34%|███▎      | 13342/39617 [00:01<00:02, 12101.79it/s]\u001b[A\n",
      "Sampling Vegetation Data:  37%|███▋      | 14553/39617 [00:01<00:02, 12092.72it/s]\u001b[A\n",
      "Sampling Vegetation Data:  40%|███▉      | 15763/39617 [00:01<00:01, 12094.16it/s]\u001b[A\n",
      "Sampling Vegetation Data:  43%|████▎     | 16973/39617 [00:01<00:01, 12084.53it/s]\u001b[A\n",
      "Sampling Vegetation Data:  46%|████▌     | 18200/39617 [00:01<00:01, 12139.16it/s]\u001b[A\n",
      "Sampling Vegetation Data:  49%|████▉     | 19414/39617 [00:01<00:01, 12108.68it/s]\u001b[A\n",
      "Sampling Vegetation Data:  52%|█████▏    | 20625/39617 [00:01<00:01, 12021.65it/s]\u001b[A\n",
      "Sampling Vegetation Data:  55%|█████▌    | 21828/39617 [00:01<00:01, 12017.96it/s]\u001b[A\n",
      "Sampling Vegetation Data:  58%|█████▊    | 23032/39617 [00:01<00:01, 12023.58it/s]\u001b[A\n",
      "Sampling Vegetation Data:  61%|██████    | 24237/39617 [00:02<00:01, 12031.05it/s]\u001b[A\n",
      "Sampling Vegetation Data:  64%|██████▍   | 25441/39617 [00:02<00:01, 12008.59it/s]\u001b[A\n",
      "Sampling Vegetation Data:  67%|██████▋   | 26656/39617 [00:02<00:01, 12048.97it/s]\u001b[A\n",
      "Sampling Vegetation Data:  70%|███████   | 27866/39617 [00:02<00:00, 12062.36it/s]\u001b[A\n",
      "Sampling Vegetation Data:  73%|███████▎  | 29073/39617 [00:02<00:00, 12038.40it/s]\u001b[A\n",
      "Sampling Vegetation Data:  76%|███████▋  | 30286/39617 [00:02<00:00, 12065.60it/s]\u001b[A\n",
      "Sampling Vegetation Data:  80%|███████▉  | 31505/39617 [00:02<00:00, 12101.20it/s]\u001b[A\n",
      "Sampling Vegetation Data:  83%|████████▎ | 32727/39617 [00:02<00:00, 12135.10it/s]\u001b[A\n",
      "Sampling Vegetation Data:  86%|████████▌ | 33947/39617 [00:02<00:00, 12153.97it/s]\u001b[A\n",
      "Sampling Vegetation Data:  89%|████████▉ | 35166/39617 [00:02<00:00, 12163.34it/s]\u001b[A\n",
      "Sampling Vegetation Data:  92%|█████████▏| 36383/39617 [00:03<00:00, 12152.39it/s]\u001b[A\n",
      "Sampling Vegetation Data:  95%|█████████▍| 37599/39617 [00:03<00:00, 12059.89it/s]\u001b[A\n",
      "Sampling Vegetation Data: 100%|██████████| 39617/39617 [00:03<00:00, 12059.70it/s]\u001b[A\n",
      "Processing Parquet Files:  73%|███████▎  | 72/99 [04:49<01:57,  4.35s/it]\n",
      "Sampling Vegetation Data:   0%|          | 0/49436 [00:00<?, ?it/s]\u001b[A\n",
      "Sampling Vegetation Data:   2%|▏         | 1206/49436 [00:00<00:04, 12054.69it/s]\u001b[A\n",
      "Sampling Vegetation Data:   5%|▍         | 2412/49436 [00:00<00:03, 12016.15it/s]\u001b[A\n",
      "Sampling Vegetation Data:   7%|▋         | 3617/49436 [00:00<00:03, 12028.79it/s]\u001b[A\n",
      "Sampling Vegetation Data:  10%|▉         | 4820/49436 [00:00<00:03, 11783.98it/s]\u001b[A\n",
      "Sampling Vegetation Data:  12%|█▏        | 6020/49436 [00:00<00:03, 11859.58it/s]\u001b[A\n",
      "Sampling Vegetation Data:  15%|█▍        | 7222/49436 [00:00<00:03, 11912.96it/s]\u001b[A\n",
      "Sampling Vegetation Data:  17%|█▋        | 8427/49436 [00:00<00:03, 11956.82it/s]\u001b[A\n",
      "Sampling Vegetation Data:  19%|█▉        | 9623/49436 [00:00<00:03, 11889.73it/s]\u001b[A\n",
      "Sampling Vegetation Data:  22%|██▏       | 10824/49436 [00:00<00:03, 11925.04it/s]\u001b[A\n",
      "Sampling Vegetation Data:  24%|██▍       | 12027/49436 [00:01<00:03, 11955.43it/s]\u001b[A\n",
      "Sampling Vegetation Data:  27%|██▋       | 13223/49436 [00:01<00:03, 11911.44it/s]\u001b[A\n",
      "Sampling Vegetation Data:  29%|██▉       | 14420/49436 [00:01<00:02, 11928.10it/s]\u001b[A\n",
      "Sampling Vegetation Data:  32%|███▏      | 15623/49436 [00:01<00:02, 11956.39it/s]\u001b[A\n",
      "Sampling Vegetation Data:  34%|███▍      | 16819/49436 [00:01<00:02, 11918.81it/s]\u001b[A\n",
      "Sampling Vegetation Data:  36%|███▋      | 18016/49436 [00:01<00:02, 11931.73it/s]\u001b[A\n",
      "Sampling Vegetation Data:  39%|███▉      | 19219/49436 [00:01<00:02, 11959.90it/s]\u001b[A\n",
      "Sampling Vegetation Data:  41%|████▏     | 20429/49436 [00:01<00:02, 11999.83it/s]\u001b[A\n",
      "Sampling Vegetation Data:  44%|████▍     | 21630/49436 [00:01<00:02, 11868.40it/s]\u001b[A\n",
      "Sampling Vegetation Data:  46%|████▌     | 22819/49436 [00:01<00:02, 11871.29it/s]\u001b[A\n",
      "Sampling Vegetation Data:  49%|████▊     | 24013/49436 [00:02<00:02, 11890.65it/s]\u001b[A\n",
      "Sampling Vegetation Data:  51%|█████     | 25220/49436 [00:02<00:02, 11941.66it/s]\u001b[A\n",
      "Sampling Vegetation Data:  53%|█████▎    | 26425/49436 [00:02<00:01, 11973.04it/s]\u001b[A\n",
      "Sampling Vegetation Data:  56%|█████▌    | 27623/49436 [00:02<00:01, 11928.77it/s]\u001b[A\n",
      "Sampling Vegetation Data:  58%|█████▊    | 28816/49436 [00:02<00:01, 11903.50it/s]\u001b[A\n",
      "Sampling Vegetation Data:  61%|██████    | 30029/49436 [00:02<00:01, 11970.69it/s]\u001b[A\n",
      "Sampling Vegetation Data:  63%|██████▎   | 31227/49436 [00:02<00:01, 11884.93it/s]\u001b[A\n",
      "Sampling Vegetation Data:  66%|██████▌   | 32420/49436 [00:02<00:01, 11898.26it/s]\u001b[A\n",
      "Sampling Vegetation Data:  68%|██████▊   | 33610/49436 [00:02<00:01, 11841.78it/s]\u001b[A\n",
      "Sampling Vegetation Data:  70%|███████   | 34795/49436 [00:02<00:01, 11782.92it/s]\u001b[A\n",
      "Sampling Vegetation Data:  73%|███████▎  | 35976/49436 [00:03<00:01, 11790.68it/s]\u001b[A\n",
      "Sampling Vegetation Data:  75%|███████▌  | 37168/49436 [00:03<00:01, 11827.77it/s]\u001b[A\n",
      "Sampling Vegetation Data:  78%|███████▊  | 38367/49436 [00:03<00:00, 11874.01it/s]\u001b[A\n",
      "Sampling Vegetation Data:  80%|████████  | 39570/49436 [00:03<00:00, 11918.12it/s]\u001b[A\n",
      "Sampling Vegetation Data:  82%|████████▏ | 40762/49436 [00:03<00:00, 11912.05it/s]\u001b[A\n",
      "Sampling Vegetation Data:  85%|████████▍ | 41962/49436 [00:03<00:00, 11937.82it/s]\u001b[A\n",
      "Sampling Vegetation Data:  87%|████████▋ | 43156/49436 [00:03<00:00, 11906.02it/s]\u001b[A\n",
      "Sampling Vegetation Data:  90%|████████▉ | 44353/49436 [00:03<00:00, 11924.66it/s]\u001b[A\n",
      "Sampling Vegetation Data:  92%|█████████▏| 45546/49436 [00:03<00:00, 11795.66it/s]\u001b[A\n",
      "Sampling Vegetation Data:  95%|█████████▍| 46726/49436 [00:03<00:00, 11782.22it/s]\u001b[A\n",
      "Sampling Vegetation Data:  97%|█████████▋| 47912/49436 [00:04<00:00, 11804.40it/s]\u001b[A\n",
      "Sampling Vegetation Data: 100%|██████████| 49436/49436 [00:04<00:00, 11893.84it/s]\u001b[A\n",
      "Processing Parquet Files:  74%|███████▎  | 73/99 [04:56<02:13,  5.15s/it]\n",
      "Sampling Vegetation Data:   0%|          | 0/19140 [00:00<?, ?it/s]\u001b[A\n",
      "Sampling Vegetation Data:   6%|▋         | 1215/19140 [00:00<00:01, 12143.24it/s]\u001b[A\n",
      "Sampling Vegetation Data:  13%|█▎        | 2430/19140 [00:00<00:01, 12122.32it/s]\u001b[A\n",
      "Sampling Vegetation Data:  19%|█▉        | 3643/19140 [00:00<00:01, 11995.67it/s]\u001b[A\n",
      "Sampling Vegetation Data:  25%|██▌       | 4843/19140 [00:00<00:01, 11910.80it/s]\u001b[A\n",
      "Sampling Vegetation Data:  32%|███▏      | 6035/19140 [00:00<00:01, 11893.07it/s]\u001b[A\n",
      "Sampling Vegetation Data:  38%|███▊      | 7241/19140 [00:00<00:00, 11948.68it/s]\u001b[A\n",
      "Sampling Vegetation Data:  44%|████▍     | 8446/19140 [00:00<00:00, 11980.07it/s]\u001b[A\n",
      "Sampling Vegetation Data:  50%|█████     | 9647/19140 [00:00<00:00, 11989.27it/s]\u001b[A\n",
      "Sampling Vegetation Data:  57%|█████▋    | 10846/19140 [00:00<00:00, 11984.01it/s]\u001b[A\n",
      "Sampling Vegetation Data:  63%|██████▎   | 12048/19140 [00:01<00:00, 11993.72it/s]\u001b[A\n",
      "Sampling Vegetation Data:  69%|██████▉   | 13249/19140 [00:01<00:00, 11997.04it/s]\u001b[A\n",
      "Sampling Vegetation Data:  75%|███████▌  | 14449/19140 [00:01<00:00, 11926.34it/s]\u001b[A\n",
      "Sampling Vegetation Data:  82%|████████▏ | 15646/19140 [00:01<00:00, 11937.58it/s]\u001b[A\n",
      "Sampling Vegetation Data:  88%|████████▊ | 16843/19140 [00:01<00:00, 11947.10it/s]\u001b[A\n",
      "Sampling Vegetation Data: 100%|██████████| 19140/19140 [00:01<00:00, 11964.21it/s]\u001b[A\n",
      "Processing Parquet Files:  75%|███████▍  | 74/99 [05:00<01:59,  4.78s/it]\n",
      "Sampling Vegetation Data:   0%|          | 0/39617 [00:00<?, ?it/s]\u001b[A\n",
      "Sampling Vegetation Data:   3%|▎         | 1201/39617 [00:00<00:03, 12006.58it/s]\u001b[A\n",
      "Sampling Vegetation Data:   6%|▌         | 2406/39617 [00:00<00:03, 12028.99it/s]\u001b[A\n",
      "Sampling Vegetation Data:   9%|▉         | 3609/39617 [00:00<00:03, 11971.52it/s]\u001b[A\n",
      "Sampling Vegetation Data:  12%|█▏        | 4807/39617 [00:00<00:02, 11967.78it/s]\u001b[A\n",
      "Sampling Vegetation Data:  15%|█▌        | 6018/39617 [00:00<00:02, 12016.47it/s]\u001b[A\n",
      "Sampling Vegetation Data:  18%|█▊        | 7220/39617 [00:00<00:02, 11996.06it/s]\u001b[A\n",
      "Sampling Vegetation Data:  21%|██▏       | 8420/39617 [00:00<00:02, 11975.63it/s]\u001b[A\n",
      "Sampling Vegetation Data:  24%|██▍       | 9618/39617 [00:00<00:02, 11970.14it/s]\u001b[A\n",
      "Sampling Vegetation Data:  27%|██▋       | 10825/39617 [00:00<00:02, 12000.70it/s]\u001b[A\n",
      "Sampling Vegetation Data:  30%|███       | 12026/39617 [00:01<00:02, 11877.31it/s]\u001b[A\n",
      "Sampling Vegetation Data:  33%|███▎      | 13220/39617 [00:01<00:02, 11895.12it/s]\u001b[A\n",
      "Sampling Vegetation Data:  36%|███▋      | 14427/39617 [00:01<00:02, 11946.84it/s]\u001b[A\n",
      "Sampling Vegetation Data:  39%|███▉      | 15628/39617 [00:01<00:02, 11962.85it/s]\u001b[A\n",
      "Sampling Vegetation Data:  42%|████▏     | 16825/39617 [00:01<00:01, 11944.70it/s]\u001b[A\n",
      "Sampling Vegetation Data:  45%|████▌     | 18025/39617 [00:01<00:01, 11960.13it/s]\u001b[A\n",
      "Sampling Vegetation Data:  49%|████▊     | 19225/39617 [00:01<00:01, 11971.70it/s]\u001b[A\n",
      "Sampling Vegetation Data:  52%|█████▏    | 20423/39617 [00:01<00:01, 11967.02it/s]\u001b[A\n",
      "Sampling Vegetation Data:  55%|█████▍    | 21620/39617 [00:01<00:01, 11943.25it/s]\u001b[A\n",
      "Sampling Vegetation Data:  58%|█████▊    | 22830/39617 [00:01<00:01, 11989.27it/s]\u001b[A\n",
      "Sampling Vegetation Data:  61%|██████    | 24029/39617 [00:02<00:01, 11928.53it/s]\u001b[A\n",
      "Sampling Vegetation Data:  64%|██████▎   | 25222/39617 [00:02<00:01, 11896.46it/s]\u001b[A\n",
      "Sampling Vegetation Data:  67%|██████▋   | 26412/39617 [00:02<00:01, 11880.30it/s]\u001b[A\n",
      "Sampling Vegetation Data:  70%|██████▉   | 27626/39617 [00:02<00:01, 11955.78it/s]\u001b[A\n",
      "Sampling Vegetation Data:  73%|███████▎  | 28832/39617 [00:02<00:00, 11986.78it/s]\u001b[A\n",
      "Sampling Vegetation Data:  76%|███████▌  | 30038/39617 [00:02<00:00, 12006.01it/s]\u001b[A\n",
      "Sampling Vegetation Data:  79%|███████▉  | 31262/39617 [00:02<00:00, 12074.36it/s]\u001b[A\n",
      "Sampling Vegetation Data:  82%|████████▏ | 32480/39617 [00:02<00:00, 12102.74it/s]\u001b[A\n",
      "Sampling Vegetation Data:  85%|████████▌ | 33691/39617 [00:02<00:00, 12096.54it/s]\u001b[A\n",
      "Sampling Vegetation Data:  88%|████████▊ | 34906/39617 [00:02<00:00, 12112.37it/s]\u001b[A\n",
      "Sampling Vegetation Data:  91%|█████████ | 36118/39617 [00:03<00:00, 12055.18it/s]\u001b[A\n",
      "Sampling Vegetation Data:  94%|█████████▍| 37324/39617 [00:03<00:00, 11982.30it/s]\u001b[A\n",
      "Sampling Vegetation Data: 100%|██████████| 39617/39617 [00:03<00:00, 11974.46it/s]\u001b[A\n",
      "Processing Parquet Files:  76%|███████▌  | 75/99 [05:06<02:03,  5.14s/it]\n",
      "Sampling Vegetation Data:   0%|          | 0/19140 [00:00<?, ?it/s]\u001b[A\n",
      "Sampling Vegetation Data:   6%|▋         | 1208/19140 [00:00<00:01, 12074.23it/s]\u001b[A\n",
      "Sampling Vegetation Data:  13%|█▎        | 2420/19140 [00:00<00:01, 12098.39it/s]\u001b[A\n",
      "Sampling Vegetation Data:  19%|█▉        | 3630/19140 [00:00<00:01, 11966.85it/s]\u001b[A\n",
      "Sampling Vegetation Data:  25%|██▌       | 4827/19140 [00:00<00:01, 11937.62it/s]\u001b[A\n",
      "Sampling Vegetation Data:  31%|███▏      | 6028/19140 [00:00<00:01, 11960.66it/s]\u001b[A\n",
      "Sampling Vegetation Data:  38%|███▊      | 7225/19140 [00:00<00:00, 11923.83it/s]\u001b[A\n",
      "Sampling Vegetation Data:  44%|████▍     | 8418/19140 [00:00<00:00, 11869.17it/s]\u001b[A\n",
      "Sampling Vegetation Data:  50%|█████     | 9622/19140 [00:00<00:00, 11920.83it/s]\u001b[A\n",
      "Sampling Vegetation Data:  57%|█████▋    | 10823/19140 [00:00<00:00, 11945.67it/s]\u001b[A\n",
      "Sampling Vegetation Data:  63%|██████▎   | 12032/19140 [00:01<00:00, 11988.51it/s]\u001b[A\n",
      "Sampling Vegetation Data:  69%|██████▉   | 13242/19140 [00:01<00:00, 12019.89it/s]\u001b[A\n",
      "Sampling Vegetation Data:  76%|███████▌  | 14451/19140 [00:01<00:00, 12040.16it/s]\u001b[A\n",
      "Sampling Vegetation Data:  82%|████████▏ | 15656/19140 [00:01<00:00, 11936.09it/s]\u001b[A\n",
      "Sampling Vegetation Data:  88%|████████▊ | 16865/19140 [00:01<00:00, 11980.28it/s]\u001b[A\n",
      "Sampling Vegetation Data: 100%|██████████| 19140/19140 [00:01<00:00, 11974.11it/s]\u001b[A\n",
      "Processing Parquet Files:  77%|███████▋  | 76/99 [05:10<01:49,  4.75s/it]"
     ]
    }
   ],
   "source": [
    "import get_Vegetation\n",
    "\n",
    "output_res = 300\n",
    "threshold = 20\n",
    "for region in region_list:\n",
    "    get_Vegetation.add_Vegetation(region, output_res, threshold)"
   ]
  },
  {
   "cell_type": "markdown",
   "id": "68e51b09",
   "metadata": {},
   "source": [
    "## Next steps\n",
    "* Explore why errors in precip sites above\n",
    "* add in situ obs - seasonality based on the historical neareste x monitoring stations - like a historical average to-date swe value unit hydrograph based on the day of year? This will include a historical time of year of normal swe value and a swe value of year compared to normal\n",
    "* albedo metric\n"
   ]
  },
  {
   "cell_type": "code",
   "execution_count": null,
   "id": "454e917e",
   "metadata": {},
   "outputs": [],
   "source": [
    "import os\n",
    "import pandas as pd\n",
    "import warnings\n",
    "warnings.filterwarnings(\"ignore\")\n",
    "\n",
    "HOME = os.path.expanduser('~')\n",
    "\n",
    "region = 'N_Co_Rockies'\n",
    "output_res = 300\n",
    "\n",
    "Precippath = f\"{HOME}/SWEMLv2.0/data/Precipitation/{region}/{output_res}M_NLDAS_Precip/sites/\"\n",
    "\n",
    "pptfiles = [filename for filename in os.listdir(Precippath)]\n",
    "\n",
    "ppt = pd.read_parquet(f\"{Precippath}NLDAS_PPT_N_Co_Rockies_300M_39.015_-107.027.parquet\")\n",
    "ppt.rename(columns={'datetime':'Date'}, inplace = True)\n",
    "#ppt.set_index('cell_id', inplace=True)\n",
    "\n",
    "ppt.head()\n"
   ]
  },
  {
   "cell_type": "code",
   "execution_count": null,
   "id": "e19154fd",
   "metadata": {},
   "outputs": [],
   "source": [
    "DFpath = '/home/rjohnson18/SWEMLv2.0/data/TrainingDFs/N_Co_Rockies/300M_Resolution/PrecipVIIRSGeoObsDFs_20_fSCA_Thresh'\n",
    "geofile = 'Precip_VIIRS_GeoObsDF_20160404.parquet'\n",
    "\n",
    "GDF = pd.read_parquet(os.path.join(DFpath, geofile))\n",
    "GDF"
   ]
  },
  {
   "cell_type": "code",
   "execution_count": null,
   "id": "71b66c22",
   "metadata": {},
   "outputs": [],
   "source": []
  },
  {
   "cell_type": "code",
   "execution_count": null,
   "id": "ef81c762",
   "metadata": {},
   "outputs": [],
   "source": []
  },
  {
   "cell_type": "code",
   "execution_count": null,
   "id": "7b922afb",
   "metadata": {},
   "outputs": [],
   "source": []
  },
  {
   "cell_type": "code",
   "execution_count": null,
   "id": "f82e1041",
   "metadata": {},
   "outputs": [],
   "source": []
  },
  {
   "cell_type": "code",
   "execution_count": null,
   "id": "d6c0cdd4",
   "metadata": {},
   "outputs": [],
   "source": []
  },
  {
   "cell_type": "code",
   "execution_count": null,
   "id": "4cd73bf7",
   "metadata": {},
   "outputs": [],
   "source": [
    "import datetime\n",
    "import pyarrow as pa\n",
    "import pyarrow.parquet as pq\n",
    "import pandas as pd\n",
    "from tqdm import tqdm\n",
    "from tqdm.notebook import tqdm_notebook\n",
    "import os\n",
    "import warnings\n",
    "import pickle as pkl\n",
    "warnings.filterwarnings(\"ignore\")\n",
    "\n",
    "HOME = os.path.expanduser('~')\n",
    "\n",
    "region = 'N_Co_Rockies'\n",
    "output_res = 300\n",
    "threshold = 20\n",
    "\n",
    "\n",
    "DFpath = f'{HOME}/SWEMLv2.0/data/TrainingDFs/{region}/{output_res}M_Resolution/Seasonality_PrecipVIIRSGeoObsDFs_{threshold}_fSCA_Thresh'\n",
    "files = [filename for filename in os.listdir(DFpath)]\n",
    "\n",
    "df = pd.read_parquet(os.path.join(DFpath, files[0]))\n",
    "df"
   ]
  },
  {
   "cell_type": "code",
   "execution_count": null,
   "id": "473c9213",
   "metadata": {},
   "outputs": [],
   "source": [
    "# make a unit hydrograph ish meetric for each site\n",
    "\n",
    "#load data\n",
    "DFpath = f'{HOME}/SWEMLv2.0/data/SNOTEL_Data'\n",
    "snotel =  pd.read_parquet(os.path.join(DFpath, 'seasonal_snotel.parquet'))\n",
    "\n",
    "#find location average peak swe and divide dataframe by this number\n",
    "#snotel = snotel/snotel.max(0)\n",
    "snotel\n",
    "\n",
    "import pandas as pd\n",
    "import numpy as np\n",
    "\n",
    "snotel_path = f\"{HOME}/SWEMLv2.0/data/SNOTEL_Data\"\n",
    "year_df = pd.read_parquet(f\"{snotel_path}/2015_ground_measures_dp.parquet\")\n",
    "\n",
    "year_df = year_df.replace({-9999.0: np.nan})\n",
    "year_df.head(5)\n",
    "\n",
    "cols = year_df.columns\n",
    "year_df[cols[0]] = pd.Series(year_df[cols[0]].values).interpolate(method='nearest').values\n",
    "\n",
    "import matplotlib.pyplot as plt\n",
    "import numpy as np\n",
    "\n",
    "cols = year_df.columns\n",
    "year_df.reset_index(inplace=True)\n",
    "\n",
    "for s in np.arange(0,10,1):\n",
    "\n",
    "       site = cols[s]\n",
    "\n",
    "       fig, ax = plt.subplots(figsize=(22, 12))\n",
    "       ax.plot(year_df.index, year_df[site])\n",
    "\n",
    "       ax.set(xlabel='date', ylabel='SWE',\n",
    "              title=f'{site} SWE time series')\n",
    "       #ax.grid()\n",
    "       plt.xticks(rotation=70)\n",
    "       #fig.savefig(\"test.png\")\n",
    "       plt.show()"
   ]
  },
  {
   "cell_type": "code",
   "execution_count": null,
   "id": "6b8b0521",
   "metadata": {},
   "outputs": [],
   "source": [
    "#load data\n",
    "DFpath = f'{HOME}/SWEMLv2.0/data/SNOTEL_Data'\n",
    "snotel =  pd.read_parquet(os.path.join(DFpath, 'ground_measures.parquet'))\n",
    "\n",
    "#find location average peak swe and divide dataframe by this number\n",
    "#snotel = snotel/snotel.max(0)\n",
    "snotel = snotel.T\n",
    "\n",
    "#change bad values = 7.65006, 9.60454, 27.139000,22.172265, 31.247021\t  change - values to 0\n",
    "cols = snotel.columns\n",
    "for col in cols:\n",
    "    snotel[col][(snotel[col]> 7.65) & (snotel[col]< 7.651)] = 0\n",
    "    snotel[col][(snotel[col]> 9.604) & (snotel[col]< 9.605)] = 0\n",
    "    snotel[col][(snotel[col]> 27.139) & (snotel[col]< 23.140)] = 0\n",
    "    snotel[col][(snotel[col]> 22.172265) & (snotel[col]< 22.172266)] = 0\n",
    "    snotel[col][(snotel[col]> 31.242265) & (snotel[col]< 31.242266)] = 0\n",
    "    snotel[col][snotel[col]<0] = 0\n",
    "snotel.reset_index(inplace = True)\n",
    "\n",
    "#build in data checking script to fix outliers"
   ]
  },
  {
   "cell_type": "code",
   "execution_count": null,
   "id": "369d9af1",
   "metadata": {},
   "outputs": [],
   "source": [
    "snotel.loc[250:300]"
   ]
  },
  {
   "cell_type": "code",
   "execution_count": null,
   "id": "db8a4f6a",
   "metadata": {},
   "outputs": [],
   "source": [
    "import matplotlib.pyplot as plt\n",
    "import numpy as np\n",
    "\n",
    "import pandas as pd\n",
    "import numpy as np\n",
    "\n",
    "snotel_path = f\"{HOME}/SWEMLv2.0/data/SNOTEL_Data\"\n",
    "year_df = pd.read_parquet(f\"{snotel_path}/ground_measures_dp.parquet\")\n",
    "\n",
    "year_df = year_df.replace({-9999.0: np.nan})\n",
    "year_df.head(5)\n",
    "\n",
    "\n",
    "site = cols[0]\n",
    "\n",
    "fig, ax = plt.subplots(figsize=(22, 12))\n",
    "ax.plot(snotel.index, snotel[site])\n",
    "\n",
    "ax.set(xlabel='date', ylabel='SWE',\n",
    "       title=f'{site} SWE time series')\n",
    "#ax.grid()\n",
    "plt.xticks(rotation=70)\n",
    "#fig.savefig(\"test.png\")\n",
    "plt.show()"
   ]
  },
  {
   "cell_type": "code",
   "execution_count": null,
   "id": "ccc60848",
   "metadata": {},
   "outputs": [],
   "source": [
    "def zscore(s, window, thresh=2, return_all=False):\n",
    "    roll = s.rolling(window=window, min_periods=1, center=True)\n",
    "    avg = roll.mean()\n",
    "    std = roll.std(ddof=0)\n",
    "    z = s.sub(avg).div(std)   \n",
    "    m = z.between(-thresh, thresh)\n",
    "    \n",
    "    if return_all:\n",
    "        return z, avg, std, m\n",
    "    return s.where(m, avg)\n",
    "\n",
    "\n",
    "N = 1000\n",
    "np.random.seed(1)\n",
    "#df = pd.DataFrame({'MW': np.sin(np.linspace(0, 10, num=N))+np.random.normal(scale=0.6, size=N)})\n",
    "\n",
    "df =pd.DataFrame(snotel[cols[0]])\n",
    "\n",
    "z, avg, std, m = zscore(df[cols[0]], window=2, return_all=True)\n",
    "\n",
    "ax = plt.subplots(figsize=(22, 12))\n",
    "\n",
    "df[cols[0]].plot(label='data')\n",
    "avg.plot(label='mean')\n",
    "df.loc[~m, cols[0]].plot(label='outliers', marker='o', ls='')\n",
    "avg[~m].plot(label='replacement', marker='o', ls='')\n",
    "plt.legend()"
   ]
  },
  {
   "cell_type": "code",
   "execution_count": null,
   "id": "19d8b7c7",
   "metadata": {},
   "outputs": [],
   "source": [
    "N = 1000\n",
    "np.random.seed(1)\n",
    "df = pd.DataFrame({'MW': np.sin(np.linspace(0, 10, num=N))+np.random.normal(scale=0.6, size=N)})\n",
    "\n",
    "z, avg, std, m = zscore(df['MW'], window=50, return_all=True)\n",
    "\n",
    "ax = plt.subplots(figsize=(22, 12))\n",
    "\n",
    "df['MW'].plot(label='data')\n",
    "avg.plot(label='mean')\n",
    "df.loc[~m, 'MW'].plot(label='outliers', marker='o', ls='')\n",
    "avg[~m].plot(label='replacement', marker='o', ls='')\n",
    "plt.legend()"
   ]
  },
  {
   "cell_type": "code",
   "execution_count": null,
   "id": "0377546f",
   "metadata": {},
   "outputs": [],
   "source": []
  }
 ],
 "metadata": {
  "kernelspec": {
   "display_name": "Python 3 (ipykernel)",
   "language": "python",
   "name": "python3"
  },
  "language_info": {
   "codemirror_mode": {
    "name": "ipython",
    "version": 3
   },
   "file_extension": ".py",
   "mimetype": "text/x-python",
   "name": "python",
   "nbconvert_exporter": "python",
   "pygments_lexer": "ipython3",
   "version": "3.11.8"
  }
 },
 "nbformat": 4,
 "nbformat_minor": 5
}

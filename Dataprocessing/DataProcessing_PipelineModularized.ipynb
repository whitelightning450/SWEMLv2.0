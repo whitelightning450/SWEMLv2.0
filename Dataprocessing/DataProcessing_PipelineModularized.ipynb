{
 "cells": [
  {
   "cell_type": "markdown",
   "id": "9685d109",
   "metadata": {},
   "source": [
    "# Data Processing script for the NSM/SWEML v2.0\n",
    "This .ipynb script uses python module for retrieving NASA ASO observations, locating nearest SNOTEL sites, connecting SNOTEL obs with ASO obs, and add geospatial features to the ML training/testing/hindcast dataframes."
   ]
  },
  {
   "cell_type": "markdown",
   "id": "55e8bd58",
   "metadata": {},
   "source": [
    "# Next steps \n",
    "\n",
    "- the SE and SW rockies have the same number of sites, make sure they are not the same...\n",
    "- process ASO data, e.g. swe_m < 0.1 = 0, convert to cm to be consistent with monitoring sites and traditional mesurement. \n",
    "- document scripts\n",
    "- add new sites (e.g., regionval) to training DF with all the respective spatial resolution information\n",
    "- add precipitation phase features (seasonal accumulated rain precip, seasonal accumulated snow precip as a function of temperature)\n",
    "- explore adding other features stemming from SNOTEL, remote sensing (LULC), Snow Classifications (Sturms), energy balance"
   ]
  },
  {
   "cell_type": "code",
   "execution_count": 3,
   "id": "c2b1ee8b",
   "metadata": {},
   "outputs": [
    {
     "data": {
      "text/plain": [
       "['Southwest', 'Northwest', 'NorthernRockies', 'SouthernRockies']"
      ]
     },
     "execution_count": 3,
     "metadata": {},
     "output_type": "execute_result"
    }
   ],
   "source": [
    "import os\n",
    "import model_Domain\n",
    "HOME = os.path.expanduser('~')\n",
    "\n",
    "#make SWEMLv2.0 modeling domain for western USA\n",
    "region_list = model_Domain.modeldomain()\n",
    "region_list"
   ]
  },
  {
   "cell_type": "code",
   "execution_count": 2,
   "id": "13469889",
   "metadata": {},
   "outputs": [
    {
     "name": "stdout",
     "output_type": "stream",
     "text": [
      "Southwest\n",
      "Bounding Box collected for Southwest: -122.801796139143,36.29256774541929,-112.4801535246097,43.48412459980747\n",
      "Fetching file URLs in progress for Southwest from 2013-04-02T00:00:00Z to 2019-07-19T23:59:59Z\n",
      "Querying for data:\n",
      "\thttps://cmr.earthdata.nasa.gov/search/granules.json?provider=NSIDC_ECS&sort_key[]=start_date&sort_key[]=producer_granule_id&scroll=true&page_size=2000&short_name=ASO_50M_SWE&version=001&version=01&version=1&temporal[]=2013-04-02T00:00:00Z,2019-07-19T23:59:59Z&bounding_box=-122.801796139143,36.29256774541929,-112.4801535246097,43.48412459980747\n",
      "\n",
      "Found 131 matches.\n",
      "['https://n5eil01u.ecs.nsidc.org/DP1/ASO/ASO_50M_SWE.001/2013.04.03/ASO_50M_SWE_USCATB_20130403.tif', 'https://n5eil01u.ecs.nsidc.org/DP1/ASO/ASO_50M_SWE.001/2013.04.03/ASO_50M_SWE_USCATB_20130403.tif.xml', 'https://n5eil01u.ecs.nsidc.org/DP1/ASO/ASO_50M_SWE.001/2013.04.29/ASO_50M_SWE_USCATB_20130429.tif', 'https://n5eil01u.ecs.nsidc.org/DP1/ASO/ASO_50M_SWE.001/2013.04.29/ASO_50M_SWE_USCATB_20130429.tif.xml', 'https://n5eil01u.ecs.nsidc.org/DP1/ASO/ASO_50M_SWE.001/2013.05.03/ASO_50M_SWE_USCATB_20130503.tif', 'https://n5eil01u.ecs.nsidc.org/DP1/ASO/ASO_50M_SWE.001/2013.05.03/ASO_50M_SWE_USCATB_20130503.tif.xml', 'https://n5eil01u.ecs.nsidc.org/DP1/ASO/ASO_50M_SWE.001/2013.05.25/ASO_50M_SWE_USCATB_20130525.tif', 'https://n5eil01u.ecs.nsidc.org/DP1/ASO/ASO_50M_SWE.001/2013.05.25/ASO_50M_SWE_USCATB_20130525.tif.xml', 'https://n5eil01u.ecs.nsidc.org/DP1/ASO/ASO_50M_SWE.001/2013.06.01/ASO_50M_SWE_USCATB_20130601.tif', 'https://n5eil01u.ecs.nsidc.org/DP1/ASO/ASO_50M_SWE.001/2013.06.01/ASO_50M_SWE_USCATB_20130601.tif.xml', 'https://n5eil01u.ecs.nsidc.org/DP1/ASO/ASO_50M_SWE.001/2013.06.08/ASO_50M_SWE_USCATB_20130608.tif', 'https://n5eil01u.ecs.nsidc.org/DP1/ASO/ASO_50M_SWE.001/2013.06.08/ASO_50M_SWE_USCATB_20130608.tif.xml', 'https://n5eil01u.ecs.nsidc.org/DP1/ASO/ASO_50M_SWE.001/2014.03.20/ASO_50M_SWE_USCOUB_20140320.tif', 'https://n5eil01u.ecs.nsidc.org/DP1/ASO/ASO_50M_SWE.001/2014.03.20/ASO_50M_SWE_USCOUB_20140320.tif.xml', 'https://n5eil01u.ecs.nsidc.org/DP1/ASO/ASO_50M_SWE.001/2014.03.23/ASO_50M_SWE_USCATB_20140323.tif', 'https://n5eil01u.ecs.nsidc.org/DP1/ASO/ASO_50M_SWE.001/2014.03.23/ASO_50M_SWE_USCATB_20140323.tif.xml', 'https://n5eil01u.ecs.nsidc.org/DP1/ASO/ASO_50M_SWE.001/2014.03.24/ASO_50M_SWE_USCAMB_20140324.tif', 'https://n5eil01u.ecs.nsidc.org/DP1/ASO/ASO_50M_SWE.001/2014.03.24/ASO_50M_SWE_USCAMB_20140324.tif.xml', 'https://n5eil01u.ecs.nsidc.org/DP1/ASO/ASO_50M_SWE.001/2014.04.06/ASO_50M_SWE_USCAMB_20140406.tif', 'https://n5eil01u.ecs.nsidc.org/DP1/ASO/ASO_50M_SWE.001/2014.04.06/ASO_50M_SWE_USCAMB_20140406.tif.xml', 'https://n5eil01u.ecs.nsidc.org/DP1/ASO/ASO_50M_SWE.001/2014.04.07/ASO_50M_SWE_USCATB_20140407.tif', 'https://n5eil01u.ecs.nsidc.org/DP1/ASO/ASO_50M_SWE.001/2014.04.07/ASO_50M_SWE_USCATB_20140407.tif.xml', 'https://n5eil01u.ecs.nsidc.org/DP1/ASO/ASO_50M_SWE.001/2014.04.14/ASO_50M_SWE_USCAMB_20140414.tif', 'https://n5eil01u.ecs.nsidc.org/DP1/ASO/ASO_50M_SWE.001/2014.04.14/ASO_50M_SWE_USCAMB_20140414.tif.xml', 'https://n5eil01u.ecs.nsidc.org/DP1/ASO/ASO_50M_SWE.001/2014.04.20/ASO_50M_SWE_USCATB_20140420.tif', 'https://n5eil01u.ecs.nsidc.org/DP1/ASO/ASO_50M_SWE.001/2014.04.20/ASO_50M_SWE_USCATB_20140420.tif.xml', 'https://n5eil01u.ecs.nsidc.org/DP1/ASO/ASO_50M_SWE.001/2014.04.23/ASO_50M_SWE_USCAMB_20140423.tif', 'https://n5eil01u.ecs.nsidc.org/DP1/ASO/ASO_50M_SWE.001/2014.04.23/ASO_50M_SWE_USCAMB_20140423.tif.xml', 'https://n5eil01u.ecs.nsidc.org/DP1/ASO/ASO_50M_SWE.001/2014.04.28/ASO_50M_SWE_USCATB_20140428.tif', 'https://n5eil01u.ecs.nsidc.org/DP1/ASO/ASO_50M_SWE.001/2014.04.28/ASO_50M_SWE_USCATB_20140428.tif.xml', 'https://n5eil01u.ecs.nsidc.org/DP1/ASO/ASO_50M_SWE.001/2014.04.29/ASO_50M_SWE_USCAMB_20140429.tif', 'https://n5eil01u.ecs.nsidc.org/DP1/ASO/ASO_50M_SWE.001/2014.04.29/ASO_50M_SWE_USCAMB_20140429.tif.xml', 'https://n5eil01u.ecs.nsidc.org/DP1/ASO/ASO_50M_SWE.001/2014.05.02/ASO_50M_SWE_USCATB_20140502.tif', 'https://n5eil01u.ecs.nsidc.org/DP1/ASO/ASO_50M_SWE.001/2014.05.02/ASO_50M_SWE_USCATB_20140502.tif.xml', 'https://n5eil01u.ecs.nsidc.org/DP1/ASO/ASO_50M_SWE.001/2014.05.03/ASO_50M_SWE_USCAMB_20140503.tif', 'https://n5eil01u.ecs.nsidc.org/DP1/ASO/ASO_50M_SWE.001/2014.05.03/ASO_50M_SWE_USCAMB_20140503.tif.xml', 'https://n5eil01u.ecs.nsidc.org/DP1/ASO/ASO_50M_SWE.001/2014.05.11/ASO_50M_SWE_USCATB_20140511.tif', 'https://n5eil01u.ecs.nsidc.org/DP1/ASO/ASO_50M_SWE.001/2014.05.11/ASO_50M_SWE_USCATB_20140511.tif.xml', 'https://n5eil01u.ecs.nsidc.org/DP1/ASO/ASO_50M_SWE.001/2014.05.12/ASO_50M_SWE_USCAMB_20140512.tif', 'https://n5eil01u.ecs.nsidc.org/DP1/ASO/ASO_50M_SWE.001/2014.05.12/ASO_50M_SWE_USCAMB_20140512.tif.xml', 'https://n5eil01u.ecs.nsidc.org/DP1/ASO/ASO_50M_SWE.001/2014.05.17/ASO_50M_SWE_USCATB_20140517.tif', 'https://n5eil01u.ecs.nsidc.org/DP1/ASO/ASO_50M_SWE.001/2014.05.17/ASO_50M_SWE_USCATB_20140517.tif.xml', 'https://n5eil01u.ecs.nsidc.org/DP1/ASO/ASO_50M_SWE.001/2014.05.27/ASO_50M_SWE_USCATB_20140527.tif', 'https://n5eil01u.ecs.nsidc.org/DP1/ASO/ASO_50M_SWE.001/2014.05.27/ASO_50M_SWE_USCATB_20140527.tif.xml', 'https://n5eil01u.ecs.nsidc.org/DP1/ASO/ASO_50M_SWE.001/2014.05.31/ASO_50M_SWE_USCATB_20140531.tif', 'https://n5eil01u.ecs.nsidc.org/DP1/ASO/ASO_50M_SWE.001/2014.05.31/ASO_50M_SWE_USCATB_20140531.tif.xml', 'https://n5eil01u.ecs.nsidc.org/DP1/ASO/ASO_50M_SWE.001/2014.06.05/ASO_50M_SWE_USCATB_20140605.tif', 'https://n5eil01u.ecs.nsidc.org/DP1/ASO/ASO_50M_SWE.001/2014.06.05/ASO_50M_SWE_USCATB_20140605.tif.xml', 'https://n5eil01u.ecs.nsidc.org/DP1/ASO/ASO_50M_SWE.001/2015.02.17/ASO_50M_SWE_USCATB_20150217.tif', 'https://n5eil01u.ecs.nsidc.org/DP1/ASO/ASO_50M_SWE.001/2015.02.17/ASO_50M_SWE_USCATB_20150217.tif.xml', 'https://n5eil01u.ecs.nsidc.org/DP1/ASO/ASO_50M_SWE.001/2015.03.05/ASO_50M_SWE_USCATB_20150305.tif', 'https://n5eil01u.ecs.nsidc.org/DP1/ASO/ASO_50M_SWE.001/2015.03.05/ASO_50M_SWE_USCATB_20150305.tif.xml', 'https://n5eil01u.ecs.nsidc.org/DP1/ASO/ASO_50M_SWE.001/2015.03.25/ASO_50M_SWE_USCATB_20150325.tif', 'https://n5eil01u.ecs.nsidc.org/DP1/ASO/ASO_50M_SWE.001/2015.03.25/ASO_50M_SWE_USCATB_20150325.tif.xml', 'https://n5eil01u.ecs.nsidc.org/DP1/ASO/ASO_50M_SWE.001/2015.03.26/ASO_50M_SWE_USCARC_20150326.tif', 'https://n5eil01u.ecs.nsidc.org/DP1/ASO/ASO_50M_SWE.001/2015.03.26/ASO_50M_SWE_USCARC_20150326.tif.xml', 'https://n5eil01u.ecs.nsidc.org/DP1/ASO/ASO_50M_SWE.001/2015.04.03/ASO_50M_SWE_USCAKC_20150403.tif', 'https://n5eil01u.ecs.nsidc.org/DP1/ASO/ASO_50M_SWE.001/2015.04.03/ASO_50M_SWE_USCAKC_20150403.tif.xml', 'https://n5eil01u.ecs.nsidc.org/DP1/ASO/ASO_50M_SWE.001/2015.04.03/ASO_50M_SWE_USCATB_20150403.tif', 'https://n5eil01u.ecs.nsidc.org/DP1/ASO/ASO_50M_SWE.001/2015.04.03/ASO_50M_SWE_USCATB_20150403.tif.xml', 'https://n5eil01u.ecs.nsidc.org/DP1/ASO/ASO_50M_SWE.001/2015.04.09/ASO_50M_SWE_USCATB_20150409.tif', 'https://n5eil01u.ecs.nsidc.org/DP1/ASO/ASO_50M_SWE.001/2015.04.09/ASO_50M_SWE_USCATB_20150409.tif.xml', 'https://n5eil01u.ecs.nsidc.org/DP1/ASO/ASO_50M_SWE.001/2015.04.12/ASO_50M_SWE_USCAKC_20150412.tif', 'https://n5eil01u.ecs.nsidc.org/DP1/ASO/ASO_50M_SWE.001/2015.04.12/ASO_50M_SWE_USCAKC_20150412.tif.xml', 'https://n5eil01u.ecs.nsidc.org/DP1/ASO/ASO_50M_SWE.001/2015.04.15/ASO_50M_SWE_USCATB_20150415.tif', 'https://n5eil01u.ecs.nsidc.org/DP1/ASO/ASO_50M_SWE.001/2015.04.15/ASO_50M_SWE_USCATB_20150415.tif.xml', 'https://n5eil01u.ecs.nsidc.org/DP1/ASO/ASO_50M_SWE.001/2015.04.26/ASO_50M_SWE_USCAKC_20150426.tif', 'https://n5eil01u.ecs.nsidc.org/DP1/ASO/ASO_50M_SWE.001/2015.04.26/ASO_50M_SWE_USCAKC_20150426.tif.xml', 'https://n5eil01u.ecs.nsidc.org/DP1/ASO/ASO_50M_SWE.001/2015.04.27/ASO_50M_SWE_USCATB_20150427.tif', 'https://n5eil01u.ecs.nsidc.org/DP1/ASO/ASO_50M_SWE.001/2015.04.27/ASO_50M_SWE_USCATB_20150427.tif.xml', 'https://n5eil01u.ecs.nsidc.org/DP1/ASO/ASO_50M_SWE.001/2015.04.28/ASO_50M_SWE_USCALB_20150428.tif', 'https://n5eil01u.ecs.nsidc.org/DP1/ASO/ASO_50M_SWE.001/2015.04.28/ASO_50M_SWE_USCALB_20150428.tif.xml', 'https://n5eil01u.ecs.nsidc.org/DP1/ASO/ASO_50M_SWE.001/2015.04.28/ASO_50M_SWE_USCAMB_20150428.tif', 'https://n5eil01u.ecs.nsidc.org/DP1/ASO/ASO_50M_SWE.001/2015.04.28/ASO_50M_SWE_USCAMB_20150428.tif.xml', 'https://n5eil01u.ecs.nsidc.org/DP1/ASO/ASO_50M_SWE.001/2015.05.03/ASO_50M_SWE_USCARC_20150503.tif', 'https://n5eil01u.ecs.nsidc.org/DP1/ASO/ASO_50M_SWE.001/2015.05.03/ASO_50M_SWE_USCARC_20150503.tif.xml', 'https://n5eil01u.ecs.nsidc.org/DP1/ASO/ASO_50M_SWE.001/2015.05.27/ASO_50M_SWE_USCARC_20150527.tif', 'https://n5eil01u.ecs.nsidc.org/DP1/ASO/ASO_50M_SWE.001/2015.05.27/ASO_50M_SWE_USCARC_20150527.tif.xml', 'https://n5eil01u.ecs.nsidc.org/DP1/ASO/ASO_50M_SWE.001/2015.05.28/ASO_50M_SWE_USCATB_20150528.tif', 'https://n5eil01u.ecs.nsidc.org/DP1/ASO/ASO_50M_SWE.001/2015.05.28/ASO_50M_SWE_USCATB_20150528.tif.xml', 'https://n5eil01u.ecs.nsidc.org/DP1/ASO/ASO_50M_SWE.001/2015.05.31/ASO_50M_SWE_USCAKC_20150531.tif', 'https://n5eil01u.ecs.nsidc.org/DP1/ASO/ASO_50M_SWE.001/2015.05.31/ASO_50M_SWE_USCAKC_20150531.tif.xml', 'https://n5eil01u.ecs.nsidc.org/DP1/ASO/ASO_50M_SWE.001/2015.06.08/ASO_50M_SWE_USCATB_20150608.tif', 'https://n5eil01u.ecs.nsidc.org/DP1/ASO/ASO_50M_SWE.001/2015.06.08/ASO_50M_SWE_USCATB_20150608.tif.xml', 'https://n5eil01u.ecs.nsidc.org/DP1/ASO/ASO_50M_SWE.001/2015.06.09/ASO_50M_SWE_USCARC_20150609.tif', 'https://n5eil01u.ecs.nsidc.org/DP1/ASO/ASO_50M_SWE.001/2015.06.09/ASO_50M_SWE_USCARC_20150609.tif.xml', 'https://n5eil01u.ecs.nsidc.org/DP1/ASO/ASO_50M_SWE.001/2016.03.26/ASO_50M_SWE_USCATB_20160326.tif', 'https://n5eil01u.ecs.nsidc.org/DP1/ASO/ASO_50M_SWE.001/2016.03.26/ASO_50M_SWE_USCATB_20160326.tif.xml', 'https://n5eil01u.ecs.nsidc.org/DP1/ASO/ASO_50M_SWE.001/2016.04.01/ASO_50M_SWE_USCACE_20160401.tif', 'https://n5eil01u.ecs.nsidc.org/DP1/ASO/ASO_50M_SWE.001/2016.04.01/ASO_50M_SWE_USCACE_20160401.tif.xml', 'https://n5eil01u.ecs.nsidc.org/DP1/ASO/ASO_50M_SWE.001/2016.04.01/ASO_50M_SWE_USCATB_20160401.tif', 'https://n5eil01u.ecs.nsidc.org/DP1/ASO/ASO_50M_SWE.001/2016.04.01/ASO_50M_SWE_USCATB_20160401.tif.xml', 'https://n5eil01u.ecs.nsidc.org/DP1/ASO/ASO_50M_SWE.001/2016.04.07/ASO_50M_SWE_USCACE_20160407.tif', 'https://n5eil01u.ecs.nsidc.org/DP1/ASO/ASO_50M_SWE.001/2016.04.07/ASO_50M_SWE_USCACE_20160407.tif.xml', 'https://n5eil01u.ecs.nsidc.org/DP1/ASO/ASO_50M_SWE.001/2016.04.07/ASO_50M_SWE_USCATB_20160407.tif', 'https://n5eil01u.ecs.nsidc.org/DP1/ASO/ASO_50M_SWE.001/2016.04.07/ASO_50M_SWE_USCATB_20160407.tif.xml', 'https://n5eil01u.ecs.nsidc.org/DP1/ASO/ASO_50M_SWE.001/2016.04.16/ASO_50M_SWE_USCACE_20160416.tif', 'https://n5eil01u.ecs.nsidc.org/DP1/ASO/ASO_50M_SWE.001/2016.04.16/ASO_50M_SWE_USCACE_20160416.tif.xml', 'https://n5eil01u.ecs.nsidc.org/DP1/ASO/ASO_50M_SWE.001/2016.04.16/ASO_50M_SWE_USCATB_20160416.tif', 'https://n5eil01u.ecs.nsidc.org/DP1/ASO/ASO_50M_SWE.001/2016.04.16/ASO_50M_SWE_USCATB_20160416.tif.xml', 'https://n5eil01u.ecs.nsidc.org/DP1/ASO/ASO_50M_SWE.001/2016.04.26/ASO_50M_SWE_USCACE_20160426.tif', 'https://n5eil01u.ecs.nsidc.org/DP1/ASO/ASO_50M_SWE.001/2016.04.26/ASO_50M_SWE_USCACE_20160426.tif.xml', 'https://n5eil01u.ecs.nsidc.org/DP1/ASO/ASO_50M_SWE.001/2016.04.26/ASO_50M_SWE_USCATB_20160426.tif', 'https://n5eil01u.ecs.nsidc.org/DP1/ASO/ASO_50M_SWE.001/2016.04.26/ASO_50M_SWE_USCATB_20160426.tif.xml', 'https://n5eil01u.ecs.nsidc.org/DP1/ASO/ASO_50M_SWE.001/2016.05.09/ASO_50M_SWE_USCACE_20160509.tif', 'https://n5eil01u.ecs.nsidc.org/DP1/ASO/ASO_50M_SWE.001/2016.05.09/ASO_50M_SWE_USCACE_20160509.tif.xml', 'https://n5eil01u.ecs.nsidc.org/DP1/ASO/ASO_50M_SWE.001/2016.05.09/ASO_50M_SWE_USCALB_20160509.tif', 'https://n5eil01u.ecs.nsidc.org/DP1/ASO/ASO_50M_SWE.001/2016.05.09/ASO_50M_SWE_USCALB_20160509.tif.xml', 'https://n5eil01u.ecs.nsidc.org/DP1/ASO/ASO_50M_SWE.001/2016.05.09/ASO_50M_SWE_USCATB_20160509.tif', 'https://n5eil01u.ecs.nsidc.org/DP1/ASO/ASO_50M_SWE.001/2016.05.09/ASO_50M_SWE_USCATB_20160509.tif.xml', 'https://n5eil01u.ecs.nsidc.org/DP1/ASO/ASO_50M_SWE.001/2016.05.27/ASO_50M_SWE_USCATB_20160527.tif', 'https://n5eil01u.ecs.nsidc.org/DP1/ASO/ASO_50M_SWE.001/2016.05.27/ASO_50M_SWE_USCATB_20160527.tif.xml', 'https://n5eil01u.ecs.nsidc.org/DP1/ASO/ASO_50M_SWE.001/2016.06.07/ASO_50M_SWE_USCALB_20160607.tif', 'https://n5eil01u.ecs.nsidc.org/DP1/ASO/ASO_50M_SWE.001/2016.06.07/ASO_50M_SWE_USCALB_20160607.tif.xml', 'https://n5eil01u.ecs.nsidc.org/DP1/ASO/ASO_50M_SWE.001/2016.06.14/ASO_50M_SWE_USCALB_20160614.tif', 'https://n5eil01u.ecs.nsidc.org/DP1/ASO/ASO_50M_SWE.001/2016.06.14/ASO_50M_SWE_USCALB_20160614.tif.xml', 'https://n5eil01u.ecs.nsidc.org/DP1/ASO/ASO_50M_SWE.001/2016.06.21/ASO_50M_SWE_USCALB_20160621.tif', 'https://n5eil01u.ecs.nsidc.org/DP1/ASO/ASO_50M_SWE.001/2016.06.21/ASO_50M_SWE_USCALB_20160621.tif.xml', 'https://n5eil01u.ecs.nsidc.org/DP1/ASO/ASO_50M_SWE.001/2016.06.26/ASO_50M_SWE_USCALB_20160626.tif', 'https://n5eil01u.ecs.nsidc.org/DP1/ASO/ASO_50M_SWE.001/2016.06.26/ASO_50M_SWE_USCALB_20160626.tif.xml', 'https://n5eil01u.ecs.nsidc.org/DP1/ASO/ASO_50M_SWE.001/2016.07.08/ASO_50M_SWE_USCATB_20160708.tif', 'https://n5eil01u.ecs.nsidc.org/DP1/ASO/ASO_50M_SWE.001/2016.07.08/ASO_50M_SWE_USCATB_20160708.tif.xml', 'https://n5eil01u.ecs.nsidc.org/DP1/ASO/ASO_50M_SWE.001/2017.01.28/ASO_50M_SWE_USCALB_20170128.tif', 'https://n5eil01u.ecs.nsidc.org/DP1/ASO/ASO_50M_SWE.001/2017.01.28/ASO_50M_SWE_USCALB_20170128.tif.xml', 'https://n5eil01u.ecs.nsidc.org/DP1/ASO/ASO_50M_SWE.001/2017.01.29/ASO_50M_SWE_USCACE_20170129.tif', 'https://n5eil01u.ecs.nsidc.org/DP1/ASO/ASO_50M_SWE.001/2017.01.29/ASO_50M_SWE_USCACE_20170129.tif.xml', 'https://n5eil01u.ecs.nsidc.org/DP1/ASO/ASO_50M_SWE.001/2017.01.29/ASO_50M_SWE_USCATB_20170129.tif', 'https://n5eil01u.ecs.nsidc.org/DP1/ASO/ASO_50M_SWE.001/2017.01.29/ASO_50M_SWE_USCATB_20170129.tif.xml', 'https://n5eil01u.ecs.nsidc.org/DP1/ASO/ASO_50M_SWE.001/2017.01.29/ASO_50M_SWE_USCATE_20170129.tif', 'https://n5eil01u.ecs.nsidc.org/DP1/ASO/ASO_50M_SWE.001/2017.01.29/ASO_50M_SWE_USCATE_20170129.tif.xml', 'https://n5eil01u.ecs.nsidc.org/DP1/ASO/ASO_50M_SWE.001/2017.07.17/ASO_50M_SWE_USCACE_20170717.tif', 'https://n5eil01u.ecs.nsidc.org/DP1/ASO/ASO_50M_SWE.001/2017.07.17/ASO_50M_SWE_USCACE_20170717.tif.xml', 'https://n5eil01u.ecs.nsidc.org/DP1/ASO/ASO_50M_SWE.001/2017.07.17/ASO_50M_SWE_USCALV_20170717.tif', 'https://n5eil01u.ecs.nsidc.org/DP1/ASO/ASO_50M_SWE.001/2017.07.17/ASO_50M_SWE_USCALV_20170717.tif.xml', 'https://n5eil01u.ecs.nsidc.org/DP1/ASO/ASO_50M_SWE.001/2017.07.17/ASO_50M_SWE_USCARC_20170717.tif', 'https://n5eil01u.ecs.nsidc.org/DP1/ASO/ASO_50M_SWE.001/2017.07.17/ASO_50M_SWE_USCARC_20170717.tif.xml', 'https://n5eil01u.ecs.nsidc.org/DP1/ASO/ASO_50M_SWE.001/2017.07.17/ASO_50M_SWE_USCATB_20170717.tif', 'https://n5eil01u.ecs.nsidc.org/DP1/ASO/ASO_50M_SWE.001/2017.07.17/ASO_50M_SWE_USCATB_20170717.tif.xml', 'https://n5eil01u.ecs.nsidc.org/DP1/ASO/ASO_50M_SWE.001/2017.07.18/ASO_50M_SWE_USCALB_20170718.tif', 'https://n5eil01u.ecs.nsidc.org/DP1/ASO/ASO_50M_SWE.001/2017.07.18/ASO_50M_SWE_USCALB_20170718.tif.xml', 'https://n5eil01u.ecs.nsidc.org/DP1/ASO/ASO_50M_SWE.001/2017.07.18/ASO_50M_SWE_USCASF_20170718.tif', 'https://n5eil01u.ecs.nsidc.org/DP1/ASO/ASO_50M_SWE.001/2017.07.18/ASO_50M_SWE_USCASF_20170718.tif.xml', 'https://n5eil01u.ecs.nsidc.org/DP1/ASO/ASO_50M_SWE.001/2017.07.19/ASO_50M_SWE_USCASJ_20170719.tif', 'https://n5eil01u.ecs.nsidc.org/DP1/ASO/ASO_50M_SWE.001/2017.07.19/ASO_50M_SWE_USCASJ_20170719.tif.xml', 'https://n5eil01u.ecs.nsidc.org/DP1/ASO/ASO_50M_SWE.001/2017.07.27/ASO_50M_SWE_USCACE_20170727.tif', 'https://n5eil01u.ecs.nsidc.org/DP1/ASO/ASO_50M_SWE.001/2017.07.27/ASO_50M_SWE_USCACE_20170727.tif.xml', 'https://n5eil01u.ecs.nsidc.org/DP1/ASO/ASO_50M_SWE.001/2017.07.27/ASO_50M_SWE_USCATB_20170727.tif', 'https://n5eil01u.ecs.nsidc.org/DP1/ASO/ASO_50M_SWE.001/2017.07.27/ASO_50M_SWE_USCATB_20170727.tif.xml', 'https://n5eil01u.ecs.nsidc.org/DP1/ASO/ASO_50M_SWE.001/2017.08.15/ASO_50M_SWE_USCALB_20170815.tif', 'https://n5eil01u.ecs.nsidc.org/DP1/ASO/ASO_50M_SWE.001/2017.08.15/ASO_50M_SWE_USCALB_20170815.tif.xml', 'https://n5eil01u.ecs.nsidc.org/DP1/ASO/ASO_50M_SWE.001/2017.08.15/ASO_50M_SWE_USCASJ_20170815.tif', 'https://n5eil01u.ecs.nsidc.org/DP1/ASO/ASO_50M_SWE.001/2017.08.15/ASO_50M_SWE_USCASJ_20170815.tif.xml', 'https://n5eil01u.ecs.nsidc.org/DP1/ASO/ASO_50M_SWE.001/2017.08.16/ASO_50M_SWE_USCACE_20170816.tif', 'https://n5eil01u.ecs.nsidc.org/DP1/ASO/ASO_50M_SWE.001/2017.08.16/ASO_50M_SWE_USCACE_20170816.tif.xml', 'https://n5eil01u.ecs.nsidc.org/DP1/ASO/ASO_50M_SWE.001/2017.08.16/ASO_50M_SWE_USCATB_20170816.tif', 'https://n5eil01u.ecs.nsidc.org/DP1/ASO/ASO_50M_SWE.001/2017.08.16/ASO_50M_SWE_USCATB_20170816.tif.xml', 'https://n5eil01u.ecs.nsidc.org/DP1/ASO/ASO_50M_SWE.001/2018.03.04/ASO_50M_SWE_USCASJ_20180304.tif', 'https://n5eil01u.ecs.nsidc.org/DP1/ASO/ASO_50M_SWE.001/2018.03.04/ASO_50M_SWE_USCASJ_20180304.tif.xml', 'https://n5eil01u.ecs.nsidc.org/DP1/ASO/ASO_50M_SWE.001/2018.04.22/ASO_50M_SWE_USCALB_20180422.tif', 'https://n5eil01u.ecs.nsidc.org/DP1/ASO/ASO_50M_SWE.001/2018.04.22/ASO_50M_SWE_USCALB_20180422.tif.xml', 'https://n5eil01u.ecs.nsidc.org/DP1/ASO/ASO_50M_SWE.001/2018.04.22/ASO_50M_SWE_USCASJ_20180422.tif', 'https://n5eil01u.ecs.nsidc.org/DP1/ASO/ASO_50M_SWE.001/2018.04.22/ASO_50M_SWE_USCASJ_20180422.tif.xml', 'https://n5eil01u.ecs.nsidc.org/DP1/ASO/ASO_50M_SWE.001/2018.04.23/ASO_50M_SWE_USCACE_20180423.tif', 'https://n5eil01u.ecs.nsidc.org/DP1/ASO/ASO_50M_SWE.001/2018.04.23/ASO_50M_SWE_USCACE_20180423.tif.xml', 'https://n5eil01u.ecs.nsidc.org/DP1/ASO/ASO_50M_SWE.001/2018.04.23/ASO_50M_SWE_USCAJW_20180423.tif', 'https://n5eil01u.ecs.nsidc.org/DP1/ASO/ASO_50M_SWE.001/2018.04.23/ASO_50M_SWE_USCAJW_20180423.tif.xml', 'https://n5eil01u.ecs.nsidc.org/DP1/ASO/ASO_50M_SWE.001/2018.04.23/ASO_50M_SWE_USCASF_20180423.tif', 'https://n5eil01u.ecs.nsidc.org/DP1/ASO/ASO_50M_SWE.001/2018.04.23/ASO_50M_SWE_USCASF_20180423.tif.xml', 'https://n5eil01u.ecs.nsidc.org/DP1/ASO/ASO_50M_SWE.001/2018.04.23/ASO_50M_SWE_USCATB_20180423.tif', 'https://n5eil01u.ecs.nsidc.org/DP1/ASO/ASO_50M_SWE.001/2018.04.23/ASO_50M_SWE_USCATB_20180423.tif.xml', 'https://n5eil01u.ecs.nsidc.org/DP1/ASO/ASO_50M_SWE.001/2018.04.25/ASO_50M_SWE_USCAMB_20180425.tif', 'https://n5eil01u.ecs.nsidc.org/DP1/ASO/ASO_50M_SWE.001/2018.04.25/ASO_50M_SWE_USCAMB_20180425.tif.xml', 'https://n5eil01u.ecs.nsidc.org/DP1/ASO/ASO_50M_SWE.001/2018.04.26/ASO_50M_SWE_USCAKC_20180426.tif', 'https://n5eil01u.ecs.nsidc.org/DP1/ASO/ASO_50M_SWE.001/2018.04.26/ASO_50M_SWE_USCAKC_20180426.tif.xml', 'https://n5eil01u.ecs.nsidc.org/DP1/ASO/ASO_50M_SWE.001/2018.04.26/ASO_50M_SWE_USCAKN_20180426.tif', 'https://n5eil01u.ecs.nsidc.org/DP1/ASO/ASO_50M_SWE.001/2018.04.26/ASO_50M_SWE_USCAKN_20180426.tif.xml', 'https://n5eil01u.ecs.nsidc.org/DP1/ASO/ASO_50M_SWE.001/2018.05.28/ASO_50M_SWE_USCACE_20180528.tif', 'https://n5eil01u.ecs.nsidc.org/DP1/ASO/ASO_50M_SWE.001/2018.05.28/ASO_50M_SWE_USCACE_20180528.tif.xml', 'https://n5eil01u.ecs.nsidc.org/DP1/ASO/ASO_50M_SWE.001/2018.05.28/ASO_50M_SWE_USCATB_20180528.tif', 'https://n5eil01u.ecs.nsidc.org/DP1/ASO/ASO_50M_SWE.001/2018.05.28/ASO_50M_SWE_USCATB_20180528.tif.xml', 'https://n5eil01u.ecs.nsidc.org/DP1/ASO/ASO_50M_SWE.001/2018.06.01/ASO_50M_SWE_USCALB_20180601.tif', 'https://n5eil01u.ecs.nsidc.org/DP1/ASO/ASO_50M_SWE.001/2018.06.01/ASO_50M_SWE_USCALB_20180601.tif.xml', 'https://n5eil01u.ecs.nsidc.org/DP1/ASO/ASO_50M_SWE.001/2018.06.01/ASO_50M_SWE_USCASF_20180601.tif', 'https://n5eil01u.ecs.nsidc.org/DP1/ASO/ASO_50M_SWE.001/2018.06.01/ASO_50M_SWE_USCASF_20180601.tif.xml', 'https://n5eil01u.ecs.nsidc.org/DP1/ASO/ASO_50M_SWE.001/2018.06.01/ASO_50M_SWE_USCASJ_20180601.tif', 'https://n5eil01u.ecs.nsidc.org/DP1/ASO/ASO_50M_SWE.001/2018.06.01/ASO_50M_SWE_USCASJ_20180601.tif.xml', 'https://n5eil01u.ecs.nsidc.org/DP1/ASO/ASO_50M_SWE.001/2018.06.02/ASO_50M_SWE_USCAJW_20180602.tif', 'https://n5eil01u.ecs.nsidc.org/DP1/ASO/ASO_50M_SWE.001/2018.06.02/ASO_50M_SWE_USCAJW_20180602.tif.xml', 'https://n5eil01u.ecs.nsidc.org/DP1/ASO/ASO_50M_SWE.001/2019.03.09/ASO_50M_SWE_USCALB_20190309.tif', 'https://n5eil01u.ecs.nsidc.org/DP1/ASO/ASO_50M_SWE.001/2019.03.09/ASO_50M_SWE_USCALB_20190309.tif.xml', 'https://n5eil01u.ecs.nsidc.org/DP1/ASO/ASO_50M_SWE.001/2019.03.15/ASO_50M_SWE_USCAJW_20190315.tif', 'https://n5eil01u.ecs.nsidc.org/DP1/ASO/ASO_50M_SWE.001/2019.03.15/ASO_50M_SWE_USCAJW_20190315.tif.xml', 'https://n5eil01u.ecs.nsidc.org/DP1/ASO/ASO_50M_SWE.001/2019.03.16/ASO_50M_SWE_USCAKC_20190316.tif', 'https://n5eil01u.ecs.nsidc.org/DP1/ASO/ASO_50M_SWE.001/2019.03.16/ASO_50M_SWE_USCAKC_20190316.tif.xml', 'https://n5eil01u.ecs.nsidc.org/DP1/ASO/ASO_50M_SWE.001/2019.03.17/ASO_50M_SWE_USCAKW_20190317.tif', 'https://n5eil01u.ecs.nsidc.org/DP1/ASO/ASO_50M_SWE.001/2019.03.17/ASO_50M_SWE_USCAKW_20190317.tif.xml', 'https://n5eil01u.ecs.nsidc.org/DP1/ASO/ASO_50M_SWE.001/2019.03.17/ASO_50M_SWE_USCASF_20190317.tif', 'https://n5eil01u.ecs.nsidc.org/DP1/ASO/ASO_50M_SWE.001/2019.03.17/ASO_50M_SWE_USCASF_20190317.tif.xml', 'https://n5eil01u.ecs.nsidc.org/DP1/ASO/ASO_50M_SWE.001/2019.03.24/ASO_50M_SWE_USCAKW_20190324.tif', 'https://n5eil01u.ecs.nsidc.org/DP1/ASO/ASO_50M_SWE.001/2019.03.24/ASO_50M_SWE_USCAKW_20190324.tif.xml', 'https://n5eil01u.ecs.nsidc.org/DP1/ASO/ASO_50M_SWE.001/2019.03.24/ASO_50M_SWE_USCATE_20190324.tif', 'https://n5eil01u.ecs.nsidc.org/DP1/ASO/ASO_50M_SWE.001/2019.03.24/ASO_50M_SWE_USCATE_20190324.tif.xml', 'https://n5eil01u.ecs.nsidc.org/DP1/ASO/ASO_50M_SWE.001/2019.03.25/ASO_50M_SWE_USCASJ_20190325.tif', 'https://n5eil01u.ecs.nsidc.org/DP1/ASO/ASO_50M_SWE.001/2019.03.25/ASO_50M_SWE_USCASJ_20190325.tif.xml', 'https://n5eil01u.ecs.nsidc.org/DP1/ASO/ASO_50M_SWE.001/2019.03.26/ASO_50M_SWE_USCAKC_20190326.tif', 'https://n5eil01u.ecs.nsidc.org/DP1/ASO/ASO_50M_SWE.001/2019.03.26/ASO_50M_SWE_USCAKC_20190326.tif.xml', 'https://n5eil01u.ecs.nsidc.org/DP1/ASO/ASO_50M_SWE.001/2019.03.29/ASO_50M_SWE_USCAMB_20190329.tif', 'https://n5eil01u.ecs.nsidc.org/DP1/ASO/ASO_50M_SWE.001/2019.03.29/ASO_50M_SWE_USCAMB_20190329.tif.xml', 'https://n5eil01u.ecs.nsidc.org/DP1/ASO/ASO_50M_SWE.001/2019.04.17/ASO_50M_SWE_USCAKN_20190417.tif', 'https://n5eil01u.ecs.nsidc.org/DP1/ASO/ASO_50M_SWE.001/2019.04.17/ASO_50M_SWE_USCAKN_20190417.tif.xml', 'https://n5eil01u.ecs.nsidc.org/DP1/ASO/ASO_50M_SWE.001/2019.04.17/ASO_50M_SWE_USCATE_20190417.tif', 'https://n5eil01u.ecs.nsidc.org/DP1/ASO/ASO_50M_SWE.001/2019.04.17/ASO_50M_SWE_USCATE_20190417.tif.xml', 'https://n5eil01u.ecs.nsidc.org/DP1/ASO/ASO_50M_SWE.001/2019.04.18/ASO_50M_SWE_USCAKC_20190418.tif', 'https://n5eil01u.ecs.nsidc.org/DP1/ASO/ASO_50M_SWE.001/2019.04.18/ASO_50M_SWE_USCAKC_20190418.tif.xml', 'https://n5eil01u.ecs.nsidc.org/DP1/ASO/ASO_50M_SWE.001/2019.04.21/ASO_50M_SWE_USCAKW_20190421.tif', 'https://n5eil01u.ecs.nsidc.org/DP1/ASO/ASO_50M_SWE.001/2019.04.21/ASO_50M_SWE_USCAKW_20190421.tif.xml', 'https://n5eil01u.ecs.nsidc.org/DP1/ASO/ASO_50M_SWE.001/2019.04.27/ASO_50M_SWE_USCAKC_20190427.tif', 'https://n5eil01u.ecs.nsidc.org/DP1/ASO/ASO_50M_SWE.001/2019.04.27/ASO_50M_SWE_USCAKC_20190427.tif.xml', 'https://n5eil01u.ecs.nsidc.org/DP1/ASO/ASO_50M_SWE.001/2019.04.28/ASO_50M_SWE_USCAKC_20190428.tif', 'https://n5eil01u.ecs.nsidc.org/DP1/ASO/ASO_50M_SWE.001/2019.04.28/ASO_50M_SWE_USCAKC_20190428.tif.xml', 'https://n5eil01u.ecs.nsidc.org/DP1/ASO/ASO_50M_SWE.001/2019.05.01/ASO_50M_SWE_USCALB_20190501.tif', 'https://n5eil01u.ecs.nsidc.org/DP1/ASO/ASO_50M_SWE.001/2019.05.01/ASO_50M_SWE_USCALB_20190501.tif.xml', 'https://n5eil01u.ecs.nsidc.org/DP1/ASO/ASO_50M_SWE.001/2019.05.01/ASO_50M_SWE_USCASJ_20190501.tif', 'https://n5eil01u.ecs.nsidc.org/DP1/ASO/ASO_50M_SWE.001/2019.05.01/ASO_50M_SWE_USCASJ_20190501.tif.xml', 'https://n5eil01u.ecs.nsidc.org/DP1/ASO/ASO_50M_SWE.001/2019.05.02/ASO_50M_SWE_USCASF_20190502.tif', 'https://n5eil01u.ecs.nsidc.org/DP1/ASO/ASO_50M_SWE.001/2019.05.02/ASO_50M_SWE_USCASF_20190502.tif.xml', 'https://n5eil01u.ecs.nsidc.org/DP1/ASO/ASO_50M_SWE.001/2019.05.03/ASO_50M_SWE_USCATE_20190503.tif', 'https://n5eil01u.ecs.nsidc.org/DP1/ASO/ASO_50M_SWE.001/2019.05.03/ASO_50M_SWE_USCATE_20190503.tif.xml', 'https://n5eil01u.ecs.nsidc.org/DP1/ASO/ASO_50M_SWE.001/2019.06.04/ASO_50M_SWE_USCAMB_20190604.tif', 'https://n5eil01u.ecs.nsidc.org/DP1/ASO/ASO_50M_SWE.001/2019.06.04/ASO_50M_SWE_USCAMB_20190604.tif.xml', 'https://n5eil01u.ecs.nsidc.org/DP1/ASO/ASO_50M_SWE.001/2019.06.05/ASO_50M_SWE_USCAJW_20190605.tif', 'https://n5eil01u.ecs.nsidc.org/DP1/ASO/ASO_50M_SWE.001/2019.06.05/ASO_50M_SWE_USCAJW_20190605.tif.xml', 'https://n5eil01u.ecs.nsidc.org/DP1/ASO/ASO_50M_SWE.001/2019.06.08/ASO_50M_SWE_USCAKC_20190608.tif', 'https://n5eil01u.ecs.nsidc.org/DP1/ASO/ASO_50M_SWE.001/2019.06.08/ASO_50M_SWE_USCAKC_20190608.tif.xml', 'https://n5eil01u.ecs.nsidc.org/DP1/ASO/ASO_50M_SWE.001/2019.06.09/ASO_50M_SWE_USCASF_20190609.tif', 'https://n5eil01u.ecs.nsidc.org/DP1/ASO/ASO_50M_SWE.001/2019.06.09/ASO_50M_SWE_USCASF_20190609.tif.xml', 'https://n5eil01u.ecs.nsidc.org/DP1/ASO/ASO_50M_SWE.001/2019.06.11/ASO_50M_SWE_USCAKC_20190611.tif', 'https://n5eil01u.ecs.nsidc.org/DP1/ASO/ASO_50M_SWE.001/2019.06.11/ASO_50M_SWE_USCAKC_20190611.tif.xml', 'https://n5eil01u.ecs.nsidc.org/DP1/ASO/ASO_50M_SWE.001/2019.06.11/ASO_50M_SWE_USCALB_20190611.tif', 'https://n5eil01u.ecs.nsidc.org/DP1/ASO/ASO_50M_SWE.001/2019.06.11/ASO_50M_SWE_USCALB_20190611.tif.xml', 'https://n5eil01u.ecs.nsidc.org/DP1/ASO/ASO_50M_SWE.001/2019.06.13/ASO_50M_SWE_USCATE_20190613.tif', 'https://n5eil01u.ecs.nsidc.org/DP1/ASO/ASO_50M_SWE.001/2019.06.13/ASO_50M_SWE_USCATE_20190613.tif.xml', 'https://n5eil01u.ecs.nsidc.org/DP1/ASO/ASO_50M_SWE.001/2019.06.14/ASO_50M_SWE_USCASJ_20190614.tif', 'https://n5eil01u.ecs.nsidc.org/DP1/ASO/ASO_50M_SWE.001/2019.06.14/ASO_50M_SWE_USCASJ_20190614.tif.xml', 'https://n5eil01u.ecs.nsidc.org/DP1/ASO/ASO_50M_SWE.001/2019.07.03/ASO_50M_SWE_USCALB_20190703.tif', 'https://n5eil01u.ecs.nsidc.org/DP1/ASO/ASO_50M_SWE.001/2019.07.03/ASO_50M_SWE_USCALB_20190703.tif.xml', 'https://n5eil01u.ecs.nsidc.org/DP1/ASO/ASO_50M_SWE.001/2019.07.03/ASO_50M_SWE_USCAMB_20190703.tif', 'https://n5eil01u.ecs.nsidc.org/DP1/ASO/ASO_50M_SWE.001/2019.07.03/ASO_50M_SWE_USCAMB_20190703.tif.xml', 'https://n5eil01u.ecs.nsidc.org/DP1/ASO/ASO_50M_SWE.001/2019.07.04/ASO_50M_SWE_USCASF_20190704.tif', 'https://n5eil01u.ecs.nsidc.org/DP1/ASO/ASO_50M_SWE.001/2019.07.04/ASO_50M_SWE_USCASF_20190704.tif.xml', 'https://n5eil01u.ecs.nsidc.org/DP1/ASO/ASO_50M_SWE.001/2019.07.04/ASO_50M_SWE_USCASJ_20190704.tif', 'https://n5eil01u.ecs.nsidc.org/DP1/ASO/ASO_50M_SWE.001/2019.07.04/ASO_50M_SWE_USCASJ_20190704.tif.xml', 'https://n5eil01u.ecs.nsidc.org/DP1/ASO/ASO_50M_SWE.001/2019.07.05/ASO_50M_SWE_USCATE_20190705.tif', 'https://n5eil01u.ecs.nsidc.org/DP1/ASO/ASO_50M_SWE.001/2019.07.05/ASO_50M_SWE_USCATE_20190705.tif.xml', 'https://n5eil01u.ecs.nsidc.org/DP1/ASO/ASO_50M_SWE.001/2019.07.13/ASO_50M_SWE_USCASJ_20190713.tif', 'https://n5eil01u.ecs.nsidc.org/DP1/ASO/ASO_50M_SWE.001/2019.07.13/ASO_50M_SWE_USCASJ_20190713.tif.xml', 'https://n5eil01u.ecs.nsidc.org/DP1/ASO/ASO_50M_SWE.001/2019.07.14/ASO_50M_SWE_USCASF_20190714.tif', 'https://n5eil01u.ecs.nsidc.org/DP1/ASO/ASO_50M_SWE.001/2019.07.14/ASO_50M_SWE_USCASF_20190714.tif.xml', 'https://n5eil01u.ecs.nsidc.org/DP1/ASO/ASO_50M_SWE.001/2019.07.15/ASO_50M_SWE_USCALB_20190715.tif', 'https://n5eil01u.ecs.nsidc.org/DP1/ASO/ASO_50M_SWE.001/2019.07.15/ASO_50M_SWE_USCALB_20190715.tif.xml', 'https://n5eil01u.ecs.nsidc.org/DP1/ASO/ASO_50M_SWE.001/2019.07.16/ASO_50M_SWE_USCAMB_20190716.tif', 'https://n5eil01u.ecs.nsidc.org/DP1/ASO/ASO_50M_SWE.001/2019.07.16/ASO_50M_SWE_USCAMB_20190716.tif.xml']\n",
      "getting credentials NSIDC\n"
     ]
    },
    {
     "name": "stderr",
     "output_type": "stream",
     "text": [
      "100%|██████████| 262/262 [00:00<00:00, 10473.17it/s]\n"
     ]
    },
    {
     "name": "stdout",
     "output_type": "stream",
     "text": [
      "\b  [============================================================] 100%  1.1MB/s   \n",
      "\b  [============================================================] 100%  1.1MB/s   \n",
      "\b  [============                                                ]  20%  3.9MB/s    [========================                                    ]  40%  6.7MB/s    [============                                                ]  20%  3.9MB/s    [====================================                        ]  60%  8.9MB/s    [========================                                    ]  40%  6.5MB/s   [================================================            ]  80%  10.9MB/s   [============================================================] 100%  13.4MB/s    [============                                                ]  20%  3.8MB/s   \n",
      "\b  [====================================                        ]  60%  8.8MB/s    [========================                                    ]  40%  6.6MB/s   [================================================            ]  80%  11.0MB/s   [============================================================] 100%  13.6MB/s   \n",
      "\b  [====================================                        ]  60%  9.1MB/s   [================================================            ]  80%  11.5MB/s   [============================================================] 100%  14.1MB/s   \n",
      "\b  [============================================================] 100%  1.2MB/s   \n",
      "\b  [============                                                ]  20%  3.9MB/s    [========================                                    ]  40%  6.8MB/s    [====================================                        ]  60%  9.6MB/s   [================================================            ]  80%  11.8MB/s   [============================================================] 100%  14.5MB/s   \n",
      "\b  [============================================================] 100%  1.0MB/s   \n",
      "\b  [============================================================] 100%  1.1MB/s   \n",
      "\b  [============                                                ]  20%  4.0MB/s    [========================                                    ]  40%  6.7MB/s    [====================================                        ]  60%  9.3MB/s   [================================================            ]  80%  11.6MB/s   [============================================================] 100%  14.3MB/s   \n",
      "\b  [============                                                ]  20%  4.0MB/s    [========================                                    ]  40%  6.8MB/s    [====================================                        ]  60%  9.5MB/s    [============================================================] 100%  1.3MB/s   \n",
      "  [================================================            ]  80%  11.8MB/s   [============================================================] 100%  14.6MB/s   \n",
      "\b  [============================================================] 100%  1.2MB/s   \n",
      "\b  [==============================                              ]  50%  4.0MB/s    [============================================================] 100%  6.8MB/s   \n",
      "\b  [============                                                ]  20%  4.0MB/s    [========================                                    ]  40%  6.8MB/s    [====================================                        ]  60%  9.6MB/s   [================================================            ]  80%  11.9MB/s   [============================================================] 100%  14.7MB/s   \n",
      "\b  [============================================================] 100%  1.2MB/s   \n",
      "\b  [============================================================] 100%  1.2MB/s   \n",
      "\b  [====================                                        ]  33%  4.0MB/s    [========================================                    ]  67%  6.8MB/s    [============================================================] 100%  9.9MB/s   \n",
      "\b  [====================                                        ]  33%  4.0MB/s    [============================================================] 100%  1.3MB/s   \n",
      "\b  [========================================                    ]  67%  6.8MB/s    [============================================================] 100%  9.9MB/s   \n",
      "\b  [============================================================] 100%  1.2MB/s   \n",
      "\b  [============                                                ]  20%  4.0MB/s    [========================                                    ]  40%  6.8MB/s    [====================================                        ]  60%  9.5MB/s   [================================================            ]  80%  11.7MB/s   [============================================================] 100%  14.4MB/s   \n",
      "\b  [====================                                        ]  33%  3.9MB/s    [========================================                    ]  67%  6.7MB/s    [============================================================] 100%  9.8MB/s   \n",
      "\b  [============================================================] 100%  1.2MB/s   \n",
      "\b  [============                                                ]  20%  4.0MB/s    [============================================================] 100%  1.3MB/s   \n",
      "\b  [========================                                    ]  40%  6.6MB/s    [====================================                        ]  60%  9.0MB/s   [================================================            ]  80%  11.2MB/s   [============================================================] 100%  13.8MB/s   \n",
      "\b  [====================                                        ]  33%  3.9MB/s    [========================================                    ]  67%  6.7MB/s    [============================================================] 100%  9.8MB/s   \n",
      "\b  [============================================================] 100%  1.2MB/s   \n",
      "\b  [============================================================] 100%  1.2MB/s   \n",
      "\b  [============                                                ]  20%  4.0MB/s    [========================                                    ]  40%  6.8MB/s    [====================================                        ]  60%  7.9MB/s   [================================================            ]  80%  10.1MB/s   [============================================================] 100%  12.4MB/s   \n",
      "\b  [====================                                        ]  33%  4.0MB/s    [========================================                    ]  67%  6.8MB/s    [============================================================] 100%  9.9MB/s   \n",
      "\b  [============================================================] 100%  1.1MB/s   \n",
      "\b  [============                                                ]  20%  4.0MB/s    [========================                                    ]  40%  6.8MB/s    [====================================                        ]  60%  9.6MB/s   [================================================            ]  80%  11.8MB/s   [============================================================] 100%  14.5MB/s   \n",
      "\b  [============================================================] 100%  1.2MB/s   \n",
      "\b  [============================================================] 100%  1.3MB/s   \n",
      "\b  [====================                                        ]  33%  4.0MB/s    [========================================                    ]  67%  6.7MB/s    [============================================================] 100%  9.8MB/s   \n",
      "\b  [============================================================] 100%  1.2MB/s   \n",
      "\b  [============                                                ]  20%  4.0MB/s    [========================                                    ]  40%  6.8MB/s    [====================================                        ]  60%  9.7MB/s   [================================================            ]  80%  10.4MB/s   [============================================================] 100%  12.8MB/s   \n",
      "\b  [============================================================] 100%  1.2MB/s   \n",
      "\b  [====================                                        ]  33%  4.0MB/s    [========================================                    ]  67%  6.8MB/s    [============================================================] 100%  9.9MB/s   \n",
      "\b  [============                                                ]  20%  3.9MB/s    [========================                                    ]  40%  6.6MB/s    [====================================                        ]  60%  7.7MB/s   [================================================            ]  80%  9.7MB/s     [============================================================] 100%  1.2MB/s   \n",
      "  [============================================================] 100%  11.9MB/s   \n",
      "\b  [============                                                ]  20%  4.0MB/s    [========================                                    ]  40%  6.8MB/s    [====================================                        ]  60%  9.6MB/s   [================================================            ]  80%  11.8MB/s   [============================================================] 100%  14.5MB/s   \n",
      "\b  [============================================================] 100%  1.2MB/s   \n",
      "\b  [============                                                ]  20%  4.0MB/s    [========================                                    ]  40%  6.8MB/s    [====================================                        ]  60%  9.5MB/s   [================================================            ]  80%  11.6MB/s   [============================================================] 100%  14.2MB/s   \n",
      "\b  [============================================================] 100%  1.1MB/s   \n",
      "\b  [============                                                ]  20%  4.0MB/s    [========================                                    ]  40%  6.8MB/s    [====================================                        ]  60%  8.1MB/s   [================================================            ]  80%  10.3MB/s   [============================================================] 100%  12.7MB/s   \n",
      "\b  [============================================================] 100%  1.1MB/s   \n",
      "\b  [============                                                ]  20%  3.9MB/s    [========================                                    ]  40%  6.6MB/s    [====================================                        ]  60%  7.8MB/s    [================================================            ]  80%  9.7MB/s   [============================================================] 100%  12.0MB/s   \n",
      "\b  [============================================================] 100%  1.2MB/s   \n",
      "\b  [============                                                ]  20%  4.0MB/s    [========================                                    ]  40%  6.8MB/s    [====================================                        ]  60%  9.5MB/s   [================================================            ]  80%  11.7MB/s   [============================================================] 100%  14.4MB/s   \n",
      "\b  [============================================================] 100%  1.1MB/s   \n",
      "\b  [============                                                ]  20%  4.0MB/s    [========================                                    ]  40%  6.8MB/s    [====================================                        ]  60%  9.4MB/s   [================================================            ]  80%  11.7MB/s   [============================================================] 100%  14.4MB/s   \n",
      "\b  [============================================================] 100%  1.1MB/s   \n",
      "\b  [============================================================] 100%  2.3MB/s   \n",
      "\b  [============================================================] 100%  1.1MB/s   \n",
      "\b  [==========                                                  ]  17%  4.0MB/s    [====================                                        ]  33%  6.8MB/s    [==============================                              ]  50%  9.6MB/s   [========================================                    ]  67%  11.3MB/s    [============================================================] 100%  1.3MB/s   \n",
      "  [==================================================          ]  83%  13.3MB/s   [============================================================] 100%  15.6MB/s   \n",
      "\b  [============                                                ]  20%  4.0MB/s    [========================                                    ]  40%  6.8MB/s    [============================================================] 100%  1.3MB/s   \n",
      "\b  [====================================                        ]  60%  8.5MB/s   [================================================            ]  80%  10.6MB/s   [============================================================] 100%  13.1MB/s   \n",
      "\b  [============                                                ]  20%  3.9MB/s    [========================                                    ]  40%  6.8MB/s    [====================================                        ]  60%  9.4MB/s   [================================================            ]  80%  11.9MB/s   [============================================================] 100%  14.6MB/s   \n",
      "\b  [============================================================] 100%  1.2MB/s   \n",
      "\b  [==========                                                  ]  17%  2.7MB/s    [============================================================] 100%  1.2MB/s   \n",
      "\b  [====================                                        ]  33%  5.1MB/s    [==============================                              ]  50%  7.3MB/s    [========================================                    ]  67%  9.3MB/s   [==================================================          ]  83%  11.0MB/s   [============================================================] 100%  13.1MB/s   \n",
      "\b  [============                                                ]  20%  4.0MB/s    [========================                                    ]  40%  6.8MB/s    [====================================                        ]  60%  9.6MB/s   [================================================            ]  80%  10.5MB/s   [============================================================] 100%  13.0MB/s   \n",
      "\b  [============================================================] 100%  1.2MB/s   \n",
      "\b  [==========                                                  ]  17%  3.9MB/s    [====================                                        ]  33%  6.8MB/s    [==============================                              ]  50%  9.6MB/s   [========================================                    ]  67%  11.8MB/s   [==================================================          ]  83%  13.9MB/s   [============================================================] 100%  16.5MB/s   \n",
      "\b  [============================================================] 100%  1.1MB/s   \n",
      "\b  [============                                                ]  20%  4.0MB/s    [========================                                    ]  40%  6.8MB/s    [============================================================] 100%  1.2MB/s   \n",
      "\b  [====================================                        ]  60%  7.9MB/s   [================================================            ]  80%  10.0MB/s   [============================================================] 100%  12.4MB/s   \n",
      "\b  [============================================================] 100%  1.6MB/s   \n",
      "\b  [============================================================] 100%  1.1MB/s   \n",
      "\b  [====================                                        ]  33%  4.0MB/s    [========================================                    ]  67%  5.7MB/s    [============================================================] 100%  8.5MB/s   \n",
      "\b  [============================================================] 100%  1.2MB/s   \n",
      "\b  [============================================================] 100%  2.3MB/s   \n",
      "\b  [============================================================] 100%  1.2MB/s   \n",
      "\b  [============================================================] 100%  2.3MB/s   \n",
      "\b  [============================================================] 100%  1.2MB/s   \n",
      "\b  [============                                                ]  20%  4.0MB/s    [============================================================] 100%  1.2MB/s   \n",
      "\b  [========================                                    ]  40%  6.7MB/s    [====================================                        ]  60%  8.9MB/s   [================================================            ]  80%  11.3MB/s   [============================================================] 100%  13.9MB/s   \n",
      "\b  [===============                                             ]  25%  4.0MB/s    [==============================                              ]  50%  6.9MB/s    [=============================================               ]  75%  9.6MB/s   [============================================================] 100%  12.5MB/s   \n",
      "\b  [============================================================] 100%  1.2MB/s   \n",
      "\b  [============                                                ]  20%  4.0MB/s    [============================================================] 100%  913.6kB/s   \n",
      "\b  [========================                                    ]  40%  6.8MB/s    [====================================                        ]  60%  9.6MB/s   [================================================            ]  80%  11.8MB/s   [============================================================] 100%  14.5MB/s   \n",
      "\b  [============================================================] 100%  2.3MB/s   \n",
      "\b  [============================================================] 100%  1.2MB/s   \n",
      "\b  [==========                                                  ]  17%  4.0MB/s    [====================                                        ]  33%  6.8MB/s    [==============================                              ]  50%  9.5MB/s   [========================================                    ]  67%  11.8MB/s   [==================================================          ]  83%  14.0MB/s   [============================================================] 100%  16.2MB/s   \n",
      "\b  [============================================================] 100%  1.1MB/s   \n",
      "\b  [============================================================] 100%  1.2MB/s   \n",
      "\b  [==========                                                  ]  17%  4.0MB/s    [====================                                        ]  33%  6.8MB/s    [==============================                              ]  50%  7.9MB/s   [========================================                    ]  67%  10.0MB/s   [==================================================          ]  83%  12.0MB/s   [============================================================] 100%  14.1MB/s   \n",
      "\b  [==========                                                  ]  17%  4.0MB/s    [====================                                        ]  33%  6.8MB/s    [==============================                              ]  50%  9.5MB/s   [========================================                    ]  67%  11.9MB/s   [==================================================          ]  83%  14.0MB/s   [============================================================] 100%  16.2MB/s   \n",
      "\b  [============================================================] 100%  1.2MB/s   \n",
      "\b  [==========                                                  ]  17%  4.0MB/s    [====================                                        ]  33%  6.8MB/s    [==============================                              ]  50%  9.6MB/s   [========================================                    ]  67%  11.7MB/s   [==================================================          ]  83%  13.9MB/s   [============================================================] 100%  16.0MB/s   \n",
      "\b  [============================================================] 100%  1.2MB/s   \n",
      "\b  [==========                                                  ]  17%  4.0MB/s    [====================                                        ]  33%  6.8MB/s    [==============================                              ]  50%  9.7MB/s    [============================================================] 100%  1.3MB/s   \n",
      "  [========================================                    ]  67%  11.5MB/s   [==================================================          ]  83%  13.7MB/s   [============================================================] 100%  16.0MB/s   \n",
      "\b  [==========                                                  ]  17%  3.9MB/s    [====================                                        ]  33%  6.6MB/s    [==============================                              ]  50%  9.0MB/s   [========================================                    ]  67%  11.4MB/s   [==================================================          ]  83%  13.5MB/s   [============================================================] 100%  15.8MB/s   \n",
      "\b  [============================================================] 100%  1.2MB/s   \n",
      "\b  [==========                                                  ]  17%  3.9MB/s    [====================                                        ]  33%  6.7MB/s    [==============================                              ]  50%  9.5MB/s   [========================================                    ]  67%  11.5MB/s   [==================================================          ]  83%  13.8MB/s   [============================================================] 100%  16.0MB/s   \n",
      "\b  [==========                                                  ]  17%  4.0MB/s    [====================                                        ]  33%  6.8MB/s    [==============================                              ]  50%  9.5MB/s   [========================================                    ]  67%  11.6MB/s   [==================================================          ]  83%  11.9MB/s   [============================================================] 100%  13.9MB/s   \n",
      "\b  [============================================================] 100%  1.1MB/s   \n",
      "\b  [============================================================] 100%  1.0MB/s   \n",
      "\b  [==========                                                  ]  17%  4.0MB/s    [====================                                        ]  33%  6.7MB/s    [==============================                              ]  50%  9.3MB/s   [========================================                    ]  67%  11.6MB/s    [============================================================] 100%  1.2MB/s   \n",
      "  [==================================================          ]  83%  11.6MB/s   [============================================================] 100%  13.5MB/s   \n",
      "\b  [============================================================] 100%  1.2MB/s   \n",
      "\b  [==========                                                  ]  17%  3.9MB/s    [====================                                        ]  33%  6.7MB/s    [==============================                              ]  50%  9.4MB/s   [========================================                    ]  67%  11.7MB/s   [==================================================          ]  83%  13.9MB/s   [============================================================] 100%  16.0MB/s   \n",
      "\b  [============================================================] 100%  1.2MB/s   \n",
      "\b  [============================================================] 100%  1.1MB/s   \n",
      "\b  [==========                                                  ]  17%  3.4MB/s    [====================                                        ]  33%  6.6MB/s    [============================================================] 100%  1.1MB/s   \n",
      "\b  [==============================                              ]  50%  8.0MB/s    [========================================                    ]  67%  9.4MB/s    [==================================================          ]  83%  9.8MB/s   [============================================================] 100%  10.9MB/s   \n",
      "\b  [============                                                ]  20%  4.0MB/s    [========================                                    ]  40%  6.8MB/s    [====================================                        ]  60%  9.6MB/s   [================================================            ]  80%  11.8MB/s   [============================================================] 100%  14.6MB/s   \n",
      "\b  [============================================================] 100%  1.2MB/s   \n",
      "\b  [============================================================] 100%  1.6MB/s   \n",
      "\b  [============================================================] 100%  1.1MB/s   \n",
      "\b  [============================================================] 100%  1.2MB/s   \n",
      "\b  [============================================================] 100%  1.1MB/s   \n",
      "\b  [============================================================] 100%  1.2MB/s   \n",
      "\b  [============================================================] 100%  1.1MB/s   \n",
      "\b  [============================================================] 100%  1.2MB/s   \n",
      "\b  [============================================================] 100%  1.6MB/s   \n",
      "\b  [============                                                ]  20%  4.0MB/s    [========================                                    ]  40%  6.8MB/s    [============================================================] 100%  765.7kB/s   \n",
      "\b  [====================================                        ]  60%  9.5MB/s   [================================================            ]  80%  11.7MB/s   [============================================================] 100%  14.4MB/s   \n",
      "\b  [============================================================] 100%  1.6MB/s   \n",
      "\b  [============================================================] 100%  1.2MB/s   \n",
      "\b  [==========                                                  ]  17%  4.0MB/s    [====================                                        ]  33%  6.9MB/s    [==============================                              ]  50%  9.7MB/s   [========================================                    ]  67%  11.9MB/s   [==================================================          ]  83%  14.1MB/s    [============================================================] 100%  16.3MB/s     [============================================================] 100%  903.8kB/s   \n",
      "\n",
      "\b  [============================================================] 100%  1.2MB/s   \n",
      "\b  [==========                                                  ]  17%  4.0MB/s    [====================                                        ]  33%  6.8MB/s    [==============================                              ]  50%  9.6MB/s   [========================================                    ]  67%  11.9MB/s   [==================================================          ]  83%  14.2MB/s   [============================================================] 100%  16.4MB/s   \n",
      "\b  [====================                                        ]  33%  4.0MB/s    [========================================                    ]  67%  6.8MB/s    [============================================================] 100%  9.7MB/s   \n",
      "\b  [============================================================] 100%  1.1MB/s   \n",
      "\b  [==========                                                  ]  17%  4.0MB/s    [============================================================] 100%  1.2MB/s   \n",
      "\b  [====================                                        ]  33%  6.7MB/s    [==============================                              ]  50%  9.4MB/s   [========================================                    ]  67%  11.8MB/s   [==================================================          ]  83%  14.0MB/s   [============================================================] 100%  16.3MB/s   \n",
      "\b  [============================================================] 100%  2.3MB/s   \n",
      "\b  [============================================================] 100%  1.2MB/s   \n",
      "\b  [============================================================] 100%  2.3MB/s   \n",
      "\b  [============================================================] 100%  502.9kB/s   \n",
      "\b  [============================================================] 100%  1.1MB/s   \n",
      "\b  [==========                                                  ]  17%  4.0MB/s    [====================                                        ]  33%  5.9MB/s    [==============================                              ]  50%  8.3MB/s   [========================================                    ]  67%  10.5MB/s   [==================================================          ]  83%  12.5MB/s   [============================================================] 100%  13.8MB/s   \n",
      "\b  [============================================================] 100%  1.2MB/s   \n",
      "\b  [============================================================] 100%  1.6MB/s   \n",
      "\b  [============================================================] 100%  1.1MB/s   \n",
      "\b  [====                                                        ]   7%  3.9MB/s    [========                                                    ]  13%  6.7MB/s    [============                                                ]  20%  8.9MB/s   [================                                            ]  27%  11.2MB/s   [====================                                        ]  33%  13.2MB/s   [========================                                    ]  40%  15.1MB/s   [============================                                ]  47%  16.8MB/s   [================================                            ]  53%  18.2MB/s   [====================================                        ]  60%  19.7MB/s   [========================================                    ]  67%  21.0MB/s   [============================================                ]  73%  22.0MB/s   [================================================            ]  80%  23.2MB/s    [====                                                        ]   7%  4.0MB/s    [========                                                    ]  13%  6.8MB/s   [====================================================        ]  87%  22.2MB/s    [========================================================    ]  93%  23.2MB/s     [============                                                ]  20%  9.3MB/s   [============================================================] 100%  24.1MB/s   \n",
      "  [================                                            ]  27%  11.1MB/s   [====================                                        ]  33%  13.3MB/s   [========================                                    ]  40%  15.2MB/s   [============================                                ]  47%  17.1MB/s   [================================                            ]  53%  18.8MB/s    [============================================================] 100%  1.2MB/s   \n",
      "  [====================================                        ]  60%  20.0MB/s   [========================================                    ]  67%  21.2MB/s   [============================================                ]  73%  19.9MB/s   [================================================            ]  80%  21.2MB/s   [====================================================        ]  87%  22.1MB/s   [========================================================    ]  93%  23.1MB/s   [============================================================] 100%  24.0MB/s   \n",
      "\b  [============================================================] 100%  1.2MB/s  \n",
      "  [==========                                                  ]  17%  4.0MB/s    [====================                                        ]  33%  6.8MB/s    [==============================                              ]  50%  7.8MB/s   [========================================                    ]  67%  10.0MB/s   [==================================================          ]  83%  11.9MB/s   [============================================================] 100%  13.9MB/s   \n",
      "\b  [==========                                                  ]  17%  4.0MB/s    [====================                                        ]  33%  6.8MB/s    [==============================                              ]  50%  9.6MB/s   [========================================                    ]  67%  11.9MB/s   [==================================================          ]  83%  14.0MB/s   [============================================================] 100%  16.2MB/s   \n",
      "\b  [============================================================] 100%  1.6MB/s   \n",
      "\b  [============================================================] 100%  1.2MB/s   \n",
      "\b  [====                                                        ]   7%  3.9MB/s    [========                                                    ]  13%  6.6MB/s    [============                                                ]  20%  9.4MB/s   [================                                            ]  27%  11.6MB/s    [============================================================] 100%  1.2MB/s   \n",
      "  [====================                                        ]  33%  11.6MB/s   [========================                                    ]  40%  13.4MB/s   [============================                                ]  47%  15.1MB/s   [================================                            ]  53%  16.7MB/s   [====================================                        ]  60%  17.5MB/s   [========================================                    ]  67%  18.7MB/s   [============================================                ]  73%  19.7MB/s   [================================================            ]  80%  20.4MB/s   [====================================================        ]  87%  21.4MB/s   [========================================================    ]  93%  21.9MB/s   [============================================================] 100%  22.7MB/s   \n",
      "\b  [============================================================] 100%  1.2MB/s   \n",
      "\b  [==========                                                  ]  17%  4.0MB/s    [====================                                        ]  33%  6.8MB/s    [============================================================] 100%  1.3MB/s   \n",
      "\b  [==============================                              ]  50%  9.4MB/s   [========================================                    ]  67%  11.8MB/s   [==================================================          ]  83%  14.1MB/s   [============================================================] 100%  16.4MB/s   \n",
      "\b  [============================================================] 100%  1.2MB/s   \n",
      "\b  [==========                                                  ]  17%  4.0MB/s    [====================                                        ]  33%  6.5MB/s    [==============================                              ]  50%  9.2MB/s   [========================================                    ]  67%  11.6MB/s   [==================================================          ]  83%  13.3MB/s   [============================================================] 100%  15.3MB/s   \n",
      "\b  [====                                                        ]   7%  4.0MB/s    [========                                                    ]  13%  6.9MB/s    [============                                                ]  20%  9.7MB/s   [================                                            ]  27%  11.9MB/s   [====================                                        ]  33%  14.0MB/s   [========================                                    ]  40%  16.0MB/s   [============================                                ]  47%  17.9MB/s   [================================                            ]  53%  19.4MB/s   [====================================                        ]  60%  21.0MB/s    [============================================================] 100%  1.2MB/s   [========================================                    ]  67%  22.1MB/s   \n",
      "  [============================================                ]  73%  23.2MB/s   [================================================            ]  80%  24.2MB/s   [====================================================        ]  87%  25.4MB/s   [========================================================    ]  93%  26.2MB/s   [============================================================] 100%  27.2MB/s   \n",
      "\b  [============================================================] 100%  1.6MB/s   \n",
      "\b  [============================================================] 100%  1.2MB/s   \n",
      "\b  [====                                                        ]   7%  4.0MB/s    [========                                                    ]  13%  6.7MB/s    [============                                                ]  20%  9.4MB/s   [================                                            ]  27%  11.8MB/s   [====================                                        ]  33%  14.0MB/s   [========================                                    ]  40%  16.0MB/s   [============================                                ]  47%  17.9MB/s   [================================                            ]  53%  19.4MB/s   [====================================                        ]  60%  20.8MB/s   [========================================                    ]  67%  22.1MB/s   [============================================                ]  73%  23.3MB/s    [============================================================] 100%  1.2MB/s   \n",
      "\b  [============================================================] 100%  1.3MB/s   \n",
      "  [================================================            ]  80%  24.3MB/s   [====================================================        ]  87%  25.3MB/s   [========================================================    ]  93%  26.3MB/s   [============================================================] 100%  27.4MB/s   \n",
      "\b  [==========                                                  ]  17%  4.0MB/s    [====================                                        ]  33%  5.8MB/s    [==============================                              ]  50%  8.2MB/s   [========================================                    ]  67%  10.4MB/s   [==================================================          ]  83%  10.0MB/s   [============================================================] 100%  11.6MB/s   \n",
      "\b  [====                                                        ]   7%  4.0MB/s    [========                                                    ]  13%  6.8MB/s    [============                                                ]  20%  9.1MB/s   [================                                            ]  27%  11.4MB/s   [====================                                        ]  33%  13.5MB/s   [========================                                    ]  40%  15.6MB/s   [============================                                ]  47%  17.5MB/s   [================================                            ]  53%  19.0MB/s   [====================================                        ]  60%  20.6MB/s   [========================================                    ]  67%  21.7MB/s   [============================================                ]  73%  22.8MB/s   [================================================            ]  80%  24.0MB/s   [====================================================        ]  87%  24.9MB/s   [========================================================    ]  93%  25.8MB/s   [============================================================] 100%  26.8MB/s   \n",
      "\b  [============================================================] 100%  1.3MB/s   \n",
      "\b  [============================================================] 100%  973.8kB/s   \n",
      "\b  [====                                                        ]   7%  4.0MB/s    [========                                                    ]  13%  6.8MB/s    [============                                                ]  20%  7.9MB/s   [================                                            ]  27%  10.0MB/s   [====================                                        ]  33%  12.1MB/s   [========================                                    ]  40%  13.9MB/s   [============================                                ]  47%  15.6MB/s   [================================                            ]  53%  17.0MB/s   [====================================                        ]  60%  17.7MB/s   [========================================                    ]  67%  19.0MB/s   [============================================                ]  73%  20.0MB/s   [================================================            ]  80%  19.1MB/s   [====================================================        ]  87%  20.1MB/s   [========================================================    ]  93%  20.9MB/s   [============================================================] 100%  21.7MB/s   \n",
      "\b  [==========                                                  ]  17%  4.0MB/s    [====================                                        ]  33%  6.8MB/s    [==============================                              ]  50%  9.7MB/s   [========================================                    ]  67%  10.3MB/s   [==================================================          ]  83%  12.2MB/s   [============================================================] 100%  14.2MB/s   \n",
      "\b  [============================================================] 100%  1.2MB/s   \n",
      "\b  [============================================================] 100%  1.0MB/s   \n",
      "\b  [====================                                        ]  33%  4.0MB/s    [========================================                    ]  67%  6.8MB/s   [============================================================] 100%  10.0MB/s   \n",
      "\b  [=======                                                     ]  11%  4.0MB/s    [=============                                               ]  22%  6.7MB/s    [====================                                        ]  33%  9.7MB/s   [===========================                                 ]  44%  11.9MB/s   [=================================                           ]  56%  14.2MB/s   [========================================                    ]  67%  16.1MB/s   [===============================================             ]  78%  18.0MB/s   [=====================================================       ]  89%  19.9MB/s   [============================================================] 100%  21.7MB/s   \n",
      "\b  [============================================================] 100%  1.1MB/s   \n",
      "\b  [============================================================] 100%  1.2MB/s   \n",
      "\b  [==========                                                  ]  17%  4.0MB/s    [====================                                        ]  33%  6.8MB/s    [==============================                              ]  50%  8.9MB/s    [=======                                                     ]  11%  4.0MB/s   [========================================                    ]  67%  10.8MB/s   [==================================================          ]  83%  12.6MB/s    [=============                                               ]  22%  6.7MB/s   [============================================================] 100%  14.6MB/s   \n",
      "\b  [====================                                        ]  33%  7.8MB/s    [===========================                                 ]  44%  9.9MB/s   [=================================                           ]  56%  11.7MB/s   [========================================                    ]  67%  13.4MB/s   [===============================================             ]  78%  14.9MB/s   [=====================================================       ]  89%  16.4MB/s   [============================================================] 100%  18.2MB/s   \n",
      "\b  [============================================================] 100%  1.2MB/s   \n",
      "\b  [==========                                                  ]  17%  4.0MB/s    [====================                                        ]  33%  6.8MB/s    [==============================                              ]  50%  9.6MB/s   [========================================                    ]  67%  11.7MB/s   [==================================================          ]  83%  14.0MB/s   [============================================================] 100%  16.1MB/s   \n",
      "\b  [============================================================] 100%  1.2MB/s   \n",
      "\b  [============================================================] 100%  1.2MB/s   \n",
      "\b  [============================================================] 100%  1.6MB/s   \n",
      "\b  [====                                                        ]   7%  4.0MB/s    [========                                                    ]  13%  6.8MB/s    [============                                                ]  20%  7.9MB/s   [================                                            ]  27%  10.1MB/s   [====================                                        ]  33%  12.1MB/s   [========================                                    ]  40%  13.8MB/s   [============================                                ]  47%  15.4MB/s   [================================                            ]  53%  16.9MB/s   [====================================                        ]  60%  17.9MB/s   [========================================                    ]  67%  19.3MB/s    [============================================================] 100%  1.3MB/s   \n",
      "  [============================================                ]  73%  19.9MB/s   [================================================            ]  80%  20.6MB/s   [====================================================        ]  87%  21.6MB/s   [========================================================    ]  93%  22.2MB/s   [============================================================] 100%  23.2MB/s   \n",
      "\b  [====                                                        ]   7%  4.0MB/s    [========                                                    ]  13%  6.8MB/s    [============================================================] 100%  1.2MB/s   \n",
      "\b  [============                                                ]  20%  7.9MB/s    [================                                            ]  27%  9.9MB/s   [====================                                        ]  33%  11.9MB/s   [========================                                    ]  40%  13.7MB/s   [============================                                ]  47%  15.2MB/s   [================================                            ]  53%  16.7MB/s   [====================================                        ]  60%  17.5MB/s   [========================================                    ]  67%  18.6MB/s   [============================================                ]  73%  19.5MB/s   [================================================            ]  80%  20.2MB/s   [====================================================        ]  87%  21.0MB/s   [========================================================    ]  93%  21.7MB/s    [====                                                        ]   7%  4.0MB/s    [========                                                    ]  13%  6.9MB/s   [============================================================] 100%  20.0MB/s    [============                                                ]  20%  9.5MB/s   \n",
      "  [================                                            ]  27%  11.7MB/s   [====================                                        ]  33%  13.9MB/s   [========================                                    ]  40%  15.8MB/s   [============================                                ]  47%  17.7MB/s   [================================                            ]  53%  19.3MB/s   [====================================                        ]  60%  20.8MB/s   [========================================                    ]  67%  22.0MB/s   [============================================                ]  73%  23.1MB/s   [================================================            ]  80%  24.2MB/s   [====================================================        ]  87%  25.1MB/s   [========================================================    ]  93%  26.0MB/s   [============================================================] 100%  27.1MB/s   \n",
      "\b  [============================================================] 100%  1.2MB/s   \n",
      "\b  [============================================================] 100%  1.6MB/s   \n",
      "\b  [============================================================] 100%  1.2MB/s   \n",
      "\b  [====                                                        ]   7%  4.0MB/s    [============================================================] 100%  1.2MB/s   \n",
      "\b  [========                                                    ]  13%  6.7MB/s    [============                                                ]  20%  9.5MB/s   [================                                            ]  27%  11.7MB/s   [====================                                        ]  33%  13.9MB/s   [========================                                    ]  40%  15.8MB/s   [============================                                ]  47%  17.6MB/s   [================================                            ]  53%  19.3MB/s   [====================================                        ]  60%  20.9MB/s   [========================================                    ]  67%  22.4MB/s   [============================================                ]  73%  23.5MB/s   [================================================            ]  80%  24.4MB/s   [====================================================        ]  87%  25.2MB/s   [========================================================    ]  93%  26.0MB/s   [============================================================] 100%  26.9MB/s   \n",
      "\b  [=======                                                     ]  11%  4.0MB/s    [=============                                               ]  22%  6.8MB/s    [============================================================] 100%  1.2MB/s   \n",
      "\b  [====================                                        ]  33%  9.5MB/s   [===========================                                 ]  44%  11.7MB/s   [=================================                           ]  56%  13.8MB/s   [========================================                    ]  67%  15.8MB/s   [===============================================             ]  78%  17.6MB/s   [=====================================================       ]  89%  19.2MB/s   [============================================================] 100%  21.2MB/s   \n",
      "\b  [========                                                    ]  12%  4.0MB/s    [===============                                             ]  25%  5.9MB/s    [======================                                      ]  38%  8.4MB/s   [==============================                              ]  50%  10.5MB/s   [======================================                      ]  62%  11.9MB/s   [=============================================               ]  75%  13.8MB/s   [====================================================        ]  88%  14.9MB/s   [============================================================] 100%  15.8MB/s   \n",
      "\b  [============================================================] 100%  1.2MB/s   \n",
      "\b  [============================================================] 100%  1.2MB/s   \n",
      "\b  [====                                                        ]   7%  4.0MB/s    [========                                                    ]  13%  6.7MB/s    [============                                                ]  20%  9.4MB/s   [================                                            ]  27%  11.7MB/s   [====================                                        ]  33%  13.9MB/s   [========================                                    ]  40%  15.7MB/s   [============================                                ]  47%  17.5MB/s   [================================                            ]  53%  19.0MB/s   [====================================                        ]  60%  20.5MB/s   [========================================                    ]  67%  21.8MB/s   [============================================                ]  73%  23.1MB/s   [================================================            ]  80%  24.1MB/s   [====================================================        ]  87%  25.1MB/s   [========================================================    ]  93%  26.2MB/s   [============================================================] 100%  27.2MB/s   \n",
      "\b  [========                                                    ]  12%  4.0MB/s    [===============                                             ]  25%  6.8MB/s    [======================                                      ]  38%  9.6MB/s   [==============================                              ]  50%  11.8MB/s    [============================================================] 100%  1.2MB/s   \n",
      "  [======================================                      ]  62%  11.7MB/s   [=============================================               ]  75%  13.3MB/s   [====================================================        ]  88%  14.7MB/s   [============================================================] 100%  16.3MB/s   \n",
      "\b  [==========                                                  ]  17%  3.9MB/s    [====================                                        ]  33%  6.7MB/s    [==============================                              ]  50%  9.4MB/s   [========================================                    ]  67%  11.6MB/s   [==================================================          ]  83%  13.8MB/s   [============================================================] 100%  15.5MB/s   \n",
      "\b  [============================================================] 100%  1.2MB/s   \n",
      "\b  [============================================================] 100%  1.3MB/s   \n",
      "\b  [====                                                        ]   7%  4.0MB/s    [========                                                    ]  13%  5.8MB/s    [============                                                ]  20%  8.2MB/s   [================                                            ]  27%  10.4MB/s   [====================                                        ]  33%  12.1MB/s   [========================                                    ]  40%  13.9MB/s   [============================                                ]  47%  15.0MB/s   [================================                            ]  53%  15.7MB/s    [=======                                                     ]  11%  4.0MB/s   [====================================                        ]  60%  16.5MB/s   [========================================                    ]  67%  17.0MB/s    [=============                                               ]  22%  5.9MB/s   [============================================                ]  73%  17.6MB/s   [================================================            ]  80%  18.5MB/s    [====================                                        ]  33%  8.1MB/s   [===========================                                 ]  44%  10.0MB/s   [====================================================        ]  87%  19.0MB/s   [=================================                           ]  56%  11.8MB/s   [========================================================    ]  93%  19.5MB/s   [========================================                    ]  67%  13.4MB/s   [===============================================             ]  78%  14.9MB/s   [============================================================] 100%  19.8MB/s   \n",
      "  [=====================================================       ]  89%  16.3MB/s   [============================================================] 100%  18.0MB/s    [============================================================] 100%  900.5kB/s   \n",
      "\n",
      "\b  [====================                                        ]  33%  3.4MB/s    [========================================                    ]  67%  5.8MB/s    [============================================================] 100%  8.6MB/s   \n",
      "\b  [============================================================] 100%  1.0MB/s   \n",
      "\b  [============================================================] 100%  1.2MB/s   \n",
      "\b  [=======                                                     ]  11%  4.0MB/s    [=============                                               ]  22%  6.8MB/s    [==========                                                  ]  17%  4.0MB/s    [====================                                        ]  33%  6.8MB/s    [====================                                        ]  33%  7.9MB/s    [============================================================] 100%  447.3kB/s    [===========================                                 ]  44%  9.9MB/s   \n",
      "  [=================================                           ]  56%  12.0MB/s    [==============================                              ]  50%  8.0MB/s   [========================================                    ]  67%  13.6MB/s   [========================================                    ]  67%  10.0MB/s   [===============================================             ]  78%  15.0MB/s   [==================================================          ]  83%  11.8MB/s   [============================================================] 100%  13.9MB/s   \n",
      "  [=====================================================       ]  89%  16.0MB/s   [============================================================] 100%  17.7MB/s   \n",
      "\b  [=======                                                     ]  11%  4.0MB/s    [=============                                               ]  22%  6.8MB/s    [====================                                        ]  33%  9.6MB/s   [===========================                                 ]  44%  11.8MB/s   [=================================                           ]  56%  14.1MB/s   [========================================                    ]  67%  14.1MB/s   [===============================================             ]  78%  15.7MB/s   [=====================================================       ]  89%  17.2MB/s   [============================================================] 100%  19.0MB/s   \n",
      "\b  [============================================================] 100%  1.2MB/s   \n",
      "\b  [============================================================] 100%  1.2MB/s   \n",
      "\b  [========                                                    ]  12%  4.0MB/s    [=======                                                     ]  11%  4.0MB/s    [===============                                             ]  25%  6.8MB/s    [======================                                      ]  38%  9.7MB/s    [=============                                               ]  22%  6.8MB/s    [====================                                        ]  33%  9.6MB/s   [==============================                              ]  50%  11.5MB/s   [======================================                      ]  62%  13.7MB/s   [=============================================               ]  75%  15.4MB/s   [===========================                                 ]  44%  10.3MB/s   [====================================================        ]  88%  16.8MB/s   [=================================                           ]  56%  12.0MB/s   [============================================================] 100%  18.3MB/s   \n",
      "  [========================================                    ]  67%  13.6MB/s   [===============================================             ]  78%  15.3MB/s   [=====================================================       ]  89%  16.8MB/s   [============================================================] 100%  18.6MB/s   \n",
      "\b  [============================================================] 100%  1.1MB/s   \n",
      "\b  [=======                                                     ]  11%  4.0MB/s    [=============                                               ]  22%  6.8MB/s    [====================                                        ]  33%  9.5MB/s   [===========================                                 ]  44%  11.4MB/s   [=================================                           ]  56%  11.9MB/s   [========================================                    ]  67%  13.6MB/s   [===============================================             ]  78%  15.3MB/s   [=====================================================       ]  89%  16.7MB/s   [============================================================] 100%  18.5MB/s   \n",
      "\b  [============================================================] 100%  1.2MB/s   \n",
      "\b  [============================================================] 100%  1.1MB/s   \n",
      "\b  [============================================================] 100%  1.6MB/s   \n",
      "\b  [====                                                        ]   7%  4.0MB/s    [========                                                    ]  13%  6.8MB/s    [============                                                ]  20%  7.9MB/s   [================                                            ]  27%  10.1MB/s   [====================                                        ]  33%  12.1MB/s   [========================                                    ]  40%  13.9MB/s   [============================                                ]  47%  15.2MB/s   [================================                            ]  53%  16.0MB/s   [====================================                        ]  60%  16.8MB/s   [========================================                    ]  67%  18.0MB/s   [============================================                ]  73%  18.6MB/s   [================================================            ]  80%  19.1MB/s   [====================================================        ]  87%  19.6MB/s   [========================================================    ]  93%  19.8MB/s   [============================================================] 100%  20.8MB/s   \n",
      "\b  [====                                                        ]   7%  4.0MB/s    [========                                                    ]  13%  6.8MB/s    [============                                                ]  20%  9.6MB/s    [============================================================] 100%  1.2MB/s   \n",
      "  [================                                            ]  27%  11.7MB/s   [====================                                        ]  33%  13.9MB/s   [========================                                    ]  40%  15.6MB/s   [============================                                ]  47%  16.9MB/s   [================================                            ]  53%  18.6MB/s   [====================================                        ]  60%  19.7MB/s   [========================================                    ]  67%  21.1MB/s   [============================================                ]  73%  22.1MB/s   [================================================            ]  80%  23.3MB/s   [====================================================        ]  87%  24.2MB/s   [========================================================    ]  93%  25.2MB/s   [============================================================] 100%  26.2MB/s   \n",
      "\b  [============================================================] 100%  1.2MB/s   \n",
      "\b  [==========                                                  ]  17%  839.7kB/s    [============================================================] 100%  1.2MB/s   \n",
      "\b  [====================                                        ]  33%  4.0MB/s    [========================================                    ]  67%  6.8MB/s   [============================================================] 100%  10.0MB/s   \n",
      "\b  [====================                                        ]  33%  1.0MB/s    [====                                                        ]   7%  4.0MB/s    [========                                                    ]  13%  6.7MB/s    [============                                                ]  20%  9.5MB/s   [================                                            ]  27%  10.4MB/s   [====================                                        ]  33%  12.3MB/s   [========================                                    ]  40%  14.1MB/s   [============================                                ]  47%  15.8MB/s   [================================                            ]  53%  16.9MB/s   [====================================                        ]  60%  17.6MB/s   [========================================                    ]  67%  18.2MB/s    [============================================================] 100%  1.2MB/s   \n",
      "  [============================================                ]  73%  19.3MB/s   [================================================            ]  80%  19.9MB/s   [====================================================        ]  87%  20.3MB/s   [========================================================    ]  93%  20.6MB/s    [==============================                              ]  50%  1.2MB/s   [============================================================] 100%  21.4MB/s   \n",
      "\b  [=======                                                     ]  11%  3.8MB/s    [=============                                               ]  22%  6.5MB/s    [====================                                        ]  33%  9.3MB/s   [===========================                                 ]  44%  11.4MB/s   [=================================                           ]  56%  13.6MB/s   [========================================                    ]  67%  15.1MB/s   [===============================================             ]  78%  16.5MB/s   [=====================================================       ]  89%  18.1MB/s   [============================================================] 100%  20.0MB/s   \n",
      "\b  [========================================                    ]  67%  1.3MB/s    [==================================================          ]  83%  1.4MB/s    [============================================================] 100%  1.6MB/s   \n",
      "\b  [============================================================] 100%  1.1MB/s   \n",
      "\b  [====                                                        ]   7%  4.0MB/s    [========                                                    ]  13%  6.8MB/s    [============                                                ]  20%  7.9MB/s    [================                                            ]  27%  9.9MB/s   [====================                                        ]  33%  11.8MB/s   [========================                                    ]  40%  13.4MB/s    [============================================================] 100%  1.2MB/s   \n",
      "  [============================                                ]  47%  14.6MB/s   [================================                            ]  53%  15.5MB/s   [====================================                        ]  60%  16.6MB/s   [========================================                    ]  67%  17.3MB/s   [============================================                ]  73%  18.1MB/s   [================================================            ]  80%  18.5MB/s   [====================================================        ]  87%  18.9MB/s   [========================================================    ]  93%  19.2MB/s   [============================================================] 100%  20.1MB/s   \n",
      "\b  [============================================================] 100%  1.2MB/s   \n",
      "\b  [=======                                                     ]  11%  4.0MB/s    [=============                                               ]  22%  6.8MB/s    [====================                                        ]  33%  7.9MB/s   [===========================                                 ]  44%  10.0MB/s   [=================================                           ]  56%  12.1MB/s    [============================================================] 100%  1.5MB/s \n",
      "  [========================================                    ]  67%  11.7MB/s   [===============================================             ]  78%  13.0MB/s   [=====================================================       ]  89%  14.2MB/s   [============================================================] 100%  15.8MB/s   \n",
      "\b  [============================================================] 100%  1.2MB/s   \n",
      "\b  [==========                                                  ]  17%  4.0MB/s    [====================                                        ]  33%  6.8MB/s    [==============================                              ]  50%  8.9MB/s   [========================================                    ]  67%  10.5MB/s   [==================================================          ]  83%  11.9MB/s   [============================================================] 100%  12.1MB/s   \n",
      "\b  [============================================================] 100%  1.2MB/s   \n",
      "\b  [============================================================] 100%  1.1MB/s   \n",
      "\b  [====                                                        ]   7%  4.0MB/s    [========                                                    ]  13%  6.8MB/s    [============                                                ]  20%  8.8MB/s   [================                                            ]  27%  10.6MB/s   [====================                                        ]  33%  11.9MB/s   [========================                                    ]  40%  12.9MB/s   [============================                                ]  47%  13.9MB/s   [================================                            ]  53%  14.7MB/s   [====================================                        ]  60%  15.5MB/s   [========================================                    ]  67%  16.2MB/s   [============================================                ]  73%  17.3MB/s   [================================================            ]  80%  17.9MB/s   [====================================================        ]  87%  18.5MB/s   [========================================================    ]  93%  19.3MB/s   [============================================================] 100%  19.9MB/s   \n",
      "\b  [============================================================] 100%  1.6MB/s   \n",
      "\b  [============================================================] 100%  1.2MB/s   \n",
      "\b  [====================                                        ]  33%  3.8MB/s    [========================================                    ]  67%  6.7MB/s    [============================================================] 100%  9.8MB/s   \n",
      "\b  [============================================================] 100%  1.3MB/s   \n",
      "\b  [============================================================] 100%  1.2MB/s   \n",
      "\b  [====                                                        ]   7%  4.0MB/s    [========                                                    ]  13%  6.8MB/s    [============                                                ]  20%  7.1MB/s    [================                                            ]  27%  9.0MB/s   [====================                                        ]  33%  10.8MB/s   [========================                                    ]  40%  11.9MB/s   [============================                                ]  47%  12.0MB/s   [================================                            ]  53%  12.7MB/s   [====================================                        ]  60%  12.7MB/s   [========================================                    ]  67%  13.3MB/s   [============================================                ]  73%  13.3MB/s   [================================================            ]  80%  13.7MB/s   [====================================================        ]  87%  14.1MB/s   [========================================================    ]  93%  14.0MB/s   [============================================================] 100%  14.4MB/s   \n",
      "\b  [====                                                        ]   7%  3.4MB/s    [========                                                    ]  13%  6.3MB/s    [============                                                ]  20%  8.0MB/s    [================                                            ]  27%  8.8MB/s   [====================                                        ]  33%  10.0MB/s   [========================                                    ]  40%  10.3MB/s    [============================================================] 100%  1.3MB/s   \n",
      "  [============================                                ]  47%  11.0MB/s    [==========                                                  ]  17%  4.0MB/s   [================================                            ]  53%  11.3MB/s    [====================                                        ]  33%  6.5MB/s   [====================================                        ]  60%  11.4MB/s    [==============================                              ]  50%  8.8MB/s   [========================================                    ]  67%  11.9MB/s   [========================================                    ]  67%  10.3MB/s   [==================================================          ]  83%  11.7MB/s   [============================================================] 100%  13.0MB/s   [============================================                ]  73%  12.0MB/s   \n",
      "  [================================================            ]  80%  12.4MB/s   [====================================================        ]  87%  12.5MB/s   [========================================================    ]  93%  12.8MB/s   [============================================================] 100%  12.9MB/s  \n",
      "  [============================================================] 100%  1.2MB/s   \n",
      "\b  [====                                                        ]   7%  4.0MB/s    [============================================================] 100%  1.2MB/s   \n",
      "\b  [========                                                    ]  13%  6.8MB/s    [============                                                ]  20%  8.9MB/s   [================                                            ]  27%  10.5MB/s   [====================                                        ]  33%  11.9MB/s   [========================                                    ]  40%  11.2MB/s   [============================                                ]  47%  12.7MB/s    [============================================================] 100%  1.3MB/s   [================================                            ]  53%  14.0MB/s   \n",
      "  [====================================                        ]  60%  15.2MB/s   [========================================                    ]  67%  15.2MB/s   [============================================                ]  73%  15.6MB/s   [================================================            ]  80%  16.0MB/s   [====================================================        ]  87%  16.4MB/s    [====                                                        ]   7%  4.0MB/s   [========================================================    ]  93%  16.2MB/s   [============================================================] 100%  16.9MB/s    [========                                                    ]  13%  6.6MB/s   \n",
      "\b  [============                                                ]  20%  8.9MB/s   [================                                            ]  27%  10.5MB/s   [====================                                        ]  33%  11.9MB/s   [========================                                    ]  40%  12.9MB/s   [============================                                ]  47%  13.9MB/s   [================================                            ]  53%  14.7MB/s   [====================================                        ]  60%  15.5MB/s   [========================================                    ]  67%  16.2MB/s   [============================================                ]  73%  17.3MB/s   [================================================            ]  80%  17.9MB/s   [====================================================        ]  87%  18.4MB/s   [========================================================    ]  93%  19.2MB/s   [============================================================] 100%  19.9MB/s   \n",
      "\b  [============================================================] 100%  1.6MB/s   \n",
      "\b  [============================================================] 100%  1.2MB/s   \n",
      "\b  [====================                                        ]  33%  4.0MB/s    [========================================                    ]  67%  6.8MB/s   [============================================================] 100%  10.0MB/s   \n",
      "\b  [============================================================] 100%  1.2MB/s   \n",
      "HTTP error 503, Service Unavailable\n",
      "All NASA ASO data collected for given date range and can be found in /home/rjohnson18/SWEMLv2.0/data/ASO/Southwest/Raw_ASO_Data...\n",
      "Files with .xml extension moved to the destination folder.\n",
      "Converting .tif to parquet\n",
      "Converting 131 ASO tif files to parquet'\n"
     ]
    },
    {
     "name": "stderr",
     "output_type": "stream",
     "text": [
      "100%|██████████| 131/131 [00:00<00:00, 382.67it/s]\n"
     ]
    },
    {
     "name": "stdout",
     "output_type": "stream",
     "text": [
      "An error occurred: '/home/rjohnson18/SWEMLv2.0/data/ASO/Southwest/Processed_300M_SWE/ASO_300M_20150428.tif' not recognized as a supported file format.\n",
      "An error occurred: '/home/rjohnson18/SWEMLv2.0/data/ASO/Southwest/Processed_300M_SWE/ASO_300M_20160509.tif' not recognized as a supported file format.\n",
      "An error occurred: '/home/rjohnson18/SWEMLv2.0/data/ASO/Southwest/Processed_300M_SWE/ASO_300M_20170816.tif' not recognized as a supported file format.\n",
      "An error occurred: '/home/rjohnson18/SWEMLv2.0/data/ASO/Southwest/Processed_300M_SWE/ASO_300M_20180423.tif' not recognized as a supported file format.\n",
      "An error occurred: '/home/rjohnson18/SWEMLv2.0/data/ASO/Southwest/Processed_300M_SWE/ASO_300M_20180601.tif' not recognized as a supported file format.\n",
      "An error occurred: '/home/rjohnson18/SWEMLv2.0/data/ASO/Southwest/Processed_300M_SWE/ASO_300M_20180528.tif' not recognized as a supported file format.\n",
      "An error occurred: '/home/rjohnson18/SWEMLv2.0/data/ASO/Southwest/Processed_300M_SWE/ASO_300M_20180601.tif' not recognized as a supported file format.\n",
      "An error occurred: Read or write failed. /home/rjohnson18/SWEMLv2.0/data/ASO/Southwest/Processed_300M_SWE/ASO_300M_20190611.tif, band 1: IReadBlock failed at X offset 0, Y offset 0: TIFFReadEncodedStrip() failed.\n",
      "An error occurred: Read or write failed. /home/rjohnson18/SWEMLv2.0/data/ASO/Southwest/Processed_300M_SWE/ASO_300M_20190703.tif, band 1: IReadBlock failed at X offset 0, Y offset 0: TIFFReadEncodedStrip() failed.\n"
     ]
    },
    {
     "name": "stderr",
     "output_type": "stream",
     "text": [
      "ERROR 1: TIFFReadEncodedStrip:Read error at scanline 4294967295; got 7598 bytes, expected 7912\n",
      "ERROR 1: TIFFReadEncodedStrip() failed.\n",
      "ERROR 1: /home/rjohnson18/SWEMLv2.0/data/ASO/Southwest/Processed_300M_SWE/ASO_300M_20190611.tif, band 1: IReadBlock failed at X offset 0, Y offset 0: TIFFReadEncodedStrip() failed.\n",
      "ERROR 1: TIFFReadEncodedStrip:Read error at scanline 4294967295; got 7604 bytes, expected 7912\n",
      "ERROR 1: TIFFReadEncodedStrip() failed.\n",
      "ERROR 1: /home/rjohnson18/SWEMLv2.0/data/ASO/Southwest/Processed_300M_SWE/ASO_300M_20190703.tif, band 1: IReadBlock failed at X offset 0, Y offset 0: TIFFReadEncodedStrip() failed.\n"
     ]
    },
    {
     "name": "stdout",
     "output_type": "stream",
     "text": [
      "Checking to make sure all files successfully converted...\n"
     ]
    },
    {
     "name": "stderr",
     "output_type": "stream",
     "text": [
      "100%|██████████| 99/99 [00:01<00:00, 51.22it/s]\n"
     ]
    },
    {
     "name": "stdout",
     "output_type": "stream",
     "text": [
      "Northwest\n",
      "Bounding Box collected for Northwest: -123.3407853096148,42.07988450615146,-120.65482261009741,48.92977030870274\n",
      "Fetching file URLs in progress for Northwest from 2013-04-02T00:00:00Z to 2019-07-19T23:59:59Z\n",
      "Querying for data:\n",
      "\thttps://cmr.earthdata.nasa.gov/search/granules.json?provider=NSIDC_ECS&sort_key[]=start_date&sort_key[]=producer_granule_id&scroll=true&page_size=2000&short_name=ASO_50M_SWE&version=001&version=01&version=1&temporal[]=2013-04-02T00:00:00Z,2019-07-19T23:59:59Z&bounding_box=-123.3407853096148,42.07988450615146,-120.65482261009741,48.92977030870274\n",
      "\n",
      "Found 2 matches.\n",
      "['https://n5eil01u.ecs.nsidc.org/DP1/ASO/ASO_50M_SWE.001/2016.02.08/ASO_50M_SWE_USWAOL_20160208.tif', 'https://n5eil01u.ecs.nsidc.org/DP1/ASO/ASO_50M_SWE.001/2016.02.08/ASO_50M_SWE_USWAOL_20160208.tif.xml', 'https://n5eil01u.ecs.nsidc.org/DP1/ASO/ASO_50M_SWE.001/2016.03.29/ASO_50M_SWE_USWAOL_20160329.tif', 'https://n5eil01u.ecs.nsidc.org/DP1/ASO/ASO_50M_SWE.001/2016.03.29/ASO_50M_SWE_USWAOL_20160329.tif.xml']\n",
      "getting credentials NSIDC\n"
     ]
    },
    {
     "name": "stderr",
     "output_type": "stream",
     "text": [
      "100%|██████████| 4/4 [00:00<00:00, 354.00it/s]\n"
     ]
    },
    {
     "name": "stdout",
     "output_type": "stream",
     "text": [
      "\b  [========                                                    ]  12%  4.0MB/s    [============================================================] 100%  1.2MB/s   \n",
      "\b  [===============                                             ]  25%  6.8MB/s    [======================                                      ]  38%  9.6MB/s   [==============================                              ]  50%  11.7MB/s   [======================================                      ]  62%  13.9MB/s   [=============================================               ]  75%  15.6MB/s   [====================================================        ]  88%  16.9MB/s   [============================================================] 100%  18.5MB/s   \n",
      "\b  [========                                                    ]  12%  4.0MB/s    [===============                                             ]  25%  6.9MB/s    [======================                                      ]  38%  9.7MB/s   [==============================                              ]  50%  11.8MB/s   [======================================                      ]  62%  14.0MB/s   [=============================================               ]  75%  15.8MB/s    [============================================================] 100%  936.2kB/s   \n",
      "  [====================================================        ]  88%  17.0MB/s   [============================================================] 100%  18.6MB/s   \n",
      "All NASA ASO data collected for given date range and can be found in /home/rjohnson18/SWEMLv2.0/data/ASO/Northwest/Raw_ASO_Data...\n",
      "Files with .xml extension moved to the destination folder.\n",
      "Converting .tif to parquet\n",
      "Converting 2 ASO tif files to parquet'\n"
     ]
    },
    {
     "name": "stderr",
     "output_type": "stream",
     "text": [
      "100%|██████████| 2/2 [00:00<00:00,  4.88it/s]\n"
     ]
    },
    {
     "name": "stdout",
     "output_type": "stream",
     "text": [
      "Checking to make sure all files successfully converted...\n"
     ]
    },
    {
     "name": "stderr",
     "output_type": "stream",
     "text": [
      "100%|██████████| 2/2 [00:00<00:00, 17.82it/s]"
     ]
    },
    {
     "name": "stdout",
     "output_type": "stream",
     "text": [
      "NorthernRockies\n",
      "Bounding Box collected for NorthernRockies: -119.92718722996061,42.57135262910201,-107.1261944312574,48.97106570807965\n",
      "Fetching file URLs in progress for NorthernRockies from 2013-04-02T00:00:00Z to 2019-07-19T23:59:59Z\n",
      "Querying for data:\n",
      "\thttps://cmr.earthdata.nasa.gov/search/granules.json?provider=NSIDC_ECS&sort_key[]=start_date&sort_key[]=producer_granule_id&scroll=true&page_size=2000&short_name=ASO_50M_SWE&version=001&version=01&version=1&temporal[]=2013-04-02T00:00:00Z,2019-07-19T23:59:59Z&bounding_box=-119.92718722996061,42.57135262910201,-107.1261944312574,48.97106570807965\n",
      "\n"
     ]
    },
    {
     "name": "stderr",
     "output_type": "stream",
     "text": [
      "\n"
     ]
    },
    {
     "name": "stdout",
     "output_type": "stream",
     "text": [
      "Found no matches.\n",
      "getting credentials NSIDC\n"
     ]
    },
    {
     "name": "stderr",
     "output_type": "stream",
     "text": [
      "0it [00:00, ?it/s]\n"
     ]
    },
    {
     "name": "stdout",
     "output_type": "stream",
     "text": [
      "All NASA ASO data collected for given date range and can be found in /home/rjohnson18/SWEMLv2.0/data/ASO/NorthernRockies/Raw_ASO_Data...\n",
      "Files with .xml extension moved to the destination folder.\n",
      "Converting .tif to parquet\n",
      "The folder 'NorthernRockies/Raw_ASO_Data' is empty.\n",
      "SouthernRockies\n",
      "Bounding Box collected for SouthernRockies: -113.0550753064462,33.35825378630481,-105.0780355834649,42.57135262910201\n",
      "Fetching file URLs in progress for SouthernRockies from 2013-04-02T00:00:00Z to 2019-07-19T23:59:59Z\n",
      "Querying for data:\n",
      "\thttps://cmr.earthdata.nasa.gov/search/granules.json?provider=NSIDC_ECS&sort_key[]=start_date&sort_key[]=producer_granule_id&scroll=true&page_size=2000&short_name=ASO_50M_SWE&version=001&version=01&version=1&temporal[]=2013-04-02T00:00:00Z,2019-07-19T23:59:59Z&bounding_box=-113.0550753064462,33.35825378630481,-105.0780355834649,42.57135262910201\n",
      "\n",
      "Found 19 matches.\n",
      "['https://n5eil01u.ecs.nsidc.org/DP1/ASO/ASO_50M_SWE.001/2015.04.06/ASO_50M_SWE_USCOCJ_20150406.tif', 'https://n5eil01u.ecs.nsidc.org/DP1/ASO/ASO_50M_SWE.001/2015.04.06/ASO_50M_SWE_USCOCJ_20150406.tif.xml', 'https://n5eil01u.ecs.nsidc.org/DP1/ASO/ASO_50M_SWE.001/2015.04.07/ASO_50M_SWE_USCORG_20150407.tif', 'https://n5eil01u.ecs.nsidc.org/DP1/ASO/ASO_50M_SWE.001/2015.04.07/ASO_50M_SWE_USCORG_20150407.tif.xml', 'https://n5eil01u.ecs.nsidc.org/DP1/ASO/ASO_50M_SWE.001/2015.06.02/ASO_50M_SWE_USCOCJ_20150602.tif', 'https://n5eil01u.ecs.nsidc.org/DP1/ASO/ASO_50M_SWE.001/2015.06.02/ASO_50M_SWE_USCOCJ_20150602.tif.xml', 'https://n5eil01u.ecs.nsidc.org/DP1/ASO/ASO_50M_SWE.001/2015.06.02/ASO_50M_SWE_USCORG_20150602.tif', 'https://n5eil01u.ecs.nsidc.org/DP1/ASO/ASO_50M_SWE.001/2015.06.02/ASO_50M_SWE_USCORG_20150602.tif.xml', 'https://n5eil01u.ecs.nsidc.org/DP1/ASO/ASO_50M_SWE.001/2016.04.03/ASO_50M_SWE_USCOCJ_20160403.tif', 'https://n5eil01u.ecs.nsidc.org/DP1/ASO/ASO_50M_SWE.001/2016.04.03/ASO_50M_SWE_USCOCJ_20160403.tif.xml', 'https://n5eil01u.ecs.nsidc.org/DP1/ASO/ASO_50M_SWE.001/2016.04.03/ASO_50M_SWE_USCORG_20160403.tif', 'https://n5eil01u.ecs.nsidc.org/DP1/ASO/ASO_50M_SWE.001/2016.04.03/ASO_50M_SWE_USCORG_20160403.tif.xml', 'https://n5eil01u.ecs.nsidc.org/DP1/ASO/ASO_50M_SWE.001/2016.04.04/ASO_50M_SWE_USCOCB_20160404.tif', 'https://n5eil01u.ecs.nsidc.org/DP1/ASO/ASO_50M_SWE.001/2016.04.04/ASO_50M_SWE_USCOCB_20160404.tif.xml', 'https://n5eil01u.ecs.nsidc.org/DP1/ASO/ASO_50M_SWE.001/2018.03.30/ASO_50M_SWE_USCOCB_20180330.tif', 'https://n5eil01u.ecs.nsidc.org/DP1/ASO/ASO_50M_SWE.001/2018.03.30/ASO_50M_SWE_USCOCB_20180330.tif.xml', 'https://n5eil01u.ecs.nsidc.org/DP1/ASO/ASO_50M_SWE.001/2018.03.30/ASO_50M_SWE_USCOGT_20180330.tif', 'https://n5eil01u.ecs.nsidc.org/DP1/ASO/ASO_50M_SWE.001/2018.03.30/ASO_50M_SWE_USCOGT_20180330.tif.xml', 'https://n5eil01u.ecs.nsidc.org/DP1/ASO/ASO_50M_SWE.001/2018.03.31/ASO_50M_SWE_USCOGE_20180331.tif', 'https://n5eil01u.ecs.nsidc.org/DP1/ASO/ASO_50M_SWE.001/2018.03.31/ASO_50M_SWE_USCOGE_20180331.tif.xml', 'https://n5eil01u.ecs.nsidc.org/DP1/ASO/ASO_50M_SWE.001/2018.05.24/ASO_50M_SWE_USCOGE_20180524.tif', 'https://n5eil01u.ecs.nsidc.org/DP1/ASO/ASO_50M_SWE.001/2018.05.24/ASO_50M_SWE_USCOGE_20180524.tif.xml', 'https://n5eil01u.ecs.nsidc.org/DP1/ASO/ASO_50M_SWE.001/2019.04.07/ASO_50M_SWE_USCOCM_20190407.tif', 'https://n5eil01u.ecs.nsidc.org/DP1/ASO/ASO_50M_SWE.001/2019.04.07/ASO_50M_SWE_USCOCM_20190407.tif.xml', 'https://n5eil01u.ecs.nsidc.org/DP1/ASO/ASO_50M_SWE.001/2019.04.07/ASO_50M_SWE_USCOGE_20190407.tif', 'https://n5eil01u.ecs.nsidc.org/DP1/ASO/ASO_50M_SWE.001/2019.04.07/ASO_50M_SWE_USCOGE_20190407.tif.xml', 'https://n5eil01u.ecs.nsidc.org/DP1/ASO/ASO_50M_SWE.001/2019.04.08/ASO_50M_SWE_USCOGT_20190408.tif', 'https://n5eil01u.ecs.nsidc.org/DP1/ASO/ASO_50M_SWE.001/2019.04.08/ASO_50M_SWE_USCOGT_20190408.tif.xml', 'https://n5eil01u.ecs.nsidc.org/DP1/ASO/ASO_50M_SWE.001/2019.04.19/ASO_50M_SWE_USCOBR_20190419.tif', 'https://n5eil01u.ecs.nsidc.org/DP1/ASO/ASO_50M_SWE.001/2019.04.19/ASO_50M_SWE_USCOBR_20190419.tif.xml', 'https://n5eil01u.ecs.nsidc.org/DP1/ASO/ASO_50M_SWE.001/2019.06.09/ASO_50M_SWE_USCOGT_20190609.tif', 'https://n5eil01u.ecs.nsidc.org/DP1/ASO/ASO_50M_SWE.001/2019.06.09/ASO_50M_SWE_USCOGT_20190609.tif.xml', 'https://n5eil01u.ecs.nsidc.org/DP1/ASO/ASO_50M_SWE.001/2019.06.10/ASO_50M_SWE_USCOCM_20190610.tif', 'https://n5eil01u.ecs.nsidc.org/DP1/ASO/ASO_50M_SWE.001/2019.06.10/ASO_50M_SWE_USCOCM_20190610.tif.xml', 'https://n5eil01u.ecs.nsidc.org/DP1/ASO/ASO_50M_SWE.001/2019.06.10/ASO_50M_SWE_USCOGE_20190610.tif', 'https://n5eil01u.ecs.nsidc.org/DP1/ASO/ASO_50M_SWE.001/2019.06.10/ASO_50M_SWE_USCOGE_20190610.tif.xml', 'https://n5eil01u.ecs.nsidc.org/DP1/ASO/ASO_50M_SWE.001/2019.06.24/ASO_50M_SWE_USCOBR_20190624.tif', 'https://n5eil01u.ecs.nsidc.org/DP1/ASO/ASO_50M_SWE.001/2019.06.24/ASO_50M_SWE_USCOBR_20190624.tif.xml']\n",
      "getting credentials NSIDC\n"
     ]
    },
    {
     "name": "stderr",
     "output_type": "stream",
     "text": [
      "100%|██████████| 38/38 [00:00<00:00, 2875.04it/s]\n"
     ]
    },
    {
     "name": "stdout",
     "output_type": "stream",
     "text": [
      "\b  [============================================================] 100%  1.1MB/s   \n",
      "\b  [============================================================] 100%  1.1MB/s   \n",
      "\b  [===============                                             ]  25%  4.0MB/s    [==============================                              ]  50%  6.8MB/s    [=============================================               ]  75%  9.7MB/s   [============================================================] 100%  12.8MB/s   \n",
      "\b  [===============                                             ]  25%  4.0MB/s    [==============================                              ]  50%  6.8MB/s    [=============================================               ]  75%  9.6MB/s   [============================================================] 100%  12.2MB/s   \n",
      "\b  [======                                                      ]  10%  3.9MB/s    [============                                                ]  20%  6.7MB/s    [==================                                          ]  30%  7.9MB/s   [========================                                    ]  40%  10.0MB/s   [==============================                              ]  50%  12.0MB/s   [====================================                        ]  60%  13.8MB/s   [==========================================                  ]  70%  15.0MB/s   [================================================            ]  80%  15.8MB/s   [======================================================      ]  90%  16.6MB/s   [============================================================] 100%  15.5MB/s   \n",
      "\b  [============================================================] 100%  1.1MB/s   \n",
      "\b  [======                                                      ]  10%  4.0MB/s    [============                                                ]  20%  6.8MB/s    [==================                                          ]  30%  9.7MB/s   [========================                                    ]  40%  11.7MB/s    [===============                                             ]  25%  4.0MB/s   [==============================                              ]  50%  13.5MB/s    [==============================                              ]  50%  6.8MB/s   [====================================                        ]  60%  14.8MB/s    [=============================================               ]  75%  9.4MB/s   [==========================================                  ]  70%  16.4MB/s   [============================================================] 100%  12.3MB/s   \n",
      "  [================================================            ]  80%  17.7MB/s   [======================================================      ]  90%  19.1MB/s   [============================================================] 100%  20.9MB/s   \n",
      "\b  [============================================================] 100%  1.2MB/s   \n",
      "\b  [============================================================] 100%  1.1MB/s   \n",
      "\b  [============================================================] 100%  1.2MB/s   \n",
      "\b  [======                                                      ]  10%  3.9MB/s    [============                                                ]  20%  5.7MB/s    [==================                                          ]  30%  8.0MB/s   [========================                                    ]  40%  10.2MB/s   [==============================                              ]  50%  12.1MB/s   [====================================                        ]  60%  13.8MB/s   [==========================================                  ]  70%  14.8MB/s    [============================================================] 100%  1.1MB/s   \n",
      "  [================================================            ]  80%  15.7MB/s   [======================================================      ]  90%  16.4MB/s   [============================================================] 100%  17.9MB/s   \n",
      "\b  [==============================                              ]  50%  4.0MB/s    [============================================================] 100%  7.6MB/s   \n",
      "\b  [==============================                              ]  50%  4.0MB/s    [============================================================] 100%  7.8MB/s   \n",
      "\b  [============================================================] 100%  603.1kB/s   \n",
      "\b  [============================================================] 100%  1.2MB/s   \n",
      "\b  [===============                                             ]  25%  4.0MB/s    [==============================                              ]  50%  6.8MB/s    [=============================================               ]  75%  8.9MB/s   [============================================================] 100%  11.6MB/s   \n",
      "\b  [===============                                             ]  25%  4.0MB/s    [==============================                              ]  50%  6.8MB/s    [=============================================               ]  75%  9.6MB/s   [============================================================] 100%  11.8MB/s   \n",
      "\b  [============================================================] 100%  1.2MB/s   \n",
      "\b  [===============                                             ]  25%  4.0MB/s    [==============================                              ]  50%  6.9MB/s    [=============================================               ]  75%  9.6MB/s   [============================================================] 100%  11.8MB/s   \n",
      "\b  [============================================================] 100%  3.5MB/s   \n",
      "\b  [===============                                             ]  25%  4.0MB/s    [==============================                              ]  50%  6.8MB/s    [=============================================               ]  75%  9.6MB/s   [============================================================] 100%  10.6MB/s   \n",
      "\b  [============================================================] 100%  1.1MB/s   \n",
      "\b  [============================================================] 100%  1.1MB/s   \n",
      "\b  [============================================================] 100%  506.4kB/s   \n",
      "\b  [===============                                             ]  25%  4.0MB/s    [==============================                              ]  50%  6.8MB/s    [============================================================] 100%  1.1MB/s   \n",
      "\b  [=============================================               ]  75%  5.0MB/s    [============================================================] 100%  6.5MB/s   \n",
      "\b  [====================                                        ]  33%  4.0MB/s    [============================================================] 100%  1.2MB/s   \n",
      "\b  [========================================                    ]  67%  6.8MB/s    [============================================================] 100%  9.9MB/s   \n",
      "\b  [===============                                             ]  25%  3.9MB/s    [==============================                              ]  50%  5.8MB/s    [=============================================               ]  75%  8.2MB/s   [============================================================] 100%  10.7MB/s   \n",
      "\b  [============================================================] 100%  1.2MB/s   \n",
      "\b  [============================================================] 100%  1.2MB/s   \n",
      "\b  [============================================================] 100%  3.5MB/s   \n",
      "\b  [===============                                             ]  25%  4.0MB/s    [============================================================] 100%  1.3MB/s   \n",
      "\b  [==============================                              ]  50%  5.8MB/s    [=============================================               ]  75%  8.0MB/s    [============================================================] 100%  5.9MB/s   \n",
      "\b  [============================================================] 100%  1.3MB/s   \n",
      "\b  [====================                                        ]  33%  4.0MB/s    [========================================                    ]  67%  6.7MB/s    [============================================================] 100%  9.8MB/s   \n",
      "All NASA ASO data collected for given date range and can be found in /home/rjohnson18/SWEMLv2.0/data/ASO/SouthernRockies/Raw_ASO_Data...\n",
      "Files with .xml extension moved to the destination folder.\n",
      "Converting .tif to parquet\n",
      "Converting 19 ASO tif files to parquet'\n"
     ]
    },
    {
     "name": "stderr",
     "output_type": "stream",
     "text": [
      "100%|██████████| 19/19 [00:00<00:00, 50.66it/s]\n"
     ]
    },
    {
     "name": "stdout",
     "output_type": "stream",
     "text": [
      "Checking to make sure all files successfully converted...\n"
     ]
    },
    {
     "name": "stderr",
     "output_type": "stream",
     "text": [
      "100%|██████████| 14/14 [00:00<00:00, 48.73it/s]\n"
     ]
    }
   ],
   "source": [
    "from ASOget import ASODownload, ASODataProcessing\n",
    "\n",
    "# Inputs for fetching ASO data for a region\n",
    "short_name = 'ASO_50M_SWE'\n",
    "version = '1'\n",
    "time_start = '2013-04-02T00:00:00Z'\n",
    "time_end = '2019-07-19T23:59:59Z'\n",
    "#region_list = ['S_Sierras']\n",
    "output_res = 300 #desired spatial resoultion in meters (m)\n",
    "directory = \"Raw_ASO_Data\"\n",
    "\n",
    "#Get ASO data\n",
    "for region in region_list:\n",
    "    print(region)\n",
    "    folder_name = f\"{region}/{directory}\"\n",
    "    data_tool = ASODownload(short_name, version)\n",
    "    b_box = data_tool.BoundingBox(region)  \n",
    "    url_list = data_tool.cmr_search(time_start, time_end, region, b_box)\n",
    "    data_tool.cmr_download(directory, region)\n",
    "\n",
    "    #Convert ASO tifs to parquet\n",
    "    data_processor = ASODataProcessing()\n",
    "    data_processor.convert_tiff_to_parquet_multiprocess(folder_name, output_res, region) "
   ]
  },
  {
   "cell_type": "markdown",
   "id": "d01e0597",
   "metadata": {},
   "source": [
    "## Get Snotel and CDEC in situ observations\n",
    "- clean in situ observations, specifically the CDEC sites, need a data processing method to remove outtliers and nan/0 obs\n",
    "- Ideas - add nearest sites elevation, distance from cell, then can bypass sites with bad data. "
   ]
  },
  {
   "cell_type": "code",
   "execution_count": 8,
   "id": "52a2a3c8",
   "metadata": {},
   "outputs": [
    {
     "name": "stdout",
     "output_type": "stream",
     "text": [
      "Getting SNOTEL and CDEC observations for 2013\n",
      "Getting California Data Exchange Center SWE data from 100 sites...\n"
     ]
    },
    {
     "data": {
      "application/vnd.jupyter.widget-view+json": {
       "model_id": "5ec743c53ac5416692850412721a495b",
       "version_major": 2,
       "version_minor": 0
      },
      "text/plain": [
       "  0%|          | 0/100 [00:00<?, ?it/s]"
      ]
     },
     "metadata": {},
     "output_type": "display_data"
    },
    {
     "name": "stdout",
     "output_type": "stream",
     "text": [
      "Getting NRCS SNOTEL SWE data from 571 sites...\n"
     ]
    },
    {
     "data": {
      "application/vnd.jupyter.widget-view+json": {
       "model_id": "236d8b99d3624200a30c5e4237b759ed",
       "version_major": 2,
       "version_minor": 0
      },
      "text/plain": [
       "  0%|          | 0/571 [00:00<?, ?it/s]"
      ]
     },
     "metadata": {},
     "output_type": "display_data"
    },
    {
     "name": "stderr",
     "output_type": "stream",
     "text": [
      "<suds.sax.document.Document object at 0x7f07cc1d9150>\n"
     ]
    },
    {
     "name": "stdout",
     "output_type": "stream",
     "text": [
      "Snotel data fail, SNOTEL:1187_CO_SNTL\n"
     ]
    },
    {
     "name": "stderr",
     "output_type": "stream",
     "text": [
      "<suds.sax.document.Document object at 0x7f07ce924880>\n"
     ]
    },
    {
     "name": "stdout",
     "output_type": "stream",
     "text": [
      "Snotel data fail, SNOTEL:1187_CO_SNTL\n",
      "Attempt 2 for site SNOTEL:1187_CO_SNTL\n"
     ]
    },
    {
     "name": "stderr",
     "output_type": "stream",
     "text": [
      "<suds.sax.document.Document object at 0x7f07ce9275e0>\n"
     ]
    },
    {
     "name": "stdout",
     "output_type": "stream",
     "text": [
      "Snotel data fail, SNOTEL:1187_CO_SNTL\n",
      "Attempt 3 for site SNOTEL:1187_CO_SNTL\n"
     ]
    },
    {
     "name": "stderr",
     "output_type": "stream",
     "text": [
      "<suds.sax.document.Document object at 0x7f07cc1d9db0>\n"
     ]
    },
    {
     "name": "stdout",
     "output_type": "stream",
     "text": [
      "Snotel data fail, SNOTEL:1187_CO_SNTL\n",
      "Attempt 4 for site SNOTEL:1187_CO_SNTL\n"
     ]
    },
    {
     "name": "stderr",
     "output_type": "stream",
     "text": [
      "<suds.sax.document.Document object at 0x7f07ce9f6500>\n",
      "<suds.sax.document.Document object at 0x7f077794ad10>\n",
      "<suds.sax.document.Document object at 0x7f0776d42aa0>\n",
      "<suds.sax.document.Document object at 0x7f0777fa7220>\n",
      "<suds.sax.document.Document object at 0x7f07ce973160>\n"
     ]
    },
    {
     "name": "stdout",
     "output_type": "stream",
     "text": [
      "Snotel data fail, SNOTEL:1187_CO_SNTL\n",
      "Snotel data fail, SNOTEL:1236_UT_SNTL\n",
      "Snotel data fail, SNOTEL:1242_NV_SNTL\n",
      "Snotel data fail, SNOTEL:1243_NV_SNTL\n",
      "Snotel data fail, SNOTEL:1244_NV_SNTL\n"
     ]
    },
    {
     "name": "stderr",
     "output_type": "stream",
     "text": [
      "<suds.sax.document.Document object at 0x7f07ce9f5540>\n",
      "<suds.sax.document.Document object at 0x7f07ce910520>\n",
      "<suds.sax.document.Document object at 0x7f0776d43a30>\n",
      "<suds.sax.document.Document object at 0x7f07cc1da2f0>\n",
      "<suds.sax.document.Document object at 0x7f0777825120>\n"
     ]
    },
    {
     "name": "stdout",
     "output_type": "stream",
     "text": [
      "Snotel data fail, SNOTEL:1247_UT_SNTL\n",
      "Snotel data fail, SNOTEL:1236_UT_SNTL\n",
      "Attempt 2 for site SNOTEL:1236_UT_SNTL\n",
      "Snotel data fail, SNOTEL:1242_NV_SNTL\n",
      "Attempt 2 for site SNOTEL:1242_NV_SNTL\n",
      "Snotel data fail, SNOTEL:1248_UT_SNTL\n",
      "Snotel data fail, SNOTEL:1243_NV_SNTL\n",
      "Attempt 2 for site SNOTEL:1243_NV_SNTL\n"
     ]
    },
    {
     "name": "stderr",
     "output_type": "stream",
     "text": [
      "<suds.sax.document.Document object at 0x7f07771be260>\n",
      "<suds.sax.document.Document object at 0x7f0777948400>\n",
      "<suds.sax.document.Document object at 0x7f07779ff640>\n",
      "<suds.sax.document.Document object at 0x7f0776d404c0>\n",
      "<suds.sax.document.Document object at 0x7f07ce9734c0>\n"
     ]
    },
    {
     "name": "stdout",
     "output_type": "stream",
     "text": [
      "Snotel data fail, SNOTEL:1244_NV_SNTL\n",
      "Attempt 2 for site SNOTEL:1244_NV_SNTL\n",
      "Snotel data fail, SNOTEL:1236_UT_SNTL\n",
      "Attempt 3 for site SNOTEL:1236_UT_SNTL\n",
      "Snotel data fail, SNOTEL:1247_UT_SNTL\n",
      "Attempt 2 for site SNOTEL:1247_UT_SNTL\n",
      "Snotel data fail, SNOTEL:1242_NV_SNTL\n",
      "Attempt 3 for site SNOTEL:1242_NV_SNTL\n",
      "Snotel data fail, SNOTEL:1248_UT_SNTL\n",
      "Attempt 2 for site SNOTEL:1248_UT_SNTL\n"
     ]
    },
    {
     "name": "stderr",
     "output_type": "stream",
     "text": [
      "<suds.sax.document.Document object at 0x7f07771bda80>\n",
      "<suds.sax.document.Document object at 0x7f0776d43bb0>\n",
      "<suds.sax.document.Document object at 0x7f07842fa9e0>\n",
      "<suds.sax.document.Document object at 0x7f07771bde40>\n",
      "<suds.sax.document.Document object at 0x7f07842f96f0>\n"
     ]
    },
    {
     "name": "stdout",
     "output_type": "stream",
     "text": [
      "Snotel data fail, SNOTEL:1243_NV_SNTL\n",
      "Attempt 3 for site SNOTEL:1243_NV_SNTL\n",
      "Snotel data fail, SNOTEL:1244_NV_SNTL\n",
      "Attempt 3 for site SNOTEL:1244_NV_SNTL\n",
      "Snotel data fail, SNOTEL:1236_UT_SNTL\n",
      "Attempt 4 for site SNOTEL:1236_UT_SNTL\n",
      "Snotel data fail, SNOTEL:1247_UT_SNTL\n",
      "Attempt 3 for site SNOTEL:1247_UT_SNTL\n",
      "Snotel data fail, SNOTEL:1242_NV_SNTL\n",
      "Attempt 4 for site SNOTEL:1242_NV_SNTL\n"
     ]
    },
    {
     "name": "stderr",
     "output_type": "stream",
     "text": [
      "<suds.sax.document.Document object at 0x7f0777fa5030>\n",
      "<suds.sax.document.Document object at 0x7f07771bf880>\n",
      "<suds.sax.document.Document object at 0x7f07842fbe20>\n",
      "<suds.sax.document.Document object at 0x7f07ce9f53f0>\n",
      "<suds.sax.document.Document object at 0x7f0776d421a0>\n",
      "<suds.sax.document.Document object at 0x7f07ce913b50>\n"
     ]
    },
    {
     "name": "stdout",
     "output_type": "stream",
     "text": [
      "Snotel data fail, SNOTEL:1243_NV_SNTL\n",
      "Attempt 4 for site SNOTEL:1243_NV_SNTL\n",
      "Snotel data fail, SNOTEL:1248_UT_SNTL\n",
      "Attempt 3 for site SNOTEL:1248_UT_SNTL\n",
      "Snotel data fail, SNOTEL:1244_NV_SNTL\n",
      "Attempt 4 for site SNOTEL:1244_NV_SNTL\n",
      "Snotel data fail, SNOTEL:1236_UT_SNTL\n",
      "Snotel data fail, SNOTEL:1247_UT_SNTL\n",
      "Attempt 4 for site SNOTEL:1247_UT_SNTL\n",
      "Snotel data fail, SNOTEL:1242_NV_SNTL\n"
     ]
    },
    {
     "name": "stderr",
     "output_type": "stream",
     "text": [
      "<suds.sax.document.Document object at 0x7f07ce9f75e0>\n",
      "<suds.sax.document.Document object at 0x7f07842f85b0>\n",
      "<suds.sax.document.Document object at 0x7f07ce9f5c30>\n",
      "<suds.sax.document.Document object at 0x7f07ce9f6890>\n",
      "<suds.sax.document.Document object at 0x7f07779ffe50>\n"
     ]
    },
    {
     "name": "stdout",
     "output_type": "stream",
     "text": [
      "Snotel data fail, SNOTEL:1248_UT_SNTL\n",
      "Attempt 4 for site SNOTEL:1248_UT_SNTL\n",
      "Snotel data fail, SNOTEL:1243_NV_SNTL\n",
      "Snotel data fail, SNOTEL:1244_NV_SNTL\n",
      "Snotel data fail, SNOTEL:1249_UT_SNTL\n",
      "Snotel data fail, SNOTEL:1247_UT_SNTL\n"
     ]
    },
    {
     "name": "stderr",
     "output_type": "stream",
     "text": [
      "<suds.sax.document.Document object at 0x7f07ce912f80>\n",
      "<suds.sax.document.Document object at 0x7f07ce927250>\n",
      "<suds.sax.document.Document object at 0x7f07842fa7d0>\n"
     ]
    },
    {
     "name": "stdout",
     "output_type": "stream",
     "text": [
      "Snotel data fail, SNOTEL:1254_NM_SNTL\n",
      "Snotel data fail, SNOTEL:1248_UT_SNTL\n",
      "Snotel data fail, SNOTEL:1249_UT_SNTL\n",
      "Attempt 2 for site SNOTEL:1249_UT_SNTL\n"
     ]
    },
    {
     "name": "stderr",
     "output_type": "stream",
     "text": [
      "<suds.sax.document.Document object at 0x7f07771bf760>\n",
      "<suds.sax.document.Document object at 0x7f07ce926e60>\n"
     ]
    },
    {
     "name": "stdout",
     "output_type": "stream",
     "text": [
      "Snotel data fail, SNOTEL:1254_NM_SNTL\n",
      "Attempt 2 for site SNOTEL:1254_NM_SNTL\n",
      "Snotel data fail, SNOTEL:1249_UT_SNTL\n",
      "Attempt 3 for site SNOTEL:1249_UT_SNTL\n"
     ]
    },
    {
     "name": "stderr",
     "output_type": "stream",
     "text": [
      "<suds.sax.document.Document object at 0x7f07ce971180>\n",
      "<suds.sax.document.Document object at 0x7f07ce9f6dd0>\n"
     ]
    },
    {
     "name": "stdout",
     "output_type": "stream",
     "text": [
      "Snotel data fail, SNOTEL:1254_NM_SNTL\n",
      "Attempt 3 for site SNOTEL:1254_NM_SNTL\n",
      "Snotel data fail, SNOTEL:1249_UT_SNTL\n",
      "Attempt 4 for site SNOTEL:1249_UT_SNTL\n"
     ]
    },
    {
     "name": "stderr",
     "output_type": "stream",
     "text": [
      "<suds.sax.document.Document object at 0x7f07ce971180>\n",
      "<suds.sax.document.Document object at 0x7f07ce9240a0>\n"
     ]
    },
    {
     "name": "stdout",
     "output_type": "stream",
     "text": [
      "Snotel data fail, SNOTEL:1254_NM_SNTLSnotel data fail, SNOTEL:1249_UT_SNTL\n",
      "\n",
      "Attempt 4 for site SNOTEL:1254_NM_SNTL\n"
     ]
    },
    {
     "name": "stderr",
     "output_type": "stream",
     "text": [
      "<suds.sax.document.Document object at 0x7f07771bfcd0>\n"
     ]
    },
    {
     "name": "stdout",
     "output_type": "stream",
     "text": [
      "Snotel data fail, SNOTEL:1254_NM_SNTL\n",
      "Getting SNOTEL and CDEC observations for 2014\n",
      "Getting California Data Exchange Center SWE data from 100 sites...\n"
     ]
    },
    {
     "data": {
      "application/vnd.jupyter.widget-view+json": {
       "model_id": "23bd5877d1aa43948e7e8354324ae1e0",
       "version_major": 2,
       "version_minor": 0
      },
      "text/plain": [
       "  0%|          | 0/100 [00:00<?, ?it/s]"
      ]
     },
     "metadata": {},
     "output_type": "display_data"
    },
    {
     "name": "stdout",
     "output_type": "stream",
     "text": [
      "Getting NRCS SNOTEL SWE data from 571 sites...\n"
     ]
    },
    {
     "data": {
      "application/vnd.jupyter.widget-view+json": {
       "model_id": "28e81225a5344ada9427b09c70e50a88",
       "version_major": 2,
       "version_minor": 0
      },
      "text/plain": [
       "  0%|          | 0/571 [00:00<?, ?it/s]"
      ]
     },
     "metadata": {},
     "output_type": "display_data"
    },
    {
     "name": "stdout",
     "output_type": "stream",
     "text": [
      "Getting SNOTEL and CDEC observations for 2015\n",
      "Getting California Data Exchange Center SWE data from 100 sites...\n"
     ]
    },
    {
     "data": {
      "application/vnd.jupyter.widget-view+json": {
       "model_id": "3a30fbed416741fca4a68dc652b90979",
       "version_major": 2,
       "version_minor": 0
      },
      "text/plain": [
       "  0%|          | 0/100 [00:00<?, ?it/s]"
      ]
     },
     "metadata": {},
     "output_type": "display_data"
    },
    {
     "name": "stdout",
     "output_type": "stream",
     "text": [
      "Getting NRCS SNOTEL SWE data from 571 sites...\n"
     ]
    },
    {
     "data": {
      "application/vnd.jupyter.widget-view+json": {
       "model_id": "995355450c65412198bbfb4e0b05c018",
       "version_major": 2,
       "version_minor": 0
      },
      "text/plain": [
       "  0%|          | 0/571 [00:00<?, ?it/s]"
      ]
     },
     "metadata": {},
     "output_type": "display_data"
    },
    {
     "name": "stdout",
     "output_type": "stream",
     "text": [
      "Getting SNOTEL and CDEC observations for 2016\n",
      "Getting California Data Exchange Center SWE data from 100 sites...\n"
     ]
    },
    {
     "data": {
      "application/vnd.jupyter.widget-view+json": {
       "model_id": "4b38e9462d8e430e81488568b724fc2d",
       "version_major": 2,
       "version_minor": 0
      },
      "text/plain": [
       "  0%|          | 0/100 [00:00<?, ?it/s]"
      ]
     },
     "metadata": {},
     "output_type": "display_data"
    },
    {
     "name": "stdout",
     "output_type": "stream",
     "text": [
      "Getting NRCS SNOTEL SWE data from 571 sites...\n"
     ]
    },
    {
     "data": {
      "application/vnd.jupyter.widget-view+json": {
       "model_id": "cd5df4374f0e4d099341514a06341a6c",
       "version_major": 2,
       "version_minor": 0
      },
      "text/plain": [
       "  0%|          | 0/571 [00:00<?, ?it/s]"
      ]
     },
     "metadata": {},
     "output_type": "display_data"
    },
    {
     "name": "stdout",
     "output_type": "stream",
     "text": [
      "Getting SNOTEL and CDEC observations for 2017\n",
      "Getting California Data Exchange Center SWE data from 100 sites...\n"
     ]
    },
    {
     "data": {
      "application/vnd.jupyter.widget-view+json": {
       "model_id": "9bec232813bc4986becb9dfd5f9ddf34",
       "version_major": 2,
       "version_minor": 0
      },
      "text/plain": [
       "  0%|          | 0/100 [00:00<?, ?it/s]"
      ]
     },
     "metadata": {},
     "output_type": "display_data"
    },
    {
     "name": "stdout",
     "output_type": "stream",
     "text": [
      "Getting NRCS SNOTEL SWE data from 571 sites...\n"
     ]
    },
    {
     "data": {
      "application/vnd.jupyter.widget-view+json": {
       "model_id": "b00991ff9a60494ab1925f24b383163a",
       "version_major": 2,
       "version_minor": 0
      },
      "text/plain": [
       "  0%|          | 0/571 [00:00<?, ?it/s]"
      ]
     },
     "metadata": {},
     "output_type": "display_data"
    },
    {
     "name": "stdout",
     "output_type": "stream",
     "text": [
      "Getting SNOTEL and CDEC observations for 2018\n",
      "Getting California Data Exchange Center SWE data from 100 sites...\n"
     ]
    },
    {
     "data": {
      "application/vnd.jupyter.widget-view+json": {
       "model_id": "d44a7207de1a4951a8489a61911e5a8b",
       "version_major": 2,
       "version_minor": 0
      },
      "text/plain": [
       "  0%|          | 0/100 [00:00<?, ?it/s]"
      ]
     },
     "metadata": {},
     "output_type": "display_data"
    },
    {
     "name": "stdout",
     "output_type": "stream",
     "text": [
      "Getting NRCS SNOTEL SWE data from 571 sites...\n"
     ]
    },
    {
     "data": {
      "application/vnd.jupyter.widget-view+json": {
       "model_id": "6f0b558749984fb59c60253fc0eb49d2",
       "version_major": 2,
       "version_minor": 0
      },
      "text/plain": [
       "  0%|          | 0/571 [00:00<?, ?it/s]"
      ]
     },
     "metadata": {},
     "output_type": "display_data"
    },
    {
     "name": "stderr",
     "output_type": "stream",
     "text": [
      "<suds.sax.document.Document object at 0x7f07ce926200>\n"
     ]
    },
    {
     "name": "stdout",
     "output_type": "stream",
     "text": [
      "Snotel data fail, SNOTEL:677_ID_SNTL\n"
     ]
    },
    {
     "name": "stderr",
     "output_type": "stream",
     "text": [
      "<suds.sax.document.Document object at 0x7f0776d43df0>\n"
     ]
    },
    {
     "name": "stdout",
     "output_type": "stream",
     "text": [
      "Snotel data fail, SNOTEL:677_ID_SNTL\n",
      "Attempt 2 for site SNOTEL:677_ID_SNTL\n"
     ]
    },
    {
     "name": "stderr",
     "output_type": "stream",
     "text": [
      "<suds.sax.document.Document object at 0x7f07849068c0>\n"
     ]
    },
    {
     "name": "stdout",
     "output_type": "stream",
     "text": [
      "Snotel data fail, SNOTEL:677_ID_SNTL\n",
      "Attempt 3 for site SNOTEL:677_ID_SNTL\n"
     ]
    },
    {
     "name": "stderr",
     "output_type": "stream",
     "text": [
      "<suds.sax.document.Document object at 0x7f07ce927a00>\n"
     ]
    },
    {
     "name": "stdout",
     "output_type": "stream",
     "text": [
      "Snotel data fail, SNOTEL:677_ID_SNTL\n",
      "Attempt 4 for site SNOTEL:677_ID_SNTL\n"
     ]
    },
    {
     "name": "stderr",
     "output_type": "stream",
     "text": [
      "<suds.sax.document.Document object at 0x7f077707c8e0>\n"
     ]
    },
    {
     "name": "stdout",
     "output_type": "stream",
     "text": [
      "Snotel data fail, SNOTEL:677_ID_SNTL\n",
      "Getting SNOTEL and CDEC observations for 2019\n",
      "Getting California Data Exchange Center SWE data from 100 sites...\n"
     ]
    },
    {
     "data": {
      "application/vnd.jupyter.widget-view+json": {
       "model_id": "856593805595496fb80d49abc5e4ca4d",
       "version_major": 2,
       "version_minor": 0
      },
      "text/plain": [
       "  0%|          | 0/100 [00:00<?, ?it/s]"
      ]
     },
     "metadata": {},
     "output_type": "display_data"
    },
    {
     "name": "stdout",
     "output_type": "stream",
     "text": [
      "Getting NRCS SNOTEL SWE data from 571 sites...\n"
     ]
    },
    {
     "data": {
      "application/vnd.jupyter.widget-view+json": {
       "model_id": "b445297b6d3a4abda4424a9905db29bf",
       "version_major": 2,
       "version_minor": 0
      },
      "text/plain": [
       "  0%|          | 0/571 [00:00<?, ?it/s]"
      ]
     },
     "metadata": {},
     "output_type": "display_data"
    },
    {
     "name": "stderr",
     "output_type": "stream",
     "text": [
      "<suds.sax.document.Document object at 0x7f07843f6c80>\n"
     ]
    },
    {
     "name": "stdout",
     "output_type": "stream",
     "text": [
      "Snotel data fail, SNOTEL:1005_CO_SNTL\n"
     ]
    }
   ],
   "source": [
    "# Get in situ observations\n",
    "import get_InSitu_obs\n",
    "import numpy as np\n",
    "\n",
    "#make a list of dates to aligns with the ASO observations (they go as early as Jan-29 and as far out as the July-17)\n",
    "years = np.arange(2013,2020,1)\n",
    "start_month_day = '10-01'\n",
    "end_month_day = '07-31'\n",
    "#datelist = get_InSitu_obs.make_dates(years, start_month_day, end_month_day, WY = True)\n",
    "\n",
    "# observations \n",
    "get_InSitu_obs.Get_Monitoring_Data_Threaded_dp(years, start_month_day, end_month_day, WY = True)\n",
    "\n",
    "#combine years\n",
    "get_InSitu_obs.combine_dfs(years)"
   ]
  },
  {
   "cell_type": "markdown",
   "id": "a329ea64",
   "metadata": {},
   "source": [
    "# Code for generating ML dataframe using nearest in situ monitoring sites"
   ]
  },
  {
   "cell_type": "code",
   "execution_count": 15,
   "id": "aacde450",
   "metadata": {},
   "outputs": [
    {
     "name": "stdout",
     "output_type": "stream",
     "text": [
      "Southwest\n",
      "Loading all Geospatial prediction/observation files and concatenating into one dataframe\n"
     ]
    },
    {
     "name": "stderr",
     "output_type": "stream",
     "text": [
      "100%|██████████| 99/99 [00:04<00:00, 19.92it/s]\n"
     ]
    },
    {
     "name": "stdout",
     "output_type": "stream",
     "text": [
      "Identifying unique sites to create geophysical information dataframe\n",
      "converting to geodataframe\n",
      "Processing snotel geometry\n",
      "Calculating haversine distance for 299555 locations to in situ OBS, and saving cell-obs relationships in dictionary\n"
     ]
    },
    {
     "data": {
      "application/vnd.jupyter.widget-view+json": {
       "model_id": "ddd6b9bd7ec94138828b001b257eebab",
       "version_major": 2,
       "version_minor": 0
      },
      "text/plain": [
       "  0%|          | 0/299555 [00:00<?, ?it/s]"
      ]
     },
     "metadata": {},
     "output_type": "display_data"
    },
    {
     "name": "stdout",
     "output_type": "stream",
     "text": [
      "Saving nearest SNOTEL in Southwest for each cell id in a pkl file\n",
      "Loading geospatial data for Southwest\n",
      "Converting to geodataframe\n",
      "Calculating dataframe bounding box\n",
      "Retrieving Copernicus 90m DEM tiles\n"
     ]
    },
    {
     "name": "stderr",
     "output_type": "stream",
     "text": [
      "100%|██████████| 30/30 [00:00<00:00, 200364.84it/s]\n"
     ]
    },
    {
     "name": "stdout",
     "output_type": "stream",
     "text": [
      "There are 30 tiles in the region\n",
      "Determining Grid Cell Spatial Features\n"
     ]
    },
    {
     "name": "stderr",
     "output_type": "stream",
     "text": [
      "100%|██████████| 299555/299555 [00:43<00:00, 6867.49it/s]\n"
     ]
    },
    {
     "name": "stdout",
     "output_type": "stream",
     "text": [
      "Job complete for getting geospatial metadata, processing dataframe\n"
     ]
    },
    {
     "name": "stderr",
     "output_type": "stream",
     "text": [
      "299555it [8:14:20, 10.10it/s]\n"
     ]
    },
    {
     "name": "stdout",
     "output_type": "stream",
     "text": [
      "Saving Southwest dataframe in /home/rjohnson18/SWEMLv2.0/data/TrainingDFs/Southwest/300M_Resolution\n",
      "Northwest\n",
      "Loading all Geospatial prediction/observation files and concatenating into one dataframe\n"
     ]
    },
    {
     "name": "stderr",
     "output_type": "stream",
     "text": [
      "100%|██████████| 2/2 [00:00<00:00, 18.29it/s]"
     ]
    },
    {
     "name": "stdout",
     "output_type": "stream",
     "text": [
      "Identifying unique sites to create geophysical information dataframe\n"
     ]
    },
    {
     "name": "stderr",
     "output_type": "stream",
     "text": [
      "\n"
     ]
    },
    {
     "name": "stdout",
     "output_type": "stream",
     "text": [
      "converting to geodataframe\n",
      "Processing snotel geometry\n",
      "Calculating haversine distance for 85185 locations to in situ OBS, and saving cell-obs relationships in dictionary\n"
     ]
    },
    {
     "data": {
      "application/vnd.jupyter.widget-view+json": {
       "model_id": "1ade0813a5944c3c99a071b06adcc00c",
       "version_major": 2,
       "version_minor": 0
      },
      "text/plain": [
       "  0%|          | 0/85185 [00:00<?, ?it/s]"
      ]
     },
     "metadata": {},
     "output_type": "display_data"
    },
    {
     "name": "stdout",
     "output_type": "stream",
     "text": [
      "Saving nearest SNOTEL in Northwest for each cell id in a pkl file\n",
      "Loading geospatial data for Northwest\n",
      "Converting to geodataframe\n",
      "Calculating dataframe bounding box\n",
      "Retrieving Copernicus 90m DEM tiles\n"
     ]
    },
    {
     "name": "stderr",
     "output_type": "stream",
     "text": [
      "100%|██████████| 22/22 [00:00<00:00, 169001.26it/s]\n"
     ]
    },
    {
     "name": "stdout",
     "output_type": "stream",
     "text": [
      "There are 22 tiles in the region\n",
      "Determining Grid Cell Spatial Features\n"
     ]
    },
    {
     "name": "stderr",
     "output_type": "stream",
     "text": [
      "100%|██████████| 85185/85185 [00:12<00:00, 6842.00it/s]\n"
     ]
    },
    {
     "name": "stdout",
     "output_type": "stream",
     "text": [
      "Job complete for getting geospatial metadata, processing dataframe\n"
     ]
    },
    {
     "name": "stderr",
     "output_type": "stream",
     "text": [
      "85185it [2:15:11, 10.50it/s]\n"
     ]
    },
    {
     "name": "stdout",
     "output_type": "stream",
     "text": [
      "Saving Northwest dataframe in /home/rjohnson18/SWEMLv2.0/data/TrainingDFs/Northwest/300M_Resolution\n",
      "No ASO data for NorthernRockies\n",
      "SouthernRockies\n",
      "Loading all Geospatial prediction/observation files and concatenating into one dataframe\n"
     ]
    },
    {
     "name": "stderr",
     "output_type": "stream",
     "text": [
      "100%|██████████| 14/14 [00:00<00:00, 34.29it/s]\n"
     ]
    },
    {
     "name": "stdout",
     "output_type": "stream",
     "text": [
      "Identifying unique sites to create geophysical information dataframe\n",
      "converting to geodataframe\n",
      "Processing snotel geometry\n",
      "Calculating haversine distance for 139011 locations to in situ OBS, and saving cell-obs relationships in dictionary\n"
     ]
    },
    {
     "data": {
      "application/vnd.jupyter.widget-view+json": {
       "model_id": "cd4eef371a3b4d5582ff2a8fef46a6f4",
       "version_major": 2,
       "version_minor": 0
      },
      "text/plain": [
       "  0%|          | 0/139011 [00:00<?, ?it/s]"
      ]
     },
     "metadata": {},
     "output_type": "display_data"
    },
    {
     "name": "stdout",
     "output_type": "stream",
     "text": [
      "Saving nearest SNOTEL in SouthernRockies for each cell id in a pkl file\n",
      "Loading geospatial data for SouthernRockies\n",
      "Converting to geodataframe\n",
      "Calculating dataframe bounding box\n",
      "Retrieving Copernicus 90m DEM tiles\n"
     ]
    },
    {
     "name": "stderr",
     "output_type": "stream",
     "text": [
      "100%|██████████| 36/36 [00:00<00:00, 361231.92it/s]\n"
     ]
    },
    {
     "name": "stdout",
     "output_type": "stream",
     "text": [
      "There are 36 tiles in the region\n",
      "Determining Grid Cell Spatial Features\n"
     ]
    },
    {
     "name": "stderr",
     "output_type": "stream",
     "text": [
      "100%|██████████| 139011/139011 [00:25<00:00, 5401.52it/s]\n"
     ]
    },
    {
     "name": "stdout",
     "output_type": "stream",
     "text": [
      "Job complete for getting geospatial metadata, processing dataframe\n"
     ]
    },
    {
     "name": "stderr",
     "output_type": "stream",
     "text": [
      "139011it [3:47:42, 10.17it/s]\n"
     ]
    },
    {
     "name": "stdout",
     "output_type": "stream",
     "text": [
      "Saving SouthernRockies dataframe in /home/rjohnson18/SWEMLv2.0/data/TrainingDFs/SouthernRockies/300M_Resolution\n"
     ]
    }
   ],
   "source": [
    "import GeoDF\n",
    "\n",
    "# GeoDF used to create a dataframe for ML model development. Its function is to connect in situ observations to gridded locations\n",
    "for region in region_list:\n",
    "    path = f\"{HOME}/SWEMLv2.0/data/ASO/{region}/{output_res}M_SWE_parquet\"\n",
    "    if os.path.isdir(path) == True:\n",
    "        print(region)\n",
    "        #load snotel meta location data, use haversive function\n",
    "        GeoDF.fetch_snotel_sites_for_cellids(region, output_res) # Using known up to date sites\n",
    "\n",
    "        # Get geophysical attributes for each site, need to see how to add output resolution\n",
    "        gdf = GeoDF.GeoSpatial(region, output_res)\n",
    "\n",
    "        #use geodataframe with lat/long meta of all sites to determine slope, aspect, and elevation\n",
    "        metadf = GeoDF.extract_terrain_data_threaded(gdf, region, output_res)\n",
    "    else:\n",
    "        print(f\"No ASO data for {region}\")\n",
    "\n",
    "\n"
   ]
  },
  {
   "cell_type": "markdown",
   "id": "72349ac4",
   "metadata": {},
   "source": [
    "## Connect Snotel to each ASO obs\n",
    "\n",
    "- change nearest_sites name to ns"
   ]
  },
  {
   "cell_type": "code",
   "execution_count": 5,
   "id": "f064661d",
   "metadata": {},
   "outputs": [
    {
     "ename": "NameError",
     "evalue": "name 'importlib' is not defined",
     "output_type": "error",
     "traceback": [
      "\u001b[0;31m---------------------------------------------------------------------------\u001b[0m",
      "\u001b[0;31mNameError\u001b[0m                                 Traceback (most recent call last)",
      "Cell \u001b[0;32mIn[5], line 1\u001b[0m\n\u001b[0;32m----> 1\u001b[0m \u001b[43mimportlib\u001b[49m\u001b[38;5;241m.\u001b[39mreload(Obs_to_DF)\n",
      "\u001b[0;31mNameError\u001b[0m: name 'importlib' is not defined"
     ]
    }
   ],
   "source": [
    "import importlib\n",
    "importlib.reload(Obs_to_DF)"
   ]
  },
  {
   "cell_type": "code",
   "execution_count": 6,
   "id": "573a5df6",
   "metadata": {},
   "outputs": [
    {
     "name": "stdout",
     "output_type": "stream",
     "text": [
      "Southwest\n",
      "Connecting site observations with nearest monitoring network obs\n",
      "Loading observations from 2013-2019\n",
      "Loading 300M resolution grids for Southwest region\n",
      "Processing datetime component of SNOTEL observation dataframe\n",
      "Loading 99 processed ASO observations for the Southwest at 300M resolution\n",
      "There are 97 aso dates in snotel obs\n",
      "There are 2 missing snotel obs\n",
      "Connecting 99 timesteps of observations for Southwest\n"
     ]
    },
    {
     "data": {
      "application/vnd.jupyter.widget-view+json": {
       "model_id": "5c7ebaba3d2c4c3db4e27a4b0ba87197",
       "version_major": 2,
       "version_minor": 0
      },
      "text/plain": [
       "  0%|          | 0/99 [00:00<?, ?it/s]"
      ]
     },
     "metadata": {},
     "output_type": "display_data"
    },
    {
     "name": "stdout",
     "output_type": "stream",
     "text": [
      "Site processing complete, adding observtional data to 20130403 df...\n"
     ]
    },
    {
     "data": {
      "application/vnd.jupyter.widget-view+json": {
       "model_id": "ca6ecd00eb764687943a1854528f65c5",
       "version_major": 2,
       "version_minor": 0
      },
      "text/plain": [
       "  0%|          | 0/16523 [00:00<?, ?it/s]"
      ]
     },
     "metadata": {},
     "output_type": "display_data"
    },
    {
     "ename": "KeyError",
     "evalue": "\"['20130403'] not in index\"",
     "output_type": "error",
     "traceback": [
      "\u001b[0;31m---------------------------------------------------------------------------\u001b[0m",
      "\u001b[0;31mKeyError\u001b[0m                                  Traceback (most recent call last)",
      "Cell \u001b[0;32mIn[6], line 11\u001b[0m\n\u001b[1;32m      9\u001b[0m     dates \u001b[38;5;241m=\u001b[39m []\n\u001b[1;32m     10\u001b[0m     manual \u001b[38;5;241m=\u001b[39m \u001b[38;5;28;01mFalse\u001b[39;00m\n\u001b[0;32m---> 11\u001b[0m     \u001b[43mObs_to_DF\u001b[49m\u001b[38;5;241;43m.\u001b[39;49m\u001b[43mNearest_Snotel_2_obs_MultiProcess\u001b[49m\u001b[43m(\u001b[49m\u001b[43mregion\u001b[49m\u001b[43m,\u001b[49m\u001b[43m \u001b[49m\u001b[43moutput_res\u001b[49m\u001b[43m,\u001b[49m\u001b[43m \u001b[49m\u001b[43mmanual\u001b[49m\u001b[43m,\u001b[49m\u001b[43m \u001b[49m\u001b[43mdates\u001b[49m\u001b[43m)\u001b[49m \n\u001b[1;32m     12\u001b[0m \u001b[38;5;28;01melse\u001b[39;00m:\n\u001b[1;32m     13\u001b[0m     \u001b[38;5;28mprint\u001b[39m(\u001b[38;5;124mf\u001b[39m\u001b[38;5;124m\"\u001b[39m\u001b[38;5;124mNo ASO data for \u001b[39m\u001b[38;5;132;01m{\u001b[39;00mregion\u001b[38;5;132;01m}\u001b[39;00m\u001b[38;5;124m\"\u001b[39m)\n",
      "File \u001b[0;32m~/SWEMLv2.0/Dataprocessing/Obs_to_DF.py:218\u001b[0m, in \u001b[0;36mNearest_Snotel_2_obs_MultiProcess\u001b[0;34m(region, output_res, manual, dates)\u001b[0m\n\u001b[1;32m    216\u001b[0m \u001b[38;5;28;01mfor\u001b[39;00m i \u001b[38;5;129;01min\u001b[39;00m tqdm_notebook(\u001b[38;5;28mrange\u001b[39m(\u001b[38;5;28mlen\u001b[39m(aso_swe_files))):\n\u001b[1;32m    217\u001b[0m     args \u001b[38;5;241m=\u001b[39m aso_swe_files_folder_path, aso_swe_files[i], new_column_names, snotel_data, nearest_snotel, Obsdf, obsdf_path,output_res\n\u001b[0;32m--> 218\u001b[0m     \u001b[43mprocess_single_timestamp\u001b[49m\u001b[43m(\u001b[49m\u001b[43margs\u001b[49m\u001b[43m)\u001b[49m\n\u001b[1;32m    222\u001b[0m \u001b[38;5;28mprint\u001b[39m(\u001b[38;5;124mf\u001b[39m\u001b[38;5;124m\"\u001b[39m\u001b[38;5;124mJob complete for connecting SNOTEL obs to sites/dates\u001b[39m\u001b[38;5;124m\"\u001b[39m)\n",
      "File \u001b[0;32m~/SWEMLv2.0/Dataprocessing/Obs_to_DF.py:89\u001b[0m, in \u001b[0;36mprocess_single_timestamp\u001b[0;34m(args)\u001b[0m\n\u001b[1;32m     87\u001b[0m \u001b[38;5;28mprint\u001b[39m(\u001b[38;5;124mf\u001b[39m\u001b[38;5;124m\"\u001b[39m\u001b[38;5;124mSite processing complete, adding observtional data to \u001b[39m\u001b[38;5;132;01m{\u001b[39;00mtimestamp\u001b[38;5;132;01m}\u001b[39;00m\u001b[38;5;124m df...\u001b[39m\u001b[38;5;124m\"\u001b[39m)\n\u001b[1;32m     88\u001b[0m tqdm_notebook\u001b[38;5;241m.\u001b[39mpandas()\n\u001b[0;32m---> 89\u001b[0m \u001b[43maso_swe_data\u001b[49m\u001b[38;5;241;43m.\u001b[39;49m\u001b[43mprogress_apply\u001b[49m\u001b[43m(\u001b[49m\u001b[38;5;28;43;01mlambda\u001b[39;49;00m\u001b[43m \u001b[49m\u001b[43mrow\u001b[49m\u001b[43m:\u001b[49m\u001b[43m \u001b[49m\u001b[43mcell_id_2_topography\u001b[49m\u001b[43m(\u001b[49m\u001b[43mrow\u001b[49m\u001b[43m,\u001b[49m\u001b[43m \u001b[49m\u001b[43mtimestamp\u001b[49m\u001b[43m,\u001b[49m\u001b[43mtransposed_data\u001b[49m\u001b[43m,\u001b[49m\u001b[43mnearest_snotel\u001b[49m\u001b[43m,\u001b[49m\u001b[43m \u001b[49m\u001b[43msnotel_data\u001b[49m\u001b[43m)\u001b[49m\u001b[43m,\u001b[49m\u001b[43m \u001b[49m\u001b[43maxis\u001b[49m\u001b[43m \u001b[49m\u001b[38;5;241;43m=\u001b[39;49m\u001b[38;5;241;43m1\u001b[39;49m\u001b[43m)\u001b[49m\n\u001b[1;32m     91\u001b[0m \u001b[38;5;66;03m#Convert dictionary of sites to dataframe\u001b[39;00m\n\u001b[1;32m     92\u001b[0m transposed_df \u001b[38;5;241m=\u001b[39m pd\u001b[38;5;241m.\u001b[39mconcat(transposed_data, axis\u001b[38;5;241m=\u001b[39m\u001b[38;5;241m0\u001b[39m) \n",
      "File \u001b[0;32m~/envs/SWEML_310/lib/python3.10/site-packages/tqdm/std.py:917\u001b[0m, in \u001b[0;36mtqdm.pandas.<locals>.inner_generator.<locals>.inner\u001b[0;34m(df, func, *args, **kwargs)\u001b[0m\n\u001b[1;32m    914\u001b[0m \u001b[38;5;66;03m# Apply the provided function (in **kwargs)\u001b[39;00m\n\u001b[1;32m    915\u001b[0m \u001b[38;5;66;03m# on the df using our wrapper (which provides bar updating)\u001b[39;00m\n\u001b[1;32m    916\u001b[0m \u001b[38;5;28;01mtry\u001b[39;00m:\n\u001b[0;32m--> 917\u001b[0m     \u001b[38;5;28;01mreturn\u001b[39;00m \u001b[38;5;28;43mgetattr\u001b[39;49m\u001b[43m(\u001b[49m\u001b[43mdf\u001b[49m\u001b[43m,\u001b[49m\u001b[43m \u001b[49m\u001b[43mdf_function\u001b[49m\u001b[43m)\u001b[49m\u001b[43m(\u001b[49m\u001b[43mwrapper\u001b[49m\u001b[43m,\u001b[49m\u001b[43m \u001b[49m\u001b[38;5;241;43m*\u001b[39;49m\u001b[38;5;241;43m*\u001b[39;49m\u001b[43mkwargs\u001b[49m\u001b[43m)\u001b[49m\n\u001b[1;32m    918\u001b[0m \u001b[38;5;28;01mfinally\u001b[39;00m:\n\u001b[1;32m    919\u001b[0m     t\u001b[38;5;241m.\u001b[39mclose()\n",
      "File \u001b[0;32m~/.local/lib/python3.10/site-packages/pandas/core/frame.py:10374\u001b[0m, in \u001b[0;36mDataFrame.apply\u001b[0;34m(self, func, axis, raw, result_type, args, by_row, engine, engine_kwargs, **kwargs)\u001b[0m\n\u001b[1;32m  10360\u001b[0m \u001b[38;5;28;01mfrom\u001b[39;00m \u001b[38;5;21;01mpandas\u001b[39;00m\u001b[38;5;21;01m.\u001b[39;00m\u001b[38;5;21;01mcore\u001b[39;00m\u001b[38;5;21;01m.\u001b[39;00m\u001b[38;5;21;01mapply\u001b[39;00m \u001b[38;5;28;01mimport\u001b[39;00m frame_apply\n\u001b[1;32m  10362\u001b[0m op \u001b[38;5;241m=\u001b[39m frame_apply(\n\u001b[1;32m  10363\u001b[0m     \u001b[38;5;28mself\u001b[39m,\n\u001b[1;32m  10364\u001b[0m     func\u001b[38;5;241m=\u001b[39mfunc,\n\u001b[0;32m   (...)\u001b[0m\n\u001b[1;32m  10372\u001b[0m     kwargs\u001b[38;5;241m=\u001b[39mkwargs,\n\u001b[1;32m  10373\u001b[0m )\n\u001b[0;32m> 10374\u001b[0m \u001b[38;5;28;01mreturn\u001b[39;00m \u001b[43mop\u001b[49m\u001b[38;5;241;43m.\u001b[39;49m\u001b[43mapply\u001b[49m\u001b[43m(\u001b[49m\u001b[43m)\u001b[49m\u001b[38;5;241m.\u001b[39m__finalize__(\u001b[38;5;28mself\u001b[39m, method\u001b[38;5;241m=\u001b[39m\u001b[38;5;124m\"\u001b[39m\u001b[38;5;124mapply\u001b[39m\u001b[38;5;124m\"\u001b[39m)\n",
      "File \u001b[0;32m~/.local/lib/python3.10/site-packages/pandas/core/apply.py:916\u001b[0m, in \u001b[0;36mFrameApply.apply\u001b[0;34m(self)\u001b[0m\n\u001b[1;32m    913\u001b[0m \u001b[38;5;28;01melif\u001b[39;00m \u001b[38;5;28mself\u001b[39m\u001b[38;5;241m.\u001b[39mraw:\n\u001b[1;32m    914\u001b[0m     \u001b[38;5;28;01mreturn\u001b[39;00m \u001b[38;5;28mself\u001b[39m\u001b[38;5;241m.\u001b[39mapply_raw(engine\u001b[38;5;241m=\u001b[39m\u001b[38;5;28mself\u001b[39m\u001b[38;5;241m.\u001b[39mengine, engine_kwargs\u001b[38;5;241m=\u001b[39m\u001b[38;5;28mself\u001b[39m\u001b[38;5;241m.\u001b[39mengine_kwargs)\n\u001b[0;32m--> 916\u001b[0m \u001b[38;5;28;01mreturn\u001b[39;00m \u001b[38;5;28;43mself\u001b[39;49m\u001b[38;5;241;43m.\u001b[39;49m\u001b[43mapply_standard\u001b[49m\u001b[43m(\u001b[49m\u001b[43m)\u001b[49m\n",
      "File \u001b[0;32m~/.local/lib/python3.10/site-packages/pandas/core/apply.py:1063\u001b[0m, in \u001b[0;36mFrameApply.apply_standard\u001b[0;34m(self)\u001b[0m\n\u001b[1;32m   1061\u001b[0m \u001b[38;5;28;01mdef\u001b[39;00m \u001b[38;5;21mapply_standard\u001b[39m(\u001b[38;5;28mself\u001b[39m):\n\u001b[1;32m   1062\u001b[0m     \u001b[38;5;28;01mif\u001b[39;00m \u001b[38;5;28mself\u001b[39m\u001b[38;5;241m.\u001b[39mengine \u001b[38;5;241m==\u001b[39m \u001b[38;5;124m\"\u001b[39m\u001b[38;5;124mpython\u001b[39m\u001b[38;5;124m\"\u001b[39m:\n\u001b[0;32m-> 1063\u001b[0m         results, res_index \u001b[38;5;241m=\u001b[39m \u001b[38;5;28;43mself\u001b[39;49m\u001b[38;5;241;43m.\u001b[39;49m\u001b[43mapply_series_generator\u001b[49m\u001b[43m(\u001b[49m\u001b[43m)\u001b[49m\n\u001b[1;32m   1064\u001b[0m     \u001b[38;5;28;01melse\u001b[39;00m:\n\u001b[1;32m   1065\u001b[0m         results, res_index \u001b[38;5;241m=\u001b[39m \u001b[38;5;28mself\u001b[39m\u001b[38;5;241m.\u001b[39mapply_series_numba()\n",
      "File \u001b[0;32m~/.local/lib/python3.10/site-packages/pandas/core/apply.py:1081\u001b[0m, in \u001b[0;36mFrameApply.apply_series_generator\u001b[0;34m(self)\u001b[0m\n\u001b[1;32m   1078\u001b[0m \u001b[38;5;28;01mwith\u001b[39;00m option_context(\u001b[38;5;124m\"\u001b[39m\u001b[38;5;124mmode.chained_assignment\u001b[39m\u001b[38;5;124m\"\u001b[39m, \u001b[38;5;28;01mNone\u001b[39;00m):\n\u001b[1;32m   1079\u001b[0m     \u001b[38;5;28;01mfor\u001b[39;00m i, v \u001b[38;5;129;01min\u001b[39;00m \u001b[38;5;28menumerate\u001b[39m(series_gen):\n\u001b[1;32m   1080\u001b[0m         \u001b[38;5;66;03m# ignore SettingWithCopy here in case the user mutates\u001b[39;00m\n\u001b[0;32m-> 1081\u001b[0m         results[i] \u001b[38;5;241m=\u001b[39m \u001b[38;5;28;43mself\u001b[39;49m\u001b[38;5;241;43m.\u001b[39;49m\u001b[43mfunc\u001b[49m\u001b[43m(\u001b[49m\u001b[43mv\u001b[49m\u001b[43m,\u001b[49m\u001b[43m \u001b[49m\u001b[38;5;241;43m*\u001b[39;49m\u001b[38;5;28;43mself\u001b[39;49m\u001b[38;5;241;43m.\u001b[39;49m\u001b[43margs\u001b[49m\u001b[43m,\u001b[49m\u001b[43m \u001b[49m\u001b[38;5;241;43m*\u001b[39;49m\u001b[38;5;241;43m*\u001b[39;49m\u001b[38;5;28;43mself\u001b[39;49m\u001b[38;5;241;43m.\u001b[39;49m\u001b[43mkwargs\u001b[49m\u001b[43m)\u001b[49m\n\u001b[1;32m   1082\u001b[0m         \u001b[38;5;28;01mif\u001b[39;00m \u001b[38;5;28misinstance\u001b[39m(results[i], ABCSeries):\n\u001b[1;32m   1083\u001b[0m             \u001b[38;5;66;03m# If we have a view on v, we need to make a copy because\u001b[39;00m\n\u001b[1;32m   1084\u001b[0m             \u001b[38;5;66;03m#  series_generator will swap out the underlying data\u001b[39;00m\n\u001b[1;32m   1085\u001b[0m             results[i] \u001b[38;5;241m=\u001b[39m results[i]\u001b[38;5;241m.\u001b[39mcopy(deep\u001b[38;5;241m=\u001b[39m\u001b[38;5;28;01mFalse\u001b[39;00m)\n",
      "File \u001b[0;32m~/envs/SWEML_310/lib/python3.10/site-packages/tqdm/std.py:912\u001b[0m, in \u001b[0;36mtqdm.pandas.<locals>.inner_generator.<locals>.inner.<locals>.wrapper\u001b[0;34m(*args, **kwargs)\u001b[0m\n\u001b[1;32m    906\u001b[0m \u001b[38;5;28;01mdef\u001b[39;00m \u001b[38;5;21mwrapper\u001b[39m(\u001b[38;5;241m*\u001b[39margs, \u001b[38;5;241m*\u001b[39m\u001b[38;5;241m*\u001b[39mkwargs):\n\u001b[1;32m    907\u001b[0m     \u001b[38;5;66;03m# update tbar correctly\u001b[39;00m\n\u001b[1;32m    908\u001b[0m     \u001b[38;5;66;03m# it seems `pandas apply` calls `func` twice\u001b[39;00m\n\u001b[1;32m    909\u001b[0m     \u001b[38;5;66;03m# on the first column/row to decide whether it can\u001b[39;00m\n\u001b[1;32m    910\u001b[0m     \u001b[38;5;66;03m# take a fast or slow code path; so stop when t.total==t.n\u001b[39;00m\n\u001b[1;32m    911\u001b[0m     t\u001b[38;5;241m.\u001b[39mupdate(n\u001b[38;5;241m=\u001b[39m\u001b[38;5;241m1\u001b[39m \u001b[38;5;28;01mif\u001b[39;00m \u001b[38;5;129;01mnot\u001b[39;00m t\u001b[38;5;241m.\u001b[39mtotal \u001b[38;5;129;01mor\u001b[39;00m t\u001b[38;5;241m.\u001b[39mn \u001b[38;5;241m<\u001b[39m t\u001b[38;5;241m.\u001b[39mtotal \u001b[38;5;28;01melse\u001b[39;00m \u001b[38;5;241m0\u001b[39m)\n\u001b[0;32m--> 912\u001b[0m     \u001b[38;5;28;01mreturn\u001b[39;00m \u001b[43mfunc\u001b[49m\u001b[43m(\u001b[49m\u001b[38;5;241;43m*\u001b[39;49m\u001b[43margs\u001b[49m\u001b[43m,\u001b[49m\u001b[43m \u001b[49m\u001b[38;5;241;43m*\u001b[39;49m\u001b[38;5;241;43m*\u001b[39;49m\u001b[43mkwargs\u001b[49m\u001b[43m)\u001b[49m\n",
      "File \u001b[0;32m~/SWEMLv2.0/Dataprocessing/Obs_to_DF.py:89\u001b[0m, in \u001b[0;36mprocess_single_timestamp.<locals>.<lambda>\u001b[0;34m(row)\u001b[0m\n\u001b[1;32m     87\u001b[0m \u001b[38;5;28mprint\u001b[39m(\u001b[38;5;124mf\u001b[39m\u001b[38;5;124m\"\u001b[39m\u001b[38;5;124mSite processing complete, adding observtional data to \u001b[39m\u001b[38;5;132;01m{\u001b[39;00mtimestamp\u001b[38;5;132;01m}\u001b[39;00m\u001b[38;5;124m df...\u001b[39m\u001b[38;5;124m\"\u001b[39m)\n\u001b[1;32m     88\u001b[0m tqdm_notebook\u001b[38;5;241m.\u001b[39mpandas()\n\u001b[0;32m---> 89\u001b[0m aso_swe_data\u001b[38;5;241m.\u001b[39mprogress_apply(\u001b[38;5;28;01mlambda\u001b[39;00m row: \u001b[43mcell_id_2_topography\u001b[49m\u001b[43m(\u001b[49m\u001b[43mrow\u001b[49m\u001b[43m,\u001b[49m\u001b[43m \u001b[49m\u001b[43mtimestamp\u001b[49m\u001b[43m,\u001b[49m\u001b[43mtransposed_data\u001b[49m\u001b[43m,\u001b[49m\u001b[43mnearest_snotel\u001b[49m\u001b[43m,\u001b[49m\u001b[43m \u001b[49m\u001b[43msnotel_data\u001b[49m\u001b[43m)\u001b[49m, axis \u001b[38;5;241m=\u001b[39m\u001b[38;5;241m1\u001b[39m)\n\u001b[1;32m     91\u001b[0m \u001b[38;5;66;03m#Convert dictionary of sites to dataframe\u001b[39;00m\n\u001b[1;32m     92\u001b[0m transposed_df \u001b[38;5;241m=\u001b[39m pd\u001b[38;5;241m.\u001b[39mconcat(transposed_data, axis\u001b[38;5;241m=\u001b[39m\u001b[38;5;241m0\u001b[39m) \n",
      "File \u001b[0;32m~/SWEMLv2.0/Dataprocessing/Obs_to_DF.py:61\u001b[0m, in \u001b[0;36mcell_id_2_topography\u001b[0;34m(row, timestamp, transposed_data, nearest_snotel, snotel_data)\u001b[0m\n\u001b[1;32m     59\u001b[0m station_mapping \u001b[38;5;241m=\u001b[39m {old_id: \u001b[38;5;124mf\u001b[39m\u001b[38;5;124m\"\u001b[39m\u001b[38;5;124mns_\u001b[39m\u001b[38;5;132;01m{\u001b[39;00mi\u001b[38;5;241m+\u001b[39m\u001b[38;5;241m1\u001b[39m\u001b[38;5;132;01m}\u001b[39;00m\u001b[38;5;124m\"\u001b[39m \u001b[38;5;28;01mfor\u001b[39;00m i, old_id \u001b[38;5;129;01min\u001b[39;00m \u001b[38;5;28menumerate\u001b[39m(station_ids)}\n\u001b[1;32m     60\u001b[0m cols \u001b[38;5;241m=\u001b[39m [\u001b[38;5;124m'\u001b[39m\u001b[38;5;124mstation_id\u001b[39m\u001b[38;5;124m'\u001b[39m, timestamp]\n\u001b[0;32m---> 61\u001b[0m selected_snotel_data \u001b[38;5;241m=\u001b[39m \u001b[43msnotel_data\u001b[49m\u001b[43m[\u001b[49m\u001b[43mcols\u001b[49m\u001b[43m]\u001b[49m\n\u001b[1;32m     62\u001b[0m \u001b[38;5;66;03m# # Rename the station IDs in the selected SNOTEL data\u001b[39;00m\n\u001b[1;32m     63\u001b[0m selected_snotel_data[\u001b[38;5;124m'\u001b[39m\u001b[38;5;124mstation_id\u001b[39m\u001b[38;5;124m'\u001b[39m] \u001b[38;5;241m=\u001b[39m selected_snotel_data[\u001b[38;5;124m'\u001b[39m\u001b[38;5;124mstation_id\u001b[39m\u001b[38;5;124m'\u001b[39m]\u001b[38;5;241m.\u001b[39mmap(station_mapping)\n",
      "File \u001b[0;32m~/.local/lib/python3.10/site-packages/pandas/core/frame.py:4108\u001b[0m, in \u001b[0;36mDataFrame.__getitem__\u001b[0;34m(self, key)\u001b[0m\n\u001b[1;32m   4106\u001b[0m     \u001b[38;5;28;01mif\u001b[39;00m is_iterator(key):\n\u001b[1;32m   4107\u001b[0m         key \u001b[38;5;241m=\u001b[39m \u001b[38;5;28mlist\u001b[39m(key)\n\u001b[0;32m-> 4108\u001b[0m     indexer \u001b[38;5;241m=\u001b[39m \u001b[38;5;28;43mself\u001b[39;49m\u001b[38;5;241;43m.\u001b[39;49m\u001b[43mcolumns\u001b[49m\u001b[38;5;241;43m.\u001b[39;49m\u001b[43m_get_indexer_strict\u001b[49m\u001b[43m(\u001b[49m\u001b[43mkey\u001b[49m\u001b[43m,\u001b[49m\u001b[43m \u001b[49m\u001b[38;5;124;43m\"\u001b[39;49m\u001b[38;5;124;43mcolumns\u001b[39;49m\u001b[38;5;124;43m\"\u001b[39;49m\u001b[43m)\u001b[49m[\u001b[38;5;241m1\u001b[39m]\n\u001b[1;32m   4110\u001b[0m \u001b[38;5;66;03m# take() does not accept boolean indexers\u001b[39;00m\n\u001b[1;32m   4111\u001b[0m \u001b[38;5;28;01mif\u001b[39;00m \u001b[38;5;28mgetattr\u001b[39m(indexer, \u001b[38;5;124m\"\u001b[39m\u001b[38;5;124mdtype\u001b[39m\u001b[38;5;124m\"\u001b[39m, \u001b[38;5;28;01mNone\u001b[39;00m) \u001b[38;5;241m==\u001b[39m \u001b[38;5;28mbool\u001b[39m:\n",
      "File \u001b[0;32m~/.local/lib/python3.10/site-packages/pandas/core/indexes/base.py:6200\u001b[0m, in \u001b[0;36mIndex._get_indexer_strict\u001b[0;34m(self, key, axis_name)\u001b[0m\n\u001b[1;32m   6197\u001b[0m \u001b[38;5;28;01melse\u001b[39;00m:\n\u001b[1;32m   6198\u001b[0m     keyarr, indexer, new_indexer \u001b[38;5;241m=\u001b[39m \u001b[38;5;28mself\u001b[39m\u001b[38;5;241m.\u001b[39m_reindex_non_unique(keyarr)\n\u001b[0;32m-> 6200\u001b[0m \u001b[38;5;28;43mself\u001b[39;49m\u001b[38;5;241;43m.\u001b[39;49m\u001b[43m_raise_if_missing\u001b[49m\u001b[43m(\u001b[49m\u001b[43mkeyarr\u001b[49m\u001b[43m,\u001b[49m\u001b[43m \u001b[49m\u001b[43mindexer\u001b[49m\u001b[43m,\u001b[49m\u001b[43m \u001b[49m\u001b[43maxis_name\u001b[49m\u001b[43m)\u001b[49m\n\u001b[1;32m   6202\u001b[0m keyarr \u001b[38;5;241m=\u001b[39m \u001b[38;5;28mself\u001b[39m\u001b[38;5;241m.\u001b[39mtake(indexer)\n\u001b[1;32m   6203\u001b[0m \u001b[38;5;28;01mif\u001b[39;00m \u001b[38;5;28misinstance\u001b[39m(key, Index):\n\u001b[1;32m   6204\u001b[0m     \u001b[38;5;66;03m# GH 42790 - Preserve name from an Index\u001b[39;00m\n",
      "File \u001b[0;32m~/.local/lib/python3.10/site-packages/pandas/core/indexes/base.py:6252\u001b[0m, in \u001b[0;36mIndex._raise_if_missing\u001b[0;34m(self, key, indexer, axis_name)\u001b[0m\n\u001b[1;32m   6249\u001b[0m     \u001b[38;5;28;01mraise\u001b[39;00m \u001b[38;5;167;01mKeyError\u001b[39;00m(\u001b[38;5;124mf\u001b[39m\u001b[38;5;124m\"\u001b[39m\u001b[38;5;124mNone of [\u001b[39m\u001b[38;5;132;01m{\u001b[39;00mkey\u001b[38;5;132;01m}\u001b[39;00m\u001b[38;5;124m] are in the [\u001b[39m\u001b[38;5;132;01m{\u001b[39;00maxis_name\u001b[38;5;132;01m}\u001b[39;00m\u001b[38;5;124m]\u001b[39m\u001b[38;5;124m\"\u001b[39m)\n\u001b[1;32m   6251\u001b[0m not_found \u001b[38;5;241m=\u001b[39m \u001b[38;5;28mlist\u001b[39m(ensure_index(key)[missing_mask\u001b[38;5;241m.\u001b[39mnonzero()[\u001b[38;5;241m0\u001b[39m]]\u001b[38;5;241m.\u001b[39munique())\n\u001b[0;32m-> 6252\u001b[0m \u001b[38;5;28;01mraise\u001b[39;00m \u001b[38;5;167;01mKeyError\u001b[39;00m(\u001b[38;5;124mf\u001b[39m\u001b[38;5;124m\"\u001b[39m\u001b[38;5;132;01m{\u001b[39;00mnot_found\u001b[38;5;132;01m}\u001b[39;00m\u001b[38;5;124m not in index\u001b[39m\u001b[38;5;124m\"\u001b[39m)\n",
      "\u001b[0;31mKeyError\u001b[0m: \"['20130403'] not in index\""
     ]
    }
   ],
   "source": [
    "import Obs_to_DF\n",
    "output_res = 300\n",
    "\n",
    "#Connect nearest snotel observations with ASO data, makes a parquet file for each date  -  test to see if this works - need to just load the SNOTEL file, not collect them as in the function\n",
    "for region in region_list:\n",
    "    path = f\"{HOME}/SWEMLv2.0/data/ASO/{region}/{output_res}M_SWE_parquet\"\n",
    "    if os.path.isdir(path) == True:\n",
    "        print(region)\n",
    "        dates = []\n",
    "        manual = False\n",
    "        Obs_to_DF.Nearest_Snotel_2_obs_MultiProcess(region, output_res, manual, dates) \n",
    "    else:\n",
    "        print(f\"No ASO data for {region}\")\n"
   ]
  },
  {
   "cell_type": "code",
   "execution_count": 3,
   "id": "dbfb6910",
   "metadata": {},
   "outputs": [
    {
     "data": {
      "text/html": [
       "<div>\n",
       "<style scoped>\n",
       "    .dataframe tbody tr th:only-of-type {\n",
       "        vertical-align: middle;\n",
       "    }\n",
       "\n",
       "    .dataframe tbody tr th {\n",
       "        vertical-align: top;\n",
       "    }\n",
       "\n",
       "    .dataframe thead th {\n",
       "        text-align: right;\n",
       "    }\n",
       "</style>\n",
       "<table border=\"1\" class=\"dataframe\">\n",
       "  <thead>\n",
       "    <tr style=\"text-align: right;\">\n",
       "      <th></th>\n",
       "      <th>2013-01-01</th>\n",
       "      <th>2013-01-08</th>\n",
       "      <th>2013-01-15</th>\n",
       "      <th>2013-01-22</th>\n",
       "      <th>2013-01-29</th>\n",
       "      <th>2013-02-05</th>\n",
       "      <th>2013-02-12</th>\n",
       "      <th>2013-02-19</th>\n",
       "      <th>2013-02-26</th>\n",
       "      <th>2013-03-05</th>\n",
       "      <th>...</th>\n",
       "      <th>2019-07-05</th>\n",
       "      <th>2019-07-13</th>\n",
       "      <th>2019-07-14</th>\n",
       "      <th>2019-07-15</th>\n",
       "      <th>2019-07-16</th>\n",
       "      <th>2019-12-03</th>\n",
       "      <th>2019-12-10</th>\n",
       "      <th>2019-12-17</th>\n",
       "      <th>2019-12-24</th>\n",
       "      <th>2019-12-31</th>\n",
       "    </tr>\n",
       "    <tr>\n",
       "      <th>station_id</th>\n",
       "      <th></th>\n",
       "      <th></th>\n",
       "      <th></th>\n",
       "      <th></th>\n",
       "      <th></th>\n",
       "      <th></th>\n",
       "      <th></th>\n",
       "      <th></th>\n",
       "      <th></th>\n",
       "      <th></th>\n",
       "      <th></th>\n",
       "      <th></th>\n",
       "      <th></th>\n",
       "      <th></th>\n",
       "      <th></th>\n",
       "      <th></th>\n",
       "      <th></th>\n",
       "      <th></th>\n",
       "      <th></th>\n",
       "      <th></th>\n",
       "      <th></th>\n",
       "    </tr>\n",
       "  </thead>\n",
       "  <tbody>\n",
       "    <tr>\n",
       "      <th>CDEC:ADM</th>\n",
       "      <td>5.90</td>\n",
       "      <td>5.90</td>\n",
       "      <td>6.50</td>\n",
       "      <td>6.50</td>\n",
       "      <td>7.40</td>\n",
       "      <td>7.60</td>\n",
       "      <td>7.40</td>\n",
       "      <td>8.00</td>\n",
       "      <td>8.00</td>\n",
       "      <td>8.00</td>\n",
       "      <td>...</td>\n",
       "      <td>7.65006</td>\n",
       "      <td>7.65006</td>\n",
       "      <td>7.65006</td>\n",
       "      <td>0.990189</td>\n",
       "      <td>0.735849</td>\n",
       "      <td>0.700000</td>\n",
       "      <td>1.200000</td>\n",
       "      <td>3.400000</td>\n",
       "      <td>3.700000</td>\n",
       "      <td>3.400000</td>\n",
       "    </tr>\n",
       "    <tr>\n",
       "      <th>CDEC:AGP</th>\n",
       "      <td>17.52</td>\n",
       "      <td>17.54</td>\n",
       "      <td>17.85</td>\n",
       "      <td>17.39</td>\n",
       "      <td>18.03</td>\n",
       "      <td>17.70</td>\n",
       "      <td>17.65</td>\n",
       "      <td>16.66</td>\n",
       "      <td>17.21</td>\n",
       "      <td>16.26</td>\n",
       "      <td>...</td>\n",
       "      <td>7.65006</td>\n",
       "      <td>7.65006</td>\n",
       "      <td>7.65006</td>\n",
       "      <td>0.990189</td>\n",
       "      <td>0.735849</td>\n",
       "      <td>0.000000</td>\n",
       "      <td>0.600000</td>\n",
       "      <td>0.200000</td>\n",
       "      <td>0.000000</td>\n",
       "      <td>0.000000</td>\n",
       "    </tr>\n",
       "    <tr>\n",
       "      <th>CDEC:ALP</th>\n",
       "      <td>12.75</td>\n",
       "      <td>13.32</td>\n",
       "      <td>14.26</td>\n",
       "      <td>14.02</td>\n",
       "      <td>13.39</td>\n",
       "      <td>13.25</td>\n",
       "      <td>14.30</td>\n",
       "      <td>13.95</td>\n",
       "      <td>15.73</td>\n",
       "      <td>15.41</td>\n",
       "      <td>...</td>\n",
       "      <td>0.00000</td>\n",
       "      <td>0.00000</td>\n",
       "      <td>0.00000</td>\n",
       "      <td>0.000000</td>\n",
       "      <td>0.000000</td>\n",
       "      <td>5.690000</td>\n",
       "      <td>8.040000</td>\n",
       "      <td>10.740000</td>\n",
       "      <td>12.670000</td>\n",
       "      <td>12.570000</td>\n",
       "    </tr>\n",
       "    <tr>\n",
       "      <th>CDEC:BCB</th>\n",
       "      <td>4.30</td>\n",
       "      <td>4.42</td>\n",
       "      <td>4.62</td>\n",
       "      <td>4.53</td>\n",
       "      <td>4.67</td>\n",
       "      <td>4.90</td>\n",
       "      <td>4.90</td>\n",
       "      <td>5.06</td>\n",
       "      <td>5.11</td>\n",
       "      <td>5.23</td>\n",
       "      <td>...</td>\n",
       "      <td>7.65006</td>\n",
       "      <td>7.65006</td>\n",
       "      <td>7.65006</td>\n",
       "      <td>0.990189</td>\n",
       "      <td>0.735849</td>\n",
       "      <td>6.667174</td>\n",
       "      <td>8.578298</td>\n",
       "      <td>9.606105</td>\n",
       "      <td>10.934149</td>\n",
       "      <td>11.442903</td>\n",
       "    </tr>\n",
       "    <tr>\n",
       "      <th>CDEC:BCH</th>\n",
       "      <td>2.88</td>\n",
       "      <td>3.00</td>\n",
       "      <td>3.48</td>\n",
       "      <td>3.84</td>\n",
       "      <td>3.96</td>\n",
       "      <td>4.44</td>\n",
       "      <td>5.40</td>\n",
       "      <td>5.16</td>\n",
       "      <td>3.60</td>\n",
       "      <td>1.80</td>\n",
       "      <td>...</td>\n",
       "      <td>0.24000</td>\n",
       "      <td>0.24000</td>\n",
       "      <td>0.24000</td>\n",
       "      <td>0.240000</td>\n",
       "      <td>0.240000</td>\n",
       "      <td>2.880000</td>\n",
       "      <td>4.560000</td>\n",
       "      <td>4.680000</td>\n",
       "      <td>5.040000</td>\n",
       "      <td>6.000000</td>\n",
       "    </tr>\n",
       "    <tr>\n",
       "      <th>...</th>\n",
       "      <td>...</td>\n",
       "      <td>...</td>\n",
       "      <td>...</td>\n",
       "      <td>...</td>\n",
       "      <td>...</td>\n",
       "      <td>...</td>\n",
       "      <td>...</td>\n",
       "      <td>...</td>\n",
       "      <td>...</td>\n",
       "      <td>...</td>\n",
       "      <td>...</td>\n",
       "      <td>...</td>\n",
       "      <td>...</td>\n",
       "      <td>...</td>\n",
       "      <td>...</td>\n",
       "      <td>...</td>\n",
       "      <td>...</td>\n",
       "      <td>...</td>\n",
       "      <td>...</td>\n",
       "      <td>...</td>\n",
       "      <td>...</td>\n",
       "    </tr>\n",
       "    <tr>\n",
       "      <th>SNOTEL:988_ID_SNTL</th>\n",
       "      <td>19.20</td>\n",
       "      <td>19.60</td>\n",
       "      <td>21.60</td>\n",
       "      <td>21.90</td>\n",
       "      <td>23.30</td>\n",
       "      <td>23.80</td>\n",
       "      <td>24.60</td>\n",
       "      <td>25.20</td>\n",
       "      <td>26.70</td>\n",
       "      <td>28.20</td>\n",
       "      <td>...</td>\n",
       "      <td>0.00000</td>\n",
       "      <td>0.00000</td>\n",
       "      <td>0.00000</td>\n",
       "      <td>0.000000</td>\n",
       "      <td>0.000000</td>\n",
       "      <td>5.300000</td>\n",
       "      <td>7.800000</td>\n",
       "      <td>8.700000</td>\n",
       "      <td>14.500000</td>\n",
       "      <td>14.400000</td>\n",
       "    </tr>\n",
       "    <tr>\n",
       "      <th>SNOTEL:989_ID_SNTL</th>\n",
       "      <td>9.00</td>\n",
       "      <td>9.10</td>\n",
       "      <td>10.70</td>\n",
       "      <td>11.10</td>\n",
       "      <td>11.70</td>\n",
       "      <td>14.10</td>\n",
       "      <td>14.50</td>\n",
       "      <td>14.50</td>\n",
       "      <td>17.00</td>\n",
       "      <td>18.40</td>\n",
       "      <td>...</td>\n",
       "      <td>0.00000</td>\n",
       "      <td>0.00000</td>\n",
       "      <td>0.00000</td>\n",
       "      <td>0.000000</td>\n",
       "      <td>0.000000</td>\n",
       "      <td>0.300000</td>\n",
       "      <td>0.200000</td>\n",
       "      <td>1.600000</td>\n",
       "      <td>2.700000</td>\n",
       "      <td>3.000000</td>\n",
       "    </tr>\n",
       "    <tr>\n",
       "      <th>SNOTEL:990_WA_SNTL</th>\n",
       "      <td>27.50</td>\n",
       "      <td>28.60</td>\n",
       "      <td>31.50</td>\n",
       "      <td>31.80</td>\n",
       "      <td>33.10</td>\n",
       "      <td>33.80</td>\n",
       "      <td>35.20</td>\n",
       "      <td>36.50</td>\n",
       "      <td>38.10</td>\n",
       "      <td>39.60</td>\n",
       "      <td>...</td>\n",
       "      <td>0.00000</td>\n",
       "      <td>0.00000</td>\n",
       "      <td>0.00000</td>\n",
       "      <td>0.000000</td>\n",
       "      <td>0.000000</td>\n",
       "      <td>0.900000</td>\n",
       "      <td>0.800000</td>\n",
       "      <td>2.300000</td>\n",
       "      <td>8.700000</td>\n",
       "      <td>8.600000</td>\n",
       "    </tr>\n",
       "    <tr>\n",
       "      <th>SNOTEL:992_UT_SNTL</th>\n",
       "      <td>4.10</td>\n",
       "      <td>4.10</td>\n",
       "      <td>4.40</td>\n",
       "      <td>4.50</td>\n",
       "      <td>4.80</td>\n",
       "      <td>5.10</td>\n",
       "      <td>5.20</td>\n",
       "      <td>5.20</td>\n",
       "      <td>6.00</td>\n",
       "      <td>6.60</td>\n",
       "      <td>...</td>\n",
       "      <td>0.00000</td>\n",
       "      <td>0.00000</td>\n",
       "      <td>0.00000</td>\n",
       "      <td>0.000000</td>\n",
       "      <td>0.000000</td>\n",
       "      <td>2.000000</td>\n",
       "      <td>2.200000</td>\n",
       "      <td>3.500000</td>\n",
       "      <td>3.600000</td>\n",
       "      <td>3.800000</td>\n",
       "    </tr>\n",
       "    <tr>\n",
       "      <th>SNOTEL:999_WA_SNTL</th>\n",
       "      <td>33.00</td>\n",
       "      <td>36.30</td>\n",
       "      <td>40.60</td>\n",
       "      <td>42.40</td>\n",
       "      <td>46.60</td>\n",
       "      <td>50.20</td>\n",
       "      <td>53.90</td>\n",
       "      <td>56.40</td>\n",
       "      <td>61.60</td>\n",
       "      <td>65.90</td>\n",
       "      <td>...</td>\n",
       "      <td>0.00000</td>\n",
       "      <td>0.00000</td>\n",
       "      <td>0.00000</td>\n",
       "      <td>0.000000</td>\n",
       "      <td>0.000000</td>\n",
       "      <td>1.600000</td>\n",
       "      <td>0.000000</td>\n",
       "      <td>2.900000</td>\n",
       "      <td>8.400000</td>\n",
       "      <td>9.300000</td>\n",
       "    </tr>\n",
       "  </tbody>\n",
       "</table>\n",
       "<p>671 rows × 312 columns</p>\n",
       "</div>"
      ],
      "text/plain": [
       "                    2013-01-01  2013-01-08  2013-01-15  2013-01-22  \\\n",
       "station_id                                                           \n",
       "CDEC:ADM                  5.90        5.90        6.50        6.50   \n",
       "CDEC:AGP                 17.52       17.54       17.85       17.39   \n",
       "CDEC:ALP                 12.75       13.32       14.26       14.02   \n",
       "CDEC:BCB                  4.30        4.42        4.62        4.53   \n",
       "CDEC:BCH                  2.88        3.00        3.48        3.84   \n",
       "...                        ...         ...         ...         ...   \n",
       "SNOTEL:988_ID_SNTL       19.20       19.60       21.60       21.90   \n",
       "SNOTEL:989_ID_SNTL        9.00        9.10       10.70       11.10   \n",
       "SNOTEL:990_WA_SNTL       27.50       28.60       31.50       31.80   \n",
       "SNOTEL:992_UT_SNTL        4.10        4.10        4.40        4.50   \n",
       "SNOTEL:999_WA_SNTL       33.00       36.30       40.60       42.40   \n",
       "\n",
       "                    2013-01-29  2013-02-05  2013-02-12  2013-02-19  \\\n",
       "station_id                                                           \n",
       "CDEC:ADM                  7.40        7.60        7.40        8.00   \n",
       "CDEC:AGP                 18.03       17.70       17.65       16.66   \n",
       "CDEC:ALP                 13.39       13.25       14.30       13.95   \n",
       "CDEC:BCB                  4.67        4.90        4.90        5.06   \n",
       "CDEC:BCH                  3.96        4.44        5.40        5.16   \n",
       "...                        ...         ...         ...         ...   \n",
       "SNOTEL:988_ID_SNTL       23.30       23.80       24.60       25.20   \n",
       "SNOTEL:989_ID_SNTL       11.70       14.10       14.50       14.50   \n",
       "SNOTEL:990_WA_SNTL       33.10       33.80       35.20       36.50   \n",
       "SNOTEL:992_UT_SNTL        4.80        5.10        5.20        5.20   \n",
       "SNOTEL:999_WA_SNTL       46.60       50.20       53.90       56.40   \n",
       "\n",
       "                    2013-02-26  2013-03-05  ...  2019-07-05  2019-07-13  \\\n",
       "station_id                                  ...                           \n",
       "CDEC:ADM                  8.00        8.00  ...     7.65006     7.65006   \n",
       "CDEC:AGP                 17.21       16.26  ...     7.65006     7.65006   \n",
       "CDEC:ALP                 15.73       15.41  ...     0.00000     0.00000   \n",
       "CDEC:BCB                  5.11        5.23  ...     7.65006     7.65006   \n",
       "CDEC:BCH                  3.60        1.80  ...     0.24000     0.24000   \n",
       "...                        ...         ...  ...         ...         ...   \n",
       "SNOTEL:988_ID_SNTL       26.70       28.20  ...     0.00000     0.00000   \n",
       "SNOTEL:989_ID_SNTL       17.00       18.40  ...     0.00000     0.00000   \n",
       "SNOTEL:990_WA_SNTL       38.10       39.60  ...     0.00000     0.00000   \n",
       "SNOTEL:992_UT_SNTL        6.00        6.60  ...     0.00000     0.00000   \n",
       "SNOTEL:999_WA_SNTL       61.60       65.90  ...     0.00000     0.00000   \n",
       "\n",
       "                    2019-07-14  2019-07-15  2019-07-16  2019-12-03  \\\n",
       "station_id                                                           \n",
       "CDEC:ADM               7.65006    0.990189    0.735849    0.700000   \n",
       "CDEC:AGP               7.65006    0.990189    0.735849    0.000000   \n",
       "CDEC:ALP               0.00000    0.000000    0.000000    5.690000   \n",
       "CDEC:BCB               7.65006    0.990189    0.735849    6.667174   \n",
       "CDEC:BCH               0.24000    0.240000    0.240000    2.880000   \n",
       "...                        ...         ...         ...         ...   \n",
       "SNOTEL:988_ID_SNTL     0.00000    0.000000    0.000000    5.300000   \n",
       "SNOTEL:989_ID_SNTL     0.00000    0.000000    0.000000    0.300000   \n",
       "SNOTEL:990_WA_SNTL     0.00000    0.000000    0.000000    0.900000   \n",
       "SNOTEL:992_UT_SNTL     0.00000    0.000000    0.000000    2.000000   \n",
       "SNOTEL:999_WA_SNTL     0.00000    0.000000    0.000000    1.600000   \n",
       "\n",
       "                    2019-12-10  2019-12-17  2019-12-24  2019-12-31  \n",
       "station_id                                                          \n",
       "CDEC:ADM              1.200000    3.400000    3.700000    3.400000  \n",
       "CDEC:AGP              0.600000    0.200000    0.000000    0.000000  \n",
       "CDEC:ALP              8.040000   10.740000   12.670000   12.570000  \n",
       "CDEC:BCB              8.578298    9.606105   10.934149   11.442903  \n",
       "CDEC:BCH              4.560000    4.680000    5.040000    6.000000  \n",
       "...                        ...         ...         ...         ...  \n",
       "SNOTEL:988_ID_SNTL    7.800000    8.700000   14.500000   14.400000  \n",
       "SNOTEL:989_ID_SNTL    0.200000    1.600000    2.700000    3.000000  \n",
       "SNOTEL:990_WA_SNTL    0.800000    2.300000    8.700000    8.600000  \n",
       "SNOTEL:992_UT_SNTL    2.200000    3.500000    3.600000    3.800000  \n",
       "SNOTEL:999_WA_SNTL    0.000000    2.900000    8.400000    9.300000  \n",
       "\n",
       "[671 rows x 312 columns]"
      ]
     },
     "execution_count": 3,
     "metadata": {},
     "output_type": "execute_result"
    }
   ],
   "source": [
    "import pandas as pd\n",
    "\n",
    "snotel_path = f\"{HOME}/SWEMLv2.0/data/SNOTEL_Data/\"\n",
    "Snotelobs_path = f\"{snotel_path}ground_measures.parquet\"\n",
    "#Snotelobs_path = f\"{snotel_path}ground_measures_dp.parquet\"\n",
    "snotel_data = pd.read_parquet(Snotelobs_path)\n",
    "snotel_data"
   ]
  },
  {
   "cell_type": "code",
   "execution_count": 32,
   "id": "f3bfa65b",
   "metadata": {},
   "outputs": [
    {
     "data": {
      "text/plain": [
       "Index(['2013-01-01', '2013-01-08', '2013-01-15', '2013-01-22', '2013-01-29',\n",
       "       '2013-02-05', '2013-02-12', '2013-02-19', '2013-02-26', '2013-03-05',\n",
       "       ...\n",
       "       '2019-07-05', '2019-07-13', '2019-07-14', '2019-07-15', '2019-07-16',\n",
       "       '2019-12-03', '2019-12-10', '2019-12-17', '2019-12-24', '2019-12-31'],\n",
       "      dtype='object', length=312)"
      ]
     },
     "execution_count": 32,
     "metadata": {},
     "output_type": "execute_result"
    }
   ],
   "source": [
    "cols = snotel_data.columns\n",
    "cols"
   ]
  },
  {
   "cell_type": "code",
   "execution_count": 7,
   "id": "2bafd7d2",
   "metadata": {},
   "outputs": [
    {
     "data": {
      "text/html": [
       "<div>\n",
       "<style scoped>\n",
       "    .dataframe tbody tr th:only-of-type {\n",
       "        vertical-align: middle;\n",
       "    }\n",
       "\n",
       "    .dataframe tbody tr th {\n",
       "        vertical-align: top;\n",
       "    }\n",
       "\n",
       "    .dataframe thead th {\n",
       "        text-align: right;\n",
       "    }\n",
       "</style>\n",
       "<table border=\"1\" class=\"dataframe\">\n",
       "  <thead>\n",
       "    <tr style=\"text-align: right;\">\n",
       "      <th>dates</th>\n",
       "      <th>station_id</th>\n",
       "      <th>2012-10-01</th>\n",
       "      <th>2012-10-02</th>\n",
       "      <th>2012-10-03</th>\n",
       "      <th>2012-10-04</th>\n",
       "      <th>2012-10-05</th>\n",
       "      <th>2012-10-06</th>\n",
       "      <th>2012-10-07</th>\n",
       "      <th>2012-10-08</th>\n",
       "      <th>2012-10-09</th>\n",
       "      <th>...</th>\n",
       "      <th>2019-07-22</th>\n",
       "      <th>2019-07-23</th>\n",
       "      <th>2019-07-24</th>\n",
       "      <th>2019-07-25</th>\n",
       "      <th>2019-07-26</th>\n",
       "      <th>2019-07-27</th>\n",
       "      <th>2019-07-28</th>\n",
       "      <th>2019-07-29</th>\n",
       "      <th>2019-07-30</th>\n",
       "      <th>2019-07-31</th>\n",
       "    </tr>\n",
       "  </thead>\n",
       "  <tbody>\n",
       "    <tr>\n",
       "      <th>0</th>\n",
       "      <td>CDEC:ADM</td>\n",
       "      <td>0.0</td>\n",
       "      <td>0.0</td>\n",
       "      <td>0.0</td>\n",
       "      <td>0.0</td>\n",
       "      <td>0.0</td>\n",
       "      <td>0.0</td>\n",
       "      <td>0.0</td>\n",
       "      <td>0.0</td>\n",
       "      <td>0.0</td>\n",
       "      <td>...</td>\n",
       "      <td>-9999.0</td>\n",
       "      <td>-9999.0</td>\n",
       "      <td>-9999.0</td>\n",
       "      <td>-9999.0</td>\n",
       "      <td>-9999.0</td>\n",
       "      <td>-9999.0</td>\n",
       "      <td>-9999.0</td>\n",
       "      <td>-9999.0</td>\n",
       "      <td>-9999.0</td>\n",
       "      <td>-9999.0</td>\n",
       "    </tr>\n",
       "    <tr>\n",
       "      <th>1</th>\n",
       "      <td>CDEC:AGP</td>\n",
       "      <td>-9999.0</td>\n",
       "      <td>-9999.0</td>\n",
       "      <td>0.0</td>\n",
       "      <td>0.0</td>\n",
       "      <td>0.0</td>\n",
       "      <td>0.0</td>\n",
       "      <td>0.0</td>\n",
       "      <td>0.0</td>\n",
       "      <td>0.0</td>\n",
       "      <td>...</td>\n",
       "      <td>-9999.0</td>\n",
       "      <td>-9999.0</td>\n",
       "      <td>-9999.0</td>\n",
       "      <td>-9999.0</td>\n",
       "      <td>-9999.0</td>\n",
       "      <td>-9999.0</td>\n",
       "      <td>-9999.0</td>\n",
       "      <td>-9999.0</td>\n",
       "      <td>-9999.0</td>\n",
       "      <td>-9999.0</td>\n",
       "    </tr>\n",
       "    <tr>\n",
       "      <th>2</th>\n",
       "      <td>CDEC:ALP</td>\n",
       "      <td>2.4</td>\n",
       "      <td>2.2</td>\n",
       "      <td>2.1</td>\n",
       "      <td>1.9</td>\n",
       "      <td>1.5</td>\n",
       "      <td>1.4</td>\n",
       "      <td>1.1</td>\n",
       "      <td>0.9</td>\n",
       "      <td>0.8</td>\n",
       "      <td>...</td>\n",
       "      <td>0.0</td>\n",
       "      <td>0.0</td>\n",
       "      <td>0.0</td>\n",
       "      <td>0.0</td>\n",
       "      <td>0.0</td>\n",
       "      <td>0.0</td>\n",
       "      <td>0.0</td>\n",
       "      <td>0.0</td>\n",
       "      <td>0.0</td>\n",
       "      <td>0.0</td>\n",
       "    </tr>\n",
       "    <tr>\n",
       "      <th>3</th>\n",
       "      <td>CDEC:BCB</td>\n",
       "      <td>9.8</td>\n",
       "      <td>9.8</td>\n",
       "      <td>9.7</td>\n",
       "      <td>9.7</td>\n",
       "      <td>9.8</td>\n",
       "      <td>9.9</td>\n",
       "      <td>9.9</td>\n",
       "      <td>10.0</td>\n",
       "      <td>10.1</td>\n",
       "      <td>...</td>\n",
       "      <td>-9999.0</td>\n",
       "      <td>-9999.0</td>\n",
       "      <td>-9999.0</td>\n",
       "      <td>-9999.0</td>\n",
       "      <td>-9999.0</td>\n",
       "      <td>-9999.0</td>\n",
       "      <td>-9999.0</td>\n",
       "      <td>-9999.0</td>\n",
       "      <td>-9999.0</td>\n",
       "      <td>-9999.0</td>\n",
       "    </tr>\n",
       "    <tr>\n",
       "      <th>4</th>\n",
       "      <td>CDEC:BCH</td>\n",
       "      <td>-9999.0</td>\n",
       "      <td>-9999.0</td>\n",
       "      <td>0.0</td>\n",
       "      <td>-9999.0</td>\n",
       "      <td>-9999.0</td>\n",
       "      <td>-9999.0</td>\n",
       "      <td>-9999.0</td>\n",
       "      <td>-9999.0</td>\n",
       "      <td>0.3</td>\n",
       "      <td>...</td>\n",
       "      <td>0.6</td>\n",
       "      <td>0.9</td>\n",
       "      <td>0.6</td>\n",
       "      <td>0.9</td>\n",
       "      <td>0.9</td>\n",
       "      <td>0.9</td>\n",
       "      <td>0.9</td>\n",
       "      <td>0.9</td>\n",
       "      <td>0.6</td>\n",
       "      <td>0.6</td>\n",
       "    </tr>\n",
       "    <tr>\n",
       "      <th>...</th>\n",
       "      <td>...</td>\n",
       "      <td>...</td>\n",
       "      <td>...</td>\n",
       "      <td>...</td>\n",
       "      <td>...</td>\n",
       "      <td>...</td>\n",
       "      <td>...</td>\n",
       "      <td>...</td>\n",
       "      <td>...</td>\n",
       "      <td>...</td>\n",
       "      <td>...</td>\n",
       "      <td>...</td>\n",
       "      <td>...</td>\n",
       "      <td>...</td>\n",
       "      <td>...</td>\n",
       "      <td>...</td>\n",
       "      <td>...</td>\n",
       "      <td>...</td>\n",
       "      <td>...</td>\n",
       "      <td>...</td>\n",
       "      <td>...</td>\n",
       "    </tr>\n",
       "    <tr>\n",
       "      <th>666</th>\n",
       "      <td>SNOTEL:988_ID_SNTL</td>\n",
       "      <td>0.0</td>\n",
       "      <td>0.0</td>\n",
       "      <td>0.0</td>\n",
       "      <td>0.0</td>\n",
       "      <td>0.0</td>\n",
       "      <td>0.0</td>\n",
       "      <td>0.0</td>\n",
       "      <td>0.0</td>\n",
       "      <td>0.0</td>\n",
       "      <td>...</td>\n",
       "      <td>0.0</td>\n",
       "      <td>0.0</td>\n",
       "      <td>0.0</td>\n",
       "      <td>0.0</td>\n",
       "      <td>0.0</td>\n",
       "      <td>0.0</td>\n",
       "      <td>0.0</td>\n",
       "      <td>0.0</td>\n",
       "      <td>0.0</td>\n",
       "      <td>0.0</td>\n",
       "    </tr>\n",
       "    <tr>\n",
       "      <th>667</th>\n",
       "      <td>SNOTEL:989_ID_SNTL</td>\n",
       "      <td>0.0</td>\n",
       "      <td>0.0</td>\n",
       "      <td>0.0</td>\n",
       "      <td>0.0</td>\n",
       "      <td>0.0</td>\n",
       "      <td>0.0</td>\n",
       "      <td>0.0</td>\n",
       "      <td>0.0</td>\n",
       "      <td>0.0</td>\n",
       "      <td>...</td>\n",
       "      <td>0.0</td>\n",
       "      <td>0.0</td>\n",
       "      <td>0.0</td>\n",
       "      <td>0.0</td>\n",
       "      <td>0.0</td>\n",
       "      <td>0.0</td>\n",
       "      <td>0.0</td>\n",
       "      <td>0.0</td>\n",
       "      <td>0.0</td>\n",
       "      <td>0.0</td>\n",
       "    </tr>\n",
       "    <tr>\n",
       "      <th>668</th>\n",
       "      <td>SNOTEL:990_WA_SNTL</td>\n",
       "      <td>0.0</td>\n",
       "      <td>0.0</td>\n",
       "      <td>0.0</td>\n",
       "      <td>0.0</td>\n",
       "      <td>0.0</td>\n",
       "      <td>0.0</td>\n",
       "      <td>0.0</td>\n",
       "      <td>0.0</td>\n",
       "      <td>0.0</td>\n",
       "      <td>...</td>\n",
       "      <td>0.0</td>\n",
       "      <td>0.0</td>\n",
       "      <td>0.0</td>\n",
       "      <td>0.0</td>\n",
       "      <td>0.0</td>\n",
       "      <td>0.0</td>\n",
       "      <td>0.0</td>\n",
       "      <td>0.0</td>\n",
       "      <td>0.0</td>\n",
       "      <td>0.0</td>\n",
       "    </tr>\n",
       "    <tr>\n",
       "      <th>669</th>\n",
       "      <td>SNOTEL:992_UT_SNTL</td>\n",
       "      <td>0.0</td>\n",
       "      <td>0.0</td>\n",
       "      <td>0.0</td>\n",
       "      <td>0.0</td>\n",
       "      <td>0.0</td>\n",
       "      <td>0.0</td>\n",
       "      <td>0.0</td>\n",
       "      <td>0.0</td>\n",
       "      <td>0.0</td>\n",
       "      <td>...</td>\n",
       "      <td>0.0</td>\n",
       "      <td>0.0</td>\n",
       "      <td>0.0</td>\n",
       "      <td>0.0</td>\n",
       "      <td>0.0</td>\n",
       "      <td>0.0</td>\n",
       "      <td>0.0</td>\n",
       "      <td>0.0</td>\n",
       "      <td>0.0</td>\n",
       "      <td>0.0</td>\n",
       "    </tr>\n",
       "    <tr>\n",
       "      <th>670</th>\n",
       "      <td>SNOTEL:999_WA_SNTL</td>\n",
       "      <td>0.0</td>\n",
       "      <td>0.0</td>\n",
       "      <td>0.0</td>\n",
       "      <td>0.0</td>\n",
       "      <td>0.0</td>\n",
       "      <td>0.0</td>\n",
       "      <td>0.0</td>\n",
       "      <td>0.0</td>\n",
       "      <td>0.0</td>\n",
       "      <td>...</td>\n",
       "      <td>0.0</td>\n",
       "      <td>0.0</td>\n",
       "      <td>0.0</td>\n",
       "      <td>0.0</td>\n",
       "      <td>0.0</td>\n",
       "      <td>0.0</td>\n",
       "      <td>0.0</td>\n",
       "      <td>0.0</td>\n",
       "      <td>0.0</td>\n",
       "      <td>0.0</td>\n",
       "    </tr>\n",
       "  </tbody>\n",
       "</table>\n",
       "<p>671 rows × 2130 columns</p>\n",
       "</div>"
      ],
      "text/plain": [
       "dates          station_id  2012-10-01  2012-10-02  2012-10-03  2012-10-04  \\\n",
       "0                CDEC:ADM         0.0         0.0         0.0         0.0   \n",
       "1                CDEC:AGP     -9999.0     -9999.0         0.0         0.0   \n",
       "2                CDEC:ALP         2.4         2.2         2.1         1.9   \n",
       "3                CDEC:BCB         9.8         9.8         9.7         9.7   \n",
       "4                CDEC:BCH     -9999.0     -9999.0         0.0     -9999.0   \n",
       "..                    ...         ...         ...         ...         ...   \n",
       "666    SNOTEL:988_ID_SNTL         0.0         0.0         0.0         0.0   \n",
       "667    SNOTEL:989_ID_SNTL         0.0         0.0         0.0         0.0   \n",
       "668    SNOTEL:990_WA_SNTL         0.0         0.0         0.0         0.0   \n",
       "669    SNOTEL:992_UT_SNTL         0.0         0.0         0.0         0.0   \n",
       "670    SNOTEL:999_WA_SNTL         0.0         0.0         0.0         0.0   \n",
       "\n",
       "dates  2012-10-05  2012-10-06  2012-10-07  2012-10-08  2012-10-09  ...  \\\n",
       "0             0.0         0.0         0.0         0.0         0.0  ...   \n",
       "1             0.0         0.0         0.0         0.0         0.0  ...   \n",
       "2             1.5         1.4         1.1         0.9         0.8  ...   \n",
       "3             9.8         9.9         9.9        10.0        10.1  ...   \n",
       "4         -9999.0     -9999.0     -9999.0     -9999.0         0.3  ...   \n",
       "..            ...         ...         ...         ...         ...  ...   \n",
       "666           0.0         0.0         0.0         0.0         0.0  ...   \n",
       "667           0.0         0.0         0.0         0.0         0.0  ...   \n",
       "668           0.0         0.0         0.0         0.0         0.0  ...   \n",
       "669           0.0         0.0         0.0         0.0         0.0  ...   \n",
       "670           0.0         0.0         0.0         0.0         0.0  ...   \n",
       "\n",
       "dates  2019-07-22  2019-07-23  2019-07-24  2019-07-25  2019-07-26  2019-07-27  \\\n",
       "0         -9999.0     -9999.0     -9999.0     -9999.0     -9999.0     -9999.0   \n",
       "1         -9999.0     -9999.0     -9999.0     -9999.0     -9999.0     -9999.0   \n",
       "2             0.0         0.0         0.0         0.0         0.0         0.0   \n",
       "3         -9999.0     -9999.0     -9999.0     -9999.0     -9999.0     -9999.0   \n",
       "4             0.6         0.9         0.6         0.9         0.9         0.9   \n",
       "..            ...         ...         ...         ...         ...         ...   \n",
       "666           0.0         0.0         0.0         0.0         0.0         0.0   \n",
       "667           0.0         0.0         0.0         0.0         0.0         0.0   \n",
       "668           0.0         0.0         0.0         0.0         0.0         0.0   \n",
       "669           0.0         0.0         0.0         0.0         0.0         0.0   \n",
       "670           0.0         0.0         0.0         0.0         0.0         0.0   \n",
       "\n",
       "dates  2019-07-28  2019-07-29  2019-07-30  2019-07-31  \n",
       "0         -9999.0     -9999.0     -9999.0     -9999.0  \n",
       "1         -9999.0     -9999.0     -9999.0     -9999.0  \n",
       "2             0.0         0.0         0.0         0.0  \n",
       "3         -9999.0     -9999.0     -9999.0     -9999.0  \n",
       "4             0.9         0.9         0.6         0.6  \n",
       "..            ...         ...         ...         ...  \n",
       "666           0.0         0.0         0.0         0.0  \n",
       "667           0.0         0.0         0.0         0.0  \n",
       "668           0.0         0.0         0.0         0.0  \n",
       "669           0.0         0.0         0.0         0.0  \n",
       "670           0.0         0.0         0.0         0.0  \n",
       "\n",
       "[671 rows x 2130 columns]"
      ]
     },
     "execution_count": 7,
     "metadata": {},
     "output_type": "execute_result"
    }
   ],
   "source": [
    "snotel_path = f\"{HOME}/SWEMLv2.0/data/SNOTEL_Data/\"\n",
    "#Snotelobs_path = f\"{snotel_path}ground_measures.parquet\"\n",
    "Snotelobs_path = f\"{snotel_path}ground_measures_dp.parquet\"\n",
    "snotel_data = pd.read_parquet(Snotelobs_path)\n",
    "snotel_data = snotel_data.T\n",
    "snotel_data.reset_index(inplace = True)\n",
    "snotel_data.rename(columns={'index':'station_id'}, inplace = True)\n",
    "snotel_data"
   ]
  },
  {
   "cell_type": "code",
   "execution_count": null,
   "id": "c7c1a069",
   "metadata": {},
   "outputs": [],
   "source": []
  },
  {
   "cell_type": "code",
   "execution_count": null,
   "id": "a05d378d",
   "metadata": {},
   "outputs": [],
   "source": []
  },
  {
   "cell_type": "code",
   "execution_count": null,
   "id": "3b7816b1",
   "metadata": {},
   "outputs": [],
   "source": [
    "import GeoDF\n",
    "\n",
    "output_res = 300\n",
    "\n",
    "#Connect cell ids with ASO obs and snotel obs to geospatial features\n",
    "for region in region_list:\n",
    "    path = f\"{HOME}/SWEMLv2.0/data/ASO/{region}/{output_res}M_SWE_parquet\"\n",
    "    if os.path.isdir(path) == True:\n",
    "        print(region)\n",
    "        GeoDF.add_geospatial_threaded(region, output_res)\n",
    "    else:\n",
    "        print(f\"No ASO data for {region}\")"
   ]
  },
  {
   "cell_type": "markdown",
   "id": "facee8dc",
   "metadata": {},
   "source": [
    "# Get NASA VIIRS fraction snow covered area for each location \n",
    "\n",
    "* Make sure the code grabs all dates for each region\n"
   ]
  },
  {
   "cell_type": "code",
   "execution_count": null,
   "id": "8e5fe64b",
   "metadata": {},
   "outputs": [],
   "source": [
    "# import importlib\n",
    "# importlib.reload(get_VIIRS_SCA)\n",
    "\n",
    "import get_VIIRS_SCA\n",
    "output_res = 300\n",
    "threshold = 20\n",
    "\n",
    "#check to see if the VIIRS data is available locally, if not, get from CIROH AWS - I think all of this data is for the incorrect year...\n",
    "#get_VIIRS_SCA.get_VIIRS_from_AWS()\n",
    "\n",
    "#Connect VIIRS data to dataframes\n",
    "for region in region_list:\n",
    "    path = f\"{HOME}/SWEMLv2.0/data/ASO/{region}/{output_res}M_SWE_parquet\"\n",
    "    if os.path.isdir(path) == True:\n",
    "        print(region)\n",
    "        get_VIIRS_SCA.augment_SCA_mutliprocessing(region, output_res, threshold)\n",
    "    else:\n",
    "        print(f\"No ASO data for {region}\")\n"
   ]
  },
  {
   "cell_type": "code",
   "execution_count": 4,
   "id": "45a59828",
   "metadata": {},
   "outputs": [
    {
     "name": "stdout",
     "output_type": "stream",
     "text": [
      "GBasin\n",
      "['2013-04-03', '2013-04-29', '2013-05-03', '2013-05-25', '2013-06-01', '2013-06-08', '2014-03-20', '2014-03-23', '2014-03-24', '2014-04-06', '2014-04-07', '2014-04-14', '2014-04-20', '2014-04-23', '2014-04-28', '2014-04-29', '2014-05-02', '2014-05-03', '2014-05-11', '2014-05-12', '2014-05-17', '2014-05-27', '2014-05-31', '2014-06-05', '2015-02-17', '2015-03-05', '2015-03-25', '2015-03-26', '2015-04-03', '2015-04-09', '2015-04-12', '2015-04-15', '2015-04-26', '2015-04-27', '2015-04-28', '2015-05-03', '2015-05-27', '2015-05-28', '2015-05-31', '2015-06-08', '2015-06-09', '2016-03-26', '2016-04-01', '2016-04-07', '2016-04-16', '2016-04-26', '2016-05-09', '2016-05-27', '2016-06-07', '2016-06-14', '2016-06-21', '2016-06-26', '2016-07-08', '2017-01-28', '2017-01-29', '2017-07-17', '2017-07-18', '2017-07-19', '2017-07-27', '2017-08-15', '2017-08-16', '2018-03-04', '2018-04-22', '2018-04-23', '2018-04-25', '2018-04-26', '2018-05-28', '2018-06-01', '2018-06-02', '2019-03-09', '2019-03-15', '2019-03-16', '2019-03-17', '2019-03-24', '2019-03-25', '2019-03-26', '2019-03-29', '2019-04-17', '2019-04-18', '2019-04-21', '2019-04-27', '2019-04-28', '2019-05-01', '2019-05-02', '2019-05-03', '2019-06-04', '2019-06-05', '2019-06-08', '2019-06-09', '2019-06-11', '2019-06-13', '2019-06-14', '2019-07-03', '2019-07-04', '2019-07-05', '2019-07-13', '2019-07-14', '2019-07-15', '2019-07-16']\n",
      "[2013, 2014, 2015, 2016, 2017, 2018, 2019] 2012-09-30 2019-07-17\n",
      "Getting daily precipitation data for 299705 sites\n"
     ]
    },
    {
     "name": "stderr",
     "output_type": "stream",
     "text": [
      "  0%|          | 0/299705 [00:00<?, ?it/s]"
     ]
    },
    {
     "name": "stderr",
     "output_type": "stream",
     "text": [
      "100%|██████████| 299705/299705 [01:01<00:00, 4852.16it/s]\n"
     ]
    },
    {
     "ename": "KeyboardInterrupt",
     "evalue": "",
     "output_type": "error",
     "traceback": [
      "\u001b[0;31m---------------------------------------------------------------------------\u001b[0m",
      "\u001b[0;31mKeyboardInterrupt\u001b[0m                         Traceback (most recent call last)",
      "Cell \u001b[0;32mIn[4], line 23\u001b[0m\n\u001b[1;32m     21\u001b[0m \u001b[38;5;28;01mif\u001b[39;00m os\u001b[38;5;241m.\u001b[39mpath\u001b[38;5;241m.\u001b[39misdir(path) \u001b[38;5;241m==\u001b[39m \u001b[38;5;28;01mTrue\u001b[39;00m:\n\u001b[1;32m     22\u001b[0m     \u001b[38;5;28mprint\u001b[39m(region)\n\u001b[0;32m---> 23\u001b[0m     \u001b[43mget_Precip\u001b[49m\u001b[38;5;241;43m.\u001b[39;49m\u001b[43mget_precip_threaded\u001b[49m\u001b[43m(\u001b[49m\u001b[43mregion\u001b[49m\u001b[43m,\u001b[49m\u001b[43m \u001b[49m\u001b[43moutput_res\u001b[49m\u001b[43m,\u001b[49m\u001b[43m \u001b[49m\u001b[43myears\u001b[49m\u001b[43m)\u001b[49m\n\u001b[1;32m     24\u001b[0m \u001b[38;5;28;01melse\u001b[39;00m:\n\u001b[1;32m     25\u001b[0m     \u001b[38;5;28mprint\u001b[39m(\u001b[38;5;124mf\u001b[39m\u001b[38;5;124m\"\u001b[39m\u001b[38;5;124mNo ASO data for \u001b[39m\u001b[38;5;132;01m{\u001b[39;00mregion\u001b[38;5;132;01m}\u001b[39;00m\u001b[38;5;124m\"\u001b[39m)\n",
      "File \u001b[0;32m~/SWEMLv2.0/Dataprocessing/get_Precip.py:144\u001b[0m, in \u001b[0;36mget_precip_threaded\u001b[0;34m(region, output_res, WYs)\u001b[0m\n\u001b[1;32m    141\u001b[0m \u001b[38;5;28mprint\u001b[39m(\u001b[38;5;124mf\u001b[39m\u001b[38;5;124m\"\u001b[39m\u001b[38;5;124mGetting daily precipitation data for \u001b[39m\u001b[38;5;132;01m{\u001b[39;00mnsites\u001b[38;5;132;01m}\u001b[39;00m\u001b[38;5;124m sites\u001b[39m\u001b[38;5;124m\"\u001b[39m)\n\u001b[1;32m    142\u001b[0m \u001b[38;5;66;03m#create dictionary for year\u001b[39;00m\n\u001b[1;32m    143\u001b[0m \u001b[38;5;66;03m#PrecipDict ={}\u001b[39;00m\n\u001b[0;32m--> 144\u001b[0m \u001b[38;5;28;01mwith\u001b[39;00m cf\u001b[38;5;241m.\u001b[39mThreadPoolExecutor(max_workers\u001b[38;5;241m=\u001b[39m\u001b[38;5;28;01mNone\u001b[39;00m) \u001b[38;5;28;01mas\u001b[39;00m executor: \u001b[38;5;66;03m#seems that they dont like when we shoot tons of threads to get data...\u001b[39;00m\n\u001b[1;32m    145\u001b[0m     {executor\u001b[38;5;241m.\u001b[39msubmit(GetSeasonalAccumulatedPrecipSingleSite, (Precippath, precip, output_res, meta\u001b[38;5;241m.\u001b[39miloc[i][\u001b[38;5;124m'\u001b[39m\u001b[38;5;124mcen_lat\u001b[39m\u001b[38;5;124m'\u001b[39m], meta\u001b[38;5;241m.\u001b[39miloc[i][\u001b[38;5;124m'\u001b[39m\u001b[38;5;124mcen_lon\u001b[39m\u001b[38;5;124m'\u001b[39m], meta\u001b[38;5;241m.\u001b[39miloc[i][\u001b[38;5;124m'\u001b[39m\u001b[38;5;124mcell_id\u001b[39m\u001b[38;5;124m'\u001b[39m], dates, ASO_WYs)):\n\u001b[1;32m    146\u001b[0m             i \u001b[38;5;28;01mfor\u001b[39;00m i \u001b[38;5;129;01min\u001b[39;00m tqdm(\u001b[38;5;28mrange\u001b[39m(nsites))}\n\u001b[1;32m    148\u001b[0m \u001b[38;5;66;03m# for i in tqdm(range(nsites)): #trying for loop bc multithreader not working....\u001b[39;00m\n\u001b[1;32m    149\u001b[0m \u001b[38;5;66;03m#     args = Precippath, precip, output_res, meta.iloc[i]['cen_lat'], meta.iloc[i]['cen_lon'], meta.iloc[i]['cell_id'], dates, ASO_WYs\u001b[39;00m\n\u001b[1;32m    150\u001b[0m \u001b[38;5;66;03m#     GetSeasonalAccumulatedPrecipSingleSite(args)\u001b[39;00m\n",
      "File \u001b[0;32m~/envs/SWEML_310/lib/python3.10/concurrent/futures/_base.py:649\u001b[0m, in \u001b[0;36mExecutor.__exit__\u001b[0;34m(self, exc_type, exc_val, exc_tb)\u001b[0m\n\u001b[1;32m    648\u001b[0m \u001b[38;5;28;01mdef\u001b[39;00m \u001b[38;5;21m__exit__\u001b[39m(\u001b[38;5;28mself\u001b[39m, exc_type, exc_val, exc_tb):\n\u001b[0;32m--> 649\u001b[0m     \u001b[38;5;28;43mself\u001b[39;49m\u001b[38;5;241;43m.\u001b[39;49m\u001b[43mshutdown\u001b[49m\u001b[43m(\u001b[49m\u001b[43mwait\u001b[49m\u001b[38;5;241;43m=\u001b[39;49m\u001b[38;5;28;43;01mTrue\u001b[39;49;00m\u001b[43m)\u001b[49m\n\u001b[1;32m    650\u001b[0m     \u001b[38;5;28;01mreturn\u001b[39;00m \u001b[38;5;28;01mFalse\u001b[39;00m\n",
      "File \u001b[0;32m~/envs/SWEML_310/lib/python3.10/concurrent/futures/thread.py:235\u001b[0m, in \u001b[0;36mThreadPoolExecutor.shutdown\u001b[0;34m(self, wait, cancel_futures)\u001b[0m\n\u001b[1;32m    233\u001b[0m \u001b[38;5;28;01mif\u001b[39;00m wait:\n\u001b[1;32m    234\u001b[0m     \u001b[38;5;28;01mfor\u001b[39;00m t \u001b[38;5;129;01min\u001b[39;00m \u001b[38;5;28mself\u001b[39m\u001b[38;5;241m.\u001b[39m_threads:\n\u001b[0;32m--> 235\u001b[0m         \u001b[43mt\u001b[49m\u001b[38;5;241;43m.\u001b[39;49m\u001b[43mjoin\u001b[49m\u001b[43m(\u001b[49m\u001b[43m)\u001b[49m\n",
      "File \u001b[0;32m~/envs/SWEML_310/lib/python3.10/threading.py:1096\u001b[0m, in \u001b[0;36mThread.join\u001b[0;34m(self, timeout)\u001b[0m\n\u001b[1;32m   1093\u001b[0m     \u001b[38;5;28;01mraise\u001b[39;00m \u001b[38;5;167;01mRuntimeError\u001b[39;00m(\u001b[38;5;124m\"\u001b[39m\u001b[38;5;124mcannot join current thread\u001b[39m\u001b[38;5;124m\"\u001b[39m)\n\u001b[1;32m   1095\u001b[0m \u001b[38;5;28;01mif\u001b[39;00m timeout \u001b[38;5;129;01mis\u001b[39;00m \u001b[38;5;28;01mNone\u001b[39;00m:\n\u001b[0;32m-> 1096\u001b[0m     \u001b[38;5;28;43mself\u001b[39;49m\u001b[38;5;241;43m.\u001b[39;49m\u001b[43m_wait_for_tstate_lock\u001b[49m\u001b[43m(\u001b[49m\u001b[43m)\u001b[49m\n\u001b[1;32m   1097\u001b[0m \u001b[38;5;28;01melse\u001b[39;00m:\n\u001b[1;32m   1098\u001b[0m     \u001b[38;5;66;03m# the behavior of a negative timeout isn't documented, but\u001b[39;00m\n\u001b[1;32m   1099\u001b[0m     \u001b[38;5;66;03m# historically .join(timeout=x) for x<0 has acted as if timeout=0\u001b[39;00m\n\u001b[1;32m   1100\u001b[0m     \u001b[38;5;28mself\u001b[39m\u001b[38;5;241m.\u001b[39m_wait_for_tstate_lock(timeout\u001b[38;5;241m=\u001b[39m\u001b[38;5;28mmax\u001b[39m(timeout, \u001b[38;5;241m0\u001b[39m))\n",
      "File \u001b[0;32m~/envs/SWEML_310/lib/python3.10/threading.py:1116\u001b[0m, in \u001b[0;36mThread._wait_for_tstate_lock\u001b[0;34m(self, block, timeout)\u001b[0m\n\u001b[1;32m   1113\u001b[0m     \u001b[38;5;28;01mreturn\u001b[39;00m\n\u001b[1;32m   1115\u001b[0m \u001b[38;5;28;01mtry\u001b[39;00m:\n\u001b[0;32m-> 1116\u001b[0m     \u001b[38;5;28;01mif\u001b[39;00m \u001b[43mlock\u001b[49m\u001b[38;5;241;43m.\u001b[39;49m\u001b[43macquire\u001b[49m\u001b[43m(\u001b[49m\u001b[43mblock\u001b[49m\u001b[43m,\u001b[49m\u001b[43m \u001b[49m\u001b[43mtimeout\u001b[49m\u001b[43m)\u001b[49m:\n\u001b[1;32m   1117\u001b[0m         lock\u001b[38;5;241m.\u001b[39mrelease()\n\u001b[1;32m   1118\u001b[0m         \u001b[38;5;28mself\u001b[39m\u001b[38;5;241m.\u001b[39m_stop()\n",
      "\u001b[0;31mKeyboardInterrupt\u001b[0m: "
     ]
    }
   ],
   "source": [
    "import get_Precip\n",
    "\n",
    "'''\n",
    "note*, if using python > 3.9, you will likely need to change the ee package to from io import StringIO\n",
    "'''\n",
    "\n",
    "import os\n",
    "HOME = os.path.expanduser('~')\n",
    "\n",
    "#gets precipitation for each location, accumulates it through the water year\n",
    "\n",
    "#set start/end date for a water year\n",
    "years = [2013, 2014, 2015, 2016, 2017, 2018, 2019]\n",
    "output_res = 300\n",
    "threshold = 20\n",
    "\n",
    "region_list = ['GBasin']\n",
    "\n",
    "for region in region_list:\n",
    "    path = f\"{HOME}/SWEMLv2.0/data/ASO/{region}/{output_res}M_SWE_parquet\"\n",
    "    if os.path.isdir(path) == True:\n",
    "        print(region)\n",
    "        get_Precip.get_precip_threaded(region, output_res, years)\n",
    "    else:\n",
    "        print(f\"No ASO data for {region}\")\n",
    "\n",
    "    #Connect precipitation to processed DFs\n",
    "    get_Precip.Make_Precip_DF(region, output_res, threshold)\n"
   ]
  },
  {
   "cell_type": "code",
   "execution_count": null,
   "id": "b840e511",
   "metadata": {},
   "outputs": [],
   "source": [
    "import get_Seasonality\n",
    "\n",
    "region = 'N_Co_Rockies'\n",
    "output_res = 300\n",
    "threshold = 20\n",
    "\n",
    "#get the Day of season metric for each dataframe\n",
    "get_Seasonality.get_DOS(region, output_res, threshold)"
   ]
  },
  {
   "cell_type": "markdown",
   "id": "68e51b09",
   "metadata": {},
   "source": [
    "## Next steps\n",
    "* Explore why errors in precip sites above\n",
    "* add in situ obs - seasonality based on the historical neareste x monitoring stations - like a historical average to-date swe value unit hydrograph based on the day of year? This will include a historical time of year of normal swe value and a swe value of year compared to normal\n",
    "* albedo metric\n"
   ]
  },
  {
   "cell_type": "code",
   "execution_count": null,
   "id": "454e917e",
   "metadata": {},
   "outputs": [],
   "source": [
    "import os\n",
    "import pandas as pd\n",
    "import warnings\n",
    "warnings.filterwarnings(\"ignore\")\n",
    "\n",
    "HOME = os.path.expanduser('~')\n",
    "\n",
    "region = 'N_Co_Rockies'\n",
    "output_res = 300\n",
    "\n",
    "Precippath = f\"{HOME}/SWEMLv2.0/data/Precipitation/{region}/{output_res}M_NLDAS_Precip/sites/\"\n",
    "\n",
    "pptfiles = [filename for filename in os.listdir(Precippath)]\n",
    "\n",
    "ppt = pd.read_parquet(f\"{Precippath}NLDAS_PPT_N_Co_Rockies_300M_39.015_-107.027.parquet\")\n",
    "ppt.rename(columns={'datetime':'Date'}, inplace = True)\n",
    "#ppt.set_index('cell_id', inplace=True)\n",
    "\n",
    "ppt.head()\n"
   ]
  },
  {
   "cell_type": "code",
   "execution_count": null,
   "id": "e19154fd",
   "metadata": {},
   "outputs": [],
   "source": [
    "DFpath = '/home/rjohnson18/SWEMLv2.0/data/TrainingDFs/N_Co_Rockies/300M_Resolution/PrecipVIIRSGeoObsDFs_20_fSCA_Thresh'\n",
    "geofile = 'Precip_VIIRS_GeoObsDF_20160404.parquet'\n",
    "\n",
    "GDF = pd.read_parquet(os.path.join(DFpath, geofile))\n",
    "GDF"
   ]
  },
  {
   "cell_type": "code",
   "execution_count": null,
   "id": "253b6b86",
   "metadata": {},
   "outputs": [],
   "source": [
    "import importlib\n",
    "importlib.reload(get_Seasonality)"
   ]
  },
  {
   "cell_type": "code",
   "execution_count": null,
   "id": "e83acb4d",
   "metadata": {},
   "outputs": [],
   "source": [
    "import get_Seasonality\n",
    "\n",
    "region = 'N_Co_Rockies'\n",
    "output_res = 300\n",
    "threshold = 20\n",
    "\n",
    "#process snotel sites to make \"snow hydrograph features\" to determine above/below average WY conditions\n",
    "get_Seasonality.seasonal_snotel()\n",
    "\n",
    "\n",
    "#get the Day of season metric for each dataframe\n",
    "get_Seasonality.add_Seasonality(region, output_res, threshold)"
   ]
  },
  {
   "cell_type": "code",
   "execution_count": null,
   "id": "71b66c22",
   "metadata": {},
   "outputs": [],
   "source": []
  },
  {
   "cell_type": "code",
   "execution_count": null,
   "id": "ef81c762",
   "metadata": {},
   "outputs": [],
   "source": []
  },
  {
   "cell_type": "code",
   "execution_count": null,
   "id": "7b922afb",
   "metadata": {},
   "outputs": [],
   "source": []
  },
  {
   "cell_type": "code",
   "execution_count": null,
   "id": "f82e1041",
   "metadata": {},
   "outputs": [],
   "source": []
  },
  {
   "cell_type": "code",
   "execution_count": null,
   "id": "d6c0cdd4",
   "metadata": {},
   "outputs": [],
   "source": []
  },
  {
   "cell_type": "code",
   "execution_count": null,
   "id": "4cd73bf7",
   "metadata": {},
   "outputs": [],
   "source": [
    "import datetime\n",
    "import pyarrow as pa\n",
    "import pyarrow.parquet as pq\n",
    "import pandas as pd\n",
    "from tqdm import tqdm\n",
    "from tqdm.notebook import tqdm_notebook\n",
    "import os\n",
    "import warnings\n",
    "import pickle as pkl\n",
    "warnings.filterwarnings(\"ignore\")\n",
    "\n",
    "HOME = os.path.expanduser('~')\n",
    "\n",
    "region = 'N_Co_Rockies'\n",
    "output_res = 300\n",
    "threshold = 20\n",
    "\n",
    "\n",
    "DFpath = f'{HOME}/SWEMLv2.0/data/TrainingDFs/{region}/{output_res}M_Resolution/Seasonality_PrecipVIIRSGeoObsDFs_{threshold}_fSCA_Thresh'\n",
    "files = [filename for filename in os.listdir(DFpath)]\n",
    "\n",
    "df = pd.read_parquet(os.path.join(DFpath, files[0]))\n",
    "df"
   ]
  },
  {
   "cell_type": "code",
   "execution_count": null,
   "id": "473c9213",
   "metadata": {},
   "outputs": [],
   "source": [
    "# make a unit hydrograph ish meetric for each site\n",
    "\n",
    "#load data\n",
    "DFpath = f'{HOME}/SWEMLv2.0/data/SNOTEL_Data'\n",
    "snotel =  pd.read_parquet(os.path.join(DFpath, 'seasonal_snotel.parquet'))\n",
    "\n",
    "#find location average peak swe and divide dataframe by this number\n",
    "#snotel = snotel/snotel.max(0)\n",
    "snotel\n",
    "\n",
    "import pandas as pd\n",
    "import numpy as np\n",
    "\n",
    "snotel_path = f\"{HOME}/SWEMLv2.0/data/SNOTEL_Data\"\n",
    "year_df = pd.read_parquet(f\"{snotel_path}/2015_ground_measures_dp.parquet\")\n",
    "\n",
    "year_df = year_df.replace({-9999.0: np.nan})\n",
    "year_df.head(5)\n",
    "\n",
    "cols = year_df.columns\n",
    "year_df[cols[0]] = pd.Series(year_df[cols[0]].values).interpolate(method='nearest').values\n",
    "\n",
    "import matplotlib.pyplot as plt\n",
    "import numpy as np\n",
    "\n",
    "cols = year_df.columns\n",
    "year_df.reset_index(inplace=True)\n",
    "\n",
    "for s in np.arange(0,10,1):\n",
    "\n",
    "       site = cols[s]\n",
    "\n",
    "       fig, ax = plt.subplots(figsize=(22, 12))\n",
    "       ax.plot(year_df.index, year_df[site])\n",
    "\n",
    "       ax.set(xlabel='date', ylabel='SWE',\n",
    "              title=f'{site} SWE time series')\n",
    "       #ax.grid()\n",
    "       plt.xticks(rotation=70)\n",
    "       #fig.savefig(\"test.png\")\n",
    "       plt.show()"
   ]
  },
  {
   "cell_type": "code",
   "execution_count": null,
   "id": "6b8b0521",
   "metadata": {},
   "outputs": [],
   "source": [
    "#load data\n",
    "DFpath = f'{HOME}/SWEMLv2.0/data/SNOTEL_Data'\n",
    "snotel =  pd.read_parquet(os.path.join(DFpath, 'ground_measures.parquet'))\n",
    "\n",
    "#find location average peak swe and divide dataframe by this number\n",
    "#snotel = snotel/snotel.max(0)\n",
    "snotel = snotel.T\n",
    "\n",
    "#change bad values = 7.65006, 9.60454, 27.139000,22.172265, 31.247021\t  change - values to 0\n",
    "cols = snotel.columns\n",
    "for col in cols:\n",
    "    snotel[col][(snotel[col]> 7.65) & (snotel[col]< 7.651)] = 0\n",
    "    snotel[col][(snotel[col]> 9.604) & (snotel[col]< 9.605)] = 0\n",
    "    snotel[col][(snotel[col]> 27.139) & (snotel[col]< 23.140)] = 0\n",
    "    snotel[col][(snotel[col]> 22.172265) & (snotel[col]< 22.172266)] = 0\n",
    "    snotel[col][(snotel[col]> 31.242265) & (snotel[col]< 31.242266)] = 0\n",
    "    snotel[col][snotel[col]<0] = 0\n",
    "snotel.reset_index(inplace = True)\n",
    "\n",
    "#build in data checking script to fix outliers"
   ]
  },
  {
   "cell_type": "code",
   "execution_count": null,
   "id": "369d9af1",
   "metadata": {},
   "outputs": [],
   "source": [
    "snotel.loc[250:300]"
   ]
  },
  {
   "cell_type": "code",
   "execution_count": null,
   "id": "db8a4f6a",
   "metadata": {},
   "outputs": [],
   "source": [
    "import matplotlib.pyplot as plt\n",
    "import numpy as np\n",
    "\n",
    "import pandas as pd\n",
    "import numpy as np\n",
    "\n",
    "snotel_path = f\"{HOME}/SWEMLv2.0/data/SNOTEL_Data\"\n",
    "year_df = pd.read_parquet(f\"{snotel_path}/ground_measures_dp.parquet\")\n",
    "\n",
    "year_df = year_df.replace({-9999.0: np.nan})\n",
    "year_df.head(5)\n",
    "\n",
    "\n",
    "site = cols[0]\n",
    "\n",
    "fig, ax = plt.subplots(figsize=(22, 12))\n",
    "ax.plot(snotel.index, snotel[site])\n",
    "\n",
    "ax.set(xlabel='date', ylabel='SWE',\n",
    "       title=f'{site} SWE time series')\n",
    "#ax.grid()\n",
    "plt.xticks(rotation=70)\n",
    "#fig.savefig(\"test.png\")\n",
    "plt.show()"
   ]
  },
  {
   "cell_type": "code",
   "execution_count": null,
   "id": "ccc60848",
   "metadata": {},
   "outputs": [],
   "source": [
    "def zscore(s, window, thresh=2, return_all=False):\n",
    "    roll = s.rolling(window=window, min_periods=1, center=True)\n",
    "    avg = roll.mean()\n",
    "    std = roll.std(ddof=0)\n",
    "    z = s.sub(avg).div(std)   \n",
    "    m = z.between(-thresh, thresh)\n",
    "    \n",
    "    if return_all:\n",
    "        return z, avg, std, m\n",
    "    return s.where(m, avg)\n",
    "\n",
    "\n",
    "N = 1000\n",
    "np.random.seed(1)\n",
    "#df = pd.DataFrame({'MW': np.sin(np.linspace(0, 10, num=N))+np.random.normal(scale=0.6, size=N)})\n",
    "\n",
    "df =pd.DataFrame(snotel[cols[0]])\n",
    "\n",
    "z, avg, std, m = zscore(df[cols[0]], window=2, return_all=True)\n",
    "\n",
    "ax = plt.subplots(figsize=(22, 12))\n",
    "\n",
    "df[cols[0]].plot(label='data')\n",
    "avg.plot(label='mean')\n",
    "df.loc[~m, cols[0]].plot(label='outliers', marker='o', ls='')\n",
    "avg[~m].plot(label='replacement', marker='o', ls='')\n",
    "plt.legend()"
   ]
  },
  {
   "cell_type": "code",
   "execution_count": null,
   "id": "19d8b7c7",
   "metadata": {},
   "outputs": [],
   "source": [
    "N = 1000\n",
    "np.random.seed(1)\n",
    "df = pd.DataFrame({'MW': np.sin(np.linspace(0, 10, num=N))+np.random.normal(scale=0.6, size=N)})\n",
    "\n",
    "z, avg, std, m = zscore(df['MW'], window=50, return_all=True)\n",
    "\n",
    "ax = plt.subplots(figsize=(22, 12))\n",
    "\n",
    "df['MW'].plot(label='data')\n",
    "avg.plot(label='mean')\n",
    "df.loc[~m, 'MW'].plot(label='outliers', marker='o', ls='')\n",
    "avg[~m].plot(label='replacement', marker='o', ls='')\n",
    "plt.legend()"
   ]
  },
  {
   "cell_type": "code",
   "execution_count": null,
   "id": "0377546f",
   "metadata": {},
   "outputs": [],
   "source": []
  }
 ],
 "metadata": {
  "kernelspec": {
   "display_name": "SWEML_env2",
   "language": "python",
   "name": "python3"
  },
  "language_info": {
   "codemirror_mode": {
    "name": "ipython",
    "version": 3
   },
   "file_extension": ".py",
   "mimetype": "text/x-python",
   "name": "python",
   "nbconvert_exporter": "python",
   "pygments_lexer": "ipython3",
   "version": "3.10.14"
  }
 },
 "nbformat": 4,
 "nbformat_minor": 5
}

{
 "cells": [
  {
   "cell_type": "markdown",
   "id": "9685d109",
   "metadata": {},
   "source": [
    "# Data Processing script for the NSM/SWEML v2.0\n",
    "This .ipynb script uses python module for retrieving NASA ASO observations, locating nearest SNOTEL sites, connecting SNOTEL obs with ASO obs, and add geospatial features to the ML training/testing/hindcast dataframes."
   ]
  },
  {
   "cell_type": "markdown",
   "id": "55e8bd58",
   "metadata": {},
   "source": [
    "# Next steps \n",
    "- Revisist other scripts and convert to PyArrow/parquet Brocli compressed file storage\n",
    "- replace row-by-roy for loops with lamba functions,  for aso_swe_file in tqdm(os.listdir(f\"{TrainingDFpath}/Obsdf\")):  #add file names to aso_swe_files\n",
    "        aso_swe_files.append(aso_swe_file) list comprehension  == tiff_files = [filename for filename in os.listdir(folder_path) if filename.endswith(\".tif\")]\n",
    "- VIIRS\n",
    "- connect precip to DF,\n",
    "- add new sites (e.g., regionval) to training DF with all the respective spatial resolution information\n",
    "- connect regional data together to train model\n",
    "- connect different regions\n",
    "- add precipitation phase features (seasonal accumulated rain precip, seasonal accumulated snow precip as a function of temperature)\n",
    "- explore adding other features stemming from SNOTEL, remote sensing (LULC), Snow Classifications (Sturms), energy balance\n",
    "- add snotel script to functions\n",
    "\n",
    "Put all units in SI, while it should not matter for model training since they are being normalized, they will be more interpretable."
   ]
  },
  {
   "cell_type": "code",
   "execution_count": 2,
   "id": "c2b1ee8b",
   "metadata": {},
   "outputs": [],
   "source": [
    "region_list =    [ 'N_Sierras',\n",
    "                                'Greater_Yellowstone',\n",
    "                                'N_Co_Rockies',\n",
    "                                'SW_Mont',\n",
    "                                'SW_Co_Rockies',\n",
    "                                'GBasin',\n",
    "                                'N_Wasatch',\n",
    "                                'N_Cascade',\n",
    "                                'S_Wasatch',\n",
    "                                'SW_Mtns',\n",
    "                                'E_WA_N_Id_W_Mont',\n",
    "                                'S_Wyoming',\n",
    "                                'SE_Co_Rockies',\n",
    "                                'Sawtooth',\n",
    "                                'Ca_Coast',\n",
    "                                'E_Or',\n",
    "                                'N_Yellowstone',\n",
    "                                'S_Cascade',\n",
    "                                'Wa_Coast',\n",
    "                                'Greater_Glacier']"
   ]
  },
  {
   "cell_type": "code",
   "execution_count": 3,
   "id": "13469889",
   "metadata": {},
   "outputs": [
    {
     "name": "stdout",
     "output_type": "stream",
     "text": [
      "Bounding Box collected for S_Sierras: -120.3763448720203,36.29256774541929,-118.292253412863,38.994985247736324\n",
      "Fetching file URLs in progress for S_Sierras from 2013-04-02T00:00:00Z to 2019-07-19T23:59:59Z\n",
      "Querying for data:\n",
      "\thttps://cmr.earthdata.nasa.gov/search/granules.json?provider=NSIDC_ECS&sort_key[]=start_date&sort_key[]=producer_granule_id&scroll=true&page_size=2000&short_name=ASO_50M_SWE&version=001&version=01&version=1&temporal[]=2013-04-02T00:00:00Z,2019-07-19T23:59:59Z&bounding_box=-120.3763448720203,36.29256774541929,-118.292253412863,38.994985247736324\n",
      "\n",
      "Found 131 matches.\n",
      "['https://n5eil01u.ecs.nsidc.org/DP1/ASO/ASO_50M_SWE.001/2013.04.03/ASO_50M_SWE_USCATB_20130403.tif', 'https://n5eil01u.ecs.nsidc.org/DP1/ASO/ASO_50M_SWE.001/2013.04.03/ASO_50M_SWE_USCATB_20130403.tif.xml', 'https://n5eil01u.ecs.nsidc.org/DP1/ASO/ASO_50M_SWE.001/2013.04.29/ASO_50M_SWE_USCATB_20130429.tif', 'https://n5eil01u.ecs.nsidc.org/DP1/ASO/ASO_50M_SWE.001/2013.04.29/ASO_50M_SWE_USCATB_20130429.tif.xml', 'https://n5eil01u.ecs.nsidc.org/DP1/ASO/ASO_50M_SWE.001/2013.05.03/ASO_50M_SWE_USCATB_20130503.tif', 'https://n5eil01u.ecs.nsidc.org/DP1/ASO/ASO_50M_SWE.001/2013.05.03/ASO_50M_SWE_USCATB_20130503.tif.xml', 'https://n5eil01u.ecs.nsidc.org/DP1/ASO/ASO_50M_SWE.001/2013.05.25/ASO_50M_SWE_USCATB_20130525.tif', 'https://n5eil01u.ecs.nsidc.org/DP1/ASO/ASO_50M_SWE.001/2013.05.25/ASO_50M_SWE_USCATB_20130525.tif.xml', 'https://n5eil01u.ecs.nsidc.org/DP1/ASO/ASO_50M_SWE.001/2013.06.01/ASO_50M_SWE_USCATB_20130601.tif', 'https://n5eil01u.ecs.nsidc.org/DP1/ASO/ASO_50M_SWE.001/2013.06.01/ASO_50M_SWE_USCATB_20130601.tif.xml', 'https://n5eil01u.ecs.nsidc.org/DP1/ASO/ASO_50M_SWE.001/2013.06.08/ASO_50M_SWE_USCATB_20130608.tif', 'https://n5eil01u.ecs.nsidc.org/DP1/ASO/ASO_50M_SWE.001/2013.06.08/ASO_50M_SWE_USCATB_20130608.tif.xml', 'https://n5eil01u.ecs.nsidc.org/DP1/ASO/ASO_50M_SWE.001/2014.03.20/ASO_50M_SWE_USCOUB_20140320.tif', 'https://n5eil01u.ecs.nsidc.org/DP1/ASO/ASO_50M_SWE.001/2014.03.20/ASO_50M_SWE_USCOUB_20140320.tif.xml', 'https://n5eil01u.ecs.nsidc.org/DP1/ASO/ASO_50M_SWE.001/2014.03.23/ASO_50M_SWE_USCATB_20140323.tif', 'https://n5eil01u.ecs.nsidc.org/DP1/ASO/ASO_50M_SWE.001/2014.03.23/ASO_50M_SWE_USCATB_20140323.tif.xml', 'https://n5eil01u.ecs.nsidc.org/DP1/ASO/ASO_50M_SWE.001/2014.03.24/ASO_50M_SWE_USCAMB_20140324.tif', 'https://n5eil01u.ecs.nsidc.org/DP1/ASO/ASO_50M_SWE.001/2014.03.24/ASO_50M_SWE_USCAMB_20140324.tif.xml', 'https://n5eil01u.ecs.nsidc.org/DP1/ASO/ASO_50M_SWE.001/2014.04.06/ASO_50M_SWE_USCAMB_20140406.tif', 'https://n5eil01u.ecs.nsidc.org/DP1/ASO/ASO_50M_SWE.001/2014.04.06/ASO_50M_SWE_USCAMB_20140406.tif.xml', 'https://n5eil01u.ecs.nsidc.org/DP1/ASO/ASO_50M_SWE.001/2014.04.07/ASO_50M_SWE_USCATB_20140407.tif', 'https://n5eil01u.ecs.nsidc.org/DP1/ASO/ASO_50M_SWE.001/2014.04.07/ASO_50M_SWE_USCATB_20140407.tif.xml', 'https://n5eil01u.ecs.nsidc.org/DP1/ASO/ASO_50M_SWE.001/2014.04.14/ASO_50M_SWE_USCAMB_20140414.tif', 'https://n5eil01u.ecs.nsidc.org/DP1/ASO/ASO_50M_SWE.001/2014.04.14/ASO_50M_SWE_USCAMB_20140414.tif.xml', 'https://n5eil01u.ecs.nsidc.org/DP1/ASO/ASO_50M_SWE.001/2014.04.20/ASO_50M_SWE_USCATB_20140420.tif', 'https://n5eil01u.ecs.nsidc.org/DP1/ASO/ASO_50M_SWE.001/2014.04.20/ASO_50M_SWE_USCATB_20140420.tif.xml', 'https://n5eil01u.ecs.nsidc.org/DP1/ASO/ASO_50M_SWE.001/2014.04.23/ASO_50M_SWE_USCAMB_20140423.tif', 'https://n5eil01u.ecs.nsidc.org/DP1/ASO/ASO_50M_SWE.001/2014.04.23/ASO_50M_SWE_USCAMB_20140423.tif.xml', 'https://n5eil01u.ecs.nsidc.org/DP1/ASO/ASO_50M_SWE.001/2014.04.28/ASO_50M_SWE_USCATB_20140428.tif', 'https://n5eil01u.ecs.nsidc.org/DP1/ASO/ASO_50M_SWE.001/2014.04.28/ASO_50M_SWE_USCATB_20140428.tif.xml', 'https://n5eil01u.ecs.nsidc.org/DP1/ASO/ASO_50M_SWE.001/2014.04.29/ASO_50M_SWE_USCAMB_20140429.tif', 'https://n5eil01u.ecs.nsidc.org/DP1/ASO/ASO_50M_SWE.001/2014.04.29/ASO_50M_SWE_USCAMB_20140429.tif.xml', 'https://n5eil01u.ecs.nsidc.org/DP1/ASO/ASO_50M_SWE.001/2014.05.02/ASO_50M_SWE_USCATB_20140502.tif', 'https://n5eil01u.ecs.nsidc.org/DP1/ASO/ASO_50M_SWE.001/2014.05.02/ASO_50M_SWE_USCATB_20140502.tif.xml', 'https://n5eil01u.ecs.nsidc.org/DP1/ASO/ASO_50M_SWE.001/2014.05.03/ASO_50M_SWE_USCAMB_20140503.tif', 'https://n5eil01u.ecs.nsidc.org/DP1/ASO/ASO_50M_SWE.001/2014.05.03/ASO_50M_SWE_USCAMB_20140503.tif.xml', 'https://n5eil01u.ecs.nsidc.org/DP1/ASO/ASO_50M_SWE.001/2014.05.11/ASO_50M_SWE_USCATB_20140511.tif', 'https://n5eil01u.ecs.nsidc.org/DP1/ASO/ASO_50M_SWE.001/2014.05.11/ASO_50M_SWE_USCATB_20140511.tif.xml', 'https://n5eil01u.ecs.nsidc.org/DP1/ASO/ASO_50M_SWE.001/2014.05.12/ASO_50M_SWE_USCAMB_20140512.tif', 'https://n5eil01u.ecs.nsidc.org/DP1/ASO/ASO_50M_SWE.001/2014.05.12/ASO_50M_SWE_USCAMB_20140512.tif.xml', 'https://n5eil01u.ecs.nsidc.org/DP1/ASO/ASO_50M_SWE.001/2014.05.17/ASO_50M_SWE_USCATB_20140517.tif', 'https://n5eil01u.ecs.nsidc.org/DP1/ASO/ASO_50M_SWE.001/2014.05.17/ASO_50M_SWE_USCATB_20140517.tif.xml', 'https://n5eil01u.ecs.nsidc.org/DP1/ASO/ASO_50M_SWE.001/2014.05.27/ASO_50M_SWE_USCATB_20140527.tif', 'https://n5eil01u.ecs.nsidc.org/DP1/ASO/ASO_50M_SWE.001/2014.05.27/ASO_50M_SWE_USCATB_20140527.tif.xml', 'https://n5eil01u.ecs.nsidc.org/DP1/ASO/ASO_50M_SWE.001/2014.05.31/ASO_50M_SWE_USCATB_20140531.tif', 'https://n5eil01u.ecs.nsidc.org/DP1/ASO/ASO_50M_SWE.001/2014.05.31/ASO_50M_SWE_USCATB_20140531.tif.xml', 'https://n5eil01u.ecs.nsidc.org/DP1/ASO/ASO_50M_SWE.001/2014.06.05/ASO_50M_SWE_USCATB_20140605.tif', 'https://n5eil01u.ecs.nsidc.org/DP1/ASO/ASO_50M_SWE.001/2014.06.05/ASO_50M_SWE_USCATB_20140605.tif.xml', 'https://n5eil01u.ecs.nsidc.org/DP1/ASO/ASO_50M_SWE.001/2015.02.17/ASO_50M_SWE_USCATB_20150217.tif', 'https://n5eil01u.ecs.nsidc.org/DP1/ASO/ASO_50M_SWE.001/2015.02.17/ASO_50M_SWE_USCATB_20150217.tif.xml', 'https://n5eil01u.ecs.nsidc.org/DP1/ASO/ASO_50M_SWE.001/2015.03.05/ASO_50M_SWE_USCATB_20150305.tif', 'https://n5eil01u.ecs.nsidc.org/DP1/ASO/ASO_50M_SWE.001/2015.03.05/ASO_50M_SWE_USCATB_20150305.tif.xml', 'https://n5eil01u.ecs.nsidc.org/DP1/ASO/ASO_50M_SWE.001/2015.03.25/ASO_50M_SWE_USCATB_20150325.tif', 'https://n5eil01u.ecs.nsidc.org/DP1/ASO/ASO_50M_SWE.001/2015.03.25/ASO_50M_SWE_USCATB_20150325.tif.xml', 'https://n5eil01u.ecs.nsidc.org/DP1/ASO/ASO_50M_SWE.001/2015.03.26/ASO_50M_SWE_USCARC_20150326.tif', 'https://n5eil01u.ecs.nsidc.org/DP1/ASO/ASO_50M_SWE.001/2015.03.26/ASO_50M_SWE_USCARC_20150326.tif.xml', 'https://n5eil01u.ecs.nsidc.org/DP1/ASO/ASO_50M_SWE.001/2015.04.03/ASO_50M_SWE_USCAKC_20150403.tif', 'https://n5eil01u.ecs.nsidc.org/DP1/ASO/ASO_50M_SWE.001/2015.04.03/ASO_50M_SWE_USCAKC_20150403.tif.xml', 'https://n5eil01u.ecs.nsidc.org/DP1/ASO/ASO_50M_SWE.001/2015.04.03/ASO_50M_SWE_USCATB_20150403.tif', 'https://n5eil01u.ecs.nsidc.org/DP1/ASO/ASO_50M_SWE.001/2015.04.03/ASO_50M_SWE_USCATB_20150403.tif.xml', 'https://n5eil01u.ecs.nsidc.org/DP1/ASO/ASO_50M_SWE.001/2015.04.09/ASO_50M_SWE_USCATB_20150409.tif', 'https://n5eil01u.ecs.nsidc.org/DP1/ASO/ASO_50M_SWE.001/2015.04.09/ASO_50M_SWE_USCATB_20150409.tif.xml', 'https://n5eil01u.ecs.nsidc.org/DP1/ASO/ASO_50M_SWE.001/2015.04.12/ASO_50M_SWE_USCAKC_20150412.tif', 'https://n5eil01u.ecs.nsidc.org/DP1/ASO/ASO_50M_SWE.001/2015.04.12/ASO_50M_SWE_USCAKC_20150412.tif.xml', 'https://n5eil01u.ecs.nsidc.org/DP1/ASO/ASO_50M_SWE.001/2015.04.15/ASO_50M_SWE_USCATB_20150415.tif', 'https://n5eil01u.ecs.nsidc.org/DP1/ASO/ASO_50M_SWE.001/2015.04.15/ASO_50M_SWE_USCATB_20150415.tif.xml', 'https://n5eil01u.ecs.nsidc.org/DP1/ASO/ASO_50M_SWE.001/2015.04.26/ASO_50M_SWE_USCAKC_20150426.tif', 'https://n5eil01u.ecs.nsidc.org/DP1/ASO/ASO_50M_SWE.001/2015.04.26/ASO_50M_SWE_USCAKC_20150426.tif.xml', 'https://n5eil01u.ecs.nsidc.org/DP1/ASO/ASO_50M_SWE.001/2015.04.27/ASO_50M_SWE_USCATB_20150427.tif', 'https://n5eil01u.ecs.nsidc.org/DP1/ASO/ASO_50M_SWE.001/2015.04.27/ASO_50M_SWE_USCATB_20150427.tif.xml', 'https://n5eil01u.ecs.nsidc.org/DP1/ASO/ASO_50M_SWE.001/2015.04.28/ASO_50M_SWE_USCALB_20150428.tif', 'https://n5eil01u.ecs.nsidc.org/DP1/ASO/ASO_50M_SWE.001/2015.04.28/ASO_50M_SWE_USCALB_20150428.tif.xml', 'https://n5eil01u.ecs.nsidc.org/DP1/ASO/ASO_50M_SWE.001/2015.04.28/ASO_50M_SWE_USCAMB_20150428.tif', 'https://n5eil01u.ecs.nsidc.org/DP1/ASO/ASO_50M_SWE.001/2015.04.28/ASO_50M_SWE_USCAMB_20150428.tif.xml', 'https://n5eil01u.ecs.nsidc.org/DP1/ASO/ASO_50M_SWE.001/2015.05.03/ASO_50M_SWE_USCARC_20150503.tif', 'https://n5eil01u.ecs.nsidc.org/DP1/ASO/ASO_50M_SWE.001/2015.05.03/ASO_50M_SWE_USCARC_20150503.tif.xml', 'https://n5eil01u.ecs.nsidc.org/DP1/ASO/ASO_50M_SWE.001/2015.05.27/ASO_50M_SWE_USCARC_20150527.tif', 'https://n5eil01u.ecs.nsidc.org/DP1/ASO/ASO_50M_SWE.001/2015.05.27/ASO_50M_SWE_USCARC_20150527.tif.xml', 'https://n5eil01u.ecs.nsidc.org/DP1/ASO/ASO_50M_SWE.001/2015.05.28/ASO_50M_SWE_USCATB_20150528.tif', 'https://n5eil01u.ecs.nsidc.org/DP1/ASO/ASO_50M_SWE.001/2015.05.28/ASO_50M_SWE_USCATB_20150528.tif.xml', 'https://n5eil01u.ecs.nsidc.org/DP1/ASO/ASO_50M_SWE.001/2015.05.31/ASO_50M_SWE_USCAKC_20150531.tif', 'https://n5eil01u.ecs.nsidc.org/DP1/ASO/ASO_50M_SWE.001/2015.05.31/ASO_50M_SWE_USCAKC_20150531.tif.xml', 'https://n5eil01u.ecs.nsidc.org/DP1/ASO/ASO_50M_SWE.001/2015.06.08/ASO_50M_SWE_USCATB_20150608.tif', 'https://n5eil01u.ecs.nsidc.org/DP1/ASO/ASO_50M_SWE.001/2015.06.08/ASO_50M_SWE_USCATB_20150608.tif.xml', 'https://n5eil01u.ecs.nsidc.org/DP1/ASO/ASO_50M_SWE.001/2015.06.09/ASO_50M_SWE_USCARC_20150609.tif', 'https://n5eil01u.ecs.nsidc.org/DP1/ASO/ASO_50M_SWE.001/2015.06.09/ASO_50M_SWE_USCARC_20150609.tif.xml', 'https://n5eil01u.ecs.nsidc.org/DP1/ASO/ASO_50M_SWE.001/2016.03.26/ASO_50M_SWE_USCATB_20160326.tif', 'https://n5eil01u.ecs.nsidc.org/DP1/ASO/ASO_50M_SWE.001/2016.03.26/ASO_50M_SWE_USCATB_20160326.tif.xml', 'https://n5eil01u.ecs.nsidc.org/DP1/ASO/ASO_50M_SWE.001/2016.04.01/ASO_50M_SWE_USCACE_20160401.tif', 'https://n5eil01u.ecs.nsidc.org/DP1/ASO/ASO_50M_SWE.001/2016.04.01/ASO_50M_SWE_USCACE_20160401.tif.xml', 'https://n5eil01u.ecs.nsidc.org/DP1/ASO/ASO_50M_SWE.001/2016.04.01/ASO_50M_SWE_USCATB_20160401.tif', 'https://n5eil01u.ecs.nsidc.org/DP1/ASO/ASO_50M_SWE.001/2016.04.01/ASO_50M_SWE_USCATB_20160401.tif.xml', 'https://n5eil01u.ecs.nsidc.org/DP1/ASO/ASO_50M_SWE.001/2016.04.07/ASO_50M_SWE_USCACE_20160407.tif', 'https://n5eil01u.ecs.nsidc.org/DP1/ASO/ASO_50M_SWE.001/2016.04.07/ASO_50M_SWE_USCACE_20160407.tif.xml', 'https://n5eil01u.ecs.nsidc.org/DP1/ASO/ASO_50M_SWE.001/2016.04.07/ASO_50M_SWE_USCATB_20160407.tif', 'https://n5eil01u.ecs.nsidc.org/DP1/ASO/ASO_50M_SWE.001/2016.04.07/ASO_50M_SWE_USCATB_20160407.tif.xml', 'https://n5eil01u.ecs.nsidc.org/DP1/ASO/ASO_50M_SWE.001/2016.04.16/ASO_50M_SWE_USCACE_20160416.tif', 'https://n5eil01u.ecs.nsidc.org/DP1/ASO/ASO_50M_SWE.001/2016.04.16/ASO_50M_SWE_USCACE_20160416.tif.xml', 'https://n5eil01u.ecs.nsidc.org/DP1/ASO/ASO_50M_SWE.001/2016.04.16/ASO_50M_SWE_USCATB_20160416.tif', 'https://n5eil01u.ecs.nsidc.org/DP1/ASO/ASO_50M_SWE.001/2016.04.16/ASO_50M_SWE_USCATB_20160416.tif.xml', 'https://n5eil01u.ecs.nsidc.org/DP1/ASO/ASO_50M_SWE.001/2016.04.26/ASO_50M_SWE_USCACE_20160426.tif', 'https://n5eil01u.ecs.nsidc.org/DP1/ASO/ASO_50M_SWE.001/2016.04.26/ASO_50M_SWE_USCACE_20160426.tif.xml', 'https://n5eil01u.ecs.nsidc.org/DP1/ASO/ASO_50M_SWE.001/2016.04.26/ASO_50M_SWE_USCATB_20160426.tif', 'https://n5eil01u.ecs.nsidc.org/DP1/ASO/ASO_50M_SWE.001/2016.04.26/ASO_50M_SWE_USCATB_20160426.tif.xml', 'https://n5eil01u.ecs.nsidc.org/DP1/ASO/ASO_50M_SWE.001/2016.05.09/ASO_50M_SWE_USCACE_20160509.tif', 'https://n5eil01u.ecs.nsidc.org/DP1/ASO/ASO_50M_SWE.001/2016.05.09/ASO_50M_SWE_USCACE_20160509.tif.xml', 'https://n5eil01u.ecs.nsidc.org/DP1/ASO/ASO_50M_SWE.001/2016.05.09/ASO_50M_SWE_USCALB_20160509.tif', 'https://n5eil01u.ecs.nsidc.org/DP1/ASO/ASO_50M_SWE.001/2016.05.09/ASO_50M_SWE_USCALB_20160509.tif.xml', 'https://n5eil01u.ecs.nsidc.org/DP1/ASO/ASO_50M_SWE.001/2016.05.09/ASO_50M_SWE_USCATB_20160509.tif', 'https://n5eil01u.ecs.nsidc.org/DP1/ASO/ASO_50M_SWE.001/2016.05.09/ASO_50M_SWE_USCATB_20160509.tif.xml', 'https://n5eil01u.ecs.nsidc.org/DP1/ASO/ASO_50M_SWE.001/2016.05.27/ASO_50M_SWE_USCATB_20160527.tif', 'https://n5eil01u.ecs.nsidc.org/DP1/ASO/ASO_50M_SWE.001/2016.05.27/ASO_50M_SWE_USCATB_20160527.tif.xml', 'https://n5eil01u.ecs.nsidc.org/DP1/ASO/ASO_50M_SWE.001/2016.06.07/ASO_50M_SWE_USCALB_20160607.tif', 'https://n5eil01u.ecs.nsidc.org/DP1/ASO/ASO_50M_SWE.001/2016.06.07/ASO_50M_SWE_USCALB_20160607.tif.xml', 'https://n5eil01u.ecs.nsidc.org/DP1/ASO/ASO_50M_SWE.001/2016.06.14/ASO_50M_SWE_USCALB_20160614.tif', 'https://n5eil01u.ecs.nsidc.org/DP1/ASO/ASO_50M_SWE.001/2016.06.14/ASO_50M_SWE_USCALB_20160614.tif.xml', 'https://n5eil01u.ecs.nsidc.org/DP1/ASO/ASO_50M_SWE.001/2016.06.21/ASO_50M_SWE_USCALB_20160621.tif', 'https://n5eil01u.ecs.nsidc.org/DP1/ASO/ASO_50M_SWE.001/2016.06.21/ASO_50M_SWE_USCALB_20160621.tif.xml', 'https://n5eil01u.ecs.nsidc.org/DP1/ASO/ASO_50M_SWE.001/2016.06.26/ASO_50M_SWE_USCALB_20160626.tif', 'https://n5eil01u.ecs.nsidc.org/DP1/ASO/ASO_50M_SWE.001/2016.06.26/ASO_50M_SWE_USCALB_20160626.tif.xml', 'https://n5eil01u.ecs.nsidc.org/DP1/ASO/ASO_50M_SWE.001/2016.07.08/ASO_50M_SWE_USCATB_20160708.tif', 'https://n5eil01u.ecs.nsidc.org/DP1/ASO/ASO_50M_SWE.001/2016.07.08/ASO_50M_SWE_USCATB_20160708.tif.xml', 'https://n5eil01u.ecs.nsidc.org/DP1/ASO/ASO_50M_SWE.001/2017.01.28/ASO_50M_SWE_USCALB_20170128.tif', 'https://n5eil01u.ecs.nsidc.org/DP1/ASO/ASO_50M_SWE.001/2017.01.28/ASO_50M_SWE_USCALB_20170128.tif.xml', 'https://n5eil01u.ecs.nsidc.org/DP1/ASO/ASO_50M_SWE.001/2017.01.29/ASO_50M_SWE_USCACE_20170129.tif', 'https://n5eil01u.ecs.nsidc.org/DP1/ASO/ASO_50M_SWE.001/2017.01.29/ASO_50M_SWE_USCACE_20170129.tif.xml', 'https://n5eil01u.ecs.nsidc.org/DP1/ASO/ASO_50M_SWE.001/2017.01.29/ASO_50M_SWE_USCATB_20170129.tif', 'https://n5eil01u.ecs.nsidc.org/DP1/ASO/ASO_50M_SWE.001/2017.01.29/ASO_50M_SWE_USCATB_20170129.tif.xml', 'https://n5eil01u.ecs.nsidc.org/DP1/ASO/ASO_50M_SWE.001/2017.01.29/ASO_50M_SWE_USCATE_20170129.tif', 'https://n5eil01u.ecs.nsidc.org/DP1/ASO/ASO_50M_SWE.001/2017.01.29/ASO_50M_SWE_USCATE_20170129.tif.xml', 'https://n5eil01u.ecs.nsidc.org/DP1/ASO/ASO_50M_SWE.001/2017.07.17/ASO_50M_SWE_USCACE_20170717.tif', 'https://n5eil01u.ecs.nsidc.org/DP1/ASO/ASO_50M_SWE.001/2017.07.17/ASO_50M_SWE_USCACE_20170717.tif.xml', 'https://n5eil01u.ecs.nsidc.org/DP1/ASO/ASO_50M_SWE.001/2017.07.17/ASO_50M_SWE_USCALV_20170717.tif', 'https://n5eil01u.ecs.nsidc.org/DP1/ASO/ASO_50M_SWE.001/2017.07.17/ASO_50M_SWE_USCALV_20170717.tif.xml', 'https://n5eil01u.ecs.nsidc.org/DP1/ASO/ASO_50M_SWE.001/2017.07.17/ASO_50M_SWE_USCARC_20170717.tif', 'https://n5eil01u.ecs.nsidc.org/DP1/ASO/ASO_50M_SWE.001/2017.07.17/ASO_50M_SWE_USCARC_20170717.tif.xml', 'https://n5eil01u.ecs.nsidc.org/DP1/ASO/ASO_50M_SWE.001/2017.07.17/ASO_50M_SWE_USCATB_20170717.tif', 'https://n5eil01u.ecs.nsidc.org/DP1/ASO/ASO_50M_SWE.001/2017.07.17/ASO_50M_SWE_USCATB_20170717.tif.xml', 'https://n5eil01u.ecs.nsidc.org/DP1/ASO/ASO_50M_SWE.001/2017.07.18/ASO_50M_SWE_USCALB_20170718.tif', 'https://n5eil01u.ecs.nsidc.org/DP1/ASO/ASO_50M_SWE.001/2017.07.18/ASO_50M_SWE_USCALB_20170718.tif.xml', 'https://n5eil01u.ecs.nsidc.org/DP1/ASO/ASO_50M_SWE.001/2017.07.18/ASO_50M_SWE_USCASF_20170718.tif', 'https://n5eil01u.ecs.nsidc.org/DP1/ASO/ASO_50M_SWE.001/2017.07.18/ASO_50M_SWE_USCASF_20170718.tif.xml', 'https://n5eil01u.ecs.nsidc.org/DP1/ASO/ASO_50M_SWE.001/2017.07.19/ASO_50M_SWE_USCASJ_20170719.tif', 'https://n5eil01u.ecs.nsidc.org/DP1/ASO/ASO_50M_SWE.001/2017.07.19/ASO_50M_SWE_USCASJ_20170719.tif.xml', 'https://n5eil01u.ecs.nsidc.org/DP1/ASO/ASO_50M_SWE.001/2017.07.27/ASO_50M_SWE_USCACE_20170727.tif', 'https://n5eil01u.ecs.nsidc.org/DP1/ASO/ASO_50M_SWE.001/2017.07.27/ASO_50M_SWE_USCACE_20170727.tif.xml', 'https://n5eil01u.ecs.nsidc.org/DP1/ASO/ASO_50M_SWE.001/2017.07.27/ASO_50M_SWE_USCATB_20170727.tif', 'https://n5eil01u.ecs.nsidc.org/DP1/ASO/ASO_50M_SWE.001/2017.07.27/ASO_50M_SWE_USCATB_20170727.tif.xml', 'https://n5eil01u.ecs.nsidc.org/DP1/ASO/ASO_50M_SWE.001/2017.08.15/ASO_50M_SWE_USCALB_20170815.tif', 'https://n5eil01u.ecs.nsidc.org/DP1/ASO/ASO_50M_SWE.001/2017.08.15/ASO_50M_SWE_USCALB_20170815.tif.xml', 'https://n5eil01u.ecs.nsidc.org/DP1/ASO/ASO_50M_SWE.001/2017.08.15/ASO_50M_SWE_USCASJ_20170815.tif', 'https://n5eil01u.ecs.nsidc.org/DP1/ASO/ASO_50M_SWE.001/2017.08.15/ASO_50M_SWE_USCASJ_20170815.tif.xml', 'https://n5eil01u.ecs.nsidc.org/DP1/ASO/ASO_50M_SWE.001/2017.08.16/ASO_50M_SWE_USCACE_20170816.tif', 'https://n5eil01u.ecs.nsidc.org/DP1/ASO/ASO_50M_SWE.001/2017.08.16/ASO_50M_SWE_USCACE_20170816.tif.xml', 'https://n5eil01u.ecs.nsidc.org/DP1/ASO/ASO_50M_SWE.001/2017.08.16/ASO_50M_SWE_USCATB_20170816.tif', 'https://n5eil01u.ecs.nsidc.org/DP1/ASO/ASO_50M_SWE.001/2017.08.16/ASO_50M_SWE_USCATB_20170816.tif.xml', 'https://n5eil01u.ecs.nsidc.org/DP1/ASO/ASO_50M_SWE.001/2018.03.04/ASO_50M_SWE_USCASJ_20180304.tif', 'https://n5eil01u.ecs.nsidc.org/DP1/ASO/ASO_50M_SWE.001/2018.03.04/ASO_50M_SWE_USCASJ_20180304.tif.xml', 'https://n5eil01u.ecs.nsidc.org/DP1/ASO/ASO_50M_SWE.001/2018.04.22/ASO_50M_SWE_USCALB_20180422.tif', 'https://n5eil01u.ecs.nsidc.org/DP1/ASO/ASO_50M_SWE.001/2018.04.22/ASO_50M_SWE_USCALB_20180422.tif.xml', 'https://n5eil01u.ecs.nsidc.org/DP1/ASO/ASO_50M_SWE.001/2018.04.22/ASO_50M_SWE_USCASJ_20180422.tif', 'https://n5eil01u.ecs.nsidc.org/DP1/ASO/ASO_50M_SWE.001/2018.04.22/ASO_50M_SWE_USCASJ_20180422.tif.xml', 'https://n5eil01u.ecs.nsidc.org/DP1/ASO/ASO_50M_SWE.001/2018.04.23/ASO_50M_SWE_USCACE_20180423.tif', 'https://n5eil01u.ecs.nsidc.org/DP1/ASO/ASO_50M_SWE.001/2018.04.23/ASO_50M_SWE_USCACE_20180423.tif.xml', 'https://n5eil01u.ecs.nsidc.org/DP1/ASO/ASO_50M_SWE.001/2018.04.23/ASO_50M_SWE_USCAJW_20180423.tif', 'https://n5eil01u.ecs.nsidc.org/DP1/ASO/ASO_50M_SWE.001/2018.04.23/ASO_50M_SWE_USCAJW_20180423.tif.xml', 'https://n5eil01u.ecs.nsidc.org/DP1/ASO/ASO_50M_SWE.001/2018.04.23/ASO_50M_SWE_USCASF_20180423.tif', 'https://n5eil01u.ecs.nsidc.org/DP1/ASO/ASO_50M_SWE.001/2018.04.23/ASO_50M_SWE_USCASF_20180423.tif.xml', 'https://n5eil01u.ecs.nsidc.org/DP1/ASO/ASO_50M_SWE.001/2018.04.23/ASO_50M_SWE_USCATB_20180423.tif', 'https://n5eil01u.ecs.nsidc.org/DP1/ASO/ASO_50M_SWE.001/2018.04.23/ASO_50M_SWE_USCATB_20180423.tif.xml', 'https://n5eil01u.ecs.nsidc.org/DP1/ASO/ASO_50M_SWE.001/2018.04.25/ASO_50M_SWE_USCAMB_20180425.tif', 'https://n5eil01u.ecs.nsidc.org/DP1/ASO/ASO_50M_SWE.001/2018.04.25/ASO_50M_SWE_USCAMB_20180425.tif.xml', 'https://n5eil01u.ecs.nsidc.org/DP1/ASO/ASO_50M_SWE.001/2018.04.26/ASO_50M_SWE_USCAKC_20180426.tif', 'https://n5eil01u.ecs.nsidc.org/DP1/ASO/ASO_50M_SWE.001/2018.04.26/ASO_50M_SWE_USCAKC_20180426.tif.xml', 'https://n5eil01u.ecs.nsidc.org/DP1/ASO/ASO_50M_SWE.001/2018.04.26/ASO_50M_SWE_USCAKN_20180426.tif', 'https://n5eil01u.ecs.nsidc.org/DP1/ASO/ASO_50M_SWE.001/2018.04.26/ASO_50M_SWE_USCAKN_20180426.tif.xml', 'https://n5eil01u.ecs.nsidc.org/DP1/ASO/ASO_50M_SWE.001/2018.05.28/ASO_50M_SWE_USCACE_20180528.tif', 'https://n5eil01u.ecs.nsidc.org/DP1/ASO/ASO_50M_SWE.001/2018.05.28/ASO_50M_SWE_USCACE_20180528.tif.xml', 'https://n5eil01u.ecs.nsidc.org/DP1/ASO/ASO_50M_SWE.001/2018.05.28/ASO_50M_SWE_USCATB_20180528.tif', 'https://n5eil01u.ecs.nsidc.org/DP1/ASO/ASO_50M_SWE.001/2018.05.28/ASO_50M_SWE_USCATB_20180528.tif.xml', 'https://n5eil01u.ecs.nsidc.org/DP1/ASO/ASO_50M_SWE.001/2018.06.01/ASO_50M_SWE_USCALB_20180601.tif', 'https://n5eil01u.ecs.nsidc.org/DP1/ASO/ASO_50M_SWE.001/2018.06.01/ASO_50M_SWE_USCALB_20180601.tif.xml', 'https://n5eil01u.ecs.nsidc.org/DP1/ASO/ASO_50M_SWE.001/2018.06.01/ASO_50M_SWE_USCASF_20180601.tif', 'https://n5eil01u.ecs.nsidc.org/DP1/ASO/ASO_50M_SWE.001/2018.06.01/ASO_50M_SWE_USCASF_20180601.tif.xml', 'https://n5eil01u.ecs.nsidc.org/DP1/ASO/ASO_50M_SWE.001/2018.06.01/ASO_50M_SWE_USCASJ_20180601.tif', 'https://n5eil01u.ecs.nsidc.org/DP1/ASO/ASO_50M_SWE.001/2018.06.01/ASO_50M_SWE_USCASJ_20180601.tif.xml', 'https://n5eil01u.ecs.nsidc.org/DP1/ASO/ASO_50M_SWE.001/2018.06.02/ASO_50M_SWE_USCAJW_20180602.tif', 'https://n5eil01u.ecs.nsidc.org/DP1/ASO/ASO_50M_SWE.001/2018.06.02/ASO_50M_SWE_USCAJW_20180602.tif.xml', 'https://n5eil01u.ecs.nsidc.org/DP1/ASO/ASO_50M_SWE.001/2019.03.09/ASO_50M_SWE_USCALB_20190309.tif', 'https://n5eil01u.ecs.nsidc.org/DP1/ASO/ASO_50M_SWE.001/2019.03.09/ASO_50M_SWE_USCALB_20190309.tif.xml', 'https://n5eil01u.ecs.nsidc.org/DP1/ASO/ASO_50M_SWE.001/2019.03.15/ASO_50M_SWE_USCAJW_20190315.tif', 'https://n5eil01u.ecs.nsidc.org/DP1/ASO/ASO_50M_SWE.001/2019.03.15/ASO_50M_SWE_USCAJW_20190315.tif.xml', 'https://n5eil01u.ecs.nsidc.org/DP1/ASO/ASO_50M_SWE.001/2019.03.16/ASO_50M_SWE_USCAKC_20190316.tif', 'https://n5eil01u.ecs.nsidc.org/DP1/ASO/ASO_50M_SWE.001/2019.03.16/ASO_50M_SWE_USCAKC_20190316.tif.xml', 'https://n5eil01u.ecs.nsidc.org/DP1/ASO/ASO_50M_SWE.001/2019.03.17/ASO_50M_SWE_USCAKW_20190317.tif', 'https://n5eil01u.ecs.nsidc.org/DP1/ASO/ASO_50M_SWE.001/2019.03.17/ASO_50M_SWE_USCAKW_20190317.tif.xml', 'https://n5eil01u.ecs.nsidc.org/DP1/ASO/ASO_50M_SWE.001/2019.03.17/ASO_50M_SWE_USCASF_20190317.tif', 'https://n5eil01u.ecs.nsidc.org/DP1/ASO/ASO_50M_SWE.001/2019.03.17/ASO_50M_SWE_USCASF_20190317.tif.xml', 'https://n5eil01u.ecs.nsidc.org/DP1/ASO/ASO_50M_SWE.001/2019.03.24/ASO_50M_SWE_USCAKW_20190324.tif', 'https://n5eil01u.ecs.nsidc.org/DP1/ASO/ASO_50M_SWE.001/2019.03.24/ASO_50M_SWE_USCAKW_20190324.tif.xml', 'https://n5eil01u.ecs.nsidc.org/DP1/ASO/ASO_50M_SWE.001/2019.03.24/ASO_50M_SWE_USCATE_20190324.tif', 'https://n5eil01u.ecs.nsidc.org/DP1/ASO/ASO_50M_SWE.001/2019.03.24/ASO_50M_SWE_USCATE_20190324.tif.xml', 'https://n5eil01u.ecs.nsidc.org/DP1/ASO/ASO_50M_SWE.001/2019.03.25/ASO_50M_SWE_USCASJ_20190325.tif', 'https://n5eil01u.ecs.nsidc.org/DP1/ASO/ASO_50M_SWE.001/2019.03.25/ASO_50M_SWE_USCASJ_20190325.tif.xml', 'https://n5eil01u.ecs.nsidc.org/DP1/ASO/ASO_50M_SWE.001/2019.03.26/ASO_50M_SWE_USCAKC_20190326.tif', 'https://n5eil01u.ecs.nsidc.org/DP1/ASO/ASO_50M_SWE.001/2019.03.26/ASO_50M_SWE_USCAKC_20190326.tif.xml', 'https://n5eil01u.ecs.nsidc.org/DP1/ASO/ASO_50M_SWE.001/2019.03.29/ASO_50M_SWE_USCAMB_20190329.tif', 'https://n5eil01u.ecs.nsidc.org/DP1/ASO/ASO_50M_SWE.001/2019.03.29/ASO_50M_SWE_USCAMB_20190329.tif.xml', 'https://n5eil01u.ecs.nsidc.org/DP1/ASO/ASO_50M_SWE.001/2019.04.17/ASO_50M_SWE_USCAKN_20190417.tif', 'https://n5eil01u.ecs.nsidc.org/DP1/ASO/ASO_50M_SWE.001/2019.04.17/ASO_50M_SWE_USCAKN_20190417.tif.xml', 'https://n5eil01u.ecs.nsidc.org/DP1/ASO/ASO_50M_SWE.001/2019.04.17/ASO_50M_SWE_USCATE_20190417.tif', 'https://n5eil01u.ecs.nsidc.org/DP1/ASO/ASO_50M_SWE.001/2019.04.17/ASO_50M_SWE_USCATE_20190417.tif.xml', 'https://n5eil01u.ecs.nsidc.org/DP1/ASO/ASO_50M_SWE.001/2019.04.18/ASO_50M_SWE_USCAKC_20190418.tif', 'https://n5eil01u.ecs.nsidc.org/DP1/ASO/ASO_50M_SWE.001/2019.04.18/ASO_50M_SWE_USCAKC_20190418.tif.xml', 'https://n5eil01u.ecs.nsidc.org/DP1/ASO/ASO_50M_SWE.001/2019.04.21/ASO_50M_SWE_USCAKW_20190421.tif', 'https://n5eil01u.ecs.nsidc.org/DP1/ASO/ASO_50M_SWE.001/2019.04.21/ASO_50M_SWE_USCAKW_20190421.tif.xml', 'https://n5eil01u.ecs.nsidc.org/DP1/ASO/ASO_50M_SWE.001/2019.04.27/ASO_50M_SWE_USCAKC_20190427.tif', 'https://n5eil01u.ecs.nsidc.org/DP1/ASO/ASO_50M_SWE.001/2019.04.27/ASO_50M_SWE_USCAKC_20190427.tif.xml', 'https://n5eil01u.ecs.nsidc.org/DP1/ASO/ASO_50M_SWE.001/2019.04.28/ASO_50M_SWE_USCAKC_20190428.tif', 'https://n5eil01u.ecs.nsidc.org/DP1/ASO/ASO_50M_SWE.001/2019.04.28/ASO_50M_SWE_USCAKC_20190428.tif.xml', 'https://n5eil01u.ecs.nsidc.org/DP1/ASO/ASO_50M_SWE.001/2019.05.01/ASO_50M_SWE_USCALB_20190501.tif', 'https://n5eil01u.ecs.nsidc.org/DP1/ASO/ASO_50M_SWE.001/2019.05.01/ASO_50M_SWE_USCALB_20190501.tif.xml', 'https://n5eil01u.ecs.nsidc.org/DP1/ASO/ASO_50M_SWE.001/2019.05.01/ASO_50M_SWE_USCASJ_20190501.tif', 'https://n5eil01u.ecs.nsidc.org/DP1/ASO/ASO_50M_SWE.001/2019.05.01/ASO_50M_SWE_USCASJ_20190501.tif.xml', 'https://n5eil01u.ecs.nsidc.org/DP1/ASO/ASO_50M_SWE.001/2019.05.02/ASO_50M_SWE_USCASF_20190502.tif', 'https://n5eil01u.ecs.nsidc.org/DP1/ASO/ASO_50M_SWE.001/2019.05.02/ASO_50M_SWE_USCASF_20190502.tif.xml', 'https://n5eil01u.ecs.nsidc.org/DP1/ASO/ASO_50M_SWE.001/2019.05.03/ASO_50M_SWE_USCATE_20190503.tif', 'https://n5eil01u.ecs.nsidc.org/DP1/ASO/ASO_50M_SWE.001/2019.05.03/ASO_50M_SWE_USCATE_20190503.tif.xml', 'https://n5eil01u.ecs.nsidc.org/DP1/ASO/ASO_50M_SWE.001/2019.06.04/ASO_50M_SWE_USCAMB_20190604.tif', 'https://n5eil01u.ecs.nsidc.org/DP1/ASO/ASO_50M_SWE.001/2019.06.04/ASO_50M_SWE_USCAMB_20190604.tif.xml', 'https://n5eil01u.ecs.nsidc.org/DP1/ASO/ASO_50M_SWE.001/2019.06.05/ASO_50M_SWE_USCAJW_20190605.tif', 'https://n5eil01u.ecs.nsidc.org/DP1/ASO/ASO_50M_SWE.001/2019.06.05/ASO_50M_SWE_USCAJW_20190605.tif.xml', 'https://n5eil01u.ecs.nsidc.org/DP1/ASO/ASO_50M_SWE.001/2019.06.08/ASO_50M_SWE_USCAKC_20190608.tif', 'https://n5eil01u.ecs.nsidc.org/DP1/ASO/ASO_50M_SWE.001/2019.06.08/ASO_50M_SWE_USCAKC_20190608.tif.xml', 'https://n5eil01u.ecs.nsidc.org/DP1/ASO/ASO_50M_SWE.001/2019.06.09/ASO_50M_SWE_USCASF_20190609.tif', 'https://n5eil01u.ecs.nsidc.org/DP1/ASO/ASO_50M_SWE.001/2019.06.09/ASO_50M_SWE_USCASF_20190609.tif.xml', 'https://n5eil01u.ecs.nsidc.org/DP1/ASO/ASO_50M_SWE.001/2019.06.11/ASO_50M_SWE_USCAKC_20190611.tif', 'https://n5eil01u.ecs.nsidc.org/DP1/ASO/ASO_50M_SWE.001/2019.06.11/ASO_50M_SWE_USCAKC_20190611.tif.xml', 'https://n5eil01u.ecs.nsidc.org/DP1/ASO/ASO_50M_SWE.001/2019.06.11/ASO_50M_SWE_USCALB_20190611.tif', 'https://n5eil01u.ecs.nsidc.org/DP1/ASO/ASO_50M_SWE.001/2019.06.11/ASO_50M_SWE_USCALB_20190611.tif.xml', 'https://n5eil01u.ecs.nsidc.org/DP1/ASO/ASO_50M_SWE.001/2019.06.13/ASO_50M_SWE_USCATE_20190613.tif', 'https://n5eil01u.ecs.nsidc.org/DP1/ASO/ASO_50M_SWE.001/2019.06.13/ASO_50M_SWE_USCATE_20190613.tif.xml', 'https://n5eil01u.ecs.nsidc.org/DP1/ASO/ASO_50M_SWE.001/2019.06.14/ASO_50M_SWE_USCASJ_20190614.tif', 'https://n5eil01u.ecs.nsidc.org/DP1/ASO/ASO_50M_SWE.001/2019.06.14/ASO_50M_SWE_USCASJ_20190614.tif.xml', 'https://n5eil01u.ecs.nsidc.org/DP1/ASO/ASO_50M_SWE.001/2019.07.03/ASO_50M_SWE_USCALB_20190703.tif', 'https://n5eil01u.ecs.nsidc.org/DP1/ASO/ASO_50M_SWE.001/2019.07.03/ASO_50M_SWE_USCALB_20190703.tif.xml', 'https://n5eil01u.ecs.nsidc.org/DP1/ASO/ASO_50M_SWE.001/2019.07.03/ASO_50M_SWE_USCAMB_20190703.tif', 'https://n5eil01u.ecs.nsidc.org/DP1/ASO/ASO_50M_SWE.001/2019.07.03/ASO_50M_SWE_USCAMB_20190703.tif.xml', 'https://n5eil01u.ecs.nsidc.org/DP1/ASO/ASO_50M_SWE.001/2019.07.04/ASO_50M_SWE_USCASF_20190704.tif', 'https://n5eil01u.ecs.nsidc.org/DP1/ASO/ASO_50M_SWE.001/2019.07.04/ASO_50M_SWE_USCASF_20190704.tif.xml', 'https://n5eil01u.ecs.nsidc.org/DP1/ASO/ASO_50M_SWE.001/2019.07.04/ASO_50M_SWE_USCASJ_20190704.tif', 'https://n5eil01u.ecs.nsidc.org/DP1/ASO/ASO_50M_SWE.001/2019.07.04/ASO_50M_SWE_USCASJ_20190704.tif.xml', 'https://n5eil01u.ecs.nsidc.org/DP1/ASO/ASO_50M_SWE.001/2019.07.05/ASO_50M_SWE_USCATE_20190705.tif', 'https://n5eil01u.ecs.nsidc.org/DP1/ASO/ASO_50M_SWE.001/2019.07.05/ASO_50M_SWE_USCATE_20190705.tif.xml', 'https://n5eil01u.ecs.nsidc.org/DP1/ASO/ASO_50M_SWE.001/2019.07.13/ASO_50M_SWE_USCASJ_20190713.tif', 'https://n5eil01u.ecs.nsidc.org/DP1/ASO/ASO_50M_SWE.001/2019.07.13/ASO_50M_SWE_USCASJ_20190713.tif.xml', 'https://n5eil01u.ecs.nsidc.org/DP1/ASO/ASO_50M_SWE.001/2019.07.14/ASO_50M_SWE_USCASF_20190714.tif', 'https://n5eil01u.ecs.nsidc.org/DP1/ASO/ASO_50M_SWE.001/2019.07.14/ASO_50M_SWE_USCASF_20190714.tif.xml', 'https://n5eil01u.ecs.nsidc.org/DP1/ASO/ASO_50M_SWE.001/2019.07.15/ASO_50M_SWE_USCALB_20190715.tif', 'https://n5eil01u.ecs.nsidc.org/DP1/ASO/ASO_50M_SWE.001/2019.07.15/ASO_50M_SWE_USCALB_20190715.tif.xml', 'https://n5eil01u.ecs.nsidc.org/DP1/ASO/ASO_50M_SWE.001/2019.07.16/ASO_50M_SWE_USCAMB_20190716.tif', 'https://n5eil01u.ecs.nsidc.org/DP1/ASO/ASO_50M_SWE.001/2019.07.16/ASO_50M_SWE_USCAMB_20190716.tif.xml']\n",
      "getting credentials NSIDC\n"
     ]
    },
    {
     "name": "stderr",
     "output_type": "stream",
     "text": [
      "100%|██████████| 262/262 [00:00<00:00, 2744.26it/s]\n"
     ]
    },
    {
     "name": "stdout",
     "output_type": "stream",
     "text": [
      "\b  [============================================================] 100%  914.0kB/s   \n",
      "\b  [============================================================] 100%  500.8kB/s   \n",
      "\b  [============                                                ]  20%  3.5MB/s    [============                                                ]  20%  3.5MB/s    [============                                                ]  20%  3.6MB/s    [========================                                    ]  40%  6.0MB/s    [========================                                    ]  40%  5.9MB/s    [====================================                        ]  60%  8.3MB/s    [========================                                    ]  40%  6.0MB/s    [====================================                        ]  60%  7.7MB/s    [====================================                        ]  60%  7.9MB/s    [================================================            ]  80%  9.3MB/s   [============================================================] 100%  11.4MB/s   \n",
      "\b  [================================================            ]  80%  9.3MB/s   [============================================================] 100%  11.4MB/s    [================================================            ]  80%  8.7MB/s   \n",
      "  [============================================================] 100%  10.8MB/s   \n",
      "\b  [============================================================] 100%  951.2kB/s   \n",
      "\b  [============                                                ]  20%  3.5MB/s    [========================                                    ]  40%  6.0MB/s    [====================================                        ]  60%  8.0MB/s   [================================================            ]  80%  10.2MB/s   [============================================================] 100%  12.5MB/s  \n",
      "  [============================================================] 100%  693.1kB/s   \n",
      "\b  [============================================================] 100%  952.3kB/s   \n",
      "\b  [============                                                ]  20%  3.6MB/s    [========================                                    ]  40%  6.0MB/s    [====================================                        ]  60%  8.5MB/s    [================================================            ]  80%  9.5MB/s   [============================================================] 100%  11.6MB/s   \n",
      "\b  [============================================================] 100%  1.1MB/s   \n",
      "\b  [============                                                ]  20%  3.5MB/s    [========================                                    ]  40%  6.0MB/s    [====================================                        ]  60%  8.0MB/s   [================================================            ]  80%  10.1MB/s   [============================================================] 100%  12.5MB/s   \n",
      "  [============================================================] 100%  73.3kB/s   \n",
      "\b  [==============================                              ]  50%  3.5MB/s    [============================================================] 100%  5.8MB/s   \n",
      "\b  [============                                                ]  20%  3.5MB/s    [========================                                    ]  40%  5.9MB/s    [====================================                        ]  60%  8.4MB/s   [================================================            ]  80%  10.2MB/s   [============================================================] 100%  12.6MB/s   \n",
      "\b  [============================================================] 100%  983.4kB/s   \n",
      "\b  [============================================================] 100%  1.0MB/s   \n",
      "\b  [====================                                        ]  33%  3.6MB/s    [========================================                    ]  67%  5.8MB/s    [====================                                        ]  33%  3.4MB/s    [============================================================] 100%  8.4MB/s   \n",
      "\b  [========================================                    ]  67%  5.5MB/s    [============================================================] 100%  8.0MB/s   \n",
      "\b  [============================================================] 100%  888.5kB/s   \n",
      "\b  [============================================================] 100%  924.3kB/s   \n",
      "\b  [============                                                ]  20%  3.5MB/s    [========================                                    ]  40%  6.0MB/s    [====================================                        ]  60%  8.5MB/s   [================================================            ]  80%  10.4MB/s   [============================================================] 100%  12.8MB/s   \n",
      "\b  [============================================================] 100%  960.8kB/s   \n",
      "\b  [====================                                        ]  33%  3.5MB/s   "
     ]
    },
    {
     "ename": "KeyboardInterrupt",
     "evalue": "",
     "output_type": "error",
     "traceback": [
      "\u001b[0;31m---------------------------------------------------------------------------\u001b[0m",
      "\u001b[0;31mKeyboardInterrupt\u001b[0m                         Traceback (most recent call last)",
      "Cell \u001b[0;32mIn[3], line 18\u001b[0m\n\u001b[1;32m     16\u001b[0m b_box \u001b[38;5;241m=\u001b[39m data_tool\u001b[38;5;241m.\u001b[39mBoundingBox(region)  \n\u001b[1;32m     17\u001b[0m url_list \u001b[38;5;241m=\u001b[39m data_tool\u001b[38;5;241m.\u001b[39mcmr_search(time_start, time_end, region, b_box)\n\u001b[0;32m---> 18\u001b[0m \u001b[43mdata_tool\u001b[49m\u001b[38;5;241;43m.\u001b[39;49m\u001b[43mcmr_download\u001b[49m\u001b[43m(\u001b[49m\u001b[43mdirectory\u001b[49m\u001b[43m,\u001b[49m\u001b[43m \u001b[49m\u001b[43mregion\u001b[49m\u001b[43m)\u001b[49m\n\u001b[1;32m     20\u001b[0m \u001b[38;5;66;03m#Convert ASO tifs to parquet\u001b[39;00m\n\u001b[1;32m     21\u001b[0m data_processor \u001b[38;5;241m=\u001b[39m ASODataProcessing()\n",
      "File \u001b[0;32m~/SWEMLv2.0/Dataprocessing/ASOget.py:147\u001b[0m, in \u001b[0;36mASODataTool.cmr_download\u001b[0;34m(self, directory, region)\u001b[0m\n\u001b[1;32m    144\u001b[0m credentials \u001b[38;5;241m=\u001b[39m \u001b[38;5;28mself\u001b[39m\u001b[38;5;241m.\u001b[39mget_credentials()\n\u001b[1;32m    146\u001b[0m \u001b[38;5;28;01mwith\u001b[39;00m cf\u001b[38;5;241m.\u001b[39mThreadPoolExecutor(max_workers\u001b[38;5;241m=\u001b[39m\u001b[38;5;241m5\u001b[39m) \u001b[38;5;28;01mas\u001b[39;00m executor: \u001b[38;5;66;03m#setting max workers to none leads to 503 error, NASA does not like us pinging a lot\u001b[39;00m\n\u001b[0;32m--> 147\u001b[0m     {executor\u001b[38;5;241m.\u001b[39msubmit(NSIDC_Data\u001b[38;5;241m.\u001b[39mcmr_download, (\u001b[38;5;28mself\u001b[39m\u001b[38;5;241m.\u001b[39murl_list[i]),credentials, dpath,region, \u001b[38;5;28;01mFalse\u001b[39;00m):i \u001b[38;5;28;01mfor\u001b[39;00m i \u001b[38;5;129;01min\u001b[39;00m tqdm(\u001b[38;5;28mrange\u001b[39m(\u001b[38;5;28mlen\u001b[39m(\u001b[38;5;28mself\u001b[39m\u001b[38;5;241m.\u001b[39murl_list)))}\n\u001b[1;32m    149\u001b[0m \u001b[38;5;28mprint\u001b[39m(\u001b[38;5;124mf\u001b[39m\u001b[38;5;124m\"\u001b[39m\u001b[38;5;124mAll NASA ASO data collected for given date range and can be found in \u001b[39m\u001b[38;5;132;01m{\u001b[39;00mdpath\u001b[38;5;132;01m}\u001b[39;00m\u001b[38;5;124m...\u001b[39m\u001b[38;5;124m\"\u001b[39m)\n\u001b[1;32m    150\u001b[0m \u001b[38;5;28mprint\u001b[39m(\u001b[38;5;124m\"\u001b[39m\u001b[38;5;124mFiles with .xml extension moved to the destination folder.\u001b[39m\u001b[38;5;124m\"\u001b[39m)\n",
      "File \u001b[0;32m~/envs/SWEML_env2/lib/python3.9/concurrent/futures/_base.py:637\u001b[0m, in \u001b[0;36mExecutor.__exit__\u001b[0;34m(self, exc_type, exc_val, exc_tb)\u001b[0m\n\u001b[1;32m    636\u001b[0m \u001b[38;5;28;01mdef\u001b[39;00m \u001b[38;5;21m__exit__\u001b[39m(\u001b[38;5;28mself\u001b[39m, exc_type, exc_val, exc_tb):\n\u001b[0;32m--> 637\u001b[0m     \u001b[38;5;28;43mself\u001b[39;49m\u001b[38;5;241;43m.\u001b[39;49m\u001b[43mshutdown\u001b[49m\u001b[43m(\u001b[49m\u001b[43mwait\u001b[49m\u001b[38;5;241;43m=\u001b[39;49m\u001b[38;5;28;43;01mTrue\u001b[39;49;00m\u001b[43m)\u001b[49m\n\u001b[1;32m    638\u001b[0m     \u001b[38;5;28;01mreturn\u001b[39;00m \u001b[38;5;28;01mFalse\u001b[39;00m\n",
      "File \u001b[0;32m~/envs/SWEML_env2/lib/python3.9/concurrent/futures/thread.py:235\u001b[0m, in \u001b[0;36mThreadPoolExecutor.shutdown\u001b[0;34m(self, wait, cancel_futures)\u001b[0m\n\u001b[1;32m    233\u001b[0m \u001b[38;5;28;01mif\u001b[39;00m wait:\n\u001b[1;32m    234\u001b[0m     \u001b[38;5;28;01mfor\u001b[39;00m t \u001b[38;5;129;01min\u001b[39;00m \u001b[38;5;28mself\u001b[39m\u001b[38;5;241m.\u001b[39m_threads:\n\u001b[0;32m--> 235\u001b[0m         \u001b[43mt\u001b[49m\u001b[38;5;241;43m.\u001b[39;49m\u001b[43mjoin\u001b[49m\u001b[43m(\u001b[49m\u001b[43m)\u001b[49m\n",
      "File \u001b[0;32m~/envs/SWEML_env2/lib/python3.9/threading.py:1060\u001b[0m, in \u001b[0;36mThread.join\u001b[0;34m(self, timeout)\u001b[0m\n\u001b[1;32m   1057\u001b[0m     \u001b[38;5;28;01mraise\u001b[39;00m \u001b[38;5;167;01mRuntimeError\u001b[39;00m(\u001b[38;5;124m\"\u001b[39m\u001b[38;5;124mcannot join current thread\u001b[39m\u001b[38;5;124m\"\u001b[39m)\n\u001b[1;32m   1059\u001b[0m \u001b[38;5;28;01mif\u001b[39;00m timeout \u001b[38;5;129;01mis\u001b[39;00m \u001b[38;5;28;01mNone\u001b[39;00m:\n\u001b[0;32m-> 1060\u001b[0m     \u001b[38;5;28;43mself\u001b[39;49m\u001b[38;5;241;43m.\u001b[39;49m\u001b[43m_wait_for_tstate_lock\u001b[49m\u001b[43m(\u001b[49m\u001b[43m)\u001b[49m\n\u001b[1;32m   1061\u001b[0m \u001b[38;5;28;01melse\u001b[39;00m:\n\u001b[1;32m   1062\u001b[0m     \u001b[38;5;66;03m# the behavior of a negative timeout isn't documented, but\u001b[39;00m\n\u001b[1;32m   1063\u001b[0m     \u001b[38;5;66;03m# historically .join(timeout=x) for x<0 has acted as if timeout=0\u001b[39;00m\n\u001b[1;32m   1064\u001b[0m     \u001b[38;5;28mself\u001b[39m\u001b[38;5;241m.\u001b[39m_wait_for_tstate_lock(timeout\u001b[38;5;241m=\u001b[39m\u001b[38;5;28mmax\u001b[39m(timeout, \u001b[38;5;241m0\u001b[39m))\n",
      "File \u001b[0;32m~/envs/SWEML_env2/lib/python3.9/threading.py:1080\u001b[0m, in \u001b[0;36mThread._wait_for_tstate_lock\u001b[0;34m(self, block, timeout)\u001b[0m\n\u001b[1;32m   1077\u001b[0m     \u001b[38;5;28;01mreturn\u001b[39;00m\n\u001b[1;32m   1079\u001b[0m \u001b[38;5;28;01mtry\u001b[39;00m:\n\u001b[0;32m-> 1080\u001b[0m     \u001b[38;5;28;01mif\u001b[39;00m \u001b[43mlock\u001b[49m\u001b[38;5;241;43m.\u001b[39;49m\u001b[43macquire\u001b[49m\u001b[43m(\u001b[49m\u001b[43mblock\u001b[49m\u001b[43m,\u001b[49m\u001b[43m \u001b[49m\u001b[43mtimeout\u001b[49m\u001b[43m)\u001b[49m:\n\u001b[1;32m   1081\u001b[0m         lock\u001b[38;5;241m.\u001b[39mrelease()\n\u001b[1;32m   1082\u001b[0m         \u001b[38;5;28mself\u001b[39m\u001b[38;5;241m.\u001b[39m_stop()\n",
      "\u001b[0;31mKeyboardInterrupt\u001b[0m: "
     ]
    },
    {
     "name": "stdout",
     "output_type": "stream",
     "text": [
      "\b  [========================================                    ]  67%  3.2MB/s    [============                                                ]  20%  2.1MB/s    [============================================================] 100%  4.7MB/s   "
     ]
    },
    {
     "name": "stdout",
     "output_type": "stream",
     "text": [
      "\n",
      "\b  [========================                                    ]  40%  4.1MB/s    [====================================                        ]  60%  6.0MB/s    [================================================            ]  80%  7.7MB/s    [============================================================] 100%  9.1MB/s   \n",
      "\b  [============================================================] 100%  835.7kB/s   \n",
      "\b  [====================                                        ]  33%  3.6MB/s    [========================================                    ]  67%  6.1MB/s    [============================================================] 100%  8.9MB/s   \n",
      "\b  [============================================================] 100%  749.9kB/s   \n",
      "\b  [============================================================] 100%  1.0MB/s   \n",
      "\b  [============                                                ]  20%  3.6MB/s    [========================                                    ]  40%  6.0MB/s    [====================================                        ]  60%  8.1MB/s   [================================================            ]  80%  10.1MB/s   [============================================================] 100%  12.4MB/s   \n",
      "\b  [====================                                        ]  33%  3.5MB/s    [========================================                    ]  67%  5.8MB/s    [============================================================] 100%  8.5MB/s   \n",
      "\b  [============================================================] 100%  981.4kB/s   \n",
      "\b  [============                                                ]  20%  3.5MB/s    [========================                                    ]  40%  6.1MB/s    [====================================                        ]  60%  8.1MB/s   [================================================            ]  80%  10.3MB/s   [============================================================] 100%  12.6MB/s   \n",
      "\b  [============================================================] 100%  874.1kB/s   \n",
      "\b  [============================================================] 100%  914.4kB/s   \n",
      "\b  [====================                                        ]  33%  3.6MB/s    [========================================                    ]  67%  6.0MB/s    [============================================================] 100%  8.8MB/s   \n",
      "\b  [============                                                ]  20%  3.5MB/s    [========================                                    ]  40%  6.3MB/s    [====================================                        ]  60%  8.9MB/s   [================================================            ]  80%  10.7MB/s   [============================================================] 100%  13.2MB/s   \n",
      "\b  [============================================================] 100%  889.8kB/s   \n",
      "\b  [====================                                        ]  33%  3.7MB/s    [========================================                    ]  67%  6.2MB/s    [============================================================] 100%  9.0MB/s   \n",
      "\b  [============================================================] 100%  858.8kB/s    [============                                                ]  20%  3.6MB/s    [============================================================] 100%  925.9kB/s   \n",
      "\b  [========================                                    ]  40%  6.0MB/s    [====================================                        ]  60%  8.1MB/s   [================================================            ]  80%  10.3MB/s   [============================================================] 100%  12.7MB/s   \n",
      "\b  [============                                                ]  20%  2.7MB/s    [================================================            ]  80%  8.1MB/s   [============================================================] 100%  10.0MB/s   \n",
      "\b  [============================================================] 100%  176.1kB/s   \n",
      "\b  [============================================================] 100%  107.6kB/s   \n",
      "\b  [============================================================] 100%  50.4kB/s    [============                                                ]  20%  857.4kB/s   \n",
      "\b  [========================                                    ]  40%  1.6MB/s    [====================================                        ]  60%  2.3MB/s    [================================================            ]  80%  3.0MB/s    [============================================================] 100%  3.8MB/s   \n",
      "\b  [============                                                ]  20%  3.6MB/s    [========================                                    ]  40%  6.1MB/s    [====================================                        ]  60%  8.6MB/s   [================================================            ]  80%  10.3MB/s   [============================================================] 100%  12.7MB/s   \n",
      "\b  [============================================================] 100%  868.8kB/s   \n",
      "  [============================================================] 100%  879.5kB/s   \n",
      "\b  [============================================================] 100%  974.2kB/s   \n",
      "\b  [============                                                ]  20%  3.5MB/s    [========================                                    ]  40%  6.0MB/s    [====================================                        ]  60%  8.1MB/s   [================================================            ]  80%  10.3MB/s   [============================================================] 100%  12.7MB/s   \n",
      "  [============================================================] 100%  1.9MB/s   \n",
      "\b  [============================================================] 100%  930.3kB/s   \n",
      "\b  [==========                                                  ]  17%  3.6MB/s    [====================                                        ]  33%  6.1MB/s    [==============================                              ]  50%  8.6MB/s   [========================================                    ]  67%  10.6MB/s   [==================================================          ]  83%  12.5MB/s   [============================================================] 100%  14.7MB/s   \n",
      "  [============                                                ]  20%  3.5MB/s    [========================                                    ]  40%  6.0MB/s    [====================================                        ]  60%  8.0MB/s   [================================================            ]  80%  10.1MB/s   [============================================================] 100%  12.4MB/s   \n",
      "\b  [============                                                ]  20%  3.5MB/s    [========================                                    ]  40%  5.5MB/s    [====================================                        ]  60%  7.9MB/s   [================================================            ]  80%  10.0MB/s   [============================================================] 100%  12.4MB/s   \n",
      "\b  [============================================================] 100%  1.3MB/s   \n",
      "\b  [==========                                                  ]  17%  3.6MB/s    [====================                                        ]  33%  6.2MB/s    [==============================                              ]  50%  8.7MB/s    [========================================                    ]  67%  9.5MB/s   [==================================================          ]  83%  11.3MB/s    [============================================================] 100%  971.3kB/s     [============================================================] 100%  13.3MB/s   \n",
      "\b  [============================================================] 100%  944.4kB/s   \n",
      "\b  [============                                                ]  20%  3.5MB/s    [========================                                    ]  40%  6.0MB/s    [====================================                        ]  60%  8.6MB/s   [================================================            ]  80%  10.2MB/s   [============================================================] 100%  12.5MB/s   \n",
      "\b  [==========                                                  ]  17%  3.5MB/s    [====================                                        ]  33%  6.0MB/s    [==============================                              ]  50%  8.5MB/s   [========================================                    ]  67%  10.4MB/s   [==================================================          ]  83%  12.4MB/s   [============================================================] 100%  14.6MB/s   \n",
      "  [============                                                ]  20%  3.5MB/s    [========================                                    ]  40%  5.7MB/s    [====================================                        ]  60%  8.0MB/s   [================================================            ]  80%  10.1MB/s   [============================================================] 100%  12.5MB/s   \n",
      "\b  [============================================================] 100%  976.1kB/s   \n"
     ]
    }
   ],
   "source": [
    "from ASOget import ASODownload, ASODataProcessing\n",
    "\n",
    "# Inputs for fetching ASO data for a region\n",
    "short_name = 'ASO_50M_SWE'\n",
    "version = '1'\n",
    "time_start = '2013-04-02T00:00:00Z'\n",
    "time_end = '2019-07-19T23:59:59Z'\n",
    "region_list = ['S_Sierras']\n",
    "output_res = 300 #desired spatial resoultion in meters (m)\n",
    "directory = \"Raw_ASO_Data\"\n",
    "\n",
    "#Get ASO data\n",
    "for region in region_list:\n",
    "    folder_name = f\"{region}/{directory}\"\n",
    "    data_tool = ASODownload(short_name, version)\n",
    "    b_box = data_tool.BoundingBox(region)  \n",
    "    url_list = data_tool.cmr_search(time_start, time_end, region, b_box)\n",
    "    data_tool.cmr_download(directory, region)\n",
    "\n",
    "    #Convert ASO tifs to parquet\n",
    "    data_processor = ASODataProcessing()\n",
    "    data_processor.convert_tiff_to_parquet_multiprocess(folder_name, output_res, region) "
   ]
  },
  {
   "cell_type": "markdown",
   "id": "a329ea64",
   "metadata": {},
   "source": [
    "# Code for generating ML dataframe using nearest in situ monitoring sites"
   ]
  },
  {
   "cell_type": "code",
   "execution_count": null,
   "id": "aacde450",
   "metadata": {},
   "outputs": [],
   "source": [
    "import GeoDF\n",
    "\n",
    "# GeoDF used to create a dataframe for ML model development. Its function is to connect in situ observations to gridded locations\n",
    "for region in region_list:\n",
    "    #load snotel meta location data, use haversive function\n",
    "    GeoDF.fetch_snotel_sites_for_cellids(region, output_res) # Using known up to date sites, can this be threaded?\n",
    "\n",
    "    # Get geophysical attributes for each site, need to see how to add output resolution\n",
    "    gdf = GeoDF.GeoSpatial(region, output_res)\n",
    "\n",
    "    #use geodataframe with lat/long meta of all sites to determine slope, aspect, and elevation\n",
    "    metadf = GeoDF.extract_terrain_data_threaded(gdf, region, output_res)\n",
    "\n",
    "\n"
   ]
  },
  {
   "cell_type": "markdown",
   "id": "72349ac4",
   "metadata": {},
   "source": [
    "## Connect Snotel to each ASO obs"
   ]
  },
  {
   "cell_type": "code",
   "execution_count": 1,
   "id": "573a5df6",
   "metadata": {},
   "outputs": [
    {
     "name": "stdout",
     "output_type": "stream",
     "text": [
      "Connecting site observations with nearest monitoring network obs\n",
      "Loading observations from 2013-2019\n",
      "Loading 300M resolution grids for S_Sierras region\n",
      "Processing datetime component of SNOTEL observation dataframe\n",
      "Loading 99 processed ASO observations for the S_Sierras at 300M resolution\n",
      "There are 99 aso dates in snotel obs\n",
      "There are 0 missing snotel obs\n",
      "Getting CDEC and SNOTEL observations for the following dates: []\n"
     ]
    },
    {
     "name": "stderr",
     "output_type": "stream",
     "text": [
      "0it [00:00, ?it/s]"
     ]
    },
    {
     "name": "stdout",
     "output_type": "stream",
     "text": [
      "Updating local meta and saving.\n"
     ]
    },
    {
     "name": "stderr",
     "output_type": "stream",
     "text": [
      "\n"
     ]
    },
    {
     "name": "stdout",
     "output_type": "stream",
     "text": [
      "Connecting 1 timesteps of observations for S_Sierras\n"
     ]
    },
    {
     "name": "stderr",
     "output_type": "stream",
     "text": [
      "100%|██████████| 1/1 [00:00<00:00,  1.74it/s]\n"
     ]
    },
    {
     "name": "stdout",
     "output_type": "stream",
     "text": [
      "Adding geospatial data to 20160614 observations...\n"
     ]
    },
    {
     "data": {
      "application/json": {
       "ascii": false,
       "bar_format": null,
       "colour": null,
       "elapsed": 0.01760077476501465,
       "initial": 0,
       "n": 0,
       "ncols": null,
       "nrows": null,
       "postfix": null,
       "prefix": "",
       "rate": null,
       "total": 25504,
       "unit": "it",
       "unit_divisor": 1000,
       "unit_scale": false
      },
      "application/vnd.jupyter.widget-view+json": {
       "model_id": "04cca09940fa4d888f3183f5e9b739c3",
       "version_major": 2,
       "version_minor": 0
      },
      "text/plain": [
       "  0%|          | 0/25504 [00:00<?, ?it/s]"
      ]
     },
     "metadata": {},
     "output_type": "display_data"
    },
    {
     "name": "stdout",
     "output_type": "stream",
     "text": [
      "Job complete for connecting SNOTEL obs to sites/dates\n"
     ]
    }
   ],
   "source": [
    "import importlib\n",
    "importlib.reload(Obs_to_DF)\n",
    "\n",
    "import Obs_to_DF\n",
    "region = \"S_Sierras\"\n",
    "output_res = 300\n",
    "\n",
    "#Connect nearest snotel observations with ASO data, makes a parquet file for each date  -  test to see if this works\n",
    "Obs_to_DF.Nearest_Snotel_2_obs_MultiProcess(region, output_res) "
   ]
  },
  {
   "cell_type": "code",
   "execution_count": null,
   "id": "fda088e4",
   "metadata": {},
   "outputs": [],
   "source": []
  },
  {
   "cell_type": "code",
   "execution_count": null,
   "id": "3b7816b1",
   "metadata": {},
   "outputs": [],
   "source": [
    "import GeoDF\n",
    "\n",
    "region = 'S_Sierras'\n",
    "output_res = 300\n",
    "\n",
    "#Connect cell ids with ASO obs and snotel obs to geospatial features\n",
    "GeoDF.add_geospatial_threaded(region, output_res)"
   ]
  },
  {
   "cell_type": "markdown",
   "id": "facee8dc",
   "metadata": {},
   "source": [
    "# Get NASA VIIRS fraction snow covered area for each location "
   ]
  },
  {
   "cell_type": "code",
   "execution_count": null,
   "id": "8e5fe64b",
   "metadata": {},
   "outputs": [],
   "source": [
    "import get_VIIRS_SCA\n",
    "region = 'S_Sierras'\n",
    "output_res = 300\n",
    "threshold = 20\n",
    "\n",
    "#check to see if the VIIRS data is available locally, if not, get from CIROH AWS\n",
    "get_VIIRS_SCA.get_VIIRS_from_AWS()\n",
    "\n",
    "#Connect VIIRS data to dataframes\n",
    "get_VIIRS_SCA.augment_SCA_mutliprocessing(region, output_res, threshold)"
   ]
  },
  {
   "cell_type": "code",
   "execution_count": null,
   "id": "e7498520",
   "metadata": {},
   "outputs": [],
   "source": [
    "#load access key\n",
    "import pandas as pd\n",
    "import numpy as np\n",
    "import os\n",
    "HOME = os.path.expanduser('~')\n",
    "region = 'S_Sierras'\n",
    "output_res = 300\n",
    "threshold = 20\n",
    "\n",
    "ViirsFolder = f\"{HOME}/SWEMLv2.0/data/TrainingDFs/{region}/{output_res}M_Resolution/VIIRSGeoObsDFs/20_fSCA_Thresh\"\n",
    "\n",
    "#Get list of GeoObsDF dataframes\n",
    "GeoObsDF_files = [filename for filename in os.listdir(ViirsFolder)]\n",
    "\n",
    "file = pd.read_parquet(os.path.join(ViirsFolder, GeoObsDF_files[1]), engine = 'fastparquet')\n",
    "\n",
    "file"
   ]
  },
  {
   "cell_type": "code",
   "execution_count": null,
   "id": "a7fa7047",
   "metadata": {},
   "outputs": [],
   "source": [
    "file[(file['VIIRS_SCA'].isna())]"
   ]
  },
  {
   "cell_type": "code",
   "execution_count": null,
   "id": "48979198",
   "metadata": {},
   "outputs": [],
   "source": [
    "notna = file[(file['VIIRS_SCA']>0) & (file['swe_m'] > 0.5)]\n",
    "np.sort(notna['VIIRS_SCA'].unique())"
   ]
  },
  {
   "cell_type": "code",
   "execution_count": null,
   "id": "184dbb2b",
   "metadata": {},
   "outputs": [],
   "source": [
    "np.NaN"
   ]
  },
  {
   "cell_type": "code",
   "execution_count": null,
   "id": "23d7de7e",
   "metadata": {},
   "outputs": [],
   "source": [
    "import get_Precip\n",
    "\n",
    "#gets precipitation for each location, accumulates it through the water year\n",
    "\n",
    "#set start/end date for a water year\n",
    "years = [2013, 2014, 2015, 2016, 2017, 2018, 2019]\n",
    "region = 'S_Sierras'\n",
    "output_res = 100\n",
    "for year in years:\n",
    "    get_Precip.get_precip_threaded(year, region, output_res)"
   ]
  },
  {
   "cell_type": "code",
   "execution_count": null,
   "id": "486f76ad",
   "metadata": {},
   "outputs": [],
   "source": [
    "import os\n",
    "import pandas as pd\n",
    "\n",
    "import pyarrow as pa\n",
    "import pyarrow.parquet as pq\n",
    "\n",
    "HOME = os.path.expanduser('~')\n",
    "\n",
    "region = 'S_Sierras'\n",
    "year = 2013\n",
    "output_res = 100\n",
    "\n",
    "Precippath = f\"{HOME}/SWEMLv2.0/data/Precipitation/{region}/{output_res}M_NLDAS_Precip/{year}\"\n",
    "\n",
    "ppt = pd.read_parquet(f\"{Precippath}/NLDAS_PPT_2013-04-03.parquet\")\n",
    "\n",
    "ppt.set_index('cell_id', inplace=True)\n",
    "\n",
    "ppt"
   ]
  },
  {
   "cell_type": "code",
   "execution_count": null,
   "id": "2dbcb6bc",
   "metadata": {},
   "outputs": [],
   "source": [
    "ppt"
   ]
  },
  {
   "cell_type": "code",
   "execution_count": null,
   "id": "61f7bddc",
   "metadata": {},
   "outputs": [],
   "source": [
    "# Merge with metadata\n",
    "req_cols = ['cell_id', 'lat', 'lon', 'BR_Coord_Long', 'BR_Coord_Lat', 'UR_Coord_Long', 'UR_Coord_Lat',\n",
    "            'UL_Coord_Long', 'UL_Coord_Lat', 'BL_Coord_Long', 'BL_Coord_Lat', 'geometry']\n",
    "Result = final_df.merge(metadata[req_cols], how='left', on='cell_id')\n",
    "\n",
    "# Column renaming and ordering\n",
    "Result.rename(columns={'swe': 'ASO_SWE_in'}, inplace=True)\n",
    "Result = Result[['cell_id', 'Date', 'ASO_SWE_in', 'lat', 'lon', 'nearest site 1', 'nearest site 2',\n",
    "                    'nearest site 3', 'nearest site 4', 'nearest site 5', 'nearest site 6',\n",
    "                    'BR_Coord_Long', 'BR_Coord_Lat', 'UR_Coord_Long', 'UR_Coord_Lat',\n",
    "                    'UL_Coord_Long', 'UL_Coord_Lat', 'BL_Coord_Long', 'BL_Coord_Lat']]\n",
    "\n",
    "# Save the merged data to a new file\n",
    "output_filename = f\"{HOME}/SWEML/data/NSMv2.0/data/TrainingDFs/Merged_aso_snotel_data.parquet\"\n",
    "Result.to_csv(output_filename, index=False)\n",
    "display(Result.head(10))\n",
    "print(\"Processed and saved data\")"
   ]
  }
 ],
 "metadata": {
  "kernelspec": {
   "display_name": "SWEML_env2",
   "language": "python",
   "name": "python3"
  },
  "language_info": {
   "codemirror_mode": {
    "name": "ipython",
    "version": 3
   },
   "file_extension": ".py",
   "mimetype": "text/x-python",
   "name": "python",
   "nbconvert_exporter": "python",
   "pygments_lexer": "ipython3",
   "version": "3.9.18"
  }
 },
 "nbformat": 4,
 "nbformat_minor": 5
}

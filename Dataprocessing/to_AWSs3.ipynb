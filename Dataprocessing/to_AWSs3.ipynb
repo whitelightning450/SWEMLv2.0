{
 "cells": [
  {
   "cell_type": "markdown",
   "metadata": {},
   "source": [
    "# Push/Pull to AWS\n",
    "* Training DF files\n",
    "* then push other data"
   ]
  },
  {
   "cell_type": "code",
   "execution_count": 1,
   "metadata": {},
   "outputs": [],
   "source": [
    "import pandas as pd\n",
    "import boto3\n",
    "import numpy as np\n",
    "import os\n",
    "from os import listdir\n",
    "from os.path import isfile, join\n",
    "from tqdm import tqdm_notebook\n",
    "import warnings\n",
    "from pathlib import Path\n",
    "\n",
    "warnings.filterwarnings(\"ignore\")\n",
    "#set path directory\n",
    "\n",
    "#load access key\n",
    "HOME = os.path.expanduser('~')\n",
    "KEYPATH = \"SWEMLv2.0/AWSaccessKeys.csv\"\n",
    "ACCESS = pd.read_csv(f\"{HOME}/{KEYPATH}\")\n",
    "\n",
    "#start session\n",
    "SESSION = boto3.Session(\n",
    "    aws_access_key_id=ACCESS['Access key ID'][0],\n",
    "    aws_secret_access_key=ACCESS['Secret access key'][0],\n",
    ")\n",
    "S3 = SESSION.resource('s3')\n",
    "#AWS BUCKET information\n",
    "BUCKET_NAME = 'national-snow-model'\n",
    "BUCKET = S3.Bucket(BUCKET_NAME)\n"
   ]
  },
  {
   "cell_type": "markdown",
   "metadata": {},
   "source": [
    "## Training DF regional files"
   ]
  },
  {
   "cell_type": "code",
   "execution_count": 4,
   "metadata": {},
   "outputs": [
    {
     "name": "stdout",
     "output_type": "stream",
     "text": [
      "SouthernRockies\n"
     ]
    },
    {
     "data": {
      "application/vnd.jupyter.widget-view+json": {
       "model_id": "73d58780ab1a428c829b0410c40458f1",
       "version_major": 2,
       "version_minor": 0
      },
      "text/plain": [
       "0it [00:00, ?it/s]"
      ]
     },
     "metadata": {},
     "output_type": "display_data"
    },
    {
     "name": "stdout",
     "output_type": "stream",
     "text": [
      "Folder name: /home/rjohnson18/SWEMLv2.0/data/ASO/SouthernRockies/Raw_ASO_Data\n"
     ]
    },
    {
     "data": {
      "application/vnd.jupyter.widget-view+json": {
       "model_id": "b77eff321376427ab7ff47d01db8130d",
       "version_major": 2,
       "version_minor": 0
      },
      "text/plain": [
       "  0%|          | 0/19 [00:00<?, ?it/s]"
      ]
     },
     "metadata": {},
     "output_type": "display_data"
    },
    {
     "name": "stdout",
     "output_type": "stream",
     "text": [
      "Folder name: /home/rjohnson18/SWEMLv2.0/data/ASO/SouthernRockies/ASO_xml\n"
     ]
    },
    {
     "data": {
      "application/vnd.jupyter.widget-view+json": {
       "model_id": "0cd31a16049940d58c80f81d937e1a46",
       "version_major": 2,
       "version_minor": 0
      },
      "text/plain": [
       "  0%|          | 0/19 [00:00<?, ?it/s]"
      ]
     },
     "metadata": {},
     "output_type": "display_data"
    },
    {
     "name": "stdout",
     "output_type": "stream",
     "text": [
      "Folder name: /home/rjohnson18/SWEMLv2.0/data/ASO/SouthernRockies/Processed_300M_SWE\n"
     ]
    },
    {
     "data": {
      "application/vnd.jupyter.widget-view+json": {
       "model_id": "d8a924f752584341962adee712050f2c",
       "version_major": 2,
       "version_minor": 0
      },
      "text/plain": [
       "  0%|          | 0/14 [00:00<?, ?it/s]"
      ]
     },
     "metadata": {},
     "output_type": "display_data"
    },
    {
     "name": "stdout",
     "output_type": "stream",
     "text": [
      "Folder name: /home/rjohnson18/SWEMLv2.0/data/ASO/SouthernRockies/300M_SWE_parquet\n"
     ]
    },
    {
     "data": {
      "application/vnd.jupyter.widget-view+json": {
       "model_id": "f5351c195ddc4e29a8734d6b440b03fc",
       "version_major": 2,
       "version_minor": 0
      },
      "text/plain": [
       "  0%|          | 0/14 [00:00<?, ?it/s]"
      ]
     },
     "metadata": {},
     "output_type": "display_data"
    },
    {
     "name": "stdout",
     "output_type": "stream",
     "text": [
      "Southwest\n"
     ]
    },
    {
     "data": {
      "application/vnd.jupyter.widget-view+json": {
       "model_id": "729f016635284239b11a46655b4c21dc",
       "version_major": 2,
       "version_minor": 0
      },
      "text/plain": [
       "0it [00:00, ?it/s]"
      ]
     },
     "metadata": {},
     "output_type": "display_data"
    },
    {
     "name": "stdout",
     "output_type": "stream",
     "text": [
      "Folder name: /home/rjohnson18/SWEMLv2.0/data/ASO/Southwest/Raw_ASO_Data\n"
     ]
    },
    {
     "data": {
      "application/vnd.jupyter.widget-view+json": {
       "model_id": "2a51593e7deb4a7e96ae3dfdf4bb2372",
       "version_major": 2,
       "version_minor": 0
      },
      "text/plain": [
       "  0%|          | 0/131 [00:00<?, ?it/s]"
      ]
     },
     "metadata": {},
     "output_type": "display_data"
    },
    {
     "name": "stdout",
     "output_type": "stream",
     "text": [
      "Folder name: /home/rjohnson18/SWEMLv2.0/data/ASO/Southwest/ASO_xml\n"
     ]
    },
    {
     "data": {
      "application/vnd.jupyter.widget-view+json": {
       "model_id": "b3cc34f4bef646d5a8c9d8dd4075db09",
       "version_major": 2,
       "version_minor": 0
      },
      "text/plain": [
       "  0%|          | 0/130 [00:00<?, ?it/s]"
      ]
     },
     "metadata": {},
     "output_type": "display_data"
    },
    {
     "name": "stdout",
     "output_type": "stream",
     "text": [
      "Folder name: /home/rjohnson18/SWEMLv2.0/data/ASO/Southwest/Processed_300M_SWE\n"
     ]
    },
    {
     "data": {
      "application/vnd.jupyter.widget-view+json": {
       "model_id": "ecd299baa28940c287ad3495435fdf1c",
       "version_major": 2,
       "version_minor": 0
      },
      "text/plain": [
       "  0%|          | 0/99 [00:00<?, ?it/s]"
      ]
     },
     "metadata": {},
     "output_type": "display_data"
    },
    {
     "name": "stdout",
     "output_type": "stream",
     "text": [
      "Folder name: /home/rjohnson18/SWEMLv2.0/data/ASO/Southwest/300M_SWE_parquet\n"
     ]
    },
    {
     "data": {
      "application/vnd.jupyter.widget-view+json": {
       "model_id": "3b4fab5952e44929867507d78d5a1ef4",
       "version_major": 2,
       "version_minor": 0
      },
      "text/plain": [
       "  0%|          | 0/99 [00:00<?, ?it/s]"
      ]
     },
     "metadata": {},
     "output_type": "display_data"
    },
    {
     "name": "stdout",
     "output_type": "stream",
     "text": [
      "Northwest\n"
     ]
    },
    {
     "data": {
      "application/vnd.jupyter.widget-view+json": {
       "model_id": "144b1fc7f2ab4dc7aab614383403ff96",
       "version_major": 2,
       "version_minor": 0
      },
      "text/plain": [
       "0it [00:00, ?it/s]"
      ]
     },
     "metadata": {},
     "output_type": "display_data"
    },
    {
     "name": "stdout",
     "output_type": "stream",
     "text": [
      "Folder name: /home/rjohnson18/SWEMLv2.0/data/ASO/Northwest/Raw_ASO_Data\n"
     ]
    },
    {
     "data": {
      "application/vnd.jupyter.widget-view+json": {
       "model_id": "d7373cefe69a44e09184ec58d6f9ff30",
       "version_major": 2,
       "version_minor": 0
      },
      "text/plain": [
       "  0%|          | 0/2 [00:00<?, ?it/s]"
      ]
     },
     "metadata": {},
     "output_type": "display_data"
    },
    {
     "name": "stdout",
     "output_type": "stream",
     "text": [
      "Folder name: /home/rjohnson18/SWEMLv2.0/data/ASO/Northwest/ASO_xml\n"
     ]
    },
    {
     "data": {
      "application/vnd.jupyter.widget-view+json": {
       "model_id": "099e249c5fb641cf937930225d414692",
       "version_major": 2,
       "version_minor": 0
      },
      "text/plain": [
       "  0%|          | 0/2 [00:00<?, ?it/s]"
      ]
     },
     "metadata": {},
     "output_type": "display_data"
    },
    {
     "name": "stdout",
     "output_type": "stream",
     "text": [
      "Folder name: /home/rjohnson18/SWEMLv2.0/data/ASO/Northwest/Processed_300M_SWE\n"
     ]
    },
    {
     "data": {
      "application/vnd.jupyter.widget-view+json": {
       "model_id": "92ff2742a41c4ed884fa263635c8307e",
       "version_major": 2,
       "version_minor": 0
      },
      "text/plain": [
       "  0%|          | 0/2 [00:00<?, ?it/s]"
      ]
     },
     "metadata": {},
     "output_type": "display_data"
    },
    {
     "name": "stdout",
     "output_type": "stream",
     "text": [
      "Folder name: /home/rjohnson18/SWEMLv2.0/data/ASO/Northwest/300M_SWE_parquet\n"
     ]
    },
    {
     "data": {
      "application/vnd.jupyter.widget-view+json": {
       "model_id": "c3723a995a2548a39e01c6ffad37e116",
       "version_major": 2,
       "version_minor": 0
      },
      "text/plain": [
       "  0%|          | 0/2 [00:00<?, ?it/s]"
      ]
     },
     "metadata": {},
     "output_type": "display_data"
    }
   ],
   "source": [
    "#Upload nearest-snotel dictionaries\n",
    "regionlist = ['SouthernRockies', 'Southwest', 'Northwest']\n",
    "output_res = 300\n",
    "\n",
    "for region in regionlist:\n",
    "    print(region)\n",
    "    head_folder = f\"SWEMLv2.0/data/ASO/{region}/\"\n",
    "    head_folder_dir = f\"{HOME}/{head_folder}\"\n",
    "\n",
    "    #Get files only\n",
    "    files = [f for f in listdir(head_folder_dir) if isfile(join(head_folder_dir, f))]\n",
    "    for file in tqdm_notebook(files):\n",
    "        S3.meta.client.upload_file(Filename= f\"{head_folder_dir}{file}\", Bucket=BUCKET_NAME, Key=f\"{head_folder}{file}\")\n",
    "\n",
    "    #get list of directories to download\n",
    "    dirs = [ f.path for f in os.scandir(head_folder_dir) if f.is_dir() ]\n",
    "    for dir in dirs:\n",
    "        print(f\"Folder name: {dir.split('300M_Resolution/')[-1]}\")\n",
    "        awsfolderpath = f\"SWEMLv2.0{dir.split('SWEMLv2.0')[-1]}\"\n",
    "        headfolderpath = f\"{HOME}/{awsfolderpath}\"\n",
    "        files = [f for f in listdir(headfolderpath) if isfile(join(headfolderpath, f))]\n",
    "        for file in tqdm_notebook(files):\n",
    "             S3.meta.client.upload_file(Filename= f\"{headfolderpath}/{file}\", Bucket=BUCKET_NAME, Key=f\"{awsfolderpath}/{file}\")\n",
    "            # print(f\"{headfolderpath}/{file}\")\n",
    "\n",
    "        # #Get subfolders\n",
    "        # subdirs = [ f.path for f in os.scandir(headfolderpath) if f.is_dir() ]\n",
    "        # for dir in subdirs:\n",
    "        #     print(f\"Folder name: {dir.split('300M_Resolution/')[-1]}\")\n",
    "        #     awsfolderpath2 = f\"SWEMLv2.0{dir.split('SWEMLv2.0')[-1]}\"\n",
    "        #     headfolderpath2 = f\"{HOME}/{awsfolderpath2}\"\n",
    "        #     files = [f for f in listdir(headfolderpath2) if isfile(join(headfolderpath2, f))]\n",
    "        #     for file in tqdm_notebook(files):\n",
    "        #         S3.meta.client.upload_file(Filename= f\"{headfolderpath2}/{file}\", Bucket=BUCKET_NAME, Key=f\"{awsfolderpath2}/{file}\")\n",
    "\n",
    "\n",
    "\n",
    "        \n",
    "\n",
    "\n"
   ]
  },
  {
   "cell_type": "markdown",
   "metadata": {},
   "source": [
    "## Get files"
   ]
  },
  {
   "cell_type": "code",
   "execution_count": 5,
   "metadata": {},
   "outputs": [
    {
     "name": "stdout",
     "output_type": "stream",
     "text": [
      "Path not present, making\n"
     ]
    },
    {
     "data": {
      "application/vnd.jupyter.widget-view+json": {
       "model_id": "eb1176be588e455a8888609fb83cbc71",
       "version_major": 2,
       "version_minor": 0
      },
      "text/plain": [
       "  0%|          | 0/66 [00:00<?, ?it/s]"
      ]
     },
     "metadata": {},
     "output_type": "display_data"
    },
    {
     "name": "stdout",
     "output_type": "stream",
     "text": [
      "File already present...\n",
      "File already present...\n",
      "File already present...\n",
      "File already present...\n",
      "File already present...\n",
      "File already present...\n",
      "File already present...\n",
      "File already present...\n",
      "File already present...\n",
      "File already present...\n",
      "File already present...\n",
      "File already present...\n",
      "File already present...\n",
      "File already present...\n",
      "File already present...\n",
      "File already present...\n",
      "File already present...\n",
      "File already present...\n",
      "File already present...\n",
      "File already present...\n",
      "File already present...\n",
      "File already present...\n",
      "File already present...\n",
      "File already present...\n",
      "File already present...\n",
      "File already present...\n",
      "File already present...\n",
      "File already present...\n",
      "File already present...\n",
      "File already present...\n",
      "File already present...\n",
      "File already present...\n",
      "File already present...\n",
      "File already present...\n",
      "File already present...\n",
      "File already present...\n",
      "File already present...\n",
      "File already present...\n",
      "File already present...\n",
      "File already present...\n",
      "File already present...\n",
      "File already present...\n",
      "File already present...\n",
      "File already present...\n",
      "File already present...\n",
      "File already present...\n",
      "File already present...\n",
      "File already present...\n",
      "File already present...\n",
      "File already present...\n",
      "File already present...\n",
      "File already present...\n",
      "File already present...\n",
      "File already present...\n",
      "File already present...\n",
      "File already present...\n",
      "File already present...\n",
      "File already present...\n",
      "File already present...\n",
      "File already present...\n",
      "File already present...\n",
      "File already present...\n",
      "File already present...\n",
      "File already present...\n",
      "File already present...\n",
      "File already present...\n",
      "Path not present, making\n"
     ]
    },
    {
     "data": {
      "application/vnd.jupyter.widget-view+json": {
       "model_id": "34c0e002e1f74ff290cc55bacda40528",
       "version_major": 2,
       "version_minor": 0
      },
      "text/plain": [
       "  0%|          | 0/459 [00:00<?, ?it/s]"
      ]
     },
     "metadata": {},
     "output_type": "display_data"
    },
    {
     "name": "stdout",
     "output_type": "stream",
     "text": [
      "File already present...\n",
      "File already present...\n",
      "File already present...\n",
      "File already present...\n",
      "File already present...\n",
      "File already present...\n",
      "File already present...\n",
      "File already present...\n",
      "File already present...\n",
      "File already present...\n",
      "File already present...\n",
      "File already present...\n",
      "File already present...\n",
      "File already present...\n",
      "File already present...\n",
      "File already present...\n",
      "File already present...\n",
      "File already present...\n",
      "File already present...\n",
      "File already present...\n",
      "File already present...\n",
      "File already present...\n",
      "File already present...\n",
      "File already present...\n",
      "File already present...\n",
      "File already present...\n",
      "File already present...\n",
      "File already present...\n",
      "File already present...\n",
      "File already present...\n",
      "File already present...\n",
      "File already present...\n",
      "File already present...\n",
      "File already present...\n",
      "File already present...\n",
      "File already present...\n",
      "File already present...\n",
      "File already present...\n",
      "File already present...\n",
      "File already present...\n",
      "File already present...\n",
      "File already present...\n",
      "File already present...\n",
      "File already present...\n",
      "File already present...\n",
      "File already present...\n",
      "File already present...\n",
      "File already present...\n",
      "File already present...\n",
      "File already present...\n",
      "File already present...\n",
      "File already present...\n",
      "File already present...\n",
      "File already present...\n",
      "File already present...\n",
      "File already present...\n",
      "File already present...\n",
      "File already present...\n",
      "File already present...\n",
      "File already present...\n",
      "File already present...\n",
      "File already present...\n",
      "File already present...\n",
      "File already present...\n",
      "File already present...\n",
      "File already present...\n",
      "File already present...\n",
      "File already present...\n",
      "File already present...\n",
      "File already present...\n",
      "File already present...\n",
      "File already present...\n",
      "File already present...\n",
      "File already present...\n",
      "File already present...\n",
      "File already present...\n",
      "File already present...\n",
      "File already present...\n",
      "File already present...\n",
      "File already present...\n",
      "File already present...\n",
      "File already present...\n",
      "File already present...\n",
      "File already present...\n",
      "File already present...\n",
      "File already present...\n",
      "File already present...\n",
      "File already present...\n",
      "File already present...\n",
      "File already present...\n",
      "File already present...\n",
      "File already present...\n",
      "File already present...\n",
      "File already present...\n",
      "File already present...\n",
      "File already present...\n",
      "File already present...\n",
      "File already present...\n",
      "File already present...\n",
      "File already present...\n",
      "File already present...\n",
      "File already present...\n",
      "File already present...\n",
      "File already present...\n",
      "File already present...\n",
      "File already present...\n",
      "File already present...\n",
      "File already present...\n",
      "File already present...\n",
      "File already present...\n",
      "File already present...\n",
      "File already present...\n",
      "File already present...\n",
      "File already present...\n",
      "File already present...\n",
      "File already present...\n",
      "File already present...\n",
      "File already present...\n",
      "File already present...\n",
      "File already present...\n",
      "File already present...\n",
      "File already present...\n",
      "File already present...\n",
      "File already present...\n",
      "File already present...\n",
      "File already present...\n",
      "File already present...\n",
      "File already present...\n",
      "File already present...\n",
      "File already present...\n",
      "File already present...\n",
      "File already present...\n",
      "File already present...\n",
      "File already present...\n",
      "File already present...\n",
      "File already present...\n",
      "File already present...\n",
      "File already present...\n",
      "File already present...\n",
      "File already present...\n",
      "File already present...\n",
      "File already present...\n",
      "File already present...\n",
      "File already present...\n",
      "File already present...\n",
      "File already present...\n",
      "File already present...\n",
      "File already present...\n",
      "File already present...\n",
      "File already present...\n",
      "File already present...\n",
      "File already present...\n",
      "File already present...\n",
      "File already present...\n",
      "File already present...\n",
      "File already present...\n",
      "File already present...\n",
      "File already present...\n",
      "File already present...\n",
      "File already present...\n",
      "File already present...\n",
      "File already present...\n",
      "File already present...\n",
      "File already present...\n",
      "File already present...\n",
      "File already present...\n",
      "File already present...\n",
      "File already present...\n",
      "File already present...\n",
      "File already present...\n",
      "File already present...\n",
      "File already present...\n",
      "File already present...\n",
      "File already present...\n",
      "File already present...\n",
      "File already present...\n",
      "File already present...\n",
      "File already present...\n",
      "File already present...\n",
      "File already present...\n",
      "File already present...\n",
      "File already present...\n",
      "File already present...\n",
      "File already present...\n",
      "File already present...\n",
      "File already present...\n",
      "File already present...\n",
      "File already present...\n",
      "File already present...\n",
      "File already present...\n",
      "File already present...\n",
      "File already present...\n",
      "File already present...\n",
      "File already present...\n",
      "File already present...\n",
      "File already present...\n",
      "File already present...\n",
      "File already present...\n",
      "File already present...\n",
      "File already present...\n",
      "File already present...\n",
      "File already present...\n",
      "File already present...\n",
      "File already present...\n",
      "File already present...\n",
      "File already present...\n",
      "File already present...\n",
      "File already present...\n",
      "File already present...\n",
      "File already present...\n",
      "File already present...\n",
      "File already present...\n",
      "File already present...\n",
      "File already present...\n",
      "File already present...\n",
      "File already present...\n",
      "File already present...\n",
      "File already present...\n",
      "File already present...\n",
      "File already present...\n",
      "File already present...\n",
      "File already present...\n",
      "File already present...\n",
      "File already present...\n",
      "File already present...\n",
      "File already present...\n",
      "File already present...\n",
      "File already present...\n",
      "File already present...\n",
      "File already present...\n",
      "File already present...\n",
      "File already present...\n",
      "File already present...\n",
      "File already present...\n",
      "File already present...\n",
      "File already present...\n",
      "File already present...\n",
      "File already present...\n",
      "File already present...\n",
      "File already present...\n",
      "File already present...\n",
      "File already present...\n",
      "File already present...\n",
      "File already present...\n",
      "File already present...\n",
      "File already present...\n",
      "File already present...\n",
      "File already present...\n",
      "File already present...\n",
      "File already present...\n",
      "File already present...\n",
      "File already present...\n",
      "File already present...\n",
      "File already present...\n",
      "File already present...\n",
      "File already present...\n",
      "File already present...\n",
      "File already present...\n",
      "File already present...\n",
      "File already present...\n",
      "File already present...\n",
      "File already present...\n",
      "File already present...\n",
      "File already present...\n",
      "File already present...\n",
      "File already present...\n",
      "File already present...\n",
      "File already present...\n",
      "File already present...\n",
      "File already present...\n",
      "File already present...\n",
      "File already present...\n",
      "File already present...\n",
      "File already present...\n",
      "File already present...\n",
      "File already present...\n",
      "File already present...\n",
      "File already present...\n",
      "File already present...\n",
      "File already present...\n",
      "File already present...\n",
      "File already present...\n",
      "File already present...\n",
      "File already present...\n",
      "File already present...\n",
      "File already present...\n",
      "File already present...\n",
      "File already present...\n",
      "File already present...\n",
      "File already present...\n",
      "File already present...\n",
      "File already present...\n",
      "File already present...\n",
      "File already present...\n",
      "File already present...\n",
      "File already present...\n",
      "File already present...\n",
      "File already present...\n",
      "File already present...\n",
      "File already present...\n",
      "File already present...\n",
      "File already present...\n",
      "File already present...\n",
      "File already present...\n",
      "File already present...\n",
      "File already present...\n",
      "File already present...\n",
      "File already present...\n",
      "File already present...\n",
      "File already present...\n",
      "File already present...\n",
      "File already present...\n",
      "File already present...\n",
      "File already present...\n",
      "File already present...\n",
      "File already present...\n",
      "File already present...\n",
      "File already present...\n",
      "File already present...\n",
      "File already present...\n",
      "File already present...\n",
      "File already present...\n",
      "File already present...\n",
      "File already present...\n",
      "File already present...\n",
      "File already present...\n",
      "File already present...\n",
      "File already present...\n",
      "File already present...\n",
      "File already present...\n",
      "File already present...\n",
      "File already present...\n",
      "File already present...\n",
      "File already present...\n",
      "File already present...\n",
      "File already present...\n",
      "File already present...\n",
      "File already present...\n",
      "File already present...\n",
      "File already present...\n",
      "File already present...\n",
      "File already present...\n",
      "File already present...\n",
      "File already present...\n",
      "File already present...\n",
      "File already present...\n",
      "File already present...\n",
      "File already present...\n",
      "File already present...\n",
      "File already present...\n",
      "File already present...\n",
      "File already present...\n",
      "File already present...\n",
      "File already present...\n",
      "File already present...\n",
      "File already present...\n",
      "File already present...\n",
      "File already present...\n",
      "File already present...\n",
      "File already present...\n",
      "File already present...\n",
      "File already present...\n",
      "File already present...\n",
      "File already present...\n",
      "File already present...\n",
      "File already present...\n",
      "File already present...\n",
      "File already present...\n",
      "File already present...\n",
      "File already present...\n",
      "File already present...\n",
      "File already present...\n",
      "File already present...\n",
      "File already present...\n",
      "File already present...\n",
      "File already present...\n",
      "File already present...\n",
      "File already present...\n",
      "File already present...\n",
      "File already present...\n",
      "File already present...\n",
      "File already present...\n",
      "File already present...\n",
      "File already present...\n",
      "File already present...\n",
      "File already present...\n",
      "File already present...\n",
      "File already present...\n",
      "File already present...\n",
      "File already present...\n",
      "File already present...\n",
      "File already present...\n",
      "File already present...\n",
      "File already present...\n",
      "File already present...\n",
      "File already present...\n",
      "File already present...\n",
      "File already present...\n",
      "File already present...\n",
      "File already present...\n",
      "File already present...\n",
      "File already present...\n",
      "File already present...\n",
      "File already present...\n",
      "File already present...\n",
      "File already present...\n",
      "File already present...\n",
      "File already present...\n",
      "File already present...\n",
      "File already present...\n",
      "File already present...\n",
      "File already present...\n",
      "File already present...\n",
      "File already present...\n",
      "File already present...\n",
      "File already present...\n",
      "File already present...\n",
      "File already present...\n",
      "File already present...\n",
      "File already present...\n",
      "File already present...\n",
      "File already present...\n",
      "File already present...\n",
      "File already present...\n",
      "File already present...\n",
      "File already present...\n",
      "File already present...\n",
      "File already present...\n",
      "File already present...\n",
      "File already present...\n",
      "File already present...\n",
      "File already present...\n",
      "File already present...\n",
      "File already present...\n",
      "File already present...\n",
      "File already present...\n",
      "File already present...\n",
      "File already present...\n",
      "File already present...\n",
      "File already present...\n",
      "File already present...\n",
      "File already present...\n",
      "File already present...\n",
      "File already present...\n",
      "File already present...\n",
      "File already present...\n",
      "File already present...\n",
      "File already present...\n",
      "File already present...\n",
      "File already present...\n",
      "File already present...\n",
      "File already present...\n",
      "File already present...\n",
      "File already present...\n",
      "File already present...\n",
      "File already present...\n",
      "File already present...\n",
      "File already present...\n",
      "File already present...\n",
      "Path not present, making\n"
     ]
    },
    {
     "data": {
      "application/vnd.jupyter.widget-view+json": {
       "model_id": "9e141dc0c10c49c2a94322d0e704da29",
       "version_major": 2,
       "version_minor": 0
      },
      "text/plain": [
       "  0%|          | 0/8 [00:00<?, ?it/s]"
      ]
     },
     "metadata": {},
     "output_type": "display_data"
    },
    {
     "name": "stdout",
     "output_type": "stream",
     "text": [
      "File already present...\n",
      "File already present...\n",
      "File already present...\n",
      "File already present...\n",
      "File already present...\n",
      "File already present...\n",
      "File already present...\n",
      "File already present...\n"
     ]
    }
   ],
   "source": [
    "#Upload nearest-snotel dictionaries\n",
    "regionlist = ['SouthernRockies', 'Southwest', 'Northwest']\n",
    "output_res = 300\n",
    "\n",
    "#Get data\n",
    "for region in regionlist:\n",
    "    path = f\"SWEMLv2.0/data/ASO/{region}/\"\n",
    "\n",
    "    #Make directory if it does not exist\n",
    "    if not os.path.exists(f\"{HOME}/Test/{path}\"):\n",
    "        print(\"Path not present, making\")\n",
    "        os.makedirs(f\"{HOME}/{path}\", exist_ok=True)\n",
    "    \n",
    "    #Identify the potential files to download\n",
    "    files = [objects.key for objects in BUCKET.objects.filter(Prefix=path)]\n",
    "    \n",
    "    for file in tqdm_notebook(files):\n",
    "        #Make directory if it does not exist\n",
    "        if not os.path.exists(f\"{HOME}/{path}\"):\n",
    "            print(\"Path not present, making\")\n",
    "        os.makedirs( os.path.dirname(f\"{HOME}/{file}\"), exist_ok=True)\n",
    "       \n",
    "        #check to see if the file is there\n",
    "        if os.path.exists(f\"{HOME}/{file}\") == False:\n",
    "            print('Downloading file')\n",
    "            S3.Bucket(BUCKET_NAME).download_file(file, f\"{HOME}/{file}\")\n",
    "\n",
    "        else:\n",
    "            print('File already present...')\n"
   ]
  },
  {
   "cell_type": "code",
   "execution_count": null,
   "metadata": {},
   "outputs": [],
   "source": [
    "os.path.dirname(f\"{HOME}/Test/{file}\")"
   ]
  },
  {
   "cell_type": "code",
   "execution_count": null,
   "metadata": {},
   "outputs": [],
   "source": []
  },
  {
   "cell_type": "code",
   "execution_count": null,
   "metadata": {},
   "outputs": [],
   "source": []
  }
 ],
 "metadata": {
  "kernelspec": {
   "display_name": "SWEML_310",
   "language": "python",
   "name": "python3"
  },
  "language_info": {
   "codemirror_mode": {
    "name": "ipython",
    "version": 3
   },
   "file_extension": ".py",
   "mimetype": "text/x-python",
   "name": "python",
   "nbconvert_exporter": "python",
   "pygments_lexer": "ipython3",
   "version": "3.10.13"
  }
 },
 "nbformat": 4,
 "nbformat_minor": 2
}

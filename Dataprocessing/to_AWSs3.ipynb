{
 "cells": [
  {
   "cell_type": "markdown",
   "metadata": {},
   "source": [
    "# Push/Pull to AWS\n",
    "* Training DF files\n",
    "* then push other data"
   ]
  },
  {
   "cell_type": "code",
   "execution_count": 13,
   "metadata": {},
   "outputs": [
    {
     "name": "stdout",
     "output_type": "stream",
     "text": [
      "\n",
      "Caching the list of root modules, please wait!\n",
      "(This will only be done once - type '%rehashx' to reset cache!)\n",
      "\n"
     ]
    }
   ],
   "source": [
    "import pandas as pd\n",
    "import boto3\n",
    "import numpy as np\n",
    "import os\n",
    "from os import listdir\n",
    "from os.path import isfile, join\n",
    "from tqdm import tqdm_notebook\n",
    "import warnings\n",
    "from pathlib import Path\n",
    "\n",
    "warnings.filterwarnings(\"ignore\")\n",
    "#set path directory\n",
    "\n",
    "#load access key\n",
    "HOME = os.path.expanduser('~')\n",
    "KEYPATH = \"SWEMLv2.0/AWSaccessKeys.csv\"\n",
    "ACCESS = pd.read_csv(f\"{HOME}/{KEYPATH}\")\n",
    "\n",
    "#start session\n",
    "SESSION = boto3.Session(\n",
    "    aws_access_key_id=ACCESS['Access key ID'][0],\n",
    "    aws_secret_access_key=ACCESS['Secret access key'][0],\n",
    ")\n",
    "S3 = SESSION.resource('s3')\n",
    "#AWS BUCKET information\n",
    "BUCKET_NAME = 'national-snow-model'\n",
    "BUCKET = S3.Bucket(BUCKET_NAME)\n"
   ]
  },
  {
   "cell_type": "markdown",
   "metadata": {},
   "source": [
    "## Training DF regional files"
   ]
  },
  {
   "cell_type": "code",
   "execution_count": 42,
   "metadata": {},
   "outputs": [
    {
     "name": "stdout",
     "output_type": "stream",
     "text": [
      "SouthernRockies\n"
     ]
    },
    {
     "data": {
      "application/vnd.jupyter.widget-view+json": {
       "model_id": "768745de431f47c491c352cae3e73dd5",
       "version_major": 2,
       "version_minor": 0
      },
      "text/plain": [
       "  0%|          | 0/3 [00:00<?, ?it/s]"
      ]
     },
     "metadata": {},
     "output_type": "display_data"
    },
    {
     "name": "stdout",
     "output_type": "stream",
     "text": [
      "Folder name: Obsdf\n"
     ]
    },
    {
     "data": {
      "application/vnd.jupyter.widget-view+json": {
       "model_id": "87ded5b1fb5c4de38da6ee21a1139d80",
       "version_major": 2,
       "version_minor": 0
      },
      "text/plain": [
       "  0%|          | 0/14 [00:00<?, ?it/s]"
      ]
     },
     "metadata": {},
     "output_type": "display_data"
    },
    {
     "name": "stdout",
     "output_type": "stream",
     "text": [
      "Folder name: GeoObsDFs\n"
     ]
    },
    {
     "data": {
      "application/vnd.jupyter.widget-view+json": {
       "model_id": "cf29917a787f45b2bb93c85aedfb928a",
       "version_major": 2,
       "version_minor": 0
      },
      "text/plain": [
       "  0%|          | 0/14 [00:00<?, ?it/s]"
      ]
     },
     "metadata": {},
     "output_type": "display_data"
    },
    {
     "name": "stdout",
     "output_type": "stream",
     "text": [
      "Folder name: VIIRSGeoObsDFs\n"
     ]
    },
    {
     "data": {
      "application/vnd.jupyter.widget-view+json": {
       "model_id": "12104ce0cd6a4e57b318442de2c1c394",
       "version_major": 2,
       "version_minor": 0
      },
      "text/plain": [
       "0it [00:00, ?it/s]"
      ]
     },
     "metadata": {},
     "output_type": "display_data"
    },
    {
     "name": "stdout",
     "output_type": "stream",
     "text": [
      "Folder name: VIIRSGeoObsDFs/20_fSCA_Thresh\n"
     ]
    },
    {
     "data": {
      "application/vnd.jupyter.widget-view+json": {
       "model_id": "1c5f21354c1c4cefbd82c3c53505646d",
       "version_major": 2,
       "version_minor": 0
      },
      "text/plain": [
       "  0%|          | 0/14 [00:00<?, ?it/s]"
      ]
     },
     "metadata": {},
     "output_type": "display_data"
    },
    {
     "name": "stdout",
     "output_type": "stream",
     "text": [
      "Folder name: PrecipVIIRSGeoObsDFs\n"
     ]
    },
    {
     "data": {
      "application/vnd.jupyter.widget-view+json": {
       "model_id": "0671fd57821d49cb8bdb5c95e4eb2847",
       "version_major": 2,
       "version_minor": 0
      },
      "text/plain": [
       "0it [00:00, ?it/s]"
      ]
     },
     "metadata": {},
     "output_type": "display_data"
    },
    {
     "name": "stdout",
     "output_type": "stream",
     "text": [
      "Folder name: PrecipVIIRSGeoObsDFs/20_fSCA_Thresh\n"
     ]
    },
    {
     "data": {
      "application/vnd.jupyter.widget-view+json": {
       "model_id": "fd55ed34ec8344ff909f9c78cacbf458",
       "version_major": 2,
       "version_minor": 0
      },
      "text/plain": [
       "  0%|          | 0/14 [00:00<?, ?it/s]"
      ]
     },
     "metadata": {},
     "output_type": "display_data"
    },
    {
     "name": "stdout",
     "output_type": "stream",
     "text": [
      "Folder name: Seasonality_PrecipVIIRSGeoObsDFs\n"
     ]
    },
    {
     "data": {
      "application/vnd.jupyter.widget-view+json": {
       "model_id": "ca3754e3d5cc4625b12657bcf23e12f0",
       "version_major": 2,
       "version_minor": 0
      },
      "text/plain": [
       "0it [00:00, ?it/s]"
      ]
     },
     "metadata": {},
     "output_type": "display_data"
    },
    {
     "name": "stdout",
     "output_type": "stream",
     "text": [
      "Folder name: Seasonality_PrecipVIIRSGeoObsDFs/20_fSCA_Thresh\n"
     ]
    },
    {
     "data": {
      "application/vnd.jupyter.widget-view+json": {
       "model_id": "c6d67968c6e7463fa74b1f2eb5157b83",
       "version_major": 2,
       "version_minor": 0
      },
      "text/plain": [
       "  0%|          | 0/14 [00:00<?, ?it/s]"
      ]
     },
     "metadata": {},
     "output_type": "display_data"
    },
    {
     "name": "stdout",
     "output_type": "stream",
     "text": [
      "Southwest\n"
     ]
    },
    {
     "data": {
      "application/vnd.jupyter.widget-view+json": {
       "model_id": "81503f628fa949b19b4e9c4179cec6cf",
       "version_major": 2,
       "version_minor": 0
      },
      "text/plain": [
       "  0%|          | 0/3 [00:00<?, ?it/s]"
      ]
     },
     "metadata": {},
     "output_type": "display_data"
    },
    {
     "name": "stdout",
     "output_type": "stream",
     "text": [
      "Folder name: Obsdf\n"
     ]
    },
    {
     "data": {
      "application/vnd.jupyter.widget-view+json": {
       "model_id": "ec5a8dd0b5894dda90db1af09676da19",
       "version_major": 2,
       "version_minor": 0
      },
      "text/plain": [
       "  0%|          | 0/99 [00:00<?, ?it/s]"
      ]
     },
     "metadata": {},
     "output_type": "display_data"
    },
    {
     "name": "stdout",
     "output_type": "stream",
     "text": [
      "Folder name: VIIRSGeoObsDFs\n"
     ]
    },
    {
     "data": {
      "application/vnd.jupyter.widget-view+json": {
       "model_id": "98a8313750854ae6894bd40e579ed23b",
       "version_major": 2,
       "version_minor": 0
      },
      "text/plain": [
       "0it [00:00, ?it/s]"
      ]
     },
     "metadata": {},
     "output_type": "display_data"
    },
    {
     "name": "stdout",
     "output_type": "stream",
     "text": [
      "Folder name: VIIRSGeoObsDFs/20_fSCA_Thresh\n"
     ]
    },
    {
     "data": {
      "application/vnd.jupyter.widget-view+json": {
       "model_id": "99877e998f4b421c859be2b302f0c29d",
       "version_major": 2,
       "version_minor": 0
      },
      "text/plain": [
       "  0%|          | 0/99 [00:00<?, ?it/s]"
      ]
     },
     "metadata": {},
     "output_type": "display_data"
    },
    {
     "name": "stdout",
     "output_type": "stream",
     "text": [
      "Folder name: GeoObsDFs\n"
     ]
    },
    {
     "data": {
      "application/vnd.jupyter.widget-view+json": {
       "model_id": "0a131854391942cd984d71e21048b335",
       "version_major": 2,
       "version_minor": 0
      },
      "text/plain": [
       "  0%|          | 0/99 [00:00<?, ?it/s]"
      ]
     },
     "metadata": {},
     "output_type": "display_data"
    },
    {
     "name": "stdout",
     "output_type": "stream",
     "text": [
      "Folder name: PrecipVIIRSGeoObsDFs\n"
     ]
    },
    {
     "data": {
      "application/vnd.jupyter.widget-view+json": {
       "model_id": "72245034c761430fb3143027cdb5d3a5",
       "version_major": 2,
       "version_minor": 0
      },
      "text/plain": [
       "0it [00:00, ?it/s]"
      ]
     },
     "metadata": {},
     "output_type": "display_data"
    },
    {
     "name": "stdout",
     "output_type": "stream",
     "text": [
      "Folder name: PrecipVIIRSGeoObsDFs/20_fSCA_Thresh\n"
     ]
    },
    {
     "data": {
      "application/vnd.jupyter.widget-view+json": {
       "model_id": "b584631e5f8a42bab6aa70e3fa298013",
       "version_major": 2,
       "version_minor": 0
      },
      "text/plain": [
       "  0%|          | 0/99 [00:00<?, ?it/s]"
      ]
     },
     "metadata": {},
     "output_type": "display_data"
    },
    {
     "name": "stdout",
     "output_type": "stream",
     "text": [
      "Folder name: Seasonality_PrecipVIIRSGeoObsDFs\n"
     ]
    },
    {
     "data": {
      "application/vnd.jupyter.widget-view+json": {
       "model_id": "49dc2167b0544f94a25cdec1aeaf09ab",
       "version_major": 2,
       "version_minor": 0
      },
      "text/plain": [
       "0it [00:00, ?it/s]"
      ]
     },
     "metadata": {},
     "output_type": "display_data"
    },
    {
     "name": "stdout",
     "output_type": "stream",
     "text": [
      "Folder name: Seasonality_PrecipVIIRSGeoObsDFs/20_fSCA_Thresh\n"
     ]
    },
    {
     "data": {
      "application/vnd.jupyter.widget-view+json": {
       "model_id": "95d4d556579449a8b96dbbe1b4824885",
       "version_major": 2,
       "version_minor": 0
      },
      "text/plain": [
       "  0%|          | 0/99 [00:00<?, ?it/s]"
      ]
     },
     "metadata": {},
     "output_type": "display_data"
    },
    {
     "name": "stdout",
     "output_type": "stream",
     "text": [
      "Northwest\n"
     ]
    },
    {
     "data": {
      "application/vnd.jupyter.widget-view+json": {
       "model_id": "13fb5114d86a40a2abb6325365f0a07d",
       "version_major": 2,
       "version_minor": 0
      },
      "text/plain": [
       "  0%|          | 0/3 [00:00<?, ?it/s]"
      ]
     },
     "metadata": {},
     "output_type": "display_data"
    },
    {
     "name": "stdout",
     "output_type": "stream",
     "text": [
      "Folder name: Obsdf\n"
     ]
    },
    {
     "data": {
      "application/vnd.jupyter.widget-view+json": {
       "model_id": "e3d622be31d24fa7869113155b9e9e98",
       "version_major": 2,
       "version_minor": 0
      },
      "text/plain": [
       "  0%|          | 0/2 [00:00<?, ?it/s]"
      ]
     },
     "metadata": {},
     "output_type": "display_data"
    },
    {
     "name": "stdout",
     "output_type": "stream",
     "text": [
      "Folder name: GeoObsDFs\n"
     ]
    },
    {
     "data": {
      "application/vnd.jupyter.widget-view+json": {
       "model_id": "be3468ae2a304750a07981bbbcb6bc8c",
       "version_major": 2,
       "version_minor": 0
      },
      "text/plain": [
       "  0%|          | 0/2 [00:00<?, ?it/s]"
      ]
     },
     "metadata": {},
     "output_type": "display_data"
    },
    {
     "name": "stdout",
     "output_type": "stream",
     "text": [
      "Folder name: VIIRSGeoObsDFs\n"
     ]
    },
    {
     "data": {
      "application/vnd.jupyter.widget-view+json": {
       "model_id": "a7aa7dfb6867478a9de7e3e786b09a31",
       "version_major": 2,
       "version_minor": 0
      },
      "text/plain": [
       "0it [00:00, ?it/s]"
      ]
     },
     "metadata": {},
     "output_type": "display_data"
    },
    {
     "name": "stdout",
     "output_type": "stream",
     "text": [
      "Folder name: VIIRSGeoObsDFs/20_fSCA_Thresh\n"
     ]
    },
    {
     "data": {
      "application/vnd.jupyter.widget-view+json": {
       "model_id": "abb46f1934664d3781e7c2ab2c935776",
       "version_major": 2,
       "version_minor": 0
      },
      "text/plain": [
       "  0%|          | 0/2 [00:00<?, ?it/s]"
      ]
     },
     "metadata": {},
     "output_type": "display_data"
    },
    {
     "name": "stdout",
     "output_type": "stream",
     "text": [
      "Folder name: PrecipVIIRSGeoObsDFs\n"
     ]
    },
    {
     "data": {
      "application/vnd.jupyter.widget-view+json": {
       "model_id": "67b235ce531343ec8b72dafb30e63bdb",
       "version_major": 2,
       "version_minor": 0
      },
      "text/plain": [
       "0it [00:00, ?it/s]"
      ]
     },
     "metadata": {},
     "output_type": "display_data"
    },
    {
     "name": "stdout",
     "output_type": "stream",
     "text": [
      "Folder name: PrecipVIIRSGeoObsDFs/20_fSCA_Thresh\n"
     ]
    },
    {
     "data": {
      "application/vnd.jupyter.widget-view+json": {
       "model_id": "f1d7cc3102f6437b8f726eedd4fe612b",
       "version_major": 2,
       "version_minor": 0
      },
      "text/plain": [
       "  0%|          | 0/2 [00:00<?, ?it/s]"
      ]
     },
     "metadata": {},
     "output_type": "display_data"
    },
    {
     "name": "stdout",
     "output_type": "stream",
     "text": [
      "Folder name: Seasonality_PrecipVIIRSGeoObsDFs_20_fSCA_Thresh\n"
     ]
    },
    {
     "data": {
      "application/vnd.jupyter.widget-view+json": {
       "model_id": "7223933d60a944f896cd80d611ed9261",
       "version_major": 2,
       "version_minor": 0
      },
      "text/plain": [
       "0it [00:00, ?it/s]"
      ]
     },
     "metadata": {},
     "output_type": "display_data"
    },
    {
     "name": "stdout",
     "output_type": "stream",
     "text": [
      "Folder name: Seasonality_PrecipVIIRSGeoObsDFs\n"
     ]
    },
    {
     "data": {
      "application/vnd.jupyter.widget-view+json": {
       "model_id": "dbb3f66cbdc0418888077d2f108d7b74",
       "version_major": 2,
       "version_minor": 0
      },
      "text/plain": [
       "0it [00:00, ?it/s]"
      ]
     },
     "metadata": {},
     "output_type": "display_data"
    },
    {
     "name": "stdout",
     "output_type": "stream",
     "text": [
      "Folder name: Seasonality_PrecipVIIRSGeoObsDFs/20_fSCA_Thresh\n"
     ]
    },
    {
     "data": {
      "application/vnd.jupyter.widget-view+json": {
       "model_id": "c2435c4af7b7416c9f8ca53bd8297d33",
       "version_major": 2,
       "version_minor": 0
      },
      "text/plain": [
       "  0%|          | 0/2 [00:00<?, ?it/s]"
      ]
     },
     "metadata": {},
     "output_type": "display_data"
    }
   ],
   "source": [
    "#Upload nearest-snotel dictionaries\n",
    "regionlist = ['SouthernRockies', 'Southwest', 'Northwest']\n",
    "output_res = 300\n",
    "\n",
    "for region in regionlist:\n",
    "    print(region)\n",
    "    head_folder = f\"SWEMLv2.0/data/TrainingDFs/{region}/{output_res}M_Resolution/\"\n",
    "    head_folder_dir = f\"{HOME}/{head_folder}\"\n",
    "\n",
    "    #Get files only\n",
    "    files = [f for f in listdir(head_folder_dir) if isfile(join(head_folder_dir, f))]\n",
    "    for file in tqdm_notebook(files):\n",
    "        S3.meta.client.upload_file(Filename= f\"{head_folder_dir}{file}\", Bucket=BUCKET_NAME, Key=f\"{head_folder}{file}\")\n",
    "\n",
    "    #get list of directories to download\n",
    "    dirs = [ f.path for f in os.scandir(head_folder_dir) if f.is_dir() ]\n",
    "    for dir in dirs:\n",
    "        print(f\"Folder name: {dir.split('300M_Resolution/')[-1]}\")\n",
    "        awsfolderpath = f\"SWEMLv2.0{dir.split('SWEMLv2.0')[-1]}\"\n",
    "        headfolderpath = f\"{HOME}/{awsfolderpath}\"\n",
    "        files = [f for f in listdir(headfolderpath) if isfile(join(headfolderpath, f))]\n",
    "        for file in tqdm_notebook(files):\n",
    "            S3.meta.client.upload_file(Filename= f\"{headfolderpath}/{file}\", Bucket=BUCKET_NAME, Key=f\"{awsfolderpath}/{file}\")\n",
    "\n",
    "        #Get subfolders\n",
    "        subdirs = [ f.path for f in os.scandir(headfolderpath) if f.is_dir() ]\n",
    "        for dir in subdirs:\n",
    "            print(f\"Folder name: {dir.split('300M_Resolution/')[-1]}\")\n",
    "            awsfolderpath2 = f\"SWEMLv2.0{dir.split('SWEMLv2.0')[-1]}\"\n",
    "            headfolderpath2 = f\"{HOME}/{awsfolderpath2}\"\n",
    "            files = [f for f in listdir(headfolderpath2) if isfile(join(headfolderpath2, f))]\n",
    "            for file in tqdm_notebook(files):\n",
    "                S3.meta.client.upload_file(Filename= f\"{headfolderpath2}/{file}\", Bucket=BUCKET_NAME, Key=f\"{awsfolderpath2}/{file}\")\n",
    "\n",
    "\n",
    "\n",
    "        \n",
    "\n",
    "\n"
   ]
  },
  {
   "cell_type": "markdown",
   "metadata": {},
   "source": [
    "## Get files"
   ]
  },
  {
   "cell_type": "code",
   "execution_count": 45,
   "metadata": {},
   "outputs": [
    {
     "name": "stdout",
     "output_type": "stream",
     "text": [
      "File already present...\n",
      "File already present...\n",
      "File already present...\n",
      "File already present...\n",
      "File already present...\n",
      "File already present...\n",
      "File already present...\n",
      "File already present...\n",
      "File already present...\n",
      "File already present...\n",
      "File already present...\n",
      "File already present...\n",
      "File already present...\n",
      "File already present...\n",
      "File already present...\n",
      "File already present...\n",
      "File already present...\n",
      "File already present...\n",
      "File already present...\n",
      "File already present...\n",
      "File already present...\n",
      "File already present...\n",
      "File already present...\n",
      "File already present...\n",
      "File already present...\n",
      "File already present...\n",
      "File already present...\n",
      "File already present...\n",
      "File already present...\n",
      "File already present...\n",
      "File already present...\n",
      "File already present...\n",
      "File already present...\n",
      "File already present...\n",
      "File already present...\n",
      "File already present...\n",
      "File already present...\n",
      "File already present...\n",
      "File already present...\n",
      "File already present...\n",
      "File already present...\n",
      "File already present...\n",
      "File already present...\n",
      "File already present...\n",
      "File already present...\n",
      "File already present...\n",
      "File already present...\n",
      "File already present...\n",
      "File already present...\n",
      "File already present...\n",
      "File already present...\n",
      "File already present...\n",
      "File already present...\n",
      "File already present...\n",
      "File already present...\n",
      "File already present...\n",
      "File already present...\n",
      "File already present...\n",
      "File already present...\n",
      "File already present...\n",
      "File already present...\n",
      "File already present...\n",
      "File already present...\n",
      "File already present...\n",
      "File already present...\n",
      "File already present...\n",
      "File already present...\n",
      "File already present...\n",
      "File already present...\n",
      "File already present...\n",
      "File already present...\n",
      "File already present...\n",
      "File already present...\n",
      "File already present...\n",
      "File already present...\n",
      "File already present...\n",
      "File already present...\n",
      "File already present...\n",
      "File already present...\n",
      "File already present...\n",
      "File already present...\n",
      "File already present...\n",
      "File already present...\n",
      "File already present...\n",
      "File already present...\n",
      "File already present...\n",
      "File already present...\n",
      "File already present...\n",
      "File already present...\n",
      "File already present...\n",
      "File already present...\n",
      "File already present...\n",
      "File already present...\n",
      "File already present...\n",
      "File already present...\n",
      "File already present...\n",
      "File already present...\n",
      "File already present...\n",
      "File already present...\n",
      "File already present...\n",
      "File already present...\n",
      "File already present...\n",
      "File already present...\n",
      "File already present...\n",
      "File already present...\n",
      "File already present...\n",
      "File already present...\n",
      "File already present...\n",
      "File already present...\n",
      "File already present...\n",
      "File already present...\n",
      "File already present...\n",
      "File already present...\n",
      "File already present...\n",
      "File already present...\n",
      "File already present...\n",
      "File already present...\n",
      "File already present...\n",
      "File already present...\n",
      "File already present...\n",
      "File already present...\n",
      "File already present...\n",
      "File already present...\n",
      "File already present...\n",
      "File already present...\n",
      "File already present...\n",
      "File already present...\n",
      "File already present...\n",
      "File already present...\n",
      "File already present...\n",
      "File already present...\n",
      "File already present...\n",
      "File already present...\n",
      "File already present...\n",
      "File already present...\n",
      "File already present...\n",
      "File already present...\n",
      "File already present...\n",
      "File already present...\n",
      "File already present...\n",
      "File already present...\n",
      "File already present...\n",
      "File already present...\n",
      "File already present...\n",
      "File already present...\n",
      "File already present...\n",
      "File already present...\n",
      "File already present...\n",
      "File already present...\n",
      "File already present...\n",
      "File already present...\n",
      "File already present...\n",
      "File already present...\n",
      "File already present...\n",
      "File already present...\n",
      "File already present...\n",
      "File already present...\n",
      "File already present...\n",
      "File already present...\n",
      "File already present...\n",
      "File already present...\n",
      "File already present...\n",
      "File already present...\n",
      "File already present...\n",
      "File already present...\n",
      "File already present...\n",
      "File already present...\n",
      "File already present...\n",
      "File already present...\n",
      "File already present...\n",
      "File already present...\n",
      "File already present...\n",
      "File already present...\n",
      "File already present...\n",
      "File already present...\n",
      "File already present...\n",
      "File already present...\n",
      "File already present...\n",
      "File already present...\n",
      "File already present...\n",
      "File already present...\n",
      "File already present...\n",
      "File already present...\n",
      "File already present...\n",
      "File already present...\n",
      "File already present...\n",
      "File already present...\n",
      "File already present...\n",
      "File already present...\n",
      "File already present...\n",
      "File already present...\n",
      "File already present...\n",
      "File already present...\n",
      "File already present...\n",
      "File already present...\n",
      "File already present...\n",
      "File already present...\n",
      "File already present...\n",
      "File already present...\n",
      "File already present...\n",
      "File already present...\n",
      "File already present...\n",
      "File already present...\n",
      "File already present...\n",
      "File already present...\n",
      "File already present...\n",
      "File already present...\n",
      "File already present...\n",
      "File already present...\n",
      "File already present...\n",
      "File already present...\n",
      "File already present...\n",
      "File already present...\n",
      "File already present...\n",
      "File already present...\n",
      "File already present...\n",
      "File already present...\n",
      "File already present...\n",
      "File already present...\n",
      "File already present...\n",
      "File already present...\n",
      "File already present...\n",
      "File already present...\n",
      "File already present...\n",
      "File already present...\n",
      "File already present...\n",
      "File already present...\n",
      "File already present...\n",
      "File already present...\n",
      "File already present...\n",
      "File already present...\n",
      "File already present...\n",
      "File already present...\n",
      "File already present...\n",
      "File already present...\n",
      "File already present...\n",
      "File already present...\n",
      "File already present...\n",
      "File already present...\n",
      "File already present...\n",
      "File already present...\n",
      "File already present...\n",
      "File already present...\n",
      "File already present...\n",
      "File already present...\n",
      "File already present...\n",
      "File already present...\n",
      "File already present...\n",
      "File already present...\n",
      "File already present...\n",
      "File already present...\n",
      "File already present...\n",
      "File already present...\n",
      "File already present...\n",
      "File already present...\n",
      "File already present...\n",
      "File already present...\n",
      "File already present...\n",
      "File already present...\n",
      "File already present...\n",
      "File already present...\n",
      "File already present...\n",
      "File already present...\n",
      "File already present...\n",
      "File already present...\n",
      "File already present...\n",
      "File already present...\n",
      "File already present...\n",
      "File already present...\n",
      "File already present...\n",
      "File already present...\n",
      "File already present...\n",
      "File already present...\n",
      "File already present...\n",
      "File already present...\n",
      "File already present...\n",
      "File already present...\n",
      "File already present...\n",
      "File already present...\n",
      "File already present...\n",
      "File already present...\n",
      "File already present...\n",
      "File already present...\n",
      "File already present...\n",
      "File already present...\n",
      "File already present...\n",
      "File already present...\n",
      "File already present...\n",
      "File already present...\n",
      "File already present...\n",
      "File already present...\n",
      "File already present...\n",
      "File already present...\n",
      "File already present...\n",
      "File already present...\n",
      "File already present...\n",
      "File already present...\n",
      "File already present...\n",
      "File already present...\n",
      "File already present...\n",
      "File already present...\n",
      "File already present...\n",
      "File already present...\n",
      "File already present...\n",
      "File already present...\n",
      "File already present...\n",
      "File already present...\n",
      "File already present...\n",
      "File already present...\n",
      "File already present...\n",
      "File already present...\n",
      "File already present...\n",
      "File already present...\n",
      "File already present...\n",
      "File already present...\n",
      "File already present...\n",
      "File already present...\n",
      "File already present...\n",
      "File already present...\n",
      "File already present...\n",
      "File already present...\n",
      "File already present...\n",
      "File already present...\n",
      "File already present...\n",
      "File already present...\n",
      "File already present...\n",
      "File already present...\n",
      "File already present...\n",
      "File already present...\n",
      "File already present...\n",
      "File already present...\n",
      "File already present...\n",
      "File already present...\n",
      "File already present...\n",
      "File already present...\n",
      "File already present...\n",
      "File already present...\n",
      "File already present...\n",
      "File already present...\n",
      "File already present...\n",
      "File already present...\n",
      "File already present...\n",
      "File already present...\n",
      "File already present...\n",
      "File already present...\n",
      "File already present...\n",
      "File already present...\n",
      "File already present...\n",
      "File already present...\n",
      "File already present...\n",
      "File already present...\n",
      "File already present...\n",
      "File already present...\n",
      "File already present...\n",
      "File already present...\n",
      "File already present...\n",
      "File already present...\n",
      "File already present...\n",
      "File already present...\n",
      "File already present...\n",
      "File already present...\n",
      "File already present...\n",
      "File already present...\n",
      "File already present...\n",
      "File already present...\n",
      "File already present...\n",
      "File already present...\n",
      "File already present...\n",
      "File already present...\n",
      "File already present...\n",
      "File already present...\n",
      "File already present...\n",
      "File already present...\n",
      "File already present...\n",
      "File already present...\n",
      "File already present...\n",
      "File already present...\n",
      "File already present...\n",
      "File already present...\n",
      "File already present...\n",
      "File already present...\n",
      "File already present...\n",
      "File already present...\n",
      "File already present...\n",
      "File already present...\n",
      "File already present...\n",
      "File already present...\n",
      "File already present...\n",
      "File already present...\n",
      "File already present...\n",
      "File already present...\n",
      "File already present...\n",
      "File already present...\n",
      "File already present...\n",
      "File already present...\n",
      "File already present...\n",
      "File already present...\n",
      "File already present...\n",
      "File already present...\n",
      "File already present...\n",
      "File already present...\n",
      "File already present...\n",
      "File already present...\n",
      "File already present...\n",
      "File already present...\n",
      "File already present...\n",
      "File already present...\n",
      "File already present...\n",
      "File already present...\n",
      "File already present...\n",
      "File already present...\n",
      "File already present...\n",
      "File already present...\n",
      "File already present...\n",
      "File already present...\n",
      "File already present...\n",
      "File already present...\n",
      "File already present...\n",
      "File already present...\n",
      "File already present...\n",
      "File already present...\n",
      "File already present...\n",
      "File already present...\n",
      "File already present...\n",
      "File already present...\n",
      "File already present...\n",
      "File already present...\n",
      "File already present...\n",
      "File already present...\n",
      "File already present...\n",
      "File already present...\n",
      "File already present...\n",
      "File already present...\n",
      "File already present...\n",
      "File already present...\n",
      "File already present...\n",
      "File already present...\n",
      "File already present...\n",
      "File already present...\n",
      "File already present...\n",
      "File already present...\n",
      "File already present...\n",
      "File already present...\n",
      "File already present...\n",
      "File already present...\n",
      "File already present...\n",
      "File already present...\n",
      "File already present...\n",
      "File already present...\n",
      "File already present...\n",
      "File already present...\n",
      "File already present...\n",
      "File already present...\n",
      "File already present...\n",
      "File already present...\n",
      "File already present...\n",
      "File already present...\n",
      "File already present...\n",
      "File already present...\n",
      "File already present...\n",
      "File already present...\n",
      "File already present...\n",
      "File already present...\n",
      "File already present...\n",
      "File already present...\n",
      "File already present...\n",
      "File already present...\n",
      "File already present...\n",
      "File already present...\n",
      "File already present...\n",
      "File already present...\n",
      "File already present...\n",
      "File already present...\n",
      "File already present...\n",
      "File already present...\n",
      "File already present...\n",
      "File already present...\n",
      "File already present...\n",
      "File already present...\n",
      "File already present...\n",
      "File already present...\n",
      "File already present...\n",
      "File already present...\n",
      "File already present...\n",
      "File already present...\n",
      "File already present...\n",
      "File already present...\n",
      "File already present...\n",
      "File already present...\n",
      "File already present...\n",
      "File already present...\n",
      "File already present...\n",
      "File already present...\n",
      "File already present...\n",
      "File already present...\n",
      "File already present...\n",
      "File already present...\n",
      "File already present...\n",
      "File already present...\n",
      "File already present...\n",
      "File already present...\n",
      "File already present...\n",
      "File already present...\n",
      "File already present...\n",
      "File already present...\n",
      "File already present...\n",
      "File already present...\n",
      "File already present...\n",
      "File already present...\n",
      "File already present...\n",
      "File already present...\n",
      "File already present...\n",
      "File already present...\n",
      "File already present...\n",
      "File already present...\n",
      "File already present...\n",
      "File already present...\n",
      "File already present...\n",
      "File already present...\n",
      "File already present...\n",
      "File already present...\n",
      "File already present...\n",
      "File already present...\n",
      "File already present...\n",
      "File already present...\n",
      "File already present...\n",
      "File already present...\n",
      "File already present...\n",
      "File already present...\n",
      "File already present...\n",
      "File already present...\n",
      "File already present...\n",
      "File already present...\n",
      "File already present...\n",
      "File already present...\n",
      "File already present...\n",
      "File already present...\n",
      "File already present...\n",
      "File already present...\n",
      "File already present...\n",
      "File already present...\n",
      "File already present...\n",
      "File already present...\n",
      "File already present...\n",
      "File already present...\n",
      "File already present...\n",
      "File already present...\n",
      "File already present...\n",
      "File already present...\n",
      "File already present...\n",
      "File already present...\n",
      "File already present...\n",
      "File already present...\n",
      "File already present...\n",
      "File already present...\n",
      "File already present...\n",
      "File already present...\n",
      "File already present...\n",
      "File already present...\n",
      "File already present...\n",
      "File already present...\n",
      "File already present...\n",
      "File already present...\n",
      "File already present...\n",
      "File already present...\n",
      "File already present...\n",
      "File already present...\n",
      "File already present...\n",
      "File already present...\n",
      "File already present...\n",
      "File already present...\n",
      "File already present...\n",
      "File already present...\n",
      "File already present...\n",
      "File already present...\n",
      "File already present...\n",
      "File already present...\n",
      "File already present...\n",
      "File already present...\n",
      "File already present...\n",
      "File already present...\n",
      "File already present...\n",
      "File already present...\n",
      "File already present...\n"
     ]
    }
   ],
   "source": [
    "#Get data\n",
    "for region in regionlist:\n",
    "    path = f\"SWEMLv2.0/data/TrainingDFs/{region}/{output_res}M_Resolution/\"\n",
    "\n",
    "    #Make directory if it does not exist\n",
    "    if not os.path.exists(f\"{HOME}/{path}\"):\n",
    "        print(\"Path not present, making\")\n",
    "        os.makedirs(path, exist_ok=True)\n",
    "    \n",
    "    #Identify the potential files to download\n",
    "    files = [objects.key for objects in BUCKET.objects.filter(Prefix=f\"SWEMLv2.0/data/TrainingDFs/{region}/{output_res}M_Resolution\")]\n",
    "    \n",
    "    for file in files:\n",
    "        #check to see if the file is there\n",
    "        if os.path.exists(f\"{HOME}/{file}\") == False:\n",
    "            print('Downloading file')\n",
    "            S3.Bucket(BUCKET_NAME).download_file(file, f\"{path}/{file}\")\n",
    "\n",
    "        else:\n",
    "            print('File already present...')"
   ]
  },
  {
   "cell_type": "code",
   "execution_count": null,
   "metadata": {},
   "outputs": [],
   "source": []
  },
  {
   "cell_type": "code",
   "execution_count": null,
   "metadata": {},
   "outputs": [],
   "source": []
  }
 ],
 "metadata": {
  "kernelspec": {
   "display_name": "SWEML_310",
   "language": "python",
   "name": "python3"
  },
  "language_info": {
   "codemirror_mode": {
    "name": "ipython",
    "version": 3
   },
   "file_extension": ".py",
   "mimetype": "text/x-python",
   "name": "python",
   "nbconvert_exporter": "python",
   "pygments_lexer": "ipython3",
   "version": "3.10.13"
  }
 },
 "nbformat": 4,
 "nbformat_minor": 2
}

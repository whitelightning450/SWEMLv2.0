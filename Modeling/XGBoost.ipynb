{
 "cells": [
  {
   "cell_type": "code",
   "execution_count": 1,
   "metadata": {},
   "outputs": [
    {
     "name": "stdout",
     "output_type": "stream",
     "text": [
      "Device: cuda\n",
      "Device: cuda\n",
      "XGBoost development script, cuda\n"
     ]
    }
   ],
   "source": [
    "# basic packages\n",
    "import pandas as pd\n",
    "import os\n",
    "import warnings\n",
    "import pyarrow as pa\n",
    "import pyarrow.parquet as pq\n",
    "warnings.filterwarnings(\"ignore\")\n",
    "\n",
    "#Shared/Utility scripts\n",
    "import torch \n",
    "device = torch.device(\"cuda\" if torch.cuda.is_available() else \"cpu\")\n",
    "from model_scripts import Simple_Eval, dataloader, dataprocessor, xgb_model #had to pip install xgboost\n",
    "HOME = os.path.expanduser('~')\n",
    "\n",
    "modelname = 'XGBoost'\n",
    "model_path = f\"{HOME}/SWEMLv2.0/Model/{modelname}\"\n",
    "if not os.path.exists(model_path):\n",
    "    os.makedirs(model_path, exist_ok=True)\n",
    "print(f\"{modelname} development script, {device}\")"
   ]
  },
  {
   "cell_type": "code",
   "execution_count": 20,
   "metadata": {},
   "outputs": [
    {
     "name": "stdout",
     "output_type": "stream",
     "text": [
      "Concatenating 13 for the model dataframe development.\n"
     ]
    },
    {
     "data": {
      "application/vnd.jupyter.widget-view+json": {
       "model_id": "f6b7f42e5a004c95a537c09625cd0301",
       "version_major": 2,
       "version_minor": 0
      },
      "text/plain": [
       "  0%|          | 0/13 [00:00<?, ?it/s]"
      ]
     },
     "metadata": {},
     "output_type": "display_data"
    },
    {
     "name": "stdout",
     "output_type": "stream",
     "text": [
      "There are 271579 datapoints for model training/testing in the SouthernRockies modeling domain.\n",
      "Concatenating 97 for the model dataframe development.\n"
     ]
    },
    {
     "data": {
      "application/vnd.jupyter.widget-view+json": {
       "model_id": "ea4c677ee49d42e5846a5b0fc754dbd6",
       "version_major": 2,
       "version_minor": 0
      },
      "text/plain": [
       "  0%|          | 0/97 [00:00<?, ?it/s]"
      ]
     },
     "metadata": {},
     "output_type": "display_data"
    },
    {
     "name": "stdout",
     "output_type": "stream",
     "text": [
      "There are 2184173 datapoints for model training/testing in the Southwest modeling domain.\n",
      "Concatenating 2 for the model dataframe development.\n"
     ]
    },
    {
     "data": {
      "application/vnd.jupyter.widget-view+json": {
       "model_id": "8a6f5d8093f240c28fd86d2321c18aac",
       "version_major": 2,
       "version_minor": 0
      },
      "text/plain": [
       "  0%|          | 0/2 [00:00<?, ?it/s]"
      ]
     },
     "metadata": {},
     "output_type": "display_data"
    },
    {
     "name": "stdout",
     "output_type": "stream",
     "text": [
      "There are 170370 datapoints for model training/testing in the Northwest modeling domain.\n",
      "There are 2626122 datapoints for model training/testing in the overall modeling domain.\n"
     ]
    },
    {
     "data": {
      "text/plain": [
       "'for Vegetation_Sturm_Seasonality_PrecipVIIRSGeoObsDFs, ASO obs\\nput SW 2018-04-22, 2018-03-04, San Joaquin, in bad data folder seems too big for peaks\\nin Southern Rockies 2019-04-07, East River, way too high of values, put in bad data folder'"
      ]
     },
     "execution_count": 20,
     "metadata": {},
     "output_type": "execute_result"
    }
   ],
   "source": [
    "#load data\n",
    "regionlist = ['SouthernRockies', 'Southwest', 'Northwest']\n",
    "output_res = '300M_Resolution'\n",
    "DataFrame = 'Vegetation_Sturm_Seasonality_PrecipVIIRSGeoObsDFs'\n",
    "fSCA_thresh = '20_fSCA_Thresh'\n",
    "remove0swe = True #set to False to use all data, set to True to remove values under a certain threshold\n",
    "removeswe_thresh = 1 #value in cm to remove ASO obs/rows from. \n",
    "\n",
    "alldata = dataloader.get_ML_Data(regionlist, output_res, DataFrame, fSCA_thresh)\n",
    "\n",
    "#small adjustments to correct some data\n",
    "#aspect\n",
    "alldata['Aspect_Deg'] = alldata['Aspect_Deg']-270\n",
    "df = alldata[alldata['Aspect_Deg']>= 0]\n",
    "df['Aspect_Deg'] = abs(df['Aspect_Deg']-90)+270\n",
    "alldata.update(df)\n",
    "alldata['Aspect_Deg'] = abs(alldata['Aspect_Deg'])\n",
    "\n",
    "#Precip - looks like its in inches\n",
    "alldata['season_precip_cm'] = alldata['season_precip_cm']*2.54\n",
    "\n",
    "'''for Vegetation_Sturm_Seasonality_PrecipVIIRSGeoObsDFs, ASO obs\n",
    "put SW 2018-04-22, 2018-03-04, San Joaquin, in bad data folder seems too big for peaks\n",
    "in Southern Rockies 2019-04-07, East River, way too high of values, put in bad data folder'''"
   ]
  },
  {
   "cell_type": "markdown",
   "metadata": {},
   "source": [
    "## Pull out a test condition by date"
   ]
  },
  {
   "cell_type": "code",
   "execution_count": 30,
   "metadata": {},
   "outputs": [],
   "source": [
    "# Pulling out 3-29-2019 in Southwest\n",
    "#date = '2019-03-29' # Merced\n",
    "#date = '2019-04-19' # Blue\n",
    "date = '2019-03-25' # Taylor\n",
    "TestArea = alldata[alldata['Date'] == date]\n",
    "TestArea.reset_index(inplace=True, drop=True)\n",
    "\n",
    "#remove Test area data from training/testing dataset\n",
    "df = pd.concat([alldata, TestArea]).drop_duplicates(keep=False)"
   ]
  },
  {
   "cell_type": "markdown",
   "metadata": {},
   "source": [
    "# Data Processing"
   ]
  },
  {
   "cell_type": "code",
   "execution_count": 31,
   "metadata": {},
   "outputs": [
    {
     "name": "stdout",
     "output_type": "stream",
     "text": [
      "The provided data contains 2603429 data points, of which 371330 locations/timesteps show no SWE and VIIRS fsca > 20%\n",
      "271020 locations/timesteps show SWE and VIIRS fsca < 20%\n",
      "0 locations/timesteps show SWE greater than a realistic value (250 cm) in the SouthernRockies domain\n",
      "20 locations/timesteps show SWE greater than a realistic value (400 cm) in the Southwest domain\n",
      "47 locations/timesteps show SWE greater than a realistic value (800 cm) in the Northwest domain\n",
      "removing..\n",
      "There are 1961032 datapoints for model training/testing.\n",
      "There are 843699 in the training dataset, removing 1117333 zero values in the ASO dataset, VIIRS fSCA will capture these.\n"
     ]
    }
   ],
   "source": [
    "#clean the data\n",
    "df = dataprocessor.data_clean(df, regionlist)\n",
    "df.head()\n",
    "\n",
    "#temporary for seasonality relationship\n",
    "df.fillna(1, inplace = True)\n",
    "\n",
    "#convert dates to datetime format\n",
    "df.Date = pd.to_datetime(df.Date)\n",
    "\n",
    "input_columns = [\n",
    "            'cen_lat',\t\n",
    "            'cen_lon',\t\n",
    "            'Elevation_m',\t\n",
    "            'Slope_Deg',\t\n",
    "            'Aspect_Deg',\t\n",
    "            'ns_1',\t\n",
    "            'ns_2',\t\n",
    "            'ns_3',\t\n",
    "            'ns_4',\t\n",
    "            'ns_5',\t\n",
    "            #'ns_6',\t\n",
    "            #'VIIRS_SCA', \n",
    "            'hasSnow',\n",
    "            'season_precip_cm',\n",
    "            'region_class',\n",
    "            'DOS', \n",
    "            'WY_week',\n",
    "            'ns_1_week_mean', \n",
    "            'ns_2_week_mean', \n",
    "            'ns_3_week_mean', \n",
    "            'ns_4_week_mean',\n",
    "            'ns_5_week_mean', \n",
    "            #'ns_6_week_mean', \n",
    "            'Seasonal_ns_1_rel',\n",
    "            'Seasonal_ns_2_rel',\n",
    "            'Seasonal_ns_3_rel', \n",
    "            'Seasonal_ns_4_rel',\n",
    "            'Seasonal_ns_5_rel', \n",
    "            #'Seasonal_ns_6_rel',\n",
    "            'sturm_value',\n",
    "           # 'vegetation_value'\n",
    "]\n",
    "\n",
    "\n",
    "\n",
    "years = False\n",
    "splitratio = 0.1\n",
    "test_years = [2019]\n",
    "target = 'swe_cm'\n",
    "remove0swe = True #set to False to use all data, set to True to remove values under a certain threshold\n",
    "removeswe_thresh = 1 #value in cm to remove ASO obs/rows from. \n",
    "#remove the large amounts of zero values\n",
    "df = dataloader.remove0swe(df, remove0swe, removeswe_thresh)\n",
    "\n",
    "\n",
    "#fit a scaler,save, and scale the training data\n",
    "x_train, y_train, x_test, y_test = dataprocessor.xgb_processor(\n",
    "                                                    regionlist,\n",
    "                                                      df, \n",
    "                                                      years, \n",
    "                                                      splitratio,\n",
    "                                                      test_years, \n",
    "                                                      target, \n",
    "                                                      input_columns, \n",
    "                                                      model_path, \n",
    "                                                      scalertype = 'MinMax'\n",
    "                                                      )"
   ]
  },
  {
   "cell_type": "markdown",
   "metadata": {},
   "source": [
    "# Train Model"
   ]
  },
  {
   "cell_type": "code",
   "execution_count": 32,
   "metadata": {},
   "outputs": [
    {
     "name": "stdout",
     "output_type": "stream",
     "text": [
      "Trial Number 0 ==========================================================\n",
      "Tuning hyperparametetrs on 25.0% of training data\n",
      "Fitting 3 folds for each of 1 candidates, totalling 3 fits\n",
      "[CV 3/3] END eta=0.1, max_depth=8, n_estimators=3500;, score=-11.533 total time=  40.0s\n",
      "[CV 2/3] END eta=0.1, max_depth=8, n_estimators=3500;, score=-6.158 total time=  43.6s\n",
      "[CV 1/3] END eta=0.1, max_depth=8, n_estimators=3500;, score=-4.982 total time=  45.3s\n",
      "Best parameters found: {'eta': 0.1, 'max_depth': 8, 'n_estimators': 3500}\n",
      "Best RMSE: -7.557436658833958\n",
      "Mean MAE: 6.438 (0.063)\n",
      "Training model with optimized hyperparameters\n"
     ]
    },
    {
     "data": {
      "image/png": "[encoded data removed]",
      "text/plain": [
       "<Figure size 640x480 with 1 Axes>"
      ]
     },
     "metadata": {},
     "output_type": "display_data"
    },
    {
     "name": "stdout",
     "output_type": "stream",
     "text": [
      "Saving Model\n",
      "Run is Done!Run Time: 397.50162744522095 seconds \n",
      "Model Predictions complete\n"
     ]
    }
   ],
   "source": [
    "#Train model\n",
    "tries = 1 #what is tries?\n",
    "hyperparameters = {\n",
    "    'max_depth': [8], #range (10, 21, 5),\n",
    "    'n_estimators': [3500], #range(500, 1600, 500),\n",
    "    'eta': [0.1,]\n",
    "}\n",
    "perc_data = 0.25 # percent of training data used to identify optimal hyperparameters\n",
    "\n",
    "Use_fSCA_Threshold = True\n",
    "\n",
    "xgb_model.XGB_Train(model_path, \n",
    "                    input_columns, \n",
    "                    x_train, \n",
    "                    y_train, \n",
    "                    tries, \n",
    "                    hyperparameters,\n",
    "                    perc_data)\n",
    "\n",
    "#Make a prediction for each location, save as compressed pkl file, and send predictions to AWS for use in CSES\n",
    "PredsDF = pd.DataFrame()\n",
    "PredsDF = xgb_model.XGB_Predict(\n",
    "                    model_path, \n",
    "                    modelname, \n",
    "                    x_test,\n",
    "                    y_test,\n",
    "                    Use_fSCA_Threshold\n",
    "                    )"
   ]
  },
  {
   "cell_type": "code",
   "execution_count": 35,
   "metadata": {},
   "outputs": [
    {
     "name": "stdout",
     "output_type": "stream",
     "text": [
      "1000\n"
     ]
    },
    {
     "ename": "ValueError",
     "evalue": "cannot insert cell_id, already exists",
     "output_type": "error",
     "traceback": [
      "\u001b[0;31m---------------------------------------------------------------------------\u001b[0m",
      "\u001b[0;31mValueError\u001b[0m                                Traceback (most recent call last)",
      "\u001b[0;32m/tmp/ipykernel_32351/1074076791.py\u001b[0m in \u001b[0;36m?\u001b[0;34m()\u001b[0m\n\u001b[1;32m      1\u001b[0m \u001b[0;31m#Take a sample to determine model skill - Take 1000 from each modeling domain\u001b[0m\u001b[0;34m\u001b[0m\u001b[0;34m\u001b[0m\u001b[0m\n\u001b[1;32m      2\u001b[0m \u001b[0mn_samples\u001b[0m \u001b[0;34m=\u001b[0m \u001b[0;36m1000\u001b[0m\u001b[0;34m\u001b[0m\u001b[0;34m\u001b[0m\u001b[0m\n\u001b[0;32m----> 3\u001b[0;31m \u001b[0mSampleDF\u001b[0m\u001b[0;34m,\u001b[0m \u001b[0mPredsDF\u001b[0m \u001b[0;34m=\u001b[0m \u001b[0mSimple_Eval\u001b[0m\u001b[0;34m.\u001b[0m\u001b[0mSamplePreds\u001b[0m\u001b[0;34m(\u001b[0m\u001b[0mregionlist\u001b[0m\u001b[0;34m,\u001b[0m \u001b[0mPredsDF\u001b[0m\u001b[0;34m,\u001b[0m \u001b[0mdf\u001b[0m\u001b[0;34m,\u001b[0m \u001b[0mn_samples\u001b[0m\u001b[0;34m)\u001b[0m\u001b[0;34m\u001b[0m\u001b[0;34m\u001b[0m\u001b[0m\n\u001b[0m\u001b[1;32m      4\u001b[0m \u001b[0;34m\u001b[0m\u001b[0m\n\u001b[1;32m      5\u001b[0m \u001b[0;34m\u001b[0m\u001b[0m\n\u001b[1;32m      6\u001b[0m \u001b[0msavfig\u001b[0m \u001b[0;34m=\u001b[0m \u001b[0;32mTrue\u001b[0m\u001b[0;34m\u001b[0m\u001b[0;34m\u001b[0m\u001b[0m\n",
      "\u001b[0;32m~/SWEMLv2.0/Modeling/model_scripts/Simple_Eval.py\u001b[0m in \u001b[0;36m?\u001b[0;34m(regionlist, PredsDF, df, n_samples)\u001b[0m\n\u001b[1;32m    145\u001b[0m \u001b[0;32mdef\u001b[0m \u001b[0mSamplePreds\u001b[0m\u001b[0;34m(\u001b[0m\u001b[0mregionlist\u001b[0m\u001b[0;34m,\u001b[0m \u001b[0mPredsDF\u001b[0m\u001b[0;34m,\u001b[0m \u001b[0mdf\u001b[0m\u001b[0;34m,\u001b[0m\u001b[0mn_samples\u001b[0m\u001b[0;34m)\u001b[0m\u001b[0;34m:\u001b[0m\u001b[0;34m\u001b[0m\u001b[0;34m\u001b[0m\u001b[0m\n\u001b[1;32m    146\u001b[0m     \u001b[0mprint\u001b[0m\u001b[0;34m(\u001b[0m\u001b[0mn_samples\u001b[0m\u001b[0;34m)\u001b[0m\u001b[0;34m\u001b[0m\u001b[0;34m\u001b[0m\u001b[0m\n\u001b[0;32m--> 147\u001b[0;31m     \u001b[0mPredsDF\u001b[0m\u001b[0;34m.\u001b[0m\u001b[0minsert\u001b[0m\u001b[0;34m(\u001b[0m\u001b[0;36m0\u001b[0m\u001b[0;34m,\u001b[0m \u001b[0;34m'cell_id'\u001b[0m\u001b[0;34m,\u001b[0m \u001b[0mdf\u001b[0m\u001b[0;34m[\u001b[0m\u001b[0;34m'cell_id'\u001b[0m\u001b[0;34m]\u001b[0m\u001b[0;34m)\u001b[0m\u001b[0;34m\u001b[0m\u001b[0;34m\u001b[0m\u001b[0m\n\u001b[0m\u001b[1;32m    148\u001b[0m     \u001b[0mPredsDF\u001b[0m\u001b[0;34m.\u001b[0m\u001b[0minsert\u001b[0m\u001b[0;34m(\u001b[0m\u001b[0;36m1\u001b[0m\u001b[0;34m,\u001b[0m \u001b[0;34m'Date'\u001b[0m\u001b[0;34m,\u001b[0m \u001b[0mdf\u001b[0m\u001b[0;34m[\u001b[0m\u001b[0;34m'Date'\u001b[0m\u001b[0;34m]\u001b[0m\u001b[0;34m)\u001b[0m\u001b[0;34m\u001b[0m\u001b[0;34m\u001b[0m\u001b[0m\n\u001b[1;32m    149\u001b[0m     \u001b[0mPredsDF\u001b[0m\u001b[0;34m.\u001b[0m\u001b[0minsert\u001b[0m\u001b[0;34m(\u001b[0m\u001b[0;36m2\u001b[0m\u001b[0;34m,\u001b[0m \u001b[0;34m'region'\u001b[0m\u001b[0;34m,\u001b[0m \u001b[0mdf\u001b[0m\u001b[0;34m[\u001b[0m\u001b[0;34m'region'\u001b[0m\u001b[0;34m]\u001b[0m\u001b[0;34m)\u001b[0m\u001b[0;34m\u001b[0m\u001b[0;34m\u001b[0m\u001b[0m\n\u001b[1;32m    150\u001b[0m \u001b[0;34m\u001b[0m\u001b[0m\n",
      "\u001b[0;32m~/mambaforge/envs/SWEML_310/lib/python3.10/site-packages/pandas/core/frame.py\u001b[0m in \u001b[0;36m?\u001b[0;34m(self, loc, column, value, allow_duplicates)\u001b[0m\n\u001b[1;32m   5154\u001b[0m                 \u001b[0;34m\"'self.flags.allows_duplicate_labels' is False.\"\u001b[0m\u001b[0;34m\u001b[0m\u001b[0;34m\u001b[0m\u001b[0m\n\u001b[1;32m   5155\u001b[0m             )\n\u001b[1;32m   5156\u001b[0m         \u001b[0;32mif\u001b[0m \u001b[0;32mnot\u001b[0m \u001b[0mallow_duplicates\u001b[0m \u001b[0;32mand\u001b[0m \u001b[0mcolumn\u001b[0m \u001b[0;32min\u001b[0m \u001b[0mself\u001b[0m\u001b[0;34m.\u001b[0m\u001b[0mcolumns\u001b[0m\u001b[0;34m:\u001b[0m\u001b[0;34m\u001b[0m\u001b[0;34m\u001b[0m\u001b[0m\n\u001b[1;32m   5157\u001b[0m             \u001b[0;31m# Should this be a different kind of error??\u001b[0m\u001b[0;34m\u001b[0m\u001b[0;34m\u001b[0m\u001b[0m\n\u001b[0;32m-> 5158\u001b[0;31m             \u001b[0;32mraise\u001b[0m \u001b[0mValueError\u001b[0m\u001b[0;34m(\u001b[0m\u001b[0;34mf\"cannot insert {column}, already exists\"\u001b[0m\u001b[0;34m)\u001b[0m\u001b[0;34m\u001b[0m\u001b[0;34m\u001b[0m\u001b[0m\n\u001b[0m\u001b[1;32m   5159\u001b[0m         \u001b[0;32mif\u001b[0m \u001b[0;32mnot\u001b[0m \u001b[0mis_integer\u001b[0m\u001b[0;34m(\u001b[0m\u001b[0mloc\u001b[0m\u001b[0;34m)\u001b[0m\u001b[0;34m:\u001b[0m\u001b[0;34m\u001b[0m\u001b[0;34m\u001b[0m\u001b[0m\n\u001b[1;32m   5160\u001b[0m             \u001b[0;32mraise\u001b[0m \u001b[0mTypeError\u001b[0m\u001b[0;34m(\u001b[0m\u001b[0;34m\"loc must be int\"\u001b[0m\u001b[0;34m)\u001b[0m\u001b[0;34m\u001b[0m\u001b[0;34m\u001b[0m\u001b[0m\n\u001b[1;32m   5161\u001b[0m         \u001b[0;31m# convert non stdlib ints to satisfy typing checks\u001b[0m\u001b[0;34m\u001b[0m\u001b[0;34m\u001b[0m\u001b[0m\n",
      "\u001b[0;31mValueError\u001b[0m: cannot insert cell_id, already exists"
     ]
    }
   ],
   "source": [
    "#Take a sample to determine model skill - Take 1000 from each modeling domain\n",
    "n_samples = 1000\n",
    "SampleDF, PredsDF = Simple_Eval.SamplePreds(regionlist, PredsDF, df, n_samples)\n",
    "\n",
    "\n",
    "savfig = True\n",
    "figname = 'Model-Testing-Split-Performance'\n",
    "\n",
    " #Evaluate model performance of the different models\n",
    "prediction_columns = [f\"{modelname}_swe_cm\"]\n",
    "Eval_DF = Simple_Eval.Simple_Eval(regionlist,\n",
    "                                SampleDF,\n",
    "                                prediction_columns, \n",
    "                                modelname, \n",
    "                                savfig, \n",
    "                                figname,\n",
    "                                plots = False, \n",
    "                                keystats = False        \n",
    "                                )"
   ]
  },
  {
   "cell_type": "code",
   "execution_count": 20,
   "metadata": {},
   "outputs": [],
   "source": [
    "Ppath = f\"{HOME}/SWEMLv2.0/Predictions/{DataFrame}/{output_res}/{fSCA_thresh}\"\n",
    "if not os.path.exists(Ppath):\n",
    "    os.makedirs(Ppath, exist_ok=True)\n",
    "\n",
    "\n",
    "#save the model predictions\n",
    "table = pa.Table.from_pandas(PredsDF)\n",
    "# Parquet with Brotli compression\n",
    "pq.write_table(table, f\"{Ppath}/Test_preds.parquet\", compression='BROTLI')"
   ]
  },
  {
   "cell_type": "code",
   "execution_count": null,
   "metadata": {},
   "outputs": [],
   "source": []
  },
  {
   "cell_type": "markdown",
   "metadata": {},
   "source": [
    "## Make a prediction on the held out date\n"
   ]
  },
  {
   "cell_type": "code",
   "execution_count": 36,
   "metadata": {},
   "outputs": [
    {
     "name": "stdout",
     "output_type": "stream",
     "text": [
      "Model Predictions complete\n"
     ]
    }
   ],
   "source": [
    "\n",
    "#Prep prediction data\n",
    "y_test_Area = pd.DataFrame(TestArea['swe_cm'])\n",
    "dropcols = ['cell_id',\t'Date', 'swe_cm', 'region']\n",
    "x_test_Area = TestArea.drop(columns=dropcols)\n",
    "x_test_Area = x_test_Area[input_columns]\n",
    "\n",
    "#make a prediction\n",
    "holdoutdate = xgb_model.XGB_Predict(\n",
    "                    model_path, \n",
    "                    modelname, \n",
    "                    x_test_Area,\n",
    "                    y_test_Area,\n",
    "                    Use_fSCA_Threshold\n",
    "                    )\n",
    "#Add geospatial information to prediction DF\n",
    "EvalDF = pd.concat([TestArea, holdoutdate], axis=1)\n",
    "#EvalDF.drop(['index'], axis=1, inplace=True)\n",
    "EvalDF = EvalDF.loc[:,~EvalDF.columns.duplicated()].copy()\n",
    "\n",
    "EvalDF.head(5)\n",
    "\n",
    "Ppath = f\"{HOME}/SWEMLv2.0/Predictions/{DataFrame}/{output_res}/{fSCA_thresh}\"\n",
    "if not os.path.exists(Ppath):\n",
    "    os.makedirs(Ppath, exist_ok=True)\n",
    "\n",
    "\n",
    "#save the model predictions\n",
    "table = pa.Table.from_pandas(EvalDF)\n",
    "# Parquet with Brotli compression\n",
    "pq.write_table(table, f\"{Ppath}/0SWEthresh_All_Feats_HoldOut_{date}.parquet\", compression='BROTLI')"
   ]
  },
  {
   "cell_type": "code",
   "execution_count": 29,
   "metadata": {},
   "outputs": [
    {
     "data": {
      "text/html": [
       "<div>\n",
       "<style scoped>\n",
       "    .dataframe tbody tr th:only-of-type {\n",
       "        vertical-align: middle;\n",
       "    }\n",
       "\n",
       "    .dataframe tbody tr th {\n",
       "        vertical-align: top;\n",
       "    }\n",
       "\n",
       "    .dataframe thead th {\n",
       "        text-align: right;\n",
       "    }\n",
       "</style>\n",
       "<table border=\"1\" class=\"dataframe\">\n",
       "  <thead>\n",
       "    <tr style=\"text-align: right;\">\n",
       "      <th></th>\n",
       "      <th>cell_id</th>\n",
       "      <th>Date</th>\n",
       "      <th>cen_lat</th>\n",
       "      <th>cen_lon</th>\n",
       "      <th>Elevation_m</th>\n",
       "      <th>Slope_Deg</th>\n",
       "      <th>Aspect_Deg</th>\n",
       "      <th>ns_1</th>\n",
       "      <th>ns_2</th>\n",
       "      <th>ns_3</th>\n",
       "      <th>...</th>\n",
       "      <th>Seasonal_ns_4_rel</th>\n",
       "      <th>Seasonal_ns_5_rel</th>\n",
       "      <th>Seasonal_ns_6_rel</th>\n",
       "      <th>sturm_value</th>\n",
       "      <th>vegetation_value</th>\n",
       "      <th>swe_cm</th>\n",
       "      <th>region</th>\n",
       "      <th>region_class</th>\n",
       "      <th>ASO_swe_cm</th>\n",
       "      <th>XGBoost_swe_cm</th>\n",
       "    </tr>\n",
       "  </thead>\n",
       "  <tbody>\n",
       "  </tbody>\n",
       "</table>\n",
       "<p>0 rows × 37 columns</p>\n",
       "</div>"
      ],
      "text/plain": [
       "Empty DataFrame\n",
       "Columns: [cell_id, Date, cen_lat, cen_lon, Elevation_m, Slope_Deg, Aspect_Deg, ns_1, ns_2, ns_3, ns_4, ns_5, ns_6, VIIRS_SCA, hasSnow, season_precip_cm, DOS, WY_week, ns_1_week_mean, ns_2_week_mean, ns_3_week_mean, ns_4_week_mean, ns_5_week_mean, ns_6_week_mean, Seasonal_ns_1_rel, Seasonal_ns_2_rel, Seasonal_ns_3_rel, Seasonal_ns_4_rel, Seasonal_ns_5_rel, Seasonal_ns_6_rel, sturm_value, vegetation_value, swe_cm, region, region_class, ASO_swe_cm, XGBoost_swe_cm]\n",
       "Index: []\n",
       "\n",
       "[0 rows x 37 columns]"
      ]
     },
     "execution_count": 29,
     "metadata": {},
     "output_type": "execute_result"
    }
   ],
   "source": [
    "EvalDF"
   ]
  },
  {
   "cell_type": "code",
   "execution_count": null,
   "metadata": {},
   "outputs": [],
   "source": []
  }
 ],
 "metadata": {
  "kernelspec": {
   "display_name": "SWEML_310",
   "language": "python",
   "name": "python3"
  },
  "language_info": {
   "codemirror_mode": {
    "name": "ipython",
    "version": 3
   },
   "file_extension": ".py",
   "mimetype": "text/x-python",
   "name": "python",
   "nbconvert_exporter": "python",
   "pygments_lexer": "ipython3",
   "version": "3.10.13"
  }
 },
 "nbformat": 4,
 "nbformat_minor": 2
}
